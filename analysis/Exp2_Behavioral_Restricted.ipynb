{
 "cells": [
  {
   "cell_type": "markdown",
   "metadata": {},
   "source": [
    "# Eye Track Data"
   ]
  },
  {
   "cell_type": "markdown",
   "metadata": {},
   "source": [
    "This notebook looks at eye gaze data from experiment 2, and re-analyzes the behavioral data controlling for gaze"
   ]
  },
  {
   "cell_type": "code",
   "execution_count": 1,
   "metadata": {},
   "outputs": [],
   "source": [
    "import json; import re; import ast; import pandas as pd; from datetime import datetime; import time; import hypertools as hyp\n",
    "import numpy as np; from matplotlib import pyplot as plt; import os; from matplotlib import patches as patches; import seaborn as sb\n",
    "import warnings; import scipy; import pickle; import statsmodels.api as sm; import statsmodels.formula.api as smf\n",
    "from statsmodels.formula.api import ols; import pingouin; from itertools import combinations;\n",
    "from analysis_helpers import *; from pydoc import help; from scipy.stats.stats import pearsonr\n",
    "warnings.filterwarnings('ignore')\n",
    "%matplotlib inline"
   ]
  },
  {
   "cell_type": "markdown",
   "metadata": {},
   "source": [
    "# Load Parsed Data"
   ]
  },
  {
   "cell_type": "code",
   "execution_count": 2,
   "metadata": {},
   "outputs": [],
   "source": [
    "eye_df = pd.DataFrame.from_csv('/Users/kirstenziman/Documents/attention-memory-task/eye_df.csv')\n",
    "behav_full = pd.DataFrame.from_csv('/Users/kirstenziman/Documents/attention-memory-task/behavioral.csv')"
   ]
  },
  {
   "cell_type": "code",
   "execution_count": 3,
   "metadata": {},
   "outputs": [],
   "source": [
    "# eye_df[eye_df['av_x_coord']==0]"
   ]
  },
  {
   "cell_type": "code",
   "execution_count": 4,
   "metadata": {},
   "outputs": [],
   "source": [
    "counting = eye_df.groupby(['Trial','Subject','Run'], as_index=False).count()\n",
    "# counting['av_x_coord']"
   ]
  },
  {
   "cell_type": "code",
   "execution_count": 5,
   "metadata": {},
   "outputs": [],
   "source": [
    "eye_df['Subject'].unique()\n",
    "eye_df.loc[eye_df['Subject']==32,'Subject']=327"
   ]
  },
  {
   "cell_type": "markdown",
   "metadata": {},
   "source": [
    "# familiarity by gaze and category"
   ]
  },
  {
   "cell_type": "code",
   "execution_count": 6,
   "metadata": {},
   "outputs": [],
   "source": [
    "eye_behav = pd.merge(behav_full, eye_df.groupby(['Subject','Run','Trial'], as_index=False).mean(), on=['Subject','Trial','Run'])\n",
    "eye_behav_full = pd.concat([eye_behav, behav_full[behav_full['Trial Type']=='Memory']])"
   ]
  },
  {
   "cell_type": "code",
   "execution_count": 7,
   "metadata": {},
   "outputs": [],
   "source": [
    "eye_behav_full.to_csv('eye_behav_full.csv')\n",
    "eye_behav.to_csv('eye_behav.csv')"
   ]
  },
  {
   "cell_type": "code",
   "execution_count": 8,
   "metadata": {},
   "outputs": [],
   "source": [
    "# eye_behav_full"
   ]
  },
  {
   "cell_type": "markdown",
   "metadata": {},
   "source": [
    "# +/- 1 data, +/- 1.5 data"
   ]
  },
  {
   "cell_type": "code",
   "execution_count": 9,
   "metadata": {},
   "outputs": [
    {
     "data": {
      "text/plain": [
       "(160, 27)"
      ]
     },
     "execution_count": 9,
     "metadata": {},
     "output_type": "execute_result"
    }
   ],
   "source": [
    "behav_full[(behav_full['Subject']==10.0) \n",
    "              &(behav_full['Trial Type']=='Memory')\n",
    "              &(behav_full['Attention Level']=='Novel')].shape"
   ]
  },
  {
   "cell_type": "code",
   "execution_count": 10,
   "metadata": {},
   "outputs": [],
   "source": [
    "five =  select_trials_2(behav_full, eye_df, 1.5)\n",
    "one  =  select_trials_2(behav_full, eye_df, 1.0)"
   ]
  },
  {
   "cell_type": "code",
   "execution_count": 11,
   "metadata": {},
   "outputs": [
    {
     "data": {
      "text/html": [
       "<div>\n",
       "<style scoped>\n",
       "    .dataframe tbody tr th:only-of-type {\n",
       "        vertical-align: middle;\n",
       "    }\n",
       "\n",
       "    .dataframe tbody tr th {\n",
       "        vertical-align: top;\n",
       "    }\n",
       "\n",
       "    .dataframe thead th {\n",
       "        text-align: right;\n",
       "    }\n",
       "</style>\n",
       "<table border=\"1\" class=\"dataframe\">\n",
       "  <thead>\n",
       "    <tr style=\"text-align: right;\">\n",
       "      <th></th>\n",
       "      <th>Unnamed: 0.1</th>\n",
       "      <th>Subject</th>\n",
       "      <th>Trial Type</th>\n",
       "      <th>Run</th>\n",
       "      <th>Cued Composite</th>\n",
       "      <th>Uncued Composite</th>\n",
       "      <th>Cued Face</th>\n",
       "      <th>Cued Place</th>\n",
       "      <th>Uncued Face</th>\n",
       "      <th>Uncued Place</th>\n",
       "      <th>...</th>\n",
       "      <th>Attention Level</th>\n",
       "      <th>Cue Validity</th>\n",
       "      <th>Post Invalid Cue</th>\n",
       "      <th>Pre Invalid Cue</th>\n",
       "      <th>Attention Button</th>\n",
       "      <th>Rating History</th>\n",
       "      <th>Stimulus Onset</th>\n",
       "      <th>Stimulus End</th>\n",
       "      <th>Attention Probe</th>\n",
       "      <th>Trial</th>\n",
       "    </tr>\n",
       "  </thead>\n",
       "  <tbody>\n",
       "    <tr>\n",
       "      <th>33</th>\n",
       "      <td>53</td>\n",
       "      <td>1.0</td>\n",
       "      <td>Presentation</td>\n",
       "      <td>1.0</td>\n",
       "      <td>00265940128fb_sunabkmdplkdbvxriff.jpg</td>\n",
       "      <td>00957960627fa_sunavhxgmgrqsaptynb.jpg</td>\n",
       "      <td>00265940128fb.jpg</td>\n",
       "      <td>sunabkmdplkdbvxriff.jpg</td>\n",
       "      <td>00957960627fa.jpg</td>\n",
       "      <td>sunavhxgmgrqsaptynb.jpg</td>\n",
       "      <td>...</td>\n",
       "      <td>NaN</td>\n",
       "      <td>1.0</td>\n",
       "      <td>NaN</td>\n",
       "      <td>NaN</td>\n",
       "      <td>1.0</td>\n",
       "      <td>NaN</td>\n",
       "      <td>1.550775e+09</td>\n",
       "      <td>1.550775e+09</td>\n",
       "      <td>x</td>\n",
       "      <td>3.0</td>\n",
       "    </tr>\n",
       "    <tr>\n",
       "      <th>38</th>\n",
       "      <td>58</td>\n",
       "      <td>1.0</td>\n",
       "      <td>Presentation</td>\n",
       "      <td>1.0</td>\n",
       "      <td>00316940422fa_sunabxmguapjekttvwm.jpg</td>\n",
       "      <td>00719941201fa_sunadvithllcgmfxsrn.jpg</td>\n",
       "      <td>00316940422fa.jpg</td>\n",
       "      <td>sunabxmguapjekttvwm.jpg</td>\n",
       "      <td>00719941201fa.jpg</td>\n",
       "      <td>sunadvithllcgmfxsrn.jpg</td>\n",
       "      <td>...</td>\n",
       "      <td>NaN</td>\n",
       "      <td>1.0</td>\n",
       "      <td>NaN</td>\n",
       "      <td>NaN</td>\n",
       "      <td>1.0</td>\n",
       "      <td>NaN</td>\n",
       "      <td>1.550775e+09</td>\n",
       "      <td>1.550775e+09</td>\n",
       "      <td>x</td>\n",
       "      <td>8.0</td>\n",
       "    </tr>\n",
       "    <tr>\n",
       "      <th>15</th>\n",
       "      <td>105</td>\n",
       "      <td>1.0</td>\n",
       "      <td>Presentation</td>\n",
       "      <td>2.0</td>\n",
       "      <td>00796941205fa_sunaguchqqnrtodtezq.jpg</td>\n",
       "      <td>00804960530fa_sunagwswhkvnsmuszlz.jpg</td>\n",
       "      <td>00796941205fa.jpg</td>\n",
       "      <td>sunaguchqqnrtodtezq.jpg</td>\n",
       "      <td>00804960530fa.jpg</td>\n",
       "      <td>sunagwswhkvnsmuszlz.jpg</td>\n",
       "      <td>...</td>\n",
       "      <td>NaN</td>\n",
       "      <td>1.0</td>\n",
       "      <td>NaN</td>\n",
       "      <td>NaN</td>\n",
       "      <td>3.0</td>\n",
       "      <td>NaN</td>\n",
       "      <td>1.550775e+09</td>\n",
       "      <td>1.550775e+09</td>\n",
       "      <td>o</td>\n",
       "      <td>5.0</td>\n",
       "    </tr>\n",
       "    <tr>\n",
       "      <th>1</th>\n",
       "      <td>151</td>\n",
       "      <td>1.0</td>\n",
       "      <td>Presentation</td>\n",
       "      <td>3.0</td>\n",
       "      <td>00630941031fa_sunadakkdovnuzlycvp.jpg</td>\n",
       "      <td>00294940422fb_sunabrlndkruqokhury.jpg</td>\n",
       "      <td>00630941031fa.jpg</td>\n",
       "      <td>sunadakkdovnuzlycvp.jpg</td>\n",
       "      <td>00294940422fb.jpg</td>\n",
       "      <td>sunabrlndkruqokhury.jpg</td>\n",
       "      <td>...</td>\n",
       "      <td>NaN</td>\n",
       "      <td>1.0</td>\n",
       "      <td>NaN</td>\n",
       "      <td>NaN</td>\n",
       "      <td>3.0</td>\n",
       "      <td>NaN</td>\n",
       "      <td>1.550776e+09</td>\n",
       "      <td>1.550776e+09</td>\n",
       "      <td>o</td>\n",
       "      <td>1.0</td>\n",
       "    </tr>\n",
       "    <tr>\n",
       "      <th>41</th>\n",
       "      <td>251</td>\n",
       "      <td>1.0</td>\n",
       "      <td>Presentation</td>\n",
       "      <td>5.0</td>\n",
       "      <td>00564941031fa_sunacsaovnjezqwbykf.jpg</td>\n",
       "      <td>00081941031fa_sunaaftlyfudyzuhqzf.jpg</td>\n",
       "      <td>00564941031fa.jpg</td>\n",
       "      <td>sunacsaovnjezqwbykf.jpg</td>\n",
       "      <td>00081941031fa.jpg</td>\n",
       "      <td>sunaaftlyfudyzuhqzf.jpg</td>\n",
       "      <td>...</td>\n",
       "      <td>NaN</td>\n",
       "      <td>1.0</td>\n",
       "      <td>NaN</td>\n",
       "      <td>NaN</td>\n",
       "      <td>3.0</td>\n",
       "      <td>NaN</td>\n",
       "      <td>1.550777e+09</td>\n",
       "      <td>1.550777e+09</td>\n",
       "      <td>o</td>\n",
       "      <td>1.0</td>\n",
       "    </tr>\n",
       "  </tbody>\n",
       "</table>\n",
       "<p>5 rows × 27 columns</p>\n",
       "</div>"
      ],
      "text/plain": [
       "    Unnamed: 0.1  Subject    Trial Type  Run  \\\n",
       "33            53      1.0  Presentation  1.0   \n",
       "38            58      1.0  Presentation  1.0   \n",
       "15           105      1.0  Presentation  2.0   \n",
       "1            151      1.0  Presentation  3.0   \n",
       "41           251      1.0  Presentation  5.0   \n",
       "\n",
       "                           Cued Composite  \\\n",
       "33  00265940128fb_sunabkmdplkdbvxriff.jpg   \n",
       "38  00316940422fa_sunabxmguapjekttvwm.jpg   \n",
       "15  00796941205fa_sunaguchqqnrtodtezq.jpg   \n",
       "1   00630941031fa_sunadakkdovnuzlycvp.jpg   \n",
       "41  00564941031fa_sunacsaovnjezqwbykf.jpg   \n",
       "\n",
       "                         Uncued Composite          Cued Face  \\\n",
       "33  00957960627fa_sunavhxgmgrqsaptynb.jpg  00265940128fb.jpg   \n",
       "38  00719941201fa_sunadvithllcgmfxsrn.jpg  00316940422fa.jpg   \n",
       "15  00804960530fa_sunagwswhkvnsmuszlz.jpg  00796941205fa.jpg   \n",
       "1   00294940422fb_sunabrlndkruqokhury.jpg  00630941031fa.jpg   \n",
       "41  00081941031fa_sunaaftlyfudyzuhqzf.jpg  00564941031fa.jpg   \n",
       "\n",
       "                 Cued Place        Uncued Face             Uncued Place  \\\n",
       "33  sunabkmdplkdbvxriff.jpg  00957960627fa.jpg  sunavhxgmgrqsaptynb.jpg   \n",
       "38  sunabxmguapjekttvwm.jpg  00719941201fa.jpg  sunadvithllcgmfxsrn.jpg   \n",
       "15  sunaguchqqnrtodtezq.jpg  00804960530fa.jpg  sunagwswhkvnsmuszlz.jpg   \n",
       "1   sunadakkdovnuzlycvp.jpg  00294940422fb.jpg  sunabrlndkruqokhury.jpg   \n",
       "41  sunacsaovnjezqwbykf.jpg  00081941031fa.jpg  sunaaftlyfudyzuhqzf.jpg   \n",
       "\n",
       "    ...   Attention Level Cue Validity Post Invalid Cue Pre Invalid Cue  \\\n",
       "33  ...               NaN          1.0              NaN             NaN   \n",
       "38  ...               NaN          1.0              NaN             NaN   \n",
       "15  ...               NaN          1.0              NaN             NaN   \n",
       "1   ...               NaN          1.0              NaN             NaN   \n",
       "41  ...               NaN          1.0              NaN             NaN   \n",
       "\n",
       "    Attention Button  Rating History  Stimulus Onset  Stimulus End  \\\n",
       "33               1.0             NaN    1.550775e+09  1.550775e+09   \n",
       "38               1.0             NaN    1.550775e+09  1.550775e+09   \n",
       "15               3.0             NaN    1.550775e+09  1.550775e+09   \n",
       "1                3.0             NaN    1.550776e+09  1.550776e+09   \n",
       "41               3.0             NaN    1.550777e+09  1.550777e+09   \n",
       "\n",
       "    Attention Probe  Trial  \n",
       "33                x    3.0  \n",
       "38                x    8.0  \n",
       "15                o    5.0  \n",
       "1                 o    1.0  \n",
       "41                o    1.0  \n",
       "\n",
       "[5 rows x 27 columns]"
      ]
     },
     "execution_count": 11,
     "metadata": {},
     "output_type": "execute_result"
    }
   ],
   "source": [
    "one.head()"
   ]
  },
  {
   "cell_type": "code",
   "execution_count": 12,
   "metadata": {},
   "outputs": [],
   "source": [
    "behav_full.ix[~behav_full['Memory Image'].str.contains(\"sun\", na=False),'Category']='Face'\n",
    "behav_full.ix[behav_full['Memory Image'].str.contains(\"sun\", na=False),'Category']='Place'"
   ]
  },
  {
   "cell_type": "code",
   "execution_count": 13,
   "metadata": {},
   "outputs": [],
   "source": [
    "l=[]\n",
    "for sub in five['Subject'].unique():\n",
    "    \n",
    "    l.append(five[(five['Subject']==sub) \n",
    "              &(five['Trial Type']=='Memory')\n",
    "              &(five['Attention Level']!='Novel')].shape[0]/float(8*20))"
   ]
  },
  {
   "cell_type": "code",
   "execution_count": 14,
   "metadata": {},
   "outputs": [
    {
     "data": {
      "text/plain": [
       "0.228125"
      ]
     },
     "execution_count": 14,
     "metadata": {},
     "output_type": "execute_result"
    }
   ],
   "source": [
    "np.mean(l)"
   ]
  },
  {
   "cell_type": "code",
   "execution_count": 15,
   "metadata": {},
   "outputs": [
    {
     "name": "stdout",
     "output_type": "stream",
     "text": [
      "15\n",
      "7\n"
     ]
    }
   ],
   "source": [
    "l_five = []\n",
    "for sub in five['Subject'].unique():\n",
    "    if len(five[(five['Subject']==sub) & (five['Category']=='Face')]['Attention Level'].unique())==6 and len(five[(five['Subject']==sub) & (five['Category']=='Face')]['Attention Level'].unique())==6:\n",
    "        l_five.append(sub)\n",
    "print(len(l_five))\n",
    "\n",
    "l_one = []\n",
    "for sub in one['Subject'].unique():\n",
    "    if len(one[(one['Subject']==sub) & (one['Category']=='Face')]['Attention Level'].unique())==6 and len(one[(one['Subject']==sub) & (one['Category']=='Face')]['Attention Level'].unique())==6:\n",
    "        l_one.append(sub)\n",
    "print(len(l_one))"
   ]
  },
  {
   "cell_type": "code",
   "execution_count": 16,
   "metadata": {},
   "outputs": [],
   "source": [
    "five = five[five['Subject'].isin(l_five)]\n",
    "one  = one[one['Subject'].isin(l_one)]\n",
    "five_full = behav_full[behav_full['Subject'].isin(l_five)]\n"
   ]
  },
  {
   "cell_type": "code",
   "execution_count": 17,
   "metadata": {},
   "outputs": [
    {
     "data": {
      "text/html": [
       "<div>\n",
       "<style scoped>\n",
       "    .dataframe tbody tr th:only-of-type {\n",
       "        vertical-align: middle;\n",
       "    }\n",
       "\n",
       "    .dataframe tbody tr th {\n",
       "        vertical-align: top;\n",
       "    }\n",
       "\n",
       "    .dataframe thead th {\n",
       "        text-align: right;\n",
       "    }\n",
       "</style>\n",
       "<table border=\"1\" class=\"dataframe\">\n",
       "  <thead>\n",
       "    <tr style=\"text-align: right;\">\n",
       "      <th></th>\n",
       "      <th>Unnamed: 0.1</th>\n",
       "      <th>Subject</th>\n",
       "      <th>Trial Type</th>\n",
       "      <th>Run</th>\n",
       "      <th>Cued Composite</th>\n",
       "      <th>Uncued Composite</th>\n",
       "      <th>Cued Face</th>\n",
       "      <th>Cued Place</th>\n",
       "      <th>Uncued Face</th>\n",
       "      <th>Uncued Place</th>\n",
       "      <th>...</th>\n",
       "      <th>Attention Level</th>\n",
       "      <th>Cue Validity</th>\n",
       "      <th>Post Invalid Cue</th>\n",
       "      <th>Pre Invalid Cue</th>\n",
       "      <th>Attention Button</th>\n",
       "      <th>Rating History</th>\n",
       "      <th>Stimulus Onset</th>\n",
       "      <th>Stimulus End</th>\n",
       "      <th>Attention Probe</th>\n",
       "      <th>Trial</th>\n",
       "    </tr>\n",
       "  </thead>\n",
       "  <tbody>\n",
       "    <tr>\n",
       "      <th>33</th>\n",
       "      <td>53</td>\n",
       "      <td>1.0</td>\n",
       "      <td>Presentation</td>\n",
       "      <td>1.0</td>\n",
       "      <td>00265940128fb_sunabkmdplkdbvxriff.jpg</td>\n",
       "      <td>00957960627fa_sunavhxgmgrqsaptynb.jpg</td>\n",
       "      <td>00265940128fb.jpg</td>\n",
       "      <td>sunabkmdplkdbvxriff.jpg</td>\n",
       "      <td>00957960627fa.jpg</td>\n",
       "      <td>sunavhxgmgrqsaptynb.jpg</td>\n",
       "      <td>...</td>\n",
       "      <td>NaN</td>\n",
       "      <td>1.0</td>\n",
       "      <td>NaN</td>\n",
       "      <td>NaN</td>\n",
       "      <td>1.0</td>\n",
       "      <td>NaN</td>\n",
       "      <td>1.550775e+09</td>\n",
       "      <td>1.550775e+09</td>\n",
       "      <td>x</td>\n",
       "      <td>3.0</td>\n",
       "    </tr>\n",
       "    <tr>\n",
       "      <th>38</th>\n",
       "      <td>58</td>\n",
       "      <td>1.0</td>\n",
       "      <td>Presentation</td>\n",
       "      <td>1.0</td>\n",
       "      <td>00316940422fa_sunabxmguapjekttvwm.jpg</td>\n",
       "      <td>00719941201fa_sunadvithllcgmfxsrn.jpg</td>\n",
       "      <td>00316940422fa.jpg</td>\n",
       "      <td>sunabxmguapjekttvwm.jpg</td>\n",
       "      <td>00719941201fa.jpg</td>\n",
       "      <td>sunadvithllcgmfxsrn.jpg</td>\n",
       "      <td>...</td>\n",
       "      <td>NaN</td>\n",
       "      <td>1.0</td>\n",
       "      <td>NaN</td>\n",
       "      <td>NaN</td>\n",
       "      <td>1.0</td>\n",
       "      <td>NaN</td>\n",
       "      <td>1.550775e+09</td>\n",
       "      <td>1.550775e+09</td>\n",
       "      <td>x</td>\n",
       "      <td>8.0</td>\n",
       "    </tr>\n",
       "    <tr>\n",
       "      <th>15</th>\n",
       "      <td>105</td>\n",
       "      <td>1.0</td>\n",
       "      <td>Presentation</td>\n",
       "      <td>2.0</td>\n",
       "      <td>00796941205fa_sunaguchqqnrtodtezq.jpg</td>\n",
       "      <td>00804960530fa_sunagwswhkvnsmuszlz.jpg</td>\n",
       "      <td>00796941205fa.jpg</td>\n",
       "      <td>sunaguchqqnrtodtezq.jpg</td>\n",
       "      <td>00804960530fa.jpg</td>\n",
       "      <td>sunagwswhkvnsmuszlz.jpg</td>\n",
       "      <td>...</td>\n",
       "      <td>NaN</td>\n",
       "      <td>1.0</td>\n",
       "      <td>NaN</td>\n",
       "      <td>NaN</td>\n",
       "      <td>3.0</td>\n",
       "      <td>NaN</td>\n",
       "      <td>1.550775e+09</td>\n",
       "      <td>1.550775e+09</td>\n",
       "      <td>o</td>\n",
       "      <td>5.0</td>\n",
       "    </tr>\n",
       "    <tr>\n",
       "      <th>1</th>\n",
       "      <td>151</td>\n",
       "      <td>1.0</td>\n",
       "      <td>Presentation</td>\n",
       "      <td>3.0</td>\n",
       "      <td>00630941031fa_sunadakkdovnuzlycvp.jpg</td>\n",
       "      <td>00294940422fb_sunabrlndkruqokhury.jpg</td>\n",
       "      <td>00630941031fa.jpg</td>\n",
       "      <td>sunadakkdovnuzlycvp.jpg</td>\n",
       "      <td>00294940422fb.jpg</td>\n",
       "      <td>sunabrlndkruqokhury.jpg</td>\n",
       "      <td>...</td>\n",
       "      <td>NaN</td>\n",
       "      <td>1.0</td>\n",
       "      <td>NaN</td>\n",
       "      <td>NaN</td>\n",
       "      <td>3.0</td>\n",
       "      <td>NaN</td>\n",
       "      <td>1.550776e+09</td>\n",
       "      <td>1.550776e+09</td>\n",
       "      <td>o</td>\n",
       "      <td>1.0</td>\n",
       "    </tr>\n",
       "    <tr>\n",
       "      <th>41</th>\n",
       "      <td>251</td>\n",
       "      <td>1.0</td>\n",
       "      <td>Presentation</td>\n",
       "      <td>5.0</td>\n",
       "      <td>00564941031fa_sunacsaovnjezqwbykf.jpg</td>\n",
       "      <td>00081941031fa_sunaaftlyfudyzuhqzf.jpg</td>\n",
       "      <td>00564941031fa.jpg</td>\n",
       "      <td>sunacsaovnjezqwbykf.jpg</td>\n",
       "      <td>00081941031fa.jpg</td>\n",
       "      <td>sunaaftlyfudyzuhqzf.jpg</td>\n",
       "      <td>...</td>\n",
       "      <td>NaN</td>\n",
       "      <td>1.0</td>\n",
       "      <td>NaN</td>\n",
       "      <td>NaN</td>\n",
       "      <td>3.0</td>\n",
       "      <td>NaN</td>\n",
       "      <td>1.550777e+09</td>\n",
       "      <td>1.550777e+09</td>\n",
       "      <td>o</td>\n",
       "      <td>1.0</td>\n",
       "    </tr>\n",
       "  </tbody>\n",
       "</table>\n",
       "<p>5 rows × 27 columns</p>\n",
       "</div>"
      ],
      "text/plain": [
       "    Unnamed: 0.1  Subject    Trial Type  Run  \\\n",
       "33            53      1.0  Presentation  1.0   \n",
       "38            58      1.0  Presentation  1.0   \n",
       "15           105      1.0  Presentation  2.0   \n",
       "1            151      1.0  Presentation  3.0   \n",
       "41           251      1.0  Presentation  5.0   \n",
       "\n",
       "                           Cued Composite  \\\n",
       "33  00265940128fb_sunabkmdplkdbvxriff.jpg   \n",
       "38  00316940422fa_sunabxmguapjekttvwm.jpg   \n",
       "15  00796941205fa_sunaguchqqnrtodtezq.jpg   \n",
       "1   00630941031fa_sunadakkdovnuzlycvp.jpg   \n",
       "41  00564941031fa_sunacsaovnjezqwbykf.jpg   \n",
       "\n",
       "                         Uncued Composite          Cued Face  \\\n",
       "33  00957960627fa_sunavhxgmgrqsaptynb.jpg  00265940128fb.jpg   \n",
       "38  00719941201fa_sunadvithllcgmfxsrn.jpg  00316940422fa.jpg   \n",
       "15  00804960530fa_sunagwswhkvnsmuszlz.jpg  00796941205fa.jpg   \n",
       "1   00294940422fb_sunabrlndkruqokhury.jpg  00630941031fa.jpg   \n",
       "41  00081941031fa_sunaaftlyfudyzuhqzf.jpg  00564941031fa.jpg   \n",
       "\n",
       "                 Cued Place        Uncued Face             Uncued Place  \\\n",
       "33  sunabkmdplkdbvxriff.jpg  00957960627fa.jpg  sunavhxgmgrqsaptynb.jpg   \n",
       "38  sunabxmguapjekttvwm.jpg  00719941201fa.jpg  sunadvithllcgmfxsrn.jpg   \n",
       "15  sunaguchqqnrtodtezq.jpg  00804960530fa.jpg  sunagwswhkvnsmuszlz.jpg   \n",
       "1   sunadakkdovnuzlycvp.jpg  00294940422fb.jpg  sunabrlndkruqokhury.jpg   \n",
       "41  sunacsaovnjezqwbykf.jpg  00081941031fa.jpg  sunaaftlyfudyzuhqzf.jpg   \n",
       "\n",
       "    ...   Attention Level Cue Validity Post Invalid Cue Pre Invalid Cue  \\\n",
       "33  ...               NaN          1.0              NaN             NaN   \n",
       "38  ...               NaN          1.0              NaN             NaN   \n",
       "15  ...               NaN          1.0              NaN             NaN   \n",
       "1   ...               NaN          1.0              NaN             NaN   \n",
       "41  ...               NaN          1.0              NaN             NaN   \n",
       "\n",
       "    Attention Button  Rating History  Stimulus Onset  Stimulus End  \\\n",
       "33               1.0             NaN    1.550775e+09  1.550775e+09   \n",
       "38               1.0             NaN    1.550775e+09  1.550775e+09   \n",
       "15               3.0             NaN    1.550775e+09  1.550775e+09   \n",
       "1                3.0             NaN    1.550776e+09  1.550776e+09   \n",
       "41               3.0             NaN    1.550777e+09  1.550777e+09   \n",
       "\n",
       "    Attention Probe  Trial  \n",
       "33                x    3.0  \n",
       "38                x    8.0  \n",
       "15                o    5.0  \n",
       "1                 o    1.0  \n",
       "41                o    1.0  \n",
       "\n",
       "[5 rows x 27 columns]"
      ]
     },
     "execution_count": 17,
     "metadata": {},
     "output_type": "execute_result"
    }
   ],
   "source": [
    "one.head()"
   ]
  },
  {
   "cell_type": "code",
   "execution_count": 18,
   "metadata": {},
   "outputs": [],
   "source": [
    "# behav_full[(behav_full['Category']=='Place')&(behav_full['Attention Level']=='Novel')]"
   ]
  },
  {
   "cell_type": "markdown",
   "metadata": {},
   "source": [
    "# Loop"
   ]
  },
  {
   "cell_type": "code",
   "execution_count": 19,
   "metadata": {},
   "outputs": [
    {
     "name": "stdout",
     "output_type": "stream",
     "text": [
      "160\n",
      "160\n",
      "160\n",
      "160\n",
      "160\n",
      "160\n",
      "160\n"
     ]
    }
   ],
   "source": [
    "for s in one['Subject'].unique():\n",
    "    print(one[(one['Subject']==s) & (one['Trial Type']=='Memory') & (one['Attention Level']=='Novel')].shape[0])"
   ]
  },
  {
   "cell_type": "code",
   "execution_count": 20,
   "metadata": {},
   "outputs": [],
   "source": [
    "# one"
   ]
  },
  {
   "cell_type": "code",
   "execution_count": 21,
   "metadata": {},
   "outputs": [],
   "source": [
    "sub_one = one.groupby(['Subject','Attention Level'], as_index=False).mean()"
   ]
  },
  {
   "cell_type": "code",
   "execution_count": 22,
   "metadata": {},
   "outputs": [
    {
     "name": "stdout",
     "output_type": "stream",
     "text": [
      "            Source  ddof1  ddof2      F     p-unc  p-GG-corr    np2    eps  \\\n",
      "0  Attention Level      4     24  4.758  0.005711   0.027323  0.442  0.528   \n",
      "\n",
      "   sphericity  W-spher   p-spher  \n",
      "0       False    0.011  0.017481  \n"
     ]
    }
   ],
   "source": [
    "print(pingouin.rm_anova(dv='Familiarity Rating', within=['Attention Level'], subject='Subject', \n",
    "              data=one.groupby(['Subject','Attention Level'], as_index=False).mean()))"
   ]
  },
  {
   "cell_type": "code",
   "execution_count": null,
   "metadata": {},
   "outputs": [],
   "source": []
  },
  {
   "cell_type": "code",
   "execution_count": 23,
   "metadata": {},
   "outputs": [
    {
     "data": {
      "text/plain": [
       "0    1.977273\n",
       "1    2.622642\n",
       "2    2.069767\n",
       "3    2.025385\n",
       "4    2.339623\n",
       "Name: Familiarity Rating, dtype: float64"
      ]
     },
     "execution_count": 23,
     "metadata": {},
     "output_type": "execute_result"
    }
   ],
   "source": [
    "one.groupby(['Attention Level'], as_index=False).mean()['Familiarity Rating']"
   ]
  },
  {
   "cell_type": "code",
   "execution_count": 24,
   "metadata": {},
   "outputs": [
    {
     "data": {
      "text/plain": [
       "0    Category\n",
       "1        Full\n",
       "2        None\n",
       "3       Novel\n",
       "4        Side\n",
       "Name: Attention Level, dtype: object"
      ]
     },
     "execution_count": 24,
     "metadata": {},
     "output_type": "execute_result"
    }
   ],
   "source": [
    "one.groupby(['Attention Level'], as_index=False).mean()['Attention Level']"
   ]
  },
  {
   "cell_type": "markdown",
   "metadata": {},
   "source": [
    "# Plot Full with Significance"
   ]
  },
  {
   "cell_type": "code",
   "execution_count": 43,
   "metadata": {},
   "outputs": [
    {
     "name": "stdout",
     "output_type": "stream",
     "text": [
      "behav_full\n",
      "pvalue annotation legend:\n",
      "ns: 5.00e-02 < p <= 1.00e+00\n",
      "*: 1.00e-02 < p <= 5.00e-02\n",
      "**: 1.00e-03 < p <= 1.00e-02\n",
      "***: 1.00e-04 < p <= 1.00e-03\n",
      "****: p <= 1.00e-04\n",
      "\n",
      "Side v.s. None: t-test paired samples, P_val=1.264e-03 stat=3.571e+00\n",
      "Side v.s. Novel: t-test paired samples, P_val=1.593e-07 stat=6.850e+00\n",
      "Side v.s. Category: t-test paired samples, P_val=1.084e-03 stat=3.629e+00\n",
      "Side v.s. Full: t-test paired samples, P_val=6.009e-01 stat=5.289e-01\n",
      "None v.s. Novel: t-test paired samples, P_val=4.716e-02 stat=2.073e+00\n",
      "None v.s. Category: t-test paired samples, P_val=9.894e-01 stat=1.337e-02\n",
      "None v.s. Full: t-test paired samples, P_val=3.301e-03 stat=-3.202e+00\n",
      "Novel v.s. Category: t-test paired samples, P_val=6.019e-02 stat=-1.956e+00\n",
      "Novel v.s. Full: t-test paired samples, P_val=3.226e-08 stat=-7.457e+00\n",
      "Category v.s. Full: t-test paired samples, P_val=4.408e-04 stat=-3.964e+00\n"
     ]
    },
    {
     "data": {
      "image/png": "[encoded data removed]",
      "text/plain": [
       "<Figure size 432x288 with 1 Axes>"
      ]
     },
     "metadata": {},
     "output_type": "display_data"
    },
    {
     "name": "stdout",
     "output_type": "stream",
     "text": [
      "\n",
      "            Source  ddof1  ddof2       F         p-unc     p-GG-corr    np2  \\\n",
      "0  Attention Level      4    116  14.884  7.599156e-10  4.925814e-07  0.339   \n",
      "\n",
      "     eps  sphericity  W-spher   p-spher  \n",
      "0  0.639       False    0.239  0.000011  \n",
      "one\n",
      "pvalue annotation legend:\n",
      "ns: 5.00e-02 < p <= 1.00e+00\n",
      "*: 1.00e-02 < p <= 5.00e-02\n",
      "**: 1.00e-03 < p <= 1.00e-02\n",
      "***: 1.00e-04 < p <= 1.00e-03\n",
      "****: p <= 1.00e-04\n",
      "\n",
      "Side v.s. None: t-test paired samples, P_val=2.867e-01 stat=1.169e+00\n",
      "Side v.s. Novel: t-test paired samples, P_val=1.544e-01 stat=1.629e+00\n",
      "Side v.s. Category: t-test paired samples, P_val=3.406e-01 stat=1.035e+00\n",
      "Side v.s. Full: t-test paired samples, P_val=5.720e-02 stat=-2.348e+00\n",
      "None v.s. Novel: t-test paired samples, P_val=7.137e-01 stat=3.848e-01\n",
      "None v.s. Category: t-test paired samples, P_val=7.711e-01 stat=3.044e-01\n",
      "None v.s. Full: t-test paired samples, P_val=6.657e-03 stat=-4.059e+00\n",
      "Novel v.s. Category: t-test paired samples, P_val=8.546e-01 stat=1.913e-01\n",
      "Novel v.s. Full: t-test paired samples, P_val=4.479e-03 stat=-4.418e+00\n",
      "Category v.s. Full: t-test paired samples, P_val=2.495e-02 stat=-2.970e+00\n"
     ]
    },
    {
     "data": {
      "image/png": "[encoded data removed]",
      "text/plain": [
       "<Figure size 432x288 with 1 Axes>"
      ]
     },
     "metadata": {},
     "output_type": "display_data"
    },
    {
     "name": "stdout",
     "output_type": "stream",
     "text": [
      "\n",
      "            Source  ddof1  ddof2      F     p-unc  p-GG-corr    np2    eps  \\\n",
      "0  Attention Level      4     24  4.758  0.005711   0.027323  0.442  0.528   \n",
      "\n",
      "   sphericity  W-spher   p-spher  \n",
      "0       False    0.011  0.017481  \n"
     ]
    }
   ],
   "source": [
    "import matplotlib.pyplot as plt\n",
    "from statannot import add_stat_annotation\n",
    "sb.set(style=\"whitegrid\")\n",
    "df = sb.load_dataset(\"tips\")\n",
    "\n",
    "pair = combinations(behav_full['Attention Level'].unique(),2) \n",
    "l = [i for i in pair]\n",
    "\n",
    "for dat,name in zip([behav_full, one],['behav_full','one']):\n",
    "    print(name)\n",
    "    data = dat.groupby(['Subject','Attention Level'], as_index=False).mean()\n",
    "    x='Attention Level'; y='Familiarity Rating'; order=['Full','Side','Category','None','Novel']\n",
    "\n",
    "    ax = sb.violinplot(x=x, y=y, data=data, order=order)  \n",
    "    add_stat_annotation(ax, data=data, x=x, y=y, order=order, boxPairList=l[5:],test='t-test_paired', textFormat='star', loc='outside', verbose=3)\n",
    "\n",
    "    plt.show()\n",
    "    print()\n",
    "\n",
    "    print(pingouin.rm_anova(dv='Familiarity Rating', within=['Attention Level'], subject='Subject', \n",
    "                  data=dat))"
   ]
  },
  {
   "cell_type": "code",
   "execution_count": 26,
   "metadata": {},
   "outputs": [
    {
     "data": {
      "text/plain": [
       "Index(['Unnamed: 0.1', 'Subject', 'Trial Type', 'Run', 'Cued Composite',\n",
       "       'Uncued Composite', 'Cued Face', 'Cued Place', 'Uncued Face',\n",
       "       'Uncued Place', 'Memory Image', 'Category', 'Cued Side',\n",
       "       'Cued Category', 'Attention Reaction Time (s)',\n",
       "       'Familiarity Reaction Time (s)', 'Familiarity Rating',\n",
       "       'Attention Level', 'Cue Validity', 'Post Invalid Cue',\n",
       "       'Pre Invalid Cue', 'Attention Button', 'Rating History',\n",
       "       'Stimulus Onset', 'Stimulus End', 'Attention Probe', 'Trial'],\n",
       "      dtype='object')"
      ]
     },
     "execution_count": 26,
     "metadata": {},
     "output_type": "execute_result"
    }
   ],
   "source": [
    "one.columns"
   ]
  },
  {
   "cell_type": "code",
   "execution_count": 38,
   "metadata": {},
   "outputs": [],
   "source": [
    "grp = one.groupby(['Subject','Cue Validity'],as_index=False).mean() #['Attention Reaction Time (s)']"
   ]
  },
  {
   "cell_type": "code",
   "execution_count": 39,
   "metadata": {},
   "outputs": [
    {
     "data": {
      "text/plain": [
       "Ttest_indResult(statistic=2.374808576370557, pvalue=0.04157998873351676)"
      ]
     },
     "execution_count": 39,
     "metadata": {},
     "output_type": "execute_result"
    }
   ],
   "source": [
    "scipy.stats.ttest_ind(grp[grp['Cue Validity']==1]['Attention Reaction Time (s)'], \n",
    "                      grp[grp['Cue Validity']==0]['Attention Reaction Time (s)'])"
   ]
  },
  {
   "cell_type": "markdown",
   "metadata": {},
   "source": [
    "# Plot Face / Place with Significance"
   ]
  },
  {
   "cell_type": "code",
   "execution_count": 33,
   "metadata": {},
   "outputs": [
    {
     "name": "stdout",
     "output_type": "stream",
     "text": [
      "\n",
      "Face, behav_full\n",
      "pvalue annotation legend:\n",
      "ns: 5.00e-02 < p <= 1.00e+00\n",
      "*: 1.00e-02 < p <= 5.00e-02\n",
      "**: 1.00e-03 < p <= 1.00e-02\n",
      "***: 1.00e-04 < p <= 1.00e-03\n",
      "****: p <= 1.00e-04\n",
      "\n",
      "Side v.s. None: t-test paired samples, P_val=2.530e-01 stat=1.166e+00\n",
      "Side v.s. Novel: t-test paired samples, P_val=2.086e-04 stat=4.238e+00\n",
      "Side v.s. Category: t-test paired samples, P_val=9.140e-03 stat=2.794e+00\n",
      "Side v.s. Full: t-test paired samples, P_val=3.560e-01 stat=9.380e-01\n",
      "None v.s. Novel: t-test paired samples, P_val=3.700e-02 stat=2.186e+00\n",
      "None v.s. Category: t-test paired samples, P_val=1.243e-01 stat=1.583e+00\n",
      "None v.s. Full: t-test paired samples, P_val=5.887e-01 stat=-5.468e-01\n",
      "Novel v.s. Category: t-test paired samples, P_val=3.730e-01 stat=-9.048e-01\n",
      "Novel v.s. Full: t-test paired samples, P_val=1.614e-03 stat=-3.478e+00\n",
      "Category v.s. Full: t-test paired samples, P_val=3.121e-02 stat=-2.264e+00\n"
     ]
    },
    {
     "data": {
      "image/png": "[encoded data removed]",
      "text/plain": [
       "<Figure size 432x288 with 1 Axes>"
      ]
     },
     "metadata": {},
     "output_type": "display_data"
    },
    {
     "name": "stdout",
     "output_type": "stream",
     "text": [
      "            Source  ddof1  ddof2      F     p-unc  p-GG-corr    np2    eps  \\\n",
      "0  Attention Level      4    116  4.448  0.002216   0.008262  0.133  0.665   \n",
      "\n",
      "   sphericity  W-spher   p-spher  \n",
      "0       False    0.381  0.001712  \n",
      "\n",
      "Face, one\n",
      "pvalue annotation legend:\n",
      "ns: 5.00e-02 < p <= 1.00e+00\n",
      "*: 1.00e-02 < p <= 5.00e-02\n",
      "**: 1.00e-03 < p <= 1.00e-02\n",
      "***: 1.00e-04 < p <= 1.00e-03\n",
      "****: p <= 1.00e-04\n",
      "\n",
      "Side v.s. None: t-test paired samples, P_val=6.483e-02 stat=2.257e+00\n",
      "Side v.s. Novel: t-test paired samples, P_val=5.774e-03 stat=4.186e+00\n",
      "Side v.s. Category: t-test paired samples, P_val=5.896e-01 stat=5.696e-01\n",
      "Side v.s. Full: t-test paired samples, P_val=4.202e-01 stat=8.652e-01\n",
      "None v.s. Novel: t-test paired samples, P_val=7.864e-01 stat=-2.834e-01\n",
      "None v.s. Category: t-test paired samples, P_val=6.636e-01 stat=-4.573e-01\n",
      "None v.s. Full: t-test paired samples, P_val=2.097e-01 stat=-1.405e+00\n",
      "Novel v.s. Category: t-test paired samples, P_val=6.902e-01 stat=-4.185e-01\n",
      "Novel v.s. Full: t-test paired samples, P_val=2.881e-01 stat=-1.165e+00\n",
      "Category v.s. Full: t-test paired samples, P_val=8.704e-01 stat=-1.703e-01\n"
     ]
    },
    {
     "data": {
      "image/png": "[encoded data removed]",
      "text/plain": [
       "<Figure size 432x288 with 1 Axes>"
      ]
     },
     "metadata": {},
     "output_type": "display_data"
    },
    {
     "name": "stdout",
     "output_type": "stream",
     "text": [
      "            Source  ddof1  ddof2      F     p-unc  p-GG-corr    np2    eps  \\\n",
      "0  Attention Level      4     24  0.691  0.605483   0.486583  0.103  0.378   \n",
      "\n",
      "   sphericity  W-spher  p-spher  \n",
      "0       False    0.007  0.00947  \n",
      "\n",
      "Place, behav_full\n",
      "pvalue annotation legend:\n",
      "ns: 5.00e-02 < p <= 1.00e+00\n",
      "*: 1.00e-02 < p <= 5.00e-02\n",
      "**: 1.00e-03 < p <= 1.00e-02\n",
      "***: 1.00e-04 < p <= 1.00e-03\n",
      "****: p <= 1.00e-04\n",
      "\n",
      "Side v.s. None: t-test paired samples, P_val=4.317e-04 stat=3.972e+00\n",
      "Side v.s. Novel: t-test paired samples, P_val=1.416e-06 stat=6.043e+00\n",
      "Side v.s. Category: t-test paired samples, P_val=1.187e-03 stat=3.595e+00\n",
      "Side v.s. Full: t-test paired samples, P_val=8.011e-01 stat=-2.542e-01\n",
      "None v.s. Novel: t-test paired samples, P_val=1.332e-01 stat=1.545e+00\n",
      "None v.s. Category: t-test paired samples, P_val=9.713e-01 stat=-3.634e-02\n",
      "None v.s. Full: t-test paired samples, P_val=3.505e-04 stat=-4.049e+00\n",
      "Novel v.s. Category: t-test paired samples, P_val=1.272e-01 stat=-1.570e+00\n",
      "Novel v.s. Full: t-test paired samples, P_val=3.021e-08 stat=-7.482e+00\n",
      "Category v.s. Full: t-test paired samples, P_val=5.970e-04 stat=-3.852e+00\n"
     ]
    },
    {
     "data": {
      "image/png": "[encoded data removed]",
      "text/plain": [
       "<Figure size 432x288 with 1 Axes>"
      ]
     },
     "metadata": {},
     "output_type": "display_data"
    },
    {
     "name": "stdout",
     "output_type": "stream",
     "text": [
      "            Source  ddof1  ddof2       F         p-unc     p-GG-corr    np2  \\\n",
      "0  Attention Level      4    116  14.872  7.716434e-10  6.325443e-08  0.339   \n",
      "\n",
      "     eps  sphericity  W-spher   p-spher  \n",
      "0  0.754       False    0.472  0.014728  \n",
      "\n",
      "Place, one\n",
      "pvalue annotation legend:\n",
      "ns: 5.00e-02 < p <= 1.00e+00\n",
      "*: 1.00e-02 < p <= 5.00e-02\n",
      "**: 1.00e-03 < p <= 1.00e-02\n",
      "***: 1.00e-04 < p <= 1.00e-03\n",
      "****: p <= 1.00e-04\n",
      "\n",
      "Side v.s. None: t-test paired samples, P_val=7.021e-01 stat=4.013e-01\n",
      "Side v.s. Novel: t-test paired samples, P_val=5.337e-01 stat=6.602e-01\n",
      "Side v.s. Category: t-test paired samples, P_val=4.400e-01 stat=8.268e-01\n",
      "Side v.s. Full: t-test paired samples, P_val=4.100e-01 stat=-8.854e-01\n",
      "None v.s. Novel: t-test paired samples, P_val=8.960e-01 stat=1.363e-01\n",
      "None v.s. Category: t-test paired samples, P_val=6.326e-01 stat=5.034e-01\n",
      "None v.s. Full: t-test paired samples, P_val=1.668e-01 stat=-1.573e+00\n",
      "Novel v.s. Category: t-test paired samples, P_val=4.863e-01 stat=7.416e-01\n",
      "Novel v.s. Full: t-test paired samples, P_val=6.855e-02 stat=-2.216e+00\n",
      "Category v.s. Full: t-test paired samples, P_val=7.186e-02 stat=-2.182e+00\n"
     ]
    },
    {
     "data": {
      "image/png": "[encoded data removed]",
      "text/plain": [
       "<Figure size 432x288 with 1 Axes>"
      ]
     },
     "metadata": {},
     "output_type": "display_data"
    },
    {
     "name": "stdout",
     "output_type": "stream",
     "text": [
      "            Source  ddof1  ddof2      F     p-unc  p-GG-corr   np2    eps  \\\n",
      "0  Attention Level      4     24  1.318  0.291658   0.303423  0.18  0.545   \n",
      "\n",
      "   sphericity  W-spher   p-spher  \n",
      "0       False    0.015  0.030727  \n"
     ]
    }
   ],
   "source": [
    "import matplotlib.pyplot as plt\n",
    "from statannot import add_stat_annotation\n",
    "sb.set(style=\"whitegrid\")\n",
    "df = sb.load_dataset(\"tips\")\n",
    "\n",
    "pair = combinations(behav_full['Attention Level'].unique(),2) \n",
    "l = [i for i in pair]\n",
    "\n",
    "for cat in ['Face','Place']:   \n",
    "    for dat,name in zip([behav_full, one],['behav_full','one']):\n",
    "        \n",
    "        print(); print(cat + ', '+str(name))\n",
    "        data = dat[dat['Category']==cat].groupby(['Subject','Attention Level'], as_index=False).mean()\n",
    "        x='Attention Level'; y='Familiarity Rating'; order=['Full','Side','Category','None','Novel']\n",
    "    \n",
    "        ax = sb.barplot(x=x, y=y, data=data, order=order)  \n",
    "        add_stat_annotation(ax, data=data, x=x, y=y, order=order, boxPairList=l[5:],test='t-test_paired', textFormat='star', loc='outside', verbose=2)\n",
    "\n",
    "        plt.show()\n",
    "\n",
    "        print(pingouin.rm_anova(dv='Familiarity Rating', within=['Attention Level'], subject='Subject', \n",
    "                      data=dat[dat['Category']==cat]))"
   ]
  },
  {
   "cell_type": "code",
   "execution_count": 34,
   "metadata": {},
   "outputs": [
    {
     "name": "stdout",
     "output_type": "stream",
     "text": [
      "                       Source     SS  ddof1  ddof2     MS      F     p-unc  \\\n",
      "0             Attention Level  3.340      4     52  0.835  6.153  0.000394   \n",
      "1                    Category  0.642      1     13  0.642  1.483  0.244987   \n",
      "2  Attention Level * Category  2.874      4     52  0.719  5.591  0.000805   \n",
      "\n",
      "   p-GG-corr    np2    eps  \n",
      "0   0.003147  0.321  0.627  \n",
      "1   0.244987  0.102  1.000  \n",
      "2   0.014847  0.301  0.413  \n"
     ]
    }
   ],
   "source": [
    "print(pingouin.rm_anova(dv='Familiarity Rating', within=['Attention Level','Category'], subject='Subject', \n",
    "              data=five.groupby(['Subject','Attention Level','Category'], as_index=False).mean()))"
   ]
  },
  {
   "cell_type": "code",
   "execution_count": 35,
   "metadata": {},
   "outputs": [],
   "source": [
    "# behav_full"
   ]
  },
  {
   "cell_type": "code",
   "execution_count": 36,
   "metadata": {},
   "outputs": [],
   "source": [
    "groupy = five.groupby(['Subject','Attention Level','Category'], as_index=False).mean()\n",
    "groupy_face  =  groupy[groupy['Category']=='Face']\n",
    "groupy_place =  groupy[groupy['Category']=='Place']"
   ]
  },
  {
   "cell_type": "code",
   "execution_count": 37,
   "metadata": {},
   "outputs": [
    {
     "name": "stdout",
     "output_type": "stream",
     "text": [
      "('Category', 'Full')\n",
      "Ttest_relResult(statistic=-1.6800405565973537, pvalue=0.11511661958682844)\n",
      " \n",
      "('Category', 'None')\n",
      "Ttest_relResult(statistic=-2.990614381914223, pvalue=0.009730840889518706)\n",
      " \n",
      "('Category', 'Novel')\n",
      "Ttest_relResult(statistic=-0.5970168250031995, pvalue=0.5600281240105661)\n",
      " \n",
      "('Category', 'Side')\n",
      "Ttest_relResult(statistic=nan, pvalue=nan)\n",
      " \n",
      "('Full', 'None')\n",
      "Ttest_relResult(statistic=-0.8600416521374323, pvalue=0.4042537203373835)\n",
      " \n",
      "('Full', 'Novel')\n",
      "Ttest_relResult(statistic=2.200000446921139, pvalue=0.045100258036404155)\n",
      " \n",
      "('Full', 'Side')\n",
      "Ttest_relResult(statistic=nan, pvalue=nan)\n",
      " \n",
      "('None', 'Novel')\n",
      "Ttest_relResult(statistic=2.5735440488826664, pvalue=0.022084706836896124)\n",
      " \n",
      "('None', 'Side')\n",
      "Ttest_relResult(statistic=nan, pvalue=nan)\n",
      " \n",
      "('Novel', 'Side')\n",
      "Ttest_relResult(statistic=nan, pvalue=nan)\n",
      " \n"
     ]
    }
   ],
   "source": [
    "import scipy \n",
    "\n",
    "pair = combinations(groupy_face['Attention Level'].unique(),2) \n",
    "   \n",
    "for i in list(pair): \n",
    "    print(i)\n",
    "    p = scipy.stats.ttest_rel(groupy_face[groupy_face['Attention Level']==i[0]]['Familiarity Rating'], \n",
    "                          groupy_face[groupy_face['Attention Level']==i[1]]['Familiarity Rating'])\n",
    "    print(p)\n",
    "    print(' ')"
   ]
  },
  {
   "cell_type": "code",
   "execution_count": 31,
   "metadata": {},
   "outputs": [
    {
     "ename": "NameError",
     "evalue": "name 'groupy_place' is not defined",
     "output_type": "error",
     "traceback": [
      "\u001b[0;31m--------------------------------------------------\u001b[0m",
      "\u001b[0;31mNameError\u001b[0m        Traceback (most recent call last)",
      "\u001b[0;32m<ipython-input-31-a74155f62073>\u001b[0m in \u001b[0;36m<module>\u001b[0;34m()\u001b[0m\n\u001b[1;32m      1\u001b[0m \u001b[0;32mimport\u001b[0m \u001b[0mscipy\u001b[0m\u001b[0;34m\u001b[0m\u001b[0m\n\u001b[1;32m      2\u001b[0m \u001b[0;34m\u001b[0m\u001b[0m\n\u001b[0;32m----> 3\u001b[0;31m \u001b[0mpair\u001b[0m \u001b[0;34m=\u001b[0m \u001b[0mcombinations\u001b[0m\u001b[0;34m(\u001b[0m\u001b[0mgroupy_place\u001b[0m\u001b[0;34m[\u001b[0m\u001b[0;34m'Attention Level'\u001b[0m\u001b[0;34m]\u001b[0m\u001b[0;34m.\u001b[0m\u001b[0munique\u001b[0m\u001b[0;34m(\u001b[0m\u001b[0;34m)\u001b[0m\u001b[0;34m,\u001b[0m\u001b[0;36m2\u001b[0m\u001b[0;34m)\u001b[0m\u001b[0;34m\u001b[0m\u001b[0m\n\u001b[0m\u001b[1;32m      4\u001b[0m \u001b[0;34m\u001b[0m\u001b[0m\n\u001b[1;32m      5\u001b[0m \u001b[0;32mfor\u001b[0m \u001b[0mi\u001b[0m \u001b[0;32min\u001b[0m \u001b[0mlist\u001b[0m\u001b[0;34m(\u001b[0m\u001b[0mpair\u001b[0m\u001b[0;34m)\u001b[0m\u001b[0;34m:\u001b[0m\u001b[0;34m\u001b[0m\u001b[0m\n",
      "\u001b[0;31mNameError\u001b[0m: name 'groupy_place' is not defined"
     ]
    }
   ],
   "source": [
    "import scipy \n",
    "\n",
    "pair = combinations(groupy_place['Attention Level'].unique(),2) \n",
    "   \n",
    "for i in list(pair): \n",
    "    print(i)\n",
    "    p = scipy.stats.ttest_rel(groupy_place[groupy_place['Attention Level']==i[0]]['Familiarity Rating'], \n",
    "                          groupy_place[groupy_place['Attention Level']==i[1]]['Familiarity Rating'])\n",
    "    print(p)\n",
    "    print(' ')"
   ]
  },
  {
   "cell_type": "code",
   "execution_count": 36,
   "metadata": {},
   "outputs": [
    {
     "data": {
      "text/html": [
       "<div>\n",
       "<style scoped>\n",
       "    .dataframe tbody tr th:only-of-type {\n",
       "        vertical-align: middle;\n",
       "    }\n",
       "\n",
       "    .dataframe tbody tr th {\n",
       "        vertical-align: top;\n",
       "    }\n",
       "\n",
       "    .dataframe thead th {\n",
       "        text-align: right;\n",
       "    }\n",
       "</style>\n",
       "<table border=\"1\" class=\"dataframe\">\n",
       "  <thead>\n",
       "    <tr style=\"text-align: right;\">\n",
       "      <th></th>\n",
       "      <th>Subject</th>\n",
       "      <th>Attention Level</th>\n",
       "      <th>Category</th>\n",
       "      <th>Unnamed: 0.1</th>\n",
       "      <th>Run</th>\n",
       "      <th>Attention Reaction Time (s)</th>\n",
       "      <th>Familiarity Reaction Time (s)</th>\n",
       "      <th>Familiarity Rating</th>\n",
       "      <th>Cue Validity</th>\n",
       "      <th>Post Invalid Cue</th>\n",
       "      <th>Pre Invalid Cue</th>\n",
       "      <th>Attention Button</th>\n",
       "      <th>Rating History</th>\n",
       "      <th>Stimulus Onset</th>\n",
       "      <th>Stimulus End</th>\n",
       "      <th>Trial</th>\n",
       "    </tr>\n",
       "  </thead>\n",
       "  <tbody>\n",
       "    <tr>\n",
       "      <th>0</th>\n",
       "      <td>0.0</td>\n",
       "      <td>Category</td>\n",
       "      <td>Face</td>\n",
       "      <td>211.000000</td>\n",
       "      <td>3.600000</td>\n",
       "      <td>NaN</td>\n",
       "      <td>1.447400</td>\n",
       "      <td>1.800000</td>\n",
       "      <td>NaN</td>\n",
       "      <td>NaN</td>\n",
       "      <td>NaN</td>\n",
       "      <td>NaN</td>\n",
       "      <td>NaN</td>\n",
       "      <td>1.550772e+09</td>\n",
       "      <td>1.550772e+09</td>\n",
       "      <td>NaN</td>\n",
       "    </tr>\n",
       "    <tr>\n",
       "      <th>1</th>\n",
       "      <td>0.0</td>\n",
       "      <td>Category</td>\n",
       "      <td>Place</td>\n",
       "      <td>227.833333</td>\n",
       "      <td>4.000000</td>\n",
       "      <td>NaN</td>\n",
       "      <td>1.259000</td>\n",
       "      <td>2.000000</td>\n",
       "      <td>NaN</td>\n",
       "      <td>NaN</td>\n",
       "      <td>NaN</td>\n",
       "      <td>NaN</td>\n",
       "      <td>NaN</td>\n",
       "      <td>1.550772e+09</td>\n",
       "      <td>1.550772e+09</td>\n",
       "      <td>NaN</td>\n",
       "    </tr>\n",
       "    <tr>\n",
       "      <th>2</th>\n",
       "      <td>0.0</td>\n",
       "      <td>Full</td>\n",
       "      <td>Face</td>\n",
       "      <td>201.000000</td>\n",
       "      <td>3.333333</td>\n",
       "      <td>NaN</td>\n",
       "      <td>0.802000</td>\n",
       "      <td>2.000000</td>\n",
       "      <td>NaN</td>\n",
       "      <td>NaN</td>\n",
       "      <td>NaN</td>\n",
       "      <td>NaN</td>\n",
       "      <td>NaN</td>\n",
       "      <td>1.550772e+09</td>\n",
       "      <td>1.550772e+09</td>\n",
       "      <td>NaN</td>\n",
       "    </tr>\n",
       "    <tr>\n",
       "      <th>3</th>\n",
       "      <td>0.0</td>\n",
       "      <td>Full</td>\n",
       "      <td>Place</td>\n",
       "      <td>178.833333</td>\n",
       "      <td>3.000000</td>\n",
       "      <td>NaN</td>\n",
       "      <td>1.282000</td>\n",
       "      <td>3.166667</td>\n",
       "      <td>NaN</td>\n",
       "      <td>NaN</td>\n",
       "      <td>NaN</td>\n",
       "      <td>NaN</td>\n",
       "      <td>NaN</td>\n",
       "      <td>1.550771e+09</td>\n",
       "      <td>1.550771e+09</td>\n",
       "      <td>NaN</td>\n",
       "    </tr>\n",
       "    <tr>\n",
       "      <th>4</th>\n",
       "      <td>0.0</td>\n",
       "      <td>None</td>\n",
       "      <td>Face</td>\n",
       "      <td>235.166667</td>\n",
       "      <td>4.000000</td>\n",
       "      <td>NaN</td>\n",
       "      <td>1.108833</td>\n",
       "      <td>2.333333</td>\n",
       "      <td>NaN</td>\n",
       "      <td>NaN</td>\n",
       "      <td>NaN</td>\n",
       "      <td>NaN</td>\n",
       "      <td>NaN</td>\n",
       "      <td>1.550772e+09</td>\n",
       "      <td>1.550772e+09</td>\n",
       "      <td>NaN</td>\n",
       "    </tr>\n",
       "  </tbody>\n",
       "</table>\n",
       "</div>"
      ],
      "text/plain": [
       "   Subject Attention Level Category  Unnamed: 0.1       Run  \\\n",
       "0      0.0        Category     Face    211.000000  3.600000   \n",
       "1      0.0        Category    Place    227.833333  4.000000   \n",
       "2      0.0            Full     Face    201.000000  3.333333   \n",
       "3      0.0            Full    Place    178.833333  3.000000   \n",
       "4      0.0            None     Face    235.166667  4.000000   \n",
       "\n",
       "   Attention Reaction Time (s)  Familiarity Reaction Time (s)  \\\n",
       "0                          NaN                       1.447400   \n",
       "1                          NaN                       1.259000   \n",
       "2                          NaN                       0.802000   \n",
       "3                          NaN                       1.282000   \n",
       "4                          NaN                       1.108833   \n",
       "\n",
       "   Familiarity Rating  Cue Validity  Post Invalid Cue  Pre Invalid Cue  \\\n",
       "0            1.800000           NaN               NaN              NaN   \n",
       "1            2.000000           NaN               NaN              NaN   \n",
       "2            2.000000           NaN               NaN              NaN   \n",
       "3            3.166667           NaN               NaN              NaN   \n",
       "4            2.333333           NaN               NaN              NaN   \n",
       "\n",
       "   Attention Button  Rating History  Stimulus Onset  Stimulus End  Trial  \n",
       "0               NaN             NaN    1.550772e+09  1.550772e+09    NaN  \n",
       "1               NaN             NaN    1.550772e+09  1.550772e+09    NaN  \n",
       "2               NaN             NaN    1.550772e+09  1.550772e+09    NaN  \n",
       "3               NaN             NaN    1.550771e+09  1.550771e+09    NaN  \n",
       "4               NaN             NaN    1.550772e+09  1.550772e+09    NaN  "
      ]
     },
     "execution_count": 36,
     "metadata": {},
     "output_type": "execute_result"
    }
   ],
   "source": [
    "groupy.head()"
   ]
  },
  {
   "cell_type": "code",
   "execution_count": null,
   "metadata": {},
   "outputs": [],
   "source": []
  },
  {
   "cell_type": "code",
   "execution_count": null,
   "metadata": {},
   "outputs": [],
   "source": []
  },
  {
   "cell_type": "code",
   "execution_count": null,
   "metadata": {},
   "outputs": [],
   "source": []
  },
  {
   "cell_type": "code",
   "execution_count": null,
   "metadata": {},
   "outputs": [],
   "source": []
  },
  {
   "cell_type": "code",
   "execution_count": null,
   "metadata": {},
   "outputs": [],
   "source": []
  },
  {
   "cell_type": "code",
   "execution_count": 37,
   "metadata": {},
   "outputs": [],
   "source": [
    "# for cat in ['Face','Place']:   \n",
    "#     for dat,name in zip([behav_full, five, one],['full data','five','one']):\n",
    "#         d = dat.groupby(['Subject','Attention Level','Category'],as_index=False).mean()\n",
    "#         print()\n",
    "#         print(cat+' '+name)\n",
    "#         print()\n",
    "#         print(pd.DataFrame(t_tester(d[d['Category']==cat])))\n",
    "#         print('----------------------')"
   ]
  },
  {
   "cell_type": "code",
   "execution_count": 38,
   "metadata": {},
   "outputs": [],
   "source": [
    "# sb.scatterplot(x=t_tester(d[d['Category']==cat]).keys(), y=t_tester(d[d['Category']==cat]))"
   ]
  },
  {
   "cell_type": "code",
   "execution_count": null,
   "metadata": {},
   "outputs": [],
   "source": []
  },
  {
   "cell_type": "code",
   "execution_count": null,
   "metadata": {},
   "outputs": [],
   "source": []
  },
  {
   "cell_type": "code",
   "execution_count": null,
   "metadata": {},
   "outputs": [],
   "source": []
  },
  {
   "cell_type": "code",
   "execution_count": null,
   "metadata": {},
   "outputs": [],
   "source": []
  },
  {
   "cell_type": "code",
   "execution_count": null,
   "metadata": {},
   "outputs": [],
   "source": []
  },
  {
   "cell_type": "code",
   "execution_count": 39,
   "metadata": {},
   "outputs": [
    {
     "data": {
      "text/plain": [
       "array([], dtype=object)"
      ]
     },
     "execution_count": 39,
     "metadata": {},
     "output_type": "execute_result"
    }
   ],
   "source": [
    "five[five['Subject']==sub]['Attention Level'].unique()"
   ]
  },
  {
   "cell_type": "code",
   "execution_count": 40,
   "metadata": {},
   "outputs": [
    {
     "name": "stdout",
     "output_type": "stream",
     "text": [
      "15\n"
     ]
    }
   ],
   "source": [
    "l = []\n",
    "for sub in five['Subject'].unique():\n",
    "    if len(five[(five['Subject']==sub) & (five['Category']=='Face')]['Attention Level'].unique())==6 and len(five[(five['Subject']==sub) & (five['Category']=='Face')]['Attention Level'].unique())==6:\n",
    "        l.append(sub)\n",
    "print(len(l))\n",
    "#five.groupby(['Subject','Category','Attention Level'],as_index=False).count()"
   ]
  },
  {
   "cell_type": "code",
   "execution_count": 41,
   "metadata": {},
   "outputs": [
    {
     "ename": "NameError",
     "evalue": "name 'grouped_three' is not defined",
     "output_type": "error",
     "traceback": [
      "\u001b[0;31m---------------------------------------------------------------------------\u001b[0m",
      "\u001b[0;31mNameError\u001b[0m                                 Traceback (most recent call last)",
      "\u001b[0;32m<ipython-input-41-496786033c45>\u001b[0m in \u001b[0;36m<module>\u001b[0;34m()\u001b[0m\n\u001b[1;32m      1\u001b[0m \u001b[0mtrials\u001b[0m\u001b[0;34m=\u001b[0m\u001b[0;36m0\u001b[0m\u001b[0;34m\u001b[0m\u001b[0m\n\u001b[0;32m----> 2\u001b[0;31m \u001b[0;32mfor\u001b[0m \u001b[0msub\u001b[0m \u001b[0;32min\u001b[0m \u001b[0mgrouped_three\u001b[0m\u001b[0;34m[\u001b[0m\u001b[0;34m'Subject'\u001b[0m\u001b[0;34m]\u001b[0m\u001b[0;34m.\u001b[0m\u001b[0munique\u001b[0m\u001b[0;34m(\u001b[0m\u001b[0;34m)\u001b[0m\u001b[0;34m:\u001b[0m\u001b[0;34m\u001b[0m\u001b[0m\n\u001b[0m\u001b[1;32m      3\u001b[0m     \u001b[0;31m#print(grouped_three.loc[(grouped_three['Subject']==sub)].shape[0])\u001b[0m\u001b[0;34m\u001b[0m\u001b[0;34m\u001b[0m\u001b[0m\n\u001b[1;32m      4\u001b[0m     \u001b[0mtrials\u001b[0m \u001b[0;34m+=\u001b[0m \u001b[0mgrouped_three\u001b[0m\u001b[0;34m.\u001b[0m\u001b[0mloc\u001b[0m\u001b[0;34m[\u001b[0m\u001b[0;34m(\u001b[0m\u001b[0mgrouped_three\u001b[0m\u001b[0;34m[\u001b[0m\u001b[0;34m'Subject'\u001b[0m\u001b[0;34m]\u001b[0m\u001b[0;34m==\u001b[0m\u001b[0msub\u001b[0m\u001b[0;34m)\u001b[0m\u001b[0;34m]\u001b[0m\u001b[0;34m.\u001b[0m\u001b[0mshape\u001b[0m\u001b[0;34m[\u001b[0m\u001b[0;36m0\u001b[0m\u001b[0;34m]\u001b[0m\u001b[0;34m\u001b[0m\u001b[0m\n\u001b[1;32m      5\u001b[0m \u001b[0mprint\u001b[0m\u001b[0;34m(\u001b[0m\u001b[0mtrials\u001b[0m\u001b[0;34m)\u001b[0m\u001b[0;34m\u001b[0m\u001b[0m\n",
      "\u001b[0;31mNameError\u001b[0m: name 'grouped_three' is not defined"
     ]
    }
   ],
   "source": [
    "trials=0\n",
    "for sub in grouped_three['Subject'].unique():\n",
    "    #print(grouped_three.loc[(grouped_three['Subject']==sub)].shape[0])\n",
    "    trials += grouped_three.loc[(grouped_three['Subject']==sub)].shape[0]\n",
    "print(trials)\n",
    "print(trials/(40*8*30))"
   ]
  },
  {
   "cell_type": "code",
   "execution_count": null,
   "metadata": {},
   "outputs": [],
   "source": [
    "# grp"
   ]
  },
  {
   "cell_type": "code",
   "execution_count": 44,
   "metadata": {},
   "outputs": [
    {
     "ename": "NameError",
     "evalue": "name 'p_df' is not defined",
     "output_type": "error",
     "traceback": [
      "\u001b[0;31m---------------------------------------------------------------------------\u001b[0m",
      "\u001b[0;31mNameError\u001b[0m                                 Traceback (most recent call last)",
      "\u001b[0;32m<ipython-input-44-4f5aa17c3b02>\u001b[0m in \u001b[0;36m<module>\u001b[0;34m()\u001b[0m\n\u001b[0;32m----> 1\u001b[0;31m \u001b[0mpres\u001b[0m\u001b[0;34m=\u001b[0m\u001b[0mpd\u001b[0m\u001b[0;34m.\u001b[0m\u001b[0mconcat\u001b[0m\u001b[0;34m(\u001b[0m\u001b[0mp_df\u001b[0m\u001b[0;34m)\u001b[0m\u001b[0;34m\u001b[0m\u001b[0m\n\u001b[0m\u001b[1;32m      2\u001b[0m \u001b[0;34m\u001b[0m\u001b[0m\n\u001b[1;32m      3\u001b[0m \u001b[0msb\u001b[0m\u001b[0;34m.\u001b[0m\u001b[0mbarplot\u001b[0m\u001b[0;34m(\u001b[0m\u001b[0mx\u001b[0m\u001b[0;34m=\u001b[0m\u001b[0mpres\u001b[0m\u001b[0;34m[\u001b[0m\u001b[0;34m'Cue Validity'\u001b[0m\u001b[0;34m]\u001b[0m\u001b[0;34m,\u001b[0m \u001b[0my\u001b[0m\u001b[0;34m=\u001b[0m\u001b[0mpres\u001b[0m\u001b[0;34m[\u001b[0m\u001b[0;34m'Attention Reaction Time (s)'\u001b[0m\u001b[0;34m]\u001b[0m\u001b[0;34m)\u001b[0m\u001b[0;34m\u001b[0m\u001b[0m\n\u001b[1;32m      4\u001b[0m \u001b[0mgrp\u001b[0m \u001b[0;34m=\u001b[0m \u001b[0mpres\u001b[0m\u001b[0;34m.\u001b[0m\u001b[0mgroupby\u001b[0m\u001b[0;34m(\u001b[0m\u001b[0;34m[\u001b[0m\u001b[0;34m'Subject'\u001b[0m\u001b[0;34m,\u001b[0m\u001b[0;34m'Cue Validity'\u001b[0m\u001b[0;34m]\u001b[0m\u001b[0;34m,\u001b[0m \u001b[0mas_index\u001b[0m\u001b[0;34m=\u001b[0m\u001b[0;32mFalse\u001b[0m\u001b[0;34m)\u001b[0m\u001b[0;34m.\u001b[0m\u001b[0mmean\u001b[0m\u001b[0;34m(\u001b[0m\u001b[0;34m)\u001b[0m\u001b[0;34m\u001b[0m\u001b[0m\n\u001b[1;32m      5\u001b[0m \u001b[0;34m\u001b[0m\u001b[0m\n",
      "\u001b[0;31mNameError\u001b[0m: name 'p_df' is not defined"
     ]
    }
   ],
   "source": [
    "pres=pd.concat(p_df)\n",
    "\n",
    "sb.barplot(x=pres['Cue Validity'], y=pres['Attention Reaction Time (s)'])\n",
    "grp = pres.groupby(['Subject','Cue Validity'], as_index=False).mean()\n",
    "\n",
    "\n",
    "scipy.stats.ttest_rel(grp[grp['Cue Validity']==True]['Attention Reaction Time (s)'], \n",
    "                grp[grp['Cue Validity']==False]['Attention Reaction Time (s)'])"
   ]
  },
  {
   "cell_type": "code",
   "execution_count": 45,
   "metadata": {},
   "outputs": [
    {
     "ename": "NameError",
     "evalue": "name 'behav_three' is not defined",
     "output_type": "error",
     "traceback": [
      "\u001b[0;31m---------------------------------------------------------------------------\u001b[0m",
      "\u001b[0;31mNameError\u001b[0m                                 Traceback (most recent call last)",
      "\u001b[0;32m<ipython-input-45-9fdd1148aabb>\u001b[0m in \u001b[0;36m<module>\u001b[0;34m()\u001b[0m\n\u001b[0;32m----> 1\u001b[0;31m \u001b[0mscipy\u001b[0m\u001b[0;34m.\u001b[0m\u001b[0mstats\u001b[0m\u001b[0;34m.\u001b[0m\u001b[0mttest_ind\u001b[0m\u001b[0;34m(\u001b[0m\u001b[0mbehav_three\u001b[0m\u001b[0;34m[\u001b[0m\u001b[0;34m'Cue Validity'\u001b[0m\u001b[0;34m]\u001b[0m\u001b[0;34m,\u001b[0m \u001b[0mbehav_three\u001b[0m\u001b[0;34m[\u001b[0m\u001b[0;34m'Attention Reaction Time (s)'\u001b[0m\u001b[0;34m]\u001b[0m\u001b[0;34m)\u001b[0m\u001b[0;34m\u001b[0m\u001b[0m\n\u001b[0m\u001b[1;32m      2\u001b[0m \u001b[0;31m# behav_three['Cue Validity']\u001b[0m\u001b[0;34m\u001b[0m\u001b[0;34m\u001b[0m\u001b[0m\n",
      "\u001b[0;31mNameError\u001b[0m: name 'behav_three' is not defined"
     ]
    }
   ],
   "source": [
    "scipy.stats.ttest_ind(behav_three['Cue Validity'], behav_three['Attention Reaction Time (s)'])\n",
    "# behav_three['Cue Validity']"
   ]
  },
  {
   "cell_type": "code",
   "execution_count": 46,
   "metadata": {},
   "outputs": [
    {
     "ename": "NameError",
     "evalue": "name 'behav_three' is not defined",
     "output_type": "error",
     "traceback": [
      "\u001b[0;31m---------------------------------------------------------------------------\u001b[0m",
      "\u001b[0;31mNameError\u001b[0m                                 Traceback (most recent call last)",
      "\u001b[0;32m<ipython-input-46-c5ff2855a85f>\u001b[0m in \u001b[0;36m<module>\u001b[0;34m()\u001b[0m\n\u001b[0;32m----> 1\u001b[0;31m \u001b[0mgrouped_three\u001b[0m \u001b[0;34m=\u001b[0m \u001b[0mbehav_three\u001b[0m\u001b[0;34m.\u001b[0m\u001b[0mgroupby\u001b[0m\u001b[0;34m(\u001b[0m\u001b[0;34m[\u001b[0m\u001b[0;34m'Subject'\u001b[0m\u001b[0;34m,\u001b[0m\u001b[0;34m'Attention Level'\u001b[0m\u001b[0;34m,\u001b[0m\u001b[0;34m'Category'\u001b[0m\u001b[0;34m]\u001b[0m\u001b[0;34m,\u001b[0m\u001b[0mas_index\u001b[0m\u001b[0;34m=\u001b[0m\u001b[0;32mFalse\u001b[0m\u001b[0;34m)\u001b[0m\u001b[0;34m.\u001b[0m\u001b[0mmean\u001b[0m\u001b[0;34m(\u001b[0m\u001b[0;34m)\u001b[0m\u001b[0;34m\u001b[0m\u001b[0m\n\u001b[0m",
      "\u001b[0;31mNameError\u001b[0m: name 'behav_three' is not defined"
     ]
    }
   ],
   "source": [
    "grouped_three = behav_three.groupby(['Subject','Attention Level','Category'],as_index=False).mean()"
   ]
  },
  {
   "cell_type": "markdown",
   "metadata": {},
   "source": [
    "# Exp 2 - Gaze 1x1"
   ]
  },
  {
   "cell_type": "code",
   "execution_count": 47,
   "metadata": {},
   "outputs": [
    {
     "data": {
      "image/png": "[encoded data removed]",
      "text/plain": [
       "<Figure size 432x288 with 1 Axes>"
      ]
     },
     "metadata": {},
     "output_type": "display_data"
    }
   ],
   "source": [
    "sns_plot = sb.barplot(y='Familiarity Rating', x='Attention Level',\n",
    "                      data=five,\n",
    "               order=['Full','Side','Category','None','Novel'])\n",
    "fig = sns_plot.get_figure()\n",
    "fig.savefig(\"Exp2_1Box.pdf\")"
   ]
  },
  {
   "cell_type": "code",
   "execution_count": 48,
   "metadata": {
    "scrolled": true
   },
   "outputs": [
    {
     "ename": "NameError",
     "evalue": "name 'grouped_three' is not defined",
     "output_type": "error",
     "traceback": [
      "\u001b[0;31m---------------------------------------------------------------------------\u001b[0m",
      "\u001b[0;31mNameError\u001b[0m                                 Traceback (most recent call last)",
      "\u001b[0;32m<ipython-input-48-788ae4661a1d>\u001b[0m in \u001b[0;36m<module>\u001b[0;34m()\u001b[0m\n\u001b[1;32m      1\u001b[0m sns_plot = sb.barplot(y='Familiarity Rating', x='Attention Level',\n\u001b[0;32m----> 2\u001b[0;31m                       \u001b[0mdata\u001b[0m\u001b[0;34m=\u001b[0m\u001b[0mgrouped_three\u001b[0m\u001b[0;34m[\u001b[0m\u001b[0mgrouped_three\u001b[0m\u001b[0;34m[\u001b[0m\u001b[0;34m'Category'\u001b[0m\u001b[0;34m]\u001b[0m\u001b[0;34m==\u001b[0m\u001b[0;34m'Place'\u001b[0m\u001b[0;34m]\u001b[0m\u001b[0;34m,\u001b[0m\u001b[0;34m\u001b[0m\u001b[0m\n\u001b[0m\u001b[1;32m      3\u001b[0m                order=['Full','Side','Category','None','Novel'])\n\u001b[1;32m      4\u001b[0m \u001b[0mfig\u001b[0m \u001b[0;34m=\u001b[0m \u001b[0msns_plot\u001b[0m\u001b[0;34m.\u001b[0m\u001b[0mget_figure\u001b[0m\u001b[0;34m(\u001b[0m\u001b[0;34m)\u001b[0m\u001b[0;34m\u001b[0m\u001b[0m\n\u001b[1;32m      5\u001b[0m \u001b[0mfig\u001b[0m\u001b[0;34m.\u001b[0m\u001b[0msavefig\u001b[0m\u001b[0;34m(\u001b[0m\u001b[0;34m\"Exp2_1Box.pdf\"\u001b[0m\u001b[0;34m)\u001b[0m\u001b[0;34m\u001b[0m\u001b[0m\n",
      "\u001b[0;31mNameError\u001b[0m: name 'grouped_three' is not defined"
     ]
    }
   ],
   "source": [
    "sns_plot = sb.barplot(y='Familiarity Rating', x='Attention Level',\n",
    "                      data=grouped_three[grouped_three['Category']=='Place'],\n",
    "               order=['Full','Side','Category','None','Novel'])\n",
    "fig = sns_plot.get_figure()\n",
    "fig.savefig(\"Exp2_1Box.pdf\")"
   ]
  },
  {
   "cell_type": "code",
   "execution_count": 49,
   "metadata": {},
   "outputs": [
    {
     "ename": "NameError",
     "evalue": "name 'grouped_three' is not defined",
     "output_type": "error",
     "traceback": [
      "\u001b[0;31m---------------------------------------------------------------------------\u001b[0m",
      "\u001b[0;31mNameError\u001b[0m                                 Traceback (most recent call last)",
      "\u001b[0;32m<ipython-input-49-bcade747b9b6>\u001b[0m in \u001b[0;36m<module>\u001b[0;34m()\u001b[0m\n\u001b[1;32m      1\u001b[0m pingouin.rm_anova(dv='Familiarity Rating', within=['Attention Level'], subject='Subject', \n\u001b[0;32m----> 2\u001b[0;31m                   data=grouped_three[grouped_three['Category']=='Place'])\n\u001b[0m",
      "\u001b[0;31mNameError\u001b[0m: name 'grouped_three' is not defined"
     ]
    }
   ],
   "source": [
    "pingouin.rm_anova(dv='Familiarity Rating', within=['Attention Level'], subject='Subject', \n",
    "                  data=grouped_three[grouped_three['Category']=='Place'])"
   ]
  },
  {
   "cell_type": "code",
   "execution_count": 50,
   "metadata": {},
   "outputs": [],
   "source": [
    "# grouped_again\n",
    "pair = combinations(behav_full['Attention Level'].unique(),2) \n",
    "l = [i for i in pair]"
   ]
  },
  {
   "cell_type": "code",
   "execution_count": 51,
   "metadata": {},
   "outputs": [
    {
     "ename": "NameError",
     "evalue": "name 'grouped_three' is not defined",
     "output_type": "error",
     "traceback": [
      "\u001b[0;31m---------------------------------------------------------------------------\u001b[0m",
      "\u001b[0;31mNameError\u001b[0m                                 Traceback (most recent call last)",
      "\u001b[0;32m<ipython-input-51-5fd5f0f6e322>\u001b[0m in \u001b[0;36m<module>\u001b[0;34m()\u001b[0m\n\u001b[0;32m----> 1\u001b[0;31m \u001b[0mgrouped_again\u001b[0m \u001b[0;34m=\u001b[0m \u001b[0mgrouped_three\u001b[0m\u001b[0;34m.\u001b[0m\u001b[0mgroupby\u001b[0m\u001b[0;34m(\u001b[0m\u001b[0;34m[\u001b[0m\u001b[0;34m'Subject'\u001b[0m\u001b[0;34m,\u001b[0m \u001b[0;34m'Attention Level'\u001b[0m\u001b[0;34m]\u001b[0m\u001b[0;34m,\u001b[0m \u001b[0mas_index\u001b[0m\u001b[0;34m=\u001b[0m\u001b[0;32mFalse\u001b[0m\u001b[0;34m)\u001b[0m\u001b[0;34m.\u001b[0m\u001b[0mmean\u001b[0m\u001b[0;34m(\u001b[0m\u001b[0;34m)\u001b[0m\u001b[0;34m\u001b[0m\u001b[0m\n\u001b[0m\u001b[1;32m      2\u001b[0m \u001b[0mpair\u001b[0m \u001b[0;34m=\u001b[0m \u001b[0mcombinations\u001b[0m\u001b[0;34m(\u001b[0m\u001b[0mgrouped_three\u001b[0m\u001b[0;34m[\u001b[0m\u001b[0;34m'Attention Level'\u001b[0m\u001b[0;34m]\u001b[0m\u001b[0;34m.\u001b[0m\u001b[0munique\u001b[0m\u001b[0;34m(\u001b[0m\u001b[0;34m)\u001b[0m\u001b[0;34m,\u001b[0m\u001b[0;36m2\u001b[0m\u001b[0;34m)\u001b[0m\u001b[0;34m\u001b[0m\u001b[0m\n\u001b[1;32m      3\u001b[0m \u001b[0;34m\u001b[0m\u001b[0m\n\u001b[1;32m      4\u001b[0m \u001b[0;32mfor\u001b[0m \u001b[0mi\u001b[0m \u001b[0;32min\u001b[0m \u001b[0mlist\u001b[0m\u001b[0;34m(\u001b[0m\u001b[0mpair\u001b[0m\u001b[0;34m)\u001b[0m\u001b[0;34m:\u001b[0m\u001b[0;34m\u001b[0m\u001b[0m\n\u001b[1;32m      5\u001b[0m     p = scipy.stats.ttest_ind(grouped_again[grouped_again['Attention Level']==i[0]]['Familiarity Rating'], \n",
      "\u001b[0;31mNameError\u001b[0m: name 'grouped_three' is not defined"
     ]
    }
   ],
   "source": [
    "grouped_again = grouped_three.groupby(['Subject', 'Attention Level'], as_index=False).mean()\n",
    "pair = combinations(grouped_three['Attention Level'].unique(),2) \n",
    "   \n",
    "for i in list(pair):    \n",
    "    p = scipy.stats.ttest_ind(grouped_again[grouped_again['Attention Level']==i[0]]['Familiarity Rating'], \n",
    "                          grouped_again[grouped_again['Attention Level']==i[1]]['Familiarity Rating'])\n",
    "    \n",
    "    #if p[1] <.05:\n",
    "    print(i)\n",
    "    print('p = ' + str(p))\n",
    "    print(' ')"
   ]
  },
  {
   "cell_type": "code",
   "execution_count": 52,
   "metadata": {},
   "outputs": [
    {
     "ename": "NameError",
     "evalue": "name 'grouped_three' is not defined",
     "output_type": "error",
     "traceback": [
      "\u001b[0;31m---------------------------------------------------------------------------\u001b[0m",
      "\u001b[0;31mNameError\u001b[0m                                 Traceback (most recent call last)",
      "\u001b[0;32m<ipython-input-52-0290ce63d7a6>\u001b[0m in \u001b[0;36m<module>\u001b[0;34m()\u001b[0m\n\u001b[1;32m      4\u001b[0m \u001b[0;32mfor\u001b[0m \u001b[0mpair\u001b[0m \u001b[0;32min\u001b[0m \u001b[0mlist\u001b[0m\u001b[0;34m(\u001b[0m\u001b[0mitertools\u001b[0m\u001b[0;34m.\u001b[0m\u001b[0mcombinations\u001b[0m\u001b[0;34m(\u001b[0m\u001b[0ml\u001b[0m\u001b[0;34m,\u001b[0m \u001b[0mr\u001b[0m\u001b[0;34m=\u001b[0m\u001b[0;36m2\u001b[0m\u001b[0;34m)\u001b[0m\u001b[0;34m)\u001b[0m\u001b[0;34m:\u001b[0m\u001b[0;34m\u001b[0m\u001b[0m\n\u001b[1;32m      5\u001b[0m \u001b[0;34m\u001b[0m\u001b[0m\n\u001b[0;32m----> 6\u001b[0;31m     t = stats.ttest_ind(grouped_three[grouped_three['Attention Level']==pair[0]]['Familiarity Rating'],\n\u001b[0m\u001b[1;32m      7\u001b[0m                         grouped_three[grouped_three['Attention Level']==pair[1]]['Familiarity Rating'])\n\u001b[1;32m      8\u001b[0m \u001b[0;34m\u001b[0m\u001b[0m\n",
      "\u001b[0;31mNameError\u001b[0m: name 'grouped_three' is not defined"
     ]
    }
   ],
   "source": [
    "import itertools\n",
    "from scipy import stats\n",
    "l = ['Full', 'Category','Side','None']#grouped_three['Attention Level'].unique()\n",
    "for pair in list(itertools.combinations(l, r=2)):\n",
    "    \n",
    "    t = stats.ttest_ind(grouped_three[grouped_three['Attention Level']==pair[0]]['Familiarity Rating'],\n",
    "                        grouped_three[grouped_three['Attention Level']==pair[1]]['Familiarity Rating'])\n",
    "    \n",
    "    #if t[1]<.05:\n",
    "    print(pair[0]+\" vs. \"+pair[1])\n",
    "    print(t)\n",
    "    \n",
    "#pingouin.ttest()"
   ]
  },
  {
   "cell_type": "markdown",
   "metadata": {},
   "source": [
    "# Exp 2 - All Gaze"
   ]
  },
  {
   "cell_type": "code",
   "execution_count": 53,
   "metadata": {},
   "outputs": [
    {
     "data": {
      "text/plain": [
       "array([nan, 'Side', 'None', 'Novel', 'Category', 'Full'], dtype=object)"
      ]
     },
     "execution_count": 53,
     "metadata": {},
     "output_type": "execute_result"
    }
   ],
   "source": [
    "behav_full['Attention Level'].unique()"
   ]
  },
  {
   "cell_type": "code",
   "execution_count": 54,
   "metadata": {},
   "outputs": [
    {
     "data": {
      "image/png": "[encoded data removed]",
      "text/plain": [
       "<Figure size 432x288 with 1 Axes>"
      ]
     },
     "metadata": {},
     "output_type": "display_data"
    }
   ],
   "source": [
    "groupy = behav_full.groupby(['Subject','Category', 'Attention Level'], as_index=False).mean()\n",
    "sns_plot = sb.barplot(y='Familiarity Rating', x='Attention Level', data=groupy, hue='Category',\n",
    "             order=['Full','Side','Category','None','Novel'])\n",
    "\n",
    "\n",
    "fig = sns_plot.get_figure()\n",
    "fig.savefig(\"Exp2_AllGaze.pdf\")"
   ]
  },
  {
   "cell_type": "code",
   "execution_count": 55,
   "metadata": {},
   "outputs": [
    {
     "data": {
      "text/html": [
       "<div>\n",
       "<style scoped>\n",
       "    .dataframe tbody tr th:only-of-type {\n",
       "        vertical-align: middle;\n",
       "    }\n",
       "\n",
       "    .dataframe tbody tr th {\n",
       "        vertical-align: top;\n",
       "    }\n",
       "\n",
       "    .dataframe thead th {\n",
       "        text-align: right;\n",
       "    }\n",
       "</style>\n",
       "<table border=\"1\" class=\"dataframe\">\n",
       "  <thead>\n",
       "    <tr style=\"text-align: right;\">\n",
       "      <th></th>\n",
       "      <th>Source</th>\n",
       "      <th>SS</th>\n",
       "      <th>ddof1</th>\n",
       "      <th>ddof2</th>\n",
       "      <th>MS</th>\n",
       "      <th>F</th>\n",
       "      <th>p-unc</th>\n",
       "      <th>p-GG-corr</th>\n",
       "      <th>np2</th>\n",
       "      <th>eps</th>\n",
       "    </tr>\n",
       "  </thead>\n",
       "  <tbody>\n",
       "    <tr>\n",
       "      <th>0</th>\n",
       "      <td>Attention Level</td>\n",
       "      <td>5.852</td>\n",
       "      <td>4</td>\n",
       "      <td>116</td>\n",
       "      <td>1.463</td>\n",
       "      <td>15.486</td>\n",
       "      <td>3.536122e-10</td>\n",
       "      <td>1.277531e-07</td>\n",
       "      <td>0.348</td>\n",
       "      <td>0.684</td>\n",
       "    </tr>\n",
       "    <tr>\n",
       "      <th>1</th>\n",
       "      <td>Category</td>\n",
       "      <td>1.721</td>\n",
       "      <td>1</td>\n",
       "      <td>29</td>\n",
       "      <td>1.721</td>\n",
       "      <td>8.022</td>\n",
       "      <td>8.318145e-03</td>\n",
       "      <td>8.318145e-03</td>\n",
       "      <td>0.217</td>\n",
       "      <td>1.000</td>\n",
       "    </tr>\n",
       "    <tr>\n",
       "      <th>2</th>\n",
       "      <td>Attention Level * Category</td>\n",
       "      <td>1.575</td>\n",
       "      <td>4</td>\n",
       "      <td>116</td>\n",
       "      <td>0.394</td>\n",
       "      <td>6.040</td>\n",
       "      <td>1.887279e-04</td>\n",
       "      <td>2.846625e-03</td>\n",
       "      <td>0.172</td>\n",
       "      <td>0.560</td>\n",
       "    </tr>\n",
       "  </tbody>\n",
       "</table>\n",
       "</div>"
      ],
      "text/plain": [
       "                       Source     SS  ddof1  ddof2     MS       F  \\\n",
       "0             Attention Level  5.852      4    116  1.463  15.486   \n",
       "1                    Category  1.721      1     29  1.721   8.022   \n",
       "2  Attention Level * Category  1.575      4    116  0.394   6.040   \n",
       "\n",
       "          p-unc     p-GG-corr    np2    eps  \n",
       "0  3.536122e-10  1.277531e-07  0.348  0.684  \n",
       "1  8.318145e-03  8.318145e-03  0.217  1.000  \n",
       "2  1.887279e-04  2.846625e-03  0.172  0.560  "
      ]
     },
     "execution_count": 55,
     "metadata": {},
     "output_type": "execute_result"
    }
   ],
   "source": [
    "pingouin.rm_anova(dv='Familiarity Rating', within=['Attention Level','Category'], subject='Subject', data=groupy)"
   ]
  },
  {
   "cell_type": "code",
   "execution_count": 56,
   "metadata": {},
   "outputs": [
    {
     "ename": "NameError",
     "evalue": "name 'behav_three' is not defined",
     "output_type": "error",
     "traceback": [
      "\u001b[0;31m---------------------------------------------------------------------------\u001b[0m",
      "\u001b[0;31mNameError\u001b[0m                                 Traceback (most recent call last)",
      "\u001b[0;32m<ipython-input-56-e3eb7a912205>\u001b[0m in \u001b[0;36m<module>\u001b[0;34m()\u001b[0m\n\u001b[0;32m----> 1\u001b[0;31m \u001b[0mbehav_three\u001b[0m\u001b[0;34m.\u001b[0m\u001b[0mto_csv\u001b[0m\u001b[0;34m(\u001b[0m\u001b[0;34m'behav_three.csv'\u001b[0m\u001b[0;34m)\u001b[0m\u001b[0;34m\u001b[0m\u001b[0m\n\u001b[0m",
      "\u001b[0;31mNameError\u001b[0m: name 'behav_three' is not defined"
     ]
    }
   ],
   "source": [
    "behav_three.to_csv('behav_three.csv')"
   ]
  },
  {
   "cell_type": "code",
   "execution_count": 57,
   "metadata": {},
   "outputs": [
    {
     "data": {
      "text/html": [
       "<div>\n",
       "<style scoped>\n",
       "    .dataframe tbody tr th:only-of-type {\n",
       "        vertical-align: middle;\n",
       "    }\n",
       "\n",
       "    .dataframe tbody tr th {\n",
       "        vertical-align: top;\n",
       "    }\n",
       "\n",
       "    .dataframe thead th {\n",
       "        text-align: right;\n",
       "    }\n",
       "</style>\n",
       "<table border=\"1\" class=\"dataframe\">\n",
       "  <thead>\n",
       "    <tr style=\"text-align: right;\">\n",
       "      <th></th>\n",
       "      <th>Unnamed: 0.1</th>\n",
       "      <th>Subject</th>\n",
       "      <th>Trial Type</th>\n",
       "      <th>Run</th>\n",
       "      <th>Cued Composite</th>\n",
       "      <th>Uncued Composite</th>\n",
       "      <th>Cued Face</th>\n",
       "      <th>Cued Place</th>\n",
       "      <th>Uncued Face</th>\n",
       "      <th>Uncued Place</th>\n",
       "      <th>...</th>\n",
       "      <th>Attention Level</th>\n",
       "      <th>Cue Validity</th>\n",
       "      <th>Post Invalid Cue</th>\n",
       "      <th>Pre Invalid Cue</th>\n",
       "      <th>Attention Button</th>\n",
       "      <th>Rating History</th>\n",
       "      <th>Stimulus Onset</th>\n",
       "      <th>Stimulus End</th>\n",
       "      <th>Attention Probe</th>\n",
       "      <th>Trial</th>\n",
       "    </tr>\n",
       "  </thead>\n",
       "  <tbody>\n",
       "    <tr>\n",
       "      <th>0</th>\n",
       "      <td>150</td>\n",
       "      <td>8.0</td>\n",
       "      <td>Presentation</td>\n",
       "      <td>3.0</td>\n",
       "      <td>00532960627fa_sunaccdtpgenvcbcbcf.jpg</td>\n",
       "      <td>00288940422fa_sunabppokiyglaxpcha.jpg</td>\n",
       "      <td>00532960627fa.jpg</td>\n",
       "      <td>sunaccdtpgenvcbcbcf.jpg</td>\n",
       "      <td>00288940422fa.jpg</td>\n",
       "      <td>sunabppokiyglaxpcha.jpg</td>\n",
       "      <td>...</td>\n",
       "      <td>NaN</td>\n",
       "      <td>1.0</td>\n",
       "      <td>NaN</td>\n",
       "      <td>NaN</td>\n",
       "      <td>1.0</td>\n",
       "      <td>NaN</td>\n",
       "      <td>1.551381e+09</td>\n",
       "      <td>1.551381e+09</td>\n",
       "      <td>x</td>\n",
       "      <td>0.0</td>\n",
       "    </tr>\n",
       "    <tr>\n",
       "      <th>1</th>\n",
       "      <td>151</td>\n",
       "      <td>8.0</td>\n",
       "      <td>Presentation</td>\n",
       "      <td>3.0</td>\n",
       "      <td>00787960620fa_sunagoufulkpsxrmklt.jpg</td>\n",
       "      <td>00857940307fa_sunaiwfobocrruqznsv.jpg</td>\n",
       "      <td>00787960620fa.jpg</td>\n",
       "      <td>sunagoufulkpsxrmklt.jpg</td>\n",
       "      <td>00857940307fa.jpg</td>\n",
       "      <td>sunaiwfobocrruqznsv.jpg</td>\n",
       "      <td>...</td>\n",
       "      <td>NaN</td>\n",
       "      <td>1.0</td>\n",
       "      <td>NaN</td>\n",
       "      <td>NaN</td>\n",
       "      <td>3.0</td>\n",
       "      <td>NaN</td>\n",
       "      <td>1.551381e+09</td>\n",
       "      <td>1.551381e+09</td>\n",
       "      <td>o</td>\n",
       "      <td>1.0</td>\n",
       "    </tr>\n",
       "    <tr>\n",
       "      <th>2</th>\n",
       "      <td>152</td>\n",
       "      <td>8.0</td>\n",
       "      <td>Presentation</td>\n",
       "      <td>3.0</td>\n",
       "      <td>00130931230fa_sunaamvxnvouicstkjb.jpg</td>\n",
       "      <td>00568940928fa_sunacsdhbbsybcyxnel.jpg</td>\n",
       "      <td>00130931230fa.jpg</td>\n",
       "      <td>sunaamvxnvouicstkjb.jpg</td>\n",
       "      <td>00568940928fa.jpg</td>\n",
       "      <td>sunacsdhbbsybcyxnel.jpg</td>\n",
       "      <td>...</td>\n",
       "      <td>NaN</td>\n",
       "      <td>1.0</td>\n",
       "      <td>NaN</td>\n",
       "      <td>NaN</td>\n",
       "      <td>1.0</td>\n",
       "      <td>NaN</td>\n",
       "      <td>1.551381e+09</td>\n",
       "      <td>1.551381e+09</td>\n",
       "      <td>x</td>\n",
       "      <td>2.0</td>\n",
       "    </tr>\n",
       "    <tr>\n",
       "      <th>3</th>\n",
       "      <td>153</td>\n",
       "      <td>8.0</td>\n",
       "      <td>Presentation</td>\n",
       "      <td>3.0</td>\n",
       "      <td>00967960627fa_sunbaejotfklekvpxcz.jpg</td>\n",
       "      <td>00929960627fa_sunaprnrbmgkomdbchr.jpg</td>\n",
       "      <td>00967960627fa.jpg</td>\n",
       "      <td>sunbaejotfklekvpxcz.jpg</td>\n",
       "      <td>00929960627fa.jpg</td>\n",
       "      <td>sunaprnrbmgkomdbchr.jpg</td>\n",
       "      <td>...</td>\n",
       "      <td>NaN</td>\n",
       "      <td>1.0</td>\n",
       "      <td>NaN</td>\n",
       "      <td>NaN</td>\n",
       "      <td>1.0</td>\n",
       "      <td>NaN</td>\n",
       "      <td>1.551381e+09</td>\n",
       "      <td>1.551381e+09</td>\n",
       "      <td>x</td>\n",
       "      <td>3.0</td>\n",
       "    </tr>\n",
       "    <tr>\n",
       "      <th>4</th>\n",
       "      <td>154</td>\n",
       "      <td>8.0</td>\n",
       "      <td>Presentation</td>\n",
       "      <td>3.0</td>\n",
       "      <td>00062931230fb_sunaaelotvjgibjtjhs.jpg</td>\n",
       "      <td>00663941121fa_sunadnjjzohjhbohlwq.jpg</td>\n",
       "      <td>00062931230fb.jpg</td>\n",
       "      <td>sunaaelotvjgibjtjhs.jpg</td>\n",
       "      <td>00663941121fa.jpg</td>\n",
       "      <td>sunadnjjzohjhbohlwq.jpg</td>\n",
       "      <td>...</td>\n",
       "      <td>NaN</td>\n",
       "      <td>1.0</td>\n",
       "      <td>NaN</td>\n",
       "      <td>NaN</td>\n",
       "      <td>3.0</td>\n",
       "      <td>NaN</td>\n",
       "      <td>1.551381e+09</td>\n",
       "      <td>1.551381e+09</td>\n",
       "      <td>o</td>\n",
       "      <td>4.0</td>\n",
       "    </tr>\n",
       "  </tbody>\n",
       "</table>\n",
       "<p>5 rows × 27 columns</p>\n",
       "</div>"
      ],
      "text/plain": [
       "   Unnamed: 0.1  Subject    Trial Type  Run  \\\n",
       "0           150      8.0  Presentation  3.0   \n",
       "1           151      8.0  Presentation  3.0   \n",
       "2           152      8.0  Presentation  3.0   \n",
       "3           153      8.0  Presentation  3.0   \n",
       "4           154      8.0  Presentation  3.0   \n",
       "\n",
       "                          Cued Composite  \\\n",
       "0  00532960627fa_sunaccdtpgenvcbcbcf.jpg   \n",
       "1  00787960620fa_sunagoufulkpsxrmklt.jpg   \n",
       "2  00130931230fa_sunaamvxnvouicstkjb.jpg   \n",
       "3  00967960627fa_sunbaejotfklekvpxcz.jpg   \n",
       "4  00062931230fb_sunaaelotvjgibjtjhs.jpg   \n",
       "\n",
       "                        Uncued Composite          Cued Face  \\\n",
       "0  00288940422fa_sunabppokiyglaxpcha.jpg  00532960627fa.jpg   \n",
       "1  00857940307fa_sunaiwfobocrruqznsv.jpg  00787960620fa.jpg   \n",
       "2  00568940928fa_sunacsdhbbsybcyxnel.jpg  00130931230fa.jpg   \n",
       "3  00929960627fa_sunaprnrbmgkomdbchr.jpg  00967960627fa.jpg   \n",
       "4  00663941121fa_sunadnjjzohjhbohlwq.jpg  00062931230fb.jpg   \n",
       "\n",
       "                Cued Place        Uncued Face             Uncued Place  ...    \\\n",
       "0  sunaccdtpgenvcbcbcf.jpg  00288940422fa.jpg  sunabppokiyglaxpcha.jpg  ...     \n",
       "1  sunagoufulkpsxrmklt.jpg  00857940307fa.jpg  sunaiwfobocrruqznsv.jpg  ...     \n",
       "2  sunaamvxnvouicstkjb.jpg  00568940928fa.jpg  sunacsdhbbsybcyxnel.jpg  ...     \n",
       "3  sunbaejotfklekvpxcz.jpg  00929960627fa.jpg  sunaprnrbmgkomdbchr.jpg  ...     \n",
       "4  sunaaelotvjgibjtjhs.jpg  00663941121fa.jpg  sunadnjjzohjhbohlwq.jpg  ...     \n",
       "\n",
       "  Attention Level Cue Validity Post Invalid Cue Pre Invalid Cue  \\\n",
       "0             NaN          1.0              NaN             NaN   \n",
       "1             NaN          1.0              NaN             NaN   \n",
       "2             NaN          1.0              NaN             NaN   \n",
       "3             NaN          1.0              NaN             NaN   \n",
       "4             NaN          1.0              NaN             NaN   \n",
       "\n",
       "   Attention Button  Rating History  Stimulus Onset  Stimulus End  \\\n",
       "0               1.0             NaN    1.551381e+09  1.551381e+09   \n",
       "1               3.0             NaN    1.551381e+09  1.551381e+09   \n",
       "2               1.0             NaN    1.551381e+09  1.551381e+09   \n",
       "3               1.0             NaN    1.551381e+09  1.551381e+09   \n",
       "4               3.0             NaN    1.551381e+09  1.551381e+09   \n",
       "\n",
       "   Attention Probe  Trial  \n",
       "0                x    0.0  \n",
       "1                o    1.0  \n",
       "2                x    2.0  \n",
       "3                x    3.0  \n",
       "4                o    4.0  \n",
       "\n",
       "[5 rows x 27 columns]"
      ]
     },
     "execution_count": 57,
     "metadata": {},
     "output_type": "execute_result"
    }
   ],
   "source": [
    "behav_full.head()"
   ]
  },
  {
   "cell_type": "code",
   "execution_count": 58,
   "metadata": {},
   "outputs": [
    {
     "data": {
      "text/html": [
       "<div>\n",
       "<style scoped>\n",
       "    .dataframe tbody tr th:only-of-type {\n",
       "        vertical-align: middle;\n",
       "    }\n",
       "\n",
       "    .dataframe tbody tr th {\n",
       "        vertical-align: top;\n",
       "    }\n",
       "\n",
       "    .dataframe thead th {\n",
       "        text-align: right;\n",
       "    }\n",
       "</style>\n",
       "<table border=\"1\" class=\"dataframe\">\n",
       "  <thead>\n",
       "    <tr style=\"text-align: right;\">\n",
       "      <th></th>\n",
       "      <th>Subject</th>\n",
       "      <th>Run</th>\n",
       "      <th>Trial</th>\n",
       "      <th>fix</th>\n",
       "      <th>state</th>\n",
       "      <th>time</th>\n",
       "      <th>timestamp</th>\n",
       "      <th>xRaw_righteye</th>\n",
       "      <th>yRaw_righteye</th>\n",
       "      <th>xRaw_lefteye</th>\n",
       "      <th>yRaw_lefteye</th>\n",
       "      <th>av_x_coord</th>\n",
       "      <th>av_y_coord</th>\n",
       "    </tr>\n",
       "  </thead>\n",
       "  <tbody>\n",
       "    <tr>\n",
       "      <th>0</th>\n",
       "      <td>0.0</td>\n",
       "      <td>1.0</td>\n",
       "      <td>0.0</td>\n",
       "      <td>0.814815</td>\n",
       "      <td>7.0</td>\n",
       "      <td>2.874117e+08</td>\n",
       "      <td>1.550771e+09</td>\n",
       "      <td>1015.228583</td>\n",
       "      <td>548.307868</td>\n",
       "      <td>1061.712559</td>\n",
       "      <td>545.402206</td>\n",
       "      <td>30.322529</td>\n",
       "      <td>15.949939</td>\n",
       "    </tr>\n",
       "    <tr>\n",
       "      <th>1</th>\n",
       "      <td>0.0</td>\n",
       "      <td>1.0</td>\n",
       "      <td>1.0</td>\n",
       "      <td>1.000000</td>\n",
       "      <td>7.0</td>\n",
       "      <td>2.874196e+08</td>\n",
       "      <td>1.550771e+09</td>\n",
       "      <td>986.458399</td>\n",
       "      <td>543.586427</td>\n",
       "      <td>1053.526547</td>\n",
       "      <td>545.228691</td>\n",
       "      <td>29.782983</td>\n",
       "      <td>15.878554</td>\n",
       "    </tr>\n",
       "    <tr>\n",
       "      <th>2</th>\n",
       "      <td>0.0</td>\n",
       "      <td>1.0</td>\n",
       "      <td>2.0</td>\n",
       "      <td>1.000000</td>\n",
       "      <td>7.0</td>\n",
       "      <td>2.874266e+08</td>\n",
       "      <td>1.550771e+09</td>\n",
       "      <td>1002.071725</td>\n",
       "      <td>549.426205</td>\n",
       "      <td>1056.637501</td>\n",
       "      <td>564.589679</td>\n",
       "      <td>30.056351</td>\n",
       "      <td>16.246065</td>\n",
       "    </tr>\n",
       "    <tr>\n",
       "      <th>3</th>\n",
       "      <td>0.0</td>\n",
       "      <td>1.0</td>\n",
       "      <td>3.0</td>\n",
       "      <td>0.876543</td>\n",
       "      <td>7.0</td>\n",
       "      <td>2.874346e+08</td>\n",
       "      <td>1.550771e+09</td>\n",
       "      <td>980.632600</td>\n",
       "      <td>544.348123</td>\n",
       "      <td>1039.681690</td>\n",
       "      <td>561.209683</td>\n",
       "      <td>29.495799</td>\n",
       "      <td>16.122718</td>\n",
       "    </tr>\n",
       "    <tr>\n",
       "      <th>4</th>\n",
       "      <td>0.0</td>\n",
       "      <td>1.0</td>\n",
       "      <td>4.0</td>\n",
       "      <td>0.729730</td>\n",
       "      <td>7.0</td>\n",
       "      <td>2.874417e+08</td>\n",
       "      <td>1.550771e+09</td>\n",
       "      <td>1046.032272</td>\n",
       "      <td>554.593077</td>\n",
       "      <td>1121.626199</td>\n",
       "      <td>563.775549</td>\n",
       "      <td>31.646967</td>\n",
       "      <td>16.309542</td>\n",
       "    </tr>\n",
       "  </tbody>\n",
       "</table>\n",
       "</div>"
      ],
      "text/plain": [
       "   Subject  Run  Trial       fix  state          time     timestamp  \\\n",
       "0      0.0  1.0    0.0  0.814815    7.0  2.874117e+08  1.550771e+09   \n",
       "1      0.0  1.0    1.0  1.000000    7.0  2.874196e+08  1.550771e+09   \n",
       "2      0.0  1.0    2.0  1.000000    7.0  2.874266e+08  1.550771e+09   \n",
       "3      0.0  1.0    3.0  0.876543    7.0  2.874346e+08  1.550771e+09   \n",
       "4      0.0  1.0    4.0  0.729730    7.0  2.874417e+08  1.550771e+09   \n",
       "\n",
       "   xRaw_righteye  yRaw_righteye  xRaw_lefteye  yRaw_lefteye  av_x_coord  \\\n",
       "0    1015.228583     548.307868   1061.712559    545.402206   30.322529   \n",
       "1     986.458399     543.586427   1053.526547    545.228691   29.782983   \n",
       "2    1002.071725     549.426205   1056.637501    564.589679   30.056351   \n",
       "3     980.632600     544.348123   1039.681690    561.209683   29.495799   \n",
       "4    1046.032272     554.593077   1121.626199    563.775549   31.646967   \n",
       "\n",
       "   av_y_coord  \n",
       "0   15.949939  \n",
       "1   15.878554  \n",
       "2   16.246065  \n",
       "3   16.122718  \n",
       "4   16.309542  "
      ]
     },
     "execution_count": 58,
     "metadata": {},
     "output_type": "execute_result"
    }
   ],
   "source": [
    "eye_df.groupby(['Subject','Run','Trial'], as_index=False).mean().head()"
   ]
  },
  {
   "cell_type": "code",
   "execution_count": 60,
   "metadata": {},
   "outputs": [
    {
     "data": {
      "text/plain": [
       "Index(['avg', 'fix', 'lefteye', 'raw', 'righteye', 'state', 'time',\n",
       "       'timestamp', 'xRaw_righteye', 'yRaw_righteye', 'xRaw_lefteye',\n",
       "       'yRaw_lefteye', 'av_x_coord', 'av_y_coord', 'Run', 'Subject', 'Trial'],\n",
       "      dtype='object')"
      ]
     },
     "execution_count": 60,
     "metadata": {},
     "output_type": "execute_result"
    }
   ],
   "source": [
    "eye_df[''.columns"
   ]
  },
  {
   "cell_type": "code",
   "execution_count": 64,
   "metadata": {},
   "outputs": [
    {
     "data": {
      "text/plain": [
       "0        >\n",
       "1        <\n",
       "2        <\n",
       "3        >\n",
       "4        <\n",
       "5        >\n",
       "6        <\n",
       "7        >\n",
       "8        <\n",
       "9        >\n",
       "10       <\n",
       "11       >\n",
       "12       >\n",
       "13       >\n",
       "14       >\n",
       "15       <\n",
       "16       <\n",
       "17       <\n",
       "18       >\n",
       "19       <\n",
       "20       <\n",
       "21       >\n",
       "22       >\n",
       "23       <\n",
       "24       >\n",
       "25       <\n",
       "26       >\n",
       "27       <\n",
       "28       >\n",
       "29       <\n",
       "      ... \n",
       "370    NaN\n",
       "371    NaN\n",
       "372    NaN\n",
       "373    NaN\n",
       "374    NaN\n",
       "375    NaN\n",
       "376    NaN\n",
       "377    NaN\n",
       "378    NaN\n",
       "379    NaN\n",
       "380    NaN\n",
       "381    NaN\n",
       "382    NaN\n",
       "383    NaN\n",
       "384    NaN\n",
       "385    NaN\n",
       "386    NaN\n",
       "387    NaN\n",
       "388    NaN\n",
       "389    NaN\n",
       "390    NaN\n",
       "391    NaN\n",
       "392    NaN\n",
       "393    NaN\n",
       "394    NaN\n",
       "395    NaN\n",
       "396    NaN\n",
       "397    NaN\n",
       "398    NaN\n",
       "399    NaN\n",
       "Name: Cued Side, Length: 12000, dtype: object"
      ]
     },
     "execution_count": 64,
     "metadata": {},
     "output_type": "execute_result"
    }
   ],
   "source": [
    "behav_full['Cued Side']"
   ]
  },
  {
   "cell_type": "code",
   "execution_count": 59,
   "metadata": {},
   "outputs": [
    {
     "data": {
      "text/plain": [
       "32718    8.0\n",
       "32718    5.0\n",
       "Name: Subject, dtype: float64"
      ]
     },
     "execution_count": 59,
     "metadata": {},
     "output_type": "execute_result"
    }
   ],
   "source": [
    "list(eye_df['Subject'])==[int(x) for x in list(behav_full['Subject'])]\n",
    "eye_df['Subject'][32718]"
   ]
  },
  {
   "cell_type": "markdown",
   "metadata": {},
   "source": [
    "# Do av x coord gaze regression"
   ]
  },
  {
   "cell_type": "code",
   "execution_count": null,
   "metadata": {
    "scrolled": true
   },
   "outputs": [],
   "source": [
    "behav_three[behav_three['Trial Type']=='Presentation']"
   ]
  },
  {
   "cell_type": "code",
   "execution_count": null,
   "metadata": {
    "scrolled": true
   },
   "outputs": [],
   "source": [
    "gaze_three_group.head(n=2)"
   ]
  },
  {
   "cell_type": "code",
   "execution_count": null,
   "metadata": {},
   "outputs": [],
   "source": [
    "gaze_three_group = pd.concat(gaze_three).groupby(['Subject','Run','Trial'], as_index=False).mean()\n",
    "grouped_three['x_gaze'] = gaze_three_group['av_x_coord']"
   ]
  },
  {
   "cell_type": "code",
   "execution_count": null,
   "metadata": {},
   "outputs": [],
   "source": [
    "grouped_three['x_diff']=grouped_three['x_gaze']-59.8/2"
   ]
  },
  {
   "cell_type": "code",
   "execution_count": null,
   "metadata": {},
   "outputs": [],
   "source": [
    "p_df=pd.concat(p_df)"
   ]
  },
  {
   "cell_type": "code",
   "execution_count": null,
   "metadata": {},
   "outputs": [],
   "source": [
    "for sub in behav_three['Subject'].unique():\n",
    "    for run in behav_three['Run'].unique():\n",
    "        for trial in behav_three['Trial'].unique():\n",
    "            behav_three.loc[(behav_three.Subject==sub) & (behav_three.Run==run) & (behav_three.Trial==trial), 'Cued Side'] = 'yes'#str(p_df.loc[(p_df['Subject']==sub) & (p_df['Run']==run) & (p_df['Trial']==trial)]['Cued Side'])"
   ]
  },
  {
   "cell_type": "code",
   "execution_count": null,
   "metadata": {},
   "outputs": [],
   "source": [
    "behav_three.head()"
   ]
  },
  {
   "cell_type": "code",
   "execution_count": null,
   "metadata": {},
   "outputs": [],
   "source": [
    "sb.scatterplot(grouped_three[grouped_three['Attention Level']=='Category']['Familiarity Rating'], \n",
    "               abs(grouped_three[grouped_three['Attention Level']=='Category']['x_diff']))"
   ]
  },
  {
   "cell_type": "code",
   "execution_count": null,
   "metadata": {},
   "outputs": [],
   "source": [
    "max(grouped_three['x_diff'])"
   ]
  },
  {
   "cell_type": "code",
   "execution_count": 42,
   "metadata": {},
   "outputs": [
    {
     "ename": "NameError",
     "evalue": "name 'behav_three' is not defined",
     "output_type": "error",
     "traceback": [
      "\u001b[0;31m---------------------------------------------------------------------------\u001b[0m",
      "\u001b[0;31mNameError\u001b[0m                                 Traceback (most recent call last)",
      "\u001b[0;32m<ipython-input-42-153227c63513>\u001b[0m in \u001b[0;36m<module>\u001b[0;34m()\u001b[0m\n\u001b[1;32m      1\u001b[0m \u001b[0mprops\u001b[0m \u001b[0;34m=\u001b[0m \u001b[0;34m[\u001b[0m\u001b[0;34m]\u001b[0m\u001b[0;34m\u001b[0m\u001b[0m\n\u001b[0;32m----> 2\u001b[0;31m \u001b[0;32mfor\u001b[0m \u001b[0mx\u001b[0m \u001b[0;32min\u001b[0m \u001b[0mbehav_three\u001b[0m\u001b[0;34m[\u001b[0m\u001b[0;34m'Subject'\u001b[0m\u001b[0;34m]\u001b[0m\u001b[0;34m.\u001b[0m\u001b[0munique\u001b[0m\u001b[0;34m(\u001b[0m\u001b[0;34m)\u001b[0m\u001b[0;34m:\u001b[0m\u001b[0;34m\u001b[0m\u001b[0m\n\u001b[0m\u001b[1;32m      3\u001b[0m     \u001b[0mk\u001b[0m\u001b[0;34m=\u001b[0m\u001b[0;36m0\u001b[0m\u001b[0;34m\u001b[0m\u001b[0m\n\u001b[1;32m      4\u001b[0m     \u001b[0;32mfor\u001b[0m \u001b[0my\u001b[0m \u001b[0;32min\u001b[0m \u001b[0mbehav_three\u001b[0m\u001b[0;34m[\u001b[0m\u001b[0mbehav_three\u001b[0m\u001b[0;34m[\u001b[0m\u001b[0;34m'Subject'\u001b[0m\u001b[0;34m]\u001b[0m\u001b[0;34m==\u001b[0m\u001b[0mx\u001b[0m\u001b[0;34m]\u001b[0m\u001b[0;34m[\u001b[0m\u001b[0;34m'Run'\u001b[0m\u001b[0;34m]\u001b[0m\u001b[0;34m.\u001b[0m\u001b[0munique\u001b[0m\u001b[0;34m(\u001b[0m\u001b[0;34m)\u001b[0m\u001b[0;34m:\u001b[0m\u001b[0;34m\u001b[0m\u001b[0m\n\u001b[1;32m      5\u001b[0m         z = behav_three[(behav_three['Subject']==x)\n",
      "\u001b[0;31mNameError\u001b[0m: name 'behav_three' is not defined"
     ]
    }
   ],
   "source": [
    "props = []\n",
    "for x in behav_three['Subject'].unique():\n",
    "    k=0\n",
    "    for y in behav_three[behav_three['Subject']==x]['Run'].unique():\n",
    "        z = behav_three[(behav_three['Subject']==x)\n",
    "                        &(behav_three['Run']==y) \n",
    "                        &(behav_three['Attention Level']!='Novel')]\n",
    "        #print(len(z)-1)\n",
    "        k+=len(z)-1\n",
    "    props.append(k/80)\n",
    "sb.violinplot(props)"
   ]
  },
  {
   "cell_type": "markdown",
   "metadata": {},
   "source": [
    "### ANOVA Three Box - Exp 2"
   ]
  },
  {
   "cell_type": "code",
   "execution_count": 43,
   "metadata": {},
   "outputs": [
    {
     "ename": "NameError",
     "evalue": "name 'grouped_three' is not defined",
     "output_type": "error",
     "traceback": [
      "\u001b[0;31m---------------------------------------------------------------------------\u001b[0m",
      "\u001b[0;31mNameError\u001b[0m                                 Traceback (most recent call last)",
      "\u001b[0;32m<ipython-input-43-f15bd3915f0d>\u001b[0m in \u001b[0;36m<module>\u001b[0;34m()\u001b[0m\n\u001b[0;32m----> 1\u001b[0;31m \u001b[0mpingouin\u001b[0m\u001b[0;34m.\u001b[0m\u001b[0mrm_anova\u001b[0m\u001b[0;34m(\u001b[0m\u001b[0mdv\u001b[0m\u001b[0;34m=\u001b[0m\u001b[0;34m'Familiarity Rating'\u001b[0m\u001b[0;34m,\u001b[0m \u001b[0mwithin\u001b[0m\u001b[0;34m=\u001b[0m\u001b[0;34m[\u001b[0m\u001b[0;34m'Attention Level'\u001b[0m\u001b[0;34m,\u001b[0m\u001b[0;34m'Category'\u001b[0m\u001b[0;34m]\u001b[0m\u001b[0;34m,\u001b[0m \u001b[0msubject\u001b[0m\u001b[0;34m=\u001b[0m\u001b[0;34m'Subject'\u001b[0m\u001b[0;34m,\u001b[0m \u001b[0mdata\u001b[0m\u001b[0;34m=\u001b[0m\u001b[0mgrouped_three\u001b[0m\u001b[0;34m)\u001b[0m\u001b[0;34m\u001b[0m\u001b[0m\n\u001b[0m",
      "\u001b[0;31mNameError\u001b[0m: name 'grouped_three' is not defined"
     ]
    }
   ],
   "source": [
    "pingouin.rm_anova(dv='Familiarity Rating', within=['Attention Level','Category'], subject='Subject', data=grouped_three)"
   ]
  },
  {
   "cell_type": "code",
   "execution_count": 30,
   "metadata": {},
   "outputs": [
    {
     "data": {
      "text/plain": [
       "30"
      ]
     },
     "execution_count": 30,
     "metadata": {},
     "output_type": "execute_result"
    }
   ],
   "source": [
    "#behav_full['Memory Image']\n",
    "len(behav_full['Subject'].unique())"
   ]
  },
  {
   "cell_type": "code",
   "execution_count": 31,
   "metadata": {},
   "outputs": [
    {
     "data": {
      "text/plain": [
       "<matplotlib.axes._subplots.AxesSubplot at 0x12aa60908>"
      ]
     },
     "execution_count": 31,
     "metadata": {},
     "output_type": "execute_result"
    },
    {
     "data": {
      "image/png": "[encoded data removed]",
      "text/plain": [
       "<Figure size 432x288 with 1 Axes>"
      ]
     },
     "metadata": {},
     "output_type": "display_data"
    }
   ],
   "source": [
    "behav_full.ix[behav_full['Memory Image'].str.contains(\"sun\", na=False),'Category']='Place'\n",
    "behav_full.ix[~behav_full['Memory Image'].str.contains(\"sun\", na=False),'Category']='Face'\n",
    "\n",
    "groupy = behav_full.groupby(['Subject','Category', 'Attention Level'], as_index=False).mean()\n",
    "sb.barplot(y='Familiarity Rating', x='Attention Level', hue='Category', data=groupy, \n",
    "           order=['Full','Side','Category','None','Novel'])"
   ]
  },
  {
   "cell_type": "code",
   "execution_count": 24,
   "metadata": {},
   "outputs": [
    {
     "data": {
      "text/html": [
       "<div>\n",
       "<style scoped>\n",
       "    .dataframe tbody tr th:only-of-type {\n",
       "        vertical-align: middle;\n",
       "    }\n",
       "\n",
       "    .dataframe tbody tr th {\n",
       "        vertical-align: top;\n",
       "    }\n",
       "\n",
       "    .dataframe thead th {\n",
       "        text-align: right;\n",
       "    }\n",
       "</style>\n",
       "<table border=\"1\" class=\"dataframe\">\n",
       "  <thead>\n",
       "    <tr style=\"text-align: right;\">\n",
       "      <th></th>\n",
       "      <th>Source</th>\n",
       "      <th>SS</th>\n",
       "      <th>ddof1</th>\n",
       "      <th>ddof2</th>\n",
       "      <th>MS</th>\n",
       "      <th>F</th>\n",
       "      <th>p-unc</th>\n",
       "      <th>p-GG-corr</th>\n",
       "      <th>np2</th>\n",
       "      <th>eps</th>\n",
       "    </tr>\n",
       "  </thead>\n",
       "  <tbody>\n",
       "    <tr>\n",
       "      <th>0</th>\n",
       "      <td>Attention Level</td>\n",
       "      <td>5.852</td>\n",
       "      <td>4</td>\n",
       "      <td>116</td>\n",
       "      <td>1.463</td>\n",
       "      <td>15.486</td>\n",
       "      <td>3.536122e-10</td>\n",
       "      <td>1.277531e-07</td>\n",
       "      <td>0.348</td>\n",
       "      <td>0.684</td>\n",
       "    </tr>\n",
       "    <tr>\n",
       "      <th>1</th>\n",
       "      <td>Category</td>\n",
       "      <td>1.721</td>\n",
       "      <td>1</td>\n",
       "      <td>29</td>\n",
       "      <td>1.721</td>\n",
       "      <td>8.022</td>\n",
       "      <td>8.318145e-03</td>\n",
       "      <td>8.318145e-03</td>\n",
       "      <td>0.217</td>\n",
       "      <td>1.000</td>\n",
       "    </tr>\n",
       "    <tr>\n",
       "      <th>2</th>\n",
       "      <td>Attention Level * Category</td>\n",
       "      <td>1.575</td>\n",
       "      <td>4</td>\n",
       "      <td>116</td>\n",
       "      <td>0.394</td>\n",
       "      <td>6.040</td>\n",
       "      <td>1.887279e-04</td>\n",
       "      <td>2.846625e-03</td>\n",
       "      <td>0.172</td>\n",
       "      <td>0.560</td>\n",
       "    </tr>\n",
       "  </tbody>\n",
       "</table>\n",
       "</div>"
      ],
      "text/plain": [
       "                       Source     SS  ddof1  ddof2     MS       F  \\\n",
       "0             Attention Level  5.852      4    116  1.463  15.486   \n",
       "1                    Category  1.721      1     29  1.721   8.022   \n",
       "2  Attention Level * Category  1.575      4    116  0.394   6.040   \n",
       "\n",
       "          p-unc     p-GG-corr    np2    eps  \n",
       "0  3.536122e-10  1.277531e-07  0.348  0.684  \n",
       "1  8.318145e-03  8.318145e-03  0.217  1.000  \n",
       "2  1.887279e-04  2.846625e-03  0.172  0.560  "
      ]
     },
     "execution_count": 24,
     "metadata": {},
     "output_type": "execute_result"
    }
   ],
   "source": [
    "pingouin.rm_anova(dv='Familiarity Rating', within=['Attention Level','Category'], subject='Subject', data=groupy)\n",
    "\n"
   ]
  },
  {
   "cell_type": "code",
   "execution_count": 25,
   "metadata": {},
   "outputs": [],
   "source": [
    "def gaze_plot(df_list):\n",
    "\n",
    "    middle = 2048/2.0\n",
    "    quarter = (1304-744)/4.0\n",
    "\n",
    "    fig = plt.figure()\n",
    "    ax1 = fig.add_subplot(111, aspect='equal')\n",
    "\n",
    "    for x in df_list:\n",
    "#         if x['Cued Side'].all()=='>' and x['Cued Category'].all()=='Place':\n",
    "#             color='green'\n",
    "#         elif x['Cued Side'].all()=='>' and x['Cued Category'].all()=='Face':\n",
    "#             color='blue'\n",
    "#         elif x['Cued Side'].all()=='<' and x['Cued Category'].all()=='Place':\n",
    "#             color='orange'\n",
    "#         else:\n",
    "#             color='red'\n",
    "\n",
    "#         x['Color']=color\n",
    "\n",
    "        ax1.plot(x['av_x_coord'], x['av_y_coord'], '.')\n",
    "        #props.append(x.loc[(x['av_x_coord']>middle-quarter) & (x['av_x_coord']<middle+quarter)])\n",
    "\n",
    "    rect1 = patches.Rectangle(((59.8/2.0)-8-3.5,(33.6/2)-3.5),7,7,linewidth=1,edgecolor='black',facecolor='none')\n",
    "    rect2 = patches.Rectangle(((59.8/2.0)+8-3.5,(33.6/2)-3.5),7,7,linewidth=1,edgecolor='black',facecolor='none')\n",
    "#     rect3 = patches.Rectangle(((59.8/2.0)-1,(33.6/2)-1),2,2,linewidth=1,edgecolor='black',facecolor='none')\n",
    "    rect4 = patches.Rectangle(((59.8/2.0)-1,(33.6/2)-1),2,2,linewidth=1,edgecolor='black',facecolor='none')\n",
    "    #rect5 = patches.Rectangle(((59.8/2.0)-2,(33.6/2)-2),4,4,linewidth=1,edgecolor='black',facecolor='none')\n",
    "    #rect6 = patches.Rectangle(((59.8/2.0)-3,(33.6/2)-3),6,6,linewidth=1,edgecolor='black',facecolor='none')\n",
    "    #rect6 = patches.Rectangle(((59.8/2.0)-4.4,(33.6/2)-4.4),8.8,8.8,linewidth=1,edgecolor='black',facecolor='none')\n",
    "\n",
    "\n",
    "\n",
    "\n",
    "\n",
    "\n",
    "    # Add the patch to the Axes\n",
    "    ax1.add_patch(rect1)\n",
    "    ax1.add_patch(rect2)\n",
    "#     ax1.add_patch(rect3)\n",
    "    ax1.add_patch(rect4)\n",
    "    #ax1.add_patch(rect5)\n",
    "    #ax1.add_patch(rect6)\n",
    "    \n",
    "\n",
    "    # plt.legend(loc='upper left');\n",
    "    plt.ylim(0, 33.6)\n",
    "    plt.xlim(0, 59.8)\n",
    "    plt.show()"
   ]
  },
  {
   "cell_type": "markdown",
   "metadata": {},
   "source": [
    "# Gaze Plot - Exp 2"
   ]
  },
  {
   "cell_type": "code",
   "execution_count": 26,
   "metadata": {},
   "outputs": [
    {
     "data": {
      "image/png": "[encoded data removed]",
      "text/plain": [
       "<Figure size 432x288 with 1 Axes>"
      ]
     },
     "metadata": {},
     "output_type": "display_data"
    }
   ],
   "source": [
    "gaze_plot(gaze_three)\n",
    "plt.show()"
   ]
  },
  {
   "cell_type": "code",
   "execution_count": null,
   "metadata": {},
   "outputs": [],
   "source": [
    "cent  =  (59.8/2, 33.6/2)\n",
    "left  =  (59.8/2 - 4 - 3.5, 33.6/2)\n",
    "right =  (59.8/2 + 4 + 3.5, 33.6/2)\n",
    "\n",
    "# behav_full['Cprop'],behav_full['Lprop'],behav_full['Rprop'] = np.nan, np.nan, np.nan\n",
    "\n",
    "behav_full['two_box'],behav_full['three_box'] = np.nan,np.nan\n",
    "\n",
    "counter = 0\n",
    "for sub in behav_full['Subject'].unique():\n",
    "    counter+=1\n",
    "    print(counter)\n",
    "    for run in behav_full['Run'].unique():\n",
    "        for trial in behav_full[behav_full['Trial Type']=='Presentation']['Trial'].unique():\n",
    "            behav_full.ix[(behav_full['Subject'] == sub) &\n",
    "                     (behav_full['Run'] == run) &\n",
    "                     (behav_full['Trial'] == trial)\n",
    "                    ,'three_box'] = float(gaze_box(eye_df[(eye_df['Subject'] == str(sub)) &\n",
    "                                                        (eye_df['Run'] == str(run)) &\n",
    "                                                        (eye_df['Trial'] == trial)], \n",
    "                                                 cent, (6,33.6))[1])\n",
    "            \n",
    "#             behav_full.ix[(behav_full['Subject'] == sub) &\n",
    "#                      (behav_full['Run'] == run) &\n",
    "#                      (behav_full['Trial'] == trial)\n",
    "#                     ,'three_box'] = gaze_box(eye_df[(eye_df['Subject'] == str(sub)) &\n",
    "#                                            (eye_df['Run'] == str(run)) &\n",
    "#                                            (eye_df['Trial'] == trial)\n",
    "#                                           ], cent, (3,3))[1]\n",
    "            \n",
    "            \n",
    "#             behav_full.ix[(behav_full['Subject'] == sub) &\n",
    "#                      (behav_full['Run'] == run) &\n",
    "#                      (behav_full['Trial'] == trial)\n",
    "#                     ,'Rprop'] = gaze_box(eye_df[(eye_df['Subject'] == str(sub)) &\n",
    "#                                            (eye_df['Run'] == str(run)) &\n",
    "#                                            (eye_df['Trial'] == trial)\n",
    "#                                           ], right, (7,7))[1]\n",
    "            \n",
    "#             behav_full.ix[(behav_full['Subject'] == sub) &\n",
    "#                      (behav_full['Run'] == run) &\n",
    "#                      (behav_full['Trial'] == trial)\n",
    "#                     ,'Lprop'] = gaze_box(eye_df[(eye_df['Subject'] == str(sub)) &\n",
    "#                                            (eye_df['Run'] == str(run)) &\n",
    "#                                            (eye_df['Trial'] == trial)\n",
    "#                                           ], left, (7,7))[1]\n",
    "            \n",
    "            \n",
    "#             behav_full.ix[(behav_full['Subject'] == sub) &\n",
    "#                      (behav_full['Run'] == run) &\n",
    "#                      (behav_full['Trial'] == trial)\n",
    "#                     ,'Cprop'] = gaze_box(eye_df[(eye_df['Subject'] == str(sub)) &\n",
    "#                                            (eye_df['Run'] == str(run)) &\n",
    "#                                            (eye_df['Trial'] == trial)\n",
    "#                                           ], cent, (9,33.6))[1]\n",
    "            "
   ]
  },
  {
   "cell_type": "code",
   "execution_count": null,
   "metadata": {},
   "outputs": [],
   "source": [
    "behav_full[behav_full['three_box']==1]['Subject'].unique()"
   ]
  },
  {
   "cell_type": "code",
   "execution_count": 15,
   "metadata": {},
   "outputs": [
    {
     "data": {
      "text/html": [
       "<div>\n",
       "<style scoped>\n",
       "    .dataframe tbody tr th:only-of-type {\n",
       "        vertical-align: middle;\n",
       "    }\n",
       "\n",
       "    .dataframe tbody tr th {\n",
       "        vertical-align: top;\n",
       "    }\n",
       "\n",
       "    .dataframe thead th {\n",
       "        text-align: right;\n",
       "    }\n",
       "</style>\n",
       "<table border=\"1\" class=\"dataframe\">\n",
       "  <thead>\n",
       "    <tr style=\"text-align: right;\">\n",
       "      <th></th>\n",
       "      <th>Unnamed: 0</th>\n",
       "      <th>Subject</th>\n",
       "      <th>Trial Type</th>\n",
       "      <th>Run</th>\n",
       "      <th>Cued Composite</th>\n",
       "      <th>Uncued Composite</th>\n",
       "      <th>Cued Face</th>\n",
       "      <th>Cued Place</th>\n",
       "      <th>Uncued Face</th>\n",
       "      <th>Uncued Place</th>\n",
       "      <th>...</th>\n",
       "      <th>Attention Level</th>\n",
       "      <th>Cue Validity</th>\n",
       "      <th>Post Invalid Cue</th>\n",
       "      <th>Pre Invalid Cue</th>\n",
       "      <th>Attention Button</th>\n",
       "      <th>Rating History</th>\n",
       "      <th>Stimulus Onset</th>\n",
       "      <th>Stimulus End</th>\n",
       "      <th>Attention Probe</th>\n",
       "      <th>Trial</th>\n",
       "    </tr>\n",
       "  </thead>\n",
       "  <tbody>\n",
       "    <tr>\n",
       "      <th>0</th>\n",
       "      <td>150</td>\n",
       "      <td>8.0</td>\n",
       "      <td>Presentation</td>\n",
       "      <td>3.0</td>\n",
       "      <td>00532960627fa_sunaccdtpgenvcbcbcf.jpg</td>\n",
       "      <td>00288940422fa_sunabppokiyglaxpcha.jpg</td>\n",
       "      <td>00532960627fa.jpg</td>\n",
       "      <td>sunaccdtpgenvcbcbcf.jpg</td>\n",
       "      <td>00288940422fa.jpg</td>\n",
       "      <td>sunabppokiyglaxpcha.jpg</td>\n",
       "      <td>...</td>\n",
       "      <td>NaN</td>\n",
       "      <td>1.0</td>\n",
       "      <td>NaN</td>\n",
       "      <td>NaN</td>\n",
       "      <td>1.0</td>\n",
       "      <td>NaN</td>\n",
       "      <td>1.551381e+09</td>\n",
       "      <td>1.551381e+09</td>\n",
       "      <td>x</td>\n",
       "      <td>0.0</td>\n",
       "    </tr>\n",
       "    <tr>\n",
       "      <th>1</th>\n",
       "      <td>151</td>\n",
       "      <td>8.0</td>\n",
       "      <td>Presentation</td>\n",
       "      <td>3.0</td>\n",
       "      <td>00787960620fa_sunagoufulkpsxrmklt.jpg</td>\n",
       "      <td>00857940307fa_sunaiwfobocrruqznsv.jpg</td>\n",
       "      <td>00787960620fa.jpg</td>\n",
       "      <td>sunagoufulkpsxrmklt.jpg</td>\n",
       "      <td>00857940307fa.jpg</td>\n",
       "      <td>sunaiwfobocrruqznsv.jpg</td>\n",
       "      <td>...</td>\n",
       "      <td>NaN</td>\n",
       "      <td>1.0</td>\n",
       "      <td>NaN</td>\n",
       "      <td>NaN</td>\n",
       "      <td>3.0</td>\n",
       "      <td>NaN</td>\n",
       "      <td>1.551381e+09</td>\n",
       "      <td>1.551381e+09</td>\n",
       "      <td>o</td>\n",
       "      <td>1.0</td>\n",
       "    </tr>\n",
       "    <tr>\n",
       "      <th>2</th>\n",
       "      <td>152</td>\n",
       "      <td>8.0</td>\n",
       "      <td>Presentation</td>\n",
       "      <td>3.0</td>\n",
       "      <td>00130931230fa_sunaamvxnvouicstkjb.jpg</td>\n",
       "      <td>00568940928fa_sunacsdhbbsybcyxnel.jpg</td>\n",
       "      <td>00130931230fa.jpg</td>\n",
       "      <td>sunaamvxnvouicstkjb.jpg</td>\n",
       "      <td>00568940928fa.jpg</td>\n",
       "      <td>sunacsdhbbsybcyxnel.jpg</td>\n",
       "      <td>...</td>\n",
       "      <td>NaN</td>\n",
       "      <td>1.0</td>\n",
       "      <td>NaN</td>\n",
       "      <td>NaN</td>\n",
       "      <td>1.0</td>\n",
       "      <td>NaN</td>\n",
       "      <td>1.551381e+09</td>\n",
       "      <td>1.551381e+09</td>\n",
       "      <td>x</td>\n",
       "      <td>2.0</td>\n",
       "    </tr>\n",
       "    <tr>\n",
       "      <th>3</th>\n",
       "      <td>153</td>\n",
       "      <td>8.0</td>\n",
       "      <td>Presentation</td>\n",
       "      <td>3.0</td>\n",
       "      <td>00967960627fa_sunbaejotfklekvpxcz.jpg</td>\n",
       "      <td>00929960627fa_sunaprnrbmgkomdbchr.jpg</td>\n",
       "      <td>00967960627fa.jpg</td>\n",
       "      <td>sunbaejotfklekvpxcz.jpg</td>\n",
       "      <td>00929960627fa.jpg</td>\n",
       "      <td>sunaprnrbmgkomdbchr.jpg</td>\n",
       "      <td>...</td>\n",
       "      <td>NaN</td>\n",
       "      <td>1.0</td>\n",
       "      <td>NaN</td>\n",
       "      <td>NaN</td>\n",
       "      <td>1.0</td>\n",
       "      <td>NaN</td>\n",
       "      <td>1.551381e+09</td>\n",
       "      <td>1.551381e+09</td>\n",
       "      <td>x</td>\n",
       "      <td>3.0</td>\n",
       "    </tr>\n",
       "    <tr>\n",
       "      <th>4</th>\n",
       "      <td>154</td>\n",
       "      <td>8.0</td>\n",
       "      <td>Presentation</td>\n",
       "      <td>3.0</td>\n",
       "      <td>00062931230fb_sunaaelotvjgibjtjhs.jpg</td>\n",
       "      <td>00663941121fa_sunadnjjzohjhbohlwq.jpg</td>\n",
       "      <td>00062931230fb.jpg</td>\n",
       "      <td>sunaaelotvjgibjtjhs.jpg</td>\n",
       "      <td>00663941121fa.jpg</td>\n",
       "      <td>sunadnjjzohjhbohlwq.jpg</td>\n",
       "      <td>...</td>\n",
       "      <td>NaN</td>\n",
       "      <td>1.0</td>\n",
       "      <td>NaN</td>\n",
       "      <td>NaN</td>\n",
       "      <td>3.0</td>\n",
       "      <td>NaN</td>\n",
       "      <td>1.551381e+09</td>\n",
       "      <td>1.551381e+09</td>\n",
       "      <td>o</td>\n",
       "      <td>4.0</td>\n",
       "    </tr>\n",
       "  </tbody>\n",
       "</table>\n",
       "<p>5 rows × 27 columns</p>\n",
       "</div>"
      ],
      "text/plain": [
       "   Unnamed: 0  Subject    Trial Type  Run  \\\n",
       "0         150      8.0  Presentation  3.0   \n",
       "1         151      8.0  Presentation  3.0   \n",
       "2         152      8.0  Presentation  3.0   \n",
       "3         153      8.0  Presentation  3.0   \n",
       "4         154      8.0  Presentation  3.0   \n",
       "\n",
       "                          Cued Composite  \\\n",
       "0  00532960627fa_sunaccdtpgenvcbcbcf.jpg   \n",
       "1  00787960620fa_sunagoufulkpsxrmklt.jpg   \n",
       "2  00130931230fa_sunaamvxnvouicstkjb.jpg   \n",
       "3  00967960627fa_sunbaejotfklekvpxcz.jpg   \n",
       "4  00062931230fb_sunaaelotvjgibjtjhs.jpg   \n",
       "\n",
       "                        Uncued Composite          Cued Face  \\\n",
       "0  00288940422fa_sunabppokiyglaxpcha.jpg  00532960627fa.jpg   \n",
       "1  00857940307fa_sunaiwfobocrruqznsv.jpg  00787960620fa.jpg   \n",
       "2  00568940928fa_sunacsdhbbsybcyxnel.jpg  00130931230fa.jpg   \n",
       "3  00929960627fa_sunaprnrbmgkomdbchr.jpg  00967960627fa.jpg   \n",
       "4  00663941121fa_sunadnjjzohjhbohlwq.jpg  00062931230fb.jpg   \n",
       "\n",
       "                Cued Place        Uncued Face             Uncued Place  ...    \\\n",
       "0  sunaccdtpgenvcbcbcf.jpg  00288940422fa.jpg  sunabppokiyglaxpcha.jpg  ...     \n",
       "1  sunagoufulkpsxrmklt.jpg  00857940307fa.jpg  sunaiwfobocrruqznsv.jpg  ...     \n",
       "2  sunaamvxnvouicstkjb.jpg  00568940928fa.jpg  sunacsdhbbsybcyxnel.jpg  ...     \n",
       "3  sunbaejotfklekvpxcz.jpg  00929960627fa.jpg  sunaprnrbmgkomdbchr.jpg  ...     \n",
       "4  sunaaelotvjgibjtjhs.jpg  00663941121fa.jpg  sunadnjjzohjhbohlwq.jpg  ...     \n",
       "\n",
       "  Attention Level Cue Validity Post Invalid Cue Pre Invalid Cue  \\\n",
       "0             NaN          1.0              NaN             NaN   \n",
       "1             NaN          1.0              NaN             NaN   \n",
       "2             NaN          1.0              NaN             NaN   \n",
       "3             NaN          1.0              NaN             NaN   \n",
       "4             NaN          1.0              NaN             NaN   \n",
       "\n",
       "   Attention Button  Rating History  Stimulus Onset  Stimulus End  \\\n",
       "0               1.0             NaN    1.551381e+09  1.551381e+09   \n",
       "1               3.0             NaN    1.551381e+09  1.551381e+09   \n",
       "2               1.0             NaN    1.551381e+09  1.551381e+09   \n",
       "3               1.0             NaN    1.551381e+09  1.551381e+09   \n",
       "4               3.0             NaN    1.551381e+09  1.551381e+09   \n",
       "\n",
       "   Attention Probe  Trial  \n",
       "0                x    0.0  \n",
       "1                o    1.0  \n",
       "2                x    2.0  \n",
       "3                x    3.0  \n",
       "4                o    4.0  \n",
       "\n",
       "[5 rows x 27 columns]"
      ]
     },
     "execution_count": 15,
     "metadata": {},
     "output_type": "execute_result"
    }
   ],
   "source": [
    "behav_full.head()"
   ]
  },
  {
   "cell_type": "markdown",
   "metadata": {},
   "source": [
    "### Plot prop of gazepoints by region"
   ]
  },
  {
   "cell_type": "code",
   "execution_count": 16,
   "metadata": {
    "scrolled": true
   },
   "outputs": [],
   "source": [
    "# group = behav_full.groupby(['Subject'], as_index=False).mean()\n",
    "# df = group.melt(value_vars=['Lprop', 'Cprop', 'Rprop'], value_name='vals')\n",
    "# ax = sb.violinplot(data=df, x ='variable', y='vals')\n",
    "# ax.set(xlabel='Gaze Location', ylabel='Proportion of Gazepoints')"
   ]
  },
  {
   "cell_type": "markdown",
   "metadata": {},
   "source": [
    "### Add props to memory images"
   ]
  },
  {
   "cell_type": "code",
   "execution_count": null,
   "metadata": {},
   "outputs": [],
   "source": [
    "def add_prop_small(df):\n",
    "    '''\n",
    "    input: df containing pres and mem from single run\n",
    "    output: df with proportion of eye gaze for every image in memory block\n",
    "    '''\n",
    "\n",
    "    #cued_cat = df[df['Trial Type']=='Presentation']['Cued Category'].tolist()[0]\n",
    "\n",
    "    df['Image Prop']  = 0.0\n",
    "    df['Three Box'] = np.nan\n",
    "\n",
    "    for index,row in df.iterrows():\n",
    "        # for every memory trial\n",
    "        if row['Trial Type']=='Memory' and row['Attention Level']!='Novel':\n",
    "            mem_image = row['Memory Image']\n",
    "            mem_level = row['Attention Level']\n",
    "\n",
    "            if mem_level in ['Full', 'Side']:\n",
    "                cue = 'Cued '\n",
    "                for cat in ['Face', 'Place']:\n",
    "                    if df.loc[df['Cued '+cat] == mem_image].shape[0]!=0:\n",
    "                        \n",
    "#                         if df.loc[df[cue+cat] == mem_image]['Cued Side'].item()=='<':\n",
    "#                             image_prop = df.loc[df[cue+cat] == mem_image]['Lprop'].item()\n",
    "#                         else:\n",
    "#                             image_prop = df.loc[df[cue+cat] == mem_image]['Rprop'].item()\n",
    "\n",
    "                        center_prop = df.loc[df[cue+cat] == mem_image]['three_box'].item()\n",
    "\n",
    "            elif mem_level in ['Category', 'None']:\n",
    "                for cat in ['Face', 'Place']:\n",
    "                    cue = 'Uncued '\n",
    "                    if df.loc[df['Uncued '+cat] == mem_image].shape[0]!=0:\n",
    "#                         if df.loc[df[cue+cat] == mem_image]['Cued Side'].item()=='>':\n",
    "#                             image_prop = df.loc[df[cue+cat] == mem_image]['Lprop'].item()\n",
    "#                         else:\n",
    "#                             image_prop = df.loc[df[cue+cat] == mem_image]['Rprop'].item()\n",
    "\n",
    "                        center_prop = df.loc[df[cue+cat] == mem_image]['three_box'].item()\n",
    "\n",
    "            else:\n",
    "                image_prop  = np.nan\n",
    "                center_prop = np.nan\n",
    "\n",
    "            #df['Image Prop'][index]  = image_prop\n",
    "            df['Three Box'][index] = center_prop\n",
    "\n",
    "#     mem_mask = df['Trial Type']=='Memory'\n",
    "#     df.loc[mem_mask,'Image Prop'] = df.loc[mem_mask,'Image Prop'].fillna('Novel')\n",
    "#     df.loc[mem_mask,'Center Prop'] = df.loc[mem_mask,'Center Prop'].fillna('Novel')\n",
    "\n",
    "    return(df)"
   ]
  },
  {
   "cell_type": "code",
   "execution_count": 348,
   "metadata": {},
   "outputs": [
    {
     "data": {
      "text/plain": [
       "array(['8', '15', '1'], dtype=object)"
      ]
     },
     "execution_count": 348,
     "metadata": {},
     "output_type": "execute_result"
    }
   ],
   "source": [
    "eye_df['Subject'].unique()"
   ]
  },
  {
   "cell_type": "code",
   "execution_count": 346,
   "metadata": {
    "scrolled": true
   },
   "outputs": [
    {
     "name": "stdout",
     "output_type": "stream",
     "text": [
      "8\n",
      "8\n",
      "15\n",
      "15\n",
      "1\n"
     ]
    },
    {
     "ename": "KeyboardInterrupt",
     "evalue": "",
     "output_type": "error",
     "traceback": [
      "\u001b[0;31m---------------------------------------------------------------------------\u001b[0m",
      "\u001b[0;31mKeyboardInterrupt\u001b[0m                         Traceback (most recent call last)",
      "\u001b[0;32m<ipython-input-346-335d07aa8227>\u001b[0m in \u001b[0;36m<module>\u001b[0;34m()\u001b[0m\n\u001b[1;32m      4\u001b[0m \u001b[0;32mfor\u001b[0m \u001b[0mx\u001b[0m \u001b[0;32min\u001b[0m \u001b[0meye_df\u001b[0m\u001b[0;34m[\u001b[0m\u001b[0;34m'Subject'\u001b[0m\u001b[0;34m]\u001b[0m\u001b[0;34m.\u001b[0m\u001b[0munique\u001b[0m\u001b[0;34m(\u001b[0m\u001b[0;34m)\u001b[0m\u001b[0;34m:\u001b[0m\u001b[0;34m\u001b[0m\u001b[0m\n\u001b[1;32m      5\u001b[0m     \u001b[0mprint\u001b[0m\u001b[0;34m(\u001b[0m\u001b[0mx\u001b[0m\u001b[0;34m)\u001b[0m\u001b[0;34m\u001b[0m\u001b[0m\n\u001b[0;32m----> 6\u001b[0;31m     \u001b[0mf\u001b[0m\u001b[0;34m.\u001b[0m\u001b[0mappend\u001b[0m\u001b[0;34m(\u001b[0m\u001b[0madd_prop_small\u001b[0m\u001b[0;34m(\u001b[0m\u001b[0mbehav_full\u001b[0m\u001b[0;34m[\u001b[0m\u001b[0mbehav_full\u001b[0m\u001b[0;34m[\u001b[0m\u001b[0;34m'Subject'\u001b[0m\u001b[0;34m]\u001b[0m\u001b[0;34m==\u001b[0m\u001b[0mint\u001b[0m\u001b[0;34m(\u001b[0m\u001b[0mx\u001b[0m\u001b[0;34m)\u001b[0m\u001b[0;34m]\u001b[0m\u001b[0;34m)\u001b[0m\u001b[0;34m)\u001b[0m\u001b[0;34m\u001b[0m\u001b[0m\n\u001b[0m\u001b[1;32m      7\u001b[0m     \u001b[0mprint\u001b[0m\u001b[0;34m(\u001b[0m\u001b[0mx\u001b[0m\u001b[0;34m)\u001b[0m\u001b[0;34m\u001b[0m\u001b[0m\n",
      "\u001b[0;32m<ipython-input-339-6a50822ee6bd>\u001b[0m in \u001b[0;36madd_prop_small\u001b[0;34m(df)\u001b[0m\n\u001b[1;32m     44\u001b[0m \u001b[0;34m\u001b[0m\u001b[0m\n\u001b[1;32m     45\u001b[0m             \u001b[0;31m#df['Image Prop'][index]  = image_prop\u001b[0m\u001b[0;34m\u001b[0m\u001b[0;34m\u001b[0m\u001b[0m\n\u001b[0;32m---> 46\u001b[0;31m             \u001b[0mdf\u001b[0m\u001b[0;34m[\u001b[0m\u001b[0;34m'Three Box'\u001b[0m\u001b[0;34m]\u001b[0m\u001b[0;34m[\u001b[0m\u001b[0mindex\u001b[0m\u001b[0;34m]\u001b[0m \u001b[0;34m=\u001b[0m \u001b[0mcenter_prop\u001b[0m\u001b[0;34m\u001b[0m\u001b[0m\n\u001b[0m\u001b[1;32m     47\u001b[0m \u001b[0;34m\u001b[0m\u001b[0m\n\u001b[1;32m     48\u001b[0m \u001b[0;31m#     mem_mask = df['Trial Type']=='Memory'\u001b[0m\u001b[0;34m\u001b[0m\u001b[0;34m\u001b[0m\u001b[0m\n",
      "\u001b[0;32m/usr/local/lib/python3.6/site-packages/pandas/core/series.py\u001b[0m in \u001b[0;36m__setitem__\u001b[0;34m(self, key, value)\u001b[0m\n\u001b[1;32m    938\u001b[0m         \u001b[0msetitem\u001b[0m\u001b[0;34m(\u001b[0m\u001b[0mkey\u001b[0m\u001b[0;34m,\u001b[0m \u001b[0mvalue\u001b[0m\u001b[0;34m)\u001b[0m\u001b[0;34m\u001b[0m\u001b[0m\n\u001b[1;32m    939\u001b[0m         \u001b[0;32mif\u001b[0m \u001b[0mcacher_needs_updating\u001b[0m\u001b[0;34m:\u001b[0m\u001b[0;34m\u001b[0m\u001b[0m\n\u001b[0;32m--> 940\u001b[0;31m             \u001b[0mself\u001b[0m\u001b[0;34m.\u001b[0m\u001b[0m_maybe_update_cacher\u001b[0m\u001b[0;34m(\u001b[0m\u001b[0;34m)\u001b[0m\u001b[0;34m\u001b[0m\u001b[0m\n\u001b[0m\u001b[1;32m    941\u001b[0m \u001b[0;34m\u001b[0m\u001b[0m\n\u001b[1;32m    942\u001b[0m     \u001b[0;32mdef\u001b[0m \u001b[0m_set_with_engine\u001b[0m\u001b[0;34m(\u001b[0m\u001b[0mself\u001b[0m\u001b[0;34m,\u001b[0m \u001b[0mkey\u001b[0m\u001b[0;34m,\u001b[0m \u001b[0mvalue\u001b[0m\u001b[0;34m)\u001b[0m\u001b[0;34m:\u001b[0m\u001b[0;34m\u001b[0m\u001b[0m\n",
      "\u001b[0;32m/usr/local/lib/python3.6/site-packages/pandas/core/generic.py\u001b[0m in \u001b[0;36m_maybe_update_cacher\u001b[0;34m(self, clear, verify_is_copy)\u001b[0m\n\u001b[1;32m   2567\u001b[0m \u001b[0;34m\u001b[0m\u001b[0m\n\u001b[1;32m   2568\u001b[0m         \u001b[0;32mif\u001b[0m \u001b[0mverify_is_copy\u001b[0m\u001b[0;34m:\u001b[0m\u001b[0;34m\u001b[0m\u001b[0m\n\u001b[0;32m-> 2569\u001b[0;31m             \u001b[0mself\u001b[0m\u001b[0;34m.\u001b[0m\u001b[0m_check_setitem_copy\u001b[0m\u001b[0;34m(\u001b[0m\u001b[0mstacklevel\u001b[0m\u001b[0;34m=\u001b[0m\u001b[0;36m5\u001b[0m\u001b[0;34m,\u001b[0m \u001b[0mt\u001b[0m\u001b[0;34m=\u001b[0m\u001b[0;34m'referant'\u001b[0m\u001b[0;34m)\u001b[0m\u001b[0;34m\u001b[0m\u001b[0m\n\u001b[0m\u001b[1;32m   2570\u001b[0m \u001b[0;34m\u001b[0m\u001b[0m\n\u001b[1;32m   2571\u001b[0m         \u001b[0;32mif\u001b[0m \u001b[0mclear\u001b[0m\u001b[0;34m:\u001b[0m\u001b[0;34m\u001b[0m\u001b[0m\n",
      "\u001b[0;32m/usr/local/lib/python3.6/site-packages/pandas/core/generic.py\u001b[0m in \u001b[0;36m_check_setitem_copy\u001b[0;34m(self, stacklevel, t, force)\u001b[0m\n\u001b[1;32m   2668\u001b[0m             \u001b[0;31m# the copy weakref\u001b[0m\u001b[0;34m\u001b[0m\u001b[0;34m\u001b[0m\u001b[0m\n\u001b[1;32m   2669\u001b[0m             \u001b[0;32mtry\u001b[0m\u001b[0;34m:\u001b[0m\u001b[0;34m\u001b[0m\u001b[0m\n\u001b[0;32m-> 2670\u001b[0;31m                 \u001b[0mgc\u001b[0m\u001b[0;34m.\u001b[0m\u001b[0mcollect\u001b[0m\u001b[0;34m(\u001b[0m\u001b[0;36m2\u001b[0m\u001b[0;34m)\u001b[0m\u001b[0;34m\u001b[0m\u001b[0m\n\u001b[0m\u001b[1;32m   2671\u001b[0m                 \u001b[0;32mif\u001b[0m \u001b[0;32mnot\u001b[0m \u001b[0mgc\u001b[0m\u001b[0;34m.\u001b[0m\u001b[0mget_referents\u001b[0m\u001b[0;34m(\u001b[0m\u001b[0mself\u001b[0m\u001b[0;34m.\u001b[0m\u001b[0m_is_copy\u001b[0m\u001b[0;34m(\u001b[0m\u001b[0;34m)\u001b[0m\u001b[0;34m)\u001b[0m\u001b[0;34m:\u001b[0m\u001b[0;34m\u001b[0m\u001b[0m\n\u001b[1;32m   2672\u001b[0m                     \u001b[0mself\u001b[0m\u001b[0;34m.\u001b[0m\u001b[0m_is_copy\u001b[0m \u001b[0;34m=\u001b[0m \u001b[0;32mNone\u001b[0m\u001b[0;34m\u001b[0m\u001b[0m\n",
      "\u001b[0;31mKeyboardInterrupt\u001b[0m: "
     ]
    }
   ],
   "source": [
    "# # RUN THIS CELL OVERNIGHT\n",
    "\n",
    "f = []\n",
    "for x in eye_df['Subject'].unique():\n",
    "    print(x)\n",
    "    f.append(add_prop_small(behav_full[behav_full['Subject']==int(x)]))\n",
    "    print(x)"
   ]
  },
  {
   "cell_type": "code",
   "execution_count": 351,
   "metadata": {},
   "outputs": [
    {
     "data": {
      "text/plain": [
       "array([       nan, 0.02666667, 0.01020408, 0.01923077, 0.        ,\n",
       "       0.01298701, 0.95890411, 0.92      , 0.96103896, 0.88      ,\n",
       "       0.8625    , 0.96774194, 0.15555556, 0.92537313, 0.96825397,\n",
       "       0.95588235, 0.98717949, 0.92424242, 0.97468354, 0.86764706,\n",
       "       0.9875    , 0.89473684, 0.98648649, 0.89189189, 0.94666667,\n",
       "       0.95061728, 1.        , 0.98630137, 0.87878788, 0.9382716 ,\n",
       "       0.79746835, 0.95      , 0.90540541, 0.72      , 0.80597015,\n",
       "       0.87179487, 0.96153846, 0.8490566 , 0.88311688, 0.95121951,\n",
       "       0.87671233, 0.93243243, 0.71428571, 0.72093023, 0.94736842,\n",
       "       0.78666667, 0.6875    , 0.88157895, 0.21212121, 0.97560976,\n",
       "       0.975     ])"
      ]
     },
     "execution_count": 351,
     "metadata": {},
     "output_type": "execute_result"
    }
   ],
   "source": [
    "f[0]['Three Box'].unique()"
   ]
  },
  {
   "cell_type": "markdown",
   "metadata": {},
   "source": [
    "# Regression"
   ]
  },
  {
   "cell_type": "code",
   "execution_count": 11,
   "metadata": {},
   "outputs": [],
   "source": [
    "# pickle.dump(f, open(\"/Users/kirstenziman/Desktop/attention-memory-task/gaze.pkl\", \"wb\" ))"
   ]
  },
  {
   "cell_type": "markdown",
   "metadata": {},
   "source": [
    "# Load Processed Eye Data"
   ]
  },
  {
   "cell_type": "code",
   "execution_count": 12,
   "metadata": {},
   "outputs": [],
   "source": [
    "with open(\"/Users/kirstenziman/Documents/attention-memory-task/gaze.pkl\",'rb') as fp:\n",
    "    eye_df = pickle.load(fp)"
   ]
  },
  {
   "cell_type": "markdown",
   "metadata": {},
   "source": [
    "# Update eye_df label"
   ]
  },
  {
   "cell_type": "code",
   "execution_count": 13,
   "metadata": {},
   "outputs": [],
   "source": [
    "x = pd.concat(eye_df)\n",
    "x['Familiarity_Rating'] = x['Familiarity Rating']"
   ]
  },
  {
   "cell_type": "markdown",
   "metadata": {},
   "source": [
    "## for each subject, do gaze proportion regression"
   ]
  },
  {
   "cell_type": "code",
   "execution_count": null,
   "metadata": {},
   "outputs": [],
   "source": [
    "e"
   ]
  },
  {
   "cell_type": "code",
   "execution_count": 10,
   "metadata": {},
   "outputs": [
    {
     "ename": "TypeError",
     "evalue": "string indices must be integers",
     "output_type": "error",
     "traceback": [
      "\u001b[0;31m---------------------------------------------------------------------------\u001b[0m",
      "\u001b[0;31mTypeError\u001b[0m                                 Traceback (most recent call last)",
      "\u001b[0;32m<ipython-input-10-dbfe2418cdbc>\u001b[0m in \u001b[0;36m<module>\u001b[0;34m()\u001b[0m\n\u001b[1;32m      7\u001b[0m \u001b[0;34m\u001b[0m\u001b[0m\n\u001b[1;32m      8\u001b[0m     \u001b[0md\u001b[0m\u001b[0;34m=\u001b[0m\u001b[0;34m[\u001b[0m\u001b[0;34m]\u001b[0m\u001b[0;34m;\u001b[0m \u001b[0ma\u001b[0m\u001b[0;34m=\u001b[0m\u001b[0;34m[\u001b[0m\u001b[0;34m]\u001b[0m\u001b[0;34m\u001b[0m\u001b[0m\n\u001b[0;32m----> 9\u001b[0;31m     \u001b[0mx\u001b[0m\u001b[0;34m[\u001b[0m\u001b[0;34m'Familiarity_Rating'\u001b[0m\u001b[0;34m]\u001b[0m \u001b[0;34m=\u001b[0m \u001b[0mx\u001b[0m\u001b[0;34m[\u001b[0m\u001b[0;34m'Familiarity Rating'\u001b[0m\u001b[0;34m]\u001b[0m\u001b[0;34m\u001b[0m\u001b[0m\n\u001b[0m\u001b[1;32m     10\u001b[0m     \u001b[0mx\u001b[0m\u001b[0;34m[\u001b[0m \u001b[0;34m'Gaze_Proportion'\u001b[0m  \u001b[0;34m]\u001b[0m \u001b[0;34m=\u001b[0m \u001b[0mx\u001b[0m\u001b[0;34m[\u001b[0m \u001b[0;34m'Image Prop'\u001b[0m  \u001b[0;34m]\u001b[0m\u001b[0;34m\u001b[0m\u001b[0m\n\u001b[1;32m     11\u001b[0m     \u001b[0mx\u001b[0m\u001b[0;34m[\u001b[0m \u001b[0;34m'AL'\u001b[0m  \u001b[0;34m]\u001b[0m \u001b[0;34m=\u001b[0m \u001b[0mx\u001b[0m\u001b[0;34m[\u001b[0m \u001b[0;34m'Attention Level'\u001b[0m  \u001b[0;34m]\u001b[0m\u001b[0;34m\u001b[0m\u001b[0m\n",
      "\u001b[0;31mTypeError\u001b[0m: string indices must be integers"
     ]
    }
   ],
   "source": [
    "new_f = []\n",
    "\n",
    "for idx,x in enumerate(eye_df):\n",
    "    #print(x['Subject'].unique())\n",
    "    \n",
    "    #if x['Subject'].unique():\n",
    "        \n",
    "    d=[]; a=[]\n",
    "    x['Familiarity_Rating'] = x['Familiarity Rating']\n",
    "    x[ 'Gaze_Proportion'  ] = x[ 'Image Prop'  ]\n",
    "    x[ 'AL'  ] = x[ 'Attention Level'  ]\n",
    "\n",
    "    # set gaze proportion foir all novel images equal to zero\n",
    "    x.loc[x.AL == 'Novel', 'Gaze_Proportion'] = 0\n",
    "\n",
    "    # do a regression on eye gaze and rating\n",
    "    model = smf.ols(formula = \"Familiarity_Rating ~ Gaze_Proportion\", data = x)\n",
    "    reg = model.fit()\n",
    "\n",
    "    # append to d a dataframe of residuals \n",
    "    d.append(pd.DataFrame(reg.resid))\n",
    "    # add regression to dataframe\n",
    "    x = pd.concat([pd.concat(d), x], axis=1, sort=False)\n",
    "    new_f.append(x)"
   ]
  },
  {
   "cell_type": "code",
   "execution_count": 15,
   "metadata": {},
   "outputs": [],
   "source": [
    "full = pd.concat(new_f)"
   ]
  },
  {
   "cell_type": "code",
   "execution_count": 16,
   "metadata": {},
   "outputs": [
    {
     "data": {
      "text/plain": [
       "30"
      ]
     },
     "execution_count": 16,
     "metadata": {},
     "output_type": "execute_result"
    }
   ],
   "source": [
    "len(full['Subject'].unique())"
   ]
  },
  {
   "cell_type": "code",
   "execution_count": 17,
   "metadata": {},
   "outputs": [
    {
     "data": {
      "image/png": "[encoded data removed]",
      "text/plain": [
       "<Figure size 432x288 with 1 Axes>"
      ]
     },
     "metadata": {},
     "output_type": "display_data"
    },
    {
     "data": {
      "image/png": "[encoded data removed]",
      "text/plain": [
       "<Figure size 432x288 with 1 Axes>"
      ]
     },
     "metadata": {},
     "output_type": "display_data"
    },
    {
     "data": {
      "image/png": "[encoded data removed]",
      "text/plain": [
       "<Figure size 432x288 with 1 Axes>"
      ]
     },
     "metadata": {},
     "output_type": "display_data"
    },
    {
     "data": {
      "image/png": "[encoded data removed]",
      "text/plain": [
       "<Figure size 432x288 with 1 Axes>"
      ]
     },
     "metadata": {},
     "output_type": "display_data"
    },
    {
     "data": {
      "image/png": "[encoded data removed]",
      "text/plain": [
       "<Figure size 432x288 with 1 Axes>"
      ]
     },
     "metadata": {},
     "output_type": "display_data"
    },
    {
     "data": {
      "image/png": "[encoded data removed]",
      "text/plain": [
       "<Figure size 432x288 with 1 Axes>"
      ]
     },
     "metadata": {},
     "output_type": "display_data"
    },
    {
     "data": {
      "image/png": "[encoded data removed]",
      "text/plain": [
       "<Figure size 432x288 with 1 Axes>"
      ]
     },
     "metadata": {},
     "output_type": "display_data"
    },
    {
     "data": {
      "image/png": "[encoded data removed]",
      "text/plain": [
       "<Figure size 432x288 with 1 Axes>"
      ]
     },
     "metadata": {},
     "output_type": "display_data"
    },
    {
     "data": {
      "image/png": "[encoded data removed]",
      "text/plain": [
       "<Figure size 432x288 with 1 Axes>"
      ]
     },
     "metadata": {},
     "output_type": "display_data"
    },
    {
     "data": {
      "image/png": "[encoded data removed]",
      "text/plain": [
       "<Figure size 432x288 with 1 Axes>"
      ]
     },
     "metadata": {},
     "output_type": "display_data"
    },
    {
     "data": {
      "image/png": "[encoded data removed]",
      "text/plain": [
       "<Figure size 432x288 with 1 Axes>"
      ]
     },
     "metadata": {},
     "output_type": "display_data"
    },
    {
     "data": {
      "image/png": "[encoded data removed]",
      "text/plain": [
       "<Figure size 432x288 with 1 Axes>"
      ]
     },
     "metadata": {},
     "output_type": "display_data"
    },
    {
     "data": {
      "image/png": "[encoded data removed]",
      "text/plain": [
       "<Figure size 432x288 with 1 Axes>"
      ]
     },
     "metadata": {},
     "output_type": "display_data"
    },
    {
     "data": {
      "image/png": "[encoded data removed]",
      "text/plain": [
       "<Figure size 432x288 with 1 Axes>"
      ]
     },
     "metadata": {},
     "output_type": "display_data"
    },
    {
     "data": {
      "image/png": "[encoded data removed]",
      "text/plain": [
       "<Figure size 432x288 with 1 Axes>"
      ]
     },
     "metadata": {},
     "output_type": "display_data"
    },
    {
     "data": {
      "image/png": "[encoded data removed]",
      "text/plain": [
       "<Figure size 432x288 with 1 Axes>"
      ]
     },
     "metadata": {},
     "output_type": "display_data"
    },
    {
     "data": {
      "image/png": "[encoded data removed]",
      "text/plain": [
       "<Figure size 432x288 with 1 Axes>"
      ]
     },
     "metadata": {},
     "output_type": "display_data"
    },
    {
     "data": {
      "image/png": "[encoded data removed]",
      "text/plain": [
       "<Figure size 432x288 with 1 Axes>"
      ]
     },
     "metadata": {},
     "output_type": "display_data"
    },
    {
     "data": {
      "image/png": "[encoded data removed]",
      "text/plain": [
       "<Figure size 432x288 with 1 Axes>"
      ]
     },
     "metadata": {},
     "output_type": "display_data"
    },
    {
     "data": {
      "image/png": "[encoded data removed]",
      "text/plain": [
       "<Figure size 432x288 with 1 Axes>"
      ]
     },
     "metadata": {},
     "output_type": "display_data"
    },
    {
     "data": {
      "image/png": "[encoded data removed]",
      "text/plain": [
       "<Figure size 432x288 with 1 Axes>"
      ]
     },
     "metadata": {},
     "output_type": "display_data"
    },
    {
     "data": {
      "image/png": "[encoded data removed]",
      "text/plain": [
       "<Figure size 432x288 with 1 Axes>"
      ]
     },
     "metadata": {},
     "output_type": "display_data"
    },
    {
     "data": {
      "image/png": "[encoded data removed]",
      "text/plain": [
       "<Figure size 432x288 with 1 Axes>"
      ]
     },
     "metadata": {},
     "output_type": "display_data"
    },
    {
     "data": {
      "image/png": "[encoded data removed]",
      "text/plain": [
       "<Figure size 432x288 with 1 Axes>"
      ]
     },
     "metadata": {},
     "output_type": "display_data"
    },
    {
     "data": {
      "image/png": "[encoded data removed]",
      "text/plain": [
       "<Figure size 432x288 with 1 Axes>"
      ]
     },
     "metadata": {},
     "output_type": "display_data"
    },
    {
     "data": {
      "image/png": "[encoded data removed]",
      "text/plain": [
       "<Figure size 432x288 with 1 Axes>"
      ]
     },
     "metadata": {},
     "output_type": "display_data"
    },
    {
     "data": {
      "image/png": "[encoded data removed]",
      "text/plain": [
       "<Figure size 432x288 with 1 Axes>"
      ]
     },
     "metadata": {},
     "output_type": "display_data"
    },
    {
     "data": {
      "image/png": "[encoded data removed]",
      "text/plain": [
       "<Figure size 432x288 with 1 Axes>"
      ]
     },
     "metadata": {},
     "output_type": "display_data"
    },
    {
     "data": {
      "image/png": "[encoded data removed]",
      "text/plain": [
       "<Figure size 432x288 with 1 Axes>"
      ]
     },
     "metadata": {},
     "output_type": "display_data"
    },
    {
     "data": {
      "image/png": "[encoded data removed]",
      "text/plain": [
       "<Figure size 432x288 with 1 Axes>"
      ]
     },
     "metadata": {},
     "output_type": "display_data"
    }
   ],
   "source": [
    "for x in list(full['Subject'].unique()):\n",
    "    data = full[full['Subject']==x]\n",
    "    sb.scatterplot(range(0, data.shape[0]), data[0])\n",
    "    plt.show()"
   ]
  },
  {
   "cell_type": "markdown",
   "metadata": {},
   "source": [
    "### Subtract Residuals"
   ]
  },
  {
   "cell_type": "code",
   "execution_count": 18,
   "metadata": {},
   "outputs": [],
   "source": [
    "# ALEX - skip this \n",
    "\n",
    "#full = pd.DataFrame.from_csv(\"/Users/kirstenziman/Desktop/attention-memory-task/full.csv\")"
   ]
  },
  {
   "cell_type": "code",
   "execution_count": 19,
   "metadata": {},
   "outputs": [],
   "source": [
    "full['Adjusted'] = full['Familiarity Rating'] - full[0]"
   ]
  },
  {
   "cell_type": "code",
   "execution_count": 20,
   "metadata": {},
   "outputs": [
    {
     "data": {
      "text/html": [
       "<div>\n",
       "<style scoped>\n",
       "    .dataframe tbody tr th:only-of-type {\n",
       "        vertical-align: middle;\n",
       "    }\n",
       "\n",
       "    .dataframe tbody tr th {\n",
       "        vertical-align: top;\n",
       "    }\n",
       "\n",
       "    .dataframe thead th {\n",
       "        text-align: right;\n",
       "    }\n",
       "</style>\n",
       "<table border=\"1\" class=\"dataframe\">\n",
       "  <thead>\n",
       "    <tr style=\"text-align: right;\">\n",
       "      <th></th>\n",
       "      <th>Subject</th>\n",
       "      <th>Attention Level</th>\n",
       "      <th>Category</th>\n",
       "      <th>0</th>\n",
       "      <th>Unnamed: 0</th>\n",
       "      <th>Run</th>\n",
       "      <th>Attention Reaction Time (s)</th>\n",
       "      <th>Familiarity Reaction Time (s)</th>\n",
       "      <th>Familiarity Rating</th>\n",
       "      <th>Cue Validity</th>\n",
       "      <th>...</th>\n",
       "      <th>Stimulus End</th>\n",
       "      <th>Trial</th>\n",
       "      <th>Cprop</th>\n",
       "      <th>Lprop</th>\n",
       "      <th>Rprop</th>\n",
       "      <th>Image Prop</th>\n",
       "      <th>Center Prop</th>\n",
       "      <th>Familiarity_Rating</th>\n",
       "      <th>Gaze_Proportion</th>\n",
       "      <th>Adjusted</th>\n",
       "    </tr>\n",
       "  </thead>\n",
       "  <tbody>\n",
       "    <tr>\n",
       "      <th>0</th>\n",
       "      <td>0</td>\n",
       "      <td>Category</td>\n",
       "      <td>Face</td>\n",
       "      <td>0.195163</td>\n",
       "      <td>229.733333</td>\n",
       "      <td>4.0</td>\n",
       "      <td>NaN</td>\n",
       "      <td>1.096333</td>\n",
       "      <td>2.384615</td>\n",
       "      <td>NaN</td>\n",
       "      <td>...</td>\n",
       "      <td>1.550772e+09</td>\n",
       "      <td>NaN</td>\n",
       "      <td>NaN</td>\n",
       "      <td>NaN</td>\n",
       "      <td>NaN</td>\n",
       "      <td>0.000000</td>\n",
       "      <td>0.991774</td>\n",
       "      <td>2.384615</td>\n",
       "      <td>0.000000</td>\n",
       "      <td>2.204837</td>\n",
       "    </tr>\n",
       "    <tr>\n",
       "      <th>1</th>\n",
       "      <td>0</td>\n",
       "      <td>Category</td>\n",
       "      <td>Place</td>\n",
       "      <td>0.118082</td>\n",
       "      <td>192.240000</td>\n",
       "      <td>3.2</td>\n",
       "      <td>NaN</td>\n",
       "      <td>1.376160</td>\n",
       "      <td>2.480000</td>\n",
       "      <td>NaN</td>\n",
       "      <td>...</td>\n",
       "      <td>1.550771e+09</td>\n",
       "      <td>NaN</td>\n",
       "      <td>NaN</td>\n",
       "      <td>NaN</td>\n",
       "      <td>NaN</td>\n",
       "      <td>0.003367</td>\n",
       "      <td>0.969904</td>\n",
       "      <td>2.480000</td>\n",
       "      <td>0.003367</td>\n",
       "      <td>2.245554</td>\n",
       "    </tr>\n",
       "    <tr>\n",
       "      <th>2</th>\n",
       "      <td>0</td>\n",
       "      <td>Full</td>\n",
       "      <td>Face</td>\n",
       "      <td>-0.485099</td>\n",
       "      <td>226.600000</td>\n",
       "      <td>4.0</td>\n",
       "      <td>NaN</td>\n",
       "      <td>1.212133</td>\n",
       "      <td>2.000000</td>\n",
       "      <td>NaN</td>\n",
       "      <td>...</td>\n",
       "      <td>1.550772e+09</td>\n",
       "      <td>NaN</td>\n",
       "      <td>NaN</td>\n",
       "      <td>NaN</td>\n",
       "      <td>NaN</td>\n",
       "      <td>0.013551</td>\n",
       "      <td>0.982920</td>\n",
       "      <td>2.000000</td>\n",
       "      <td>0.013551</td>\n",
       "      <td>2.385099</td>\n",
       "    </tr>\n",
       "    <tr>\n",
       "      <th>3</th>\n",
       "      <td>0</td>\n",
       "      <td>Full</td>\n",
       "      <td>Place</td>\n",
       "      <td>0.700162</td>\n",
       "      <td>188.200000</td>\n",
       "      <td>3.2</td>\n",
       "      <td>NaN</td>\n",
       "      <td>1.170720</td>\n",
       "      <td>3.041667</td>\n",
       "      <td>NaN</td>\n",
       "      <td>...</td>\n",
       "      <td>1.550771e+09</td>\n",
       "      <td>NaN</td>\n",
       "      <td>NaN</td>\n",
       "      <td>NaN</td>\n",
       "      <td>NaN</td>\n",
       "      <td>0.020578</td>\n",
       "      <td>0.975474</td>\n",
       "      <td>3.041667</td>\n",
       "      <td>0.020578</td>\n",
       "      <td>2.453684</td>\n",
       "    </tr>\n",
       "    <tr>\n",
       "      <th>4</th>\n",
       "      <td>0</td>\n",
       "      <td>None</td>\n",
       "      <td>Face</td>\n",
       "      <td>-0.154645</td>\n",
       "      <td>193.160000</td>\n",
       "      <td>3.2</td>\n",
       "      <td>NaN</td>\n",
       "      <td>1.147120</td>\n",
       "      <td>2.173913</td>\n",
       "      <td>NaN</td>\n",
       "      <td>...</td>\n",
       "      <td>1.550771e+09</td>\n",
       "      <td>NaN</td>\n",
       "      <td>NaN</td>\n",
       "      <td>NaN</td>\n",
       "      <td>NaN</td>\n",
       "      <td>0.003367</td>\n",
       "      <td>0.969904</td>\n",
       "      <td>2.173913</td>\n",
       "      <td>0.003367</td>\n",
       "      <td>2.245554</td>\n",
       "    </tr>\n",
       "  </tbody>\n",
       "</table>\n",
       "<p>5 rows × 25 columns</p>\n",
       "</div>"
      ],
      "text/plain": [
       "   Subject Attention Level Category         0  Unnamed: 0  Run  \\\n",
       "0        0        Category     Face  0.195163  229.733333  4.0   \n",
       "1        0        Category    Place  0.118082  192.240000  3.2   \n",
       "2        0            Full     Face -0.485099  226.600000  4.0   \n",
       "3        0            Full    Place  0.700162  188.200000  3.2   \n",
       "4        0            None     Face -0.154645  193.160000  3.2   \n",
       "\n",
       "   Attention Reaction Time (s)  Familiarity Reaction Time (s)  \\\n",
       "0                          NaN                       1.096333   \n",
       "1                          NaN                       1.376160   \n",
       "2                          NaN                       1.212133   \n",
       "3                          NaN                       1.170720   \n",
       "4                          NaN                       1.147120   \n",
       "\n",
       "   Familiarity Rating  Cue Validity    ...     Stimulus End  Trial  Cprop  \\\n",
       "0            2.384615           NaN    ...     1.550772e+09    NaN    NaN   \n",
       "1            2.480000           NaN    ...     1.550771e+09    NaN    NaN   \n",
       "2            2.000000           NaN    ...     1.550772e+09    NaN    NaN   \n",
       "3            3.041667           NaN    ...     1.550771e+09    NaN    NaN   \n",
       "4            2.173913           NaN    ...     1.550771e+09    NaN    NaN   \n",
       "\n",
       "   Lprop  Rprop  Image Prop  Center Prop  Familiarity_Rating  Gaze_Proportion  \\\n",
       "0    NaN    NaN    0.000000     0.991774            2.384615         0.000000   \n",
       "1    NaN    NaN    0.003367     0.969904            2.480000         0.003367   \n",
       "2    NaN    NaN    0.013551     0.982920            2.000000         0.013551   \n",
       "3    NaN    NaN    0.020578     0.975474            3.041667         0.020578   \n",
       "4    NaN    NaN    0.003367     0.969904            2.173913         0.003367   \n",
       "\n",
       "   Adjusted  \n",
       "0  2.204837  \n",
       "1  2.245554  \n",
       "2  2.385099  \n",
       "3  2.453684  \n",
       "4  2.245554  \n",
       "\n",
       "[5 rows x 25 columns]"
      ]
     },
     "execution_count": 20,
     "metadata": {},
     "output_type": "execute_result"
    }
   ],
   "source": [
    "# CATEGORY - PLACES VS FACES\n",
    "full.ix[full['Memory Image'].str.contains(\"sun\", na=False),'Category']='Place'\n",
    "full.ix[~full['Memory Image'].str.contains(\"sun\", na=False),'Category']='Face'\n",
    "\n",
    "grouped = full.groupby(['Subject', 'Attention Level', 'Category'], as_index=False).mean()\n",
    "grouped.head()"
   ]
  },
  {
   "cell_type": "code",
   "execution_count": 21,
   "metadata": {
    "scrolled": false
   },
   "outputs": [
    {
     "data": {
      "text/plain": [
       "<matplotlib.axes._subplots.AxesSubplot at 0x1224b1518>"
      ]
     },
     "execution_count": 21,
     "metadata": {},
     "output_type": "execute_result"
    },
    {
     "data": {
      "image/png": "[encoded data removed]",
      "text/plain": [
       "<Figure size 432x288 with 1 Axes>"
      ]
     },
     "metadata": {},
     "output_type": "display_data"
    }
   ],
   "source": [
    "sb.violinplot(y = 'Gaze_Proportion', x = 'Attention Level', hue='Category', split=True, data = grouped)"
   ]
  },
  {
   "cell_type": "markdown",
   "metadata": {},
   "source": [
    "# EXP 2 : Eye Gaze Regression"
   ]
  },
  {
   "cell_type": "markdown",
   "metadata": {},
   "source": [
    "We have taken the proportion of gazepoints directly on each image regressed out that effect, on a subject-wise basis. <br /><br />This is a non-standard approach but allows us to save all of the data."
   ]
  },
  {
   "cell_type": "code",
   "execution_count": 175,
   "metadata": {
    "scrolled": true
   },
   "outputs": [
    {
     "ename": "NameError",
     "evalue": "name 'grouped' is not defined",
     "output_type": "error",
     "traceback": [
      "\u001b[0;31m-------------------------------------------------------\u001b[0m",
      "\u001b[0;31mNameError\u001b[0m             Traceback (most recent call last)",
      "\u001b[0;32m<ipython-input-175-dbca67bbb39c>\u001b[0m in \u001b[0;36m<module>\u001b[0;34m()\u001b[0m\n\u001b[0;32m----> 1\u001b[0;31m \u001b[0msb\u001b[0m\u001b[0;34m.\u001b[0m\u001b[0mbarplot\u001b[0m\u001b[0;34m(\u001b[0m\u001b[0mx\u001b[0m\u001b[0;34m=\u001b[0m\u001b[0;34m'Attention Level'\u001b[0m\u001b[0;34m,\u001b[0m \u001b[0my\u001b[0m\u001b[0;34m=\u001b[0m\u001b[0;34m'Adjusted'\u001b[0m\u001b[0;34m,\u001b[0m \u001b[0mdata\u001b[0m\u001b[0;34m=\u001b[0m\u001b[0mgrouped\u001b[0m\u001b[0;34m)\u001b[0m\u001b[0;34m\u001b[0m\u001b[0m\n\u001b[0m",
      "\u001b[0;31mNameError\u001b[0m: name 'grouped' is not defined"
     ]
    }
   ],
   "source": [
    "sb.barplot(x='Attention Level', y='Adjusted', data=grouped)"
   ]
  },
  {
   "cell_type": "code",
   "execution_count": 174,
   "metadata": {},
   "outputs": [
    {
     "ename": "NameError",
     "evalue": "name 'grouped' is not defined",
     "output_type": "error",
     "traceback": [
      "\u001b[0;31m-------------------------------------------------------\u001b[0m",
      "\u001b[0;31mNameError\u001b[0m             Traceback (most recent call last)",
      "\u001b[0;32m<ipython-input-174-a9b1ebdbd16e>\u001b[0m in \u001b[0;36m<module>\u001b[0;34m()\u001b[0m\n\u001b[1;32m      1\u001b[0m \u001b[0;32mimport\u001b[0m \u001b[0mstatsmodels\u001b[0m\u001b[0;34m.\u001b[0m\u001b[0mapi\u001b[0m \u001b[0;32mas\u001b[0m \u001b[0msm\u001b[0m\u001b[0;34m\u001b[0m\u001b[0m\n\u001b[0;32m----> 2\u001b[0;31m \u001b[0mgrouped\u001b[0m\u001b[0;34m[\u001b[0m\u001b[0;34m'FR'\u001b[0m\u001b[0;34m]\u001b[0m \u001b[0;34m=\u001b[0m \u001b[0mgrouped\u001b[0m\u001b[0;34m[\u001b[0m\u001b[0;34m'Adjusted'\u001b[0m\u001b[0;34m]\u001b[0m\u001b[0;34m\u001b[0m\u001b[0m\n\u001b[0m\u001b[1;32m      3\u001b[0m \u001b[0mgrouped\u001b[0m\u001b[0;34m[\u001b[0m\u001b[0;34m'AL'\u001b[0m\u001b[0;34m]\u001b[0m \u001b[0;34m=\u001b[0m \u001b[0mgrouped\u001b[0m\u001b[0;34m[\u001b[0m\u001b[0;34m'Attention Level'\u001b[0m   \u001b[0;34m]\u001b[0m\u001b[0;34m\u001b[0m\u001b[0m\n\u001b[1;32m      4\u001b[0m \u001b[0mpingouin\u001b[0m\u001b[0;34m.\u001b[0m\u001b[0mrm_anova\u001b[0m\u001b[0;34m(\u001b[0m\u001b[0mdv\u001b[0m\u001b[0;34m=\u001b[0m\u001b[0;34m'FR'\u001b[0m\u001b[0;34m,\u001b[0m \u001b[0mwithin\u001b[0m\u001b[0;34m=\u001b[0m\u001b[0;34m[\u001b[0m\u001b[0;34m'AL'\u001b[0m\u001b[0;34m,\u001b[0m\u001b[0;34m'Category'\u001b[0m\u001b[0;34m]\u001b[0m\u001b[0;34m,\u001b[0m \u001b[0msubject\u001b[0m\u001b[0;34m=\u001b[0m\u001b[0;34m'Subject'\u001b[0m\u001b[0;34m,\u001b[0m \u001b[0mdata\u001b[0m\u001b[0;34m=\u001b[0m\u001b[0mgrouped\u001b[0m\u001b[0;34m)\u001b[0m\u001b[0;34m\u001b[0m\u001b[0m\n\u001b[1;32m      5\u001b[0m \u001b[0;31m# pingouin.rm_anova(dv='FR', within=['AL'], subject='Subject', data=grouped)\u001b[0m\u001b[0;34m\u001b[0m\u001b[0;34m\u001b[0m\u001b[0m\n",
      "\u001b[0;31mNameError\u001b[0m: name 'grouped' is not defined"
     ]
    }
   ],
   "source": [
    "import statsmodels.api as sm\n",
    "grouped['FR'] = grouped['Adjusted']\n",
    "grouped['AL'] = grouped['Attention Level'   ]\n",
    "pingouin.rm_anova(dv='FR', within=['AL','Category'], subject='Subject', data=grouped)\n",
    "# pingouin.rm_anova(dv='FR', within=['AL'], subject='Subject', data=grouped)"
   ]
  },
  {
   "cell_type": "code",
   "execution_count": 173,
   "metadata": {},
   "outputs": [
    {
     "ename": "NameError",
     "evalue": "name 'grouped' is not defined",
     "output_type": "error",
     "traceback": [
      "\u001b[0;31m-------------------------------------------------------\u001b[0m",
      "\u001b[0;31mNameError\u001b[0m             Traceback (most recent call last)",
      "\u001b[0;32m<ipython-input-173-9713ed131ab1>\u001b[0m in \u001b[0;36m<module>\u001b[0;34m()\u001b[0m\n\u001b[0;32m----> 1\u001b[0;31m \u001b[0mpair\u001b[0m \u001b[0;34m=\u001b[0m \u001b[0mcombinations\u001b[0m\u001b[0;34m(\u001b[0m\u001b[0mgrouped\u001b[0m\u001b[0;34m[\u001b[0m\u001b[0;34m'AL'\u001b[0m\u001b[0;34m]\u001b[0m\u001b[0;34m.\u001b[0m\u001b[0munique\u001b[0m\u001b[0;34m(\u001b[0m\u001b[0;34m)\u001b[0m\u001b[0;34m,\u001b[0m\u001b[0;36m2\u001b[0m\u001b[0;34m)\u001b[0m\u001b[0;34m\u001b[0m\u001b[0m\n\u001b[0m\u001b[1;32m      2\u001b[0m \u001b[0;34m\u001b[0m\u001b[0m\n\u001b[1;32m      3\u001b[0m \u001b[0;32mfor\u001b[0m \u001b[0mi\u001b[0m \u001b[0;32min\u001b[0m \u001b[0mlist\u001b[0m\u001b[0;34m(\u001b[0m\u001b[0mpair\u001b[0m\u001b[0;34m)\u001b[0m\u001b[0;34m:\u001b[0m\u001b[0;34m\u001b[0m\u001b[0m\n\u001b[1;32m      4\u001b[0m \u001b[0;34m\u001b[0m\u001b[0m\n\u001b[1;32m      5\u001b[0m     p = scipy.stats.ttest_rel(grouped[grouped['AL']==i[0]]['Familiarity_Rating'], \n",
      "\u001b[0;31mNameError\u001b[0m: name 'grouped' is not defined"
     ]
    }
   ],
   "source": [
    "pair = combinations(grouped['AL'].unique(),2) \n",
    "   \n",
    "for i in list(pair): \n",
    "   \n",
    "    p = scipy.stats.ttest_rel(grouped[grouped['AL']==i[0]]['Familiarity_Rating'], \n",
    "                          grouped[grouped['AL']==i[1]]['Familiarity_Rating'])\n",
    "    \n",
    "    if p[1] <.05:\n",
    "        print(i)\n",
    "        print('p = ' + str(p[1]))\n",
    "        print(' ')"
   ]
  },
  {
   "cell_type": "markdown",
   "metadata": {},
   "source": [
    "# EXP2: ANOVA - Gaze at Center"
   ]
  },
  {
   "cell_type": "code",
   "execution_count": 25,
   "metadata": {},
   "outputs": [],
   "source": [
    "full_gaze_A = full[full['Center Prop'] == 1.0]\n",
    "full_gaze_B = full[full['AL'] == 'Novel']\n",
    "full_gaze = pd.concat([full_gaze_A, full_gaze_B])"
   ]
  },
  {
   "cell_type": "code",
   "execution_count": 26,
   "metadata": {},
   "outputs": [],
   "source": [
    "full_gaze.to_csv('/Users/kirstenziman/Documents/attention-memory-task/Center_Prop_Data.csv')"
   ]
  },
  {
   "cell_type": "code",
   "execution_count": 27,
   "metadata": {},
   "outputs": [
    {
     "data": {
      "text/plain": [
       "array(['Category', 'Full', 'None', 'Novel', 'Side'], dtype=object)"
      ]
     },
     "execution_count": 27,
     "metadata": {},
     "output_type": "execute_result"
    }
   ],
   "source": [
    "grouped_again = full_gaze.groupby(['Subject', 'Attention Level', 'Category'], as_index=False).mean()\n",
    "grouped_again['Attention Level'].unique()"
   ]
  },
  {
   "cell_type": "code",
   "execution_count": 28,
   "metadata": {
    "scrolled": true
   },
   "outputs": [
    {
     "name": "stdout",
     "output_type": "stream",
     "text": [
      "30\n",
      "30\n",
      "30\n"
     ]
    }
   ],
   "source": [
    "print(len(full['Subject'].unique()) )\n",
    "print(len(full_gaze['Subject'].unique()) )\n",
    "print(len(grouped_again['Subject'].unique()))"
   ]
  },
  {
   "cell_type": "markdown",
   "metadata": {},
   "source": [
    "# EXP2: ANOVA - Gaze at Center"
   ]
  },
  {
   "cell_type": "markdown",
   "metadata": {},
   "source": [
    " Vision papers on covert attention get rid of trials where subejcts look away from fixation.<br /> <br /> \n",
    "This was the repeated recommendation at EPSCOR meetings, but we preferred to preserve all of our data and to be able to generalize our findings to MRI data. <br /><br />Here, we decide to look at ratings from images viewed on trials where subjects only gazed between images."
   ]
  },
  {
   "cell_type": "code",
   "execution_count": 30,
   "metadata": {},
   "outputs": [
    {
     "data": {
      "image/png": "[encoded data removed]",
      "text/plain": [
       "<Figure size 432x288 with 1 Axes>"
      ]
     },
     "metadata": {},
     "output_type": "display_data"
    },
    {
     "data": {
      "text/html": [
       "<div>\n",
       "<style scoped>\n",
       "    .dataframe tbody tr th:only-of-type {\n",
       "        vertical-align: middle;\n",
       "    }\n",
       "\n",
       "    .dataframe tbody tr th {\n",
       "        vertical-align: top;\n",
       "    }\n",
       "\n",
       "    .dataframe thead th {\n",
       "        text-align: right;\n",
       "    }\n",
       "</style>\n",
       "<table border=\"1\" class=\"dataframe\">\n",
       "  <thead>\n",
       "    <tr style=\"text-align: right;\">\n",
       "      <th></th>\n",
       "      <th>Source</th>\n",
       "      <th>SS</th>\n",
       "      <th>ddof1</th>\n",
       "      <th>ddof2</th>\n",
       "      <th>MS</th>\n",
       "      <th>F</th>\n",
       "      <th>p-unc</th>\n",
       "      <th>p-GG-corr</th>\n",
       "      <th>np2</th>\n",
       "      <th>eps</th>\n",
       "    </tr>\n",
       "  </thead>\n",
       "  <tbody>\n",
       "    <tr>\n",
       "      <th>0</th>\n",
       "      <td>Attn_Level</td>\n",
       "      <td>5.504</td>\n",
       "      <td>4</td>\n",
       "      <td>116</td>\n",
       "      <td>1.376</td>\n",
       "      <td>8.233</td>\n",
       "      <td>7.017207e-06</td>\n",
       "      <td>0.000150</td>\n",
       "      <td>0.221</td>\n",
       "      <td>0.667</td>\n",
       "    </tr>\n",
       "    <tr>\n",
       "      <th>1</th>\n",
       "      <td>Category</td>\n",
       "      <td>1.060</td>\n",
       "      <td>1</td>\n",
       "      <td>29</td>\n",
       "      <td>1.060</td>\n",
       "      <td>2.178</td>\n",
       "      <td>1.508176e-01</td>\n",
       "      <td>0.150818</td>\n",
       "      <td>0.070</td>\n",
       "      <td>1.000</td>\n",
       "    </tr>\n",
       "    <tr>\n",
       "      <th>2</th>\n",
       "      <td>Attn_Level * Category</td>\n",
       "      <td>1.058</td>\n",
       "      <td>4</td>\n",
       "      <td>116</td>\n",
       "      <td>0.265</td>\n",
       "      <td>16.142</td>\n",
       "      <td>1.550484e-10</td>\n",
       "      <td>0.000009</td>\n",
       "      <td>0.358</td>\n",
       "      <td>0.439</td>\n",
       "    </tr>\n",
       "  </tbody>\n",
       "</table>\n",
       "</div>"
      ],
      "text/plain": [
       "                  Source     SS  ddof1  ddof2     MS       F         p-unc  \\\n",
       "0             Attn_Level  5.504      4    116  1.376   8.233  7.017207e-06   \n",
       "1               Category  1.060      1     29  1.060   2.178  1.508176e-01   \n",
       "2  Attn_Level * Category  1.058      4    116  0.265  16.142  1.550484e-10   \n",
       "\n",
       "   p-GG-corr    np2    eps  \n",
       "0   0.000150  0.221  0.667  \n",
       "1   0.150818  0.070  1.000  \n",
       "2   0.000009  0.358  0.439  "
      ]
     },
     "execution_count": 30,
     "metadata": {},
     "output_type": "execute_result"
    }
   ],
   "source": [
    "import statsmodels.api as sm\n",
    "grouped_again = full_gaze.groupby(['Subject', 'Attention Level', 'Category'], as_index=False).mean()\n",
    "grouped_again['FR'] = grouped_again['Familiarity Rating']\n",
    "grouped_again['Attn_Level'] = grouped_again['Attention Level'   ]\n",
    "sb.barplot(x='Attention Level', y='Familiarity Rating',  hue='Category', data=grouped_again)\n",
    "plt.show()\n",
    "pingouin.rm_anova(dv='FR', within=['Attn_Level','Category'], subject='Subject', data=grouped_again)"
   ]
  },
  {
   "cell_type": "code",
   "execution_count": 30,
   "metadata": {},
   "outputs": [],
   "source": [
    "# l = grouped_again['Attention Level'].unique()\n",
    "# for pair in list(itertools.combinations(l, r=2)):\n",
    "#     t = stats.ttest_rel(sub_split[sub_split['Attention Level']==pair[0]]['Familiarity Rating'], \n",
    "#                         sub_split[sub_split['Attention Level']==pair[1]]['Familiarity Rating'])    \n",
    "#     if t[1]<.05:\n",
    "#         print(pair[0]+\" vs. \"+pair[1])\n",
    "# pingouin.ttest()"
   ]
  },
  {
   "cell_type": "markdown",
   "metadata": {},
   "source": [
    "### ANOVA with data where no gaze at image"
   ]
  },
  {
   "cell_type": "code",
   "execution_count": 31,
   "metadata": {},
   "outputs": [
    {
     "data": {
      "text/html": [
       "<div>\n",
       "<style scoped>\n",
       "    .dataframe tbody tr th:only-of-type {\n",
       "        vertical-align: middle;\n",
       "    }\n",
       "\n",
       "    .dataframe tbody tr th {\n",
       "        vertical-align: top;\n",
       "    }\n",
       "\n",
       "    .dataframe thead th {\n",
       "        text-align: right;\n",
       "    }\n",
       "</style>\n",
       "<table border=\"1\" class=\"dataframe\">\n",
       "  <thead>\n",
       "    <tr style=\"text-align: right;\">\n",
       "      <th></th>\n",
       "      <th>Source</th>\n",
       "      <th>SS</th>\n",
       "      <th>ddof1</th>\n",
       "      <th>ddof2</th>\n",
       "      <th>MS</th>\n",
       "      <th>F</th>\n",
       "      <th>p-unc</th>\n",
       "      <th>p-GG-corr</th>\n",
       "      <th>np2</th>\n",
       "      <th>eps</th>\n",
       "    </tr>\n",
       "  </thead>\n",
       "  <tbody>\n",
       "    <tr>\n",
       "      <th>0</th>\n",
       "      <td>Attn_Level</td>\n",
       "      <td>4.065</td>\n",
       "      <td>3</td>\n",
       "      <td>84</td>\n",
       "      <td>1.355</td>\n",
       "      <td>7.183</td>\n",
       "      <td>0.000238</td>\n",
       "      <td>0.001082</td>\n",
       "      <td>0.204</td>\n",
       "      <td>0.740</td>\n",
       "    </tr>\n",
       "    <tr>\n",
       "      <th>1</th>\n",
       "      <td>Category</td>\n",
       "      <td>2.065</td>\n",
       "      <td>1</td>\n",
       "      <td>28</td>\n",
       "      <td>2.065</td>\n",
       "      <td>5.759</td>\n",
       "      <td>0.023299</td>\n",
       "      <td>0.023299</td>\n",
       "      <td>0.171</td>\n",
       "      <td>1.000</td>\n",
       "    </tr>\n",
       "    <tr>\n",
       "      <th>2</th>\n",
       "      <td>Attn_Level * Category</td>\n",
       "      <td>1.194</td>\n",
       "      <td>3</td>\n",
       "      <td>84</td>\n",
       "      <td>0.398</td>\n",
       "      <td>6.700</td>\n",
       "      <td>0.000414</td>\n",
       "      <td>0.005671</td>\n",
       "      <td>0.193</td>\n",
       "      <td>0.513</td>\n",
       "    </tr>\n",
       "  </tbody>\n",
       "</table>\n",
       "</div>"
      ],
      "text/plain": [
       "                  Source     SS  ddof1  ddof2     MS      F     p-unc  \\\n",
       "0             Attn_Level  4.065      3     84  1.355  7.183  0.000238   \n",
       "1               Category  2.065      1     28  2.065  5.759  0.023299   \n",
       "2  Attn_Level * Category  1.194      3     84  0.398  6.700  0.000414   \n",
       "\n",
       "   p-GG-corr    np2    eps  \n",
       "0   0.001082  0.204  0.740  \n",
       "1   0.023299  0.171  1.000  \n",
       "2   0.005671  0.193  0.513  "
      ]
     },
     "execution_count": 31,
     "metadata": {},
     "output_type": "execute_result"
    }
   ],
   "source": [
    "full_gaze = full[full['Image Prop'] == 0]\n",
    "grouped_again = full_gaze.groupby(['Subject', 'Attention Level', 'Category'], as_index=False).mean()\n",
    "grouped_again['FR'] = grouped_again['Familiarity Rating']\n",
    "grouped_again['Attn_Level'] = grouped_again['Attention Level'   ]\n",
    "\n",
    "pingouin.rm_anova(dv='FR', within=['Attn_Level','Category'], subject='Subject', data=grouped_again)"
   ]
  },
  {
   "cell_type": "code",
   "execution_count": 32,
   "metadata": {},
   "outputs": [
    {
     "name": "stdout",
     "output_type": "stream",
     "text": [
      "30\n",
      "30\n",
      "29\n"
     ]
    }
   ],
   "source": [
    "print(len(full['Subject'].unique()) )\n",
    "print(len(full_gaze['Subject'].unique()) )\n",
    "print(len(grouped_again['Subject'].unique()))"
   ]
  },
  {
   "cell_type": "code",
   "execution_count": 33,
   "metadata": {},
   "outputs": [
    {
     "data": {
      "text/plain": [
       "<matplotlib.axes._subplots.AxesSubplot at 0x11ec075c0>"
      ]
     },
     "execution_count": 33,
     "metadata": {},
     "output_type": "execute_result"
    },
    {
     "data": {
      "image/png": "[encoded data removed]",
      "text/plain": [
       "<Figure size 432x288 with 1 Axes>"
      ]
     },
     "metadata": {},
     "output_type": "display_data"
    }
   ],
   "source": [
    "sb.barplot(x='Attention Level', y='Familiarity Rating', hue='Category', data=grouped_again)"
   ]
  },
  {
   "cell_type": "code",
   "execution_count": 34,
   "metadata": {},
   "outputs": [
    {
     "name": "stdout",
     "output_type": "stream",
     "text": [
      "Total proportion of prev-seen mem images utilized:\n"
     ]
    },
    {
     "data": {
      "text/plain": [
       "0.485"
      ]
     },
     "execution_count": 34,
     "metadata": {},
     "output_type": "execute_result"
    }
   ],
   "source": [
    "a = full_gaze[ (full_gaze['Trial Type']=='Memory') & (full_gaze['Attention Level']!='Novel') ].shape[0]\n",
    "b = full[ (full['Trial Type']=='Memory') & (full['Attention Level']!='Novel') ].shape[0]\n",
    "\n",
    "print('Total proportion of prev-seen mem images utilized:')\n",
    "a/b"
   ]
  },
  {
   "cell_type": "code",
   "execution_count": 35,
   "metadata": {},
   "outputs": [
    {
     "data": {
      "text/plain": [
       "Subject\n",
       "0     0.988578\n",
       "1     0.967035\n",
       "2     0.689884\n",
       "3     0.921856\n",
       "4     0.994803\n",
       "5     0.790221\n",
       "7     0.986766\n",
       "8     0.890836\n",
       "10    0.991014\n",
       "12    0.882399\n",
       "13    0.837164\n",
       "14    0.958756\n",
       "15    0.922117\n",
       "16    0.977533\n",
       "17    0.968296\n",
       "18    0.836858\n",
       "19    0.906667\n",
       "20    0.885006\n",
       "21    0.999792\n",
       "22    0.232115\n",
       "23    0.967014\n",
       "24    0.295737\n",
       "25    0.947629\n",
       "26    0.888377\n",
       "27    0.679690\n",
       "28    0.997091\n",
       "29    0.983437\n",
       "33    0.971278\n",
       "34    0.990984\n",
       "Name: Center Prop, dtype: float64"
      ]
     },
     "execution_count": 35,
     "metadata": {},
     "output_type": "execute_result"
    }
   ],
   "source": [
    "m = full_gaze[full_gaze['Trial Type']=='Memory'].groupby('Subject')['Center Prop'].mean()\n",
    "\n",
    "m"
   ]
  },
  {
   "cell_type": "markdown",
   "metadata": {},
   "source": [
    "# Try with R"
   ]
  },
  {
   "cell_type": "code",
   "execution_count": null,
   "metadata": {},
   "outputs": [],
   "source": [
    "%R -i full"
   ]
  },
  {
   "cell_type": "code",
   "execution_count": null,
   "metadata": {},
   "outputs": [],
   "source": [
    "%R full"
   ]
  },
  {
   "cell_type": "code",
   "execution_count": null,
   "metadata": {},
   "outputs": [],
   "source": []
  },
  {
   "cell_type": "code",
   "execution_count": null,
   "metadata": {},
   "outputs": [],
   "source": []
  },
  {
   "cell_type": "code",
   "execution_count": null,
   "metadata": {},
   "outputs": [],
   "source": []
  },
  {
   "cell_type": "code",
   "execution_count": null,
   "metadata": {},
   "outputs": [],
   "source": []
  },
  {
   "cell_type": "markdown",
   "metadata": {},
   "source": [
    "# Graveyard"
   ]
  },
  {
   "cell_type": "code",
   "execution_count": null,
   "metadata": {},
   "outputs": [],
   "source": [
    "params = {'runs':8, 'presentations_per_run':10, \n",
    "          'invalid_cue_percentage':10, 'mem_to_pres':4, \n",
    "          'mem_pres_split':2}\n",
    "\n",
    "dr = '/Users/student/Desktop/attention-memory-task/data/'"
   ]
  },
  {
   "cell_type": "code",
   "execution_count": null,
   "metadata": {},
   "outputs": [],
   "source": [
    "class parseFile():\n",
    "    def __init__(self, file):\n",
    "        self.file = file\n",
    "    def parse(self):\n",
    "        data = open(self.file).read()\n",
    "        return(data)"
   ]
  },
  {
   "cell_type": "code",
   "execution_count": null,
   "metadata": {},
   "outputs": [],
   "source": [
    "def df_create(data):\n",
    "    \"\"\"\n",
    "    input: raw parsed eye data\n",
    "    output: dataframe of eye data (screen location in centimeters)\n",
    "    \"\"\"\n",
    "\n",
    "    dict_list = [ast.literal_eval(x) for x in data]\n",
    "    dict_list = [x['values']['frame'] for x in dict_list if 'frame' in x['values']]\n",
    "\n",
    "    df = pd.DataFrame(dict_list)\n",
    "\n",
    "    # right and left eye\n",
    "    for eye in ['righteye','lefteye']:\n",
    "        for coord in ['x','y']:\n",
    "            df[coord+'Raw_'+eye] = [df[eye][row]['raw'][coord] for row in df.index.values]\n",
    "\n",
    "    # convert to centimeters\n",
    "    df['av_x_coord'] = (59.8/2048)*(df[['xRaw_righteye', 'xRaw_lefteye']].mean(axis=1))\n",
    "    df['av_y_coord'] = (33.6/1152)*(df[['yRaw_righteye', 'yRaw_lefteye']].mean(axis=1))\n",
    "\n",
    "    # convert timestamp\n",
    "    df['timestamp']=[time.mktime(time.strptime(x[:], \"%Y-%m-%d %H:%M:%S.%f\")) for x in df['timestamp']]\n",
    "\n",
    "    return(df)"
   ]
  },
  {
   "cell_type": "markdown",
   "metadata": {},
   "source": [
    "# Subject Overview"
   ]
  },
  {
   "cell_type": "code",
   "execution_count": null,
   "metadata": {},
   "outputs": [],
   "source": [
    "def gaze_plot(df_list):\n",
    "\n",
    "    middle = 2048/2.0\n",
    "    quarter = (1304-744)/4.0\n",
    "\n",
    "    fig = plt.figure()\n",
    "    ax1 = fig.add_subplot(111, aspect='equal')\n",
    "\n",
    "    for x in df_list:\n",
    "        if x['Cued Side'].all()=='>' and x['Cued Category'].all()=='Place':\n",
    "            color='green'\n",
    "        elif x['Cued Side'].all()=='>' and x['Cued Category'].all()=='Face':\n",
    "            color='blue'\n",
    "        elif x['Cued Side'].all()=='<' and x['Cued Category'].all()=='Place':\n",
    "            color='orange'\n",
    "        else:\n",
    "            color='red'\n",
    "\n",
    "        x['Color']=color\n",
    "\n",
    "        ax1.plot(x['av_x_coord'], x['av_y_coord'], '.', color=color)\n",
    "        #props.append(x.loc[(x['av_x_coord']>middle-quarter) & (x['av_x_coord']<middle+quarter)])\n",
    "\n",
    "    rect1 = patches.Rectangle(((59.8/2.0)-8-3.5,(33.6/2)-3.5),7,7,linewidth=1,edgecolor='black',facecolor='none')\n",
    "    rect2 = patches.Rectangle(((59.8/2.0)+8-3.5,(33.6/2)-3.5),7,7,linewidth=1,edgecolor='black',facecolor='none')\n",
    "\n",
    "    # Add the patch to the Axes\n",
    "    ax1.add_patch(rect1)\n",
    "    ax1.add_patch(rect2)\n",
    "    \n",
    "    plt.ylim(0, 33.6)\n",
    "    plt.xlim(0, 59.8)\n",
    "    \n",
    "    return(fig)"
   ]
  },
  {
   "cell_type": "code",
   "execution_count": 115,
   "metadata": {},
   "outputs": [
    {
     "name": "stdout",
     "output_type": "stream",
     "text": [
      "\n",
      "1_2019_Feb_21\n"
     ]
    },
    {
     "ename": "KeyboardInterrupt",
     "evalue": "",
     "output_type": "error",
     "traceback": [
      "\u001b[0;31m---------------------------------------------------------------------------\u001b[0m",
      "\u001b[0;31mKeyboardInterrupt\u001b[0m                         Traceback (most recent call last)",
      "\u001b[0;32m<ipython-input-115-a9c794c801ba>\u001b[0m in \u001b[0;36m<module>\u001b[0;34m()\u001b[0m\n\u001b[1;32m     13\u001b[0m     \u001b[0;31m# Eye Gaze\u001b[0m\u001b[0;34m\u001b[0m\u001b[0;34m\u001b[0m\u001b[0m\n\u001b[1;32m     14\u001b[0m     \u001b[0mloaded\u001b[0m \u001b[0;34m=\u001b[0m \u001b[0mload\u001b[0m\u001b[0;34m(\u001b[0m\u001b[0mdata_dir\u001b[0m\u001b[0;34m+\u001b[0m\u001b[0msub\u001b[0m\u001b[0;34m+\u001b[0m\u001b[0;34m'/'\u001b[0m\u001b[0;34m+\u001b[0m\u001b[0;34m'eye_data/'\u001b[0m\u001b[0;34m)\u001b[0m\u001b[0;34m\u001b[0m\u001b[0m\n\u001b[0;32m---> 15\u001b[0;31m     \u001b[0mdf\u001b[0m \u001b[0;34m=\u001b[0m \u001b[0mdf_create\u001b[0m\u001b[0;34m(\u001b[0m\u001b[0mloaded\u001b[0m\u001b[0;34m)\u001b[0m\u001b[0;34m\u001b[0m\u001b[0m\n\u001b[0m\u001b[1;32m     16\u001b[0m     \u001b[0mdf_list\u001b[0m \u001b[0;34m=\u001b[0m \u001b[0mpres_gaze\u001b[0m\u001b[0;34m(\u001b[0m\u001b[0mdata_dir\u001b[0m\u001b[0;34m+\u001b[0m\u001b[0msub\u001b[0m\u001b[0;34m,\u001b[0m \u001b[0mdf\u001b[0m\u001b[0;34m,\u001b[0m \u001b[0minterval\u001b[0m\u001b[0;34m=\u001b[0m\u001b[0;34m'images'\u001b[0m\u001b[0;34m)\u001b[0m\u001b[0;34m\u001b[0m\u001b[0m\n\u001b[1;32m     17\u001b[0m     \u001b[0mgp\u001b[0m\u001b[0;34m=\u001b[0m\u001b[0mgaze_plot\u001b[0m\u001b[0;34m(\u001b[0m\u001b[0mdf_list\u001b[0m\u001b[0;34m)\u001b[0m\u001b[0;34m\u001b[0m\u001b[0m\n",
      "\u001b[0;32m~/Desktop/attention-memory-task/code/analysis/analysis_helpers.py\u001b[0m in \u001b[0;36mdf_create\u001b[0;34m(data)\u001b[0m\n\u001b[1;32m    209\u001b[0m     \u001b[0;32mfor\u001b[0m \u001b[0meye\u001b[0m \u001b[0;32min\u001b[0m \u001b[0;34m[\u001b[0m\u001b[0;34m'righteye'\u001b[0m\u001b[0;34m,\u001b[0m\u001b[0;34m'lefteye'\u001b[0m\u001b[0;34m]\u001b[0m\u001b[0;34m:\u001b[0m\u001b[0;34m\u001b[0m\u001b[0m\n\u001b[1;32m    210\u001b[0m         \u001b[0;32mfor\u001b[0m \u001b[0mcoord\u001b[0m \u001b[0;32min\u001b[0m \u001b[0;34m[\u001b[0m\u001b[0;34m'x'\u001b[0m\u001b[0;34m,\u001b[0m\u001b[0;34m'y'\u001b[0m\u001b[0;34m]\u001b[0m\u001b[0;34m:\u001b[0m\u001b[0;34m\u001b[0m\u001b[0m\n\u001b[0;32m--> 211\u001b[0;31m             \u001b[0mdf\u001b[0m\u001b[0;34m[\u001b[0m\u001b[0mcoord\u001b[0m\u001b[0;34m+\u001b[0m\u001b[0;34m'Raw_'\u001b[0m\u001b[0;34m+\u001b[0m\u001b[0meye\u001b[0m\u001b[0;34m]\u001b[0m \u001b[0;34m=\u001b[0m \u001b[0;34m[\u001b[0m\u001b[0mdf\u001b[0m\u001b[0;34m[\u001b[0m\u001b[0meye\u001b[0m\u001b[0;34m]\u001b[0m\u001b[0;34m[\u001b[0m\u001b[0mrow\u001b[0m\u001b[0;34m]\u001b[0m\u001b[0;34m[\u001b[0m\u001b[0;34m'raw'\u001b[0m\u001b[0;34m]\u001b[0m\u001b[0;34m[\u001b[0m\u001b[0mcoord\u001b[0m\u001b[0;34m]\u001b[0m \u001b[0;32mfor\u001b[0m \u001b[0mrow\u001b[0m \u001b[0;32min\u001b[0m \u001b[0mdf\u001b[0m\u001b[0;34m.\u001b[0m\u001b[0mindex\u001b[0m\u001b[0;34m.\u001b[0m\u001b[0mvalues\u001b[0m\u001b[0;34m]\u001b[0m\u001b[0;34m\u001b[0m\u001b[0m\n\u001b[0m\u001b[1;32m    212\u001b[0m \u001b[0;34m\u001b[0m\u001b[0m\n\u001b[1;32m    213\u001b[0m     \u001b[0;31m# convert to centimeters\u001b[0m\u001b[0;34m\u001b[0m\u001b[0;34m\u001b[0m\u001b[0m\n",
      "\u001b[0;32m~/Desktop/attention-memory-task/code/analysis/analysis_helpers.py\u001b[0m in \u001b[0;36m<listcomp>\u001b[0;34m(.0)\u001b[0m\n\u001b[1;32m    209\u001b[0m     \u001b[0;32mfor\u001b[0m \u001b[0meye\u001b[0m \u001b[0;32min\u001b[0m \u001b[0;34m[\u001b[0m\u001b[0;34m'righteye'\u001b[0m\u001b[0;34m,\u001b[0m\u001b[0;34m'lefteye'\u001b[0m\u001b[0;34m]\u001b[0m\u001b[0;34m:\u001b[0m\u001b[0;34m\u001b[0m\u001b[0m\n\u001b[1;32m    210\u001b[0m         \u001b[0;32mfor\u001b[0m \u001b[0mcoord\u001b[0m \u001b[0;32min\u001b[0m \u001b[0;34m[\u001b[0m\u001b[0;34m'x'\u001b[0m\u001b[0;34m,\u001b[0m\u001b[0;34m'y'\u001b[0m\u001b[0;34m]\u001b[0m\u001b[0;34m:\u001b[0m\u001b[0;34m\u001b[0m\u001b[0m\n\u001b[0;32m--> 211\u001b[0;31m             \u001b[0mdf\u001b[0m\u001b[0;34m[\u001b[0m\u001b[0mcoord\u001b[0m\u001b[0;34m+\u001b[0m\u001b[0;34m'Raw_'\u001b[0m\u001b[0;34m+\u001b[0m\u001b[0meye\u001b[0m\u001b[0;34m]\u001b[0m \u001b[0;34m=\u001b[0m \u001b[0;34m[\u001b[0m\u001b[0mdf\u001b[0m\u001b[0;34m[\u001b[0m\u001b[0meye\u001b[0m\u001b[0;34m]\u001b[0m\u001b[0;34m[\u001b[0m\u001b[0mrow\u001b[0m\u001b[0;34m]\u001b[0m\u001b[0;34m[\u001b[0m\u001b[0;34m'raw'\u001b[0m\u001b[0;34m]\u001b[0m\u001b[0;34m[\u001b[0m\u001b[0mcoord\u001b[0m\u001b[0;34m]\u001b[0m \u001b[0;32mfor\u001b[0m \u001b[0mrow\u001b[0m \u001b[0;32min\u001b[0m \u001b[0mdf\u001b[0m\u001b[0;34m.\u001b[0m\u001b[0mindex\u001b[0m\u001b[0;34m.\u001b[0m\u001b[0mvalues\u001b[0m\u001b[0;34m]\u001b[0m\u001b[0;34m\u001b[0m\u001b[0m\n\u001b[0m\u001b[1;32m    212\u001b[0m \u001b[0;34m\u001b[0m\u001b[0m\n\u001b[1;32m    213\u001b[0m     \u001b[0;31m# convert to centimeters\u001b[0m\u001b[0;34m\u001b[0m\u001b[0;34m\u001b[0m\u001b[0m\n",
      "\u001b[0;32m/usr/local/lib/python3.6/site-packages/pandas/core/series.py\u001b[0m in \u001b[0;36m__getitem__\u001b[0;34m(self, key)\u001b[0m\n\u001b[1;32m    762\u001b[0m \u001b[0;34m\u001b[0m\u001b[0m\n\u001b[1;32m    763\u001b[0m     \u001b[0;32mdef\u001b[0m \u001b[0m__getitem__\u001b[0m\u001b[0;34m(\u001b[0m\u001b[0mself\u001b[0m\u001b[0;34m,\u001b[0m \u001b[0mkey\u001b[0m\u001b[0;34m)\u001b[0m\u001b[0;34m:\u001b[0m\u001b[0;34m\u001b[0m\u001b[0m\n\u001b[0;32m--> 764\u001b[0;31m         \u001b[0mkey\u001b[0m \u001b[0;34m=\u001b[0m \u001b[0mcom\u001b[0m\u001b[0;34m.\u001b[0m\u001b[0m_apply_if_callable\u001b[0m\u001b[0;34m(\u001b[0m\u001b[0mkey\u001b[0m\u001b[0;34m,\u001b[0m \u001b[0mself\u001b[0m\u001b[0;34m)\u001b[0m\u001b[0;34m\u001b[0m\u001b[0m\n\u001b[0m\u001b[1;32m    765\u001b[0m         \u001b[0;32mtry\u001b[0m\u001b[0;34m:\u001b[0m\u001b[0;34m\u001b[0m\u001b[0m\n\u001b[1;32m    766\u001b[0m             \u001b[0mresult\u001b[0m \u001b[0;34m=\u001b[0m \u001b[0mself\u001b[0m\u001b[0;34m.\u001b[0m\u001b[0mindex\u001b[0m\u001b[0;34m.\u001b[0m\u001b[0mget_value\u001b[0m\u001b[0;34m(\u001b[0m\u001b[0mself\u001b[0m\u001b[0;34m,\u001b[0m \u001b[0mkey\u001b[0m\u001b[0;34m)\u001b[0m\u001b[0;34m\u001b[0m\u001b[0m\n",
      "\u001b[0;31mKeyboardInterrupt\u001b[0m: "
     ]
    }
   ],
   "source": [
    "import matplotlib.patches as patches\n",
    "from matplotlib.backends.backend_pdf import PdfPages\n",
    "\n",
    "data_dir = '/Users/kirstenziman/Downloads/2.21.19AM0-4/'\n",
    "df_lists = []\n",
    "\n",
    "for sub in os.listdir(data_dir):\n",
    "\n",
    "    print()\n",
    "    print(sub)\n",
    "\n",
    "\n",
    "    # Eye Gaze\n",
    "    loaded = load(data_dir+sub+'/'+'eye_data/')\n",
    "    df = df_create(loaded)\n",
    "    df_list = pres_gaze(data_dir+sub, df, interval='images')\n",
    "    gp=gaze_plot(df_list)\n",
    "    gp.savefig(\"gp\"+sub+\".pdf\", bbox_inches='tight')\n",
    "    df_lists.append(df_list)"
   ]
  },
  {
   "cell_type": "code",
   "execution_count": 9,
   "metadata": {},
   "outputs": [
    {
     "data": {
      "text/plain": [
       "5"
      ]
     },
     "execution_count": 9,
     "metadata": {},
     "output_type": "execute_result"
    }
   ],
   "source": [
    "# for x in df_lists:\n",
    "#     sb.boxplot(gaze_props(x))\n",
    "#     plt.show()\n",
    "#     print(len(x))\n",
    "\n",
    "len(df_lists)"
   ]
  },
  {
   "cell_type": "code",
   "execution_count": 12,
   "metadata": {},
   "outputs": [
    {
     "ename": "IndexError",
     "evalue": "single positional indexer is out-of-bounds",
     "output_type": "error",
     "traceback": [
      "\u001b[0;31m---------------------------------------------------------------------------\u001b[0m",
      "\u001b[0;31mIndexError\u001b[0m                                Traceback (most recent call last)",
      "\u001b[0;32m<ipython-input-12-d9d671885e37>\u001b[0m in \u001b[0;36m<module>\u001b[0;34m()\u001b[0m\n\u001b[1;32m      8\u001b[0m         \u001b[0;31m# right = number gazepoints right half of screen\u001b[0m\u001b[0;34m\u001b[0m\u001b[0;34m\u001b[0m\u001b[0m\n\u001b[1;32m      9\u001b[0m         \u001b[0;31m# left = number of gazepoints left half of screen\u001b[0m\u001b[0;34m\u001b[0m\u001b[0;34m\u001b[0m\u001b[0m\n\u001b[0;32m---> 10\u001b[0;31m         \u001b[0mside\u001b[0m \u001b[0;34m=\u001b[0m \u001b[0mtrial\u001b[0m\u001b[0;34m.\u001b[0m\u001b[0miloc\u001b[0m\u001b[0;34m[\u001b[0m\u001b[0;36m0\u001b[0m\u001b[0;34m]\u001b[0m\u001b[0;34m[\u001b[0m\u001b[0;34m'Cued Side'\u001b[0m\u001b[0;34m]\u001b[0m\u001b[0;34m\u001b[0m\u001b[0m\n\u001b[0m\u001b[1;32m     11\u001b[0m         \u001b[0mcat\u001b[0m \u001b[0;34m=\u001b[0m \u001b[0mtrial\u001b[0m\u001b[0;34m.\u001b[0m\u001b[0miloc\u001b[0m\u001b[0;34m[\u001b[0m\u001b[0;36m0\u001b[0m\u001b[0;34m]\u001b[0m\u001b[0;34m[\u001b[0m\u001b[0;34m'Cued Category'\u001b[0m\u001b[0;34m]\u001b[0m\u001b[0;34m\u001b[0m\u001b[0m\n\u001b[1;32m     12\u001b[0m         \u001b[0mdct\u001b[0m\u001b[0;34m[\u001b[0m\u001b[0mside\u001b[0m\u001b[0;34m+\u001b[0m\u001b[0;34m'_'\u001b[0m\u001b[0;34m+\u001b[0m\u001b[0mcat\u001b[0m\u001b[0;34m]\u001b[0m\u001b[0;34m[\u001b[0m\u001b[0;34m'right'\u001b[0m\u001b[0;34m]\u001b[0m\u001b[0;34m.\u001b[0m\u001b[0mappend\u001b[0m\u001b[0;34m(\u001b[0m\u001b[0mtrial\u001b[0m\u001b[0;34m.\u001b[0m\u001b[0mloc\u001b[0m\u001b[0;34m[\u001b[0m\u001b[0mtrial\u001b[0m\u001b[0;34m[\u001b[0m\u001b[0;34m'av_x_coord'\u001b[0m\u001b[0;34m]\u001b[0m \u001b[0;34m>\u001b[0m \u001b[0;36m59.8\u001b[0m\u001b[0;34m/\u001b[0m\u001b[0;36m2\u001b[0m\u001b[0;34m]\u001b[0m\u001b[0;34m.\u001b[0m\u001b[0mshape\u001b[0m\u001b[0;34m[\u001b[0m\u001b[0;36m0\u001b[0m\u001b[0;34m]\u001b[0m\u001b[0;34m)\u001b[0m\u001b[0;34m\u001b[0m\u001b[0m\n",
      "\u001b[0;32m/usr/local/lib/python3.6/site-packages/pandas/core/indexing.py\u001b[0m in \u001b[0;36m__getitem__\u001b[0;34m(self, key)\u001b[0m\n\u001b[1;32m   1476\u001b[0m \u001b[0;34m\u001b[0m\u001b[0m\n\u001b[1;32m   1477\u001b[0m             \u001b[0mmaybe_callable\u001b[0m \u001b[0;34m=\u001b[0m \u001b[0mcom\u001b[0m\u001b[0;34m.\u001b[0m\u001b[0m_apply_if_callable\u001b[0m\u001b[0;34m(\u001b[0m\u001b[0mkey\u001b[0m\u001b[0;34m,\u001b[0m \u001b[0mself\u001b[0m\u001b[0;34m.\u001b[0m\u001b[0mobj\u001b[0m\u001b[0;34m)\u001b[0m\u001b[0;34m\u001b[0m\u001b[0m\n\u001b[0;32m-> 1478\u001b[0;31m             \u001b[0;32mreturn\u001b[0m \u001b[0mself\u001b[0m\u001b[0;34m.\u001b[0m\u001b[0m_getitem_axis\u001b[0m\u001b[0;34m(\u001b[0m\u001b[0mmaybe_callable\u001b[0m\u001b[0;34m,\u001b[0m \u001b[0maxis\u001b[0m\u001b[0;34m=\u001b[0m\u001b[0maxis\u001b[0m\u001b[0;34m)\u001b[0m\u001b[0;34m\u001b[0m\u001b[0m\n\u001b[0m\u001b[1;32m   1479\u001b[0m \u001b[0;34m\u001b[0m\u001b[0m\n\u001b[1;32m   1480\u001b[0m     \u001b[0;32mdef\u001b[0m \u001b[0m_is_scalar_access\u001b[0m\u001b[0;34m(\u001b[0m\u001b[0mself\u001b[0m\u001b[0;34m,\u001b[0m \u001b[0mkey\u001b[0m\u001b[0;34m)\u001b[0m\u001b[0;34m:\u001b[0m\u001b[0;34m\u001b[0m\u001b[0m\n",
      "\u001b[0;32m/usr/local/lib/python3.6/site-packages/pandas/core/indexing.py\u001b[0m in \u001b[0;36m_getitem_axis\u001b[0;34m(self, key, axis)\u001b[0m\n\u001b[1;32m   2100\u001b[0m \u001b[0;34m\u001b[0m\u001b[0m\n\u001b[1;32m   2101\u001b[0m             \u001b[0;31m# validate the location\u001b[0m\u001b[0;34m\u001b[0m\u001b[0;34m\u001b[0m\u001b[0m\n\u001b[0;32m-> 2102\u001b[0;31m             \u001b[0mself\u001b[0m\u001b[0;34m.\u001b[0m\u001b[0m_validate_integer\u001b[0m\u001b[0;34m(\u001b[0m\u001b[0mkey\u001b[0m\u001b[0;34m,\u001b[0m \u001b[0maxis\u001b[0m\u001b[0;34m)\u001b[0m\u001b[0;34m\u001b[0m\u001b[0m\n\u001b[0m\u001b[1;32m   2103\u001b[0m \u001b[0;34m\u001b[0m\u001b[0m\n\u001b[1;32m   2104\u001b[0m             \u001b[0;32mreturn\u001b[0m \u001b[0mself\u001b[0m\u001b[0;34m.\u001b[0m\u001b[0m_get_loc\u001b[0m\u001b[0;34m(\u001b[0m\u001b[0mkey\u001b[0m\u001b[0;34m,\u001b[0m \u001b[0maxis\u001b[0m\u001b[0;34m=\u001b[0m\u001b[0maxis\u001b[0m\u001b[0;34m)\u001b[0m\u001b[0;34m\u001b[0m\u001b[0m\n",
      "\u001b[0;32m/usr/local/lib/python3.6/site-packages/pandas/core/indexing.py\u001b[0m in \u001b[0;36m_validate_integer\u001b[0;34m(self, key, axis)\u001b[0m\n\u001b[1;32m   2007\u001b[0m         \u001b[0ml\u001b[0m \u001b[0;34m=\u001b[0m \u001b[0mlen\u001b[0m\u001b[0;34m(\u001b[0m\u001b[0max\u001b[0m\u001b[0;34m)\u001b[0m\u001b[0;34m\u001b[0m\u001b[0m\n\u001b[1;32m   2008\u001b[0m         \u001b[0;32mif\u001b[0m \u001b[0mkey\u001b[0m \u001b[0;34m>=\u001b[0m \u001b[0ml\u001b[0m \u001b[0;32mor\u001b[0m \u001b[0mkey\u001b[0m \u001b[0;34m<\u001b[0m \u001b[0;34m-\u001b[0m\u001b[0ml\u001b[0m\u001b[0;34m:\u001b[0m\u001b[0;34m\u001b[0m\u001b[0m\n\u001b[0;32m-> 2009\u001b[0;31m             \u001b[0;32mraise\u001b[0m \u001b[0mIndexError\u001b[0m\u001b[0;34m(\u001b[0m\u001b[0;34m\"single positional indexer is out-of-bounds\"\u001b[0m\u001b[0;34m)\u001b[0m\u001b[0;34m\u001b[0m\u001b[0m\n\u001b[0m\u001b[1;32m   2010\u001b[0m \u001b[0;34m\u001b[0m\u001b[0m\n\u001b[1;32m   2011\u001b[0m     \u001b[0;32mdef\u001b[0m \u001b[0m_getitem_tuple\u001b[0m\u001b[0;34m(\u001b[0m\u001b[0mself\u001b[0m\u001b[0;34m,\u001b[0m \u001b[0mtup\u001b[0m\u001b[0;34m)\u001b[0m\u001b[0;34m:\u001b[0m\u001b[0;34m\u001b[0m\u001b[0m\n",
      "\u001b[0;31mIndexError\u001b[0m: single positional indexer is out-of-bounds"
     ]
    }
   ],
   "source": [
    "import scipy\n",
    "\n",
    "for subject in df_lists:\n",
    "    rl_dict = {'right':[],'left':[]}\n",
    "    dct={'>_Face':rl_dict,'>_Place':rl_dict,'<_Face':rl_dict,'<_Place':rl_dict}\n",
    "    \n",
    "    for trial in subject:\n",
    "        # right = number gazepoints right half of screen\n",
    "        # left = number of gazepoints left half of screen\n",
    "        side = trial.iloc[0]['Cued Side']\n",
    "        cat = trial.iloc[0]['Cued Category']\n",
    "        dct[side+'_'+cat]['right'].append(trial.loc[trial['av_x_coord'] > 59.8/2].shape[0])\n",
    "        dct[side+'_'+cat]['left'].append(trial.loc[trial['av_x_coord'] < 59.8/2].shape[0])\n",
    "        \n",
    "    x = dct['>_Face']['right']+dct['>_Place']['right']\n",
    "    y = dct['<_Face']['right']+dct['<_Place']['right']\n",
    "    scipy.stats.ttest_ind(x, y) #, axis=0, equal_var=True, nan_policy='propagate')\n",
    "        "
   ]
  },
  {
   "cell_type": "code",
   "execution_count": null,
   "metadata": {},
   "outputs": [],
   "source": [
    "def add_level(df, trials='block'):\n",
    "    '''\n",
    "    input: subject dataframe\n",
    "    output: subject dataframe w/ av gaze coord for each Memory trial row\n",
    "    '''\n",
    "    for x in df.Run.unique():\n",
    "        mask = df['Run']==x\n",
    "\n",
    "        if trials == 'block':\n",
    "            df[mask] = run_level(df[mask])\n",
    "        elif trials == 'unique':\n",
    "            df[mask] = run_level_unique(df[mask])\n",
    "\n",
    "    return(df)\n",
    "\n",
    "\n",
    "def run_level_unique(df):\n",
    "    '''\n",
    "    input: df containing pres and mem from single run\n",
    "    output: df with string in 'Attention Level' column in each Memory trial row\n",
    "    '''\n",
    "\n",
    "    # cued_cat = df[df['Trial Type']=='Presentation']['Cued Category'].tolist()[0]\n",
    "\n",
    "    for index,row in df[df['Trial Type']=='Memory'].iterrows():\n",
    "\n",
    "        mem_image = row['Memory Image']\n",
    "        for cue in ['Cued ', 'Uncued ']:\n",
    "            for cat in ['Face', 'Place']:\n",
    "                if df.loc[df[cue+cat] == mem_image].shape[0]!=0:\n",
    "                    # x_gaze = df.loc[df[cue+cat] == mem_image]['av_x_coord']\n",
    "                    df['av_x_coord'][index] = df.loc[df[cue+cat] == mem_image]['av_x_coord']\n",
    "\n",
    "#     mem_mask = df['Trial Type']=='Memory'\n",
    "#     df.loc[mem_mask,'av_x_coord'] = df.loc[mem_mask,'Attention Level'].fillna('Novel')\n",
    "\n",
    "    return(df)"
   ]
  }
 ],
 "metadata": {
  "kernelspec": {
   "display_name": "Python 3",
   "language": "python",
   "name": "python3"
  },
  "language_info": {
   "codemirror_mode": {
    "name": "ipython",
    "version": 3
   },
   "file_extension": ".py",
   "mimetype": "text/x-python",
   "name": "python",
   "nbconvert_exporter": "python",
   "pygments_lexer": "ipython3",
   "version": "3.6.4"
  }
 },
 "nbformat": 4,
 "nbformat_minor": 2
}
