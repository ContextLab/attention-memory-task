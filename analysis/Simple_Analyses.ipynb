{
 "cells": [
  {
   "cell_type": "code",
   "execution_count": 3,
   "metadata": {},
   "outputs": [],
   "source": [
    "# import numpy as np # for data handling, if needed\n",
    "import seaborn as sb # for plotting\n",
    "import pickle # for loading data\n",
    "import json # for loading data\n",
    "import os # for bash-like operations\n",
    "\n",
    "\n",
    "#import pickle # for loading data"
   ]
  },
  {
   "cell_type": "code",
   "execution_count": 4,
   "metadata": {},
   "outputs": [
    {
     "ename": "IndentationError",
     "evalue": "unexpected indent (<ipython-input-4-c16dc33e3563>, line 5)",
     "output_type": "error",
     "traceback": [
      "\u001b[0;36m  File \u001b[0;32m\"<ipython-input-4-c16dc33e3563>\"\u001b[0;36m, line \u001b[0;32m5\u001b[0m\n\u001b[0;31m    for each directory in '../data':\u001b[0m\n\u001b[0m    ^\u001b[0m\n\u001b[0;31mIndentationError\u001b[0m\u001b[0;31m:\u001b[0m unexpected indent\n"
     ]
    }
   ],
   "source": [
    "# SINGLE SUBJECT ANALYSIS\n",
    "# pseudo code\n",
    "\n",
    "# in: main directory name (../data)\n",
    "# out: list of subdirectories\n",
    "def get_subdirectories(a_dir):\n",
    "    return [name for name in os.listdir(a_dir)\n",
    "            if os.path.isdir(os.path.join(a_dir, name))]\n",
    "\n",
    "# in: directory name\n",
    "# out: list of .pkl files within directory\n",
    "def get_files(dir_name):\n",
    "    files = [f for f in os.listdir(dir_name) if f.endswith('.pkl')]\n",
    "    return files\n",
    "\n",
    "# in: list of .pkl files within directory\n",
    "# out: dict that maps mem_items.pkl to corresponding previous_items.pkl\n",
    "def make_run_dict(files):\n",
    "    runs = {}\n",
    "    \n",
    "    for f in files:\n",
    "        if f.endswith('mem_items.pkl'):\n",
    "            runs[f] = f[0:-13] + 'previous_items.pkl'\n",
    "            \n",
    "    return runs\n",
    "\n",
    "# in: run is the name of mem_items.pkl, runs[run] is the name of corresponding previous_items.pkl\n",
    "# out: boolean\n",
    "def is_outlier(run, runs):\n",
    "    pass \n",
    "\n",
    "# in: dict of runs mem_items: previous_items\n",
    "# out: none, modifies mass dictionary\n",
    "def aggregate(run, runs, mass):\n",
    "    with open(run, 'rb') as fp1:\n",
    "        mem = pickle.load(fp1)\n",
    "        \n",
    "        mass['images'].extend(mem['images'])\n",
    "        mass['ratings'].extend(mem['ratings'])\n",
    "        \n",
    "    fp1.close()\n",
    "    \n",
    "    with open(runs[run], 'rb') as fp2:\n",
    "        prev = pickle.load(fp2)\n",
    "        \n",
    "        mass['cued'].extend(prev['cued'])\n",
    "        mass['cued_RT'].extend(prev['cued_RT'])\n",
    "        mass['uncued'].extend(prev['uncued'])\n",
    "        mass['uncued_RT'].extend(prev['uncued_RT'])\n",
    "        \n",
    "    fp2.close()\n",
    "    \n",
    "# main function\n",
    "def graph_data(folder):\n",
    "    dirs = get_subdirectories(data_loc)\n",
    "\n",
    "    for dir_name in dirs:\n",
    "        runs = make_run_dict(get_files(dir_name))\n",
    "        mass = {'images':[], 'ratings':[], 'cued':[], 'cued_RT':[], 'uncued':[], 'uncued_RT':[]}\n",
    "        \n",
    "        for run in runs:\n",
    "            if is_outlier(run, runs):\n",
    "                print(\"Outlier: \" + run)\n",
    "                runs.pop(run)\n",
    "            else:\n",
    "                aggregate(run, runs, mass)\n",
    "        \n",
    "        # plot using mass\n",
    "                \n",
    "            \n",
    "        \n",
    "        \n",
    "graph_data('../data')\n",
    "        \n",
    "    \n",
    "\n",
    " for each directory in '../data':\n",
    "     for all runs, load the data from each run\n",
    "     concatenate all runs\n",
    "     # may need to change the way the data files save out from psychopy to include run # in the file name\n",
    "    \n",
    "     plot the following with seaborn:\n",
    "         + bar plot \n",
    "             - cued and uncued RTs from 'previous' data (w/ error bars, and outlier detection)\n",
    "         + bar plot of 'correct' responses to previously seen attended, prev seen unattended, and unseen stim (w/ error and outlier)\n",
    "             - if 1 or 2, rated as viewed before\n",
    "             - if 3 or 4, rated as unseen\n",
    "             - need to check the images in the order they were presented in memory task and whether they were novel or seen\n",
    "            \n",
    "        "
   ]
  },
  {
   "cell_type": "code",
   "execution_count": null,
   "metadata": {},
   "outputs": [],
   "source": [
    "import os\n"
   ]
  },
  {
   "cell_type": "code",
   "execution_count": null,
   "metadata": {
    "collapsed": true
   },
   "outputs": [],
   "source": [
    "do same basic analyses for averages over all subjects    "
   ]
  }
 ],
 "metadata": {
  "kernelspec": {
   "display_name": "Python 3",
   "language": "python",
   "name": "python3"
  },
  "language_info": {
   "codemirror_mode": {
    "name": "ipython",
    "version": 3
   },
   "file_extension": ".py",
   "mimetype": "text/x-python",
   "name": "python",
   "nbconvert_exporter": "python",
   "pygments_lexer": "ipython3",
   "version": "3.6.2"
  }
 },
 "nbformat": 4,
 "nbformat_minor": 1
}
