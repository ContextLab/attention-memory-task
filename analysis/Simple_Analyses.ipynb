{
 "cells": [
  {
   "cell_type": "code",
   "execution_count": 5,
   "metadata": {
    "collapsed": true
   },
   "outputs": [],
   "source": [
    "import numpy as np # for data handling, if needed\n",
    "import seaborn as sb # for plotting\n",
    "import pickle # for loading data\n",
    "import json # for loading data\n",
    "import os # for bash-like operations\n",
    "import matplotlib \n",
    "\n",
    "#import pickle # for loading data"
   ]
  },
  {
   "cell_type": "code",
   "execution_count": 5,
   "metadata": {
    "collapsed": false
   },
   "outputs": [
    {
     "name": "stdout",
     "output_type": "stream",
     "text": [
      "this is the solution\n"
     ]
    }
   ],
   "source": [
    "%matplotlib inline\n",
    " \n",
    "\n",
    "x=7\n",
    "y=5\n",
    "\n",
    "new=x+y\n",
    "new\n",
    "print('this is the solution')"
   ]
  },
  {
   "cell_type": "code",
   "execution_count": 1,
   "metadata": {
    "collapsed": false
   },
   "outputs": [],
   "source": [
    "# SINGLE SUBJECT ANALYSIS\n",
    "# pseudo code\n",
    "\n",
    "\n",
    " for each directory in '../data':\n",
    "     for all runs, load the data from each run\n",
    "     concatenate all runs\n",
    "     # may need to change the way the data files save out from psychopy to include run # in the file name\n",
    "    \n",
    "     plot the following with seaborn:\n",
    "         + bar plot \n",
    "             - cued and uncued RTs from 'previous' data (w/ error bars, and outlier detection)\n",
    "         + bar plot of 'correct' responses to previously seen attended, prev seen unattended, and unseen stim (w/ error and outlier)\n",
    "             - if 1 or 2, rated as viewed before\n",
    "             - if 3 or 4, rated as unseen\n",
    "             - need to check the images in the order they were presented in memory task and whether they were novel or seen\n",
    "            \n",
    "        "
   ]
  },
  {
   "cell_type": "code",
   "execution_count": null,
   "metadata": {
    "collapsed": true
   },
   "outputs": [],
   "source": [
    "do same basic analyses for averages over all subjects    "
   ]
  }
 ],
 "metadata": {
  "kernelspec": {
   "display_name": "Python 2",
   "language": "python",
   "name": "python2"
  },
  "language_info": {
   "codemirror_mode": {
    "name": "ipython",
    "version": 2
   },
   "file_extension": ".py",
   "mimetype": "text/x-python",
   "name": "python",
   "nbconvert_exporter": "python",
   "pygments_lexer": "ipython2",
   "version": "2.7.10"
  }
 },
 "nbformat": 4,
 "nbformat_minor": 1
}
