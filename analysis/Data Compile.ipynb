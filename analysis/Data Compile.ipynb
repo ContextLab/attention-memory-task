{
 "cells": [
  {
   "cell_type": "code",
   "execution_count": 1,
   "metadata": {},
   "outputs": [],
   "source": [
    "import pandas as pd; import os; from analysis_helpers import *; import warnings\n",
    "warnings.filterwarnings('ignore')"
   ]
  },
  {
   "cell_type": "code",
   "execution_count": null,
   "metadata": {},
   "outputs": [],
   "source": []
  },
  {
   "cell_type": "code",
   "execution_count": 55,
   "metadata": {},
   "outputs": [],
   "source": [
    "def sum_pd(subdir):\n",
    "    '''\n",
    "    input: subject directory (string)\n",
    "    output: full experiment info (dataframe)\n",
    "    '''\n",
    "\n",
    "    files = [ x for x in os.listdir(subdir) if 'pres' in x or 'mem' in x ]\n",
    "    df_list = [ pd.read_csv(subdir+'/'+x) for x in files ]\n",
    "    df = pd.concat(df_list, ignore_index=True)\n",
    "\n",
    "    return(df)\n",
    "\n",
    "# Functions for Simple Behavioral Analyses\n",
    "\n",
    "def add_level(df):\n",
    "    '''\n",
    "    input: subject dataframe\n",
    "    output: subject dataframe w/ Attention Level string for each Memory trial row\n",
    "    '''\n",
    "    for x in df.Run.unique():\n",
    "        mask = df['Run']==x\n",
    "        df[mask] = run_level(df[mask])\n",
    "\n",
    "    return(df)\n",
    "\n",
    "def run_level(df):\n",
    "    '''\n",
    "    input: df containing pres and mem from single run\n",
    "    output: df with string in 'Attention Level' column in each Memory trial row\n",
    "    '''\n",
    "    #cued_cat = df[df['Trial Type']=='Presentation']['Cued Category'].tolist()[0]\n",
    "\n",
    "    for index,row in df.iterrows():\n",
    "\n",
    "        if row['Trial Type']=='Memory':\n",
    "            mem_image = row['Memory Image']\n",
    "            for cue in ['Cued ', 'Uncued ']:\n",
    "                for cat in ['Face', 'Place']:\n",
    "                    if df.loc[df[cue+cat] == mem_image].shape[0]!=0:\n",
    "                        cued_cat = df.loc[df[cue+cat] == mem_image]['Cued Category'].item()\n",
    "                        if cat == cued_cat:\n",
    "                            df['Category'][index]=cued_cat\n",
    "                            if cue == 'Cued ':\n",
    "                                attention = \"Full\"\n",
    "                            elif cue == 'Uncued ':\n",
    "                                attention = \"Category\"\n",
    "                        else:\n",
    "                            df['Category'][index]=cat\n",
    "                            if cue == 'Uncued ':\n",
    "                                attention = \"None\"\n",
    "                            elif cue == 'Cued ':\n",
    "                                attention = \"Side\"\n",
    "                        df['Attention Level'][index] = attention\n",
    "                        df['Cued Category'][index] = cued_cat\n",
    "\n",
    "    mem_mask = df['Trial Type']=='Memory'\n",
    "    df.loc[mem_mask,'Attention Level'] = df.loc[mem_mask,'Attention Level'].fillna('Novel')\n",
    "\n",
    "    return(df)"
   ]
  },
  {
   "cell_type": "code",
   "execution_count": 56,
   "metadata": {},
   "outputs": [
    {
     "ename": "NameError",
     "evalue": "name 'cue' is not defined",
     "output_type": "error",
     "traceback": [
      "\u001b[0;31m---------------------------------------------------------------------------\u001b[0m",
      "\u001b[0;31mNameError\u001b[0m                                 Traceback (most recent call last)",
      "\u001b[0;32m<ipython-input-56-831e4ee8c28e>\u001b[0m in \u001b[0;36m<module>\u001b[0;34m()\u001b[0m\n\u001b[0;32m----> 1\u001b[0;31m \u001b[0mdf\u001b[0m\u001b[0;34m.\u001b[0m\u001b[0mloc\u001b[0m\u001b[0;34m[\u001b[0m\u001b[0mdf\u001b[0m\u001b[0;34m[\u001b[0m\u001b[0mcue\u001b[0m\u001b[0;34m+\u001b[0m\u001b[0mcat\u001b[0m\u001b[0;34m]\u001b[0m \u001b[0;34m==\u001b[0m \u001b[0mmem_image\u001b[0m\u001b[0;34m]\u001b[0m\u001b[0;34m[\u001b[0m\u001b[0;34m'Cued Category'\u001b[0m\u001b[0;34m]\u001b[0m\u001b[0;34m[\u001b[0m\u001b[0;36m0\u001b[0m\u001b[0;34m]\u001b[0m\u001b[0;34m\u001b[0m\u001b[0m\n\u001b[0m",
      "\u001b[0;31mNameError\u001b[0m: name 'cue' is not defined"
     ]
    }
   ],
   "source": [
    "df.loc[df[cue+cat] == mem_image]['Cued Category'][0]"
   ]
  },
  {
   "cell_type": "code",
   "execution_count": 57,
   "metadata": {
    "scrolled": true
   },
   "outputs": [
    {
     "name": "stdout",
     "output_type": "stream",
     "text": [
      "8_2019_Feb_28\n",
      "15_2019_Apr_01\n",
      "1_2019_Feb_21\n",
      "25_2019_Apr_16\n",
      "12_2019_Mar_27\n",
      "4_2019_Feb_21\n",
      "28_2019_Apr_23\n",
      "19_2019_Apr_01\n",
      "21_2019_Apr_09\n",
      "33_2019_Apr_26\n",
      "7_2019_Feb_28\n",
      "26_2019_Apr_16\n",
      "14_2019_Mar_29\n",
      "2_2019_Feb_21\n",
      "16_2019_Apr_01\n",
      "27_2019_Apr_22\n",
      "23_2019_Apr_10\n",
      "18_2019_Apr_01\n",
      "29_2019_Apr_23\n",
      "13_2019_Mar_29\n",
      "5_2019_Feb_26\n",
      "24_2019_Apr_11\n",
      "0_2019_Feb_21\n",
      "34_2019_Apr_27\n",
      "22_2019_Apr_10\n",
      "327_2019_Mar_27\n",
      "17_2019_Apr_01\n",
      "3_2019_Feb_21\n",
      "10_2019_Mar_27\n",
      "20_2019_Apr_09\n"
     ]
    }
   ],
   "source": [
    "sub_list = []\n",
    "\n",
    "data_dir = '/Users/kirstenziman/Documents/attention-memory-task/data'\n",
    "\n",
    "for sub_dir in os.listdir(data_dir):\n",
    "    print(sub_dir)\n",
    "    sub_list.append(add_level(sum_pd(data_dir + '/' + sub_dir)))"
   ]
  },
  {
   "cell_type": "code",
   "execution_count": null,
   "metadata": {},
   "outputs": [],
   "source": []
  },
  {
   "cell_type": "code",
   "execution_count": 20,
   "metadata": {},
   "outputs": [],
   "source": [
    "df = pd.concat(sub_list)"
   ]
  },
  {
   "cell_type": "code",
   "execution_count": 22,
   "metadata": {},
   "outputs": [],
   "source": [
    "df.to_csv('raw_behav_from_add_level.csv')\n",
    "exp2 = df"
   ]
  },
  {
   "cell_type": "code",
   "execution_count": 23,
   "metadata": {},
   "outputs": [],
   "source": [
    "exp2.ix[ exp2['Memory Image'].str.contains(\"sun\", na=False),'Category']='Place'\n",
    "exp2.ix[~exp2['Memory Image'].str.contains(\"sun\", na=False),'Category']='Face'"
   ]
  },
  {
   "cell_type": "code",
   "execution_count": 25,
   "metadata": {},
   "outputs": [],
   "source": [
    "exp2['Last Cued'] = np.nan\n",
    "\n",
    "for sub in exp2['Subject'].unique():\n",
    "    for run in exp2['Run'].unique():\n",
    "        \n",
    "        # obtain cued category from the last presentation trial\n",
    "        last_cat = exp2[(exp2['Trial Type']=='Presentation')\n",
    "                       & (exp2['Subject']==sub)\n",
    "                       & (exp2['Run']==run)]['Cued Category'].iloc[-1]\n",
    "        \n",
    "        # obtain cued category from the last run\n",
    "        exp2.loc[(exp2['Trial Type']=='Memory')\n",
    "                       & (exp2['Subject']==sub)\n",
    "                       & (exp2['Run']==run),'Last Cued'] = last_cat"
   ]
  },
  {
   "cell_type": "code",
   "execution_count": 30,
   "metadata": {},
   "outputs": [
    {
     "data": {
      "text/plain": [
       "(5480, 27)"
      ]
     },
     "execution_count": 30,
     "metadata": {},
     "output_type": "execute_result"
    }
   ],
   "source": [
    "exp2[exp2['Last Cued']=='Place'].shape"
   ]
  },
  {
   "cell_type": "code",
   "execution_count": 31,
   "metadata": {},
   "outputs": [
    {
     "data": {
      "text/plain": [
       "(4120, 27)"
      ]
     },
     "execution_count": 31,
     "metadata": {},
     "output_type": "execute_result"
    }
   ],
   "source": [
    "exp2[exp2['Last Cued']=='Face'].shape"
   ]
  },
  {
   "cell_type": "code",
   "execution_count": 39,
   "metadata": {},
   "outputs": [
    {
     "data": {
      "text/plain": [
       "70    Place\n",
       "71    Place\n",
       "72    Place\n",
       "73     Face\n",
       "74    Place\n",
       "75     Face\n",
       "76     Face\n",
       "77    Place\n",
       "78     Face\n",
       "79     Face\n",
       "Name: Cued Category, dtype: object"
      ]
     },
     "execution_count": 39,
     "metadata": {},
     "output_type": "execute_result"
    }
   ],
   "source": [
    "exp2[(exp2['Trial Type']=='Presentation')\n",
    "                       & (exp2['Subject']==sub)\n",
    "                       & (exp2['Run']==run)]['Cued Category']#.iloc[-6]"
   ]
  },
  {
   "cell_type": "code",
   "execution_count": 52,
   "metadata": {},
   "outputs": [],
   "source": [
    "tr.to_csv('~/Desktop/try_this_one.csv')"
   ]
  },
  {
   "cell_type": "code",
   "execution_count": 42,
   "metadata": {},
   "outputs": [],
   "source": [
    "exp2.ix[ exp2['Memory Image'].str.contains(\"sun\", na=False),'Category']='Place'\n",
    "exp2.ix[~exp2['Memory Image'].str.contains(\"sun\", na=False),'Category']='Face'"
   ]
  },
  {
   "cell_type": "code",
   "execution_count": 44,
   "metadata": {},
   "outputs": [],
   "source": [
    "def add_nov_label(combo):\n",
    "    '''\n",
    "    input:  dataframe of participant data, and the name of the column to use for cue info\n",
    "            for exp1 use 'Cued Category' (cue for that block)\n",
    "            for exp2 use 'Last Cued'     (last cue from presentation block)\n",
    "    output: dataframe where novel images are labeled by cued or uncued category\n",
    "    '''\n",
    "\n",
    "    for cat in ['Face','Place']:\n",
    "\n",
    "        # for all 'Novel_Uncued', if image in cued category, rename 'Novel_Cued'\n",
    "        combo.loc[(combo['Trial Type']=='Memory') \n",
    "                  & (combo['Last Cued']==cat) \n",
    "                  & (combo['Category']==cat)\n",
    "                  & (combo['Attention Level']=='Novel'),\n",
    "                     'Attention Level'] = 'Nov_Cued'\n",
    "        \n",
    "        combo.loc[(combo['Trial Type']=='Memory') \n",
    "                  & (combo['Last Cued']==cat) \n",
    "                  & (combo['Category']!=cat)\n",
    "                  & (combo['Attention Level']=='Novel'),\n",
    "                     'Attention Level'] = 'Nov_Un'\n",
    "    return(combo)"
   ]
  },
  {
   "cell_type": "code",
   "execution_count": 48,
   "metadata": {},
   "outputs": [
    {
     "name": "stdout",
     "output_type": "stream",
     "text": [
      "8\n",
      "15\n",
      "1\n",
      "25\n",
      "12\n",
      "4\n",
      "28\n",
      "19\n",
      "21\n",
      "33\n",
      "7\n",
      "26\n",
      "14\n",
      "2\n",
      "16\n",
      "27\n",
      "23\n",
      "18\n",
      "29\n",
      "13\n",
      "5\n",
      "24\n",
      "0\n",
      "34\n",
      "22\n",
      "327\n",
      "17\n",
      "3\n",
      "10\n",
      "20\n"
     ]
    }
   ],
   "source": [
    "l = []\n",
    "\n",
    "for sub in exp2['Subject'].unique():\n",
    "    print(sub)\n",
    "    a = add_nov_label(exp2[exp2['Subject']==sub])\n",
    "    l.append(a)"
   ]
  },
  {
   "cell_type": "code",
   "execution_count": 50,
   "metadata": {},
   "outputs": [],
   "source": [
    "tr = pd.concat(l)"
   ]
  },
  {
   "cell_type": "code",
   "execution_count": 54,
   "metadata": {},
   "outputs": [
    {
     "data": {
      "text/plain": [
       "0           NaN\n",
       "1           NaN\n",
       "2           NaN\n",
       "3           NaN\n",
       "4           NaN\n",
       "5           NaN\n",
       "6           NaN\n",
       "7           NaN\n",
       "8           NaN\n",
       "9           NaN\n",
       "10          NaN\n",
       "11          NaN\n",
       "12          NaN\n",
       "13          NaN\n",
       "14          NaN\n",
       "15          NaN\n",
       "16          NaN\n",
       "17          NaN\n",
       "18          NaN\n",
       "19          NaN\n",
       "20          NaN\n",
       "21          NaN\n",
       "22          NaN\n",
       "23          NaN\n",
       "24          NaN\n",
       "25          NaN\n",
       "26          NaN\n",
       "27          NaN\n",
       "28          NaN\n",
       "29          NaN\n",
       "         ...   \n",
       "370       Place\n",
       "371        Face\n",
       "372       Place\n",
       "373      Nov_Un\n",
       "374      Nov_Un\n",
       "375        Face\n",
       "376       Place\n",
       "377    Nov_Cued\n",
       "378      Nov_Un\n",
       "379    Nov_Cued\n",
       "380        Face\n",
       "381      Nov_Un\n",
       "382    Nov_Cued\n",
       "383    Nov_Cued\n",
       "384        Face\n",
       "385    Nov_Cued\n",
       "386        Face\n",
       "387      Nov_Un\n",
       "388       Place\n",
       "389    Nov_Cued\n",
       "390       Place\n",
       "391      Nov_Un\n",
       "392       Place\n",
       "393        Face\n",
       "394        Face\n",
       "395      Nov_Un\n",
       "396        Face\n",
       "397    Nov_Cued\n",
       "398       Place\n",
       "399    Nov_Cued\n",
       "Name: Attention Level, Length: 12000, dtype: object"
      ]
     },
     "execution_count": 54,
     "metadata": {},
     "output_type": "execute_result"
    }
   ],
   "source": [
    "tr['Attention Level']"
   ]
  },
  {
   "cell_type": "code",
   "execution_count": null,
   "metadata": {},
   "outputs": [],
   "source": []
  }
 ],
 "metadata": {
  "kernelspec": {
   "display_name": "Python 3",
   "language": "python",
   "name": "python3"
  },
  "language_info": {
   "codemirror_mode": {
    "name": "ipython",
    "version": 3
   },
   "file_extension": ".py",
   "mimetype": "text/x-python",
   "name": "python",
   "nbconvert_exporter": "python",
   "pygments_lexer": "ipython3",
   "version": "3.6.4"
  }
 },
 "nbformat": 4,
 "nbformat_minor": 2
}
