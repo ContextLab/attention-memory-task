{
 "cells": [
  {
   "cell_type": "markdown",
   "metadata": {},
   "source": [
    "# Imports"
   ]
  },
  {
   "cell_type": "code",
   "execution_count": 8,
   "metadata": {},
   "outputs": [],
   "source": [
    "import pandas as pd; import seaborn as sb; import statsmodels.formula.api as smf; import pingouin;\n",
    "from statannot import add_stat_annotation; from itertools import combinations; import os\n",
    "\n",
    "import warnings\n",
    "warnings.filterwarnings('ignore')"
   ]
  },
  {
   "cell_type": "markdown",
   "metadata": {},
   "source": [
    "# Load Data"
   ]
  },
  {
   "cell_type": "code",
   "execution_count": 9,
   "metadata": {},
   "outputs": [],
   "source": [
    "merged = pd.DataFrame.from_csv('gaze_coords_with_ratings.csv')\n",
    "eye_behav_full = pd.DataFrame.from_csv('eye_behav_full.csv')\n",
    "eye_behav = pd.DataFrame.from_csv('eye_behav.csv')\n",
    "total = pd.DataFrame.from_csv('data_with_correct_scaled_gaze.csv')"
   ]
  },
  {
   "cell_type": "code",
   "execution_count": 13,
   "metadata": {},
   "outputs": [],
   "source": [
    "def eye_read(dir, out_str):\n",
    "    '''\n",
    "    input:  directory with gaze data\n",
    "    output: gaze df, also saves pickle\n",
    "    '''\n",
    "    # \"/Users/kirstenziman/Documents/attention-memory-task/data/\"\n",
    "    all_gaze = []\n",
    "\n",
    "    for b in os.listdir(dir):\n",
    "        print(b)\n",
    "        dr = dir+b\n",
    "        initial = eye_intial( dr + \"/eye_data/\")\n",
    "        pres = pres_gaze_image(dr, initial, b[0:2])\n",
    "        subject_gaze = pd.concat([pd.concat(pres[x]) for x in pres.keys()])\n",
    "        all_gaze.append(subject_gaze)\n",
    "\n",
    "    df = pd.concat(all_gaze)\n",
    "    eye_df = df\n",
    "\n",
    "    # convert to centimeters\n",
    "    df['av_x_coord'] = (59.8/2048)*(df[['xRaw_righteye', 'xRaw_lefteye']].mean(axis=1))\n",
    "    df['av_y_coord'] = (33.6/1152)*(df[['yRaw_righteye', 'yRaw_lefteye']].mean(axis=1))\n",
    "    # \"/Users/kirstenziman/Documents/attention-memory-task/gaze_May_update.pkl\"\n",
    "    pickle.dump(df, open(out_str, \"wb\" ))\n",
    "\n",
    "    return(df)\n",
    "\n",
    "class parseFile():\n",
    "    def __init__(self, file):\n",
    "        self.file = file\n",
    "    def parse(self):\n",
    "        data = open(self.file).read()\n",
    "        return(data)\n",
    "\n",
    "def load(path):\n",
    "    '''\n",
    "    input: path to directory containing eye track data\n",
    "    output: raw parsed eye data\n",
    "    '''\n",
    "\n",
    "    data = []\n",
    "    files = [f for f in os.listdir(path)]\n",
    "\n",
    "    for x in files:\n",
    "        #if os.path.isfile(path+x):\n",
    "        newFile = parseFile(path+x)\n",
    "        data1 = newFile.parse()\n",
    "\n",
    "        for a,b in zip(['true','false'], ['True', 'False']):\n",
    "            data1 = data1.replace(a, b)\n",
    "\n",
    "        data1 = data1.split('\\n')\n",
    "        data1 = [x for x in data1 if \"tracker\" in x]\n",
    "        data.extend(data1)\n",
    "\n",
    "    return(data)"
   ]
  },
  {
   "cell_type": "code",
   "execution_count": 16,
   "metadata": {},
   "outputs": [
    {
     "ename": "SyntaxError",
     "evalue": "invalid syntax (<ipython-input-16-76dbc3decd08>, line 19)",
     "output_type": "error",
     "traceback": [
      "\u001b[0;36m  File \u001b[0;32m\"<ipython-input-16-76dbc3decd08>\"\u001b[0;36m, line \u001b[0;32m19\u001b[0m\n\u001b[0;31m    dict_list = [as.literal_eval(x) for x in data]\u001b[0m\n\u001b[0m                  ^\u001b[0m\n\u001b[0;31mSyntaxError\u001b[0m\u001b[0;31m:\u001b[0m invalid syntax\n"
     ]
    }
   ],
   "source": [
    "def eye_intial(path):\n",
    "    ''' reads in raw eye gaze data\n",
    "        outputs eye gaze dataframe, timestamps in GMT\n",
    "    '''\n",
    "\n",
    "    data = []\n",
    "\n",
    "    for x in os.listdir(path):\n",
    "        newFile = parseFile(path+x)\n",
    "        data1 = newFile.parse()\n",
    "\n",
    "        for a,b in zip(['true','false'], ['True', 'False']):\n",
    "            data1 = data1.replace(a, b)\n",
    "\n",
    "        data1 = data1.split('\\n')\n",
    "        data1 = [x for x in data1 if \"tracker\" in x]\n",
    "        data.extend(data1)\n",
    "\n",
    "    dict_list = [as.literal_eval(x) for x in data]\n",
    "    dict_list = [x['values']['frame'] for x in dict_list if 'values' in x and 'frame' in x['values']]\n",
    "    df = pd.DataFrame(dict_list)\n",
    "\n",
    "    for eye in ['righteye','lefteye']:\n",
    "        for coord in ['x','y']:\n",
    "            df[coord+'Raw_'+eye] = [df[eye][row]['raw'][coord] for row in df.index.values]\n",
    "\n",
    "    df['av_x_coord'] = df[['xRaw_righteye', 'xRaw_lefteye']].mean(axis=1)\n",
    "    df['av_y_coord'] = df[['yRaw_righteye', 'yRaw_lefteye']].mean(axis=1)\n",
    "    df['timestamp']=[time.mktime(time.strptime(x[:], \"%Y-%m-%d %H:%M:%S.%f\")) for x in df['timestamp']]\n",
    "\n",
    "    return(df)"
   ]
  },
  {
   "cell_type": "code",
   "execution_count": 17,
   "metadata": {},
   "outputs": [
    {
     "name": "stdout",
     "output_type": "stream",
     "text": [
      "10_2018_Oct_03\n"
     ]
    },
    {
     "ename": "NameError",
     "evalue": "name 'ast' is not defined",
     "output_type": "error",
     "traceback": [
      "\u001b[0;31m---------------------------------------------------------------------------\u001b[0m",
      "\u001b[0;31mNameError\u001b[0m                                 Traceback (most recent call last)",
      "\u001b[0;32m<ipython-input-17-bb4821eaa352>\u001b[0m in \u001b[0;36m<module>\u001b[0;34m()\u001b[0m\n\u001b[0;32m----> 1\u001b[0;31m \u001b[0meye_data\u001b[0m \u001b[0;34m=\u001b[0m \u001b[0meye_read\u001b[0m\u001b[0;34m(\u001b[0m\u001b[0;34m'/Users/kirstenziman/Documents/github/attention-memory-task/data/'\u001b[0m\u001b[0;34m,\u001b[0m\u001b[0;34m'eye_data_exp1.pkl'\u001b[0m\u001b[0;34m)\u001b[0m\u001b[0;34m\u001b[0m\u001b[0m\n\u001b[0m",
      "\u001b[0;32m<ipython-input-13-3fa67770a5c6>\u001b[0m in \u001b[0;36meye_read\u001b[0;34m(dir, out_str)\u001b[0m\n\u001b[1;32m     10\u001b[0m         \u001b[0mprint\u001b[0m\u001b[0;34m(\u001b[0m\u001b[0mb\u001b[0m\u001b[0;34m)\u001b[0m\u001b[0;34m\u001b[0m\u001b[0m\n\u001b[1;32m     11\u001b[0m         \u001b[0mdr\u001b[0m \u001b[0;34m=\u001b[0m \u001b[0mdir\u001b[0m\u001b[0;34m+\u001b[0m\u001b[0mb\u001b[0m\u001b[0;34m\u001b[0m\u001b[0m\n\u001b[0;32m---> 12\u001b[0;31m         \u001b[0minitial\u001b[0m \u001b[0;34m=\u001b[0m \u001b[0meye_intial\u001b[0m\u001b[0;34m(\u001b[0m \u001b[0mdr\u001b[0m \u001b[0;34m+\u001b[0m \u001b[0;34m\"/eye_data/\"\u001b[0m\u001b[0;34m)\u001b[0m\u001b[0;34m\u001b[0m\u001b[0m\n\u001b[0m\u001b[1;32m     13\u001b[0m         \u001b[0mpres\u001b[0m \u001b[0;34m=\u001b[0m \u001b[0mpres_gaze_image\u001b[0m\u001b[0;34m(\u001b[0m\u001b[0mdr\u001b[0m\u001b[0;34m,\u001b[0m \u001b[0minitial\u001b[0m\u001b[0;34m,\u001b[0m \u001b[0mb\u001b[0m\u001b[0;34m[\u001b[0m\u001b[0;36m0\u001b[0m\u001b[0;34m:\u001b[0m\u001b[0;36m2\u001b[0m\u001b[0;34m]\u001b[0m\u001b[0;34m)\u001b[0m\u001b[0;34m\u001b[0m\u001b[0m\n\u001b[1;32m     14\u001b[0m         \u001b[0msubject_gaze\u001b[0m \u001b[0;34m=\u001b[0m \u001b[0mpd\u001b[0m\u001b[0;34m.\u001b[0m\u001b[0mconcat\u001b[0m\u001b[0;34m(\u001b[0m\u001b[0;34m[\u001b[0m\u001b[0mpd\u001b[0m\u001b[0;34m.\u001b[0m\u001b[0mconcat\u001b[0m\u001b[0;34m(\u001b[0m\u001b[0mpres\u001b[0m\u001b[0;34m[\u001b[0m\u001b[0mx\u001b[0m\u001b[0;34m]\u001b[0m\u001b[0;34m)\u001b[0m \u001b[0;32mfor\u001b[0m \u001b[0mx\u001b[0m \u001b[0;32min\u001b[0m \u001b[0mpres\u001b[0m\u001b[0;34m.\u001b[0m\u001b[0mkeys\u001b[0m\u001b[0;34m(\u001b[0m\u001b[0;34m)\u001b[0m\u001b[0;34m]\u001b[0m\u001b[0;34m)\u001b[0m\u001b[0;34m\u001b[0m\u001b[0m\n",
      "\u001b[0;32m<ipython-input-14-8c5f9eec0bb1>\u001b[0m in \u001b[0;36meye_intial\u001b[0;34m(path)\u001b[0m\n\u001b[1;32m     17\u001b[0m         \u001b[0mdata\u001b[0m\u001b[0;34m.\u001b[0m\u001b[0mextend\u001b[0m\u001b[0;34m(\u001b[0m\u001b[0mdata1\u001b[0m\u001b[0;34m)\u001b[0m\u001b[0;34m\u001b[0m\u001b[0m\n\u001b[1;32m     18\u001b[0m \u001b[0;34m\u001b[0m\u001b[0m\n\u001b[0;32m---> 19\u001b[0;31m     \u001b[0mdict_list\u001b[0m \u001b[0;34m=\u001b[0m \u001b[0;34m[\u001b[0m\u001b[0mast\u001b[0m\u001b[0;34m.\u001b[0m\u001b[0mliteral_eval\u001b[0m\u001b[0;34m(\u001b[0m\u001b[0mx\u001b[0m\u001b[0;34m)\u001b[0m \u001b[0;32mfor\u001b[0m \u001b[0mx\u001b[0m \u001b[0;32min\u001b[0m \u001b[0mdata\u001b[0m\u001b[0;34m]\u001b[0m\u001b[0;34m\u001b[0m\u001b[0m\n\u001b[0m\u001b[1;32m     20\u001b[0m     \u001b[0mdict_list\u001b[0m \u001b[0;34m=\u001b[0m \u001b[0;34m[\u001b[0m\u001b[0mx\u001b[0m\u001b[0;34m[\u001b[0m\u001b[0;34m'values'\u001b[0m\u001b[0;34m]\u001b[0m\u001b[0;34m[\u001b[0m\u001b[0;34m'frame'\u001b[0m\u001b[0;34m]\u001b[0m \u001b[0;32mfor\u001b[0m \u001b[0mx\u001b[0m \u001b[0;32min\u001b[0m \u001b[0mdict_list\u001b[0m \u001b[0;32mif\u001b[0m \u001b[0;34m'values'\u001b[0m \u001b[0;32min\u001b[0m \u001b[0mx\u001b[0m \u001b[0;32mand\u001b[0m \u001b[0;34m'frame'\u001b[0m \u001b[0;32min\u001b[0m \u001b[0mx\u001b[0m\u001b[0;34m[\u001b[0m\u001b[0;34m'values'\u001b[0m\u001b[0;34m]\u001b[0m\u001b[0;34m]\u001b[0m\u001b[0;34m\u001b[0m\u001b[0m\n\u001b[1;32m     21\u001b[0m     \u001b[0mdf\u001b[0m \u001b[0;34m=\u001b[0m \u001b[0mpd\u001b[0m\u001b[0;34m.\u001b[0m\u001b[0mDataFrame\u001b[0m\u001b[0;34m(\u001b[0m\u001b[0mdict_list\u001b[0m\u001b[0;34m)\u001b[0m\u001b[0;34m\u001b[0m\u001b[0m\n",
      "\u001b[0;32m<ipython-input-14-8c5f9eec0bb1>\u001b[0m in \u001b[0;36m<listcomp>\u001b[0;34m(.0)\u001b[0m\n\u001b[1;32m     17\u001b[0m         \u001b[0mdata\u001b[0m\u001b[0;34m.\u001b[0m\u001b[0mextend\u001b[0m\u001b[0;34m(\u001b[0m\u001b[0mdata1\u001b[0m\u001b[0;34m)\u001b[0m\u001b[0;34m\u001b[0m\u001b[0m\n\u001b[1;32m     18\u001b[0m \u001b[0;34m\u001b[0m\u001b[0m\n\u001b[0;32m---> 19\u001b[0;31m     \u001b[0mdict_list\u001b[0m \u001b[0;34m=\u001b[0m \u001b[0;34m[\u001b[0m\u001b[0mast\u001b[0m\u001b[0;34m.\u001b[0m\u001b[0mliteral_eval\u001b[0m\u001b[0;34m(\u001b[0m\u001b[0mx\u001b[0m\u001b[0;34m)\u001b[0m \u001b[0;32mfor\u001b[0m \u001b[0mx\u001b[0m \u001b[0;32min\u001b[0m \u001b[0mdata\u001b[0m\u001b[0;34m]\u001b[0m\u001b[0;34m\u001b[0m\u001b[0m\n\u001b[0m\u001b[1;32m     20\u001b[0m     \u001b[0mdict_list\u001b[0m \u001b[0;34m=\u001b[0m \u001b[0;34m[\u001b[0m\u001b[0mx\u001b[0m\u001b[0;34m[\u001b[0m\u001b[0;34m'values'\u001b[0m\u001b[0;34m]\u001b[0m\u001b[0;34m[\u001b[0m\u001b[0;34m'frame'\u001b[0m\u001b[0;34m]\u001b[0m \u001b[0;32mfor\u001b[0m \u001b[0mx\u001b[0m \u001b[0;32min\u001b[0m \u001b[0mdict_list\u001b[0m \u001b[0;32mif\u001b[0m \u001b[0;34m'values'\u001b[0m \u001b[0;32min\u001b[0m \u001b[0mx\u001b[0m \u001b[0;32mand\u001b[0m \u001b[0;34m'frame'\u001b[0m \u001b[0;32min\u001b[0m \u001b[0mx\u001b[0m\u001b[0;34m[\u001b[0m\u001b[0;34m'values'\u001b[0m\u001b[0;34m]\u001b[0m\u001b[0;34m]\u001b[0m\u001b[0;34m\u001b[0m\u001b[0m\n\u001b[1;32m     21\u001b[0m     \u001b[0mdf\u001b[0m \u001b[0;34m=\u001b[0m \u001b[0mpd\u001b[0m\u001b[0;34m.\u001b[0m\u001b[0mDataFrame\u001b[0m\u001b[0;34m(\u001b[0m\u001b[0mdict_list\u001b[0m\u001b[0;34m)\u001b[0m\u001b[0;34m\u001b[0m\u001b[0m\n",
      "\u001b[0;31mNameError\u001b[0m: name 'ast' is not defined"
     ]
    }
   ],
   "source": [
    "eye_data = eye_read('/Users/kirstenziman/Documents/github/attention-memory-task/data/','eye_data_exp1.pkl')"
   ]
  },
  {
   "cell_type": "markdown",
   "metadata": {},
   "source": [
    "# Add Gaze Function"
   ]
  },
  {
   "cell_type": "code",
   "execution_count": 3,
   "metadata": {},
   "outputs": [],
   "source": [
    "#def add_gaze(df):\n",
    "def add_side(df):\n",
    "    '''\n",
    "    input: df containing pres and mem from single run\n",
    "    output: df with string in 'Attention Level' column in each Memory trial row\n",
    "    '''\n",
    "\n",
    "    for index,row in df.iterrows():\n",
    "        if row['Trial Type']=='Memory':\n",
    "            mem_image = row['Memory Image']\n",
    "            for cue in ['Cued ', 'Uncued ']:\n",
    "                for cat in ['Face', 'Place']:\n",
    "                    if df.loc[df[cue+cat] == mem_image].shape[0]!=0:\n",
    "                        df['av_x_coord'][index]=df.loc[df[cue+cat] == mem_image]['av_x_coord']  \n",
    "                        df['Cued Side'][index] = df.loc[df[cue+cat] == mem_image]['Cued Side'].item()  \n",
    "\n",
    "    mem_mask = df['Trial Type']=='Memory'\n",
    "    df.loc[mem_mask,'av_x_coord'] = df.loc[mem_mask,'av_x_coord'].fillna(np.nan)\n",
    "\n",
    "    return(df)"
   ]
  },
  {
   "cell_type": "code",
   "execution_count": 4,
   "metadata": {},
   "outputs": [],
   "source": [
    "# total=[]\n",
    "\n",
    "# for s in full['Subject'].unique():\n",
    "#     print(s)\n",
    "    \n",
    "#     for r in full['Run'].unique():\n",
    "#         #print(r)\n",
    "        \n",
    "#         total.append(add_side(full[(full['Subject']==s) & (full['Run']==r)]))"
   ]
  },
  {
   "cell_type": "code",
   "execution_count": 5,
   "metadata": {},
   "outputs": [],
   "source": [
    "# total = pd.concat(total)"
   ]
  },
  {
   "cell_type": "code",
   "execution_count": 6,
   "metadata": {},
   "outputs": [],
   "source": [
    "#total['Cued Side']"
   ]
  },
  {
   "cell_type": "code",
   "execution_count": 7,
   "metadata": {},
   "outputs": [],
   "source": [
    "# total['Subject'].unique()\n",
    "# df['Cued Side'][index] = df.loc[df[cue+cat] == mem_image]['Cued Side']"
   ]
  },
  {
   "cell_type": "code",
   "execution_count": 8,
   "metadata": {},
   "outputs": [],
   "source": [
    "# everything on the right is okay\n",
    "\n",
    "# everything on the left nees a switch\n",
    "\n",
    "# total.loc[total['Cued Side']=='<','scaled_x_coord'] = abs(total[total['Cued Side']=='<']['scaled_x_coord'])\n",
    "# total.loc[total['Attention Level']=='Category','scaled_x_coord'] = -total[total['Attention Level']=='Category']['scaled_x_coord']\n",
    "# total.loc[total['Attention Level']=='None','scaled_x_coord'] = -total[total['Attention Level']=='None']['scaled_x_coord']"
   ]
  },
  {
   "cell_type": "code",
   "execution_count": 9,
   "metadata": {},
   "outputs": [],
   "source": [
    "# total = pd.DataFrame.from_csv('data_with_correct_scaled_gaze.csv')"
   ]
  },
  {
   "cell_type": "code",
   "execution_count": 10,
   "metadata": {},
   "outputs": [
    {
     "data": {
      "text/html": [
       "<div>\n",
       "<style scoped>\n",
       "    .dataframe tbody tr th:only-of-type {\n",
       "        vertical-align: middle;\n",
       "    }\n",
       "\n",
       "    .dataframe tbody tr th {\n",
       "        vertical-align: top;\n",
       "    }\n",
       "\n",
       "    .dataframe thead th {\n",
       "        text-align: right;\n",
       "    }\n",
       "</style>\n",
       "<table border=\"1\" class=\"dataframe\">\n",
       "  <thead>\n",
       "    <tr style=\"text-align: right;\">\n",
       "      <th></th>\n",
       "      <th>Subject</th>\n",
       "      <th>Attention Level</th>\n",
       "      <th>Familiarity Rating</th>\n",
       "      <th>Attention Button</th>\n",
       "      <th>Attention Reaction Time (s)</th>\n",
       "      <th>Cue Validity</th>\n",
       "      <th>Familiarity Reaction Time (s)</th>\n",
       "      <th>Post Invalid Cue</th>\n",
       "      <th>Pre Invalid Cue</th>\n",
       "      <th>Rating History</th>\n",
       "      <th>...</th>\n",
       "      <th>fix</th>\n",
       "      <th>state</th>\n",
       "      <th>time</th>\n",
       "      <th>timestamp</th>\n",
       "      <th>xRaw_lefteye</th>\n",
       "      <th>xRaw_righteye</th>\n",
       "      <th>yRaw_lefteye</th>\n",
       "      <th>yRaw_righteye</th>\n",
       "      <th>FamiliarityRating</th>\n",
       "      <th>scaled_x_coord</th>\n",
       "    </tr>\n",
       "  </thead>\n",
       "  <tbody>\n",
       "    <tr>\n",
       "      <th>0</th>\n",
       "      <td>0.0</td>\n",
       "      <td>Category</td>\n",
       "      <td>1.0</td>\n",
       "      <td>NaN</td>\n",
       "      <td>NaN</td>\n",
       "      <td>NaN</td>\n",
       "      <td>1.103636</td>\n",
       "      <td>NaN</td>\n",
       "      <td>NaN</td>\n",
       "      <td>NaN</td>\n",
       "      <td>...</td>\n",
       "      <td>NaN</td>\n",
       "      <td>NaN</td>\n",
       "      <td>NaN</td>\n",
       "      <td>NaN</td>\n",
       "      <td>NaN</td>\n",
       "      <td>NaN</td>\n",
       "      <td>NaN</td>\n",
       "      <td>NaN</td>\n",
       "      <td>1.0</td>\n",
       "      <td>-0.009935</td>\n",
       "    </tr>\n",
       "    <tr>\n",
       "      <th>1</th>\n",
       "      <td>0.0</td>\n",
       "      <td>Category</td>\n",
       "      <td>2.0</td>\n",
       "      <td>NaN</td>\n",
       "      <td>NaN</td>\n",
       "      <td>NaN</td>\n",
       "      <td>1.613727</td>\n",
       "      <td>NaN</td>\n",
       "      <td>NaN</td>\n",
       "      <td>NaN</td>\n",
       "      <td>...</td>\n",
       "      <td>NaN</td>\n",
       "      <td>NaN</td>\n",
       "      <td>NaN</td>\n",
       "      <td>NaN</td>\n",
       "      <td>NaN</td>\n",
       "      <td>NaN</td>\n",
       "      <td>NaN</td>\n",
       "      <td>NaN</td>\n",
       "      <td>2.0</td>\n",
       "      <td>-0.013504</td>\n",
       "    </tr>\n",
       "    <tr>\n",
       "      <th>2</th>\n",
       "      <td>0.0</td>\n",
       "      <td>Category</td>\n",
       "      <td>3.0</td>\n",
       "      <td>NaN</td>\n",
       "      <td>NaN</td>\n",
       "      <td>NaN</td>\n",
       "      <td>1.487000</td>\n",
       "      <td>NaN</td>\n",
       "      <td>NaN</td>\n",
       "      <td>NaN</td>\n",
       "      <td>...</td>\n",
       "      <td>NaN</td>\n",
       "      <td>NaN</td>\n",
       "      <td>NaN</td>\n",
       "      <td>NaN</td>\n",
       "      <td>NaN</td>\n",
       "      <td>NaN</td>\n",
       "      <td>NaN</td>\n",
       "      <td>NaN</td>\n",
       "      <td>3.0</td>\n",
       "      <td>-0.021296</td>\n",
       "    </tr>\n",
       "    <tr>\n",
       "      <th>3</th>\n",
       "      <td>0.0</td>\n",
       "      <td>Category</td>\n",
       "      <td>4.0</td>\n",
       "      <td>NaN</td>\n",
       "      <td>NaN</td>\n",
       "      <td>NaN</td>\n",
       "      <td>1.250833</td>\n",
       "      <td>NaN</td>\n",
       "      <td>NaN</td>\n",
       "      <td>NaN</td>\n",
       "      <td>...</td>\n",
       "      <td>NaN</td>\n",
       "      <td>NaN</td>\n",
       "      <td>NaN</td>\n",
       "      <td>NaN</td>\n",
       "      <td>NaN</td>\n",
       "      <td>NaN</td>\n",
       "      <td>NaN</td>\n",
       "      <td>NaN</td>\n",
       "      <td>4.0</td>\n",
       "      <td>-0.003771</td>\n",
       "    </tr>\n",
       "    <tr>\n",
       "      <th>4</th>\n",
       "      <td>0.0</td>\n",
       "      <td>Full</td>\n",
       "      <td>1.0</td>\n",
       "      <td>NaN</td>\n",
       "      <td>NaN</td>\n",
       "      <td>NaN</td>\n",
       "      <td>1.227889</td>\n",
       "      <td>NaN</td>\n",
       "      <td>NaN</td>\n",
       "      <td>NaN</td>\n",
       "      <td>...</td>\n",
       "      <td>NaN</td>\n",
       "      <td>NaN</td>\n",
       "      <td>NaN</td>\n",
       "      <td>NaN</td>\n",
       "      <td>NaN</td>\n",
       "      <td>NaN</td>\n",
       "      <td>NaN</td>\n",
       "      <td>NaN</td>\n",
       "      <td>1.0</td>\n",
       "      <td>0.006154</td>\n",
       "    </tr>\n",
       "  </tbody>\n",
       "</table>\n",
       "<p>5 rows × 27 columns</p>\n",
       "</div>"
      ],
      "text/plain": [
       "   Subject Attention Level  Familiarity Rating  Attention Button  \\\n",
       "0      0.0        Category                 1.0               NaN   \n",
       "1      0.0        Category                 2.0               NaN   \n",
       "2      0.0        Category                 3.0               NaN   \n",
       "3      0.0        Category                 4.0               NaN   \n",
       "4      0.0            Full                 1.0               NaN   \n",
       "\n",
       "   Attention Reaction Time (s)  Cue Validity  Familiarity Reaction Time (s)  \\\n",
       "0                          NaN           NaN                       1.103636   \n",
       "1                          NaN           NaN                       1.613727   \n",
       "2                          NaN           NaN                       1.487000   \n",
       "3                          NaN           NaN                       1.250833   \n",
       "4                          NaN           NaN                       1.227889   \n",
       "\n",
       "   Post Invalid Cue  Pre Invalid Cue  Rating History       ...        fix  \\\n",
       "0               NaN              NaN             NaN       ...        NaN   \n",
       "1               NaN              NaN             NaN       ...        NaN   \n",
       "2               NaN              NaN             NaN       ...        NaN   \n",
       "3               NaN              NaN             NaN       ...        NaN   \n",
       "4               NaN              NaN             NaN       ...        NaN   \n",
       "\n",
       "   state  time  timestamp  xRaw_lefteye  xRaw_righteye  yRaw_lefteye  \\\n",
       "0    NaN   NaN        NaN           NaN            NaN           NaN   \n",
       "1    NaN   NaN        NaN           NaN            NaN           NaN   \n",
       "2    NaN   NaN        NaN           NaN            NaN           NaN   \n",
       "3    NaN   NaN        NaN           NaN            NaN           NaN   \n",
       "4    NaN   NaN        NaN           NaN            NaN           NaN   \n",
       "\n",
       "   yRaw_righteye  FamiliarityRating  scaled_x_coord  \n",
       "0            NaN                1.0       -0.009935  \n",
       "1            NaN                2.0       -0.013504  \n",
       "2            NaN                3.0       -0.021296  \n",
       "3            NaN                4.0       -0.003771  \n",
       "4            NaN                1.0        0.006154  \n",
       "\n",
       "[5 rows x 27 columns]"
      ]
     },
     "execution_count": 10,
     "metadata": {},
     "output_type": "execute_result"
    }
   ],
   "source": [
    "total_g = total.groupby(['Subject','Attention Level', 'Familiarity Rating'],as_index=False).mean()\n",
    "total_g.head()"
   ]
  },
  {
   "cell_type": "code",
   "execution_count": 11,
   "metadata": {},
   "outputs": [
    {
     "data": {
      "image/png": "[encoded data removed]",
      "text/plain": [
       "<Figure size 432x288 with 1 Axes>"
      ]
     },
     "metadata": {},
     "output_type": "display_data"
    }
   ],
   "source": [
    "ax = sb.violinplot(x='Familiarity Rating', y='scaled_x_coord', \n",
    "              data=total_g[total_g['Attention Level']!='Novel'], hue='Attention Level')"
   ]
  },
  {
   "cell_type": "code",
   "execution_count": 12,
   "metadata": {},
   "outputs": [
    {
     "data": {
      "text/html": [
       "<div>\n",
       "<style scoped>\n",
       "    .dataframe tbody tr th:only-of-type {\n",
       "        vertical-align: middle;\n",
       "    }\n",
       "\n",
       "    .dataframe tbody tr th {\n",
       "        vertical-align: top;\n",
       "    }\n",
       "\n",
       "    .dataframe thead th {\n",
       "        text-align: right;\n",
       "    }\n",
       "</style>\n",
       "<table border=\"1\" class=\"dataframe\">\n",
       "  <thead>\n",
       "    <tr style=\"text-align: right;\">\n",
       "      <th></th>\n",
       "      <th>Source</th>\n",
       "      <th>SS</th>\n",
       "      <th>ddof1</th>\n",
       "      <th>ddof2</th>\n",
       "      <th>MS</th>\n",
       "      <th>F</th>\n",
       "      <th>p-unc</th>\n",
       "      <th>p-GG-corr</th>\n",
       "      <th>np2</th>\n",
       "      <th>eps</th>\n",
       "    </tr>\n",
       "  </thead>\n",
       "  <tbody>\n",
       "    <tr>\n",
       "      <th>0</th>\n",
       "      <td>Attention Level</td>\n",
       "      <td>88.042</td>\n",
       "      <td>3</td>\n",
       "      <td>81</td>\n",
       "      <td>29.347</td>\n",
       "      <td>1.811</td>\n",
       "      <td>0.15162</td>\n",
       "      <td>0.165856</td>\n",
       "      <td>0.063</td>\n",
       "      <td>0.779</td>\n",
       "    </tr>\n",
       "    <tr>\n",
       "      <th>1</th>\n",
       "      <td>scaled_x_coord</td>\n",
       "      <td>57938.502</td>\n",
       "      <td>421</td>\n",
       "      <td>11367</td>\n",
       "      <td>137.621</td>\n",
       "      <td>-27.768</td>\n",
       "      <td>1.00000</td>\n",
       "      <td>NaN</td>\n",
       "      <td>36.143</td>\n",
       "      <td>NaN</td>\n",
       "    </tr>\n",
       "    <tr>\n",
       "      <th>2</th>\n",
       "      <td>Attention Level * scaled_x_coord</td>\n",
       "      <td>-43541.919</td>\n",
       "      <td>1263</td>\n",
       "      <td>34101</td>\n",
       "      <td>-34.475</td>\n",
       "      <td>-28.964</td>\n",
       "      <td>1.00000</td>\n",
       "      <td>NaN</td>\n",
       "      <td>14.749</td>\n",
       "      <td>NaN</td>\n",
       "    </tr>\n",
       "  </tbody>\n",
       "</table>\n",
       "</div>"
      ],
      "text/plain": [
       "                             Source         SS  ddof1  ddof2       MS       F  \\\n",
       "0                   Attention Level     88.042      3     81   29.347   1.811   \n",
       "1                    scaled_x_coord  57938.502    421  11367  137.621 -27.768   \n",
       "2  Attention Level * scaled_x_coord -43541.919   1263  34101  -34.475 -28.964   \n",
       "\n",
       "     p-unc  p-GG-corr     np2    eps  \n",
       "0  0.15162   0.165856   0.063  0.779  \n",
       "1  1.00000        NaN  36.143    NaN  \n",
       "2  1.00000        NaN  14.749    NaN  "
      ]
     },
     "execution_count": 12,
     "metadata": {},
     "output_type": "execute_result"
    }
   ],
   "source": [
    "pingouin.rm_anova(dv='Familiarity Rating', within=['Attention Level', 'scaled_x_coord'], subject='Subject', \n",
    "                  data=total_g[total_g['Attention Level']!='Novel'])"
   ]
  },
  {
   "cell_type": "markdown",
   "metadata": {},
   "source": [
    "# Regression"
   ]
  },
  {
   "cell_type": "code",
   "execution_count": 54,
   "metadata": {},
   "outputs": [],
   "source": [
    "total.loc[total['Attention Level']=='Novel','scaled_x_coord']=0\n",
    "#total[total['Attention Level']=='Novel']['scaled_x_coord']"
   ]
  },
  {
   "cell_type": "code",
   "execution_count": 55,
   "metadata": {},
   "outputs": [
    {
     "name": "stdout",
     "output_type": "stream",
     "text": [
      "8.0\n",
      "15.0\n",
      "1.0\n",
      "25.0\n",
      "12.0\n",
      "4.0\n",
      "28.0\n",
      "19.0\n",
      "21.0\n",
      "33.0\n",
      "7.0\n",
      "26.0\n",
      "14.0\n",
      "2.0\n",
      "16.0\n",
      "27.0\n",
      "23.0\n",
      "18.0\n",
      "29.0\n",
      "13.0\n",
      "5.0\n",
      "24.0\n",
      "0.0\n",
      "34.0\n",
      "22.0\n",
      "17.0\n",
      "3.0\n",
      "10.0\n",
      "20.0\n"
     ]
    }
   ],
   "source": [
    "total['FamiliarityRating'] = total['Familiarity Rating']\n",
    "d = []\n",
    "\n",
    "for subject in total['Subject'].unique()[:-1]: \n",
    "    print(subject)\n",
    "    \n",
    "    sub  = []\n",
    "    data = total[(total['Subject']==subject) & (total['Trial Type']=='Memory') ]\n",
    "    reg  = smf.ols(formula = \"FamiliarityRating ~ scaled_x_coord\", data = data).fit()\n",
    "    data = data.reset_index()\n",
    "    d.append(pd.concat([data, pd.DataFrame({'gaze_resid':reg.resid})], axis=1, sort=False))\n",
    "    \n",
    "gaze_reg = pd.concat(d)"
   ]
  },
  {
   "cell_type": "code",
   "execution_count": 14,
   "metadata": {},
   "outputs": [],
   "source": [
    "# total['FamiliarityRating'] = total['Familiarity Rating']\n",
    "# d=[]\n",
    "\n",
    "# for subject in total['Subject'].unique(): \n",
    "#     sub=[]\n",
    "#     data = total[total['Subject']==subject]\n",
    "#     reg = smf.ols(formula = \"FamiliarityRating ~ scaled_x_coord\", data = data).fit()\n",
    "#     data = data.reset_index()\n",
    "#     d.append(pd.concat([data, pd.DataFrame({'gaze_resid':reg.resid})], axis=1, sort=False))\n",
    "    \n",
    "# gaze_reg = pd.concat(d)"
   ]
  },
  {
   "cell_type": "code",
   "execution_count": 15,
   "metadata": {},
   "outputs": [],
   "source": [
    "missing_sub = add_side(eye_behav_full[eye_behav_full['Subject']==327])"
   ]
  },
  {
   "cell_type": "markdown",
   "metadata": {},
   "source": [
    "# Load Data"
   ]
  },
  {
   "cell_type": "code",
   "execution_count": 16,
   "metadata": {},
   "outputs": [],
   "source": [
    "full = pd.DataFrame.from_csv('av_x_coord_in_mem_trials.csv')"
   ]
  },
  {
   "cell_type": "code",
   "execution_count": 17,
   "metadata": {},
   "outputs": [],
   "source": [
    "total = pd.concat([total[total['Subject']!=327], missing_sub])"
   ]
  },
  {
   "cell_type": "code",
   "execution_count": 18,
   "metadata": {},
   "outputs": [],
   "source": [
    "# full['scaled_x_coord'] = (full['av_x_coord'] - (59.8/2))/(59.8/2)"
   ]
  },
  {
   "cell_type": "code",
   "execution_count": 19,
   "metadata": {},
   "outputs": [
    {
     "ename": "SyntaxError",
     "evalue": "unexpected EOF while parsing (<ipython-input-19-84ff75edd88d>, line 25)",
     "output_type": "error",
     "traceback": [
      "\u001b[0;36m  File \u001b[0;32m\"<ipython-input-19-84ff75edd88d>\"\u001b[0;36m, line \u001b[0;32m25\u001b[0m\n\u001b[0;31m    #.          if attn level Cat or None -->\u001b[0m\n\u001b[0m                                              ^\u001b[0m\n\u001b[0;31mSyntaxError\u001b[0m\u001b[0;31m:\u001b[0m unexpected EOF while parsing\n"
     ]
    }
   ],
   "source": [
    "for sub in full['Subject'].unique():\n",
    "    \n",
    "    for r in full['Run'].unique():\n",
    "        \n",
    "        dat = full[(full['Subject']==s) & full[(full['Run']==r)]]\n",
    "        mem_dat  = dat[dat['Trial Type']=='Memory']\n",
    "        pres_dat = dat[dat['Trial Type']=='Presentation']\n",
    "        \n",
    "        for row in mem_dat.iterrows():\n",
    "            \n",
    "             \n",
    "             \n",
    "             \n",
    "             \n",
    "    # for every memory image\n",
    "\n",
    "    # look at cued side during presentation\n",
    "    \n",
    "    \n",
    "    \n",
    "    # if cued side == '<' \n",
    "    #       if av_x_coord < 0\n",
    "    #           if attn level Full or SIde --> abs val (x coord)\n",
    "    #.      if av_x_coord > 0\n",
    "    #.          if attn level Cat or None --> "
   ]
  },
  {
   "cell_type": "code",
   "execution_count": null,
   "metadata": {},
   "outputs": [],
   "source": [
    "# full['scaled_x_coord']"
   ]
  },
  {
   "cell_type": "markdown",
   "metadata": {},
   "source": [
    "# Gaze ANOVA"
   ]
  },
  {
   "cell_type": "code",
   "execution_count": null,
   "metadata": {},
   "outputs": [],
   "source": [
    "attn_group = full.groupby(['Subject','Attention Level'], as_index=False).mean()"
   ]
  },
  {
   "cell_type": "code",
   "execution_count": null,
   "metadata": {},
   "outputs": [],
   "source": [
    "# ORGANIZE DATA\n",
    "pingouin.rm_anova(dv='Familiarity Rating', within=['Attention Level', 'scaled_x_coord'], subject='Subject', \n",
    "                  data=attn_group[attn_group['Attention Level']!='Novel'])"
   ]
  },
  {
   "cell_type": "code",
   "execution_count": null,
   "metadata": {},
   "outputs": [],
   "source": [
    "attn_group.head()"
   ]
  },
  {
   "cell_type": "code",
   "execution_count": null,
   "metadata": {},
   "outputs": [],
   "source": [
    "pingouin.rm_anova(dv='Adjusted', within=['Attention Level'], subject='Subject', data=reg_attn_group)"
   ]
  },
  {
   "cell_type": "markdown",
   "metadata": {},
   "source": [
    "## Gaze Regression - issue: what is wrong with last subject ??"
   ]
  },
  {
   "cell_type": "markdown",
   "metadata": {},
   "source": [
    "### obtain residuals"
   ]
  },
  {
   "cell_type": "code",
   "execution_count": null,
   "metadata": {},
   "outputs": [],
   "source": [
    "# full[full['Subject']==327]"
   ]
  },
  {
   "cell_type": "code",
   "execution_count": 20,
   "metadata": {},
   "outputs": [],
   "source": [
    "full['Subject'].unique()#[0:-1]\n",
    "\n",
    "full=total"
   ]
  },
  {
   "cell_type": "code",
   "execution_count": 34,
   "metadata": {},
   "outputs": [],
   "source": [
    "full['FamiliarityRating'] = full['Familiarity Rating']\n",
    "d=[]\n",
    "\n",
    "for subject in full['Subject'].unique()[:-1]: \n",
    "    sub=[]\n",
    "    data = full[full['Subject']==subject]\n",
    "    reg = smf.ols(formula = \"FamiliarityRating ~ scaled_x_coord\", data = data).fit()\n",
    "    data = data.reset_index()\n",
    "    d.append(pd.concat([data, pd.DataFrame({'gaze_resid':reg.resid})], axis=1, sort=False))\n",
    "    \n",
    "gaze_reg = pd.concat(d)"
   ]
  },
  {
   "cell_type": "markdown",
   "metadata": {},
   "source": [
    "### subtract residuals, group data"
   ]
  },
  {
   "cell_type": "code",
   "execution_count": 71,
   "metadata": {},
   "outputs": [],
   "source": [
    "# gaze_reg['gaze_resid']"
   ]
  },
  {
   "cell_type": "code",
   "execution_count": 56,
   "metadata": {},
   "outputs": [],
   "source": [
    "gaze_reg['Adjusted'] = gaze_reg['Familiarity Rating']-gaze_reg['gaze_resid']\n",
    "\n",
    "reg_attn_group = gaze_reg.groupby(['Subject','Attention Level'],as_index=False).mean()\n",
    "reg_cat_group  = gaze_reg.groupby(['Subject','Attention Level','Category'],as_index=False).mean()\n",
    "face  = reg_cat_group[reg_cat_group['Category']=='Face']\n",
    "place = reg_cat_group[reg_cat_group['Category']=='Place']"
   ]
  },
  {
   "cell_type": "markdown",
   "metadata": {},
   "source": [
    "## Plot Adjust Scores (Full)"
   ]
  },
  {
   "cell_type": "markdown",
   "metadata": {},
   "source": [
    "### plot params"
   ]
  },
  {
   "cell_type": "code",
   "execution_count": 57,
   "metadata": {},
   "outputs": [],
   "source": [
    "x='Attention Level'; y='Adjusted'; order=['Full','Side','Category','None','Novel']"
   ]
  },
  {
   "cell_type": "code",
   "execution_count": 61,
   "metadata": {},
   "outputs": [],
   "source": [
    "# total.groupby(['Subject'],as_index=False).mean()['scaled_x_coord']"
   ]
  },
  {
   "cell_type": "code",
   "execution_count": 67,
   "metadata": {},
   "outputs": [
    {
     "data": {
      "text/plain": [
       "[('Category', 'Full'),\n",
       " ('Category', 'None'),\n",
       " ('Category', 'Novel'),\n",
       " ('Category', 'Side'),\n",
       " ('Full', 'None'),\n",
       " ('Full', 'Novel'),\n",
       " ('Full', 'Side'),\n",
       " ('None', 'Novel'),\n",
       " ('None', 'Side'),\n",
       " ('Novel', 'Side')]"
      ]
     },
     "execution_count": 67,
     "metadata": {},
     "output_type": "execute_result"
    }
   ],
   "source": [
    "l"
   ]
  },
  {
   "cell_type": "code",
   "execution_count": 68,
   "metadata": {},
   "outputs": [
    {
     "name": "stdout",
     "output_type": "stream",
     "text": [
      "pvalue annotation legend:\n",
      "ns: 5.00e-02 < p <= 1.00e+00\n",
      "*: 1.00e-02 < p <= 5.00e-02\n",
      "**: 1.00e-03 < p <= 1.00e-02\n",
      "***: 1.00e-04 < p <= 1.00e-03\n",
      "****: p <= 1.00e-04\n",
      "\n",
      "Category v.s. Full: t-test paired samples, P_val=4.365e-03 stat=-3.101e+00\n",
      "Category v.s. None: t-test paired samples, P_val=2.511e-01 stat=1.172e+00\n",
      "Category v.s. Novel: t-test paired samples, P_val=4.714e-01 stat=7.300e-01\n",
      "Category v.s. Side: t-test paired samples, P_val=6.576e-04 stat=-3.832e+00\n",
      "Full v.s. None: t-test paired samples, P_val=2.388e-03 stat=3.339e+00\n",
      "Full v.s. Novel: t-test paired samples, P_val=8.007e-05 stat=4.612e+00\n",
      "Full v.s. Side: t-test paired samples, P_val=9.264e-01 stat=-9.326e-02\n",
      "None v.s. Novel: t-test paired samples, P_val=5.737e-01 stat=-5.693e-01\n",
      "None v.s. Side: t-test paired samples, P_val=1.118e-03 stat=-3.631e+00\n",
      "Novel v.s. Side: t-test paired samples, P_val=3.957e-06 stat=-5.714e+00\n"
     ]
    },
    {
     "data": {
      "text/plain": [
       "<matplotlib.axes._subplots.AxesSubplot at 0x129e64a90>"
      ]
     },
     "execution_count": 68,
     "metadata": {},
     "output_type": "execute_result"
    },
    {
     "data": {
      "image/png": "[encoded data removed]",
      "text/plain": [
       "<Figure size 432x288 with 1 Axes>"
      ]
     },
     "metadata": {},
     "output_type": "display_data"
    }
   ],
   "source": [
    "from itertools import combinations\n",
    "\n",
    "ax = sb.violinplot(x=x, y=y, data=reg_attn_group, order=order)\n",
    "\n",
    "pair = combinations(reg_attn_group['Attention Level'].unique(),2) \n",
    "l = [i for i in pair]\n",
    "\n",
    "\n",
    "# ax = sb.barplot(x=x, y=y, data=data, order=['Full','Side','Category','None','Novel'])        \n",
    "\n",
    "add_stat_annotation(ax, data=reg_attn_group, x=x, y=y, order=['Full','Side','Category','None','Novel'], \n",
    "                    boxPairList=l, test='t-test_paired', textFormat='star', loc='outside', verbose=2)"
   ]
  },
  {
   "cell_type": "code",
   "execution_count": 38,
   "metadata": {},
   "outputs": [
    {
     "data": {
      "text/plain": [
       "Attention Level\n",
       "Category    2.074264\n",
       "Full        2.233437\n",
       "None        2.145918\n",
       "Novel       1.955587\n",
       "Side        2.257454\n",
       "Name: Adjusted, dtype: float64"
      ]
     },
     "execution_count": 38,
     "metadata": {},
     "output_type": "execute_result"
    }
   ],
   "source": [
    "reg_attn_group.groupby(['Attention Level']).mean()['Adjusted']"
   ]
  },
  {
   "cell_type": "code",
   "execution_count": 39,
   "metadata": {},
   "outputs": [
    {
     "data": {
      "text/html": [
       "<div>\n",
       "<style scoped>\n",
       "    .dataframe tbody tr th:only-of-type {\n",
       "        vertical-align: middle;\n",
       "    }\n",
       "\n",
       "    .dataframe tbody tr th {\n",
       "        vertical-align: top;\n",
       "    }\n",
       "\n",
       "    .dataframe thead th {\n",
       "        text-align: right;\n",
       "    }\n",
       "</style>\n",
       "<table border=\"1\" class=\"dataframe\">\n",
       "  <thead>\n",
       "    <tr style=\"text-align: right;\">\n",
       "      <th></th>\n",
       "      <th>Source</th>\n",
       "      <th>ddof1</th>\n",
       "      <th>ddof2</th>\n",
       "      <th>F</th>\n",
       "      <th>p-unc</th>\n",
       "      <th>np2</th>\n",
       "      <th>eps</th>\n",
       "    </tr>\n",
       "  </thead>\n",
       "  <tbody>\n",
       "    <tr>\n",
       "      <th>0</th>\n",
       "      <td>Attention Level</td>\n",
       "      <td>3</td>\n",
       "      <td>84</td>\n",
       "      <td>1.06</td>\n",
       "      <td>0.370591</td>\n",
       "      <td>0.036</td>\n",
       "      <td>0.91</td>\n",
       "    </tr>\n",
       "  </tbody>\n",
       "</table>\n",
       "</div>"
      ],
      "text/plain": [
       "            Source  ddof1  ddof2     F     p-unc    np2   eps\n",
       "0  Attention Level      3     84  1.06  0.370591  0.036  0.91"
      ]
     },
     "execution_count": 39,
     "metadata": {},
     "output_type": "execute_result"
    }
   ],
   "source": [
    "pingouin.rm_anova(dv='Adjusted', within=['Attention Level'], subject='Subject', \n",
    "                  data=reg_attn_group[reg_attn_group['Attention Level']!='Novel'])"
   ]
  },
  {
   "cell_type": "markdown",
   "metadata": {},
   "source": [
    "## Plot Adjusted Scores (Face)"
   ]
  },
  {
   "cell_type": "code",
   "execution_count": 27,
   "metadata": {
    "scrolled": true
   },
   "outputs": [],
   "source": [
    "# from itertools import combinations\n",
    "# from statannot import add_stat_annotation\n",
    "\n",
    "# pair = combinations(groupy['Attention Level'].unique(),2) \n",
    "# l = [i for i in pair]\n",
    "\n",
    "# ax = sb.barplot(x=x, y=y, data=data, order=['Full','Side','Category','None','Novel'])        \n",
    "\n",
    "# add_stat_annotation(ax, data=face, x=x, y=y, order=['Full','Side','Category','None'], \n",
    "#                    boxPairList=l, test='t-test_paired', textFormat='star', loc='outside', verbose=2)"
   ]
  },
  {
   "cell_type": "code",
   "execution_count": 28,
   "metadata": {},
   "outputs": [
    {
     "data": {
      "text/plain": [
       "<matplotlib.axes._subplots.AxesSubplot at 0x122830160>"
      ]
     },
     "execution_count": 28,
     "metadata": {},
     "output_type": "execute_result"
    },
    {
     "data": {
      "image/png": "[encoded data removed]",
      "text/plain": [
       "<Figure size 432x288 with 1 Axes>"
      ]
     },
     "metadata": {},
     "output_type": "display_data"
    }
   ],
   "source": [
    "sb.barplot(x=x, y=y, data=face, order=order)"
   ]
  },
  {
   "cell_type": "markdown",
   "metadata": {},
   "source": [
    "## Plot Adjusted Scores (Place)"
   ]
  },
  {
   "cell_type": "code",
   "execution_count": 29,
   "metadata": {},
   "outputs": [
    {
     "data": {
      "text/plain": [
       "<matplotlib.axes._subplots.AxesSubplot at 0x1234d64a8>"
      ]
     },
     "execution_count": 29,
     "metadata": {},
     "output_type": "execute_result"
    },
    {
     "data": {
      "image/png": "[encoded data removed]",
      "text/plain": [
       "<Figure size 432x288 with 1 Axes>"
      ]
     },
     "metadata": {},
     "output_type": "display_data"
    }
   ],
   "source": [
    "sb.barplot(x=x, y=y, data=place, order=order)"
   ]
  },
  {
   "cell_type": "code",
   "execution_count": 30,
   "metadata": {},
   "outputs": [
    {
     "ename": "NameError",
     "evalue": "name 'groupy_face' is not defined",
     "output_type": "error",
     "traceback": [
      "\u001b[0;31m---------------------------------------------------------------------------\u001b[0m",
      "\u001b[0;31mNameError\u001b[0m                                 Traceback (most recent call last)",
      "\u001b[0;32m<ipython-input-30-8dc7619ee3d8>\u001b[0m in \u001b[0;36m<module>\u001b[0;34m()\u001b[0m\n\u001b[1;32m      1\u001b[0m \u001b[0;32mimport\u001b[0m \u001b[0mscipy\u001b[0m\u001b[0;34m\u001b[0m\u001b[0m\n\u001b[1;32m      2\u001b[0m \u001b[0;34m\u001b[0m\u001b[0m\n\u001b[0;32m----> 3\u001b[0;31m \u001b[0mpair\u001b[0m \u001b[0;34m=\u001b[0m \u001b[0mcombinations\u001b[0m\u001b[0;34m(\u001b[0m\u001b[0mgroupy_face\u001b[0m\u001b[0;34m[\u001b[0m\u001b[0;34m'Attention Level'\u001b[0m\u001b[0;34m]\u001b[0m\u001b[0;34m.\u001b[0m\u001b[0munique\u001b[0m\u001b[0;34m(\u001b[0m\u001b[0;34m)\u001b[0m\u001b[0;34m,\u001b[0m\u001b[0;36m2\u001b[0m\u001b[0;34m)\u001b[0m\u001b[0;34m\u001b[0m\u001b[0m\n\u001b[0m\u001b[1;32m      4\u001b[0m \u001b[0;34m\u001b[0m\u001b[0m\n\u001b[1;32m      5\u001b[0m \u001b[0;32mfor\u001b[0m \u001b[0mi\u001b[0m \u001b[0;32min\u001b[0m \u001b[0mlist\u001b[0m\u001b[0;34m(\u001b[0m\u001b[0mpair\u001b[0m\u001b[0;34m)\u001b[0m\u001b[0;34m:\u001b[0m\u001b[0;34m\u001b[0m\u001b[0m\n",
      "\u001b[0;31mNameError\u001b[0m: name 'groupy_face' is not defined"
     ]
    }
   ],
   "source": [
    "import scipy \n",
    "\n",
    "pair = combinations(groupy_face['Attention Level'].unique(),2) \n",
    "   \n",
    "for i in list(pair): \n",
    "    print(i)\n",
    "    p = scipy.stats.ttest_rel(groupy_face[groupy_face['Attention Level']==i[0]]['Adjusted'], \n",
    "                          groupy_face[groupy_face['Attention Level']==i[1]]['Adjusted'])\n",
    "    print(p)\n",
    "    print(' ')"
   ]
  },
  {
   "cell_type": "code",
   "execution_count": 31,
   "metadata": {},
   "outputs": [
    {
     "ename": "NameError",
     "evalue": "name 'groupy_face' is not defined",
     "output_type": "error",
     "traceback": [
      "\u001b[0;31m---------------------------------------------------------------------------\u001b[0m",
      "\u001b[0;31mNameError\u001b[0m                                 Traceback (most recent call last)",
      "\u001b[0;32m<ipython-input-31-33e0bcc4bfc2>\u001b[0m in \u001b[0;36m<module>\u001b[0;34m()\u001b[0m\n\u001b[1;32m      1\u001b[0m sb.barplot(x='Attention Level',y='Familiarity Rating', \n\u001b[0;32m----> 2\u001b[0;31m               data=groupy_face, order=['Full','Side','Category','None','Novel'])\n\u001b[0m",
      "\u001b[0;31mNameError\u001b[0m: name 'groupy_face' is not defined"
     ]
    }
   ],
   "source": [
    "sb.barplot(x='Attention Level',y='Familiarity Rating', \n",
    "              data=groupy_face, order=['Full','Side','Category','None','Novel'])"
   ]
  },
  {
   "cell_type": "code",
   "execution_count": 32,
   "metadata": {},
   "outputs": [
    {
     "ename": "NameError",
     "evalue": "name 'groupy_face' is not defined",
     "output_type": "error",
     "traceback": [
      "\u001b[0;31m---------------------------------------------------------------------------\u001b[0m",
      "\u001b[0;31mNameError\u001b[0m                                 Traceback (most recent call last)",
      "\u001b[0;32m<ipython-input-32-9717212d41bb>\u001b[0m in \u001b[0;36m<module>\u001b[0;34m()\u001b[0m\n\u001b[1;32m      1\u001b[0m sb.barplot(x='Attention Level',y='Adjusted', \n\u001b[0;32m----> 2\u001b[0;31m               data=groupy_face, order=['Full','Side','Category','None','Novel'])\n\u001b[0m",
      "\u001b[0;31mNameError\u001b[0m: name 'groupy_face' is not defined"
     ]
    }
   ],
   "source": [
    "sb.barplot(x='Attention Level',y='Adjusted', \n",
    "              data=groupy_face, order=['Full','Side','Category','None','Novel'])"
   ]
  },
  {
   "cell_type": "code",
   "execution_count": 94,
   "metadata": {},
   "outputs": [
    {
     "ename": "NameError",
     "evalue": "name 'groupy_place' is not defined",
     "output_type": "error",
     "traceback": [
      "\u001b[0;31m---------------------------------------------------------------------------\u001b[0m",
      "\u001b[0;31mNameError\u001b[0m                                 Traceback (most recent call last)",
      "\u001b[0;32m<ipython-input-94-82376e979d62>\u001b[0m in \u001b[0;36m<module>\u001b[0;34m()\u001b[0m\n\u001b[1;32m      1\u001b[0m sb.barplot(x='Attention Level',y='Familiarity Rating', order=['Full','Side','Category','Novel','None'],\n\u001b[0;32m----> 2\u001b[0;31m               data=groupy_place)\n\u001b[0m",
      "\u001b[0;31mNameError\u001b[0m: name 'groupy_place' is not defined"
     ]
    }
   ],
   "source": [
    "sb.barplot(x='Attention Level',y='Familiarity Rating', order=['Full','Side','Category','Novel','None'],\n",
    "              data=groupy_place)"
   ]
  },
  {
   "cell_type": "code",
   "execution_count": 95,
   "metadata": {},
   "outputs": [
    {
     "ename": "NameError",
     "evalue": "name 'groupy_place' is not defined",
     "output_type": "error",
     "traceback": [
      "\u001b[0;31m---------------------------------------------------------------------------\u001b[0m",
      "\u001b[0;31mNameError\u001b[0m                                 Traceback (most recent call last)",
      "\u001b[0;32m<ipython-input-95-283fe8b58340>\u001b[0m in \u001b[0;36m<module>\u001b[0;34m()\u001b[0m\n\u001b[1;32m      1\u001b[0m sb.barplot(x='Attention Level',y='Adjusted', \n\u001b[0;32m----> 2\u001b[0;31m               data=groupy_place, order=['Full','Side','Category','None','Novel'])\n\u001b[0m",
      "\u001b[0;31mNameError\u001b[0m: name 'groupy_place' is not defined"
     ]
    }
   ],
   "source": [
    "sb.barplot(x='Attention Level',y='Adjusted', \n",
    "              data=groupy_place, order=['Full','Side','Category','None','Novel'])"
   ]
  },
  {
   "cell_type": "code",
   "execution_count": 96,
   "metadata": {},
   "outputs": [
    {
     "ename": "NameError",
     "evalue": "name 'groupy_face' is not defined",
     "output_type": "error",
     "traceback": [
      "\u001b[0;31m---------------------------------------------------------------------------\u001b[0m",
      "\u001b[0;31mNameError\u001b[0m                                 Traceback (most recent call last)",
      "\u001b[0;32m<ipython-input-96-245642f4774f>\u001b[0m in \u001b[0;36m<module>\u001b[0;34m()\u001b[0m\n\u001b[1;32m      1\u001b[0m sb.barplot(x='Attention Level',y='Adjusted', \n\u001b[0;32m----> 2\u001b[0;31m               data=groupy_face)\n\u001b[0m",
      "\u001b[0;31mNameError\u001b[0m: name 'groupy_face' is not defined"
     ]
    }
   ],
   "source": [
    "sb.barplot(x='Attention Level',y='Adjusted', \n",
    "              data=groupy_face)"
   ]
  },
  {
   "cell_type": "code",
   "execution_count": 97,
   "metadata": {},
   "outputs": [
    {
     "data": {
      "text/html": [
       "<div>\n",
       "<style scoped>\n",
       "    .dataframe tbody tr th:only-of-type {\n",
       "        vertical-align: middle;\n",
       "    }\n",
       "\n",
       "    .dataframe tbody tr th {\n",
       "        vertical-align: top;\n",
       "    }\n",
       "\n",
       "    .dataframe thead th {\n",
       "        text-align: right;\n",
       "    }\n",
       "</style>\n",
       "<table border=\"1\" class=\"dataframe\">\n",
       "  <thead>\n",
       "    <tr style=\"text-align: right;\">\n",
       "      <th></th>\n",
       "      <th>Source</th>\n",
       "      <th>ddof1</th>\n",
       "      <th>ddof2</th>\n",
       "      <th>F</th>\n",
       "      <th>p-unc</th>\n",
       "      <th>p-GG-corr</th>\n",
       "      <th>np2</th>\n",
       "      <th>eps</th>\n",
       "      <th>sphericity</th>\n",
       "      <th>W-spher</th>\n",
       "      <th>p-spher</th>\n",
       "    </tr>\n",
       "  </thead>\n",
       "  <tbody>\n",
       "    <tr>\n",
       "      <th>0</th>\n",
       "      <td>Attention Level</td>\n",
       "      <td>4</td>\n",
       "      <td>112</td>\n",
       "      <td>2.89</td>\n",
       "      <td>0.025474</td>\n",
       "      <td>0.040939</td>\n",
       "      <td>0.094</td>\n",
       "      <td>0.74</td>\n",
       "      <td>False</td>\n",
       "      <td>0.286</td>\n",
       "      <td>0.000128</td>\n",
       "    </tr>\n",
       "  </tbody>\n",
       "</table>\n",
       "</div>"
      ],
      "text/plain": [
       "            Source  ddof1  ddof2     F     p-unc  p-GG-corr    np2   eps  \\\n",
       "0  Attention Level      4    112  2.89  0.025474   0.040939  0.094  0.74   \n",
       "\n",
       "   sphericity  W-spher   p-spher  \n",
       "0       False    0.286  0.000128  "
      ]
     },
     "execution_count": 97,
     "metadata": {},
     "output_type": "execute_result"
    }
   ],
   "source": [
    "pingouin.rm_anova(dv='Adjusted', within=['Attention Level'], subject='Subject', data=gaze_reg.groupby(['Subject','Attention Level'],as_index=False).mean())"
   ]
  },
  {
   "cell_type": "code",
   "execution_count": 33,
   "metadata": {},
   "outputs": [
    {
     "data": {
      "text/plain": [
       "Ttest_relResult(statistic=-0.716158954784829, pvalue=0.4798239930719522)"
      ]
     },
     "execution_count": 33,
     "metadata": {},
     "output_type": "execute_result"
    }
   ],
   "source": [
    "import scipy.stats as stats\n",
    "\n",
    "data=gaze_reg.groupby(['Subject','Attention Level'],as_index=False).mean()\n",
    "\n",
    "stats.ttest_rel(data[data['Attention Level']=='Category']['Adjusted'], \n",
    "                data[data['Attention Level']=='None']['Adjusted'])"
   ]
  },
  {
   "cell_type": "code",
   "execution_count": null,
   "metadata": {},
   "outputs": [],
   "source": []
  },
  {
   "cell_type": "code",
   "execution_count": null,
   "metadata": {},
   "outputs": [],
   "source": []
  }
 ],
 "metadata": {
  "kernelspec": {
   "display_name": "Python 3",
   "language": "python",
   "name": "python3"
  },
  "language_info": {
   "codemirror_mode": {
    "name": "ipython",
    "version": 3
   },
   "file_extension": ".py",
   "mimetype": "text/x-python",
   "name": "python",
   "nbconvert_exporter": "python",
   "pygments_lexer": "ipython3",
   "version": "3.6.4"
  }
 },
 "nbformat": 4,
 "nbformat_minor": 2
}
