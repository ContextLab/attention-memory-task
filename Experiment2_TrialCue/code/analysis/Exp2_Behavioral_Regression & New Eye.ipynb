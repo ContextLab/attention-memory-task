{
 "cells": [
  {
   "cell_type": "markdown",
   "metadata": {},
   "source": [
    "# Imports"
   ]
  },
  {
   "cell_type": "code",
   "execution_count": 70,
   "metadata": {},
   "outputs": [],
   "source": [
    "import pandas as pd; import seaborn as sb; import statsmodels.formula.api as smf; import pingouin;\n",
    "from statannot import add_stat_annotation; from itertools import combinations; import os\n",
    "from analysis_helpers import *\n",
    "\n",
    "\n",
    "\n",
    "import warnings\n",
    "warnings.filterwarnings('ignore')"
   ]
  },
  {
   "cell_type": "markdown",
   "metadata": {},
   "source": [
    "# Load Data"
   ]
  },
  {
   "cell_type": "code",
   "execution_count": 71,
   "metadata": {},
   "outputs": [],
   "source": [
    "merged = pd.DataFrame.from_csv('gaze_coords_with_ratings.csv')\n",
    "eye_behav_full = pd.DataFrame.from_csv('eye_behav_full.csv')\n",
    "eye_behav = pd.DataFrame.from_csv('eye_behav.csv')\n",
    "total = pd.DataFrame.from_csv('data_with_correct_scaled_gaze.csv')"
   ]
  },
  {
   "cell_type": "code",
   "execution_count": 72,
   "metadata": {},
   "outputs": [],
   "source": [
    "# eye_behav_full[eye_behav_full[eye_behav_full['Trial Type']=='Presentation']['Subject']==8.0]['Trial']"
   ]
  },
  {
   "cell_type": "code",
   "execution_count": 73,
   "metadata": {},
   "outputs": [],
   "source": [
    "def eye_read(dir, out_str):\n",
    "    '''\n",
    "    input:  directory with gaze data\n",
    "    output: gaze df, also saves pickle\n",
    "    '''\n",
    "    # \"/Users/kirstenziman/Documents/attention-memory-task/data/\"\n",
    "    all_gaze = []\n",
    "\n",
    "    for b in os.listdir(dir):\n",
    "        print(b)\n",
    "        dr = dir+b\n",
    "        initial = eye_intial( dr + \"/eye_data/\")\n",
    "        pres = pres_gaze_image(dr, initial, b[0:2])\n",
    "        subject_gaze = pd.concat([pd.concat(pres[x]) for x in pres.keys()])\n",
    "        all_gaze.append(subject_gaze)\n",
    "\n",
    "    df = pd.concat(all_gaze)\n",
    "    eye_df = df\n",
    "\n",
    "    # convert to centimeters\n",
    "    df['av_x_coord'] = (59.8/2048)*(df[['xRaw_righteye', 'xRaw_lefteye']].mean(axis=1))\n",
    "    df['av_y_coord'] = (33.6/1152)*(df[['yRaw_righteye', 'yRaw_lefteye']].mean(axis=1))\n",
    "    # \"/Users/kirstenziman/Documents/attention-memory-task/gaze_May_update.pkl\"\n",
    "    pickle.dump(df, open(out_str, \"wb\" ))\n",
    "\n",
    "    return(df)\n",
    "\n",
    "class parseFile():\n",
    "    def __init__(self, file):\n",
    "        self.file = file\n",
    "    def parse(self):\n",
    "        data = open(self.file).read()\n",
    "        return(data)\n",
    "\n",
    "def load(path):\n",
    "    '''\n",
    "    input: path to directory containing eye track data\n",
    "    output: raw parsed eye data\n",
    "    '''\n",
    "\n",
    "    data = []\n",
    "    files = [f for f in os.listdir(path)]\n",
    "\n",
    "    for x in files:\n",
    "        #if os.path.isfile(path+x):\n",
    "        newFile = parseFile(path+x)\n",
    "        data1 = newFile.parse()\n",
    "\n",
    "        for a,b in zip(['true','false'], ['True', 'False']):\n",
    "            data1 = data1.replace(a, b)\n",
    "\n",
    "        data1 = data1.split('\\n')\n",
    "        data1 = [x for x in data1 if \"tracker\" in x]\n",
    "        data.extend(data1)\n",
    "\n",
    "    return(data)"
   ]
  },
  {
   "cell_type": "code",
   "execution_count": 74,
   "metadata": {},
   "outputs": [],
   "source": [
    "# def eye_intial(path):\n",
    "#     ''' reads in raw eye gaze data\n",
    "#         outputs eye gaze dataframe, timestamps in GMT\n",
    "#     '''\n",
    "\n",
    "#     data = []\n",
    "\n",
    "#     for x in os.listdir(path):\n",
    "#         newFile = parseFile(path+x)\n",
    "#         data1 = newFile.parse()\n",
    "\n",
    "#         for a,b in zip(['true','false'], ['True', 'False']):\n",
    "#             data1 = data1.replace(a, b)\n",
    "\n",
    "#         data1 = data1.split('\\n')\n",
    "#         data1 = [x for x in data1 if \"tracker\" in x]\n",
    "#         data.extend(data1)\n",
    "\n",
    "#     dict_list = [as.literal_eval(x) for x in data]\n",
    "#     dict_list = [x['values']['frame'] for x in dict_list if 'values' in x and 'frame' in x['values']]\n",
    "#     df = pd.DataFrame(dict_list)\n",
    "\n",
    "#     for eye in ['righteye','lefteye']:\n",
    "#         for coord in ['x','y']:\n",
    "#             df[coord+'Raw_'+eye] = [df[eye][row]['raw'][coord] for row in df.index.values]\n",
    "\n",
    "#     df['av_x_coord'] = df[['xRaw_righteye', 'xRaw_lefteye']].mean(axis=1)\n",
    "#     df['av_y_coord'] = df[['yRaw_righteye', 'yRaw_lefteye']].mean(axis=1)\n",
    "#     df['timestamp']=[time.mktime(time.strptime(x[:], \"%Y-%m-%d %H:%M:%S.%f\")) for x in df['timestamp']]\n",
    "\n",
    "#     return(df)"
   ]
  },
  {
   "cell_type": "code",
   "execution_count": 75,
   "metadata": {},
   "outputs": [],
   "source": [
    "#eye_data = eye_read('/Users/kirstenziman/Documents/github/attention-memory-task/data/','eye_data_exp1_actual.pkl')"
   ]
  },
  {
   "cell_type": "code",
   "execution_count": 76,
   "metadata": {},
   "outputs": [
    {
     "data": {
      "text/plain": [
       "8.675401782226562"
      ]
     },
     "execution_count": 76,
     "metadata": {},
     "output_type": "execute_result"
    }
   ],
   "source": [
    "min(eye_behav['av_x_coord'])"
   ]
  },
  {
   "cell_type": "code",
   "execution_count": 77,
   "metadata": {},
   "outputs": [],
   "source": [
    "with open('eye_data_exp1.pkl','rb') as fp:\n",
    "    eye_data_exp1 = pickle.load(fp)\n",
    "    \n",
    "eye_data_exp1 = eye_data_exp1[eye_data_exp1['av_x_coord']<59.8]\n",
    "eye_data_exp1['Subject'] = eye_data_exp1['Subject'].map(lambda x: x.replace('_',''))"
   ]
  },
  {
   "cell_type": "code",
   "execution_count": 78,
   "metadata": {},
   "outputs": [
    {
     "data": {
      "text/plain": [
       "39.622601329706754"
      ]
     },
     "execution_count": 78,
     "metadata": {},
     "output_type": "execute_result"
    }
   ],
   "source": [
    "max(eye_data_exp1.groupby(['Subject','Run','Trial'], as_index=False).mean()['av_x_coord'])"
   ]
  },
  {
   "cell_type": "code",
   "execution_count": 79,
   "metadata": {},
   "outputs": [
    {
     "ename": "NameError",
     "evalue": "name 'df_list' is not defined",
     "output_type": "error",
     "traceback": [
      "\u001b[0;31m---------------------------------------------------------------------------\u001b[0m",
      "\u001b[0;31mNameError\u001b[0m                                 Traceback (most recent call last)",
      "\u001b[0;32m<ipython-input-79-3ccd1120da8a>\u001b[0m in \u001b[0;36m<module>\u001b[0;34m()\u001b[0m\n\u001b[1;32m      1\u001b[0m \u001b[0mtr\u001b[0m \u001b[0;34m=\u001b[0m \u001b[0;34m[\u001b[0m\u001b[0;36m0\u001b[0m\u001b[0;34m,\u001b[0m \u001b[0;36m1\u001b[0m\u001b[0;34m,\u001b[0m \u001b[0;36m2\u001b[0m\u001b[0;34m,\u001b[0m \u001b[0;36m3\u001b[0m\u001b[0;34m,\u001b[0m \u001b[0;36m4\u001b[0m\u001b[0;34m,\u001b[0m \u001b[0;36m5\u001b[0m\u001b[0;34m,\u001b[0m \u001b[0;36m6\u001b[0m\u001b[0;34m,\u001b[0m \u001b[0;36m7\u001b[0m\u001b[0;34m,\u001b[0m \u001b[0;36m8\u001b[0m\u001b[0;34m,\u001b[0m \u001b[0;36m9\u001b[0m\u001b[0;34m]\u001b[0m\u001b[0;34m*\u001b[0m\u001b[0;36m8\u001b[0m\u001b[0;34m*\u001b[0m\u001b[0;36m30\u001b[0m\u001b[0;34m\u001b[0m\u001b[0m\n\u001b[0;32m----> 2\u001b[0;31m \u001b[0mdf_list\u001b[0m\u001b[0;34m[\u001b[0m\u001b[0;34m'Trial'\u001b[0m\u001b[0;34m]\u001b[0m\u001b[0;34m=\u001b[0m\u001b[0mnp\u001b[0m\u001b[0;34m.\u001b[0m\u001b[0mnan\u001b[0m\u001b[0;34m\u001b[0m\u001b[0m\n\u001b[0m\u001b[1;32m      3\u001b[0m \u001b[0mdf_list\u001b[0m\u001b[0;34m.\u001b[0m\u001b[0mloc\u001b[0m\u001b[0;34m[\u001b[0m\u001b[0mdf_list\u001b[0m\u001b[0;34m[\u001b[0m\u001b[0;34m'Trial Type'\u001b[0m\u001b[0;34m]\u001b[0m\u001b[0;34m==\u001b[0m\u001b[0;34m'Presentation'\u001b[0m\u001b[0;34m,\u001b[0m\u001b[0;34m'Trial'\u001b[0m\u001b[0;34m]\u001b[0m\u001b[0;34m=\u001b[0m\u001b[0mtr\u001b[0m\u001b[0;34m\u001b[0m\u001b[0m\n\u001b[1;32m      4\u001b[0m \u001b[0mdf_list\u001b[0m\u001b[0;34m.\u001b[0m\u001b[0mhead\u001b[0m\u001b[0;34m(\u001b[0m\u001b[0;34m)\u001b[0m\u001b[0;34m\u001b[0m\u001b[0m\n",
      "\u001b[0;31mNameError\u001b[0m: name 'df_list' is not defined"
     ]
    }
   ],
   "source": [
    "tr = [0, 1, 2, 3, 4, 5, 6, 7, 8, 9]*8*30\n",
    "df_list['Trial']=np.nan\n",
    "df_list.loc[df_list['Trial Type']=='Presentation','Trial']=tr\n",
    "df_list.head()"
   ]
  },
  {
   "cell_type": "code",
   "execution_count": null,
   "metadata": {},
   "outputs": [],
   "source": [
    "grouped_eye = eye_data_exp1.groupby(['Subject','Run','Trial'], as_index=False).mean()\n",
    "\n",
    "grouped_eye['Subject'] = pd.to_numeric(grouped_eye['Subject'])\n",
    "grouped_eye['Run']     = pd.to_numeric(grouped_eye['Run'])\n",
    "grouped_eye['Trial']   = pd.to_numeric(grouped_eye['Trial'])\n",
    "\n",
    "\n",
    "merged_pres = grouped_eye.merge(df_list, on=['Subject', 'Run', 'Trial'])"
   ]
  },
  {
   "cell_type": "code",
   "execution_count": null,
   "metadata": {},
   "outputs": [],
   "source": [
    "def add_gaze(df):\n",
    "    '''\n",
    "    input: df containing pres and mem from single run\n",
    "    output: df with string in 'Attention Level' column in each Memory trial row\n",
    "    '''\n",
    "\n",
    "    for index,row in df.iterrows():\n",
    "        if row['Trial Type']=='Memory':\n",
    "            mem_image = row['Memory Image']\n",
    "            for cue in ['Cued ', 'Uncued ']:\n",
    "                for cat in ['Face', 'Place']:\n",
    "                    if df.loc[df[cue+cat] == mem_image].shape[0]!=0:\n",
    "                        df['av_x_coord'][index]=df.loc[df[cue+cat] == mem_image]['av_x_coord']  \n",
    "                        df['Cued Side'][index] = df.loc[df[cue+cat] == mem_image]['Cued Side'].item()  \n",
    "\n",
    "    mem_mask = df['Trial Type']=='Memory'\n",
    "    df.loc[mem_mask,'av_x_coord'] = df.loc[mem_mask,'av_x_coord'].fillna(np.nan)\n",
    "\n",
    "    return(df)"
   ]
  },
  {
   "cell_type": "code",
   "execution_count": 80,
   "metadata": {},
   "outputs": [
    {
     "ename": "NameError",
     "evalue": "name 'merged_pres' is not defined",
     "output_type": "error",
     "traceback": [
      "\u001b[0;31m---------------------------------------------------------------------------\u001b[0m",
      "\u001b[0;31mNameError\u001b[0m                                 Traceback (most recent call last)",
      "\u001b[0;32m<ipython-input-80-6adcd1c41556>\u001b[0m in \u001b[0;36m<module>\u001b[0;34m()\u001b[0m\n\u001b[0;32m----> 1\u001b[0;31m \u001b[0mcombine\u001b[0m \u001b[0;34m=\u001b[0m \u001b[0mpd\u001b[0m\u001b[0;34m.\u001b[0m\u001b[0mconcat\u001b[0m\u001b[0;34m(\u001b[0m\u001b[0;34m[\u001b[0m\u001b[0mmerged_pres\u001b[0m\u001b[0;34m,\u001b[0m \u001b[0mdf_list\u001b[0m\u001b[0;34m[\u001b[0m\u001b[0mdf_list\u001b[0m\u001b[0;34m[\u001b[0m\u001b[0;34m'Trial Type'\u001b[0m\u001b[0;34m]\u001b[0m\u001b[0;34m==\u001b[0m\u001b[0;34m'Memory'\u001b[0m\u001b[0;34m]\u001b[0m\u001b[0;34m]\u001b[0m\u001b[0;34m)\u001b[0m\u001b[0;34m\u001b[0m\u001b[0m\n\u001b[0m",
      "\u001b[0;31mNameError\u001b[0m: name 'merged_pres' is not defined"
     ]
    }
   ],
   "source": [
    "combine = pd.concat([merged_pres, df_list[df_list['Trial Type']=='Memory']])"
   ]
  },
  {
   "cell_type": "code",
   "execution_count": 81,
   "metadata": {},
   "outputs": [
    {
     "ename": "NameError",
     "evalue": "name 'combine' is not defined",
     "output_type": "error",
     "traceback": [
      "\u001b[0;31m---------------------------------------------------------------------------\u001b[0m",
      "\u001b[0;31mNameError\u001b[0m                                 Traceback (most recent call last)",
      "\u001b[0;32m<ipython-input-81-2428a41840dd>\u001b[0m in \u001b[0;36m<module>\u001b[0;34m()\u001b[0m\n\u001b[1;32m      1\u001b[0m \u001b[0msubs\u001b[0m \u001b[0;34m=\u001b[0m \u001b[0;34m[\u001b[0m\u001b[0;34m]\u001b[0m\u001b[0;34m\u001b[0m\u001b[0m\n\u001b[1;32m      2\u001b[0m \u001b[0;34m\u001b[0m\u001b[0m\n\u001b[0;32m----> 3\u001b[0;31m \u001b[0;32mfor\u001b[0m \u001b[0msub\u001b[0m \u001b[0;32min\u001b[0m \u001b[0mcombine\u001b[0m\u001b[0;34m[\u001b[0m\u001b[0;34m'Subject'\u001b[0m\u001b[0;34m]\u001b[0m\u001b[0;34m.\u001b[0m\u001b[0munique\u001b[0m\u001b[0;34m(\u001b[0m\u001b[0;34m)\u001b[0m\u001b[0;34m:\u001b[0m\u001b[0;34m\u001b[0m\u001b[0m\n\u001b[0m\u001b[1;32m      4\u001b[0m     \u001b[0mprint\u001b[0m\u001b[0;34m(\u001b[0m\u001b[0msub\u001b[0m\u001b[0;34m)\u001b[0m\u001b[0;34m\u001b[0m\u001b[0m\n\u001b[1;32m      5\u001b[0m     \u001b[0mname_str\u001b[0m \u001b[0;34m=\u001b[0m \u001b[0;34m'subject_'\u001b[0m \u001b[0;34m+\u001b[0m \u001b[0mstr\u001b[0m\u001b[0;34m(\u001b[0m\u001b[0msub\u001b[0m\u001b[0;34m)\u001b[0m\u001b[0;34m\u001b[0m\u001b[0m\n",
      "\u001b[0;31mNameError\u001b[0m: name 'combine' is not defined"
     ]
    }
   ],
   "source": [
    "subs = []\n",
    "\n",
    "for sub in combine['Subject'].unique():\n",
    "    print(sub)\n",
    "    name_str = 'subject_' + str(sub)\n",
    "    subs.append(add_gaze(combine[combine['Subject']==sub]))\n",
    "    pickle.dump(sub, open(name_str, \"wb\" ))\n",
    "    \n",
    "pickle.dump(subs, open(\"subs_real1.p\", \"wb\" ))"
   ]
  },
  {
   "cell_type": "code",
   "execution_count": null,
   "metadata": {},
   "outputs": [],
   "source": []
  },
  {
   "cell_type": "markdown",
   "metadata": {},
   "source": [
    "# Add Gaze Function"
   ]
  },
  {
   "cell_type": "code",
   "execution_count": null,
   "metadata": {},
   "outputs": [],
   "source": []
  },
  {
   "cell_type": "code",
   "execution_count": 82,
   "metadata": {},
   "outputs": [],
   "source": [
    "#def add_gaze(df):\n",
    "def add_side(df):\n",
    "    '''\n",
    "    input: df containing pres and mem from single run\n",
    "    output: df with string in 'Attention Level' column in each Memory trial row\n",
    "    '''\n",
    "\n",
    "    for index,row in df.iterrows():\n",
    "        if row['Trial Type']=='Memory':\n",
    "            mem_image = row['Memory Image']\n",
    "            for cue in ['Cued ', 'Uncued ']:\n",
    "                for cat in ['Face', 'Place']:\n",
    "                    if df.loc[df[cue+cat] == mem_image].shape[0]!=0:\n",
    "                        df['av_x_coord'][index]=df.loc[df[cue+cat] == mem_image]['av_x_coord']  \n",
    "                        df['Cued Side'][index] = df.loc[df[cue+cat] == mem_image]['Cued Side'].item()  \n",
    "\n",
    "    mem_mask = df['Trial Type']=='Memory'\n",
    "    df.loc[mem_mask,'av_x_coord'] = df.loc[mem_mask,'av_x_coord'].fillna(np.nan)\n",
    "\n",
    "    return(df)"
   ]
  },
  {
   "cell_type": "code",
   "execution_count": 83,
   "metadata": {},
   "outputs": [],
   "source": [
    "# total=[]\n",
    "\n",
    "# for s in full['Subject'].unique():\n",
    "#     print(s)\n",
    "    \n",
    "#     for r in full['Run'].unique():\n",
    "#         #print(r)\n",
    "        \n",
    "#         total.append(add_side(full[(full['Subject']==s) & (full['Run']==r)]))"
   ]
  },
  {
   "cell_type": "code",
   "execution_count": 84,
   "metadata": {},
   "outputs": [],
   "source": [
    "# total = pd.concat(total)"
   ]
  },
  {
   "cell_type": "code",
   "execution_count": 85,
   "metadata": {},
   "outputs": [],
   "source": [
    "#total['Cued Side']"
   ]
  },
  {
   "cell_type": "code",
   "execution_count": 86,
   "metadata": {},
   "outputs": [],
   "source": [
    "# total['Subject'].unique()\n",
    "# df['Cued Side'][index] = df.loc[df[cue+cat] == mem_image]['Cued Side']"
   ]
  },
  {
   "cell_type": "code",
   "execution_count": 87,
   "metadata": {},
   "outputs": [],
   "source": [
    "# everything on the right is okay\n",
    "\n",
    "# everything on the left nees a switch\n",
    "\n",
    "total.loc[total['Cued Side']=='<','scaled_x_coord'] = abs(total[total['Cued Side']=='<']['scaled_x_coord'])\n",
    "total.loc[total['Attention Level']=='Category','scaled_x_coord'] = -total[total['Attention Level']=='Category']['scaled_x_coord']\n",
    "total.loc[total['Attention Level']=='None','scaled_x_coord'] = -total[total['Attention Level']=='None']['scaled_x_coord']"
   ]
  },
  {
   "cell_type": "code",
   "execution_count": 88,
   "metadata": {},
   "outputs": [],
   "source": [
    "total = pd.DataFrame.from_csv('data_with_correct_scaled_gaze.csv')"
   ]
  },
  {
   "cell_type": "code",
   "execution_count": 89,
   "metadata": {},
   "outputs": [
    {
     "data": {
      "text/html": [
       "<div>\n",
       "<style scoped>\n",
       "    .dataframe tbody tr th:only-of-type {\n",
       "        vertical-align: middle;\n",
       "    }\n",
       "\n",
       "    .dataframe tbody tr th {\n",
       "        vertical-align: top;\n",
       "    }\n",
       "\n",
       "    .dataframe thead th {\n",
       "        text-align: right;\n",
       "    }\n",
       "</style>\n",
       "<table border=\"1\" class=\"dataframe\">\n",
       "  <thead>\n",
       "    <tr style=\"text-align: right;\">\n",
       "      <th></th>\n",
       "      <th>Subject</th>\n",
       "      <th>Attention Level</th>\n",
       "      <th>Familiarity Rating</th>\n",
       "      <th>Attention Button</th>\n",
       "      <th>Attention Reaction Time (s)</th>\n",
       "      <th>Cue Validity</th>\n",
       "      <th>Familiarity Reaction Time (s)</th>\n",
       "      <th>Post Invalid Cue</th>\n",
       "      <th>Pre Invalid Cue</th>\n",
       "      <th>Rating History</th>\n",
       "      <th>...</th>\n",
       "      <th>fix</th>\n",
       "      <th>state</th>\n",
       "      <th>time</th>\n",
       "      <th>timestamp</th>\n",
       "      <th>xRaw_lefteye</th>\n",
       "      <th>xRaw_righteye</th>\n",
       "      <th>yRaw_lefteye</th>\n",
       "      <th>yRaw_righteye</th>\n",
       "      <th>FamiliarityRating</th>\n",
       "      <th>scaled_x_coord</th>\n",
       "    </tr>\n",
       "  </thead>\n",
       "  <tbody>\n",
       "    <tr>\n",
       "      <th>0</th>\n",
       "      <td>0.0</td>\n",
       "      <td>Category</td>\n",
       "      <td>1.0</td>\n",
       "      <td>NaN</td>\n",
       "      <td>NaN</td>\n",
       "      <td>NaN</td>\n",
       "      <td>1.103636</td>\n",
       "      <td>NaN</td>\n",
       "      <td>NaN</td>\n",
       "      <td>NaN</td>\n",
       "      <td>...</td>\n",
       "      <td>NaN</td>\n",
       "      <td>NaN</td>\n",
       "      <td>NaN</td>\n",
       "      <td>NaN</td>\n",
       "      <td>NaN</td>\n",
       "      <td>NaN</td>\n",
       "      <td>NaN</td>\n",
       "      <td>NaN</td>\n",
       "      <td>1.0</td>\n",
       "      <td>-0.009935</td>\n",
       "    </tr>\n",
       "    <tr>\n",
       "      <th>1</th>\n",
       "      <td>0.0</td>\n",
       "      <td>Category</td>\n",
       "      <td>2.0</td>\n",
       "      <td>NaN</td>\n",
       "      <td>NaN</td>\n",
       "      <td>NaN</td>\n",
       "      <td>1.613727</td>\n",
       "      <td>NaN</td>\n",
       "      <td>NaN</td>\n",
       "      <td>NaN</td>\n",
       "      <td>...</td>\n",
       "      <td>NaN</td>\n",
       "      <td>NaN</td>\n",
       "      <td>NaN</td>\n",
       "      <td>NaN</td>\n",
       "      <td>NaN</td>\n",
       "      <td>NaN</td>\n",
       "      <td>NaN</td>\n",
       "      <td>NaN</td>\n",
       "      <td>2.0</td>\n",
       "      <td>-0.013504</td>\n",
       "    </tr>\n",
       "    <tr>\n",
       "      <th>2</th>\n",
       "      <td>0.0</td>\n",
       "      <td>Category</td>\n",
       "      <td>3.0</td>\n",
       "      <td>NaN</td>\n",
       "      <td>NaN</td>\n",
       "      <td>NaN</td>\n",
       "      <td>1.487000</td>\n",
       "      <td>NaN</td>\n",
       "      <td>NaN</td>\n",
       "      <td>NaN</td>\n",
       "      <td>...</td>\n",
       "      <td>NaN</td>\n",
       "      <td>NaN</td>\n",
       "      <td>NaN</td>\n",
       "      <td>NaN</td>\n",
       "      <td>NaN</td>\n",
       "      <td>NaN</td>\n",
       "      <td>NaN</td>\n",
       "      <td>NaN</td>\n",
       "      <td>3.0</td>\n",
       "      <td>-0.021296</td>\n",
       "    </tr>\n",
       "    <tr>\n",
       "      <th>3</th>\n",
       "      <td>0.0</td>\n",
       "      <td>Category</td>\n",
       "      <td>4.0</td>\n",
       "      <td>NaN</td>\n",
       "      <td>NaN</td>\n",
       "      <td>NaN</td>\n",
       "      <td>1.250833</td>\n",
       "      <td>NaN</td>\n",
       "      <td>NaN</td>\n",
       "      <td>NaN</td>\n",
       "      <td>...</td>\n",
       "      <td>NaN</td>\n",
       "      <td>NaN</td>\n",
       "      <td>NaN</td>\n",
       "      <td>NaN</td>\n",
       "      <td>NaN</td>\n",
       "      <td>NaN</td>\n",
       "      <td>NaN</td>\n",
       "      <td>NaN</td>\n",
       "      <td>4.0</td>\n",
       "      <td>-0.003771</td>\n",
       "    </tr>\n",
       "    <tr>\n",
       "      <th>4</th>\n",
       "      <td>0.0</td>\n",
       "      <td>Full</td>\n",
       "      <td>1.0</td>\n",
       "      <td>NaN</td>\n",
       "      <td>NaN</td>\n",
       "      <td>NaN</td>\n",
       "      <td>1.227889</td>\n",
       "      <td>NaN</td>\n",
       "      <td>NaN</td>\n",
       "      <td>NaN</td>\n",
       "      <td>...</td>\n",
       "      <td>NaN</td>\n",
       "      <td>NaN</td>\n",
       "      <td>NaN</td>\n",
       "      <td>NaN</td>\n",
       "      <td>NaN</td>\n",
       "      <td>NaN</td>\n",
       "      <td>NaN</td>\n",
       "      <td>NaN</td>\n",
       "      <td>1.0</td>\n",
       "      <td>0.006154</td>\n",
       "    </tr>\n",
       "  </tbody>\n",
       "</table>\n",
       "<p>5 rows × 27 columns</p>\n",
       "</div>"
      ],
      "text/plain": [
       "   Subject Attention Level  Familiarity Rating  Attention Button  \\\n",
       "0      0.0        Category                 1.0               NaN   \n",
       "1      0.0        Category                 2.0               NaN   \n",
       "2      0.0        Category                 3.0               NaN   \n",
       "3      0.0        Category                 4.0               NaN   \n",
       "4      0.0            Full                 1.0               NaN   \n",
       "\n",
       "   Attention Reaction Time (s)  Cue Validity  Familiarity Reaction Time (s)  \\\n",
       "0                          NaN           NaN                       1.103636   \n",
       "1                          NaN           NaN                       1.613727   \n",
       "2                          NaN           NaN                       1.487000   \n",
       "3                          NaN           NaN                       1.250833   \n",
       "4                          NaN           NaN                       1.227889   \n",
       "\n",
       "   Post Invalid Cue  Pre Invalid Cue  Rating History       ...        fix  \\\n",
       "0               NaN              NaN             NaN       ...        NaN   \n",
       "1               NaN              NaN             NaN       ...        NaN   \n",
       "2               NaN              NaN             NaN       ...        NaN   \n",
       "3               NaN              NaN             NaN       ...        NaN   \n",
       "4               NaN              NaN             NaN       ...        NaN   \n",
       "\n",
       "   state  time  timestamp  xRaw_lefteye  xRaw_righteye  yRaw_lefteye  \\\n",
       "0    NaN   NaN        NaN           NaN            NaN           NaN   \n",
       "1    NaN   NaN        NaN           NaN            NaN           NaN   \n",
       "2    NaN   NaN        NaN           NaN            NaN           NaN   \n",
       "3    NaN   NaN        NaN           NaN            NaN           NaN   \n",
       "4    NaN   NaN        NaN           NaN            NaN           NaN   \n",
       "\n",
       "   yRaw_righteye  FamiliarityRating  scaled_x_coord  \n",
       "0            NaN                1.0       -0.009935  \n",
       "1            NaN                2.0       -0.013504  \n",
       "2            NaN                3.0       -0.021296  \n",
       "3            NaN                4.0       -0.003771  \n",
       "4            NaN                1.0        0.006154  \n",
       "\n",
       "[5 rows x 27 columns]"
      ]
     },
     "execution_count": 89,
     "metadata": {},
     "output_type": "execute_result"
    }
   ],
   "source": [
    "total_g = total.groupby(['Subject','Attention Level', 'Familiarity Rating'],as_index=False).mean()\n",
    "total_g.head()"
   ]
  },
  {
   "cell_type": "code",
   "execution_count": 90,
   "metadata": {},
   "outputs": [],
   "source": [
    "sb.set_style('white')\n",
    "\n",
    "\n",
    "sb.set_style('white')\n",
    "\n",
    "\n",
    "f = sb.violinplot(x='Familiarity Rating', y='scaled_x_coord', \n",
    "              data=total_g[total_g['Attention Level']!='Novel'], hue='Attention Level')\n",
    "\n",
    "plt.grid(False)\n",
    "plt.rc('xtick', labelsize=20)\n",
    "plt.rc('ytick', labelsize=20)\n",
    "plt.xlabel('Familiarity Rating',    fontsize = 20)\n",
    "plt.ylabel('Horizontal Gaze Drift', fontsize = 20)\n",
    "f.set(ylim=(-1, 1))\n",
    "plt.savefig('av_x_gaze_exp2_mixy.pdf')\n",
    "\n",
    "\n"
   ]
  },
  {
   "cell_type": "code",
   "execution_count": 91,
   "metadata": {},
   "outputs": [
    {
     "data": {
      "text/plain": [
       "array([  0.,   1.,   2.,   3.,   4.,   5.,   7.,   8.,  10.,  12.,  13.,\n",
       "        14.,  15.,  16.,  17.,  18.,  19.,  20.,  21.,  22.,  23.,  24.,\n",
       "        25.,  26.,  27.,  28.,  29.,  33.,  34., 327.])"
      ]
     },
     "execution_count": 91,
     "metadata": {},
     "output_type": "execute_result"
    }
   ],
   "source": [
    "total_g['Subject'].unique()"
   ]
  },
  {
   "cell_type": "code",
   "execution_count": 92,
   "metadata": {},
   "outputs": [],
   "source": [
    "anova_dat = total_g.groupby(['Attention Level','Familiarity Rating','Subject'],as_index=False).mean()"
   ]
  },
  {
   "cell_type": "code",
   "execution_count": 104,
   "metadata": {},
   "outputs": [
    {
     "data": {
      "text/html": [
       "<div>\n",
       "<style scoped>\n",
       "    .dataframe tbody tr th:only-of-type {\n",
       "        vertical-align: middle;\n",
       "    }\n",
       "\n",
       "    .dataframe tbody tr th {\n",
       "        vertical-align: top;\n",
       "    }\n",
       "\n",
       "    .dataframe thead th {\n",
       "        text-align: right;\n",
       "    }\n",
       "</style>\n",
       "<table border=\"1\" class=\"dataframe\">\n",
       "  <thead>\n",
       "    <tr style=\"text-align: right;\">\n",
       "      <th></th>\n",
       "      <th>Source</th>\n",
       "      <th>SS</th>\n",
       "      <th>ddof1</th>\n",
       "      <th>ddof2</th>\n",
       "      <th>MS</th>\n",
       "      <th>F</th>\n",
       "      <th>p-unc</th>\n",
       "      <th>p-GG-corr</th>\n",
       "      <th>np2</th>\n",
       "      <th>eps</th>\n",
       "    </tr>\n",
       "  </thead>\n",
       "  <tbody>\n",
       "    <tr>\n",
       "      <th>0</th>\n",
       "      <td>Attention Level</td>\n",
       "      <td>88.042</td>\n",
       "      <td>3</td>\n",
       "      <td>81</td>\n",
       "      <td>29.347</td>\n",
       "      <td>1.811</td>\n",
       "      <td>0.15162</td>\n",
       "      <td>0.165856</td>\n",
       "      <td>0.063</td>\n",
       "      <td>0.779</td>\n",
       "    </tr>\n",
       "    <tr>\n",
       "      <th>1</th>\n",
       "      <td>scaled_x_coord</td>\n",
       "      <td>57938.502</td>\n",
       "      <td>421</td>\n",
       "      <td>11367</td>\n",
       "      <td>137.621</td>\n",
       "      <td>-27.768</td>\n",
       "      <td>1.00000</td>\n",
       "      <td>NaN</td>\n",
       "      <td>36.143</td>\n",
       "      <td>NaN</td>\n",
       "    </tr>\n",
       "    <tr>\n",
       "      <th>2</th>\n",
       "      <td>Attention Level * scaled_x_coord</td>\n",
       "      <td>-43541.919</td>\n",
       "      <td>1263</td>\n",
       "      <td>34101</td>\n",
       "      <td>-34.475</td>\n",
       "      <td>-28.964</td>\n",
       "      <td>1.00000</td>\n",
       "      <td>NaN</td>\n",
       "      <td>14.749</td>\n",
       "      <td>NaN</td>\n",
       "    </tr>\n",
       "  </tbody>\n",
       "</table>\n",
       "</div>"
      ],
      "text/plain": [
       "                             Source         SS  ddof1  ddof2       MS       F  \\\n",
       "0                   Attention Level     88.042      3     81   29.347   1.811   \n",
       "1                    scaled_x_coord  57938.502    421  11367  137.621 -27.768   \n",
       "2  Attention Level * scaled_x_coord -43541.919   1263  34101  -34.475 -28.964   \n",
       "\n",
       "     p-unc  p-GG-corr     np2    eps  \n",
       "0  0.15162   0.165856   0.063  0.779  \n",
       "1  1.00000        NaN  36.143    NaN  \n",
       "2  1.00000        NaN  14.749    NaN  "
      ]
     },
     "execution_count": 104,
     "metadata": {},
     "output_type": "execute_result"
    }
   ],
   "source": [
    "pingouin.rm_anova(dv='Familiarity Rating', within=['Attention Level', 'scaled_x_coord'], subject='Subject', \n",
    "                  data=anova_dat[anova_dat['Attention Level']!='Novel'])"
   ]
  },
  {
   "cell_type": "markdown",
   "metadata": {},
   "source": [
    "# Regression"
   ]
  },
  {
   "cell_type": "code",
   "execution_count": 105,
   "metadata": {},
   "outputs": [],
   "source": [
    "total.loc[total['Attention Level']=='Novel','scaled_x_coord']=0\n",
    "#total[total['Attention Level']=='Novel']['scaled_x_coord']"
   ]
  },
  {
   "cell_type": "code",
   "execution_count": 106,
   "metadata": {},
   "outputs": [
    {
     "name": "stdout",
     "output_type": "stream",
     "text": [
      "8.0\n",
      "15.0\n",
      "1.0\n",
      "25.0\n",
      "12.0\n",
      "4.0\n",
      "28.0\n",
      "19.0\n",
      "21.0\n",
      "33.0\n",
      "7.0\n",
      "26.0\n",
      "14.0\n",
      "2.0\n",
      "16.0\n",
      "27.0\n",
      "23.0\n",
      "18.0\n",
      "29.0\n",
      "13.0\n",
      "5.0\n",
      "24.0\n",
      "0.0\n",
      "34.0\n",
      "22.0\n",
      "17.0\n",
      "3.0\n",
      "10.0\n",
      "20.0\n"
     ]
    }
   ],
   "source": [
    "total['FamiliarityRating'] = total['Familiarity Rating']\n",
    "d = []\n",
    "\n",
    "for subject in total['Subject'].unique()[:-1]: \n",
    "    print(subject)\n",
    "    \n",
    "    sub  = []\n",
    "    data = total[(total['Subject']==subject) & (total['Trial Type']=='Memory') ]\n",
    "    reg  = smf.ols(formula = \"FamiliarityRating ~ scaled_x_coord\", data = data).fit()\n",
    "    data = data.reset_index()\n",
    "    d.append(pd.concat([data, pd.DataFrame({'gaze_resid':reg.resid})], axis=1, sort=False))\n",
    "    \n",
    "gaze_reg = pd.concat(d)"
   ]
  },
  {
   "cell_type": "code",
   "execution_count": 107,
   "metadata": {},
   "outputs": [],
   "source": [
    "# total['FamiliarityRating'] = total['Familiarity Rating']\n",
    "# d=[]\n",
    "\n",
    "# for subject in total['Subject'].unique(): \n",
    "#     sub=[]\n",
    "#     data = total[total['Subject']==subject]\n",
    "#     reg = smf.ols(formula = \"FamiliarityRating ~ scaled_x_coord\", data = data).fit()\n",
    "#     data = data.reset_index()\n",
    "#     d.append(pd.concat([data, pd.DataFrame({'gaze_resid':reg.resid})], axis=1, sort=False))\n",
    "    \n",
    "# gaze_reg = pd.concat(d)"
   ]
  },
  {
   "cell_type": "code",
   "execution_count": 108,
   "metadata": {},
   "outputs": [],
   "source": [
    "missing_sub = add_side(eye_behav_full[eye_behav_full['Subject']==327])"
   ]
  },
  {
   "cell_type": "markdown",
   "metadata": {},
   "source": [
    "# Load Data"
   ]
  },
  {
   "cell_type": "code",
   "execution_count": 109,
   "metadata": {},
   "outputs": [],
   "source": [
    "full = pd.DataFrame.from_csv('av_x_coord_in_mem_trials.csv')"
   ]
  },
  {
   "cell_type": "code",
   "execution_count": 110,
   "metadata": {},
   "outputs": [],
   "source": [
    "total = pd.concat([total[total['Subject']!=327], missing_sub])"
   ]
  },
  {
   "cell_type": "code",
   "execution_count": 111,
   "metadata": {},
   "outputs": [],
   "source": [
    "# full['scaled_x_coord'] = (full['av_x_coord'] - (59.8/2))/(59.8/2)"
   ]
  },
  {
   "cell_type": "code",
   "execution_count": 112,
   "metadata": {},
   "outputs": [
    {
     "ename": "SyntaxError",
     "evalue": "unexpected EOF while parsing (<ipython-input-112-84ff75edd88d>, line 25)",
     "output_type": "error",
     "traceback": [
      "\u001b[0;36m  File \u001b[0;32m\"<ipython-input-112-84ff75edd88d>\"\u001b[0;36m, line \u001b[0;32m25\u001b[0m\n\u001b[0;31m    #.          if attn level Cat or None -->\u001b[0m\n\u001b[0m                                              ^\u001b[0m\n\u001b[0;31mSyntaxError\u001b[0m\u001b[0;31m:\u001b[0m unexpected EOF while parsing\n"
     ]
    }
   ],
   "source": [
    "for sub in full['Subject'].unique():\n",
    "    \n",
    "    for r in full['Run'].unique():\n",
    "        \n",
    "        dat = full[(full['Subject']==s) & full[(full['Run']==r)]]\n",
    "        mem_dat  = dat[dat['Trial Type']=='Memory']\n",
    "        pres_dat = dat[dat['Trial Type']=='Presentation']\n",
    "        \n",
    "        for row in mem_dat.iterrows():\n",
    "            \n",
    "             \n",
    "             \n",
    "             \n",
    "             \n",
    "    # for every memory image\n",
    "\n",
    "    # look at cued side during presentation\n",
    "    \n",
    "    \n",
    "    \n",
    "    # if cued side == '<' \n",
    "    #       if av_x_coord < 0\n",
    "    #           if attn level Full or SIde --> abs val (x coord)\n",
    "    #.      if av_x_coord > 0\n",
    "    #.          if attn level Cat or None --> "
   ]
  },
  {
   "cell_type": "code",
   "execution_count": null,
   "metadata": {},
   "outputs": [],
   "source": [
    "# full['scaled_x_coord']"
   ]
  },
  {
   "cell_type": "markdown",
   "metadata": {},
   "source": [
    "# Gaze ANOVA"
   ]
  },
  {
   "cell_type": "code",
   "execution_count": null,
   "metadata": {},
   "outputs": [],
   "source": [
    "attn_group = full.groupby(['Subject','Attention Level'], as_index=False).mean()"
   ]
  },
  {
   "cell_type": "code",
   "execution_count": null,
   "metadata": {},
   "outputs": [],
   "source": [
    "# ORGANIZE DATA\n",
    "pingouin.rm_anova(dv='Familiarity Rating', within=['Attention Level', 'scaled_x_coord'], subject='Subject', \n",
    "                  data=attn_group[attn_group['Attention Level']!='Novel'])"
   ]
  },
  {
   "cell_type": "code",
   "execution_count": null,
   "metadata": {},
   "outputs": [],
   "source": [
    "attn_group.head()"
   ]
  },
  {
   "cell_type": "code",
   "execution_count": null,
   "metadata": {},
   "outputs": [],
   "source": [
    "pingouin.rm_anova(dv='Adjusted', within=['Attention Level'], subject='Subject', data=reg_attn_group)"
   ]
  },
  {
   "cell_type": "markdown",
   "metadata": {},
   "source": [
    "## Gaze Regression - issue: what is wrong with last subject ??"
   ]
  },
  {
   "cell_type": "markdown",
   "metadata": {},
   "source": [
    "### obtain residuals"
   ]
  },
  {
   "cell_type": "code",
   "execution_count": null,
   "metadata": {},
   "outputs": [],
   "source": [
    "# full[full['Subject']==327]"
   ]
  },
  {
   "cell_type": "code",
   "execution_count": null,
   "metadata": {},
   "outputs": [],
   "source": [
    "full['Subject'].unique()#[0:-1]\n",
    "\n",
    "full=total"
   ]
  },
  {
   "cell_type": "code",
   "execution_count": null,
   "metadata": {},
   "outputs": [],
   "source": [
    "full['FamiliarityRating'] = full['Familiarity Rating']\n",
    "d=[]\n",
    "\n",
    "for subject in full['Subject'].unique()[:-1]: \n",
    "    sub=[]\n",
    "    data = full[full['Subject']==subject]\n",
    "    reg = smf.ols(formula = \"FamiliarityRating ~ scaled_x_coord\", data = data).fit()\n",
    "    data = data.reset_index()\n",
    "    d.append(pd.concat([data, pd.DataFrame({'gaze_resid':reg.resid})], axis=1, sort=False))\n",
    "    \n",
    "gaze_reg = pd.concat(d)"
   ]
  },
  {
   "cell_type": "markdown",
   "metadata": {},
   "source": [
    "### subtract residuals, group data"
   ]
  },
  {
   "cell_type": "code",
   "execution_count": null,
   "metadata": {},
   "outputs": [],
   "source": [
    "# gaze_reg['gaze_resid']"
   ]
  },
  {
   "cell_type": "code",
   "execution_count": null,
   "metadata": {},
   "outputs": [],
   "source": [
    "gaze_reg['Adjusted'] = gaze_reg['Familiarity Rating']-gaze_reg['gaze_resid']\n",
    "\n",
    "reg_attn_group = gaze_reg.groupby(['Subject','Attention Level'],as_index=False).mean()\n",
    "reg_cat_group  = gaze_reg.groupby(['Subject','Attention Level','Category'],as_index=False).mean()\n",
    "face  = reg_cat_group[reg_cat_group['Category']=='Face']\n",
    "place = reg_cat_group[reg_cat_group['Category']=='Place']"
   ]
  },
  {
   "cell_type": "markdown",
   "metadata": {},
   "source": [
    "## Plot Adjust Scores (Full)"
   ]
  },
  {
   "cell_type": "markdown",
   "metadata": {},
   "source": [
    "### plot params"
   ]
  },
  {
   "cell_type": "code",
   "execution_count": null,
   "metadata": {},
   "outputs": [],
   "source": [
    "x='Attention Level'; y='Adjusted'; order=['Full','Side','Category','None','Novel']"
   ]
  },
  {
   "cell_type": "code",
   "execution_count": null,
   "metadata": {},
   "outputs": [],
   "source": [
    "# total.groupby(['Subject'],as_index=False).mean()['scaled_x_coord']"
   ]
  },
  {
   "cell_type": "code",
   "execution_count": null,
   "metadata": {},
   "outputs": [],
   "source": [
    "l"
   ]
  },
  {
   "cell_type": "code",
   "execution_count": null,
   "metadata": {},
   "outputs": [],
   "source": [
    "from itertools import combinations\n",
    "\n",
    "ax = sb.violinplot(x=x, y=y, data=reg_attn_group, order=order)\n",
    "\n",
    "pair = combinations(reg_attn_group['Attention Level'].unique(),2) \n",
    "l = [i for i in pair]\n",
    "\n",
    "\n",
    "# ax = sb.barplot(x=x, y=y, data=data, order=['Full','Side','Category','None','Novel'])        \n",
    "\n",
    "add_stat_annotation(ax, data=reg_attn_group, x=x, y=y, order=['Full','Side','Category','None','Novel'], \n",
    "                    boxPairList=l, test='t-test_paired', textFormat='star', loc='outside', verbose=2)"
   ]
  },
  {
   "cell_type": "code",
   "execution_count": null,
   "metadata": {},
   "outputs": [],
   "source": [
    "reg_attn_group.groupby(['Attention Level']).mean()['Adjusted']"
   ]
  },
  {
   "cell_type": "code",
   "execution_count": null,
   "metadata": {},
   "outputs": [],
   "source": [
    "pingouin.rm_anova(dv='Adjusted', within=['Attention Level'], subject='Subject', \n",
    "                  data=reg_attn_group[reg_attn_group['Attention Level']!='Novel'])"
   ]
  },
  {
   "cell_type": "markdown",
   "metadata": {},
   "source": [
    "## Plot Adjusted Scores (Face)"
   ]
  },
  {
   "cell_type": "code",
   "execution_count": null,
   "metadata": {
    "scrolled": true
   },
   "outputs": [],
   "source": [
    "# from itertools import combinations\n",
    "# from statannot import add_stat_annotation\n",
    "\n",
    "# pair = combinations(groupy['Attention Level'].unique(),2) \n",
    "# l = [i for i in pair]\n",
    "\n",
    "# ax = sb.barplot(x=x, y=y, data=data, order=['Full','Side','Category','None','Novel'])        \n",
    "\n",
    "# add_stat_annotation(ax, data=face, x=x, y=y, order=['Full','Side','Category','None'], \n",
    "#                    boxPairList=l, test='t-test_paired', textFormat='star', loc='outside', verbose=2)"
   ]
  },
  {
   "cell_type": "code",
   "execution_count": null,
   "metadata": {},
   "outputs": [],
   "source": [
    "sb.barplot(x=x, y=y, data=face, order=order)\n",
    "plt.show()\n"
   ]
  },
  {
   "cell_type": "markdown",
   "metadata": {},
   "source": [
    "## Plot Adjusted Scores (Place)"
   ]
  },
  {
   "cell_type": "code",
   "execution_count": null,
   "metadata": {},
   "outputs": [],
   "source": [
    "sb.barplot(x=x, y=y, data=place, order=order)"
   ]
  },
  {
   "cell_type": "code",
   "execution_count": null,
   "metadata": {},
   "outputs": [],
   "source": [
    "import scipy \n",
    "\n",
    "pair = combinations(groupy_face['Attention Level'].unique(),2) \n",
    "   \n",
    "for i in list(pair): \n",
    "    print(i)\n",
    "    p = scipy.stats.ttest_rel(groupy_face[groupy_face['Attention Level']==i[0]]['Adjusted'], \n",
    "                          groupy_face[groupy_face['Attention Level']==i[1]]['Adjusted'])\n",
    "    print(p)\n",
    "    print(' ')"
   ]
  },
  {
   "cell_type": "code",
   "execution_count": null,
   "metadata": {},
   "outputs": [],
   "source": [
    "sb.barplot(x='Attention Level',y='Familiarity Rating', \n",
    "              data=groupy_face, order=['Full','Side','Category','None','Novel'])"
   ]
  },
  {
   "cell_type": "code",
   "execution_count": null,
   "metadata": {},
   "outputs": [],
   "source": [
    "sb.barplot(x='Attention Level',y='Adjusted', \n",
    "              data=groupy_face, order=['Full','Side','Category','None','Novel'])"
   ]
  },
  {
   "cell_type": "code",
   "execution_count": null,
   "metadata": {},
   "outputs": [],
   "source": [
    "sb.barplot(x='Attention Level',y='Familiarity Rating', order=['Full','Side','Category','Novel','None'],\n",
    "              data=groupy_place)"
   ]
  },
  {
   "cell_type": "code",
   "execution_count": null,
   "metadata": {},
   "outputs": [],
   "source": [
    "sb.barplot(x='Attention Level',y='Adjusted', \n",
    "              data=groupy_place, order=['Full','Side','Category','None','Novel'])"
   ]
  },
  {
   "cell_type": "code",
   "execution_count": null,
   "metadata": {},
   "outputs": [],
   "source": [
    "sb.barplot(x='Attention Level',y='Adjusted', \n",
    "              data=groupy_face)"
   ]
  },
  {
   "cell_type": "code",
   "execution_count": null,
   "metadata": {},
   "outputs": [],
   "source": [
    "pingouin.rm_anova(dv='Adjusted', within=['Attention Level'], subject='Subject', data=gaze_reg.groupby(['Subject','Attention Level'],as_index=False).mean())"
   ]
  },
  {
   "cell_type": "code",
   "execution_count": null,
   "metadata": {},
   "outputs": [],
   "source": [
    "import scipy.stats as stats\n",
    "\n",
    "data=gaze_reg.groupby(['Subject','Attention Level'],as_index=False).mean()\n",
    "\n",
    "stats.ttest_rel(data[data['Attention Level']=='Category']['Adjusted'], \n",
    "                data[data['Attention Level']=='None']['Adjusted'])"
   ]
  },
  {
   "cell_type": "code",
   "execution_count": null,
   "metadata": {},
   "outputs": [],
   "source": []
  },
  {
   "cell_type": "code",
   "execution_count": null,
   "metadata": {},
   "outputs": [],
   "source": []
  },
  {
   "cell_type": "code",
   "execution_count": null,
   "metadata": {},
   "outputs": [],
   "source": []
  }
 ],
 "metadata": {
  "kernelspec": {
   "display_name": "Python 3",
   "language": "python",
   "name": "python3"
  },
  "language_info": {
   "codemirror_mode": {
    "name": "ipython",
    "version": 3
   },
   "file_extension": ".py",
   "mimetype": "text/x-python",
   "name": "python",
   "nbconvert_exporter": "python",
   "pygments_lexer": "ipython3",
   "version": "3.6.4"
  }
 },
 "nbformat": 4,
 "nbformat_minor": 2
}
