{
 "cells": [
  {
   "cell_type": "markdown",
   "metadata": {},
   "source": [
    "# Figures for Experiment 1 "
   ]
  },
  {
   "cell_type": "markdown",
   "metadata": {},
   "source": [
    "This notebook generates all figures and analyses for Experiment 1."
   ]
  },
  {
   "cell_type": "markdown",
   "metadata": {},
   "source": [
    "### Imports"
   ]
  },
  {
   "cell_type": "code",
   "execution_count": 2,
   "metadata": {},
   "outputs": [],
   "source": [
    "import pandas as pd; import os; import pickle; import numpy as np\n",
    "import seaborn as sb; from analysis_helpers import *; import warnings\n",
    "import scipy.stats as stats; import itertools; from matplotlib import pyplot as plt; import ast\n",
    "import json; import re; from datetime import datetime; import time\n",
    "import hypertools as hyp; import numpy as np; import seaborn as sb\n",
    "import statsmodels.api as sm; import statsmodels.formula.api as smf\n",
    "import pingouin\n",
    "%matplotlib inline\n",
    "warnings.filterwarnings('ignore')"
   ]
  },
  {
   "cell_type": "markdown",
   "metadata": {},
   "source": [
    "### Load Data"
   ]
  },
  {
   "cell_type": "code",
   "execution_count": 3,
   "metadata": {},
   "outputs": [],
   "source": [
    "with open(\"/Users/kirstenziman/Documents/github/attention-memory-task/figures/behavioral_data.pkl\",'rb') as fp:\n",
    "    combo = pickle.load(fp)\n",
    "with open(\"/Users/kirstenziman/Documents/pickles_orig/ROC_df.pkl\",'rb') as fp:\n",
    "    ROC_df = pickle.load(fp)\n",
    "with open(\"/Users/kirstenziman/Documents/github/attention-memory-task/behavioral.pkl\",'rb') as fp:\n",
    "    behav_df = pickle.load(fp)\n",
    "reg = pd.DataFrame.from_csv('gaze_reg_exp1_no_novel_subtraction.csv')"
   ]
  },
  {
   "cell_type": "markdown",
   "metadata": {},
   "source": [
    "### Calculate Differences (from Novel)"
   ]
  },
  {
   "cell_type": "markdown",
   "metadata": {},
   "source": [
    "##### Organize the data"
   ]
  },
  {
   "cell_type": "code",
   "execution_count": 4,
   "metadata": {},
   "outputs": [],
   "source": [
    "sub_split = combo.groupby(['Subject','Attention Level', 'Cued Category', 'Category'],as_index=False)['Familiarity Rating'].mean()"
   ]
  },
  {
   "cell_type": "code",
   "execution_count": 5,
   "metadata": {},
   "outputs": [],
   "source": [
    "for sub in combo['Subject'].unique():\n",
    "    #if sub != 6:\n",
    "    for run in combo['Run'].unique():\n",
    "        combo.ix[(combo['Subject']==sub) & \n",
    "                   (combo['Run']==run) & \n",
    "                   (combo['Trial Type']=='Presentation')\n",
    "                  ,'Trial']=[0.0,1.0,2.0,3.0,4.0,5.0,6.0,7.0,8.0,9.0]"
   ]
  },
  {
   "cell_type": "code",
   "execution_count": 6,
   "metadata": {},
   "outputs": [
    {
     "data": {
      "text/html": [
       "<div>\n",
       "<style scoped>\n",
       "    .dataframe tbody tr th:only-of-type {\n",
       "        vertical-align: middle;\n",
       "    }\n",
       "\n",
       "    .dataframe tbody tr th {\n",
       "        vertical-align: top;\n",
       "    }\n",
       "\n",
       "    .dataframe thead th {\n",
       "        text-align: right;\n",
       "    }\n",
       "</style>\n",
       "<table border=\"1\" class=\"dataframe\">\n",
       "  <thead>\n",
       "    <tr style=\"text-align: right;\">\n",
       "      <th></th>\n",
       "      <th>Unnamed: 0</th>\n",
       "      <th>Subject</th>\n",
       "      <th>Trial Type</th>\n",
       "      <th>Run</th>\n",
       "      <th>Cued Composite</th>\n",
       "      <th>Uncued Composite</th>\n",
       "      <th>Cued Face</th>\n",
       "      <th>Cued Place</th>\n",
       "      <th>Uncued Face</th>\n",
       "      <th>Uncued Place</th>\n",
       "      <th>...</th>\n",
       "      <th>Attention Level</th>\n",
       "      <th>Cue Validity</th>\n",
       "      <th>Post Invalid Cue</th>\n",
       "      <th>Pre Invalid Cue</th>\n",
       "      <th>Attention Button</th>\n",
       "      <th>Rating History</th>\n",
       "      <th>Stimulus Onset</th>\n",
       "      <th>Stimulus End</th>\n",
       "      <th>Attention Probe</th>\n",
       "      <th>Trial</th>\n",
       "    </tr>\n",
       "  </thead>\n",
       "  <tbody>\n",
       "    <tr>\n",
       "      <th>0</th>\n",
       "      <td>150</td>\n",
       "      <td>10</td>\n",
       "      <td>Presentation</td>\n",
       "      <td>3</td>\n",
       "      <td>00926960627Fa_sunapqwoeotxshkukbh.jpg</td>\n",
       "      <td>00076931230fa_sunaafewhewbxmjiurz.jpg</td>\n",
       "      <td>00926960627Fa.jpg</td>\n",
       "      <td>sunapqwoeotxshkukbh.jpg</td>\n",
       "      <td>00076931230fa.jpg</td>\n",
       "      <td>sunaafewhewbxmjiurz.jpg</td>\n",
       "      <td>...</td>\n",
       "      <td>NaN</td>\n",
       "      <td>1.0</td>\n",
       "      <td>NaN</td>\n",
       "      <td>NaN</td>\n",
       "      <td>1.0</td>\n",
       "      <td>NaN</td>\n",
       "      <td>1.538592e+09</td>\n",
       "      <td>1.538592e+09</td>\n",
       "      <td>x</td>\n",
       "      <td>0.0</td>\n",
       "    </tr>\n",
       "    <tr>\n",
       "      <th>1</th>\n",
       "      <td>151</td>\n",
       "      <td>10</td>\n",
       "      <td>Presentation</td>\n",
       "      <td>3</td>\n",
       "      <td>00725941201fa_sunaefgzwiramypjvtd.jpg</td>\n",
       "      <td>00828940307fa_sunahuynahneraqftyz.jpg</td>\n",
       "      <td>00725941201fa.jpg</td>\n",
       "      <td>sunaefgzwiramypjvtd.jpg</td>\n",
       "      <td>00828940307fa.jpg</td>\n",
       "      <td>sunahuynahneraqftyz.jpg</td>\n",
       "      <td>...</td>\n",
       "      <td>NaN</td>\n",
       "      <td>0.0</td>\n",
       "      <td>NaN</td>\n",
       "      <td>NaN</td>\n",
       "      <td>3.0</td>\n",
       "      <td>NaN</td>\n",
       "      <td>1.538592e+09</td>\n",
       "      <td>1.538592e+09</td>\n",
       "      <td>o</td>\n",
       "      <td>1.0</td>\n",
       "    </tr>\n",
       "  </tbody>\n",
       "</table>\n",
       "<p>2 rows × 27 columns</p>\n",
       "</div>"
      ],
      "text/plain": [
       "   Unnamed: 0  Subject    Trial Type  Run  \\\n",
       "0         150       10  Presentation    3   \n",
       "1         151       10  Presentation    3   \n",
       "\n",
       "                          Cued Composite  \\\n",
       "0  00926960627Fa_sunapqwoeotxshkukbh.jpg   \n",
       "1  00725941201fa_sunaefgzwiramypjvtd.jpg   \n",
       "\n",
       "                        Uncued Composite          Cued Face  \\\n",
       "0  00076931230fa_sunaafewhewbxmjiurz.jpg  00926960627Fa.jpg   \n",
       "1  00828940307fa_sunahuynahneraqftyz.jpg  00725941201fa.jpg   \n",
       "\n",
       "                Cued Place        Uncued Face             Uncued Place  ...    \\\n",
       "0  sunapqwoeotxshkukbh.jpg  00076931230fa.jpg  sunaafewhewbxmjiurz.jpg  ...     \n",
       "1  sunaefgzwiramypjvtd.jpg  00828940307fa.jpg  sunahuynahneraqftyz.jpg  ...     \n",
       "\n",
       "  Attention Level Cue Validity Post Invalid Cue Pre Invalid Cue  \\\n",
       "0             NaN          1.0              NaN             NaN   \n",
       "1             NaN          0.0              NaN             NaN   \n",
       "\n",
       "   Attention Button  Rating History  Stimulus Onset  Stimulus End  \\\n",
       "0               1.0             NaN    1.538592e+09  1.538592e+09   \n",
       "1               3.0             NaN    1.538592e+09  1.538592e+09   \n",
       "\n",
       "   Attention Probe  Trial  \n",
       "0                x    0.0  \n",
       "1                o    1.0  \n",
       "\n",
       "[2 rows x 27 columns]"
      ]
     },
     "execution_count": 6,
     "metadata": {},
     "output_type": "execute_result"
    }
   ],
   "source": [
    "combo.head(n=2)"
   ]
  },
  {
   "cell_type": "code",
   "execution_count": 7,
   "metadata": {},
   "outputs": [],
   "source": [
    "behav_df['Subject'] = (behav_df['Subject']).astype(int)\n",
    "combo['Subject'] = (combo['Subject']).astype(int)\n",
    "behav_df['Run'] = (behav_df['Run']).astype(int)\n",
    "combo['Run'] = (combo['Run']).astype(int)\n",
    "behav_df['Trial'] = (behav_df['Trial']).astype(float)\n",
    "combo['Trial'] = (combo['Trial']).astype(float)"
   ]
  },
  {
   "cell_type": "code",
   "execution_count": 8,
   "metadata": {},
   "outputs": [],
   "source": [
    "behav_mean = behav_df.groupby(['Subject','Trial','Run'],as_index=False).mean()\n",
    "combo_mean = combo.groupby(['Subject','Trial','Run'],as_index=False).mean()"
   ]
  },
  {
   "cell_type": "code",
   "execution_count": 9,
   "metadata": {},
   "outputs": [],
   "source": [
    "combo_mean['av_x_coord']=np.nan\n",
    "\n",
    "for index,row in combo_mean.iterrows():\n",
    "    if behav_mean[(behav_mean['Subject']==row['Subject']) &\n",
    "                                  (behav_mean['Run']==row['Run']) &\n",
    "                                  (behav_mean['Trial']==row['Trial'])].shape[0]>0:\n",
    "    \n",
    "        combo_mean.loc[index,'av_x_coord'] = float(behav_mean[(behav_mean['Subject']==row['Subject']) &\n",
    "                                      (behav_mean['Run']==row['Run']) &\n",
    "                                      (behav_mean['Trial']==row['Trial'])]['av_x_coord'])"
   ]
  },
  {
   "cell_type": "markdown",
   "metadata": {},
   "source": [
    "# Obtain Raw Difference Scores"
   ]
  },
  {
   "cell_type": "code",
   "execution_count": 10,
   "metadata": {},
   "outputs": [],
   "source": [
    "#sub_split = combo.groupby(['Subject','Attention Level'],as_index=False)['Familiarity Rating'].mean()\n",
    "sub_split['Novs'] = 0.0\n",
    "sub_split['CuedCategory'] = sub_split['Cued Category']\n",
    "\n",
    "for x in sub_split['Subject'].unique():\n",
    "\n",
    "    k = sub_split[sub_split['Subject']==x]\n",
    "    novels = k[k['Attention Level']=='Novel']\n",
    "    \n",
    "    fp = ['Face','Place']\n",
    "    for pair in list(itertools.combinations_with_replacement(fp, r=2)):\n",
    "        \n",
    "        sub_split.loc[(sub_split.Subject == x) &(sub_split.CuedCategory == pair[0])&(sub_split.Category == pair[1]), 'Novs'] = float(novels[ (novels['Cued Category']==pair[0]) & (novels['Category']==pair[1]) ]['Familiarity Rating'])\n",
    "        sub_split.loc[(sub_split.Subject == x)&(sub_split.CuedCategory == pair[1])&(sub_split.Category == pair[0]), 'Novs'] = float(novels[ (novels['Cued Category']==pair[1]) & (novels['Category']==pair[0]) ]['Familiarity Rating'])\n",
    "\n",
    "\n",
    "        \n",
    "sub_split['Rating Differences'] = sub_split['Familiarity Rating']-sub_split['Novs']"
   ]
  },
  {
   "cell_type": "markdown",
   "metadata": {},
   "source": [
    "### Figure 3. Novel Familiarity, by Category & Cued Category"
   ]
  },
  {
   "cell_type": "code",
   "execution_count": 11,
   "metadata": {},
   "outputs": [
    {
     "data": {
      "text/plain": [
       "<matplotlib.axes._subplots.AxesSubplot at 0x122b14b38>"
      ]
     },
     "execution_count": 11,
     "metadata": {},
     "output_type": "execute_result"
    },
    {
     "data": {
      "image/png": "[encoded data removed]",
      "text/plain": [
       "<Figure size 432x288 with 1 Axes>"
      ]
     },
     "metadata": {},
     "output_type": "display_data"
    }
   ],
   "source": [
    "sb.violinplot(x='Cued Category', y='Familiarity Rating', hue='Category', split=True, data=sub_split)"
   ]
  },
  {
   "cell_type": "markdown",
   "metadata": {},
   "source": [
    "### Figure 5a. Difference Scores, by Category (Violin)"
   ]
  },
  {
   "cell_type": "code",
   "execution_count": 12,
   "metadata": {},
   "outputs": [
    {
     "data": {
      "image/png": "[encoded data removed]",
      "text/plain": [
       "<Figure size 432x288 with 1 Axes>"
      ]
     },
     "metadata": {},
     "output_type": "display_data"
    }
   ],
   "source": [
    "ax1 = sb.violinplot(x='Attention Level',y='Rating Differences',hue='Category', split=True, data=sub_split[sub_split['Attention Level']!='Novel'], \n",
    "                    order=['Full','Side', 'Category', 'None']) #, palette={\"Full\": \"blue\", \"None\": \"orange\", \"Category\":\"purple\",\"Side\":\"red\",\"Novel\":\"green\"})\n",
    "plt.ylim(-2.5, 2.5)\n",
    "plt.show()"
   ]
  },
  {
   "cell_type": "markdown",
   "metadata": {},
   "source": [
    "### ANOVA"
   ]
  },
  {
   "cell_type": "code",
   "execution_count": 13,
   "metadata": {},
   "outputs": [
    {
     "data": {
      "text/html": [
       "<div>\n",
       "<style scoped>\n",
       "    .dataframe tbody tr th:only-of-type {\n",
       "        vertical-align: middle;\n",
       "    }\n",
       "\n",
       "    .dataframe tbody tr th {\n",
       "        vertical-align: top;\n",
       "    }\n",
       "\n",
       "    .dataframe thead th {\n",
       "        text-align: right;\n",
       "    }\n",
       "</style>\n",
       "<table border=\"1\" class=\"dataframe\">\n",
       "  <thead>\n",
       "    <tr style=\"text-align: right;\">\n",
       "      <th></th>\n",
       "      <th></th>\n",
       "      <th>Subject</th>\n",
       "      <th>Familiarity Rating</th>\n",
       "      <th>Novs</th>\n",
       "      <th>Rating Differences</th>\n",
       "    </tr>\n",
       "    <tr>\n",
       "      <th>Category</th>\n",
       "      <th>Attention Level</th>\n",
       "      <th></th>\n",
       "      <th></th>\n",
       "      <th></th>\n",
       "      <th></th>\n",
       "    </tr>\n",
       "  </thead>\n",
       "  <tbody>\n",
       "    <tr>\n",
       "      <th rowspan=\"5\" valign=\"top\">Face</th>\n",
       "      <th>Category</th>\n",
       "      <td>18.7</td>\n",
       "      <td>2.007146</td>\n",
       "      <td>1.979581</td>\n",
       "      <td>0.027565</td>\n",
       "    </tr>\n",
       "    <tr>\n",
       "      <th>Full</th>\n",
       "      <td>18.7</td>\n",
       "      <td>2.239739</td>\n",
       "      <td>1.979581</td>\n",
       "      <td>0.260158</td>\n",
       "    </tr>\n",
       "    <tr>\n",
       "      <th>None</th>\n",
       "      <td>18.7</td>\n",
       "      <td>1.693343</td>\n",
       "      <td>1.674308</td>\n",
       "      <td>0.019035</td>\n",
       "    </tr>\n",
       "    <tr>\n",
       "      <th>Novel</th>\n",
       "      <td>18.7</td>\n",
       "      <td>1.826944</td>\n",
       "      <td>1.826944</td>\n",
       "      <td>0.000000</td>\n",
       "    </tr>\n",
       "    <tr>\n",
       "      <th>Side</th>\n",
       "      <td>18.7</td>\n",
       "      <td>1.783733</td>\n",
       "      <td>1.674308</td>\n",
       "      <td>0.109425</td>\n",
       "    </tr>\n",
       "    <tr>\n",
       "      <th rowspan=\"5\" valign=\"top\">Place</th>\n",
       "      <th>Category</th>\n",
       "      <td>18.7</td>\n",
       "      <td>2.050041</td>\n",
       "      <td>1.995711</td>\n",
       "      <td>0.054330</td>\n",
       "    </tr>\n",
       "    <tr>\n",
       "      <th>Full</th>\n",
       "      <td>18.7</td>\n",
       "      <td>2.696618</td>\n",
       "      <td>1.995711</td>\n",
       "      <td>0.700906</td>\n",
       "    </tr>\n",
       "    <tr>\n",
       "      <th>None</th>\n",
       "      <td>18.7</td>\n",
       "      <td>1.719056</td>\n",
       "      <td>1.707938</td>\n",
       "      <td>0.011118</td>\n",
       "    </tr>\n",
       "    <tr>\n",
       "      <th>Novel</th>\n",
       "      <td>18.7</td>\n",
       "      <td>1.851825</td>\n",
       "      <td>1.851825</td>\n",
       "      <td>0.000000</td>\n",
       "    </tr>\n",
       "    <tr>\n",
       "      <th>Side</th>\n",
       "      <td>18.7</td>\n",
       "      <td>1.958963</td>\n",
       "      <td>1.707938</td>\n",
       "      <td>0.251025</td>\n",
       "    </tr>\n",
       "  </tbody>\n",
       "</table>\n",
       "</div>"
      ],
      "text/plain": [
       "                          Subject  Familiarity Rating      Novs  \\\n",
       "Category Attention Level                                          \n",
       "Face     Category            18.7            2.007146  1.979581   \n",
       "         Full                18.7            2.239739  1.979581   \n",
       "         None                18.7            1.693343  1.674308   \n",
       "         Novel               18.7            1.826944  1.826944   \n",
       "         Side                18.7            1.783733  1.674308   \n",
       "Place    Category            18.7            2.050041  1.995711   \n",
       "         Full                18.7            2.696618  1.995711   \n",
       "         None                18.7            1.719056  1.707938   \n",
       "         Novel               18.7            1.851825  1.851825   \n",
       "         Side                18.7            1.958963  1.707938   \n",
       "\n",
       "                          Rating Differences  \n",
       "Category Attention Level                      \n",
       "Face     Category                   0.027565  \n",
       "         Full                       0.260158  \n",
       "         None                       0.019035  \n",
       "         Novel                      0.000000  \n",
       "         Side                       0.109425  \n",
       "Place    Category                   0.054330  \n",
       "         Full                       0.700906  \n",
       "         None                       0.011118  \n",
       "         Novel                      0.000000  \n",
       "         Side                       0.251025  "
      ]
     },
     "execution_count": 13,
     "metadata": {},
     "output_type": "execute_result"
    }
   ],
   "source": [
    "sub_split.groupby(['Category','Attention Level']).mean()"
   ]
  },
  {
   "cell_type": "code",
   "execution_count": 14,
   "metadata": {},
   "outputs": [
    {
     "data": {
      "text/html": [
       "<div>\n",
       "<style scoped>\n",
       "    .dataframe tbody tr th:only-of-type {\n",
       "        vertical-align: middle;\n",
       "    }\n",
       "\n",
       "    .dataframe tbody tr th {\n",
       "        vertical-align: top;\n",
       "    }\n",
       "\n",
       "    .dataframe thead th {\n",
       "        text-align: right;\n",
       "    }\n",
       "</style>\n",
       "<table border=\"1\" class=\"dataframe\">\n",
       "  <thead>\n",
       "    <tr style=\"text-align: right;\">\n",
       "      <th></th>\n",
       "      <th>Source</th>\n",
       "      <th>SS</th>\n",
       "      <th>ddof1</th>\n",
       "      <th>ddof2</th>\n",
       "      <th>MS</th>\n",
       "      <th>F</th>\n",
       "      <th>p-unc</th>\n",
       "      <th>p-GG-corr</th>\n",
       "      <th>np2</th>\n",
       "      <th>eps</th>\n",
       "    </tr>\n",
       "  </thead>\n",
       "  <tbody>\n",
       "    <tr>\n",
       "      <th>0</th>\n",
       "      <td>Attention Level</td>\n",
       "      <td>9.752</td>\n",
       "      <td>4</td>\n",
       "      <td>116</td>\n",
       "      <td>2.438</td>\n",
       "      <td>33.442</td>\n",
       "      <td>1.540051e-18</td>\n",
       "      <td>2.770050e-11</td>\n",
       "      <td>0.536</td>\n",
       "      <td>0.555</td>\n",
       "    </tr>\n",
       "    <tr>\n",
       "      <th>1</th>\n",
       "      <td>Category</td>\n",
       "      <td>1.084</td>\n",
       "      <td>1</td>\n",
       "      <td>29</td>\n",
       "      <td>1.084</td>\n",
       "      <td>16.040</td>\n",
       "      <td>3.946105e-04</td>\n",
       "      <td>3.946105e-04</td>\n",
       "      <td>0.356</td>\n",
       "      <td>1.000</td>\n",
       "    </tr>\n",
       "    <tr>\n",
       "      <th>2</th>\n",
       "      <td>Attention Level * Category</td>\n",
       "      <td>2.142</td>\n",
       "      <td>4</td>\n",
       "      <td>116</td>\n",
       "      <td>0.536</td>\n",
       "      <td>10.675</td>\n",
       "      <td>2.113954e-07</td>\n",
       "      <td>5.272771e-04</td>\n",
       "      <td>0.269</td>\n",
       "      <td>0.379</td>\n",
       "    </tr>\n",
       "  </tbody>\n",
       "</table>\n",
       "</div>"
      ],
      "text/plain": [
       "                       Source     SS  ddof1  ddof2     MS       F  \\\n",
       "0             Attention Level  9.752      4    116  2.438  33.442   \n",
       "1                    Category  1.084      1     29  1.084  16.040   \n",
       "2  Attention Level * Category  2.142      4    116  0.536  10.675   \n",
       "\n",
       "          p-unc     p-GG-corr    np2    eps  \n",
       "0  1.540051e-18  2.770050e-11  0.536  0.555  \n",
       "1  3.946105e-04  3.946105e-04  0.356  1.000  \n",
       "2  2.113954e-07  5.272771e-04  0.269  0.379  "
      ]
     },
     "execution_count": 14,
     "metadata": {},
     "output_type": "execute_result"
    }
   ],
   "source": [
    "# pingouin\n",
    "pingouin.rm_anova(dv='Rating Differences', within=['Attention Level','Category'], subject='Subject', data=sub_split)"
   ]
  },
  {
   "cell_type": "code",
   "execution_count": 15,
   "metadata": {},
   "outputs": [
    {
     "data": {
      "text/html": [
       "<div>\n",
       "<style scoped>\n",
       "    .dataframe tbody tr th:only-of-type {\n",
       "        vertical-align: middle;\n",
       "    }\n",
       "\n",
       "    .dataframe tbody tr th {\n",
       "        vertical-align: top;\n",
       "    }\n",
       "\n",
       "    .dataframe thead th {\n",
       "        text-align: right;\n",
       "    }\n",
       "</style>\n",
       "<table border=\"1\" class=\"dataframe\">\n",
       "  <thead>\n",
       "    <tr style=\"text-align: right;\">\n",
       "      <th></th>\n",
       "      <th>Source</th>\n",
       "      <th>ddof1</th>\n",
       "      <th>ddof2</th>\n",
       "      <th>F</th>\n",
       "      <th>p-unc</th>\n",
       "      <th>p-GG-corr</th>\n",
       "      <th>np2</th>\n",
       "      <th>eps</th>\n",
       "      <th>sphericity</th>\n",
       "      <th>W-spher</th>\n",
       "      <th>p-spher</th>\n",
       "    </tr>\n",
       "  </thead>\n",
       "  <tbody>\n",
       "    <tr>\n",
       "      <th>0</th>\n",
       "      <td>Attention Level</td>\n",
       "      <td>4</td>\n",
       "      <td>116</td>\n",
       "      <td>33.442</td>\n",
       "      <td>1.540051e-18</td>\n",
       "      <td>2.770050e-11</td>\n",
       "      <td>0.536</td>\n",
       "      <td>0.555</td>\n",
       "      <td>False</td>\n",
       "      <td>0.145</td>\n",
       "      <td>3.108061e-08</td>\n",
       "    </tr>\n",
       "  </tbody>\n",
       "</table>\n",
       "</div>"
      ],
      "text/plain": [
       "            Source  ddof1  ddof2       F         p-unc     p-GG-corr    np2  \\\n",
       "0  Attention Level      4    116  33.442  1.540051e-18  2.770050e-11  0.536   \n",
       "\n",
       "     eps  sphericity  W-spher       p-spher  \n",
       "0  0.555       False    0.145  3.108061e-08  "
      ]
     },
     "execution_count": 15,
     "metadata": {},
     "output_type": "execute_result"
    }
   ],
   "source": [
    "pingouin.rm_anova(dv='Rating Differences', within=['Attention Level'], subject='Subject', data=sub_split)"
   ]
  },
  {
   "cell_type": "markdown",
   "metadata": {},
   "source": [
    "### t-test\n",
    "Differences between attention levels, all images considered together"
   ]
  },
  {
   "cell_type": "code",
   "execution_count": 16,
   "metadata": {},
   "outputs": [
    {
     "name": "stdout",
     "output_type": "stream",
     "text": [
      "Category vs. None\n",
      "Ttest_relResult(statistic=0.6357905869932182, pvalue=0.5273715031634212)\n",
      "\n",
      "Category vs. Side\n",
      "Ttest_relResult(statistic=-3.0266326081944994, pvalue=0.0036617830026015085)\n",
      "\n",
      "Category vs. Full\n",
      "Ttest_relResult(statistic=-7.115064480463659, pvalue=1.7274406903724976e-09)\n",
      "\n",
      "None vs. Side\n",
      "Ttest_relResult(statistic=-4.042358494575047, pvalue=0.0001554316341579506)\n",
      "\n",
      "None vs. Full\n",
      "Ttest_relResult(statistic=-6.989436956651441, pvalue=2.819026731215092e-09)\n",
      "\n",
      "Side vs. Full\n",
      "Ttest_relResult(statistic=-4.22632667728481, pvalue=8.359970886662547e-05)\n",
      "\n"
     ]
    }
   ],
   "source": [
    "#l = sub_split['Attention Level'].unique()\n",
    "l=['Category','None','Side','Full']\n",
    "\n",
    "for pair in list(itertools.combinations(l, r=2)):\n",
    "    t = stats.ttest_rel(sub_split[sub_split['Attention Level']==pair[0]]['Rating Differences'], \n",
    "                        sub_split[sub_split['Attention Level']==pair[1]]['Rating Differences'])\n",
    "        \n",
    "    # if t[1]>.05:\n",
    "    print(pair[0]+\" vs. \"+pair[1])\n",
    "    print(t) \n",
    "    print()"
   ]
  },
  {
   "cell_type": "markdown",
   "metadata": {},
   "source": [
    "### t-test\n",
    "Differences between attention levels, faces versus places"
   ]
  },
  {
   "cell_type": "code",
   "execution_count": 17,
   "metadata": {},
   "outputs": [
    {
     "name": "stdout",
     "output_type": "stream",
     "text": [
      "\n",
      "Category  ->  Ttest_relResult(statistic=0.3798388012735353, pvalue=0.7068326759721241)\n",
      "mean face  0.05432995242205767 0.2883545669738157\n",
      "mean place  0.027565143733874368 0.21435083685206072\n",
      "\n",
      "\n",
      "Full  ->  Ttest_relResult(statistic=5.173671030742223, pvalue=1.5653050803546205e-05)\n",
      "mean face  0.7009064631433053 0.5185150370651342\n",
      "mean place  0.26015830965521375 0.22995204904829208\n",
      "\n",
      "\n",
      "None  ->  Ttest_relResult(statistic=-0.1687591088294214, pvalue=0.8671576932514471)\n",
      "mean face  0.011118150905302623 0.18170431926929512\n",
      "mean place  0.019035381535381535 0.18362856459552715\n",
      "\n",
      "\n",
      "Novel  ->  Ttest_relResult(statistic=nan, pvalue=nan)\n",
      "mean face  0.0 0.0\n",
      "mean place  0.0 0.0\n",
      "\n",
      "\n",
      "Side  ->  Ttest_relResult(statistic=2.4073796870694375, pvalue=0.022656648919624236)\n",
      "mean face  0.2510246983195899 0.3030866872291797\n",
      "mean place  0.10942524508313979 0.1832199878875418\n",
      "\n",
      "\n"
     ]
    }
   ],
   "source": [
    "print()\n",
    "for attn in ['Category', 'Full', 'None', 'Novel', 'Side']:\n",
    "    face = sub_split[(sub_split['Category']=='Place') & (sub_split['Attention Level']==attn)]['Rating Differences']\n",
    "    place = sub_split[(sub_split['Category']=='Face') & (sub_split['Attention Level']==attn)]['Rating Differences']\n",
    "    print(str(attn)+'  ->  '+str(stats.ttest_rel(face,place)))\n",
    "    print(str('mean face '), str(face.mean()), str(face.std()))\n",
    "    print(str('mean place '), str(place.mean()), str(place.std()))\n",
    "    print()\n",
    "    print()\n",
    "\n",
    "figure = ax1.get_figure()    \n",
    "figure.savefig('split_diffs.pdf', dpi=400)"
   ]
  },
  {
   "cell_type": "markdown",
   "metadata": {},
   "source": [
    "# Adjusted Difference Scores (Gaze)"
   ]
  },
  {
   "cell_type": "code",
   "execution_count": 18,
   "metadata": {},
   "outputs": [],
   "source": [
    "reg_group = reg.groupby(['Subject','Category','Cued Category','plot_cat'], as_index=False).mean()"
   ]
  },
  {
   "cell_type": "code",
   "execution_count": 74,
   "metadata": {},
   "outputs": [],
   "source": [
    "#reg_group['Subject'].unique()"
   ]
  },
  {
   "cell_type": "code",
   "execution_count": 73,
   "metadata": {},
   "outputs": [],
   "source": [
    "#sub_split['Subject'].unique()"
   ]
  },
  {
   "cell_type": "code",
   "execution_count": 68,
   "metadata": {},
   "outputs": [],
   "source": [
    "reg_group['Novs'] = np.nan\n",
    "reg_group['CuedCategory'] = reg_group['Cued Category']\n",
    "\n",
    "for x in sub_split['Subject'].unique():\n",
    "\n",
    "    k = sub_split[sub_split['Subject']==x]\n",
    "    novels = k[k['Attention Level']=='Novel']\n",
    "    \n",
    "    fp = ['Face','Place']\n",
    "    for pair in list(itertools.combinations_with_replacement(fp, r=2)):\n",
    "        \n",
    "        reg_group.loc[(reg_group.Subject == x) &(reg_group.CuedCategory == pair[0])&(reg_group.Category == pair[1]), 'Novs'] = float(novels[ (novels['Cued Category']==pair[0]) & (novels['Category']==pair[1]) ]['Familiarity Rating'])\n",
    "        reg_group.loc[(reg_group.Subject == x)&(reg_group.CuedCategory == pair[1])&(reg_group.Category == pair[0]), 'Novs'] = float(novels[ (novels['Cued Category']==pair[1]) & (novels['Category']==pair[0]) ]['Familiarity Rating'])\n",
    "        reg_group.loc[(reg_group.Subject == x) &(reg_group.CuedCategory == pair[0])&(reg_group.Category == pair[0]), 'Novs'] = float(novels[ (novels['Cued Category']==pair[0]) & (novels['Category']==pair[0]) ]['Familiarity Rating'])\n",
    "        reg_group.loc[(reg_group.Subject == x)&(reg_group.CuedCategory == pair[1])&(reg_group.Category == pair[1]), 'Novs'] = float(novels[ (novels['Cued Category']==pair[1]) & (novels['Category']==pair[1]) ]['Familiarity Rating'])\n",
    "\n",
    "        \n",
    "reg_group['Rating Differences'] = reg_group['gaze_adjusted']-reg_group['Novs']"
   ]
  },
  {
   "cell_type": "code",
   "execution_count": 64,
   "metadata": {},
   "outputs": [],
   "source": [
    "plot_reg = reg_group.groupby(['Subject','plot_cat'], as_index=False).mean()\n",
    "#plot_reg"
   ]
  },
  {
   "cell_type": "code",
   "execution_count": 65,
   "metadata": {},
   "outputs": [
    {
     "data": {
      "text/plain": [
       "<matplotlib.axes._subplots.AxesSubplot at 0x12449b390>"
      ]
     },
     "execution_count": 65,
     "metadata": {},
     "output_type": "execute_result"
    },
    {
     "data": {
      "image/png": "[encoded data removed]",
      "text/plain": [
       "<Figure size 432x288 with 1 Axes>"
      ]
     },
     "metadata": {},
     "output_type": "display_data"
    }
   ],
   "source": [
    "sb.violinplot(x='plot_cat', y='Rating Differences', data=plot_reg)"
   ]
  },
  {
   "cell_type": "code",
   "execution_count": 34,
   "metadata": {},
   "outputs": [
    {
     "data": {
      "text/html": [
       "<div>\n",
       "<style scoped>\n",
       "    .dataframe tbody tr th:only-of-type {\n",
       "        vertical-align: middle;\n",
       "    }\n",
       "\n",
       "    .dataframe tbody tr th {\n",
       "        vertical-align: top;\n",
       "    }\n",
       "\n",
       "    .dataframe thead th {\n",
       "        text-align: right;\n",
       "    }\n",
       "</style>\n",
       "<table border=\"1\" class=\"dataframe\">\n",
       "  <thead>\n",
       "    <tr style=\"text-align: right;\">\n",
       "      <th></th>\n",
       "      <th>Source</th>\n",
       "      <th>ddof1</th>\n",
       "      <th>ddof2</th>\n",
       "      <th>F</th>\n",
       "      <th>p-unc</th>\n",
       "      <th>p-GG-corr</th>\n",
       "      <th>np2</th>\n",
       "      <th>eps</th>\n",
       "      <th>sphericity</th>\n",
       "      <th>W-spher</th>\n",
       "      <th>p-spher</th>\n",
       "    </tr>\n",
       "  </thead>\n",
       "  <tbody>\n",
       "    <tr>\n",
       "      <th>0</th>\n",
       "      <td>plot_cat</td>\n",
       "      <td>3</td>\n",
       "      <td>87</td>\n",
       "      <td>22.451</td>\n",
       "      <td>7.416945e-11</td>\n",
       "      <td>0.000052</td>\n",
       "      <td>0.436</td>\n",
       "      <td>0.334</td>\n",
       "      <td>False</td>\n",
       "      <td>0.0</td>\n",
       "      <td>4.632345e-75</td>\n",
       "    </tr>\n",
       "  </tbody>\n",
       "</table>\n",
       "</div>"
      ],
      "text/plain": [
       "     Source  ddof1  ddof2       F         p-unc  p-GG-corr    np2    eps  \\\n",
       "0  plot_cat      3     87  22.451  7.416945e-11   0.000052  0.436  0.334   \n",
       "\n",
       "   sphericity  W-spher       p-spher  \n",
       "0       False      0.0  4.632345e-75  "
      ]
     },
     "execution_count": 34,
     "metadata": {},
     "output_type": "execute_result"
    }
   ],
   "source": [
    "pingouin.rm_anova(dv='Rating Differences', within=['plot_cat'], subject='Subject', data=plot_reg)"
   ]
  },
  {
   "cell_type": "code",
   "execution_count": null,
   "metadata": {},
   "outputs": [],
   "source": []
  },
  {
   "cell_type": "code",
   "execution_count": 410,
   "metadata": {},
   "outputs": [],
   "source": [
    "# d=[]\n",
    "\n",
    "# for subject in combo_mean['Subject'].unique(): \n",
    "    \n",
    "#     reg = ols(formula = \"Familiarity_Rating ~ Cued_Category * Category\", data = data).fit()\n",
    "#     sub.append(pd.concat([data, pd.DataFrame({'cue_resid':reg.resid})], axis=1, sort=False))\n",
    "    \n",
    "# d.append(pd.concat(sub))\n",
    "    \n",
    "# novel_regression2 = pd.concat(d)"
   ]
  },
  {
   "cell_type": "code",
   "execution_count": 383,
   "metadata": {},
   "outputs": [
    {
     "data": {
      "text/html": [
       "<div>\n",
       "<style scoped>\n",
       "    .dataframe tbody tr th:only-of-type {\n",
       "        vertical-align: middle;\n",
       "    }\n",
       "\n",
       "    .dataframe tbody tr th {\n",
       "        vertical-align: top;\n",
       "    }\n",
       "\n",
       "    .dataframe thead th {\n",
       "        text-align: right;\n",
       "    }\n",
       "</style>\n",
       "<table border=\"1\" class=\"dataframe\">\n",
       "  <thead>\n",
       "    <tr style=\"text-align: right;\">\n",
       "      <th></th>\n",
       "      <th>Subject</th>\n",
       "      <th>Trial</th>\n",
       "      <th>Run</th>\n",
       "      <th>Attention Level</th>\n",
       "      <th>Unnamed: 0</th>\n",
       "      <th>Attention Reaction Time (s)</th>\n",
       "      <th>Familiarity Reaction Time (s)</th>\n",
       "      <th>Familiarity Rating</th>\n",
       "      <th>Cue Validity</th>\n",
       "      <th>Post Invalid Cue</th>\n",
       "      <th>Pre Invalid Cue</th>\n",
       "      <th>Attention Button</th>\n",
       "      <th>Rating History</th>\n",
       "      <th>Stimulus Onset</th>\n",
       "      <th>Stimulus End</th>\n",
       "      <th>av_x_coord</th>\n",
       "    </tr>\n",
       "  </thead>\n",
       "  <tbody>\n",
       "  </tbody>\n",
       "</table>\n",
       "</div>"
      ],
      "text/plain": [
       "Empty DataFrame\n",
       "Columns: [Subject, Trial, Run, Attention Level, Unnamed: 0, Attention Reaction Time (s), Familiarity Reaction Time (s), Familiarity Rating, Cue Validity, Post Invalid Cue, Pre Invalid Cue, Attention Button, Rating History, Stimulus Onset, Stimulus End, av_x_coord]\n",
       "Index: []"
      ]
     },
     "execution_count": 383,
     "metadata": {},
     "output_type": "execute_result"
    }
   ],
   "source": [
    "combo_mean"
   ]
  },
  {
   "cell_type": "code",
   "execution_count": null,
   "metadata": {},
   "outputs": [],
   "source": []
  },
  {
   "cell_type": "markdown",
   "metadata": {},
   "source": [
    "### Figure 5b. Difference Scores, by Category (ROC)"
   ]
  },
  {
   "cell_type": "code",
   "execution_count": null,
   "metadata": {},
   "outputs": [],
   "source": []
  },
  {
   "cell_type": "code",
   "execution_count": null,
   "metadata": {},
   "outputs": [],
   "source": []
  },
  {
   "cell_type": "markdown",
   "metadata": {},
   "source": [
    "### ROC"
   ]
  },
  {
   "cell_type": "code",
   "execution_count": null,
   "metadata": {},
   "outputs": [],
   "source": []
  },
  {
   "cell_type": "code",
   "execution_count": null,
   "metadata": {},
   "outputs": [],
   "source": []
  },
  {
   "cell_type": "code",
   "execution_count": null,
   "metadata": {},
   "outputs": [],
   "source": []
  },
  {
   "cell_type": "markdown",
   "metadata": {},
   "source": [
    "### AUC"
   ]
  },
  {
   "cell_type": "code",
   "execution_count": null,
   "metadata": {},
   "outputs": [],
   "source": []
  },
  {
   "cell_type": "code",
   "execution_count": 13,
   "metadata": {},
   "outputs": [],
   "source": [
    "# all_gaze = []\n",
    "\n",
    "# for b in os.listdir(\"/Users/kirstenziman/Documents/github/attention-memory-task/data/\"):\n",
    "#     print(b)\n",
    "#     dr = \"/Users/kirstenziman/Documents/github/attention-memory-task/data/\"+b\n",
    "#     initial = eye_intial( dr + \"/eye_data/\")\n",
    "#     pres = pres_gaze_image(dr, initial, b[0:2])\n",
    "#     subject_gaze = pd.concat([pd.concat(pres[x]) for x in pres.keys()])\n",
    "#     all_gaze.append(subject_gaze)\n",
    "\n",
    "# df = pd.concat(all_gaze)\n",
    "\n",
    "# # convert to centimeters\n",
    "# df['av_x_coord'] = (59.8/2048)*(df[['xRaw_righteye', 'xRaw_lefteye']].mean(axis=1))\n",
    "# df['av_y_coord'] = (33.6/1152)*(df[['yRaw_righteye', 'yRaw_lefteye']].mean(axis=1))"
   ]
  },
  {
   "cell_type": "markdown",
   "metadata": {},
   "source": [
    "# Gaze +/- 1"
   ]
  },
  {
   "cell_type": "code",
   "execution_count": 36,
   "metadata": {},
   "outputs": [],
   "source": [
    "eye_behav = pd.DataFrame.from_csv('behav_three.csv')"
   ]
  },
  {
   "cell_type": "code",
   "execution_count": 37,
   "metadata": {},
   "outputs": [
    {
     "data": {
      "text/plain": [
       "1.0"
      ]
     },
     "execution_count": 37,
     "metadata": {},
     "output_type": "execute_result"
    }
   ],
   "source": [
    "eye_behav[eye_behav['Trial Type']=='Memory'].shape[0]/eye_behav[eye_behav['Trial Type']=='Memory'].shape[0]"
   ]
  },
  {
   "cell_type": "code",
   "execution_count": 38,
   "metadata": {},
   "outputs": [],
   "source": [
    "#eye_behav = pd.DataFrame.from_csv('eye_behav.csv').head()\n",
    "#behav_three['Trial']"
   ]
  },
  {
   "cell_type": "code",
   "execution_count": 39,
   "metadata": {},
   "outputs": [],
   "source": [
    "eye_behav3 = eye_behav.groupby(['Subject','Attention Level', 'Cued Category', 'Category'],as_index=False)['Familiarity Rating'].mean()"
   ]
  },
  {
   "cell_type": "code",
   "execution_count": 40,
   "metadata": {},
   "outputs": [],
   "source": [
    "eye_behav3['Novs'] = np.nan\n",
    "eye_behav3['CuedCategory'] = eye_behav3['Cued Category']\n",
    "\n",
    "for x in eye_behav3['Subject'].unique():\n",
    "    \n",
    "    k = eye_behav3[eye_behav3['Subject']==x]\n",
    "    novels = k[k['Attention Level']=='Novel']\n",
    "    fp = ['Face','Place']\n",
    "    \n",
    "    for pair in list(itertools.combinations_with_replacement(fp, r=2)):\n",
    "        eye_behav3.loc[(eye_behav3.Subject == x) & (eye_behav3.CuedCategory == pair[0])&(eye_behav3.Category == pair[1]), 'Novs'] = float(novels[ (novels['Cued Category']==pair[0]) & (novels['Category']==pair[1]) ]['Familiarity Rating'].mean())\n",
    "        eye_behav3.loc[(eye_behav3.Subject == x) & (eye_behav3.CuedCategory == pair[1])&(eye_behav3.Category == pair[0]), 'Novs'] = float(novels[ (novels['Cued Category']==pair[1]) & (novels['Category']==pair[0]) ]['Familiarity Rating'].mean())\n",
    "\n",
    "        \n",
    "eye_behav3['Rating Differences'] = eye_behav3['Familiarity Rating']-eye_behav3['Novs']"
   ]
  },
  {
   "cell_type": "code",
   "execution_count": 41,
   "metadata": {},
   "outputs": [
    {
     "data": {
      "image/png": "[encoded data removed]",
      "text/plain": [
       "<Figure size 432x288 with 1 Axes>"
      ]
     },
     "metadata": {},
     "output_type": "display_data"
    }
   ],
   "source": [
    "ax1 = sb.barplot(x='Attention Level',y='Rating Differences', data=eye_behav3[eye_behav3['Attention Level']!='Novel'], \n",
    "                    order=['Full','Side', 'Category', 'None']) #, palette={\"Full\": \"blue\", \"None\": \"orange\", \"Category\":\"purple\",\"Side\":\"red\",\"Novel\":\"green\"})\n",
    "plt.ylim(-2.5, 2.5)\n",
    "plt.show()"
   ]
  },
  {
   "cell_type": "code",
   "execution_count": 42,
   "metadata": {},
   "outputs": [
    {
     "data": {
      "text/html": [
       "<div>\n",
       "<style scoped>\n",
       "    .dataframe tbody tr th:only-of-type {\n",
       "        vertical-align: middle;\n",
       "    }\n",
       "\n",
       "    .dataframe tbody tr th {\n",
       "        vertical-align: top;\n",
       "    }\n",
       "\n",
       "    .dataframe thead th {\n",
       "        text-align: right;\n",
       "    }\n",
       "</style>\n",
       "<table border=\"1\" class=\"dataframe\">\n",
       "  <thead>\n",
       "    <tr style=\"text-align: right;\">\n",
       "      <th></th>\n",
       "      <th>Attention Level</th>\n",
       "      <th>Subject</th>\n",
       "      <th>Familiarity Rating</th>\n",
       "      <th>Novs</th>\n",
       "      <th>Rating Differences</th>\n",
       "    </tr>\n",
       "  </thead>\n",
       "  <tbody>\n",
       "    <tr>\n",
       "      <th>0</th>\n",
       "      <td>Category</td>\n",
       "      <td>21.454545</td>\n",
       "      <td>1.939394</td>\n",
       "      <td>2.152068</td>\n",
       "      <td>-0.212674</td>\n",
       "    </tr>\n",
       "    <tr>\n",
       "      <th>1</th>\n",
       "      <td>Full</td>\n",
       "      <td>19.916667</td>\n",
       "      <td>2.301389</td>\n",
       "      <td>2.149118</td>\n",
       "      <td>0.152271</td>\n",
       "    </tr>\n",
       "    <tr>\n",
       "      <th>2</th>\n",
       "      <td>None</td>\n",
       "      <td>21.454545</td>\n",
       "      <td>1.515152</td>\n",
       "      <td>1.636408</td>\n",
       "      <td>-0.121257</td>\n",
       "    </tr>\n",
       "    <tr>\n",
       "      <th>3</th>\n",
       "      <td>Novel</td>\n",
       "      <td>19.500000</td>\n",
       "      <td>1.854005</td>\n",
       "      <td>1.854005</td>\n",
       "      <td>0.000000</td>\n",
       "    </tr>\n",
       "    <tr>\n",
       "      <th>4</th>\n",
       "      <td>Side</td>\n",
       "      <td>19.916667</td>\n",
       "      <td>1.763889</td>\n",
       "      <td>1.675041</td>\n",
       "      <td>0.088848</td>\n",
       "    </tr>\n",
       "  </tbody>\n",
       "</table>\n",
       "</div>"
      ],
      "text/plain": [
       "  Attention Level    Subject  Familiarity Rating      Novs  Rating Differences\n",
       "0        Category  21.454545            1.939394  2.152068           -0.212674\n",
       "1            Full  19.916667            2.301389  2.149118            0.152271\n",
       "2            None  21.454545            1.515152  1.636408           -0.121257\n",
       "3           Novel  19.500000            1.854005  1.854005            0.000000\n",
       "4            Side  19.916667            1.763889  1.675041            0.088848"
      ]
     },
     "execution_count": 42,
     "metadata": {},
     "output_type": "execute_result"
    }
   ],
   "source": [
    "eye_behav3.groupby(['Attention Level'],as_index=False).mean()"
   ]
  },
  {
   "cell_type": "code",
   "execution_count": 43,
   "metadata": {},
   "outputs": [
    {
     "data": {
      "text/plain": [
       "9600"
      ]
     },
     "execution_count": 43,
     "metadata": {},
     "output_type": "execute_result"
    }
   ],
   "source": [
    "combo[combo['Trial Type']=='Memory'].shape[0]\n"
   ]
  },
  {
   "cell_type": "code",
   "execution_count": 44,
   "metadata": {},
   "outputs": [
    {
     "data": {
      "text/plain": [
       "0.0077083333333333335"
      ]
     },
     "execution_count": 44,
     "metadata": {},
     "output_type": "execute_result"
    }
   ],
   "source": [
    "eye_behav3.shape[0] / combo[combo['Trial Type']=='Memory'].shape[0]"
   ]
  },
  {
   "cell_type": "code",
   "execution_count": 45,
   "metadata": {},
   "outputs": [
    {
     "data": {
      "text/plain": [
       "9600"
      ]
     },
     "execution_count": 45,
     "metadata": {},
     "output_type": "execute_result"
    }
   ],
   "source": [
    "40*8*30"
   ]
  },
  {
   "cell_type": "code",
   "execution_count": 46,
   "metadata": {},
   "outputs": [
    {
     "data": {
      "text/html": [
       "<div>\n",
       "<style scoped>\n",
       "    .dataframe tbody tr th:only-of-type {\n",
       "        vertical-align: middle;\n",
       "    }\n",
       "\n",
       "    .dataframe tbody tr th {\n",
       "        vertical-align: top;\n",
       "    }\n",
       "\n",
       "    .dataframe thead th {\n",
       "        text-align: right;\n",
       "    }\n",
       "</style>\n",
       "<table border=\"1\" class=\"dataframe\">\n",
       "  <thead>\n",
       "    <tr style=\"text-align: right;\">\n",
       "      <th></th>\n",
       "      <th>Source</th>\n",
       "      <th>ddof1</th>\n",
       "      <th>ddof2</th>\n",
       "      <th>F</th>\n",
       "      <th>p-unc</th>\n",
       "      <th>np2</th>\n",
       "      <th>eps</th>\n",
       "    </tr>\n",
       "  </thead>\n",
       "  <tbody>\n",
       "    <tr>\n",
       "      <th>0</th>\n",
       "      <td>Attention Level</td>\n",
       "      <td>4</td>\n",
       "      <td>36</td>\n",
       "      <td>0.507</td>\n",
       "      <td>0.730673</td>\n",
       "      <td>0.053</td>\n",
       "      <td>0.54</td>\n",
       "    </tr>\n",
       "  </tbody>\n",
       "</table>\n",
       "</div>"
      ],
      "text/plain": [
       "            Source  ddof1  ddof2      F     p-unc    np2   eps\n",
       "0  Attention Level      4     36  0.507  0.730673  0.053  0.54"
      ]
     },
     "execution_count": 46,
     "metadata": {},
     "output_type": "execute_result"
    }
   ],
   "source": [
    "pingouin.rm_anova(dv='Rating Differences', within=['Attention Level'], subject='Subject', data=eye_behav3)"
   ]
  },
  {
   "cell_type": "code",
   "execution_count": null,
   "metadata": {},
   "outputs": [],
   "source": []
  },
  {
   "cell_type": "code",
   "execution_count": null,
   "metadata": {},
   "outputs": [],
   "source": []
  }
 ],
 "metadata": {
  "kernelspec": {
   "display_name": "Python 3",
   "language": "python",
   "name": "python3"
  },
  "language_info": {
   "codemirror_mode": {
    "name": "ipython",
    "version": 3
   },
   "file_extension": ".py",
   "mimetype": "text/x-python",
   "name": "python",
   "nbconvert_exporter": "python",
   "pygments_lexer": "ipython3",
   "version": "3.6.4"
  }
 },
 "nbformat": 4,
 "nbformat_minor": 2
}
