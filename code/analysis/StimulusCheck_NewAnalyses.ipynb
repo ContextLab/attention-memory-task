{
 "cells": [
  {
   "cell_type": "code",
   "execution_count": 13,
   "metadata": {},
   "outputs": [],
   "source": [
    "import pandas as pd \n",
    "import os\n",
    "import numpy as np\n",
    "import seaborn as sb\n",
    "from analysis_helpers import *\n"
   ]
  },
  {
   "cell_type": "code",
   "execution_count": 2,
   "metadata": {},
   "outputs": [],
   "source": [
    "params = {'runs':1, 'presentations_per_run':10, \n",
    "          'invalid_cue_percentage':10, 'mem_to_pres':4, \n",
    "          'mem_pres_split':2}"
   ]
  },
  {
   "cell_type": "code",
   "execution_count": 3,
   "metadata": {},
   "outputs": [],
   "source": [
    "def sum_pd(subdir):\n",
    "    '''\n",
    "    input: subject directory (string)\n",
    "    output: full experiment info (dataframe)\n",
    "    '''\n",
    "    \n",
    "    files = [ x for x in os.listdir(subdir) if 'pres' in x or 'mem' in x ]\n",
    "    df_list = [ pd.read_csv(subdir+'/'+x) for x in files ]\n",
    "    df = pd.concat(df_list, ignore_index=True)\n",
    "    \n",
    "    return(df)\n",
    "\n",
    "def images(df_col):\n",
    "    '''\n",
    "    input: df column\n",
    "    output: list of image names (strings)\n",
    "    '''\n",
    "    return([ x for x in df_col if type(x)==str])\n",
    "\n",
    "def check_reps(lst):\n",
    "    '''\n",
    "    input: list of imagenames (strings)\n",
    "    output: number of repeats (int)\n",
    "    '''\n",
    "    return(len(lst)-len(set(lst)))\n",
    "    \n",
    "def list_compare(lst1, lst2):\n",
    "    '''\n",
    "    input: two lists\n",
    "    output: number of shared items between lists\n",
    "    '''\n",
    "    return(set(lst1) & set(lst2))\n",
    "\n",
    "def check_shared(df, col1, col2,x=None):\n",
    "    '''\n",
    "    inputs: dataframe, two column names (strings), run#=None\n",
    "    outputs: lists images shared between the columns\n",
    "    '''\n",
    "    \n",
    "    if type(x)==int:\n",
    "        \n",
    "        mask = df['Run']==x\n",
    "        return(list_compare(list(images(df.loc[mask,col1])), list(images(df.loc[mask,col2]))))\n",
    "    \n",
    "    else:\n",
    "        return(list_compare(list(images(df[col1])), list(images(df[col2]))))\n",
    "\n",
    "def validity_check(df, params):\n",
    "    '''\n",
    "    inputs: dataframe, parameters\n",
    "    outputs: message about validity percentage (empty list or list containing string)\n",
    "    '''\n",
    "    num_valid = sum(list(df['Cue Validity']))\n",
    "    \n",
    "    if num_valid != params['presentations_per_run']*params['runs']*(100-params['invalid_cue_percentage'])/100:\n",
    "        msg = ['Incorrect number of invalid attention circles.  ']\n",
    "    else: \n",
    "        msg = []\n",
    "    \n",
    "    return(msg)\n",
    "    \n",
    "def stimulus_check(subdir, params):\n",
    "    '''\n",
    "    input: subject directory (string)\n",
    "    output: message indicating if all stimulus proportions are correct (string)\n",
    "    '''\n",
    "    \n",
    "    msg = []\n",
    "    select_cols = ['Cued Face', 'Cued Place', \n",
    "                   'Uncued Face', 'Uncued Place', \n",
    "                'Memory Image']\n",
    "    \n",
    "    df = sum_pd(subdir)\n",
    "    for x in select_cols:\n",
    "        if check_reps(df[x]) > 0:\n",
    "            msg.append('Internal repetition in '+x+'.  ')\n",
    "        for run in range(params['runs']):\n",
    "            if x!='Memory Image':\n",
    "                if len(check_shared(df, x, 'Memory Image', run)) != params['presentations_per_run']*2/params['mem_to_pres']:\n",
    "                    msg.append('Wrong number of prev seen images from one or more categories.  ')\n",
    "                    print(x, check_shared(df, x, 'Memory Image', run))\n",
    "    msg.extend(validity_check(df, params))\n",
    "    \n",
    "    if len(msg)==0:\n",
    "        msg = \"All stimulus proportions correct! :)\"\n",
    "    \n",
    "    return(msg)\n",
    "    "
   ]
  },
  {
   "cell_type": "code",
   "execution_count": 4,
   "metadata": {},
   "outputs": [
    {
     "data": {
      "text/plain": [
       "['Incorrect number of invalid attention circles.  ']"
      ]
     },
     "execution_count": 4,
     "metadata": {},
     "output_type": "execute_result"
    }
   ],
   "source": [
    "# \"circle\" error will appear for test data that is less than the full number of runs\n",
    "# if no other errors appear, code is working :)\n",
    "\n",
    "stimulus_check('/Users/Student/Documents/github/attention-memory-task/data/SingleRunTest_2018_Jun_25', params)"
   ]
  },
  {
   "cell_type": "markdown",
   "metadata": {},
   "source": [
    "# Basic Analysis"
   ]
  },
  {
   "cell_type": "code",
   "execution_count": 6,
   "metadata": {},
   "outputs": [
    {
     "data": {
      "text/html": [
       "<div>\n",
       "<style scoped>\n",
       "    .dataframe tbody tr th:only-of-type {\n",
       "        vertical-align: middle;\n",
       "    }\n",
       "\n",
       "    .dataframe tbody tr th {\n",
       "        vertical-align: top;\n",
       "    }\n",
       "\n",
       "    .dataframe thead th {\n",
       "        text-align: right;\n",
       "    }\n",
       "</style>\n",
       "<table border=\"1\" class=\"dataframe\">\n",
       "  <thead>\n",
       "    <tr style=\"text-align: right;\">\n",
       "      <th></th>\n",
       "      <th>Unnamed: 0</th>\n",
       "      <th>Subject</th>\n",
       "      <th>Trial Type</th>\n",
       "      <th>Run</th>\n",
       "      <th>Cued Composite</th>\n",
       "      <th>Uncued Composite</th>\n",
       "      <th>Cued Face</th>\n",
       "      <th>Cued Place</th>\n",
       "      <th>Uncued Face</th>\n",
       "      <th>Uncued Place</th>\n",
       "      <th>...</th>\n",
       "      <th>Cued Side</th>\n",
       "      <th>Cued Category</th>\n",
       "      <th>Attention Reaction Time (s)</th>\n",
       "      <th>Familiarity Reaction Time (s)</th>\n",
       "      <th>Familiarity Rating</th>\n",
       "      <th>Attention Level</th>\n",
       "      <th>Cue Validity</th>\n",
       "      <th>Post Invalid Cue</th>\n",
       "      <th>Pre Invalid Cue</th>\n",
       "      <th>Attention Button</th>\n",
       "    </tr>\n",
       "  </thead>\n",
       "  <tbody>\n",
       "    <tr>\n",
       "      <th>0</th>\n",
       "      <td>10</td>\n",
       "      <td>SingleRunTest</td>\n",
       "      <td>Memory</td>\n",
       "      <td>0</td>\n",
       "      <td>NaN</td>\n",
       "      <td>NaN</td>\n",
       "      <td>NaN</td>\n",
       "      <td>NaN</td>\n",
       "      <td>NaN</td>\n",
       "      <td>NaN</td>\n",
       "      <td>...</td>\n",
       "      <td>NaN</td>\n",
       "      <td>NaN</td>\n",
       "      <td>NaN</td>\n",
       "      <td>NaN</td>\n",
       "      <td>2.0</td>\n",
       "      <td>NaN</td>\n",
       "      <td>NaN</td>\n",
       "      <td>NaN</td>\n",
       "      <td>NaN</td>\n",
       "      <td>NaN</td>\n",
       "    </tr>\n",
       "    <tr>\n",
       "      <th>1</th>\n",
       "      <td>11</td>\n",
       "      <td>SingleRunTest</td>\n",
       "      <td>Memory</td>\n",
       "      <td>0</td>\n",
       "      <td>NaN</td>\n",
       "      <td>NaN</td>\n",
       "      <td>NaN</td>\n",
       "      <td>NaN</td>\n",
       "      <td>NaN</td>\n",
       "      <td>NaN</td>\n",
       "      <td>...</td>\n",
       "      <td>NaN</td>\n",
       "      <td>NaN</td>\n",
       "      <td>NaN</td>\n",
       "      <td>NaN</td>\n",
       "      <td>4.0</td>\n",
       "      <td>NaN</td>\n",
       "      <td>NaN</td>\n",
       "      <td>NaN</td>\n",
       "      <td>NaN</td>\n",
       "      <td>NaN</td>\n",
       "    </tr>\n",
       "    <tr>\n",
       "      <th>2</th>\n",
       "      <td>12</td>\n",
       "      <td>SingleRunTest</td>\n",
       "      <td>Memory</td>\n",
       "      <td>0</td>\n",
       "      <td>NaN</td>\n",
       "      <td>NaN</td>\n",
       "      <td>NaN</td>\n",
       "      <td>NaN</td>\n",
       "      <td>NaN</td>\n",
       "      <td>NaN</td>\n",
       "      <td>...</td>\n",
       "      <td>NaN</td>\n",
       "      <td>NaN</td>\n",
       "      <td>NaN</td>\n",
       "      <td>NaN</td>\n",
       "      <td>3.0</td>\n",
       "      <td>NaN</td>\n",
       "      <td>NaN</td>\n",
       "      <td>NaN</td>\n",
       "      <td>NaN</td>\n",
       "      <td>NaN</td>\n",
       "    </tr>\n",
       "    <tr>\n",
       "      <th>3</th>\n",
       "      <td>13</td>\n",
       "      <td>SingleRunTest</td>\n",
       "      <td>Memory</td>\n",
       "      <td>0</td>\n",
       "      <td>NaN</td>\n",
       "      <td>NaN</td>\n",
       "      <td>NaN</td>\n",
       "      <td>NaN</td>\n",
       "      <td>NaN</td>\n",
       "      <td>NaN</td>\n",
       "      <td>...</td>\n",
       "      <td>NaN</td>\n",
       "      <td>NaN</td>\n",
       "      <td>NaN</td>\n",
       "      <td>NaN</td>\n",
       "      <td>4.0</td>\n",
       "      <td>NaN</td>\n",
       "      <td>NaN</td>\n",
       "      <td>NaN</td>\n",
       "      <td>NaN</td>\n",
       "      <td>NaN</td>\n",
       "    </tr>\n",
       "    <tr>\n",
       "      <th>4</th>\n",
       "      <td>14</td>\n",
       "      <td>SingleRunTest</td>\n",
       "      <td>Memory</td>\n",
       "      <td>0</td>\n",
       "      <td>NaN</td>\n",
       "      <td>NaN</td>\n",
       "      <td>NaN</td>\n",
       "      <td>NaN</td>\n",
       "      <td>NaN</td>\n",
       "      <td>NaN</td>\n",
       "      <td>...</td>\n",
       "      <td>NaN</td>\n",
       "      <td>NaN</td>\n",
       "      <td>NaN</td>\n",
       "      <td>NaN</td>\n",
       "      <td>2.0</td>\n",
       "      <td>NaN</td>\n",
       "      <td>NaN</td>\n",
       "      <td>NaN</td>\n",
       "      <td>NaN</td>\n",
       "      <td>NaN</td>\n",
       "    </tr>\n",
       "  </tbody>\n",
       "</table>\n",
       "<p>5 rows × 22 columns</p>\n",
       "</div>"
      ],
      "text/plain": [
       "   Unnamed: 0        Subject Trial Type  Run Cued Composite Uncued Composite  \\\n",
       "0          10  SingleRunTest     Memory    0            NaN              NaN   \n",
       "1          11  SingleRunTest     Memory    0            NaN              NaN   \n",
       "2          12  SingleRunTest     Memory    0            NaN              NaN   \n",
       "3          13  SingleRunTest     Memory    0            NaN              NaN   \n",
       "4          14  SingleRunTest     Memory    0            NaN              NaN   \n",
       "\n",
       "  Cued Face Cued Place Uncued Face Uncued Place        ...        Cued Side  \\\n",
       "0       NaN        NaN         NaN          NaN        ...              NaN   \n",
       "1       NaN        NaN         NaN          NaN        ...              NaN   \n",
       "2       NaN        NaN         NaN          NaN        ...              NaN   \n",
       "3       NaN        NaN         NaN          NaN        ...              NaN   \n",
       "4       NaN        NaN         NaN          NaN        ...              NaN   \n",
       "\n",
       "   Cued Category Attention Reaction Time (s) Familiarity Reaction Time (s)  \\\n",
       "0            NaN                         NaN                           NaN   \n",
       "1            NaN                         NaN                           NaN   \n",
       "2            NaN                         NaN                           NaN   \n",
       "3            NaN                         NaN                           NaN   \n",
       "4            NaN                         NaN                           NaN   \n",
       "\n",
       "   Familiarity Rating  Attention Level  Cue Validity  Post Invalid Cue  \\\n",
       "0                 2.0              NaN           NaN               NaN   \n",
       "1                 4.0              NaN           NaN               NaN   \n",
       "2                 3.0              NaN           NaN               NaN   \n",
       "3                 4.0              NaN           NaN               NaN   \n",
       "4                 2.0              NaN           NaN               NaN   \n",
       "\n",
       "   Pre Invalid Cue  Attention Button  \n",
       "0              NaN               NaN  \n",
       "1              NaN               NaN  \n",
       "2              NaN               NaN  \n",
       "3              NaN               NaN  \n",
       "4              NaN               NaN  \n",
       "\n",
       "[5 rows x 22 columns]"
      ]
     },
     "execution_count": 6,
     "metadata": {},
     "output_type": "execute_result"
    }
   ],
   "source": [
    "df = sum_pd('/Users/Student/Documents/github/attention-memory-task/data/SingleRunTest_2018_Jun_25')\n",
    "df.head()"
   ]
  },
  {
   "cell_type": "code",
   "execution_count": 7,
   "metadata": {},
   "outputs": [
    {
     "data": {
      "text/plain": [
       "<matplotlib.axes._subplots.AxesSubplot at 0x10a015050>"
      ]
     },
     "execution_count": 7,
     "metadata": {},
     "output_type": "execute_result"
    },
    {
     "data": {
      "image/png": "[encoded data removed]",
      "text/plain": [
       "<Figure size 432x288 with 1 Axes>"
      ]
     },
     "metadata": {},
     "output_type": "display_data"
    }
   ],
   "source": [
    "sb.barplot(x='Cue Validity',y='Attention Reaction Time (s)', hue='Cue Validity',data=df[df['Trial Type']=='Presentation'])"
   ]
  },
  {
   "cell_type": "code",
   "execution_count": 9,
   "metadata": {},
   "outputs": [
    {
     "name": "stderr",
     "output_type": "stream",
     "text": [
      "/Users/Student/Library/Enthought/Canopy_64bit/User/lib/python2.7/site-packages/ipykernel_launcher.py:20: SettingWithCopyWarning: \n",
      "A value is trying to be set on a copy of a slice from a DataFrame\n",
      "\n",
      "See the caveats in the documentation: http://pandas.pydata.org/pandas-docs/stable/indexing.html#indexing-view-versus-copy\n",
      "/Users/Student/Library/Enthought/Canopy_64bit/User/lib/python2.7/site-packages/pandas/core/indexing.py:194: SettingWithCopyWarning: \n",
      "A value is trying to be set on a copy of a slice from a DataFrame\n",
      "\n",
      "See the caveats in the documentation: http://pandas.pydata.org/pandas-docs/stable/indexing.html#indexing-view-versus-copy\n",
      "  self._setitem_with_indexer(indexer, value)\n",
      "/Users/Student/Library/Enthought/Canopy_64bit/User/lib/python2.7/site-packages/ipykernel_launcher.py:25: SettingWithCopyWarning: \n",
      "A value is trying to be set on a copy of a slice from a DataFrame\n",
      "\n",
      "See the caveats in the documentation: http://pandas.pydata.org/pandas-docs/stable/indexing.html#indexing-view-versus-copy\n",
      "/Users/Student/Library/Enthought/Canopy_64bit/User/lib/python2.7/site-packages/ipykernel_launcher.py:14: SettingWithCopyWarning: \n",
      "A value is trying to be set on a copy of a slice from a DataFrame\n",
      "\n",
      "See the caveats in the documentation: http://pandas.pydata.org/pandas-docs/stable/indexing.html#indexing-view-versus-copy\n",
      "  \n"
     ]
    }
   ],
   "source": [
    "# Add the Attention Level labels from presentation to the Memory Images\n",
    "\n",
    "cued_cat = df[df['Trial Type']=='Presentation']['Cued Category'].tolist()[0]\n",
    "\n",
    "for index,row in df.iterrows():\n",
    "    \n",
    "    if row['Trial Type']=='Memory':\n",
    "        mem_image = row['Memory Image']\n",
    "        # for mem_image in df[df['Trial Type']=='Memory']['Memory Image'].tolist(): \n",
    "        # loop over rows in memory chunk and pull memory image from each\n",
    "\n",
    "        for cue in ['Cued ', 'Uncued ']:\n",
    "            for cat in ['Face', 'Place']:\n",
    "                if df.loc[df[cue+cat] == mem_image].shape[0]!=0:\n",
    "                    if cat == cued_cat:\n",
    "                        df['Category'][index]=cued_cat\n",
    "                        if cue == 'Cued ':\n",
    "                            attention = \"Full\"\n",
    "                        elif cue == 'Uncued ': \n",
    "                            attention = \"Category\"\n",
    "                    else:\n",
    "                        df['Category'][index]=cat\n",
    "                        if cue == 'Uncued ':\n",
    "                            attention = \"None\"\n",
    "                        elif cue == 'Cued ': \n",
    "                            attention = \"Side\"  \n",
    "                    df['Attention Level'][index] = attention\n",
    "                    "
   ]
  },
  {
   "cell_type": "code",
   "execution_count": 10,
   "metadata": {},
   "outputs": [
    {
     "data": {
      "text/plain": [
       "<matplotlib.axes._subplots.AxesSubplot at 0x10a11aed0>"
      ]
     },
     "execution_count": 10,
     "metadata": {},
     "output_type": "execute_result"
    },
    {
     "data": {
      "image/png": "[encoded data removed]",
      "text/plain": [
       "<Figure size 432x288 with 1 Axes>"
      ]
     },
     "metadata": {},
     "output_type": "display_data"
    }
   ],
   "source": [
    "sb.barplot(x='Attention Level',y='Familiarity Rating',data=df)"
   ]
  },
  {
   "cell_type": "code",
   "execution_count": 27,
   "metadata": {},
   "outputs": [
    {
     "data": {
      "text/plain": [
       "50"
      ]
     },
     "execution_count": 27,
     "metadata": {},
     "output_type": "execute_result"
    }
   ],
   "source": [
    "df.shape[0]"
   ]
  },
  {
   "cell_type": "code",
   "execution_count": 19,
   "metadata": {},
   "outputs": [],
   "source": [
    "mem_mask = df['Trial Type']=='Memory'\n",
    "df.loc[mem_mask,'Attention Level'] = df.loc[mem_mask,'Attention Level'].fillna('Novel')"
   ]
  },
  {
   "cell_type": "code",
   "execution_count": 72,
   "metadata": {},
   "outputs": [
    {
     "data": {
      "image/png": "[encoded data removed]",
      "text/plain": [
       "<Figure size 432x288 with 1 Axes>"
      ]
     },
     "metadata": {},
     "output_type": "display_data"
    }
   ],
   "source": [
    "# make and display ROC data (not by category)\n",
    "import matplotlib.pyplot as plt\n",
    "\n",
    "ratings = [1.0, 2.0, 3.0, 4.0]\n",
    "ROC = {}\n",
    "\n",
    "fig = plt.figure()\n",
    "ax1 = fig.add_subplot(111)\n",
    "\n",
    "# for each attention level\n",
    "for attn in ['Novel', 'None','Side','Full','Category']:\n",
    "    ROC[attn] = []\n",
    "    \n",
    "    # for each possible number rating\n",
    "    for idx in range(len(ratings)):\n",
    "        \n",
    "        # proportion of times they rated that attn level & proportion of Novel that got that rating\n",
    "        num = df.loc[(df['Attention Level'] == attn) & df['Familiarity Rating'].isin(ratings[:idx+1])].shape[0]\n",
    "        denom = df.loc[df['Attention Level'] == attn].shape[0]\n",
    "        ROC[attn].append(float(num)/denom)\n",
    "    \n",
    "    if attn != 'Novel':\n",
    "        ax1.scatter(ROC['Novel'], ROC[attn], label=attn)\n",
    "    \n",
    "plt.legend(loc='upper left');\n",
    "plt.ylim(0, 1)\n",
    "plt.xlim(0, 1)\n",
    "plt.gca().set_aspect('equal', adjustable='box')\n",
    "plt.show()\n",
    "        "
   ]
  },
  {
   "cell_type": "code",
   "execution_count": null,
   "metadata": {},
   "outputs": [],
   "source": []
  }
 ],
 "metadata": {
  "kernelspec": {
   "display_name": "Python 3",
   "language": "python",
   "name": "python3"
  },
  "language_info": {
   "codemirror_mode": {
    "name": "ipython",
    "version": 2
   },
   "file_extension": ".py",
   "mimetype": "text/x-python",
   "name": "python",
   "nbconvert_exporter": "python",
   "pygments_lexer": "ipython2",
   "version": "2.7.11"
  }
 },
 "nbformat": 4,
 "nbformat_minor": 2
}
