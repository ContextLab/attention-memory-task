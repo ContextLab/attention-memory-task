{
 "cells": [
  {
   "cell_type": "markdown",
   "metadata": {},
   "source": [
    "# Package Import"
   ]
  },
  {
   "cell_type": "code",
   "execution_count": 40,
   "metadata": {},
   "outputs": [],
   "source": [
    "import seaborn as sns\n",
    "import os\n",
    "import pickle\n",
    "import statistics\n",
    "import matplotlib.pyplot as plt"
   ]
  },
  {
   "cell_type": "markdown",
   "metadata": {},
   "source": [
    "# Helper Functions"
   ]
  },
  {
   "cell_type": "code",
   "execution_count": 41,
   "metadata": {},
   "outputs": [],
   "source": [
    "\n",
    "# in: main directory name (../data)\n",
    "# out: list of subdirectories\n",
    "def get_subdirectories(a_dir):\n",
    "    return [a_dir + '/' + name for name in os.listdir(a_dir)\n",
    "            if os.path.isdir(os.path.join(a_dir, name))]\n",
    "\n",
    "\n",
    "# in: directory name\n",
    "# out: list of .pkl files within directory\n",
    "def get_files(dir_name):\n",
    "    files = [dir_name + '/' + f for f in os.listdir(dir_name) if f.endswith('.pkl')]\n",
    "    return files\n",
    "\n",
    "\n",
    "\n",
    "# in: list of .pkl files within directory\n",
    "# out: dict that maps mem_items.pkl to corresponding previous_items.pkl\n",
    "def make_run_dict(files):\n",
    "    runs = {}\n",
    "    \n",
    "    for f in files:\n",
    "        if f.endswith('mem_items.pkl'):\n",
    "            runs[f] = f[0:-13] + 'previous_items.pkl'\n",
    "            \n",
    "    return runs\n",
    "\n",
    "\n",
    "# in: run is the name of mem_items.pkl, runs[run] is the name of corresponding previous_items.pkl\n",
    "#     mass is the aggregate data\n",
    "# out: none, prints if outlier\n",
    "def is_outlier(mass, runs):\n",
    "\n",
    "    cued_avg = np.mean(mass['cued_RT']) \n",
    "    uncued_avg = np.mean(mass['uncued_RT'])\n",
    "    cued_sd = 3 * statistics.stdev(mass['cued_RT'])\n",
    "    uncued_sd = 3 * statistics.stdev(mass['uncued_RT'])\n",
    "\n",
    "    for run in runs:\n",
    "        \n",
    "        with open(run, 'rb') as fp:\n",
    "            prev = pickle.load(fp)\n",
    "        #fp.close()\n",
    "        \n",
    "        cued = sum(prev['cued_RT']) / len(prev['cued_RT'])\n",
    "        uncued = sum(prev['uncued_RT']) / len(prev['uncued_RT'])\n",
    "        if (cued > cued_avg + cued_sd or cued < cued_avg - cued_sd or uncued > uncued_avg + uncued_sd or uncued < uncued_avg - uncued_sd):\n",
    "            print(\"Outlier in \" + runs[run])\n",
    "\n",
    "        fp.close()\n",
    "    \n",
    "\n",
    "# in: dict of runs mem_items: previous_items\n",
    "# out: none, modifies mass dictionary\n",
    "def aggregate(run, runs, mass):\n",
    "    with open(run, 'rb') as fp1:\n",
    "        mem = pickle.load(fp1)\n",
    "        \n",
    "        mass['images'].extend(mem['images'])\n",
    "        mass['ratings'].extend(mem['ratings'])\n",
    "        \n",
    "    fp1.close()\n",
    "    \n",
    "    with open(runs[run], 'rb') as fp2:\n",
    "        prev = pickle.load(fp2)\n",
    "        \n",
    "        mass['cued'].extend(prev['cued'])\n",
    "        mass['cued_RT'].extend(prev['cued_RT'])\n",
    "        mass['uncued'].extend(prev['uncued'])\n",
    "        mass['uncued_RT'].extend(prev['uncued_RT'])\n",
    "        \n",
    "    fp2.close()\n",
    "    \n",
    "    \n",
    "def plot_rl(mass):\n",
    "    df = pd.DataFrame.from_dict(mass, orient='index')\n",
    "    df = df.T\n",
    "    df_new = df.replace('None', 'Nan')\n",
    "    \n",
    "    return(df_new)\n",
    "    \n",
    "    #sns.barplot(data=df_new, ci=95)\n",
    "    \n",
    "    \n",
    "\n",
    "def plot_response(mass, category=False):\n",
    "    images = mass['images']\n",
    "    ratings = mass['ratings']\n",
    "    cued = mass['cued']\n",
    "    uncued = mass['uncued']\n",
    "\n",
    "\n",
    "    cued_count = 0\n",
    "    cued_actual = 0\n",
    "    \n",
    "    cued_count_face = 0\n",
    "    cued_actual_face = 0\n",
    "    \n",
    "    cued_count_house = 0\n",
    "    cued_actual_house = 0\n",
    "    \n",
    "    uncued_count = 0\n",
    "    uncued_actual = 0\n",
    "    \n",
    "    uncued_count_face = 0\n",
    "    uncued_actual_face = 0\n",
    "    \n",
    "    uncued_count_house = 0\n",
    "    uncued_actual_house = 0\n",
    "    \n",
    "    unseen_count_face = 0\n",
    "    unseen_actual_face = 0\n",
    "    \n",
    "    unseen_count_house = 0\n",
    "    unseen_actual_house = 0\n",
    "\n",
    "    cued_rt = []\n",
    "    uncued_rt = []\n",
    "    unseen_rt_face = []\n",
    "    unseen_rt_house = []\n",
    "    uncued_rt_face = []\n",
    "    uncued_rt_house = []    \n",
    "    cued_rt_face = []\n",
    "    cued_rt_house = []\n",
    "\n",
    "    for i in range(len(ratings)):\n",
    "        image = images[i]\n",
    "        rt = ratings[i][-1][1]  # this gives reaction time (float)\n",
    "        score = ratings[i][-1][0]    # this gives rating (int)\n",
    "\n",
    "        if image in cued:\n",
    "            if \"CFD\" in image:\n",
    "                if (score==2 or score==1) :\n",
    "                    cued_count_face += 1\n",
    "                if (score==1 or score==2 or score==3 or score==4):\n",
    "                    cued_actual_face += 1\n",
    "                    cued_rt_face.append(rt)\n",
    "            else:\n",
    "                if (score==2 or score==1) :\n",
    "                    cued_count_house += 1\n",
    "                if (score==1 or score==2 or score==3 or score==4):\n",
    "                    cued_actual_house += 1\n",
    "                    cued_rt_house.append(rt)\n",
    "            \n",
    "        elif image in uncued:\n",
    "            if \"CFD\" in image:\n",
    "                if (score==2 or score==1) :\n",
    "                    uncued_count_face += 1\n",
    "                if (score==1 or score==2 or score==3 or score==4):\n",
    "                    uncued_actual_face += 1 \n",
    "                    uncued_rt_face.append(rt)\n",
    "            else:\n",
    "                if (score==2 or score==1) :\n",
    "                    uncued_count_house += 1\n",
    "                if (score==1 or score==2 or score==3 or score==4):\n",
    "                    uncued_actual_house += 1\n",
    "                    uncued_rt_house.append(rt)\n",
    "        else:\n",
    "            if \"CFD\" in image:\n",
    "                if (score==2 or score==1) :\n",
    "                    unseen_count_face += 1\n",
    "                if (score==1 or score==2 or score==3 or score==4):\n",
    "                    unseen_actual_face += 1 \n",
    "                    unseen_rt_face.append(rt)\n",
    "            else:\n",
    "                if (score==2 or score==1) :\n",
    "                    unseen_count_house += 1\n",
    "                if (score==1 or score==2 or score==3 or score==4):\n",
    "                    unseen_actual_house += 1\n",
    "                    unseen_rt_house.append(rt)\n",
    "#             if (score==1 or score==2):\n",
    "#                 unseen_count= +1\n",
    "#             #unseen_count += 1\n",
    "#             unseen_actual += 1\n",
    "#             unseen_rt.append(rt)\n",
    "\n",
    "    if category==True:\n",
    "        #PLOT HOUSES AND FACES SEPARATELY\n",
    "    \n",
    "        cued_acc_house = cued_count_house / float(cued_actual_house)\n",
    "        cued_acc_face = cued_count_face / float(cued_actual_face)\n",
    "        uncued_acc_face = uncued_count_face / float(uncued_actual_face)\n",
    "        uncued_acc_house = uncued_count_house / float(uncued_actual_house)\n",
    "        \n",
    "        unseen_inacc_house = unseen_count_house / float(unseen_actual_house)\n",
    "        unseen_inacc_face = unseen_count_face / float(unseen_actual_face)\n",
    "        \n",
    "    \n",
    "        mydict = {'uncued_F':[uncued_acc_face], 'uncued_H':[uncued_acc_house], 'cued_H':[cued_acc_house], 'cued_F': [cued_acc_face], 'novel_H':[unseen_inacc_house], 'novel_F':[unseen_inacc_face]}\n",
    "        to_plot = pd.DataFrame(mydict)\n",
    "    \n",
    "        #sns.barplot(data=[[uncued_acc_face], [uncued_acc_house], [cued_acc_face], [cued_acc_house]])\n",
    "        #sns.barplot(data=to_plot)\n",
    "    \n",
    "    # graph\n",
    "    \n",
    "    else:\n",
    "        #PLOT ALL TOGETHER\n",
    "        cued_acc = (cued_count_house + cued_count_face)/(cued_actual_house + cued_actual_face)\n",
    "        uncued_acc = (uncued_count_face+uncued_count_house) / float(uncued_actual_face+uncued_actual_house)\n",
    "        unseen_acc = (unseen_count_house+unseen_count_face) / float(unseen_actual_house+unseen_actual_face)\n",
    "        \n",
    "        mydict = {'uncued':[uncued_acc], 'cued_acc':[cued_acc], 'unseen_acc': [unseen_acc]}\n",
    "        to_plot = pd.DataFrame(mydict)\n",
    "    \n",
    "        #sns.barplot(data=to_plot)\n",
    "        \n",
    "    return(to_plot)\n"
   ]
  },
  {
   "cell_type": "code",
   "execution_count": 42,
   "metadata": {},
   "outputs": [],
   "source": [
    "# MAIN FUNCTION(S)\n",
    "\n",
    "def mass_data(folder):\n",
    "    mass_list = []\n",
    "    dirs = get_subdirectories(folder)\n",
    "\n",
    "    for dir_name in dirs:\n",
    "        runs = make_run_dict(get_files(dir_name))\n",
    "        mass = {'images':[], 'ratings':[], 'cued':[], 'cued_RT':[], 'uncued':[], 'uncued_RT':[]}\n",
    "\n",
    "        for run in runs:\n",
    "            aggregate(run, runs, mass)\n",
    "            \n",
    "           \n",
    "        mass_list.append(mass)    \n",
    "    return(mass_list)\n",
    "    \n",
    "         \n",
    "        # outliers not working, at present\n",
    "            \n",
    "#         if is_outlier(mass, runs):\n",
    "#             print(\"Outlier: \" + run)\n",
    "#             runs.pop(run)\n",
    "    "
   ]
  },
  {
   "cell_type": "markdown",
   "metadata": {},
   "source": [
    "# Compile Subject Data"
   ]
  },
  {
   "cell_type": "code",
   "execution_count": 46,
   "metadata": {},
   "outputs": [],
   "source": [
    "sub_data = mass_data('../data')"
   ]
  },
  {
   "cell_type": "markdown",
   "metadata": {},
   "source": [
    "# Plot"
   ]
  },
  {
   "cell_type": "code",
   "execution_count": 64,
   "metadata": {},
   "outputs": [
    {
     "name": "stdout",
     "output_type": "stream",
     "text": [
      "SUBJECT 0 Overview\n"
     ]
    },
    {
     "data": {
      "image/png": "[encoded data removed]",
      "text/plain": [
       "<matplotlib.figure.Figure at 0x109c1db38>"
      ]
     },
     "metadata": {},
     "output_type": "display_data"
    },
    {
     "name": "stdout",
     "output_type": "stream",
     "text": [
      "SUBJECT 1 Overview\n"
     ]
    },
    {
     "data": {
      "image/png": "[encoded data removed]",
      "text/plain": [
       "<matplotlib.figure.Figure at 0x109ffdda0>"
      ]
     },
     "metadata": {},
     "output_type": "display_data"
    },
    {
     "name": "stdout",
     "output_type": "stream",
     "text": [
      "SUBJECT 2 Overview\n"
     ]
    },
    {
     "data": {
      "image/png": "[encoded data removed]",
      "text/plain": [
       "<matplotlib.figure.Figure at 0x108f01400>"
      ]
     },
     "metadata": {},
     "output_type": "display_data"
    }
   ],
   "source": [
    "import matplotlib.pyplot as plt\n",
    "import seaborn.apionly as sns\n",
    "import matplotlib.gridspec as gridspec\n",
    "\n",
    "for x,subject in enumerate(sub_data):\n",
    "    \n",
    "    print(\"SUBJECT \" + str(x) + ' Overview')\n",
    "\n",
    "    # can try to use the line below to ouput subplots for each subject\n",
    "    fig, [ax1, ax2, ax3] = plt.subplots(1,3, figsize=(20,5))#, gridspec_kw=gridkw)\n",
    "    \n",
    "    sns.barplot(data=plot_rl(subject), ax=ax1)\n",
    "   \n",
    "    sns.barplot(data=plot_response(subject), ax=ax2)\n",
    "   \n",
    "    sns.barplot(data=plot_response(subject, category=True), ax=ax3)\n",
    "    \n",
    "    plt.show()\n",
    "\n"
   ]
  },
  {
   "cell_type": "code",
   "execution_count": null,
   "metadata": {},
   "outputs": [],
   "source": []
  }
 ],
 "metadata": {
  "kernelspec": {
   "display_name": "Python 3",
   "language": "python",
   "name": "python3"
  },
  "language_info": {
   "codemirror_mode": {
    "name": "ipython",
    "version": 3
   },
   "file_extension": ".py",
   "mimetype": "text/x-python",
   "name": "python",
   "nbconvert_exporter": "python",
   "pygments_lexer": "ipython3",
   "version": "3.6.1"
  }
 },
 "nbformat": 4,
 "nbformat_minor": 1
}
