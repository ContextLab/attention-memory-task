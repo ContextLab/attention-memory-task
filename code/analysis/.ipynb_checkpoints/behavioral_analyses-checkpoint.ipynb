{
 "cells": [
  {
   "cell_type": "markdown",
   "metadata": {},
   "source": [
    "# Import "
   ]
  },
  {
   "cell_type": "code",
   "execution_count": 1,
   "metadata": {},
   "outputs": [],
   "source": [
    "import pandas as pd \n",
    "import os\n",
    "import numpy as np\n",
    "import seaborn as sb\n",
    "from analysis_helpers import *\n",
    "#from experiment_helpers import *\n",
    "import warnings\n",
    "warnings.filterwarnings('ignore')"
   ]
  },
  {
   "cell_type": "markdown",
   "metadata": {},
   "source": [
    "# Parameters"
   ]
  },
  {
   "cell_type": "code",
   "execution_count": 2,
   "metadata": {},
   "outputs": [],
   "source": [
    "params = {'runs':8, 'presentations_per_run':10, \n",
    "          'invalid_cue_percentage':10, 'mem_to_pres':4, \n",
    "          'mem_pres_split':2}\n",
    "\n",
    "subdir = '/Users/Student/Desktop/attention-memory-task/data/KIRSTEN_LAST_2018_Jul_06'"
   ]
  },
  {
   "cell_type": "code",
   "execution_count": 10,
   "metadata": {},
   "outputs": [],
   "source": [
    "# stimulus_check(subdir, params)"
   ]
  },
  {
   "cell_type": "markdown",
   "metadata": {},
   "source": [
    "# Basic Analysis"
   ]
  },
  {
   "cell_type": "markdown",
   "metadata": {},
   "source": [
    "## Compile subject dataframe\n",
    "Note: all Pres & Mem runs in this subject's single DF. <br />\n",
    "Columns pertaining to only to one run type, will be Nan in rows of the other run type"
   ]
  },
  {
   "cell_type": "code",
   "execution_count": 11,
   "metadata": {},
   "outputs": [
    {
     "data": {
      "text/html": [
       "<div>\n",
       "<style scoped>\n",
       "    .dataframe tbody tr th:only-of-type {\n",
       "        vertical-align: middle;\n",
       "    }\n",
       "\n",
       "    .dataframe tbody tr th {\n",
       "        vertical-align: top;\n",
       "    }\n",
       "\n",
       "    .dataframe thead th {\n",
       "        text-align: right;\n",
       "    }\n",
       "</style>\n",
       "<table border=\"1\" class=\"dataframe\">\n",
       "  <thead>\n",
       "    <tr style=\"text-align: right;\">\n",
       "      <th></th>\n",
       "      <th>Unnamed: 0</th>\n",
       "      <th>Subject</th>\n",
       "      <th>Trial Type</th>\n",
       "      <th>Run</th>\n",
       "      <th>Cued Composite</th>\n",
       "      <th>Uncued Composite</th>\n",
       "      <th>Cued Face</th>\n",
       "      <th>Cued Place</th>\n",
       "      <th>Uncued Face</th>\n",
       "      <th>Uncued Place</th>\n",
       "      <th>...</th>\n",
       "      <th>Familiarity Rating</th>\n",
       "      <th>Attention Level</th>\n",
       "      <th>Cue Validity</th>\n",
       "      <th>Post Invalid Cue</th>\n",
       "      <th>Pre Invalid Cue</th>\n",
       "      <th>Attention Button</th>\n",
       "      <th>Rating History</th>\n",
       "      <th>Stimulus Onset</th>\n",
       "      <th>Stimulus End</th>\n",
       "      <th>Stimulus Start</th>\n",
       "    </tr>\n",
       "  </thead>\n",
       "  <tbody>\n",
       "    <tr>\n",
       "      <th>0</th>\n",
       "      <td>10</td>\n",
       "      <td>KIRSTEN_LAST</td>\n",
       "      <td>Memory</td>\n",
       "      <td>0</td>\n",
       "      <td>NaN</td>\n",
       "      <td>NaN</td>\n",
       "      <td>NaN</td>\n",
       "      <td>NaN</td>\n",
       "      <td>NaN</td>\n",
       "      <td>NaN</td>\n",
       "      <td>...</td>\n",
       "      <td>1.0</td>\n",
       "      <td>Full</td>\n",
       "      <td>NaN</td>\n",
       "      <td>NaN</td>\n",
       "      <td>NaN</td>\n",
       "      <td>NaN</td>\n",
       "      <td>NaN</td>\n",
       "      <td>NaN</td>\n",
       "      <td>1.530914e+09</td>\n",
       "      <td>1.530914e+09</td>\n",
       "    </tr>\n",
       "    <tr>\n",
       "      <th>1</th>\n",
       "      <td>11</td>\n",
       "      <td>KIRSTEN_LAST</td>\n",
       "      <td>Memory</td>\n",
       "      <td>0</td>\n",
       "      <td>NaN</td>\n",
       "      <td>NaN</td>\n",
       "      <td>NaN</td>\n",
       "      <td>NaN</td>\n",
       "      <td>NaN</td>\n",
       "      <td>NaN</td>\n",
       "      <td>...</td>\n",
       "      <td>2.0</td>\n",
       "      <td>Novel</td>\n",
       "      <td>NaN</td>\n",
       "      <td>NaN</td>\n",
       "      <td>NaN</td>\n",
       "      <td>NaN</td>\n",
       "      <td>NaN</td>\n",
       "      <td>NaN</td>\n",
       "      <td>1.530914e+09</td>\n",
       "      <td>1.530914e+09</td>\n",
       "    </tr>\n",
       "    <tr>\n",
       "      <th>2</th>\n",
       "      <td>12</td>\n",
       "      <td>KIRSTEN_LAST</td>\n",
       "      <td>Memory</td>\n",
       "      <td>0</td>\n",
       "      <td>NaN</td>\n",
       "      <td>NaN</td>\n",
       "      <td>NaN</td>\n",
       "      <td>NaN</td>\n",
       "      <td>NaN</td>\n",
       "      <td>NaN</td>\n",
       "      <td>...</td>\n",
       "      <td>1.0</td>\n",
       "      <td>Side</td>\n",
       "      <td>NaN</td>\n",
       "      <td>NaN</td>\n",
       "      <td>NaN</td>\n",
       "      <td>NaN</td>\n",
       "      <td>NaN</td>\n",
       "      <td>NaN</td>\n",
       "      <td>1.530914e+09</td>\n",
       "      <td>1.530914e+09</td>\n",
       "    </tr>\n",
       "    <tr>\n",
       "      <th>3</th>\n",
       "      <td>13</td>\n",
       "      <td>KIRSTEN_LAST</td>\n",
       "      <td>Memory</td>\n",
       "      <td>0</td>\n",
       "      <td>NaN</td>\n",
       "      <td>NaN</td>\n",
       "      <td>NaN</td>\n",
       "      <td>NaN</td>\n",
       "      <td>NaN</td>\n",
       "      <td>NaN</td>\n",
       "      <td>...</td>\n",
       "      <td>4.0</td>\n",
       "      <td>Side</td>\n",
       "      <td>NaN</td>\n",
       "      <td>NaN</td>\n",
       "      <td>NaN</td>\n",
       "      <td>NaN</td>\n",
       "      <td>NaN</td>\n",
       "      <td>NaN</td>\n",
       "      <td>1.530914e+09</td>\n",
       "      <td>1.530914e+09</td>\n",
       "    </tr>\n",
       "    <tr>\n",
       "      <th>4</th>\n",
       "      <td>14</td>\n",
       "      <td>KIRSTEN_LAST</td>\n",
       "      <td>Memory</td>\n",
       "      <td>0</td>\n",
       "      <td>NaN</td>\n",
       "      <td>NaN</td>\n",
       "      <td>NaN</td>\n",
       "      <td>NaN</td>\n",
       "      <td>NaN</td>\n",
       "      <td>NaN</td>\n",
       "      <td>...</td>\n",
       "      <td>1.0</td>\n",
       "      <td>Novel</td>\n",
       "      <td>NaN</td>\n",
       "      <td>NaN</td>\n",
       "      <td>NaN</td>\n",
       "      <td>NaN</td>\n",
       "      <td>NaN</td>\n",
       "      <td>NaN</td>\n",
       "      <td>1.530914e+09</td>\n",
       "      <td>1.530914e+09</td>\n",
       "    </tr>\n",
       "  </tbody>\n",
       "</table>\n",
       "<p>5 rows × 26 columns</p>\n",
       "</div>"
      ],
      "text/plain": [
       "   Unnamed: 0       Subject Trial Type  Run Cued Composite Uncued Composite  \\\n",
       "0          10  KIRSTEN_LAST     Memory    0            NaN              NaN   \n",
       "1          11  KIRSTEN_LAST     Memory    0            NaN              NaN   \n",
       "2          12  KIRSTEN_LAST     Memory    0            NaN              NaN   \n",
       "3          13  KIRSTEN_LAST     Memory    0            NaN              NaN   \n",
       "4          14  KIRSTEN_LAST     Memory    0            NaN              NaN   \n",
       "\n",
       "  Cued Face Cued Place Uncued Face Uncued Place       ...        \\\n",
       "0       NaN        NaN         NaN          NaN       ...         \n",
       "1       NaN        NaN         NaN          NaN       ...         \n",
       "2       NaN        NaN         NaN          NaN       ...         \n",
       "3       NaN        NaN         NaN          NaN       ...         \n",
       "4       NaN        NaN         NaN          NaN       ...         \n",
       "\n",
       "  Familiarity Rating Attention Level Cue Validity Post Invalid Cue  \\\n",
       "0                1.0            Full          NaN              NaN   \n",
       "1                2.0           Novel          NaN              NaN   \n",
       "2                1.0            Side          NaN              NaN   \n",
       "3                4.0            Side          NaN              NaN   \n",
       "4                1.0           Novel          NaN              NaN   \n",
       "\n",
       "   Pre Invalid Cue  Attention Button  Rating History Stimulus Onset  \\\n",
       "0              NaN               NaN             NaN            NaN   \n",
       "1              NaN               NaN             NaN            NaN   \n",
       "2              NaN               NaN             NaN            NaN   \n",
       "3              NaN               NaN             NaN            NaN   \n",
       "4              NaN               NaN             NaN            NaN   \n",
       "\n",
       "   Stimulus End  Stimulus Start  \n",
       "0  1.530914e+09    1.530914e+09  \n",
       "1  1.530914e+09    1.530914e+09  \n",
       "2  1.530914e+09    1.530914e+09  \n",
       "3  1.530914e+09    1.530914e+09  \n",
       "4  1.530914e+09    1.530914e+09  \n",
       "\n",
       "[5 rows x 26 columns]"
      ]
     },
     "execution_count": 11,
     "metadata": {},
     "output_type": "execute_result"
    }
   ],
   "source": [
    "df = add_level(sum_pd(subdir))\n",
    "df.head()"
   ]
  },
  {
   "cell_type": "code",
   "execution_count": 12,
   "metadata": {},
   "outputs": [
    {
     "data": {
      "text/plain": [
       "1530913995.3530061"
      ]
     },
     "execution_count": 12,
     "metadata": {},
     "output_type": "execute_result"
    }
   ],
   "source": [
    "df['Stimulus End'][5]"
   ]
  },
  {
   "cell_type": "code",
   "execution_count": 13,
   "metadata": {},
   "outputs": [
    {
     "data": {
      "text/plain": [
       "<matplotlib.axes._subplots.AxesSubplot at 0x10a47ae90>"
      ]
     },
     "execution_count": 13,
     "metadata": {},
     "output_type": "execute_result"
    },
    {
     "data": {
      "image/png": "[encoded data removed]",
      "text/plain": [
       "<Figure size 432x288 with 1 Axes>"
      ]
     },
     "metadata": {},
     "output_type": "display_data"
    }
   ],
   "source": [
    "sb.boxplot(x='Cue Validity',y='Attention Reaction Time (s)', hue='Cue Validity',data=df[df['Trial Type']=='Presentation'])"
   ]
  },
  {
   "cell_type": "code",
   "execution_count": 14,
   "metadata": {
    "scrolled": true
   },
   "outputs": [
    {
     "data": {
      "text/plain": [
       "<matplotlib.axes._subplots.AxesSubplot at 0x10a4fe450>"
      ]
     },
     "execution_count": 14,
     "metadata": {},
     "output_type": "execute_result"
    },
    {
     "data": {
      "image/png": "[encoded data removed]",
      "text/plain": [
       "<Figure size 432x288 with 1 Axes>"
      ]
     },
     "metadata": {},
     "output_type": "display_data"
    }
   ],
   "source": [
    "sb.barplot(x='Attention Level',y='Familiarity Rating',data=df)"
   ]
  },
  {
   "cell_type": "code",
   "execution_count": 15,
   "metadata": {},
   "outputs": [
    {
     "data": {
      "image/png": "[encoded data removed]",
      "text/plain": [
       "<Figure size 432x288 with 1 Axes>"
      ]
     },
     "metadata": {},
     "output_type": "display_data"
    }
   ],
   "source": [
    "ROC(df)"
   ]
  },
  {
   "cell_type": "code",
   "execution_count": 16,
   "metadata": {},
   "outputs": [
    {
     "data": {
      "text/html": [
       "<div>\n",
       "<style scoped>\n",
       "    .dataframe tbody tr th:only-of-type {\n",
       "        vertical-align: middle;\n",
       "    }\n",
       "\n",
       "    .dataframe tbody tr th {\n",
       "        vertical-align: top;\n",
       "    }\n",
       "\n",
       "    .dataframe thead th {\n",
       "        text-align: right;\n",
       "    }\n",
       "</style>\n",
       "<table border=\"1\" class=\"dataframe\">\n",
       "  <thead>\n",
       "    <tr style=\"text-align: right;\">\n",
       "      <th></th>\n",
       "      <th>Unnamed: 0</th>\n",
       "      <th>Subject</th>\n",
       "      <th>Trial Type</th>\n",
       "      <th>Run</th>\n",
       "      <th>Cued Composite</th>\n",
       "      <th>Uncued Composite</th>\n",
       "      <th>Cued Face</th>\n",
       "      <th>Cued Place</th>\n",
       "      <th>Uncued Face</th>\n",
       "      <th>Uncued Place</th>\n",
       "      <th>...</th>\n",
       "      <th>Familiarity Rating</th>\n",
       "      <th>Attention Level</th>\n",
       "      <th>Cue Validity</th>\n",
       "      <th>Post Invalid Cue</th>\n",
       "      <th>Pre Invalid Cue</th>\n",
       "      <th>Attention Button</th>\n",
       "      <th>Rating History</th>\n",
       "      <th>Stimulus Onset</th>\n",
       "      <th>Stimulus End</th>\n",
       "      <th>Stimulus Start</th>\n",
       "    </tr>\n",
       "  </thead>\n",
       "  <tbody>\n",
       "    <tr>\n",
       "      <th>0</th>\n",
       "      <td>10</td>\n",
       "      <td>KIRSTEN_LAST</td>\n",
       "      <td>Memory</td>\n",
       "      <td>0</td>\n",
       "      <td>NaN</td>\n",
       "      <td>NaN</td>\n",
       "      <td>NaN</td>\n",
       "      <td>NaN</td>\n",
       "      <td>NaN</td>\n",
       "      <td>NaN</td>\n",
       "      <td>...</td>\n",
       "      <td>1.0</td>\n",
       "      <td>Full</td>\n",
       "      <td>NaN</td>\n",
       "      <td>NaN</td>\n",
       "      <td>NaN</td>\n",
       "      <td>NaN</td>\n",
       "      <td>NaN</td>\n",
       "      <td>NaN</td>\n",
       "      <td>1.530914e+09</td>\n",
       "      <td>1.530914e+09</td>\n",
       "    </tr>\n",
       "    <tr>\n",
       "      <th>1</th>\n",
       "      <td>11</td>\n",
       "      <td>KIRSTEN_LAST</td>\n",
       "      <td>Memory</td>\n",
       "      <td>0</td>\n",
       "      <td>NaN</td>\n",
       "      <td>NaN</td>\n",
       "      <td>NaN</td>\n",
       "      <td>NaN</td>\n",
       "      <td>NaN</td>\n",
       "      <td>NaN</td>\n",
       "      <td>...</td>\n",
       "      <td>2.0</td>\n",
       "      <td>Novel</td>\n",
       "      <td>NaN</td>\n",
       "      <td>NaN</td>\n",
       "      <td>NaN</td>\n",
       "      <td>NaN</td>\n",
       "      <td>NaN</td>\n",
       "      <td>NaN</td>\n",
       "      <td>1.530914e+09</td>\n",
       "      <td>1.530914e+09</td>\n",
       "    </tr>\n",
       "    <tr>\n",
       "      <th>2</th>\n",
       "      <td>12</td>\n",
       "      <td>KIRSTEN_LAST</td>\n",
       "      <td>Memory</td>\n",
       "      <td>0</td>\n",
       "      <td>NaN</td>\n",
       "      <td>NaN</td>\n",
       "      <td>NaN</td>\n",
       "      <td>NaN</td>\n",
       "      <td>NaN</td>\n",
       "      <td>NaN</td>\n",
       "      <td>...</td>\n",
       "      <td>1.0</td>\n",
       "      <td>Side</td>\n",
       "      <td>NaN</td>\n",
       "      <td>NaN</td>\n",
       "      <td>NaN</td>\n",
       "      <td>NaN</td>\n",
       "      <td>NaN</td>\n",
       "      <td>NaN</td>\n",
       "      <td>1.530914e+09</td>\n",
       "      <td>1.530914e+09</td>\n",
       "    </tr>\n",
       "    <tr>\n",
       "      <th>3</th>\n",
       "      <td>13</td>\n",
       "      <td>KIRSTEN_LAST</td>\n",
       "      <td>Memory</td>\n",
       "      <td>0</td>\n",
       "      <td>NaN</td>\n",
       "      <td>NaN</td>\n",
       "      <td>NaN</td>\n",
       "      <td>NaN</td>\n",
       "      <td>NaN</td>\n",
       "      <td>NaN</td>\n",
       "      <td>...</td>\n",
       "      <td>4.0</td>\n",
       "      <td>Side</td>\n",
       "      <td>NaN</td>\n",
       "      <td>NaN</td>\n",
       "      <td>NaN</td>\n",
       "      <td>NaN</td>\n",
       "      <td>NaN</td>\n",
       "      <td>NaN</td>\n",
       "      <td>1.530914e+09</td>\n",
       "      <td>1.530914e+09</td>\n",
       "    </tr>\n",
       "    <tr>\n",
       "      <th>4</th>\n",
       "      <td>14</td>\n",
       "      <td>KIRSTEN_LAST</td>\n",
       "      <td>Memory</td>\n",
       "      <td>0</td>\n",
       "      <td>NaN</td>\n",
       "      <td>NaN</td>\n",
       "      <td>NaN</td>\n",
       "      <td>NaN</td>\n",
       "      <td>NaN</td>\n",
       "      <td>NaN</td>\n",
       "      <td>...</td>\n",
       "      <td>1.0</td>\n",
       "      <td>Novel</td>\n",
       "      <td>NaN</td>\n",
       "      <td>NaN</td>\n",
       "      <td>NaN</td>\n",
       "      <td>NaN</td>\n",
       "      <td>NaN</td>\n",
       "      <td>NaN</td>\n",
       "      <td>1.530914e+09</td>\n",
       "      <td>1.530914e+09</td>\n",
       "    </tr>\n",
       "  </tbody>\n",
       "</table>\n",
       "<p>5 rows × 26 columns</p>\n",
       "</div>"
      ],
      "text/plain": [
       "   Unnamed: 0       Subject Trial Type  Run Cued Composite Uncued Composite  \\\n",
       "0          10  KIRSTEN_LAST     Memory    0            NaN              NaN   \n",
       "1          11  KIRSTEN_LAST     Memory    0            NaN              NaN   \n",
       "2          12  KIRSTEN_LAST     Memory    0            NaN              NaN   \n",
       "3          13  KIRSTEN_LAST     Memory    0            NaN              NaN   \n",
       "4          14  KIRSTEN_LAST     Memory    0            NaN              NaN   \n",
       "\n",
       "  Cued Face Cued Place Uncued Face Uncued Place       ...        \\\n",
       "0       NaN        NaN         NaN          NaN       ...         \n",
       "1       NaN        NaN         NaN          NaN       ...         \n",
       "2       NaN        NaN         NaN          NaN       ...         \n",
       "3       NaN        NaN         NaN          NaN       ...         \n",
       "4       NaN        NaN         NaN          NaN       ...         \n",
       "\n",
       "  Familiarity Rating Attention Level Cue Validity Post Invalid Cue  \\\n",
       "0                1.0            Full          NaN              NaN   \n",
       "1                2.0           Novel          NaN              NaN   \n",
       "2                1.0            Side          NaN              NaN   \n",
       "3                4.0            Side          NaN              NaN   \n",
       "4                1.0           Novel          NaN              NaN   \n",
       "\n",
       "   Pre Invalid Cue  Attention Button  Rating History Stimulus Onset  \\\n",
       "0              NaN               NaN             NaN            NaN   \n",
       "1              NaN               NaN             NaN            NaN   \n",
       "2              NaN               NaN             NaN            NaN   \n",
       "3              NaN               NaN             NaN            NaN   \n",
       "4              NaN               NaN             NaN            NaN   \n",
       "\n",
       "   Stimulus End  Stimulus Start  \n",
       "0  1.530914e+09    1.530914e+09  \n",
       "1  1.530914e+09    1.530914e+09  \n",
       "2  1.530914e+09    1.530914e+09  \n",
       "3  1.530914e+09    1.530914e+09  \n",
       "4  1.530914e+09    1.530914e+09  \n",
       "\n",
       "[5 rows x 26 columns]"
      ]
     },
     "execution_count": 16,
     "metadata": {},
     "output_type": "execute_result"
    }
   ],
   "source": [
    "df.head()"
   ]
  },
  {
   "cell_type": "code",
   "execution_count": null,
   "metadata": {},
   "outputs": [],
   "source": []
  },
  {
   "cell_type": "code",
   "execution_count": null,
   "metadata": {},
   "outputs": [],
   "source": []
  }
 ],
 "metadata": {
  "kernelspec": {
   "display_name": "Python 3",
   "language": "python",
   "name": "python3"
  },
  "language_info": {
   "codemirror_mode": {
    "name": "ipython",
    "version": 2
   },
   "file_extension": ".py",
   "mimetype": "text/x-python",
   "name": "python",
   "nbconvert_exporter": "python",
   "pygments_lexer": "ipython2",
   "version": "2.7.11"
  }
 },
 "nbformat": 4,
 "nbformat_minor": 2
}
