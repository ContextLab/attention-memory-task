{
 "cells": [
  {
   "cell_type": "code",
   "execution_count": 1,
   "metadata": {},
   "outputs": [],
   "source": [
    "import pandas as pd \n",
    "import os\n",
    "import numpy as np"
   ]
  },
  {
   "cell_type": "code",
   "execution_count": 2,
   "metadata": {},
   "outputs": [],
   "source": [
    "params = {'runs':1, 'presentations_per_run':10, \n",
    "          'invalid_cue_percentage':10, 'mem_to_pres':4, \n",
    "          'mem_pres_split':2}"
   ]
  },
  {
   "cell_type": "code",
   "execution_count": 3,
   "metadata": {},
   "outputs": [],
   "source": [
    "def sum_pd(subdir):\n",
    "    '''\n",
    "    input: subject directory (string)\n",
    "    output: full experiment info (dataframe)\n",
    "    '''\n",
    "    \n",
    "    files = [ x for x in os.listdir(subdir) if 'pres' in x or 'mem' in x ]\n",
    "    df_list = [ pd.read_csv(subdir+'/'+x) for x in files ]\n",
    "    df = pd.concat(df_list, ignore_index=True)\n",
    "    \n",
    "    return(df)\n",
    "\n",
    "def images(df_col):\n",
    "    '''\n",
    "    input: df column\n",
    "    output: list of image names (strings)\n",
    "    '''\n",
    "    return([ x for x in df_col if type(x)==str])\n",
    "\n",
    "def check_reps(lst):\n",
    "    '''\n",
    "    input: list of imagenames (strings)\n",
    "    output: number of repeats (int)\n",
    "    '''\n",
    "    return(len(lst)-len(set(lst)))\n",
    "    \n",
    "def list_compare(lst1, lst2):\n",
    "    '''\n",
    "    input: two lists\n",
    "    output: number of shared items between lists\n",
    "    '''\n",
    "    return(set(lst1) & set(lst2))\n",
    "\n",
    "def check_shared(df, col1, col2,x=None):\n",
    "    '''\n",
    "    inputs: dataframe, two column names (strings), run#=None\n",
    "    outputs: lists images shared between the columns\n",
    "    '''\n",
    "    \n",
    "    if type(x)==int:\n",
    "        \n",
    "        mask = df['Run']==x\n",
    "        return(list_compare(list(images(df.loc[mask,col1])), list(images(df.loc[mask,col2]))))\n",
    "    \n",
    "    else:\n",
    "        return(list_compare(list(images(df[col1])), list(images(df[col2]))))\n",
    "\n",
    "def validity_check(df, params):\n",
    "    '''\n",
    "    inputs: dataframe, parameters\n",
    "    outputs: message about validity percentage (empty list or list containing string)\n",
    "    '''\n",
    "    num_valid = sum(list(df['Cue Validity']))\n",
    "    \n",
    "    if num_valid != params['presentations_per_run']*params['runs']*(100-params['invalid_cue_percentage'])/100:\n",
    "        msg = ['Incorrect number of invalid attention circles.  ']\n",
    "    else: \n",
    "        msg = []\n",
    "    \n",
    "    return(msg)\n",
    "    \n",
    "def stimulus_check(subdir, params):\n",
    "    '''\n",
    "    input: subject directory (string)\n",
    "    output: message indicating if all stimulus proportions are correct (string)\n",
    "    '''\n",
    "    \n",
    "    msg = []\n",
    "    select_cols = ['Cued Face', 'Cued Place', \n",
    "                   'Uncued Face', 'Uncued Place', \n",
    "                'Memory Image']\n",
    "    \n",
    "    df = sum_pd(subdir)\n",
    "    for x in select_cols:\n",
    "        if check_reps(df[x]) > 0:\n",
    "            msg.append('Internal repetition in '+x+'.  ')\n",
    "        for run in range(params['runs']):\n",
    "            if x!='Memory Image':\n",
    "                if len(check_shared(df, x, 'Memory Image', run)) != params['presentations_per_run']*2/params['mem_to_pres']:\n",
    "                    msg.append('Wrong number of prev seen images from one or more categories.  ')\n",
    "                    print(x, check_shared(df, x, 'Memory Image', run))\n",
    "    msg.extend(validity_check(df, params))\n",
    "    \n",
    "    if len(msg)==0:\n",
    "        msg = \"All stimulus proportions correct! :)\"\n",
    "    \n",
    "    return(msg)\n",
    "    "
   ]
  },
  {
   "cell_type": "code",
   "execution_count": 25,
   "metadata": {},
   "outputs": [
    {
     "data": {
      "text/plain": [
       "['Incorrect number of invalid attention circles.  ']"
      ]
     },
     "execution_count": 25,
     "metadata": {},
     "output_type": "execute_result"
    }
   ],
   "source": [
    "stimulus_check('/Users/Student/Desktop/attention-memory-task/data/KirstenTestRun1_2018_Jun_25', params)"
   ]
  },
  {
   "cell_type": "code",
   "execution_count": null,
   "metadata": {},
   "outputs": [],
   "source": []
  }
 ],
 "metadata": {
  "kernelspec": {
   "display_name": "Python 3",
   "language": "python",
   "name": "python3"
  },
  "language_info": {
   "codemirror_mode": {
    "name": "ipython",
    "version": 3
   },
   "file_extension": ".py",
   "mimetype": "text/x-python",
   "name": "python",
   "nbconvert_exporter": "python",
   "pygments_lexer": "ipython3",
   "version": "3.6.4"
  }
 },
 "nbformat": 4,
 "nbformat_minor": 2
}
