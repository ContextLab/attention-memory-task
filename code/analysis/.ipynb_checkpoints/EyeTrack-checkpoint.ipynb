{
 "cells": [
  {
   "cell_type": "markdown",
   "metadata": {},
   "source": [
    "# Eye Track, Initial Exploration"
   ]
  },
  {
   "cell_type": "code",
   "execution_count": 39,
   "metadata": {},
   "outputs": [],
   "source": [
    "import json\n",
    "import re\n",
    "import ast\n",
    "import pandas as pd\n",
    "import seaborn as sb\n",
    "from datetime import datetime\n",
    "import time\n",
    "import hypertools as hyp\n",
    "import numpy as np\n",
    "from matplotlib import pyplot as plt\n",
    "import os"
   ]
  },
  {
   "cell_type": "markdown",
   "metadata": {},
   "source": [
    "# Parse json file "
   ]
  },
  {
   "cell_type": "code",
   "execution_count": 40,
   "metadata": {},
   "outputs": [],
   "source": [
    "class parseFile():\n",
    "    def __init__(self, file):\n",
    "        self.file = file\n",
    "    def parse(self):\n",
    "        json_data = open(self.file).read()\n",
    "        return(json_data)"
   ]
  },
  {
   "cell_type": "code",
   "execution_count": 41,
   "metadata": {},
   "outputs": [],
   "source": [
    "newFile = parseFile('/Users/Student/Desktop/attention-memory-task/data/KIRSTEN_LAST_2018_Jul_06/KIRSTEN_LAST.json')\n",
    "data = newFile.parse()\n",
    "\n",
    "for a,b in zip(['true','false'], ['True', 'False']):\n",
    "    data = data.replace(a, b)\n",
    "\n",
    "data = data.split('\\n')\n",
    "data = [x for x in data if \"tracker\" in x]"
   ]
  },
  {
   "cell_type": "markdown",
   "metadata": {},
   "source": [
    "# Prepare DataFrame"
   ]
  },
  {
   "cell_type": "markdown",
   "metadata": {},
   "source": [
    "## Create DF"
   ]
  },
  {
   "cell_type": "code",
   "execution_count": 42,
   "metadata": {},
   "outputs": [],
   "source": [
    "dict_list = [ast.literal_eval(x) for x in data]\n",
    "dict_list = [x['values']['frame'] for x in dict_list]\n",
    "\n",
    "df = pd.DataFrame(dict_list)"
   ]
  },
  {
   "cell_type": "markdown",
   "metadata": {},
   "source": [
    "## Extract Raw Right and Left Eye Values; Make average col"
   ]
  },
  {
   "cell_type": "code",
   "execution_count": 43,
   "metadata": {},
   "outputs": [],
   "source": [
    "for eye in ['righteye','lefteye']:\n",
    "    for coord in ['x','y']:\n",
    "        df[coord+'Raw_'+eye] = [df[eye][row]['raw'][coord] for row in df.index.values]\n",
    "        \n",
    "df['av_x_coord'] = df[['xRaw_righteye', 'xRaw_lefteye']].mean(axis=1)\n",
    "df['av_y_coord'] = df[['yRaw_righteye', 'yRaw_lefteye']].mean(axis=1)"
   ]
  },
  {
   "cell_type": "markdown",
   "metadata": {},
   "source": [
    "## Switch timestamps to gmtime"
   ]
  },
  {
   "cell_type": "code",
   "execution_count": 44,
   "metadata": {},
   "outputs": [],
   "source": [
    "df['timestamp']=[time.mktime(time.strptime(x[:-4], \"%Y-%m-%d %H:%M:%S\"))+float(x[-4:]) for x in df['timestamp']]"
   ]
  },
  {
   "cell_type": "code",
   "execution_count": 47,
   "metadata": {},
   "outputs": [
    {
     "data": {
      "text/html": [
       "<div>\n",
       "<style scoped>\n",
       "    .dataframe tbody tr th:only-of-type {\n",
       "        vertical-align: middle;\n",
       "    }\n",
       "\n",
       "    .dataframe tbody tr th {\n",
       "        vertical-align: top;\n",
       "    }\n",
       "\n",
       "    .dataframe thead th {\n",
       "        text-align: right;\n",
       "    }\n",
       "</style>\n",
       "<table border=\"1\" class=\"dataframe\">\n",
       "  <thead>\n",
       "    <tr style=\"text-align: right;\">\n",
       "      <th></th>\n",
       "      <th>avg</th>\n",
       "      <th>fix</th>\n",
       "      <th>lefteye</th>\n",
       "      <th>raw</th>\n",
       "      <th>righteye</th>\n",
       "      <th>state</th>\n",
       "      <th>time</th>\n",
       "      <th>timestamp</th>\n",
       "      <th>xRaw_righteye</th>\n",
       "      <th>yRaw_righteye</th>\n",
       "      <th>xRaw_lefteye</th>\n",
       "      <th>yRaw_lefteye</th>\n",
       "      <th>av_x_coord</th>\n",
       "      <th>av_y_coord</th>\n",
       "    </tr>\n",
       "  </thead>\n",
       "  <tbody>\n",
       "    <tr>\n",
       "      <th>0</th>\n",
       "      <td>{u'y': 402.0335, u'x': 1177.7775}</td>\n",
       "      <td>True</td>\n",
       "      <td>{u'raw': {u'y': 387.1952, u'x': 1168.0756}, u'...</td>\n",
       "      <td>{u'y': 407.361, u'x': 1170.5952}</td>\n",
       "      <td>{u'raw': {u'y': 427.5268, u'x': 1173.1147}, u'...</td>\n",
       "      <td>7</td>\n",
       "      <td>831777290</td>\n",
       "      <td>1.530914e+09</td>\n",
       "      <td>1173.1147</td>\n",
       "      <td>427.5268</td>\n",
       "      <td>1168.0756</td>\n",
       "      <td>387.1952</td>\n",
       "      <td>1170.59515</td>\n",
       "      <td>407.3610</td>\n",
       "    </tr>\n",
       "    <tr>\n",
       "      <th>1</th>\n",
       "      <td>{u'y': 401.9254, u'x': 1176.5497}</td>\n",
       "      <td>True</td>\n",
       "      <td>{u'raw': {u'y': 558.9542, u'x': 910.6056}, u'a...</td>\n",
       "      <td>{u'y': 517.5296, u'x': 891.8802}</td>\n",
       "      <td>{u'raw': {u'y': 476.105, u'x': 873.1549}, u'av...</td>\n",
       "      <td>7</td>\n",
       "      <td>831777324</td>\n",
       "      <td>1.530914e+09</td>\n",
       "      <td>873.1549</td>\n",
       "      <td>476.1050</td>\n",
       "      <td>910.6056</td>\n",
       "      <td>558.9542</td>\n",
       "      <td>891.88025</td>\n",
       "      <td>517.5296</td>\n",
       "    </tr>\n",
       "  </tbody>\n",
       "</table>\n",
       "</div>"
      ],
      "text/plain": [
       "                                 avg   fix  \\\n",
       "0  {u'y': 402.0335, u'x': 1177.7775}  True   \n",
       "1  {u'y': 401.9254, u'x': 1176.5497}  True   \n",
       "\n",
       "                                             lefteye  \\\n",
       "0  {u'raw': {u'y': 387.1952, u'x': 1168.0756}, u'...   \n",
       "1  {u'raw': {u'y': 558.9542, u'x': 910.6056}, u'a...   \n",
       "\n",
       "                                raw  \\\n",
       "0  {u'y': 407.361, u'x': 1170.5952}   \n",
       "1  {u'y': 517.5296, u'x': 891.8802}   \n",
       "\n",
       "                                            righteye  state       time  \\\n",
       "0  {u'raw': {u'y': 427.5268, u'x': 1173.1147}, u'...      7  831777290   \n",
       "1  {u'raw': {u'y': 476.105, u'x': 873.1549}, u'av...      7  831777324   \n",
       "\n",
       "      timestamp  xRaw_righteye  yRaw_righteye  xRaw_lefteye  yRaw_lefteye  \\\n",
       "0  1.530914e+09      1173.1147       427.5268     1168.0756      387.1952   \n",
       "1  1.530914e+09       873.1549       476.1050      910.6056      558.9542   \n",
       "\n",
       "   av_x_coord  av_y_coord  \n",
       "0  1170.59515    407.3610  \n",
       "1   891.88025    517.5296  "
      ]
     },
     "execution_count": 47,
     "metadata": {},
     "output_type": "execute_result"
    }
   ],
   "source": [
    "df.head(2)"
   ]
  },
  {
   "cell_type": "markdown",
   "metadata": {},
   "source": [
    "# Plot Eye Track Data from Presentation Runs only"
   ]
  },
  {
   "cell_type": "code",
   "execution_count": 54,
   "metadata": {},
   "outputs": [],
   "source": [
    "def pres_gaze(subdir, eye_df):\n",
    "    '''\n",
    "    input: subject's experiment df and eye track df\n",
    "    output: list of eye tracking df's, one for each presentation trial \n",
    "    '''\n",
    "    \n",
    "    pres_gaze = []\n",
    "    \n",
    "    for f in os.listdir(subdir):\n",
    "        if 'pres' in f:\n",
    "            pres_df = pd.read_csv(subdir+'/'+f)\n",
    "            start = pres_df['Stimulus Start'][0]\n",
    "            end = pres_df['Stimulus End'][9]#+pres_df['Attention Reaction Time (s)'][9]\n",
    "            pres_gaze.append(eye_df.loc[(eye_df['timestamp']>start) & (eye_df['timestamp']<end)])\n",
    "            \n",
    "    return(pres_gaze)\n",
    "\n",
    "def gaze_plot(df_list, plot=True):\n",
    "\n",
    "    fig = plt.figure()\n",
    "    ax1 = fig.add_subplot(111)\n",
    "\n",
    "    # for each possible number rating\n",
    "    for x in df_list:\n",
    "        ax1.plot(x['av_x_coord'], x['av_y_coord'], '.')\n",
    "\n",
    "    if plot:\n",
    "        # plt.legend(loc='upper left');\n",
    "        plt.ylim(0, 1152)\n",
    "        plt.xlim(0, 2048)\n",
    "        plt.gca().set_aspect('equal', adjustable='box')\n",
    "        plt.show()\n",
    "        \n",
    "    \n",
    "    "
   ]
  },
  {
   "cell_type": "markdown",
   "metadata": {},
   "source": [
    "# Average gaze points (pres runs)"
   ]
  },
  {
   "cell_type": "markdown",
   "metadata": {},
   "source": [
    "the blob where the vast majority of gazepoints lie (approx x=1,000) shows the shape I would expect-- roughly most gaze points at center, with the occasional right/left deviation (I was pretty tired when I ran myself here, probably would have been much better otherwise). It doesn't seem crazy that I might have at some point glanced to the left of the screen, but the line at x=500 seems really strange. (Points were showing colored by run, but now are all red... *sigh)"
   ]
  },
  {
   "cell_type": "code",
   "execution_count": 62,
   "metadata": {},
   "outputs": [
    {
     "data": {
      "image/png": "[encoded data removed]",
      "text/plain": [
       "<Figure size 432x288 with 1 Axes>"
      ]
     },
     "metadata": {},
     "output_type": "display_data"
    }
   ],
   "source": [
    "subdir = '/Users/Student/Desktop/attention-memory-task/data/KIRSTEN_LAST_2018_Jul_06'\n",
    "df_list = pres_gaze(subdir, df)\n",
    "gaze_plot(df_list)"
   ]
  },
  {
   "cell_type": "code",
   "execution_count": 63,
   "metadata": {},
   "outputs": [
    {
     "data": {
      "image/png": "[encoded data removed]",
      "text/plain": [
       "<Figure size 432x288 with 1 Axes>"
      ]
     },
     "metadata": {},
     "output_type": "display_data"
    }
   ],
   "source": [
    "df_fix = [ x[x['fix']==True] for x in pres_gaze(subdir, df)]\n",
    "gaze_plot(df_fix)"
   ]
  },
  {
   "cell_type": "code",
   "execution_count": 19,
   "metadata": {},
   "outputs": [],
   "source": [
    "#hyp.plot(df[['xRaw_righteye', 'yRaw_righteye']][0:1000])"
   ]
  }
 ],
 "metadata": {
  "kernelspec": {
   "display_name": "Python 3",
   "language": "python",
   "name": "python3"
  },
  "language_info": {
   "codemirror_mode": {
    "name": "ipython",
    "version": 2
   },
   "file_extension": ".py",
   "mimetype": "text/x-python",
   "name": "python",
   "nbconvert_exporter": "python",
   "pygments_lexer": "ipython2",
   "version": "2.7.11"
  }
 },
 "nbformat": 4,
 "nbformat_minor": 2
}
