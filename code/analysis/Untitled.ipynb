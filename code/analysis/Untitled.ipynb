{
 "cells": [
  {
   "cell_type": "markdown",
   "metadata": {},
   "source": [
    "# Image Selection Simulation"
   ]
  },
  {
   "cell_type": "code",
   "execution_count": 13,
   "metadata": {},
   "outputs": [],
   "source": [
    "import os"
   ]
  },
  {
   "cell_type": "markdown",
   "metadata": {},
   "source": [
    "## Helper Functions"
   ]
  },
  {
   "cell_type": "code",
   "execution_count": 6,
   "metadata": {},
   "outputs": [],
   "source": [
    "def get_files(dir_name):\n",
    "    '''returns all subj pkl files'''\n",
    "    files = [dir_name + '/' + f for f in os.listdir(dir_name) if f.endswith('.pkl')]\n",
    "    return files\n",
    "\n",
    "def concat_dicts(dicts):\n",
    "    big_dict = {}\n",
    "    for k in dicts[0]:\n",
    "        big_dict[k] = [d[k] for d in dicts]\n",
    "    return big_dict\n",
    "\n",
    "def load_mem_p(pickles):\n",
    "    '''\n",
    "    input: list of pickle files\n",
    "    output: list of prev pkl files\n",
    "    '''\n",
    "\n",
    "    mem = []\n",
    "    for f in pickles:\n",
    "        if f.endswith('mem_items.pkl'):\n",
    "            mem.append(f)\n",
    "\n",
    "    mem_dicts = []\n",
    "    for mem_f in mem:\n",
    "        with open(mem_f, 'rb') as fp:\n",
    "            x=pickle.load(fp)\n",
    "        mem_dicts.append(x)\n",
    "    mem_dict = concat_dicts(mem_dicts)\n",
    "    return mem_dict\n",
    "    return mem_dict\n",
    "\n",
    "def load_prev_p(pickles):\n",
    "    '''\n",
    "    input: list of pickle files\n",
    "    output: list of prev pkl files\n",
    "    '''\n",
    "\n",
    "    prev = []\n",
    "    for f in pickles:\n",
    "        if f.endswith('previous_items.pkl'):\n",
    "            prev.append(f)\n",
    "\n",
    "    prev_dicts = []\n",
    "    for prev_f in prev:\n",
    "        with open(prev_f, 'rb') as fp:\n",
    "            y=pickle.load(fp)\n",
    "        prev_dicts.append(y)\n",
    "    prev_dict = concat_dicts(prev_dicts)\n",
    "    return prev_dict"
   ]
  },
  {
   "cell_type": "markdown",
   "metadata": {},
   "source": [
    "## Assign paths / variables"
   ]
  },
  {
   "cell_type": "code",
   "execution_count": 7,
   "metadata": {},
   "outputs": [],
   "source": [
    "dir_name = 'simulation'\n",
    "\n",
    "dir1 = '../../stim/composites_new/' # Overlays\n",
    "stim_dir1 = '../../stim/faces/' # Face\n",
    "stim_dir2 = '../../stim/places/' # Scene"
   ]
  },
  {
   "cell_type": "code",
   "execution_count": null,
   "metadata": {},
   "outputs": [],
   "source": [
    "mem_only_0 = [f for f in random.sample(os.listdir(dir1),num_trials*repetitions*2) if f.endswith('.jpg')]\n",
    "mem_only_1 = [words for segments in mem_only_0 for words in segments.split('_')]\n",
    "\n",
    "mem_only_a = mem_only_1[0::2]\n",
    "mem_only_a = [s + '.jpg' for s in mem_only_a]\n",
    "mem_only_b = mem_only_1[1::2]\n",
    "\n",
    "mem_only = mem_only_a + mem_only_b"
   ]
  },
  {
   "cell_type": "markdown",
   "metadata": {},
   "source": [
    "## Image Loop"
   ]
  },
  {
   "cell_type": "code",
   "execution_count": 8,
   "metadata": {},
   "outputs": [],
   "source": [
    "run=1\n",
    "\n",
    "dir_name = 'simulation'\n",
    "file_name = \"../../data/\" + dir_name + '_' + str(run) + '/'"
   ]
  },
  {
   "cell_type": "code",
   "execution_count": 16,
   "metadata": {},
   "outputs": [],
   "source": [
    "previous_items = {}\n",
    "cued = []\n",
    "uncued = []\n",
    "\n",
    "reaction_time={}\n",
    "cued_RT = []\n",
    "uncued_RT = []\n",
    "\n",
    "trial_num = 0\n",
    "cue_tup_num = 0\n",
    "catch_num = 0"
   ]
  },
  {
   "cell_type": "code",
   "execution_count": 15,
   "metadata": {},
   "outputs": [],
   "source": [
    "# all_items = [f for f in os.listdir(dir1) if f.endswith('.jpg')]\n",
    "# available_items = [x for x in all_items if (x not in cued and x not in uncued and x not in prev_stim and x not in mem_only_0)]"
   ]
  },
  {
   "cell_type": "code",
   "execution_count": null,
   "metadata": {},
   "outputs": [],
   "source": []
  }
 ],
 "metadata": {
  "kernelspec": {
   "display_name": "Python 3",
   "language": "python",
   "name": "python3"
  },
  "language_info": {
   "codemirror_mode": {
    "name": "ipython",
    "version": 3
   },
   "file_extension": ".py",
   "mimetype": "text/x-python",
   "name": "python",
   "nbconvert_exporter": "python",
   "pygments_lexer": "ipython3",
   "version": "3.6.4"
  }
 },
 "nbformat": 4,
 "nbformat_minor": 2
}
