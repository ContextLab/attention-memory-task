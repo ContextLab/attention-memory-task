{
 "cells": [
  {
   "cell_type": "code",
   "execution_count": 1,
   "metadata": {},
   "outputs": [],
   "source": [
    "import pandas as pd; import seaborn as sb; import statsmodels.formula.api as smf; import pingouin;\n",
    "from itertools import combinations; import os; from analysis_helpers import *; \n",
    "import scipy; from scipy import stats; import os; import math; import warnings\n",
    "warnings.filterwarnings('ignore')"
   ]
  },
  {
   "cell_type": "markdown",
   "metadata": {},
   "source": [
    "# Check data files"
   ]
  },
  {
   "cell_type": "markdown",
   "metadata": {},
   "source": [
    "#### Check the number of participant directories in each experiment and group. \n",
    "(Naming convention: ##_YYYY_Mmm_DD or #_YYYY_Mmm_DD, depending on subject #). \n",
    "\n",
    "\n",
    "PRINT: # of participants per experiment.\n",
    "\n",
    "\n",
    "\n",
    "\n",
    "#### Check that each participant has one file of each (below). \n",
    "\n",
    "- pres0.csv through pres8.csv\n",
    "- mem0.csv through mem8.csv\n",
    "- eye_data/##_0* through eye_data/##_8*\n",
    "\n",
    "PRINT: subjects who have more or less than 1 of each file type.\n"
   ]
  },
  {
   "cell_type": "code",
   "execution_count": 2,
   "metadata": {},
   "outputs": [
    {
     "name": "stdout",
     "output_type": "stream",
     "text": [
      "\n",
      "\n",
      "sustained_attention_experiment\n",
      "group1\n",
      "      30\n",
      "\n",
      "\n",
      "../sustained_attention_experiment/data/group1/31_2018_Oct_21\n",
      "0\n",
      "\n",
      "       1\n",
      "       1\n",
      "       0\n",
      "\n",
      "\n",
      "\n",
      "sustained_attention_experiment\n",
      "group2\n",
      "      30\n",
      "\n",
      "\n",
      "\n",
      "\n",
      "variable_attention_experiment\n",
      "group1\n",
      "      30\n",
      "\n",
      "\n",
      "../variable_attention_experiment/data/group1/0_2019_Feb_21\n",
      "0\n",
      "\n",
      "       1\n",
      "       1\n",
      "       0\n",
      "\n",
      "../variable_attention_experiment/data/group1/12_2019_Mar_27\n",
      "0\n",
      "\n",
      "       1\n",
      "       1\n",
      "       0\n",
      "\n",
      "../variable_attention_experiment/data/group1/1_2019_Feb_21\n",
      "0\n",
      "\n",
      "       1\n",
      "       1\n",
      "       0\n",
      "\n",
      "\n",
      "\n",
      "variable_attention_experiment\n",
      "group2\n",
      "      23\n",
      "\n",
      "\n"
     ]
    },
    {
     "name": "stderr",
     "output_type": "stream",
     "text": [
      "find: ../sustained_attention_experiment/data/group1/31_2018_Oct_21/eye_data/*_0*: No such file or directory\n",
      "find: ../variable_attention_experiment/data/group1/0_2019_Feb_21/eye_data/*_0*: No such file or directory\n",
      "find: ../variable_attention_experiment/data/group1/12_2019_Mar_27/eye_data/*_0*: No such file or directory\n",
      "find: ../variable_attention_experiment/data/group1/1_2019_Feb_21/eye_data/*_0*: No such file or directory\n"
     ]
    }
   ],
   "source": [
    "%%bash\n",
    "\n",
    "## declare array variables for exps and groups\n",
    "declare -a exps=(\"sustained_attention_experiment\" \"variable_attention_experiment\")\n",
    "declare -a groups=(\"group1\" \"group2\")\n",
    "\n",
    "## for each exp\n",
    "for e in \"${exps[@]}\"; do\n",
    "\n",
    "    # for each group\n",
    "    for g in \"${groups[@]}\"; do\n",
    "        echo\n",
    "        echo\n",
    "        echo $e\n",
    "        echo $g\n",
    "        find ../$e/data/$g/*?_????_???_??* -maxdepth 0 -type d | wc -l\n",
    "        echo\n",
    "        echo\n",
    "        # print the number of participant directories\n",
    "        \n",
    "        # each participant thisi group and experiment \n",
    "        for d in ../$e/data/$g/*  ; do\n",
    "\n",
    "\n",
    "            # for each run (0-7)\n",
    "            for n in {0..7}; do\n",
    "\n",
    "                # count number of pres, mem, and gaze files this participant has\n",
    "                pres=$(find $d/pres$n.csv | wc -l)\n",
    "                mem=$(find $d/mem$n.csv | wc -l)\n",
    "                eye=$(find $d/eye_data/*_$n* | wc -l)\n",
    "\n",
    "                # if participant has more or less than 1 file for this run, print their info\n",
    "                if [[ $pres -ne 1 ]] || [[ $mem -ne 1 ]] || [[ $eye -ne 1 ]] ; then\n",
    "                    echo \"$d\"\n",
    "                    echo \"$n\"\n",
    "                    echo\n",
    "                    echo \"$pres\"\n",
    "                    echo \"$mem\"\n",
    "                    echo \"$eye\"\n",
    "                    echo\n",
    "                fi\n",
    "\n",
    "            done\n",
    "        done\n",
    "    done\n",
    "done"
   ]
  },
  {
   "cell_type": "code",
   "execution_count": null,
   "metadata": {},
   "outputs": [],
   "source": []
  },
  {
   "cell_type": "code",
   "execution_count": null,
   "metadata": {},
   "outputs": [],
   "source": []
  },
  {
   "cell_type": "code",
   "execution_count": null,
   "metadata": {},
   "outputs": [],
   "source": []
  },
  {
   "cell_type": "code",
   "execution_count": null,
   "metadata": {},
   "outputs": [],
   "source": []
  },
  {
   "cell_type": "markdown",
   "metadata": {},
   "source": [
    "# Graaveyard"
   ]
  },
  {
   "cell_type": "code",
   "execution_count": 6,
   "metadata": {},
   "outputs": [],
   "source": [
    "def gaze_file_check(exps, grps, full=False):\n",
    "    '''\n",
    "    checks the number and size of gaze files for each subject in each experiment and group passed\n",
    "    does not return anything, prints results\n",
    "    '''\n",
    "    \n",
    "    # for each experiment\n",
    "    for exp in exps:  \n",
    "        \n",
    "        # for each group\n",
    "        for grp in grps:  \n",
    "\n",
    "            print(); print('##################################'); print()\n",
    "            \n",
    "            # set combo equal to the path to the data for this experiment and group\n",
    "            combo = '../'+exp+'/data/'+grp+'/'\n",
    "            print(str(combo)); print()\n",
    "            \n",
    "            # list the number of particpants\n",
    "            # change to counting the number of directories containing ####_Xxx_##\n",
    "            print(str(len([g for g in os.listdir(combo) if g != '.DS_Store'])) + ' participants'); print()\n",
    "\n",
    "            missing_gaze = 0; funny_size = 0\n",
    "            \n",
    "            for idx,x in enumerate([g for g in os.listdir(combo) if g != '.DS_Store']):\n",
    "\n",
    "                loop = 0; \n",
    "                gaze_files = [a for a in os.listdir(combo+x+'/eye_data') if a != '.DS_Store']\n",
    "\n",
    "                if len(gaze_files) <8:\n",
    "                    if full == True:\n",
    "                        print(x); print(); print( '*** '+ str(len(gaze_files)) + ' gaze files ***'); print(); \n",
    "                    loop += 1\n",
    "                    missing_gaze += 1\n",
    "\n",
    "                file_sizes = [os.path.getsize(combo+x+'/eye_data'+'/'+k) for k in gaze_files]\n",
    "                indices = [i for i, j in enumerate(file_sizes) if j < 2000000 or j > 10000000] \n",
    "\n",
    "                if len(indices) > 0:\n",
    "                    if full == True:\n",
    "                        print(x); print()\n",
    "\n",
    "                    for ind in indices:\n",
    "                        if full == True:\n",
    "                            print(gaze_files[ind]); print(file_sizes[ind]); print(); \n",
    "                        loop += 1\n",
    "                    funny_size += len(indices)\n",
    "\n",
    "                if loop >0 and full == True: \n",
    "                    print('----------------- ')\n",
    "\n",
    "            if full == False:\n",
    "                print(str(missing_gaze)+' missing gaze files')\n",
    "                print(str(funny_size)+' large or small gaze files')\n"
   ]
  },
  {
   "cell_type": "code",
   "execution_count": 7,
   "metadata": {},
   "outputs": [
    {
     "name": "stdout",
     "output_type": "stream",
     "text": [
      "\n",
      "##################################\n",
      "\n",
      "../sustained_attention_experiment/data/group1/\n",
      "\n",
      "30 participants\n",
      "\n",
      "1 missing gaze files\n",
      "7 large or small gaze files\n",
      "\n",
      "##################################\n",
      "\n",
      "../sustained_attention_experiment/data/group2/\n",
      "\n",
      "30 participants\n",
      "\n",
      "0 missing gaze files\n",
      "32 large or small gaze files\n",
      "\n",
      "##################################\n",
      "\n",
      "../variable_attention_experiment/data/group1/\n",
      "\n",
      "30 participants\n",
      "\n",
      "3 missing gaze files\n",
      "14 large or small gaze files\n",
      "\n",
      "##################################\n",
      "\n",
      "../variable_attention_experiment/data/group2/\n",
      "\n",
      "23 participants\n",
      "\n",
      "0 missing gaze files\n",
      "46 large or small gaze files\n"
     ]
    }
   ],
   "source": [
    "gaze_file_check(['sustained_attention_experiment', 'variable_attention_experiment'], ['group1', 'group2'])"
   ]
  },
  {
   "cell_type": "markdown",
   "metadata": {},
   "source": [
    "# Check parsed gaze data"
   ]
  },
  {
   "cell_type": "markdown",
   "metadata": {},
   "source": [
    "How many gazepoints are recorded during each presentation trial (3s) on average?\n",
    "Are there trials where none are captured? Are there duplicate gaze data points?"
   ]
  },
  {
   "cell_type": "code",
   "execution_count": 4,
   "metadata": {},
   "outputs": [],
   "source": [
    "gaze       = pd.read_csv('../parsed_data/full_gaze.csv')\n",
    "behavioral = pd.read_csv('../parsed_data/full_behavioral.csv')\n",
    "\n",
    "for s in behavioral['UniqueID'].unique():\n",
    "    for r in behavioral['Run'].unique():\n",
    "        behavioral.loc[(behavioral['Run']==r) \n",
    "                 & (behavioral['UniqueID']==s) \n",
    "                 & (behavioral['Trial Type']=='Memory'), 'Last Cued'] = behavioral[(behavioral['Run']==r) & (behavioral['UniqueID']==s) & (behavioral['Trial Type']=='Presentation') & (behavioral['Trial']==9)]['Cued Category'].item()"
   ]
  },
  {
   "cell_type": "code",
   "execution_count": 5,
   "metadata": {},
   "outputs": [
    {
     "data": {
      "text/plain": [
       "['.DS_Store',\n",
       " 'full_behavioral.csv',\n",
       " 'README.md',\n",
       " 'behav_restricted.csv',\n",
       " 'full_gaze.csv']"
      ]
     },
     "execution_count": 5,
     "metadata": {},
     "output_type": "execute_result"
    }
   ],
   "source": [
    "os.listdir('../parsed_data')"
   ]
  },
  {
   "cell_type": "markdown",
   "metadata": {},
   "source": [
    "# Check oddball gaze files"
   ]
  },
  {
   "cell_type": "markdown",
   "metadata": {},
   "source": [
    "Do gaze files that are unusually large or small catch more or less gazepoints during viewing?"
   ]
  },
  {
   "cell_type": "code",
   "execution_count": null,
   "metadata": {},
   "outputs": [],
   "source": []
  },
  {
   "cell_type": "code",
   "execution_count": null,
   "metadata": {},
   "outputs": [],
   "source": []
  },
  {
   "cell_type": "code",
   "execution_count": null,
   "metadata": {},
   "outputs": [],
   "source": []
  }
 ],
 "metadata": {
  "kernelspec": {
   "display_name": "Python 3",
   "language": "python",
   "name": "python3"
  },
  "language_info": {
   "codemirror_mode": {
    "name": "ipython",
    "version": 3
   },
   "file_extension": ".py",
   "mimetype": "text/x-python",
   "name": "python",
   "nbconvert_exporter": "python",
   "pygments_lexer": "ipython3",
   "version": "3.7.4"
  }
 },
 "nbformat": 4,
 "nbformat_minor": 2
}
