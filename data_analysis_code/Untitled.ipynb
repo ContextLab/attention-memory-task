{
 "cells": [
  {
   "cell_type": "code",
   "execution_count": 1,
   "metadata": {},
   "outputs": [],
   "source": [
    "# \\begin{figure}[ht]\n",
    "#   \\subfloat[boopoety]{\n",
    "# \t\\begin{minipage}[c][1\\width]{\n",
    "# \t   0.3\\textwidth}\n",
    "# \t   \\centering\n",
    "# \t   \\includegraphics[width=\\textwidth]{/Users/kirstenziman/Documents/github/attention-memory-paper/supp_figures/sustain1violin.pdf}\n",
    "# \t\\end{minipage}}\n",
    "#  \\hfill \t\n",
    "#   \\subfloat[Replication cohort]{\n",
    "# \t\\begin{minipage}[c][1\\width]{\n",
    "# \t   0.3\\textwidth}\n",
    "# \t   \\centering\n",
    "# \t   \\includegraphics[width=\\textwidth]{/Users/kirstenziman/Documents/github/attention-memory-paper/supp_figures/sustain2violin.pdf}\n",
    "# \t\\end{minipage}}\n",
    "#  \\hfill\t\n",
    "#   \\subfloat[Combined data]{\n",
    "# \t\\begin{minipage}[c][1\\width]{\n",
    "# \t   0.3\\textwidth}\n",
    "# \t   \\centering\n",
    "# \t   \\includegraphics[width=\\textwidth]{example-image-a.pdf}\n",
    "# \t\\end{minipage}}\n",
    "# \\caption{\\textbf{Sustained Attention Experiment.}}\n",
    "# \\end{figure}"
   ]
  },
  {
   "cell_type": "code",
   "execution_count": 2,
   "metadata": {},
   "outputs": [],
   "source": [
    "import os"
   ]
  },
  {
   "cell_type": "code",
   "execution_count": 14,
   "metadata": {},
   "outputs": [
    {
     "ename": "FileNotFoundError",
     "evalue": "[Errno 2] No such file or directory: '~/Documents'",
     "output_type": "error",
     "traceback": [
      "\u001b[0;31m---------------------------------------------------------------------------\u001b[0m",
      "\u001b[0;31mFileNotFoundError\u001b[0m                         Traceback (most recent call last)",
      "\u001b[0;32m<ipython-input-14-5bd09a3e6ada>\u001b[0m in \u001b[0;36m<module>\u001b[0;34m\u001b[0m\n\u001b[0;32m----> 1\u001b[0;31m \u001b[0mos\u001b[0m\u001b[0;34m.\u001b[0m\u001b[0mlistdir\u001b[0m\u001b[0;34m(\u001b[0m\u001b[0;34m'~/Documents'\u001b[0m\u001b[0;34m)\u001b[0m\u001b[0;34m\u001b[0m\u001b[0;34m\u001b[0m\u001b[0m\n\u001b[0m",
      "\u001b[0;31mFileNotFoundError\u001b[0m: [Errno 2] No such file or directory: '~/Documents'"
     ]
    }
   ],
   "source": [
    "os.listdir('~/Documents')\n"
   ]
  },
  {
   "cell_type": "code",
   "execution_count": null,
   "metadata": {},
   "outputs": [],
   "source": []
  }
 ],
 "metadata": {
  "kernelspec": {
   "display_name": "Python 3",
   "language": "python",
   "name": "python3"
  },
  "language_info": {
   "codemirror_mode": {
    "name": "ipython",
    "version": 3
   },
   "file_extension": ".py",
   "mimetype": "text/x-python",
   "name": "python",
   "nbconvert_exporter": "python",
   "pygments_lexer": "ipython3",
   "version": "3.7.4"
  }
 },
 "nbformat": 4,
 "nbformat_minor": 2
}
