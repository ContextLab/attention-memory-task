{
 "cells": [
  {
   "cell_type": "code",
   "execution_count": 37,
   "metadata": {},
   "outputs": [],
   "source": [
    "import pandas as pd; import seaborn as sb; import statsmodels.formula.api as smf; import pingouin;\n",
    "from itertools import combinations; import os; from analysis_helpers import *; \n",
    "import scipy; from scipy import stats; import os; import math; import warnings\n",
    "warnings.filterwarnings('ignore')"
   ]
  },
  {
   "cell_type": "markdown",
   "metadata": {},
   "source": [
    "# Check data files"
   ]
  },
  {
   "cell_type": "markdown",
   "metadata": {},
   "source": [
    "This code checks the number of participants in each experiment and verifies the number of each participant's files (and file sizes)"
   ]
  },
  {
   "cell_type": "code",
   "execution_count": 29,
   "metadata": {},
   "outputs": [],
   "source": [
    "def gaze_file_check(exps, grps, full=False):\n",
    "    '''\n",
    "    checks the number and size of gaze files for each subject in each experiment and group passed\n",
    "    does not return anything, prints results\n",
    "    '''\n",
    "    for exp in exps:  #['sustained_attention_experiment', 'variable_attention_experiment']:\n",
    "        for grp in grps:  #['group1', 'group2']:\n",
    "\n",
    "            print(); print('##################################'); print()\n",
    "            combo = '../'+exp+'/data/'+grp+'/'\n",
    "            print(str(combo)); print()\n",
    "            print(str(len([g for g in os.listdir(combo) if g != '.DS_Store'])) + ' participants'); print()\n",
    "            # print('##################################'); print()\n",
    "\n",
    "            missing_gaze = 0; funny_size = 0\n",
    "            \n",
    "            for idx,x in enumerate([g for g in os.listdir(combo) if g != '.DS_Store']):\n",
    "\n",
    "                loop = 0; \n",
    "                gaze_files = [a for a in os.listdir(combo+x+'/eye_data') if a != '.DS_Store']\n",
    "\n",
    "                if len(gaze_files) <8:\n",
    "                    if full == True:\n",
    "                        print(x); print(); print( '*** '+ str(len(gaze_files)) + ' gaze files ***'); print(); \n",
    "                    loop += 1\n",
    "                    missing_gaze += 1\n",
    "\n",
    "                file_sizes = [os.path.getsize(combo+x+'/eye_data'+'/'+k) for k in gaze_files]\n",
    "                indices = [i for i, j in enumerate(file_sizes) if j < 2000000 or j > 10000000] \n",
    "\n",
    "                if len(indices) > 0:\n",
    "                    if full == True:\n",
    "                        print(x); print()\n",
    "\n",
    "                    for ind in indices:\n",
    "                        if full == True:\n",
    "                            print(gaze_files[ind]); print(file_sizes[ind]); print(); \n",
    "                        loop += 1\n",
    "                    funny_size += len(indices)\n",
    "\n",
    "                if loop >0 and full == True: \n",
    "                    print('----------------- ')\n",
    "\n",
    "            if full == False:\n",
    "                print(str(missing_gaze)+' missing gaze files')\n",
    "                print(str(funny_size)+' large or small gaze files')\n"
   ]
  },
  {
   "cell_type": "code",
   "execution_count": 30,
   "metadata": {},
   "outputs": [
    {
     "name": "stdout",
     "output_type": "stream",
     "text": [
      "\n",
      "##################################\n",
      "\n",
      "../sustained_attention_experiment/data/group1/\n",
      "\n",
      "30 participants\n",
      "\n",
      "1 missing gaze files\n",
      "7 large or small gaze files\n",
      "\n",
      "##################################\n",
      "\n",
      "../sustained_attention_experiment/data/group2/\n",
      "\n",
      "30 participants\n",
      "\n",
      "0 missing gaze files\n",
      "34 large or small gaze files\n",
      "\n",
      "##################################\n",
      "\n",
      "../variable_attention_experiment/data/group1/\n",
      "\n",
      "30 participants\n",
      "\n",
      "3 missing gaze files\n",
      "15 large or small gaze files\n",
      "\n",
      "##################################\n",
      "\n",
      "../variable_attention_experiment/data/group2/\n",
      "\n",
      "23 participants\n",
      "\n",
      "0 missing gaze files\n",
      "46 large or small gaze files\n"
     ]
    }
   ],
   "source": [
    "gaze_file_check(['sustained_attention_experiment', 'variable_attention_experiment'], ['group1', 'group2'])"
   ]
  },
  {
   "cell_type": "markdown",
   "metadata": {},
   "source": [
    "# Check parsed gaze data"
   ]
  },
  {
   "cell_type": "markdown",
   "metadata": {},
   "source": [
    "How many gazepoints are recorded during each presentation trial (3s) on average?\n",
    "Are there trials where none are captured? Are there duplicate gaze data points?"
   ]
  },
  {
   "cell_type": "code",
   "execution_count": 39,
   "metadata": {},
   "outputs": [],
   "source": [
    "gaze       = pd.read_csv('../parsed_data/full_gaze.csv')\n",
    "behavioral = pd.read_csv('../parsed_data/full_behavioral.csv')\n",
    "\n",
    "for s in behavioral['UniqueID'].unique():\n",
    "    for r in behavioral['Run'].unique():\n",
    "        behavioral.loc[(behavioral['Run']==r) \n",
    "                 & (behavioral['UniqueID']==s) \n",
    "                 & (behavioral['Trial Type']=='Memory'), 'Last Cued'] = behavioral[(behavioral['Run']==r) & (behavioral['UniqueID']==s) & (behavioral['Trial Type']=='Presentation') & (behavioral['Trial']==9)]['Cued Category'].item()"
   ]
  },
  {
   "cell_type": "code",
   "execution_count": 40,
   "metadata": {},
   "outputs": [
    {
     "data": {
      "text/plain": [
       "['.DS_Store', 'full_behavioral.csv', 'README.md', 'full_gaze.csv']"
      ]
     },
     "execution_count": 40,
     "metadata": {},
     "output_type": "execute_result"
    }
   ],
   "source": [
    "os.listdir('../parsed_data')"
   ]
  },
  {
   "cell_type": "markdown",
   "metadata": {},
   "source": [
    "# Check oddball gaze files"
   ]
  },
  {
   "cell_type": "markdown",
   "metadata": {},
   "source": [
    "Do gaze files that are unusually large or small catch more or less gazepoints during viewing?"
   ]
  },
  {
   "cell_type": "code",
   "execution_count": null,
   "metadata": {},
   "outputs": [],
   "source": []
  }
 ],
 "metadata": {
  "kernelspec": {
   "display_name": "Python 3",
   "language": "python",
   "name": "python3"
  },
  "language_info": {
   "codemirror_mode": {
    "name": "ipython",
    "version": 3
   },
   "file_extension": ".py",
   "mimetype": "text/x-python",
   "name": "python",
   "nbconvert_exporter": "python",
   "pygments_lexer": "ipython3",
   "version": "3.7.4"
  }
 },
 "nbformat": 4,
 "nbformat_minor": 2
}
