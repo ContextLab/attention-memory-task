{
 "cells": [
  {
   "cell_type": "markdown",
   "metadata": {},
   "source": [
    "# Imports"
   ]
  },
  {
   "cell_type": "code",
   "execution_count": 17,
   "metadata": {},
   "outputs": [],
   "source": [
    "import pandas as pd; import seaborn as sb; import os; from analysis_helpers import *; \n",
    "import scipy; from scipy import stats; import os; import math; import scipy; import warnings\n",
    "from datetime import datetime\n",
    "warnings.filterwarnings('ignore')"
   ]
  },
  {
   "cell_type": "markdown",
   "metadata": {},
   "source": [
    "# Verify screen size recording and data loading"
   ]
  },
  {
   "cell_type": "code",
   "execution_count": 18,
   "metadata": {},
   "outputs": [],
   "source": [
    "# load in my sample gaze data\n",
    "os.listdir('/Users/kirstenziman/Downloads/gaze_check/')\n",
    "data = eye_intial('/Users/kirstenziman/Downloads/gaze_check/')"
   ]
  },
  {
   "cell_type": "code",
   "execution_count": 19,
   "metadata": {},
   "outputs": [],
   "source": [
    "# convert the data from pixels to centimeters\n",
    "data['av_x_coord'] = (59.8/2048)*(data[['xRaw_righteye', 'xRaw_lefteye']].mean(axis=1))\n",
    "data['av_y_coord'] = (33.6/1152)*(data[['yRaw_righteye', 'yRaw_lefteye']].mean(axis=1))"
   ]
  },
  {
   "cell_type": "code",
   "execution_count": 20,
   "metadata": {},
   "outputs": [
    {
     "data": {
      "text/html": [
       "<div>\n",
       "<style scoped>\n",
       "    .dataframe tbody tr th:only-of-type {\n",
       "        vertical-align: middle;\n",
       "    }\n",
       "\n",
       "    .dataframe tbody tr th {\n",
       "        vertical-align: top;\n",
       "    }\n",
       "\n",
       "    .dataframe thead th {\n",
       "        text-align: right;\n",
       "    }\n",
       "</style>\n",
       "<table border=\"1\" class=\"dataframe\">\n",
       "  <thead>\n",
       "    <tr style=\"text-align: right;\">\n",
       "      <th></th>\n",
       "      <th>avg</th>\n",
       "      <th>fix</th>\n",
       "      <th>lefteye</th>\n",
       "      <th>raw</th>\n",
       "      <th>righteye</th>\n",
       "      <th>state</th>\n",
       "      <th>time</th>\n",
       "      <th>timestamp</th>\n",
       "      <th>xRaw_righteye</th>\n",
       "      <th>yRaw_righteye</th>\n",
       "      <th>xRaw_lefteye</th>\n",
       "      <th>yRaw_lefteye</th>\n",
       "      <th>av_x_coord</th>\n",
       "      <th>av_y_coord</th>\n",
       "    </tr>\n",
       "  </thead>\n",
       "  <tbody>\n",
       "    <tr>\n",
       "      <td>0</td>\n",
       "      <td>{'x': 939.3611, 'y': 457.5251}</td>\n",
       "      <td>True</td>\n",
       "      <td>{'avg': {'x': 927.8934, 'y': 443.9596}, 'pcent...</td>\n",
       "      <td>{'x': 951.3698, 'y': 447.8226}</td>\n",
       "      <td>{'avg': {'x': 953.4265, 'y': 462.3258}, 'pcent...</td>\n",
       "      <td>7</td>\n",
       "      <td>429493864</td>\n",
       "      <td>1.567019e+09</td>\n",
       "      <td>972.7897</td>\n",
       "      <td>474.4641</td>\n",
       "      <td>929.9497</td>\n",
       "      <td>421.1812</td>\n",
       "      <td>27.779252</td>\n",
       "      <td>13.061494</td>\n",
       "    </tr>\n",
       "    <tr>\n",
       "      <td>1</td>\n",
       "      <td>{'x': 940.4221, 'y': 457.7624}</td>\n",
       "      <td>True</td>\n",
       "      <td>{'avg': {'x': 928.1437, 'y': 444.6928}, 'pcent...</td>\n",
       "      <td>{'x': 963.4797, 'y': 446.7427}</td>\n",
       "      <td>{'avg': {'x': 956.7319, 'y': 460.6899}, 'pcent...</td>\n",
       "      <td>7</td>\n",
       "      <td>429493898</td>\n",
       "      <td>1.567019e+09</td>\n",
       "      <td>995.6876</td>\n",
       "      <td>438.3039</td>\n",
       "      <td>931.2719</td>\n",
       "      <td>455.1814</td>\n",
       "      <td>28.132856</td>\n",
       "      <td>13.029994</td>\n",
       "    </tr>\n",
       "    <tr>\n",
       "      <td>2</td>\n",
       "      <td>{'x': 942.6556, 'y': 454.9428}</td>\n",
       "      <td>True</td>\n",
       "      <td>{'avg': {'x': 0.0, 'y': 0.0}, 'pcenter': {'x':...</td>\n",
       "      <td>{'x': 634.8389, 'y': 573.4175}</td>\n",
       "      <td>{'avg': {'x': 634.8389, 'y': 573.4175}, 'pcent...</td>\n",
       "      <td>7</td>\n",
       "      <td>429494085</td>\n",
       "      <td>1.567019e+09</td>\n",
       "      <td>634.8389</td>\n",
       "      <td>573.4175</td>\n",
       "      <td>0.0000</td>\n",
       "      <td>0.0000</td>\n",
       "      <td>9.268400</td>\n",
       "      <td>8.362339</td>\n",
       "    </tr>\n",
       "  </tbody>\n",
       "</table>\n",
       "</div>"
      ],
      "text/plain": [
       "                              avg   fix  \\\n",
       "0  {'x': 939.3611, 'y': 457.5251}  True   \n",
       "1  {'x': 940.4221, 'y': 457.7624}  True   \n",
       "2  {'x': 942.6556, 'y': 454.9428}  True   \n",
       "\n",
       "                                             lefteye  \\\n",
       "0  {'avg': {'x': 927.8934, 'y': 443.9596}, 'pcent...   \n",
       "1  {'avg': {'x': 928.1437, 'y': 444.6928}, 'pcent...   \n",
       "2  {'avg': {'x': 0.0, 'y': 0.0}, 'pcenter': {'x':...   \n",
       "\n",
       "                              raw  \\\n",
       "0  {'x': 951.3698, 'y': 447.8226}   \n",
       "1  {'x': 963.4797, 'y': 446.7427}   \n",
       "2  {'x': 634.8389, 'y': 573.4175}   \n",
       "\n",
       "                                            righteye  state       time  \\\n",
       "0  {'avg': {'x': 953.4265, 'y': 462.3258}, 'pcent...      7  429493864   \n",
       "1  {'avg': {'x': 956.7319, 'y': 460.6899}, 'pcent...      7  429493898   \n",
       "2  {'avg': {'x': 634.8389, 'y': 573.4175}, 'pcent...      7  429494085   \n",
       "\n",
       "      timestamp  xRaw_righteye  yRaw_righteye  xRaw_lefteye  yRaw_lefteye  \\\n",
       "0  1.567019e+09       972.7897       474.4641      929.9497      421.1812   \n",
       "1  1.567019e+09       995.6876       438.3039      931.2719      455.1814   \n",
       "2  1.567019e+09       634.8389       573.4175        0.0000        0.0000   \n",
       "\n",
       "   av_x_coord  av_y_coord  \n",
       "0   27.779252   13.061494  \n",
       "1   28.132856   13.029994  \n",
       "2    9.268400    8.362339  "
      ]
     },
     "execution_count": 20,
     "metadata": {},
     "output_type": "execute_result"
    }
   ],
   "source": [
    "data.head(n=3)"
   ]
  },
  {
   "cell_type": "markdown",
   "metadata": {},
   "source": [
    "# CHECK 1: Screen size verification"
   ]
  },
  {
   "cell_type": "markdown",
   "metadata": {},
   "source": [
    "In this check, I verify that we are collecting gaze data from the entirety of the screen by calibrating the eye tracker on myself, then moving my eyes around the periphery of the screen (staying within the screen boundary). We can see that we are recording from the full screen, not just a subselection. As such, the smaller screen size (2048, 1152) selected by the eyetribe software is not limiting our area of data collection to a subsection of the sceen. It may, however, give a reduced resolution."
   ]
  },
  {
   "cell_type": "code",
   "execution_count": 21,
   "metadata": {},
   "outputs": [
    {
     "data": {
      "image/png": "[encoded data removed]",
      "text/plain": [
       "<Figure size 432x288 with 1 Axes>"
      ]
     },
     "metadata": {
      "needs_background": "light"
     },
     "output_type": "display_data"
    }
   ],
   "source": [
    "%matplotlib inline\n",
    "sb.scatterplot(x='av_x_coord', y='av_y_coord', data=data)\n",
    "plt.ylim(0, 33.6)\n",
    "plt.xlim(0, 59.8)\n",
    "plt.show()"
   ]
  },
  {
   "cell_type": "markdown",
   "metadata": {},
   "source": [
    "# Check 3: Verify that compiled gaze data from stimulus presentation periods is properly labeled subject, run, and trial number"
   ]
  },
  {
   "cell_type": "code",
   "execution_count": 22,
   "metadata": {},
   "outputs": [],
   "source": [
    "# load gaze data\n",
    "whole_exp1_gaze = pd.read_csv('../parsed_data/gaze_data_sustained.csv')\n",
    "whole_exp2_gaze = pd.read_csv('../parsed_data/gaze_data_variable.csv')\n",
    "\n",
    "# load behavioral data\n",
    "exp1 = pd.read_csv('../parsed_data/behavioral_data_sustained.csv')\n",
    "exp2 = pd.read_csv('../parsed_data/behavioral_data_variable.csv')\n",
    "\n",
    "# label rows by trial number\n",
    "for exp in [exp1, exp2]:\n",
    "\n",
    "    # Number all presentation and memory trials \n",
    "    exp.loc[exp['Trial Type']=='Memory','Trial'] = list(range(0,40))*30*8\n",
    "    exp.loc[exp['Trial Type']=='Presentation','Trial'] = list(range(0,10))*30*8"
   ]
  },
  {
   "cell_type": "markdown",
   "metadata": {},
   "source": [
    "### Here, I select some arbitrary presentation trials from arbitrary subjects and make sure that the minimum and maximum timepoints of the gaze data associated with those trials is within the stimulus onset and offset times recorded in the behavioral csv (see images attached to github issue in comments)"
   ]
  },
  {
   "cell_type": "code",
   "execution_count": 23,
   "metadata": {},
   "outputs": [
    {
     "data": {
      "text/html": [
       "<div>\n",
       "<style scoped>\n",
       "    .dataframe tbody tr th:only-of-type {\n",
       "        vertical-align: middle;\n",
       "    }\n",
       "\n",
       "    .dataframe tbody tr th {\n",
       "        vertical-align: top;\n",
       "    }\n",
       "\n",
       "    .dataframe thead th {\n",
       "        text-align: right;\n",
       "    }\n",
       "</style>\n",
       "<table border=\"1\" class=\"dataframe\">\n",
       "  <thead>\n",
       "    <tr style=\"text-align: right;\">\n",
       "      <th></th>\n",
       "      <th>Unnamed: 0</th>\n",
       "      <th>avg</th>\n",
       "      <th>fix</th>\n",
       "      <th>lefteye</th>\n",
       "      <th>raw</th>\n",
       "      <th>righteye</th>\n",
       "      <th>state</th>\n",
       "      <th>time</th>\n",
       "      <th>timestamp</th>\n",
       "      <th>xRaw_righteye</th>\n",
       "      <th>yRaw_righteye</th>\n",
       "      <th>xRaw_lefteye</th>\n",
       "      <th>yRaw_lefteye</th>\n",
       "      <th>av_x_coord</th>\n",
       "      <th>av_y_coord</th>\n",
       "      <th>Subject</th>\n",
       "      <th>Run</th>\n",
       "      <th>Trial</th>\n",
       "    </tr>\n",
       "  </thead>\n",
       "  <tbody>\n",
       "    <tr>\n",
       "      <td>31631</td>\n",
       "      <td>35499</td>\n",
       "      <td>{'x': 1283.8533, 'y': 620.2024}</td>\n",
       "      <td>False</td>\n",
       "      <td>{'avg': {'x': 1242.6743, 'y': 640.9823}, 'pcen...</td>\n",
       "      <td>{'x': 1264.1882, 'y': 619.1492}</td>\n",
       "      <td>{'avg': {'x': 1312.2472, 'y': 601.8237}, 'pcen...</td>\n",
       "      <td>7</td>\n",
       "      <td>32619412</td>\n",
       "      <td>1.539778e+09</td>\n",
       "      <td>1300.6136</td>\n",
       "      <td>604.0792</td>\n",
       "      <td>1227.7628</td>\n",
       "      <td>634.2191</td>\n",
       "      <td>36.913308</td>\n",
       "      <td>18.058517</td>\n",
       "      <td>24</td>\n",
       "      <td>0</td>\n",
       "      <td>0</td>\n",
       "    </tr>\n",
       "    <tr>\n",
       "      <td>31632</td>\n",
       "      <td>35500</td>\n",
       "      <td>{'x': 1282.3907, 'y': 621.6744}</td>\n",
       "      <td>False</td>\n",
       "      <td>{'avg': {'x': 980.8429, 'y': 663.775}, 'pcente...</td>\n",
       "      <td>{'x': 1018.4906, 'y': 644.8041}</td>\n",
       "      <td>{'avg': {'x': 1056.1383, 'y': 625.8331}, 'pcen...</td>\n",
       "      <td>7</td>\n",
       "      <td>32619445</td>\n",
       "      <td>1.539778e+09</td>\n",
       "      <td>1056.1383</td>\n",
       "      <td>625.8331</td>\n",
       "      <td>980.8429</td>\n",
       "      <td>663.7750</td>\n",
       "      <td>29.739130</td>\n",
       "      <td>18.806785</td>\n",
       "      <td>24</td>\n",
       "      <td>0</td>\n",
       "      <td>0</td>\n",
       "    </tr>\n",
       "    <tr>\n",
       "      <td>31633</td>\n",
       "      <td>35501</td>\n",
       "      <td>{'x': 1016.6923, 'y': 647.6729}</td>\n",
       "      <td>False</td>\n",
       "      <td>{'avg': {'x': 979.5422, 'y': 645.1591}, 'pcent...</td>\n",
       "      <td>{'x': 1016.6923, 'y': 647.6729}</td>\n",
       "      <td>{'avg': {'x': 1053.8423, 'y': 650.1867}, 'pcen...</td>\n",
       "      <td>7</td>\n",
       "      <td>32619479</td>\n",
       "      <td>1.539778e+09</td>\n",
       "      <td>1053.8423</td>\n",
       "      <td>650.1867</td>\n",
       "      <td>979.5422</td>\n",
       "      <td>645.1591</td>\n",
       "      <td>29.686619</td>\n",
       "      <td>18.890460</td>\n",
       "      <td>24</td>\n",
       "      <td>0</td>\n",
       "      <td>0</td>\n",
       "    </tr>\n",
       "    <tr>\n",
       "      <td>31634</td>\n",
       "      <td>35502</td>\n",
       "      <td>{'x': 1017.2625, 'y': 648.6044}</td>\n",
       "      <td>False</td>\n",
       "      <td>{'avg': {'x': 978.2921, 'y': 652.2047}, 'pcent...</td>\n",
       "      <td>{'x': 1017.8312, 'y': 649.5336}</td>\n",
       "      <td>{'avg': {'x': 1056.2328, 'y': 645.0042}, 'pcen...</td>\n",
       "      <td>7</td>\n",
       "      <td>32619522</td>\n",
       "      <td>1.539778e+09</td>\n",
       "      <td>1058.6173</td>\n",
       "      <td>639.8348</td>\n",
       "      <td>977.0451</td>\n",
       "      <td>659.2324</td>\n",
       "      <td>29.719876</td>\n",
       "      <td>18.944730</td>\n",
       "      <td>24</td>\n",
       "      <td>0</td>\n",
       "      <td>0</td>\n",
       "    </tr>\n",
       "    <tr>\n",
       "      <td>31635</td>\n",
       "      <td>35503</td>\n",
       "      <td>{'x': 1020.4211, 'y': 648.7958}</td>\n",
       "      <td>False</td>\n",
       "      <td>{'avg': {'x': 981.9686, 'y': 652.1607}, 'pcent...</td>\n",
       "      <td>{'x': 1018.9575, 'y': 651.0502}</td>\n",
       "      <td>{'avg': {'x': 1053.6932, 'y': 646.6888}, 'pcen...</td>\n",
       "      <td>7</td>\n",
       "      <td>32619556</td>\n",
       "      <td>1.539778e+09</td>\n",
       "      <td>1048.6339</td>\n",
       "      <td>650.0627</td>\n",
       "      <td>989.2811</td>\n",
       "      <td>652.0377</td>\n",
       "      <td>29.752763</td>\n",
       "      <td>18.988964</td>\n",
       "      <td>24</td>\n",
       "      <td>0</td>\n",
       "      <td>0</td>\n",
       "    </tr>\n",
       "    <tr>\n",
       "      <td>...</td>\n",
       "      <td>...</td>\n",
       "      <td>...</td>\n",
       "      <td>...</td>\n",
       "      <td>...</td>\n",
       "      <td>...</td>\n",
       "      <td>...</td>\n",
       "      <td>...</td>\n",
       "      <td>...</td>\n",
       "      <td>...</td>\n",
       "      <td>...</td>\n",
       "      <td>...</td>\n",
       "      <td>...</td>\n",
       "      <td>...</td>\n",
       "      <td>...</td>\n",
       "      <td>...</td>\n",
       "      <td>...</td>\n",
       "      <td>...</td>\n",
       "      <td>...</td>\n",
       "    </tr>\n",
       "    <tr>\n",
       "      <td>31704</td>\n",
       "      <td>35572</td>\n",
       "      <td>{'x': 1290.6523, 'y': 663.8296}</td>\n",
       "      <td>True</td>\n",
       "      <td>{'avg': {'x': 1239.0342, 'y': 711.8994}, 'pcen...</td>\n",
       "      <td>{'x': 1141.3282, 'y': 640.7992}</td>\n",
       "      <td>{'avg': {'x': 1319.0265, 'y': 649.7735}, 'pcen...</td>\n",
       "      <td>7</td>\n",
       "      <td>32622224</td>\n",
       "      <td>1.539778e+09</td>\n",
       "      <td>1182.9049</td>\n",
       "      <td>620.5125</td>\n",
       "      <td>1099.7516</td>\n",
       "      <td>661.0859</td>\n",
       "      <td>33.325893</td>\n",
       "      <td>18.689977</td>\n",
       "      <td>24</td>\n",
       "      <td>0</td>\n",
       "      <td>0</td>\n",
       "    </tr>\n",
       "    <tr>\n",
       "      <td>31705</td>\n",
       "      <td>35573</td>\n",
       "      <td>{'x': 1285.1926, 'y': 664.3483}</td>\n",
       "      <td>True</td>\n",
       "      <td>{'avg': {'x': 1228.6156, 'y': 709.4122}, 'pcen...</td>\n",
       "      <td>{'x': 1132.5037, 'y': 626.8036}</td>\n",
       "      <td>{'avg': {'x': 1308.7322, 'y': 647.7524}, 'pcen...</td>\n",
       "      <td>7</td>\n",
       "      <td>32622258</td>\n",
       "      <td>1.539778e+09</td>\n",
       "      <td>1172.9867</td>\n",
       "      <td>607.1700</td>\n",
       "      <td>1092.0208</td>\n",
       "      <td>646.4372</td>\n",
       "      <td>33.068225</td>\n",
       "      <td>18.281772</td>\n",
       "      <td>24</td>\n",
       "      <td>0</td>\n",
       "      <td>0</td>\n",
       "    </tr>\n",
       "    <tr>\n",
       "      <td>31706</td>\n",
       "      <td>35574</td>\n",
       "      <td>{'x': 1281.0177, 'y': 667.9522}</td>\n",
       "      <td>True</td>\n",
       "      <td>{'avg': {'x': 1219.8298, 'y': 707.6819}, 'pcen...</td>\n",
       "      <td>{'x': 1141.9536, 'y': 635.9633}</td>\n",
       "      <td>{'avg': {'x': 1298.3909, 'y': 645.6387}, 'pcen...</td>\n",
       "      <td>7</td>\n",
       "      <td>32622301</td>\n",
       "      <td>1.539778e+09</td>\n",
       "      <td>1172.2310</td>\n",
       "      <td>605.4139</td>\n",
       "      <td>1111.6761</td>\n",
       "      <td>666.5126</td>\n",
       "      <td>33.344152</td>\n",
       "      <td>18.548928</td>\n",
       "      <td>24</td>\n",
       "      <td>0</td>\n",
       "      <td>0</td>\n",
       "    </tr>\n",
       "    <tr>\n",
       "      <td>31707</td>\n",
       "      <td>35575</td>\n",
       "      <td>{'x': 1278.7561, 'y': 669.2726}</td>\n",
       "      <td>True</td>\n",
       "      <td>{'avg': {'x': 1210.3258, 'y': 705.7842}, 'pcen...</td>\n",
       "      <td>{'x': 1137.7285, 'y': 640.5206}</td>\n",
       "      <td>{'avg': {'x': 1288.731, 'y': 644.3336}, 'pcent...</td>\n",
       "      <td>7</td>\n",
       "      <td>32622334</td>\n",
       "      <td>1.539778e+09</td>\n",
       "      <td>1177.3082</td>\n",
       "      <td>617.1078</td>\n",
       "      <td>1098.1487</td>\n",
       "      <td>663.9335</td>\n",
       "      <td>33.220782</td>\n",
       "      <td>18.681852</td>\n",
       "      <td>24</td>\n",
       "      <td>0</td>\n",
       "      <td>0</td>\n",
       "    </tr>\n",
       "    <tr>\n",
       "      <td>31708</td>\n",
       "      <td>35576</td>\n",
       "      <td>{'x': 1269.8077, 'y': 667.946}</td>\n",
       "      <td>True</td>\n",
       "      <td>{'avg': {'x': 982.2194, 'y': 651.6713}, 'pcent...</td>\n",
       "      <td>{'x': 1034.4448, 'y': 632.2086}</td>\n",
       "      <td>{'avg': {'x': 1086.6703, 'y': 612.7458}, 'pcen...</td>\n",
       "      <td>7</td>\n",
       "      <td>32622369</td>\n",
       "      <td>1.539778e+09</td>\n",
       "      <td>1086.6703</td>\n",
       "      <td>612.7458</td>\n",
       "      <td>982.2194</td>\n",
       "      <td>651.6713</td>\n",
       "      <td>30.204981</td>\n",
       "      <td>18.439416</td>\n",
       "      <td>24</td>\n",
       "      <td>0</td>\n",
       "      <td>0</td>\n",
       "    </tr>\n",
       "  </tbody>\n",
       "</table>\n",
       "<p>78 rows × 18 columns</p>\n",
       "</div>"
      ],
      "text/plain": [
       "       Unnamed: 0                              avg    fix  \\\n",
       "31631       35499  {'x': 1283.8533, 'y': 620.2024}  False   \n",
       "31632       35500  {'x': 1282.3907, 'y': 621.6744}  False   \n",
       "31633       35501  {'x': 1016.6923, 'y': 647.6729}  False   \n",
       "31634       35502  {'x': 1017.2625, 'y': 648.6044}  False   \n",
       "31635       35503  {'x': 1020.4211, 'y': 648.7958}  False   \n",
       "...           ...                              ...    ...   \n",
       "31704       35572  {'x': 1290.6523, 'y': 663.8296}   True   \n",
       "31705       35573  {'x': 1285.1926, 'y': 664.3483}   True   \n",
       "31706       35574  {'x': 1281.0177, 'y': 667.9522}   True   \n",
       "31707       35575  {'x': 1278.7561, 'y': 669.2726}   True   \n",
       "31708       35576   {'x': 1269.8077, 'y': 667.946}   True   \n",
       "\n",
       "                                                 lefteye  \\\n",
       "31631  {'avg': {'x': 1242.6743, 'y': 640.9823}, 'pcen...   \n",
       "31632  {'avg': {'x': 980.8429, 'y': 663.775}, 'pcente...   \n",
       "31633  {'avg': {'x': 979.5422, 'y': 645.1591}, 'pcent...   \n",
       "31634  {'avg': {'x': 978.2921, 'y': 652.2047}, 'pcent...   \n",
       "31635  {'avg': {'x': 981.9686, 'y': 652.1607}, 'pcent...   \n",
       "...                                                  ...   \n",
       "31704  {'avg': {'x': 1239.0342, 'y': 711.8994}, 'pcen...   \n",
       "31705  {'avg': {'x': 1228.6156, 'y': 709.4122}, 'pcen...   \n",
       "31706  {'avg': {'x': 1219.8298, 'y': 707.6819}, 'pcen...   \n",
       "31707  {'avg': {'x': 1210.3258, 'y': 705.7842}, 'pcen...   \n",
       "31708  {'avg': {'x': 982.2194, 'y': 651.6713}, 'pcent...   \n",
       "\n",
       "                                   raw  \\\n",
       "31631  {'x': 1264.1882, 'y': 619.1492}   \n",
       "31632  {'x': 1018.4906, 'y': 644.8041}   \n",
       "31633  {'x': 1016.6923, 'y': 647.6729}   \n",
       "31634  {'x': 1017.8312, 'y': 649.5336}   \n",
       "31635  {'x': 1018.9575, 'y': 651.0502}   \n",
       "...                                ...   \n",
       "31704  {'x': 1141.3282, 'y': 640.7992}   \n",
       "31705  {'x': 1132.5037, 'y': 626.8036}   \n",
       "31706  {'x': 1141.9536, 'y': 635.9633}   \n",
       "31707  {'x': 1137.7285, 'y': 640.5206}   \n",
       "31708  {'x': 1034.4448, 'y': 632.2086}   \n",
       "\n",
       "                                                righteye  state      time  \\\n",
       "31631  {'avg': {'x': 1312.2472, 'y': 601.8237}, 'pcen...      7  32619412   \n",
       "31632  {'avg': {'x': 1056.1383, 'y': 625.8331}, 'pcen...      7  32619445   \n",
       "31633  {'avg': {'x': 1053.8423, 'y': 650.1867}, 'pcen...      7  32619479   \n",
       "31634  {'avg': {'x': 1056.2328, 'y': 645.0042}, 'pcen...      7  32619522   \n",
       "31635  {'avg': {'x': 1053.6932, 'y': 646.6888}, 'pcen...      7  32619556   \n",
       "...                                                  ...    ...       ...   \n",
       "31704  {'avg': {'x': 1319.0265, 'y': 649.7735}, 'pcen...      7  32622224   \n",
       "31705  {'avg': {'x': 1308.7322, 'y': 647.7524}, 'pcen...      7  32622258   \n",
       "31706  {'avg': {'x': 1298.3909, 'y': 645.6387}, 'pcen...      7  32622301   \n",
       "31707  {'avg': {'x': 1288.731, 'y': 644.3336}, 'pcent...      7  32622334   \n",
       "31708  {'avg': {'x': 1086.6703, 'y': 612.7458}, 'pcen...      7  32622369   \n",
       "\n",
       "          timestamp  xRaw_righteye  yRaw_righteye  xRaw_lefteye  yRaw_lefteye  \\\n",
       "31631  1.539778e+09      1300.6136       604.0792     1227.7628      634.2191   \n",
       "31632  1.539778e+09      1056.1383       625.8331      980.8429      663.7750   \n",
       "31633  1.539778e+09      1053.8423       650.1867      979.5422      645.1591   \n",
       "31634  1.539778e+09      1058.6173       639.8348      977.0451      659.2324   \n",
       "31635  1.539778e+09      1048.6339       650.0627      989.2811      652.0377   \n",
       "...             ...            ...            ...           ...           ...   \n",
       "31704  1.539778e+09      1182.9049       620.5125     1099.7516      661.0859   \n",
       "31705  1.539778e+09      1172.9867       607.1700     1092.0208      646.4372   \n",
       "31706  1.539778e+09      1172.2310       605.4139     1111.6761      666.5126   \n",
       "31707  1.539778e+09      1177.3082       617.1078     1098.1487      663.9335   \n",
       "31708  1.539778e+09      1086.6703       612.7458      982.2194      651.6713   \n",
       "\n",
       "       av_x_coord  av_y_coord  Subject  Run  Trial  \n",
       "31631   36.913308   18.058517       24    0      0  \n",
       "31632   29.739130   18.806785       24    0      0  \n",
       "31633   29.686619   18.890460       24    0      0  \n",
       "31634   29.719876   18.944730       24    0      0  \n",
       "31635   29.752763   18.988964       24    0      0  \n",
       "...           ...         ...      ...  ...    ...  \n",
       "31704   33.325893   18.689977       24    0      0  \n",
       "31705   33.068225   18.281772       24    0      0  \n",
       "31706   33.344152   18.548928       24    0      0  \n",
       "31707   33.220782   18.681852       24    0      0  \n",
       "31708   30.204981   18.439416       24    0      0  \n",
       "\n",
       "[78 rows x 18 columns]"
      ]
     },
     "execution_count": 23,
     "metadata": {},
     "output_type": "execute_result"
    }
   ],
   "source": [
    "gaze_times"
   ]
  },
  {
   "cell_type": "code",
   "execution_count": 24,
   "metadata": {},
   "outputs": [
    {
     "name": "stdout",
     "output_type": "stream",
     "text": [
      "The behavioral file indicates images were presented from 1539187836.052003 to 1539187839.318868\n",
      "The first associated gazepoint is at time 1539187836.0579998 and the last is at time 1539187839.274\n",
      "\n",
      "The behavioral file indicates images were presented from 1539187876.9810288 to 1539187880.398963\n",
      "The first associated gazepoint is at time 1539187876.9929998 and the last is at time 1539187880.3979998\n",
      "\n",
      "The behavioral file indicates images were presented from 1539185287.04452 to 1539185290.380151\n",
      "The first associated gazepoint is at time 1539185287.06 and the last is at time 1539185290.36\n",
      "\n",
      "The behavioral file indicates images were presented from 1539185255.635087 to 1539185259.002909\n",
      "The first associated gazepoint is at time 1539185255.6379998 and the last is at time 1539185257.3479998\n",
      "\n",
      "14\n",
      "The behavioral file indicates images were presented from 1538572094.023438 to 1538572097.308028\n",
      "The first associated gazepoint is at time 1538572094.042 and the last is at time 1538572097.081\n",
      "\n",
      "The behavioral file indicates images were presented from 1538572077.067194 to 1538572080.3686259\n",
      "The first associated gazepoint is at time 1538572077.093 and the last is at time 1538572080.3520002\n",
      "\n",
      "The behavioral file indicates images were presented from 1538572828.877116 to 1538572832.259868\n",
      "The first associated gazepoint is at time 1538572828.8779998 and the last is at time 1538572832.248\n",
      "\n",
      "The behavioral file indicates images were presented from 1538572818.089842 to 1538572821.42324\n",
      "The first associated gazepoint is at time 1538572818.105 and the last is at time 1538572821.401\n",
      "\n",
      "7\n"
     ]
    }
   ],
   "source": [
    "import random\n",
    "for sub in random.sample(list(whole_exp1_gaze['Subject'].unique()),2):\n",
    "    for run in random.sample(list(whole_exp1_gaze['Run'].unique()),2):\n",
    "        for trial in random.sample(list(whole_exp1_gaze['Trial'].unique()),2):\n",
    "    \n",
    "            gaze_times = whole_exp1_gaze[(whole_exp1_gaze['Subject']==sub) \n",
    "                                        &(whole_exp1_gaze['Run']==run)\n",
    "                                        &(whole_exp1_gaze['Trial']==trial)]\n",
    "            \n",
    "            pres_times = exp1[(exp1['Subject']==sub) \n",
    "                                &(exp1['Run']==run)\n",
    "                                &(exp1['Trial']==trial)\n",
    "                                &(exp1['Trial Type']=='Presentation')]\n",
    "            \n",
    "            print('The behavioral file indicates images were presented from '+str(pres_times['Stimulus Onset'].item())+' to '+str(pres_times['Stimulus End'].item()))\n",
    "            print('The first associated gazepoint is at time '+str(gaze_times['timestamp'].min())+' and the last is at time '+str(gaze_times['timestamp'].max()))\n",
    "            print()\n",
    "            \n",
    "\n",
    "        \n",
    "    print(sub)\n"
   ]
  },
  {
   "cell_type": "markdown",
   "metadata": {},
   "source": [
    "# Check 2 : screen boundary cutoff"
   ]
  },
  {
   "cell_type": "markdown",
   "metadata": {},
   "source": [
    "Load data that is only partially pre processed (saved out after running cell #### in analyze_gaze_data.ipynb). This data still includes extreme gazepoint values outside the size of our screen, so we can explore how many fall very close to the scrren boundary."
   ]
  },
  {
   "cell_type": "code",
   "execution_count": 25,
   "metadata": {},
   "outputs": [],
   "source": [
    "# exp1_sub_gaze = pd.read_csv('/Users/kirstenziman/Documents/NEW_DIRECTORY/exp1_sub_gaze_intermediary.csv')\n",
    "pres_full = pd.read_csv('presentation_with_gaze_outside_screen.csv')"
   ]
  },
  {
   "cell_type": "code",
   "execution_count": 26,
   "metadata": {},
   "outputs": [
    {
     "name": "stdout",
     "output_type": "stream",
     "text": [
      "2.2201500000000003\n",
      "1084285.722\n",
      "\n",
      "-44443.29035\n",
      "62048.0975\n"
     ]
    }
   ],
   "source": [
    "# verify extreme values are still intact\n",
    "print(pres_full['av_x_coord'].min())\n",
    "print(pres_full['av_x_coord'].max())\n",
    "print()\n",
    "print(pres_full['av_y_coord'].min())\n",
    "print(pres_full['av_y_coord'].max())"
   ]
  },
  {
   "cell_type": "code",
   "execution_count": 27,
   "metadata": {},
   "outputs": [],
   "source": [
    "# convert from pixels to centimeters\n",
    "pres_full['av_x_coord'] = (59.8/2048)*(pres_full[['xRaw_righteye', 'xRaw_lefteye']].mean(axis=1))\n",
    "pres_full['av_y_coord'] = (33.6/1152)*(pres_full[['yRaw_righteye', 'yRaw_lefteye']].mean(axis=1))"
   ]
  },
  {
   "cell_type": "code",
   "execution_count": 28,
   "metadata": {},
   "outputs": [
    {
     "name": "stdout",
     "output_type": "stream",
     "text": [
      "31\n"
     ]
    }
   ],
   "source": [
    "# sum the number of gazepoints falling within half a centimeter outside the screen periphery\n",
    "x_bound = pres_full[((pres_full['av_x_coord'].between(-.5,0)) | (pres_full['av_x_coord'].between(59.8,60.3))) & ((pres_full['av_y_coord'].between(-.5,34.1)))]\n",
    "y_bound = pres_full[((pres_full['av_y_coord'].between(-.5,0)) | (pres_full['av_y_coord'].between(33.6,34.1))) & ((pres_full['av_x_coord'].between(0,59.8)))]                       \n",
    "                       \n",
    "edges = pd.concat([x_bound, y_bound])\n",
    "print(edges.shape[0])          "
   ]
  },
  {
   "cell_type": "code",
   "execution_count": 29,
   "metadata": {},
   "outputs": [
    {
     "data": {
      "text/plain": [
       "<matplotlib.axes._subplots.AxesSubplot at 0x11b4cd990>"
      ]
     },
     "execution_count": 29,
     "metadata": {},
     "output_type": "execute_result"
    },
    {
     "data": {
      "image/png": "[encoded data removed]",
      "text/plain": [
       "<Figure size 432x288 with 1 Axes>"
      ]
     },
     "metadata": {
      "needs_background": "light"
     },
     "output_type": "display_data"
    }
   ],
   "source": [
    "sb.scatterplot(x='av_x_coord', y='av_y_coord', data=edges)"
   ]
  },
  {
   "cell_type": "code",
   "execution_count": 30,
   "metadata": {},
   "outputs": [
    {
     "name": "stdout",
     "output_type": "stream",
     "text": [
      "Total number of gazepoints collected across the entire experiment: 31\n"
     ]
    }
   ],
   "source": [
    "print('Total number of gazepoints collected across the entire experiment: '+ str(edges.shape[0]))"
   ]
  },
  {
   "cell_type": "markdown",
   "metadata": {},
   "source": [
    "### Obtain proportion of gazepoints falling .5 centimeters or less outside the screen's edge"
   ]
  },
  {
   "cell_type": "markdown",
   "metadata": {},
   "source": [
    "Note: this rough look at the data will actually overestimate the number of gazepoints falling immediately next to the screen "
   ]
  },
  {
   "cell_type": "code",
   "execution_count": 31,
   "metadata": {},
   "outputs": [
    {
     "name": "stdout",
     "output_type": "stream",
     "text": [
      "Proportion of gazepoints falling .5 centimeters or less outside of the screen periphery: 0.00018712687805967537\n"
     ]
    }
   ],
   "source": [
    "print('Proportion of gazepoints falling .5 centimeters or less outside of the screen periphery: '+str(edges.shape[0]/pres_full.shape[0]))"
   ]
  },
  {
   "cell_type": "markdown",
   "metadata": {},
   "source": [
    "### Obtain proportion of gazepoints falling 1 centimeter or less outside the screen's edge"
   ]
  },
  {
   "cell_type": "code",
   "execution_count": 32,
   "metadata": {},
   "outputs": [
    {
     "name": "stdout",
     "output_type": "stream",
     "text": [
      "54\n"
     ]
    }
   ],
   "source": [
    "# sum the number of gazepoints falling within half a centimeter outside the screen periphery\n",
    "x_bound = pres_full[((pres_full['av_x_coord'].between(-1,0)) | (pres_full['av_x_coord'].between(59.8,60.8))) & ((pres_full['av_y_coord'].between(-1,34.6)))]\n",
    "y_bound = pres_full[((pres_full['av_y_coord'].between(-1,0)) | (pres_full['av_y_coord'].between(33.6,34.6))) & ((pres_full['av_x_coord'].between(0,59.8)))]                       \n",
    "                       \n",
    "edges = pd.concat([x_bound, y_bound])\n",
    "print(edges.shape[0])   "
   ]
  },
  {
   "cell_type": "code",
   "execution_count": 33,
   "metadata": {},
   "outputs": [
    {
     "name": "stdout",
     "output_type": "stream",
     "text": [
      "Proportion of gazepoints falling 1 centimeter or less outside of the screen periphery: 0.0003259629488781442\n"
     ]
    }
   ],
   "source": [
    "print('Proportion of gazepoints falling 1 centimeter or less outside of the screen periphery: '+str(edges.shape[0]/pres_full.shape[0]))"
   ]
  },
  {
   "cell_type": "code",
   "execution_count": null,
   "metadata": {},
   "outputs": [],
   "source": []
  },
  {
   "cell_type": "code",
   "execution_count": null,
   "metadata": {},
   "outputs": [],
   "source": []
  }
 ],
 "metadata": {
  "kernelspec": {
   "display_name": "Python 3",
   "language": "python",
   "name": "python3"
  },
  "language_info": {
   "codemirror_mode": {
    "name": "ipython",
    "version": 3
   },
   "file_extension": ".py",
   "mimetype": "text/x-python",
   "name": "python",
   "nbconvert_exporter": "python",
   "pygments_lexer": "ipython3",
   "version": "3.7.4"
  }
 },
 "nbformat": 4,
 "nbformat_minor": 2
}
