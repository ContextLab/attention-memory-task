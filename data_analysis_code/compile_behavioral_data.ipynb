{
 "cells": [
  {
   "cell_type": "markdown",
   "metadata": {},
   "source": [
    "# Imports"
   ]
  },
  {
   "cell_type": "code",
   "execution_count": 1,
   "metadata": {},
   "outputs": [],
   "source": [
    "import pandas as pd; import os; from analysis_helpers import *; import warnings\n",
    "warnings.filterwarnings('ignore')"
   ]
  },
  {
   "cell_type": "markdown",
   "metadata": {},
   "source": [
    "# Data Compile\n",
    "Organize behavioral data from each participant into one dataframe for the whole experiment."
   ]
  },
  {
   "cell_type": "code",
   "execution_count": 9,
   "metadata": {},
   "outputs": [],
   "source": [
    "data_dirs = ['../sustained_attention_experiment/data','../variable_attention_experiment/data']\n",
    "filenames = ['../parsed_data/behavioral_data_sustained.csv', '../parsed_data/behavioral_data_variable.csv']\n",
    "\n",
    "for data,file in zip(data_dirs, filenames):\n",
    "    \n",
    "    sub_list = []\n",
    "    \n",
    "    for sub_dir in os.listdir(data):\n",
    "        sub_list.append(add_level(sum_pd(data + '/' + sub_dir)))\n",
    "\n",
    "    exp_raw = pd.concat(sub_list)\n",
    "    exp_raw.to_csv(file)"
   ]
  }
 ],
 "metadata": {
  "kernelspec": {
   "display_name": "Python 3",
   "language": "python",
   "name": "python3"
  },
  "language_info": {
   "codemirror_mode": {
    "name": "ipython",
    "version": 3
   },
   "file_extension": ".py",
   "mimetype": "text/x-python",
   "name": "python",
   "nbconvert_exporter": "python",
   "pygments_lexer": "ipython3",
   "version": "3.7.4"
  }
 },
 "nbformat": 4,
 "nbformat_minor": 2
}
