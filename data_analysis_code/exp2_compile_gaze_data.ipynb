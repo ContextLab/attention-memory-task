{
 "cells": [
  {
   "cell_type": "markdown",
   "metadata": {},
   "source": [
    "# Imports"
   ]
  },
  {
   "cell_type": "code",
   "execution_count": 1,
   "metadata": {},
   "outputs": [],
   "source": [
    "import pandas as pd; import seaborn as sb; import statsmodels.formula.api as smf; import pingouin;\n",
    "from statannot import add_stat_annotation; from itertools import combinations; import os\n",
    "from analysis_helpers import *; import scipy; from scipy import stats; import os\n",
    "\n",
    "import warnings\n",
    "warnings.filterwarnings('ignore')"
   ]
  },
  {
   "cell_type": "code",
   "execution_count": 4,
   "metadata": {},
   "outputs": [],
   "source": [
    "data_str = '/Users/kirstenziman/Desktop/new_place/attention-memory-task/varied_attention_experiment/data'\n",
    "\n",
    "exp2_gaze = []\n",
    "\n",
    "for subject in os.listdir(data_str):\n",
    "    exp2_gaze.append(eye_intial(data_str + '/' + subject +'/eye_data/'))"
   ]
  },
  {
   "cell_type": "code",
   "execution_count": 4,
   "metadata": {},
   "outputs": [],
   "source": [
    "exp2_numbered = []\n",
    "for sub_num,subject in zip(os.listdir(data_str), exp2_gaze):\n",
    "    subject['Subject'] = str(sub_num[0:2])\n",
    "    exp2_numbered.append(subject)"
   ]
  },
  {
   "cell_type": "code",
   "execution_count": 5,
   "metadata": {},
   "outputs": [],
   "source": [
    "exp2_sub_gaze = pd.concat(exp2_numbered)"
   ]
  },
  {
   "cell_type": "code",
   "execution_count": 15,
   "metadata": {
    "scrolled": true
   },
   "outputs": [
    {
     "name": "stdout",
     "output_type": "stream",
     "text": [
      "8_2019_Feb_28\n",
      "15_2019_Apr_01\n",
      "1_2019_Feb_21\n",
      "25_2019_Apr_16\n",
      "12_2019_Mar_27\n",
      "4_2019_Feb_21\n",
      "28_2019_Apr_23\n",
      "19_2019_Apr_01\n",
      "21_2019_Apr_09\n",
      "33_2019_Apr_26\n",
      "7_2019_Feb_28\n",
      "26_2019_Apr_16\n",
      "14_2019_Mar_29\n",
      "2_2019_Feb_21\n",
      "16_2019_Apr_01\n",
      "27_2019_Apr_22\n",
      "23_2019_Apr_10\n",
      "18_2019_Apr_01\n",
      "29_2019_Apr_23\n",
      "13_2019_Mar_29\n",
      "5_2019_Feb_26\n",
      "24_2019_Apr_11\n",
      "0_2019_Feb_21\n",
      "34_2019_Apr_27\n",
      "22_2019_Apr_10\n",
      "327_2019_Mar_27\n",
      "17_2019_Apr_01\n",
      "3_2019_Feb_21\n",
      "10_2019_Mar_27\n",
      "20_2019_Apr_09\n"
     ]
    }
   ],
   "source": [
    "exp2_pres_trials = []\n",
    "dat_str = '/Users/kirstenziman/Desktop/new_place/attention-memory-task/varied_attention_experiment/data'\n",
    "for sub_file in os.listdir(dat_str):\n",
    "\n",
    "    exp2_pres_trials.append(pres_gaze_image(dat_str + '/' + sub_file +'/', \n",
    "                                            exp2_sub_gaze[exp2_sub_gaze['Subject']==sub_file[0:2]], \n",
    "                                            sub_file[0:2]))\n",
    "    print(sub_file)\n"
   ]
  },
  {
   "cell_type": "code",
   "execution_count": 39,
   "metadata": {},
   "outputs": [],
   "source": [
    "full_pres2 =[]\n",
    "\n",
    "for idx,sub in enumerate(exp2_pres_trials):\n",
    "    for run in exp2_pres_trials[idx].keys():\n",
    "        for trial in exp2_pres_trials[idx][run]:\n",
    "            full_pres2.append(trial)\n",
    "#     print(trial['Subject'].unique())\n",
    "        "
   ]
  },
  {
   "cell_type": "code",
   "execution_count": 26,
   "metadata": {},
   "outputs": [],
   "source": [
    "whole_exp2_gaze = pd.concat(full_pres2)"
   ]
  },
  {
   "cell_type": "code",
   "execution_count": 28,
   "metadata": {},
   "outputs": [],
   "source": [
    "whole_exp2_gaze['av_x_coord'] = (59.8/2048)*(whole_exp2_gaze[['xRaw_righteye', 'xRaw_lefteye']].mean(axis=1))\n",
    "whole_exp2_gaze['av_y_coord'] = (33.6/1152)*(whole_exp2_gaze[['yRaw_righteye', 'yRaw_lefteye']].mean(axis=1))"
   ]
  },
  {
   "cell_type": "code",
   "execution_count": 30,
   "metadata": {},
   "outputs": [],
   "source": [
    "# eliminate gazepoints with extreme values outside the area of the screen\n",
    "# (eyetribe gives zeros or extremely high values when issue collecting data)"
   ]
  },
  {
   "cell_type": "code",
   "execution_count": 33,
   "metadata": {},
   "outputs": [],
   "source": [
    "whole_exp2_gaze = whole_exp2_gaze[(whole_exp2_gaze['av_x_coord']<59.8) & (whole_exp2_gaze['av_y_coord']<33.6)]"
   ]
  },
  {
   "cell_type": "code",
   "execution_count": 38,
   "metadata": {},
   "outputs": [],
   "source": [
    "whole_exp2_gaze.to_csv('whole_exp2_gaze_best.csv')"
   ]
  }
 ],
 "metadata": {
  "kernelspec": {
   "display_name": "Python 3",
   "language": "python",
   "name": "python3"
  },
  "language_info": {
   "codemirror_mode": {
    "name": "ipython",
    "version": 3
   },
   "file_extension": ".py",
   "mimetype": "text/x-python",
   "name": "python",
   "nbconvert_exporter": "python",
   "pygments_lexer": "ipython3",
   "version": "3.6.4"
  }
 },
 "nbformat": 4,
 "nbformat_minor": 2
}
