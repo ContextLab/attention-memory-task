{
 "cells": [
  {
   "cell_type": "markdown",
   "metadata": {},
   "source": [
    "# Imports"
   ]
  },
  {
   "cell_type": "code",
   "execution_count": 1,
   "metadata": {},
   "outputs": [],
   "source": [
    "import pandas as pd; import seaborn as sb; import statsmodels.formula.api as smf; import pingouin;\n",
    "from itertools import combinations; import os; from analysis_helpers import *; \n",
    "import scipy; from scipy import stats; import os; import math; import warnings\n",
    "warnings.filterwarnings('ignore')"
   ]
  },
  {
   "cell_type": "markdown",
   "metadata": {},
   "source": [
    "# Load and organize data"
   ]
  },
  {
   "cell_type": "markdown",
   "metadata": {},
   "source": [
    "need to start with full_gaze because pres gaze already has means?\n"
   ]
  },
  {
   "cell_type": "code",
   "execution_count": 2,
   "metadata": {},
   "outputs": [],
   "source": [
    "gaze  = pd.read_csv('../parsed_data/full_pres_gaze.csv')\n",
    "behav = pd.read_csv('../parsed_data/full_behavioral.csv')"
   ]
  },
  {
   "cell_type": "code",
   "execution_count": 3,
   "metadata": {},
   "outputs": [],
   "source": [
    "gaze_full = pd.read_csv('../parsed_data/full_gaze.csv')"
   ]
  },
  {
   "cell_type": "code",
   "execution_count": 4,
   "metadata": {},
   "outputs": [],
   "source": [
    "# put data into centimeters\n",
    "gaze['av_x_coord'] = gaze['av_x_coord']*(59.8/2048)\n",
    "gaze['av_y_coord'] = gaze['av_y_coord']*(33.6/1152)\n",
    "\n",
    "# eliminate off-screen datapoints\n",
    "gaze = gaze[(gaze['av_x_coord']   < 59.8) \n",
    "                                  & (gaze['av_y_coord'] < 33.6)\n",
    "                                  & (gaze['av_x_coord'] > 0)\n",
    "                                  & (gaze['av_y_coord'] > 0)]"
   ]
  },
  {
   "cell_type": "code",
   "execution_count": 5,
   "metadata": {},
   "outputs": [],
   "source": [
    "# put data into centimeters\n",
    "gaze_full['av_x_coord'] = gaze_full['av_x_coord']*(59.8/2048)\n",
    "gaze_full['av_y_coord'] = gaze_full['av_y_coord']*(33.6/1152)\n",
    "\n",
    "# eliminate off-screen datapoints\n",
    "gaze_full = gaze_full[(gaze_full['av_x_coord']   < 59.8) \n",
    "                                  & (gaze_full['av_y_coord'] < 33.6)\n",
    "                                  & (gaze_full['av_x_coord'] > 0)\n",
    "                                  & (gaze_full['av_y_coord'] > 0)]"
   ]
  },
  {
   "cell_type": "code",
   "execution_count": 6,
   "metadata": {},
   "outputs": [],
   "source": [
    "behav['Uncued Face'] = behav['Uncued Composite'].str.split('_', n=1, expand=True)[0]+'.jpg'\n",
    "behav['Uncued Place'] = behav['Uncued Composite'].str.split('_', n=1, expand=True)[1]\n",
    "behav['Cued Face'] = behav['Cued Composite'].str.split('_', n=1, expand=True)[0]+'.jpg'\n",
    "behav['Cued Place'] = behav['Cued Composite'].str.split('_', n=1, expand=True)[1]"
   ]
  },
  {
   "cell_type": "markdown",
   "metadata": {},
   "source": [
    "### Do something about trials with very little data? "
   ]
  },
  {
   "cell_type": "code",
   "execution_count": 7,
   "metadata": {},
   "outputs": [
    {
     "data": {
      "text/html": [
       "<div>\n",
       "<style scoped>\n",
       "    .dataframe tbody tr th:only-of-type {\n",
       "        vertical-align: middle;\n",
       "    }\n",
       "\n",
       "    .dataframe tbody tr th {\n",
       "        vertical-align: top;\n",
       "    }\n",
       "\n",
       "    .dataframe thead th {\n",
       "        text-align: right;\n",
       "    }\n",
       "</style>\n",
       "<table border=\"1\" class=\"dataframe\">\n",
       "  <thead>\n",
       "    <tr style=\"text-align: right;\">\n",
       "      <th></th>\n",
       "      <th>UniqueID</th>\n",
       "      <th>Run</th>\n",
       "      <th>Trial</th>\n",
       "      <th>Unnamed: 0</th>\n",
       "      <th>Behavior_Image_Start</th>\n",
       "      <th>Experiment</th>\n",
       "      <th>Group</th>\n",
       "      <th>Subject</th>\n",
       "      <th>Unnamed: 0.1</th>\n",
       "      <th>av_x_coord</th>\n",
       "      <th>...</th>\n",
       "      <th>lefteye</th>\n",
       "      <th>raw</th>\n",
       "      <th>righteye</th>\n",
       "      <th>state</th>\n",
       "      <th>time</th>\n",
       "      <th>timestamp</th>\n",
       "      <th>xRaw_lefteye</th>\n",
       "      <th>xRaw_righteye</th>\n",
       "      <th>yRaw_lefteye</th>\n",
       "      <th>yRaw_righteye</th>\n",
       "    </tr>\n",
       "  </thead>\n",
       "  <tbody>\n",
       "    <tr>\n",
       "      <td>431</td>\n",
       "      <td>5</td>\n",
       "      <td>4</td>\n",
       "      <td>1.0</td>\n",
       "      <td>59</td>\n",
       "      <td>59</td>\n",
       "      <td>59</td>\n",
       "      <td>59</td>\n",
       "      <td>59</td>\n",
       "      <td>59</td>\n",
       "      <td>59</td>\n",
       "      <td>...</td>\n",
       "      <td>59</td>\n",
       "      <td>59</td>\n",
       "      <td>59</td>\n",
       "      <td>59</td>\n",
       "      <td>59</td>\n",
       "      <td>59</td>\n",
       "      <td>59</td>\n",
       "      <td>59</td>\n",
       "      <td>59</td>\n",
       "      <td>59</td>\n",
       "    </tr>\n",
       "    <tr>\n",
       "      <td>467</td>\n",
       "      <td>5</td>\n",
       "      <td>7</td>\n",
       "      <td>7.0</td>\n",
       "      <td>2</td>\n",
       "      <td>2</td>\n",
       "      <td>2</td>\n",
       "      <td>2</td>\n",
       "      <td>2</td>\n",
       "      <td>2</td>\n",
       "      <td>2</td>\n",
       "      <td>...</td>\n",
       "      <td>2</td>\n",
       "      <td>2</td>\n",
       "      <td>2</td>\n",
       "      <td>2</td>\n",
       "      <td>2</td>\n",
       "      <td>2</td>\n",
       "      <td>2</td>\n",
       "      <td>2</td>\n",
       "      <td>2</td>\n",
       "      <td>2</td>\n",
       "    </tr>\n",
       "    <tr>\n",
       "      <td>645</td>\n",
       "      <td>8</td>\n",
       "      <td>1</td>\n",
       "      <td>5.0</td>\n",
       "      <td>57</td>\n",
       "      <td>57</td>\n",
       "      <td>57</td>\n",
       "      <td>57</td>\n",
       "      <td>57</td>\n",
       "      <td>57</td>\n",
       "      <td>57</td>\n",
       "      <td>...</td>\n",
       "      <td>57</td>\n",
       "      <td>57</td>\n",
       "      <td>57</td>\n",
       "      <td>57</td>\n",
       "      <td>57</td>\n",
       "      <td>57</td>\n",
       "      <td>57</td>\n",
       "      <td>57</td>\n",
       "      <td>57</td>\n",
       "      <td>57</td>\n",
       "    </tr>\n",
       "    <tr>\n",
       "      <td>760</td>\n",
       "      <td>9</td>\n",
       "      <td>5</td>\n",
       "      <td>0.0</td>\n",
       "      <td>22</td>\n",
       "      <td>22</td>\n",
       "      <td>22</td>\n",
       "      <td>22</td>\n",
       "      <td>22</td>\n",
       "      <td>22</td>\n",
       "      <td>22</td>\n",
       "      <td>...</td>\n",
       "      <td>22</td>\n",
       "      <td>22</td>\n",
       "      <td>22</td>\n",
       "      <td>22</td>\n",
       "      <td>22</td>\n",
       "      <td>22</td>\n",
       "      <td>22</td>\n",
       "      <td>22</td>\n",
       "      <td>22</td>\n",
       "      <td>22</td>\n",
       "    </tr>\n",
       "    <tr>\n",
       "      <td>1030</td>\n",
       "      <td>13</td>\n",
       "      <td>0</td>\n",
       "      <td>0.0</td>\n",
       "      <td>41</td>\n",
       "      <td>41</td>\n",
       "      <td>41</td>\n",
       "      <td>41</td>\n",
       "      <td>41</td>\n",
       "      <td>41</td>\n",
       "      <td>41</td>\n",
       "      <td>...</td>\n",
       "      <td>41</td>\n",
       "      <td>41</td>\n",
       "      <td>41</td>\n",
       "      <td>41</td>\n",
       "      <td>41</td>\n",
       "      <td>41</td>\n",
       "      <td>41</td>\n",
       "      <td>41</td>\n",
       "      <td>41</td>\n",
       "      <td>41</td>\n",
       "    </tr>\n",
       "    <tr>\n",
       "      <td>...</td>\n",
       "      <td>...</td>\n",
       "      <td>...</td>\n",
       "      <td>...</td>\n",
       "      <td>...</td>\n",
       "      <td>...</td>\n",
       "      <td>...</td>\n",
       "      <td>...</td>\n",
       "      <td>...</td>\n",
       "      <td>...</td>\n",
       "      <td>...</td>\n",
       "      <td>...</td>\n",
       "      <td>...</td>\n",
       "      <td>...</td>\n",
       "      <td>...</td>\n",
       "      <td>...</td>\n",
       "      <td>...</td>\n",
       "      <td>...</td>\n",
       "      <td>...</td>\n",
       "      <td>...</td>\n",
       "      <td>...</td>\n",
       "      <td>...</td>\n",
       "    </tr>\n",
       "    <tr>\n",
       "      <td>8216</td>\n",
       "      <td>108</td>\n",
       "      <td>7</td>\n",
       "      <td>8.0</td>\n",
       "      <td>42</td>\n",
       "      <td>42</td>\n",
       "      <td>42</td>\n",
       "      <td>42</td>\n",
       "      <td>42</td>\n",
       "      <td>42</td>\n",
       "      <td>42</td>\n",
       "      <td>...</td>\n",
       "      <td>42</td>\n",
       "      <td>42</td>\n",
       "      <td>42</td>\n",
       "      <td>42</td>\n",
       "      <td>42</td>\n",
       "      <td>42</td>\n",
       "      <td>42</td>\n",
       "      <td>42</td>\n",
       "      <td>42</td>\n",
       "      <td>42</td>\n",
       "    </tr>\n",
       "    <tr>\n",
       "      <td>8217</td>\n",
       "      <td>108</td>\n",
       "      <td>7</td>\n",
       "      <td>9.0</td>\n",
       "      <td>37</td>\n",
       "      <td>37</td>\n",
       "      <td>37</td>\n",
       "      <td>37</td>\n",
       "      <td>37</td>\n",
       "      <td>37</td>\n",
       "      <td>37</td>\n",
       "      <td>...</td>\n",
       "      <td>37</td>\n",
       "      <td>37</td>\n",
       "      <td>37</td>\n",
       "      <td>37</td>\n",
       "      <td>37</td>\n",
       "      <td>37</td>\n",
       "      <td>37</td>\n",
       "      <td>37</td>\n",
       "      <td>37</td>\n",
       "      <td>37</td>\n",
       "    </tr>\n",
       "    <tr>\n",
       "      <td>8474</td>\n",
       "      <td>112</td>\n",
       "      <td>4</td>\n",
       "      <td>1.0</td>\n",
       "      <td>28</td>\n",
       "      <td>28</td>\n",
       "      <td>28</td>\n",
       "      <td>28</td>\n",
       "      <td>28</td>\n",
       "      <td>28</td>\n",
       "      <td>28</td>\n",
       "      <td>...</td>\n",
       "      <td>28</td>\n",
       "      <td>28</td>\n",
       "      <td>28</td>\n",
       "      <td>28</td>\n",
       "      <td>28</td>\n",
       "      <td>28</td>\n",
       "      <td>28</td>\n",
       "      <td>28</td>\n",
       "      <td>28</td>\n",
       "      <td>28</td>\n",
       "    </tr>\n",
       "    <tr>\n",
       "      <td>8479</td>\n",
       "      <td>112</td>\n",
       "      <td>4</td>\n",
       "      <td>6.0</td>\n",
       "      <td>37</td>\n",
       "      <td>37</td>\n",
       "      <td>37</td>\n",
       "      <td>37</td>\n",
       "      <td>37</td>\n",
       "      <td>37</td>\n",
       "      <td>37</td>\n",
       "      <td>...</td>\n",
       "      <td>37</td>\n",
       "      <td>37</td>\n",
       "      <td>37</td>\n",
       "      <td>37</td>\n",
       "      <td>37</td>\n",
       "      <td>37</td>\n",
       "      <td>37</td>\n",
       "      <td>37</td>\n",
       "      <td>37</td>\n",
       "      <td>37</td>\n",
       "    </tr>\n",
       "    <tr>\n",
       "      <td>8482</td>\n",
       "      <td>112</td>\n",
       "      <td>4</td>\n",
       "      <td>9.0</td>\n",
       "      <td>27</td>\n",
       "      <td>27</td>\n",
       "      <td>27</td>\n",
       "      <td>27</td>\n",
       "      <td>27</td>\n",
       "      <td>27</td>\n",
       "      <td>27</td>\n",
       "      <td>...</td>\n",
       "      <td>27</td>\n",
       "      <td>27</td>\n",
       "      <td>27</td>\n",
       "      <td>27</td>\n",
       "      <td>27</td>\n",
       "      <td>27</td>\n",
       "      <td>27</td>\n",
       "      <td>27</td>\n",
       "      <td>27</td>\n",
       "      <td>27</td>\n",
       "    </tr>\n",
       "  </tbody>\n",
       "</table>\n",
       "<p>307 rows × 23 columns</p>\n",
       "</div>"
      ],
      "text/plain": [
       "      UniqueID  Run  Trial  Unnamed: 0  Behavior_Image_Start  Experiment  \\\n",
       "431          5    4    1.0          59                    59          59   \n",
       "467          5    7    7.0           2                     2           2   \n",
       "645          8    1    5.0          57                    57          57   \n",
       "760          9    5    0.0          22                    22          22   \n",
       "1030        13    0    0.0          41                    41          41   \n",
       "...        ...  ...    ...         ...                   ...         ...   \n",
       "8216       108    7    8.0          42                    42          42   \n",
       "8217       108    7    9.0          37                    37          37   \n",
       "8474       112    4    1.0          28                    28          28   \n",
       "8479       112    4    6.0          37                    37          37   \n",
       "8482       112    4    9.0          27                    27          27   \n",
       "\n",
       "      Group  Subject  Unnamed: 0.1  av_x_coord  ...  lefteye  raw  righteye  \\\n",
       "431      59       59            59          59  ...       59   59        59   \n",
       "467       2        2             2           2  ...        2    2         2   \n",
       "645      57       57            57          57  ...       57   57        57   \n",
       "760      22       22            22          22  ...       22   22        22   \n",
       "1030     41       41            41          41  ...       41   41        41   \n",
       "...     ...      ...           ...         ...  ...      ...  ...       ...   \n",
       "8216     42       42            42          42  ...       42   42        42   \n",
       "8217     37       37            37          37  ...       37   37        37   \n",
       "8474     28       28            28          28  ...       28   28        28   \n",
       "8479     37       37            37          37  ...       37   37        37   \n",
       "8482     27       27            27          27  ...       27   27        27   \n",
       "\n",
       "      state  time  timestamp  xRaw_lefteye  xRaw_righteye  yRaw_lefteye  \\\n",
       "431      59    59         59            59             59            59   \n",
       "467       2     2          2             2              2             2   \n",
       "645      57    57         57            57             57            57   \n",
       "760      22    22         22            22             22            22   \n",
       "1030     41    41         41            41             41            41   \n",
       "...     ...   ...        ...           ...            ...           ...   \n",
       "8216     42    42         42            42             42            42   \n",
       "8217     37    37         37            37             37            37   \n",
       "8474     28    28         28            28             28            28   \n",
       "8479     37    37         37            37             37            37   \n",
       "8482     27    27         27            27             27            27   \n",
       "\n",
       "      yRaw_righteye  \n",
       "431              59  \n",
       "467               2  \n",
       "645              57  \n",
       "760              22  \n",
       "1030             41  \n",
       "...             ...  \n",
       "8216             42  \n",
       "8217             37  \n",
       "8474             28  \n",
       "8479             37  \n",
       "8482             27  \n",
       "\n",
       "[307 rows x 23 columns]"
      ]
     },
     "execution_count": 7,
     "metadata": {},
     "output_type": "execute_result"
    }
   ],
   "source": [
    "count_data = gaze.groupby(['UniqueID','Run','Trial'], as_index=False).count()\n",
    "count_data[count_data['avg']<60]"
   ]
  },
  {
   "cell_type": "markdown",
   "metadata": {},
   "source": [
    "# Tendency to gaze towards cued side"
   ]
  },
  {
   "cell_type": "code",
   "execution_count": 8,
   "metadata": {},
   "outputs": [],
   "source": [
    "# group gaze data by subject, run, and trial\n",
    "gaze_grp = gaze.groupby(['UniqueID','Run','Trial'], as_index=False).mean()\n",
    "\n",
    "# add av x coord to each presentation trial in behavioral df\n",
    "\n",
    "for s in gaze_grp['UniqueID'].unique():  \n",
    "# for each unique subject\n",
    "    \n",
    "    for r in gaze_grp[gaze_grp['UniqueID']==s]['Run'].unique():\n",
    "    # for each run of that subject \n",
    "    \n",
    "        for t in gaze_grp[(gaze_grp['UniqueID']==s) & (gaze_grp['Run']==r)]['Trial'].unique():\n",
    "        # for each memory trial in that run\n",
    "        \n",
    "            if gaze_grp[(gaze_grp['UniqueID']==s) & (gaze_grp['Run']==r) & (gaze_grp['Trial']==t)].shape[0]>0:\n",
    "            # if there are more than zero gazepoints recorded for that presentation trial\n",
    "                \n",
    "                # find the subject, run, and trial in the behavioral dataframe\n",
    "                # then add the average gaze from that presentation trial in gaze df to the behavioral df\n",
    "                \n",
    "                # NOTE: in behavioral df, you have to specify 'Trial Type'=='Presentation' to assign gaze data\n",
    "                # in gaaze df, there is no 'Trial Type' designation, because it is all from Presentation trials\n",
    "                behav.loc[(behav['UniqueID']==s) \n",
    "                             & (behav['Run']==r) \n",
    "                             & (behav['Trial']==t)\n",
    "                             & (behav['Trial Type']=='Presentation'), 'av_x_coord'] =  gaze_grp[(gaze_grp['UniqueID']==s) \n",
    "                                                                                        & (gaze_grp['Run']==r)                                                                                       & (gaze_grp['Trial']==t)]['av_x_coord'].item()\n",
    "                \n",
    "# make behav df gaze_from_center column (av_x_coord - screen_center) \n",
    "behav['gaze_from_center'] = behav['av_x_coord'] - 59.8/2\n",
    "\n",
    "# make the behav df gaze_towards_cued_side column\n",
    "# switch the signs of values for left-facing arrows\n",
    "behav['gaze_towards_cued_side'] = behav['gaze_from_center']\n",
    "behav.loc[(behav['Cued Side']=='<'),'gaze_towards_cued_side'] = -behav.loc[(behav['Cued Side']=='<')]['gaze_towards_cued_side']\n",
    "\n",
    "# behav now has av x coord, gaze from center, and gaze towards cued side for each presentation trial\n",
    "# these are mean values over all gazepoints in that prresentation trial\n"
   ]
  },
  {
   "cell_type": "code",
   "execution_count": 9,
   "metadata": {},
   "outputs": [
    {
     "name": "stdout",
     "output_type": "stream",
     "text": [
      "/sustain, group 1\n",
      "Ttest_1sampResult(statistic=2.496511606285179, pvalue=0.018473602200074483)\n",
      "\n",
      "/sustain, group 2\n",
      "Ttest_1sampResult(statistic=2.5692240642019804, pvalue=0.015600980559136253)\n",
      "\n",
      "/variabl, group 1\n",
      "Ttest_1sampResult(statistic=1.9583307204511424, pvalue=0.059872430712485936)\n",
      "\n",
      "/variabl, group 2\n",
      "Ttest_1sampResult(statistic=2.0679275897343468, pvalue=0.05060495742287633)\n",
      "\n"
     ]
    }
   ],
   "source": [
    "import scipy\n",
    "from scipy import stats\n",
    "\n",
    "# for each experiment\n",
    "for exp in ['/sustain','/variabl']:\n",
    "    \n",
    "    for g in [1,2]:\n",
    "    \n",
    "        # conduct a a ttest - compare gaze towards cued side with hypothetical zero drift\n",
    "\n",
    "        # select data from given experiment, Presentation trials only\n",
    "        behav_1 = behav[(behav['Experiment']==exp) \n",
    "                       &(behav['Trial Type']=='Presentation')\n",
    "                       &(behav['Group']==g)]\n",
    "\n",
    "        # group the selected data by participant \n",
    "        behav_grp = behav_1.groupby(['UniqueID'], as_index=False).mean()\n",
    "\n",
    "        print(exp+', '+'group '+str(g))\n",
    "        # conduct t-test relative to zero drift\n",
    "        print(scipy.stats.ttest_1samp(behav_grp['gaze_towards_cued_side'],0))\n",
    "\n",
    "        # calculate cohen's d?\n",
    "        #print(np.mean(behav_grp['gaze_towards_cued_side'])/np.std(behav_grp['gaze_towards_cued_side']))\n",
    "        print()"
   ]
  },
  {
   "cell_type": "code",
   "execution_count": 10,
   "metadata": {},
   "outputs": [],
   "source": [
    "# Ultimately want df with UniqueID, Run#, Pres Trial #, Attn Level, Av_x_coord, and Rating"
   ]
  },
  {
   "cell_type": "code",
   "execution_count": 11,
   "metadata": {
    "scrolled": true
   },
   "outputs": [
    {
     "ename": "TypeError",
     "evalue": "list indices must be integers or slices, not str",
     "output_type": "error",
     "traceback": [
      "\u001b[0;31m---------------------------------------------------------------------------\u001b[0m",
      "\u001b[0;31mTypeError\u001b[0m                                 Traceback (most recent call last)",
      "\u001b[0;32m<ipython-input-11-1555c3676508>\u001b[0m in \u001b[0;36m<module>\u001b[0;34m\u001b[0m\n\u001b[1;32m      1\u001b[0m list([(behav['Experiment']=='/variabl') \n\u001b[1;32m      2\u001b[0m           \u001b[0;34m&\u001b[0m \u001b[0;34m(\u001b[0m\u001b[0mbehav\u001b[0m\u001b[0;34m[\u001b[0m\u001b[0;34m'Group'\u001b[0m\u001b[0;34m]\u001b[0m\u001b[0;34m==\u001b[0m\u001b[0;36m2\u001b[0m\u001b[0;34m)\u001b[0m\u001b[0;34m\u001b[0m\u001b[0;34m\u001b[0m\u001b[0m\n\u001b[0;32m----> 3\u001b[0;31m           & (behav['Trial Type']=='Presentation')]['gaze_towards_cued_side'])\n\u001b[0m",
      "\u001b[0;31mTypeError\u001b[0m: list indices must be integers or slices, not str"
     ]
    }
   ],
   "source": [
    "list([(behav['Experiment']=='/variabl') \n",
    "          & (behav['Group']==2)\n",
    "          & (behav['Trial Type']=='Presentation')]['gaze_towards_cued_side'])"
   ]
  },
  {
   "cell_type": "markdown",
   "metadata": {},
   "source": [
    "# Data Restricted to Gaze Between Images"
   ]
  },
  {
   "cell_type": "code",
   "execution_count": null,
   "metadata": {},
   "outputs": [],
   "source": [
    "# compute av x gaze's difference from screen center\n",
    "# for every time point / gazepoint collected in each trial\n",
    "# gaze['gaze_from_center'] = gaze['av_x_coord'] - 59.8/2"
   ]
  },
  {
   "cell_type": "code",
   "execution_count": null,
   "metadata": {},
   "outputs": [],
   "source": [
    "# gaze[abs(gaze['gaze_from_center'])>=4.2752]"
   ]
  },
  {
   "cell_type": "code",
   "execution_count": 12,
   "metadata": {},
   "outputs": [],
   "source": [
    "# make gaze df gaze_from_center column (av_x_coord - screen_center) \n",
    "gaze['gaze_from_center'] = gaze['av_x_coord'] - 59.8/2\n",
    "\n",
    "# select gazepoints where abs value of gaze deviation is more than 4.5\n",
    "# 9 cm between inner edges of the two photod; -4.5 to +4.5 around center\n",
    "gaze_elims    = gaze[abs(gaze['gaze_from_center'])>=4.5] \n",
    "\n",
    "# group the subselected data by paticipant, run, and trial \n",
    "# this will be a list of subject, sun, and trials to exclude\n",
    "grouped_elims = gaze_elims.groupby(['UniqueID','Run','Trial'], as_index=False).mean()"
   ]
  },
  {
   "cell_type": "code",
   "execution_count": 13,
   "metadata": {
    "scrolled": true
   },
   "outputs": [],
   "source": [
    "# behav[(behav['UniqueID']==s) & (behav['Run']==r) & (behav['Trial']==t) &\n",
    "#                                    (behav['Trial Type']=='Presentation')]"
   ]
  },
  {
   "cell_type": "code",
   "execution_count": 14,
   "metadata": {},
   "outputs": [],
   "source": [
    "# use the participant, run, and trial info in grouped_elims to  \n",
    "# exclude trials from behav where gaze deviates too far left or right\n",
    "\n",
    "# make empty list to store indices of trials we will eliminate\n",
    "indices = []\n",
    "\n",
    "# for every subject in grouped_elims\n",
    "for s in grouped_elims['UniqueID'].unique():\n",
    "    \n",
    "    # for each run of that subejct in grouped_elims\n",
    "    for r in grouped_elims[grouped_elims['UniqueID']==s]['Run'].unique():\n",
    "        \n",
    "        # for each presentation trial in that run where subs deviate more than specified distance\n",
    "        for t in grouped_elims[(grouped_elims['UniqueID']==s) & (grouped_elims['Run']==r)]['Trial'].unique():\n",
    "            \n",
    "            # get the index of that PRESENTATION trial in the behavioral dataframe\n",
    "            # append to the indices list\n",
    "            indices.append(behav[(behav['UniqueID']==s) & (behav['Run']==r) & (behav['Trial']==t)\n",
    "                                   & (behav['Trial Type']=='Presentation')].index.item())"
   ]
  },
  {
   "cell_type": "markdown",
   "metadata": {},
   "source": [
    "now, we have a list of indices for memory trials testing memory for images that were presented when participant gaze deviated too far left or right\n"
   ]
  },
  {
   "cell_type": "code",
   "execution_count": 15,
   "metadata": {},
   "outputs": [],
   "source": [
    "# make behav df without the trials in the exclusion index list\n",
    "behav_restricted = behav.loc[~behav.index.isin(indices)]"
   ]
  },
  {
   "cell_type": "code",
   "execution_count": 16,
   "metadata": {},
   "outputs": [],
   "source": [
    "# behav restricted now contains :\n",
    "\n",
    "#   + PRES trials where subs did not gaze outside bounds\n",
    "#   + all MEM trials\n",
    "\n",
    "# behav_restricted[(behav_restricted['UniqueID']==0) & (behav_restricted['Run']==3)]"
   ]
  },
  {
   "cell_type": "markdown",
   "metadata": {},
   "source": [
    "# Plot gaze data\n",
    "####  Start with full gaze data"
   ]
  },
  {
   "cell_type": "code",
   "execution_count": 17,
   "metadata": {
    "scrolled": false
   },
   "outputs": [
    {
     "name": "stdout",
     "output_type": "stream",
     "text": [
      "0\n",
      "1\n",
      "2\n",
      "3\n",
      "4\n",
      "5\n",
      "6\n",
      "7\n",
      "8\n",
      "9\n",
      "10\n",
      "11\n",
      "12\n",
      "13\n",
      "14\n",
      "15\n",
      "16\n",
      "17\n",
      "18\n",
      "19\n",
      "20\n",
      "21\n",
      "22\n",
      "23\n",
      "24\n",
      "25\n",
      "26\n",
      "27\n",
      "28\n",
      "29\n",
      "30\n",
      "31\n",
      "32\n",
      "33\n",
      "34\n",
      "35\n",
      "36\n",
      "37\n",
      "38\n",
      "39\n",
      "40\n",
      "41\n",
      "42\n",
      "43\n",
      "44\n",
      "45\n",
      "46\n",
      "47\n",
      "48\n",
      "49\n",
      "50\n",
      "51\n",
      "52\n",
      "53\n",
      "54\n",
      "55\n",
      "56\n",
      "57\n",
      "58\n",
      "59\n",
      "60\n",
      "61\n",
      "62\n",
      "63\n",
      "64\n",
      "65\n",
      "66\n",
      "67\n",
      "68\n",
      "69\n",
      "70\n",
      "71\n",
      "72\n",
      "73\n",
      "74\n",
      "75\n",
      "76\n",
      "77\n",
      "78\n",
      "79\n",
      "80\n",
      "81\n",
      "82\n",
      "83\n",
      "84\n",
      "85\n",
      "86\n",
      "87\n",
      "88\n",
      "89\n",
      "90\n",
      "91\n",
      "92\n",
      "93\n",
      "94\n",
      "95\n",
      "96\n",
      "97\n",
      "98\n",
      "99\n",
      "100\n",
      "101\n",
      "102\n",
      "103\n",
      "104\n",
      "105\n",
      "106\n",
      "107\n",
      "108\n",
      "109\n",
      "110\n",
      "111\n",
      "112\n"
     ]
    }
   ],
   "source": [
    "# make empty gaze dictionary \n",
    "gaze_added_mem_dict = {}\n",
    "\n",
    "# for each experiment\n",
    "for exp in ['/sustain','/variabl']:\n",
    "    \n",
    "    # make empty gaze list\n",
    "    gaze_added_mem = []\n",
    "    \n",
    "    # select the data for that experiment\n",
    "    data = behav[behav['Experiment']==exp]\n",
    "\n",
    "    # for each unique participant\n",
    "    for s in data['UniqueID'].unique():\n",
    "        print(s)\n",
    "        \n",
    "        # for each run in that participant\n",
    "        for r in data['Run'].unique():\n",
    "            \n",
    "            # add gaze data from each presentation trial to the corresponding memory trial\n",
    "            gaze_added_mem.append(add_gaze(data[(data['UniqueID']==s) & (data['Run']==r)]))\n",
    "\n",
    "    # concatenate into a Dataframe\n",
    "    gaze_mem = pd.concat(gaze_added_mem)\n",
    "    \n",
    "    # add zero average x coord for novel images\n",
    "    gaze_mem.loc[gaze_mem['Attention Level']=='Novel','av_x_coord']=0\n",
    "\n",
    "    # set gaze_towards as distance from the center of the screen\n",
    "    gaze_mem['gaze_towards'] = gaze_mem['av_x_coord'] - (59.8/2)\n",
    "\n",
    "    # reverse the sign of gaze_towards for all images that were presented on the left of the screen ####\n",
    "    # Attention category and cue indicate which side an image was on \n",
    "        # e.g. if the trial is cue-left, a person can only have Fully attended an image presented on the left\n",
    "   \n",
    "    # reverse sign of gaze_towards for cue_left images that were:\n",
    "    # (Cue: LEFT)  AND  ( Attn Level : Full OR Attn Level: Side)\n",
    "    gaze_mem.loc[(gaze_mem['Cued Side']=='<') \n",
    "                 & (gaze_mem['Attention Level'].isin(['Full', 'Side'])), 'gaze_towards'] = -gaze_mem[(gaze_mem['Cued Side']=='<') \n",
    "                                                                                                          & (gaze_mem['Attention Level'].isin(['Full', 'Side']))]['gaze_towards']\n",
    "    # (Cue: RIGHT)  AND  ( Attn Level : None OR Attn Level: Category)\n",
    "    gaze_mem.loc[(gaze_mem['Cued Side']=='>') \n",
    "                 & (gaze_mem['Attention Level'].isin(['None', 'Category'])), 'gaze_towards'] = -gaze_mem[(gaze_mem['Cued Side']=='>') & (gaze_mem['Attention Level'].isin(['None', 'Category']))]['gaze_towards']\n",
    "\n",
    "    # group data by by participant, attention level, familiarity rating, experiment, trial type\n",
    "    gaze_mem_grp = gaze_mem.groupby(['UniqueID','Attention Level', 'Familiarity Rating','Experiment','Trial Type'], as_index=False).mean()\n",
    "\n",
    "    # add the grouped data to a dictionary key named for that experiment\n",
    "    gaze_added_mem_dict[exp] = gaze_mem"
   ]
  },
  {
   "cell_type": "code",
   "execution_count": 18,
   "metadata": {},
   "outputs": [
    {
     "data": {
      "image/png": "[encoded data removed]",
      "text/plain": [
       "<Figure size 432x288 with 1 Axes>"
      ]
     },
     "metadata": {},
     "output_type": "display_data"
    },
    {
     "data": {
      "image/png": "[encoded data removed]",
      "text/plain": [
       "<Figure size 432x288 with 1 Axes>"
      ]
     },
     "metadata": {},
     "output_type": "display_data"
    }
   ],
   "source": [
    "%matplotlib inline\n",
    "gaze_mem_grp = 0\n",
    "\n",
    "# for each experiment\n",
    "for exp in ['/sustain','/variabl']:\n",
    "    \n",
    "    # group the data for that experiment by UniqueID, Attention Level, Familiarity Rating, Trial Type\n",
    "    gaze_mem_grp = gaze_added_mem_dict[exp].groupby(['UniqueID','Attention Level', 'Familiarity Rating','Trial Type'], as_index=False).mean()\n",
    "    gaze_mem_grp = gaze_mem_grp[gaze_mem_grp['Group']==1.0]\n",
    "    \n",
    "    # make scaled_gaze_towards by...\n",
    "    \n",
    "    # dividing gaze_towards by half of the screen width   \n",
    "    # yielding the proportional distance gazepoint is towards nearest Right/Left edge of the screen\n",
    "    # (e.g. did they look \"all the way\" over to the Right/Left? ...\"half of the way over\"?)\n",
    "    gaze_mem_grp['scaled_gaze_towards'] = gaze_mem_grp['gaze_towards']/(59.8/2)\n",
    "\n",
    "    # make plots in the 'white' style\n",
    "    sb.set_style('white')\n",
    "\n",
    "    # plot scaled_gaze_towards (y axis) in terms of Attention Level (x-axis) and \n",
    "    # Familiarity Rating (grouping)\n",
    "    f = sb.violinplot(x='Familiarity Rating', y='scaled_gaze_towards', \n",
    "                  data=gaze_mem_grp[(gaze_mem_grp['Attention Level']!='Novel')&\n",
    "                                   (gaze_mem_grp['Trial Type']=='Memory')], hue='Attention Level')\n",
    "    \n",
    "    plt.hlines(.15, xmin=-1, xmax=5) ; plt.hlines(.38, xmin=-1, xmax=5)\n",
    "    plt.hlines(-.15, xmin=-1, xmax=5); plt.hlines(-.38, xmin=-1, xmax=5)\n",
    "    \n",
    "    # plot settings\n",
    "    plt.grid(False)\n",
    "    plt.rc('xtick', labelsize=20)\n",
    "    plt.rc('ytick', labelsize=20)\n",
    "    plt.xlabel('Familiarity Rating',    fontsize = 20)\n",
    "    plt.ylabel('Horizontal Gaze Drift', fontsize = 20)\n",
    "    f.set(ylim=(-1, 1))\n",
    "    f.set(xlim=(-.5, 4))\n",
    "    plt.savefig(\"gaze_susty.pdf\")\n",
    "    plt.show()\n",
    "    \n",
    "    "
   ]
  },
  {
   "cell_type": "markdown",
   "metadata": {},
   "source": [
    "#### then try with restricted data"
   ]
  },
  {
   "cell_type": "code",
   "execution_count": 19,
   "metadata": {},
   "outputs": [
    {
     "data": {
      "text/plain": [
       "<matplotlib.axes._subplots.AxesSubplot at 0x1f460c4d0>"
      ]
     },
     "execution_count": 19,
     "metadata": {},
     "output_type": "execute_result"
    },
    {
     "data": {
      "image/png": "[encoded data removed]",
      "text/plain": [
       "<Figure size 432x288 with 1 Axes>"
      ]
     },
     "metadata": {},
     "output_type": "display_data"
    }
   ],
   "source": [
    "sb.boxplot(data = behav_restricted, x = 'av_x_coord')"
   ]
  },
  {
   "cell_type": "code",
   "execution_count": 20,
   "metadata": {},
   "outputs": [
    {
     "data": {
      "text/plain": [
       "<matplotlib.axes._subplots.AxesSubplot at 0x1fbdee710>"
      ]
     },
     "execution_count": 20,
     "metadata": {},
     "output_type": "execute_result"
    },
    {
     "data": {
      "image/png": "[encoded data removed]",
      "text/plain": [
       "<Figure size 432x288 with 1 Axes>"
      ]
     },
     "metadata": {},
     "output_type": "display_data"
    }
   ],
   "source": [
    "sb.boxplot(data = behav, x = 'gaze_towards_cued_side')"
   ]
  },
  {
   "cell_type": "code",
   "execution_count": 21,
   "metadata": {
    "scrolled": false
   },
   "outputs": [
    {
     "name": "stdout",
     "output_type": "stream",
     "text": [
      "0\n",
      "1\n",
      "2\n",
      "3\n",
      "4\n",
      "5\n",
      "6\n",
      "7\n",
      "8\n",
      "9\n",
      "10\n",
      "11\n",
      "12\n",
      "13\n",
      "14\n",
      "15\n",
      "16\n",
      "17\n",
      "18\n",
      "19\n",
      "20\n",
      "21\n",
      "22\n",
      "23\n",
      "24\n",
      "25\n",
      "26\n",
      "27\n",
      "28\n",
      "29\n",
      "30\n",
      "31\n",
      "32\n",
      "33\n",
      "34\n",
      "35\n",
      "36\n",
      "37\n",
      "38\n",
      "39\n",
      "40\n",
      "41\n",
      "42\n",
      "43\n",
      "44\n",
      "45\n",
      "46\n",
      "47\n",
      "48\n",
      "49\n",
      "50\n",
      "51\n",
      "52\n",
      "53\n",
      "54\n",
      "55\n",
      "56\n",
      "57\n",
      "58\n",
      "59\n",
      "60\n",
      "61\n",
      "62\n",
      "63\n",
      "64\n",
      "65\n",
      "66\n",
      "67\n",
      "68\n",
      "69\n",
      "70\n",
      "71\n",
      "72\n",
      "73\n",
      "74\n",
      "75\n",
      "76\n",
      "77\n",
      "78\n",
      "79\n",
      "80\n",
      "81\n",
      "82\n",
      "83\n",
      "84\n",
      "85\n",
      "86\n",
      "87\n",
      "88\n",
      "89\n",
      "90\n",
      "91\n",
      "92\n",
      "93\n",
      "94\n",
      "95\n",
      "96\n",
      "97\n",
      "98\n",
      "99\n",
      "100\n",
      "101\n",
      "102\n",
      "103\n",
      "104\n",
      "105\n",
      "106\n",
      "107\n",
      "108\n",
      "109\n",
      "110\n",
      "111\n",
      "112\n"
     ]
    }
   ],
   "source": [
    "gaze_added_mem_dict = {}\n",
    "gaze_added_mem = []\n",
    "\n",
    "for exp in ['/sustain','/variabl']:\n",
    "    \n",
    "    data = behav_restricted[behav_restricted['Experiment']==exp]\n",
    "\n",
    "    for s in data['UniqueID'].unique():\n",
    "        print(s)\n",
    "        for r in data['Run'].unique():\n",
    "            gaze_added_mem.append(add_gaze(data[(data['UniqueID']==s) & (data['Run']==r)]))\n",
    "\n",
    "    gaze_mem = pd.concat(gaze_added_mem)\n",
    "    gaze_mem.loc[gaze_mem['Attention Level']=='Novel','av_x_coord']=0\n",
    "\n",
    "    gaze_mem['gaze_towards'] = gaze_mem['av_x_coord'] - (59.8/2)\n",
    "\n",
    "    gaze_mem.loc[(gaze_mem['Cued Side']=='<') \n",
    "                 & (gaze_mem['Attention Level'].isin(['Full', 'Side'])), 'gaze_towards'] = -gaze_mem[(gaze_mem['Cued Side']=='<') \n",
    "                                                                                                          & (gaze_mem['Attention Level'].isin(['Full', 'Side']))]['gaze_towards']\n",
    "\n",
    "    gaze_mem.loc[(gaze_mem['Cued Side']=='>') \n",
    "                 & (gaze_mem['Attention Level'].isin(['None', 'Category'])), 'gaze_towards'] = -gaze_mem[(gaze_mem['Cued Side']=='>') & (gaze_mem['Attention Level'].isin(['None', 'Category']))]['gaze_towards']\n",
    "\n",
    "    gaze_mem_grp = gaze_mem.groupby(['UniqueID','Attention Level', 'Familiarity Rating','Trial Type'], as_index=False).mean()\n",
    "\n",
    "    gaze_added_mem_dict[exp] = gaze_mem"
   ]
  },
  {
   "cell_type": "code",
   "execution_count": 22,
   "metadata": {},
   "outputs": [
    {
     "data": {
      "image/png": "[encoded data removed]",
      "text/plain": [
       "<Figure size 432x288 with 1 Axes>"
      ]
     },
     "metadata": {},
     "output_type": "display_data"
    },
    {
     "data": {
      "image/png": "[encoded data removed]",
      "text/plain": [
       "<Figure size 432x288 with 1 Axes>"
      ]
     },
     "metadata": {},
     "output_type": "display_data"
    }
   ],
   "source": [
    "%matplotlib inline\n",
    "for exp in ['/sustain','/variabl']:\n",
    "    \n",
    "    c = gaze_added_mem_dict[exp]\n",
    "    c = c[c['Group']==1.0]\n",
    "    gaze_mem_grp = c.groupby(['UniqueID','Attention Level', 'Familiarity Rating','Trial Type'], as_index=False).mean()\n",
    "\n",
    "    # scale by screen size\n",
    "    gaze_mem_grp['scaled_gaze_towards'] = gaze_mem_grp['gaze_towards']/(59.8/2)\n",
    "\n",
    "    # plot\n",
    "    sb.set_style('white')\n",
    "\n",
    "    f = sb.violinplot(x='Familiarity Rating', y='scaled_gaze_towards', \n",
    "                  data=gaze_mem_grp[gaze_mem_grp['Attention Level']!='Novel'], hue='Attention Level')\n",
    "\n",
    "    plt.hlines(.15, xmin=-1, xmax=5) ; plt.hlines(.38, xmin=-1, xmax=5)\n",
    "    plt.hlines(-.15, xmin=-1, xmax=5); plt.hlines(-.38, xmin=-1, xmax=5)\n",
    "    \n",
    "    plt.grid(False)\n",
    "    plt.rc('xtick', labelsize=20)\n",
    "    plt.rc('ytick', labelsize=20)\n",
    "    plt.xlabel('Familiarity Rating',    fontsize = 20)\n",
    "    plt.ylabel('Horizontal Gaze Drift', fontsize = 20)\n",
    "    f.set(ylim=(-1, 1))\n",
    "    plt.show()"
   ]
  },
  {
   "cell_type": "code",
   "execution_count": 23,
   "metadata": {},
   "outputs": [],
   "source": [
    "behav_restricted.to_csv('../parsed_data/behav_restricted.csv')"
   ]
  },
  {
   "cell_type": "markdown",
   "metadata": {},
   "source": [
    "# Show similar results in gaze restricted data as in full dataset"
   ]
  },
  {
   "cell_type": "markdown",
   "metadata": {},
   "source": [
    "### Attended Category versus Unattended"
   ]
  },
  {
   "cell_type": "code",
   "execution_count": 35,
   "metadata": {},
   "outputs": [
    {
     "name": "stdout",
     "output_type": "stream",
     "text": [
      "experiment : /sustain\n",
      "Ttest_relResult(statistic=4.893056610511507, pvalue=3.414597092562701e-05)\n",
      "\n",
      "experiment : /variabl\n",
      "Ttest_relResult(statistic=-0.9814932427335575, pvalue=0.33702076860835417)\n",
      "\n"
     ]
    }
   ],
   "source": [
    "# group data by UniqueID, Experiment, and Attention Level\n",
    "d = behav_restricted.groupby(['UniqueID', 'Experiment', 'Attention Level'], as_index=False).mean()\n",
    "\n",
    "# for each experiment\n",
    "for experiment in ['/sustain', '/variabl']:\n",
    "        \n",
    "    # make empty lists Cats and Nones\n",
    "    Cats  = []\n",
    "    Nones = []\n",
    "    \n",
    "    # for each participant in the select experiment\n",
    "    for s in d[(d['Experiment']==experiment) & (d['Group']==2.0)]['UniqueID'].unique():\n",
    "        \n",
    "        # obtain the average familiarity rating this participant gave to images attended at the Category level\n",
    "        # append to the list Cats\n",
    "        Cats.append(d[(d['UniqueID']==s) & (d['Attention Level'].isin(['Category']) & (d['Experiment']==experiment))]['Familiarity Rating'].mean())\n",
    "        \n",
    "        # obtain the average familiarity rating this participant gave to images attended at the None level\n",
    "        # append to the list Nones\n",
    "        Nones.append(d[(d['UniqueID']==s) & (d['Attention Level']=='None') & (d['Experiment']==experiment)]['Familiarity Rating'].mean())\n",
    "\n",
    "\n",
    "    print('experiment : '+experiment)\n",
    "    \n",
    "    # conduct a paired t-test\n",
    "    print(scipy.stats.ttest_rel(Cats, Nones))\n",
    "    \n",
    "    #print(cohen_d(Cats, Nones))\n",
    "    print()"
   ]
  },
  {
   "cell_type": "markdown",
   "metadata": {},
   "source": [
    "### Attended Side versus Unattended"
   ]
  },
  {
   "cell_type": "code",
   "execution_count": 38,
   "metadata": {},
   "outputs": [
    {
     "name": "stdout",
     "output_type": "stream",
     "text": [
      "Ttest_relResult(statistic=2.276573635603415, pvalue=0.030374011887027853)\n",
      "\n",
      "Ttest_relResult(statistic=2.503401047655052, pvalue=0.02021639407876246)\n",
      "\n"
     ]
    }
   ],
   "source": [
    "# group data by UniqueID, Experiment, and Attention Level\n",
    "d = behav_restricted.groupby(['UniqueID', 'Experiment', 'Attention Level'], as_index=False).mean()\n",
    "\n",
    "# for each experiment\n",
    "for experiment in ['/sustain', '/variabl']:\n",
    "    \n",
    "    # make empty lists Sides and Nones\n",
    "    Sides  = []\n",
    "    Nones = []\n",
    "    \n",
    "    # for each participant in the select experiment\n",
    "    for s in d[(d['Experiment']==experiment) & (d['Group']==2.0)]['UniqueID'].unique():\n",
    "\n",
    "        # obtain the average familiarity rating this participant gave to images attended at the Side level\n",
    "        # append to the list Sides\n",
    "        Sides.append(d[(d['UniqueID']==s) & (d['Attention Level'].isin(['Side'])) & (d['Experiment']==experiment)]['Familiarity Rating'].mean())\n",
    "        \n",
    "        # obtain the average familiarity rating this participant gave to images attended at the None level\n",
    "        # append to the list Nones\n",
    "        Nones.append(d[(d['UniqueID']==s) & (d['Attention Level']=='None') & (d['Experiment']==experiment)]['Familiarity Rating'].mean())\n",
    "\n",
    "    # conduct a paired t-test\n",
    "    print(scipy.stats.ttest_rel(Sides, Nones))\n",
    "    print()"
   ]
  },
  {
   "cell_type": "code",
   "execution_count": 26,
   "metadata": {},
   "outputs": [],
   "source": [
    "######################################################"
   ]
  },
  {
   "cell_type": "code",
   "execution_count": null,
   "metadata": {},
   "outputs": [],
   "source": []
  },
  {
   "cell_type": "code",
   "execution_count": null,
   "metadata": {},
   "outputs": [],
   "source": [
    "gaze.groupby(['Subject','Run','Trial']).count()"
   ]
  },
  {
   "cell_type": "code",
   "execution_count": null,
   "metadata": {},
   "outputs": [],
   "source": []
  },
  {
   "cell_type": "code",
   "execution_count": null,
   "metadata": {},
   "outputs": [],
   "source": []
  },
  {
   "cell_type": "code",
   "execution_count": null,
   "metadata": {},
   "outputs": [],
   "source": []
  },
  {
   "cell_type": "code",
   "execution_count": null,
   "metadata": {},
   "outputs": [],
   "source": []
  },
  {
   "cell_type": "code",
   "execution_count": null,
   "metadata": {},
   "outputs": [],
   "source": []
  },
  {
   "cell_type": "code",
   "execution_count": null,
   "metadata": {},
   "outputs": [],
   "source": []
  }
 ],
 "metadata": {
  "kernelspec": {
   "display_name": "Python 3",
   "language": "python",
   "name": "python3"
  },
  "language_info": {
   "codemirror_mode": {
    "name": "ipython",
    "version": 3
   },
   "file_extension": ".py",
   "mimetype": "text/x-python",
   "name": "python",
   "nbconvert_exporter": "python",
   "pygments_lexer": "ipython3",
   "version": "3.7.4"
  }
 },
 "nbformat": 4,
 "nbformat_minor": 2
}
