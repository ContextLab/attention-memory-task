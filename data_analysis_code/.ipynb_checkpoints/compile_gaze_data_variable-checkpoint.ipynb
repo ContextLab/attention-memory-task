{
 "cells": [
  {
   "cell_type": "markdown",
   "metadata": {},
   "source": [
    "# Imports"
   ]
  },
  {
   "cell_type": "code",
   "execution_count": 1,
   "metadata": {},
   "outputs": [
    {
     "ename": "ModuleNotFoundError",
     "evalue": "No module named 'statannot'",
     "output_type": "error",
     "traceback": [
      "\u001b[0;31m---------------------------------------------------------------------------\u001b[0m",
      "\u001b[0;31mModuleNotFoundError\u001b[0m                       Traceback (most recent call last)",
      "\u001b[0;32m<ipython-input-1-168f73eec4f4>\u001b[0m in \u001b[0;36m<module>\u001b[0;34m\u001b[0m\n\u001b[1;32m      1\u001b[0m \u001b[0;32mimport\u001b[0m \u001b[0mpandas\u001b[0m \u001b[0;32mas\u001b[0m \u001b[0mpd\u001b[0m\u001b[0;34m;\u001b[0m \u001b[0;32mimport\u001b[0m \u001b[0mseaborn\u001b[0m \u001b[0;32mas\u001b[0m \u001b[0msb\u001b[0m\u001b[0;34m;\u001b[0m \u001b[0;32mimport\u001b[0m \u001b[0mstatsmodels\u001b[0m\u001b[0;34m.\u001b[0m\u001b[0mformula\u001b[0m\u001b[0;34m.\u001b[0m\u001b[0mapi\u001b[0m \u001b[0;32mas\u001b[0m \u001b[0msmf\u001b[0m\u001b[0;34m;\u001b[0m \u001b[0;32mimport\u001b[0m \u001b[0mpingouin\u001b[0m\u001b[0;34m;\u001b[0m\u001b[0;34m\u001b[0m\u001b[0;34m\u001b[0m\u001b[0m\n\u001b[0;32m----> 2\u001b[0;31m \u001b[0;32mfrom\u001b[0m \u001b[0mstatannot\u001b[0m \u001b[0;32mimport\u001b[0m \u001b[0madd_stat_annotation\u001b[0m\u001b[0;34m;\u001b[0m \u001b[0;32mfrom\u001b[0m \u001b[0mitertools\u001b[0m \u001b[0;32mimport\u001b[0m \u001b[0mcombinations\u001b[0m\u001b[0;34m;\u001b[0m \u001b[0;32mimport\u001b[0m \u001b[0mos\u001b[0m\u001b[0;34m\u001b[0m\u001b[0;34m\u001b[0m\u001b[0m\n\u001b[0m\u001b[1;32m      3\u001b[0m \u001b[0;32mfrom\u001b[0m \u001b[0manalysis_helpers\u001b[0m \u001b[0;32mimport\u001b[0m \u001b[0;34m*\u001b[0m\u001b[0;34m;\u001b[0m \u001b[0;32mimport\u001b[0m \u001b[0mscipy\u001b[0m\u001b[0;34m;\u001b[0m \u001b[0;32mfrom\u001b[0m \u001b[0mscipy\u001b[0m \u001b[0;32mimport\u001b[0m \u001b[0mstats\u001b[0m\u001b[0;34m;\u001b[0m \u001b[0;32mimport\u001b[0m \u001b[0mos\u001b[0m\u001b[0;34m\u001b[0m\u001b[0;34m\u001b[0m\u001b[0m\n\u001b[1;32m      4\u001b[0m \u001b[0;32mimport\u001b[0m \u001b[0mwarnings\u001b[0m\u001b[0;34m\u001b[0m\u001b[0;34m\u001b[0m\u001b[0m\n\u001b[1;32m      5\u001b[0m \u001b[0mwarnings\u001b[0m\u001b[0;34m.\u001b[0m\u001b[0mfilterwarnings\u001b[0m\u001b[0;34m(\u001b[0m\u001b[0;34m'ignore'\u001b[0m\u001b[0;34m)\u001b[0m\u001b[0;34m\u001b[0m\u001b[0;34m\u001b[0m\u001b[0m\n",
      "\u001b[0;31mModuleNotFoundError\u001b[0m: No module named 'statannot'"
     ]
    }
   ],
   "source": [
    "import pandas as pd; import seaborn as sb; import statsmodels.formula.api as smf; import pingouin;\n",
    "from statannot import add_stat_annotation; from itertools import combinations; import os\n",
    "from analysis_helpers import *; import scipy; from scipy import stats; import os\n",
    "import warnings\n",
    "warnings.filterwarnings('ignore')"
   ]
  },
  {
   "cell_type": "markdown",
   "metadata": {},
   "source": [
    "## Compile from raw data\n",
    "Organize gaze data from each participant into one dataframe for the whole experiment."
   ]
  },
  {
   "cell_type": "code",
   "execution_count": 4,
   "metadata": {},
   "outputs": [],
   "source": [
    "data_str = '../variable_attention_experiment/data'\n",
    "exp2_gaze = []\n",
    "\n",
    "# load each participant's data as a dataframe, and append to a list\n",
    "for subject in os.listdir(data_str):\n",
    "    exp2_gaze.append(eye_intial(data_str + '/' + subject +'/eye_data/'))"
   ]
  },
  {
   "cell_type": "code",
   "execution_count": 4,
   "metadata": {},
   "outputs": [],
   "source": [
    "# add subject number to each dataframe based on data files\n",
    "exp2_numbered = []\n",
    "for sub_num,subject in zip(os.listdir(data_str), exp2_gaze):\n",
    "    subject['Subject'] = str(sub_num[0:2])\n",
    "    exp2_numbered.append(subject)\n",
    "exp2_sub_gaze = pd.concat(exp2_numbered)"
   ]
  },
  {
   "cell_type": "code",
   "execution_count": 9,
   "metadata": {
    "scrolled": true
   },
   "outputs": [],
   "source": [
    "# select only the gazepoints from times when presentation images were on screen\n",
    "exp2_pres_trials = []\n",
    "for sub_file in os.listdir(data_str):\n",
    "    exp2_pres_trials.append(pres_gaze_image(data_str + '/' + sub_file +'/', \n",
    "                                            exp2_sub_gaze[exp2_sub_gaze['Subject']==sub_file[0:2]], \n",
    "                                            sub_file[0:2]))"
   ]
  },
  {
   "cell_type": "code",
   "execution_count": 22,
   "metadata": {},
   "outputs": [],
   "source": [
    "# reorganize trial-wise presentation-image-only gaze data\n",
    "full_pres2 =[]\n",
    "for idx,sub in enumerate(exp2_pres_trials):\n",
    "    for run in exp2_pres_trials[idx].keys():\n",
    "        for trial in exp2_pres_trials[idx][run]:\n",
    "            full_pres2.append(trial)"
   ]
  },
  {
   "cell_type": "code",
   "execution_count": 23,
   "metadata": {},
   "outputs": [],
   "source": [
    "# concatenate into a dataframe\n",
    "whole_exp2_gaze = pd.concat(full_pres2)"
   ]
  },
  {
   "cell_type": "code",
   "execution_count": 24,
   "metadata": {},
   "outputs": [],
   "source": [
    "# convert to centimeters\n",
    "whole_exp2_gaze['av_x_coord'] = (59.8/2048)*(whole_exp2_gaze[['xRaw_righteye', 'xRaw_lefteye']].mean(axis=1))\n",
    "whole_exp2_gaze['av_y_coord'] = (33.6/1152)*(whole_exp2_gaze[['yRaw_righteye', 'yRaw_lefteye']].mean(axis=1))"
   ]
  },
  {
   "cell_type": "code",
   "execution_count": 14,
   "metadata": {},
   "outputs": [],
   "source": [
    "# eliminate gazepoints with values outside the area of the screen\n",
    "# (eyetribe sometimes gives zeros, extremely high, or extremely low/negative values when issue collecting data)\n",
    "whole_exp2_gaze = whole_exp2_gaze[(whole_exp2_gaze['av_x_coord']<59.8) \n",
    "                                  & (whole_exp2_gaze['av_y_coord']<33.6)\n",
    "                                  & (whole_exp2_gaze['av_x_coord']>0)\n",
    "                                  & (whole_exp2_gaze['av_y_coord']>0)]"
   ]
  },
  {
   "cell_type": "code",
   "execution_count": 15,
   "metadata": {},
   "outputs": [],
   "source": [
    "whole_exp2_gaze.to_csv('../parsed_data/gaze_data_variable.csv')"
   ]
  },
  {
   "cell_type": "code",
   "execution_count": 2,
   "metadata": {},
   "outputs": [],
   "source": [
    "import pandas as pd"
   ]
  },
  {
   "cell_type": "code",
   "execution_count": null,
   "metadata": {},
   "outputs": [],
   "source": [
    "pd.from_csv"
   ]
  }
 ],
 "metadata": {
  "kernelspec": {
   "display_name": "Python 3",
   "language": "python",
   "name": "python3"
  },
  "language_info": {
   "codemirror_mode": {
    "name": "ipython",
    "version": 3
   },
   "file_extension": ".py",
   "mimetype": "text/x-python",
   "name": "python",
   "nbconvert_exporter": "python",
   "pygments_lexer": "ipython3",
   "version": "3.7.4"
  }
 },
 "nbformat": 4,
 "nbformat_minor": 2
}
