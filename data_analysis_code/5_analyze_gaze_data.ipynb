{
 "cells": [
  {
   "cell_type": "markdown",
   "metadata": {},
   "source": [
    "# Imports"
   ]
  },
  {
   "cell_type": "code",
   "execution_count": 152,
   "metadata": {},
   "outputs": [],
   "source": [
    "import pandas as pd; import seaborn as sb; import statsmodels.formula.api as smf; import pingouin;\n",
    "from itertools import combinations; import os; from analysis_helpers import *; \n",
    "import scipy; from scipy import stats; import os; import math; import warnings\n",
    "warnings.filterwarnings('ignore')"
   ]
  },
  {
   "cell_type": "markdown",
   "metadata": {},
   "source": [
    "# Load and organize data"
   ]
  },
  {
   "cell_type": "code",
   "execution_count": 153,
   "metadata": {},
   "outputs": [],
   "source": [
    "gaze  = pd.read_csv('../parsed_data/full_pres_gaze.csv')\n",
    "behav = pd.read_csv('../parsed_data/full_behavioral.csv')"
   ]
  },
  {
   "cell_type": "code",
   "execution_count": 154,
   "metadata": {},
   "outputs": [],
   "source": [
    "# put data into centimeters\n",
    "gaze['av_x_coord'] = gaze['av_x_coord']*(59.8/2048)\n",
    "gaze['av_y_coord'] = gaze['av_y_coord']*(33.6/1152)\n",
    "\n",
    "# eliminate off-screen datapoints\n",
    "gaze = gaze[(gaze['av_x_coord']   < 59.8) \n",
    "                                  & (gaze['av_y_coord'] < 33.6)\n",
    "                                  & (gaze['av_x_coord'] > 0)\n",
    "                                  & (gaze['av_y_coord'] > 0)]"
   ]
  },
  {
   "cell_type": "code",
   "execution_count": 155,
   "metadata": {},
   "outputs": [],
   "source": [
    "behav['Uncued Face']  = behav['Uncued Composite'].str.split('_', n=1, expand=True)[0]+'.jpg'\n",
    "behav['Uncued Place'] = behav['Uncued Composite'].str.split('_', n=1, expand=True)[1]\n",
    "behav['Cued Face']    = behav['Cued Composite'].str.split('_', n=1, expand=True)[0]+'.jpg'\n",
    "behav['Cued Place']   = behav['Cued Composite'].str.split('_', n=1, expand=True)[1]"
   ]
  },
  {
   "cell_type": "code",
   "execution_count": 156,
   "metadata": {},
   "outputs": [],
   "source": [
    "cued_face_81_4    = list(behav[(behav['Attention Button']!=1.0)&(behav['Attention Button']!=3.0)&(behav['Trial Type']=='Presentation')]['Cued Face'])#['Attention Button']\n",
    "cued_place_81_4   = list(behav[(behav['Attention Button']!=1.0)&(behav['Attention Button']!=3.0)&(behav['Trial Type']=='Presentation')]['Cued Place'])#['Attention Button']\n",
    "uncued_face_81_4  = list(behav[(behav['Attention Button']!=1.0)&(behav['Attention Button']!=3.0)&(behav['Trial Type']=='Presentation')]['Uncued Face'])#['Attention Button']\n",
    "uncued_place_81_4 = list(behav[(behav['Attention Button']!=1.0)&(behav['Attention Button']!=3.0)&(behav['Trial Type']=='Presentation')]['Uncued Place'])"
   ]
  },
  {
   "cell_type": "code",
   "execution_count": 158,
   "metadata": {},
   "outputs": [],
   "source": [
    "missed_images = cued_face_81_4 + cued_place_81_4 + uncued_face_81_4 + uncued_place_81_4\n",
    "run_4_mem     = behav[(behav['UniqueID']==81) & (behav['Trial Type']=='Memory')&(behav['Run']==4)]\n",
    "\n",
    "drop_index    = run_4_mem.loc[run_4_mem['Memory Image'].isin(missed_images)].index\n",
    "\n",
    "behav         = behav.drop(drop_index)"
   ]
  },
  {
   "cell_type": "markdown",
   "metadata": {},
   "source": [
    "### Obtain number of trials with viable gaze data"
   ]
  },
  {
   "cell_type": "code",
   "execution_count": 159,
   "metadata": {},
   "outputs": [
    {
     "name": "stdout",
     "output_type": "stream",
     "text": [
      "/sustain\n",
      "0.05604166666666666\n",
      "269\n",
      "4800\n",
      "\n",
      "/variabl\n",
      "0.06320754716981132\n",
      "268\n",
      "4240\n",
      "\n"
     ]
    }
   ],
   "source": [
    "for e in gaze['Experiment'].unique():\n",
    "    \n",
    "    gaze_a = gaze[gaze['Experiment']==e]\n",
    "    \n",
    "    tot_trials = []\n",
    "\n",
    "    count_data = gaze_a.groupby(['UniqueID','Run','Trial'], as_index=False).count()\n",
    "\n",
    "    for s in gaze_a['UniqueID'].unique():\n",
    "        for r in [0,1,2,3,4,5,6,7]:\n",
    "            trials = 0\n",
    "            for t in [0,1,2,3,4,5,6,7,8,9]:\n",
    "                if gaze_a[(gaze_a['UniqueID']==s)&(gaze_a['Run']==r)&(gaze_a['Trial']==t)].shape[0]<1:\n",
    "                    trials+=1\n",
    "            if trials > 0:\n",
    "                tot_trials.append(trials)\n",
    "    print(e)\n",
    "    print((sum(tot_trials))/(len(gaze_a['UniqueID'].unique())*8*10))\n",
    "    print(sum(tot_trials))\n",
    "    print(len(gaze_a['UniqueID'].unique())*8*10)\n",
    "    print()\n",
    "\n",
    "# count_data[count_data['avg']<60]"
   ]
  },
  {
   "cell_type": "markdown",
   "metadata": {},
   "source": [
    "# Tendency to gaze towards cued side"
   ]
  },
  {
   "cell_type": "code",
   "execution_count": 160,
   "metadata": {},
   "outputs": [],
   "source": [
    "# group gaze data by subject, run, and trial\n",
    "gaze_grp = gaze.groupby(['UniqueID','Run','Trial'], as_index=False).mean()\n",
    "\n",
    "# add av x coord to each presentation trial in behavioral df\n",
    "\n",
    "for s in gaze_grp['UniqueID'].unique():  \n",
    "# for each unique subject\n",
    "    \n",
    "    for r in gaze_grp[gaze_grp['UniqueID']==s]['Run'].unique():\n",
    "    # for each run of that subject \n",
    "    \n",
    "        for t in gaze_grp[(gaze_grp['UniqueID']==s) & (gaze_grp['Run']==r)]['Trial'].unique():\n",
    "        # for each memory trial in that run\n",
    "        \n",
    "            if gaze_grp[(gaze_grp['UniqueID']==s) & (gaze_grp['Run']==r) & (gaze_grp['Trial']==t)].shape[0]>0:\n",
    "            # if there are more than zero gazepoints recorded for that presentation trial\n",
    "                \n",
    "                # find the subject, run, and trial in the behavioral dataframe\n",
    "                # then add the average gaze from that presentation trial in gaze df to the behavioral df\n",
    "                \n",
    "                # NOTE: in behavioral df, you have to specify 'Trial Type'=='Presentation' to assign gaze data\n",
    "                # in gaaze df, there is no 'Trial Type' designation, because it is all from Presentation trials\n",
    "                behav.loc[(behav['UniqueID']==s) \n",
    "                             & (behav['Run']==r) \n",
    "                             & (behav['Trial']==t)\n",
    "                             & (behav['Trial Type']=='Presentation'), 'av_x_coord'] =  gaze_grp[(gaze_grp['UniqueID']==s) \n",
    "                                                                                        & (gaze_grp['Run']==r)                                                                                       & (gaze_grp['Trial']==t)]['av_x_coord'].item()\n",
    "                \n",
    "# make behav df gaze_from_center column (av_x_coord - screen_center) \n",
    "behav['gaze_from_center'] = behav['av_x_coord'] - 59.8/2\n",
    "\n",
    "# make the behav df gaze_towards_cued_side column\n",
    "# switch the signs of values for left-facing arrows\n",
    "behav['gaze_towards_cued_side'] = behav['gaze_from_center']\n",
    "behav.loc[(behav['Cued Side']=='<'),'gaze_towards_cued_side'] = -behav.loc[(behav['Cued Side']=='<')]['gaze_towards_cued_side']\n",
    "\n",
    "# behav now has av x coord, gaze from center, and gaze towards cued side for each presentation trial\n",
    "# these are mean values over all gazepoints in that prresentation trial\n"
   ]
  },
  {
   "cell_type": "code",
   "execution_count": 161,
   "metadata": {},
   "outputs": [
    {
     "name": "stdout",
     "output_type": "stream",
     "text": [
      "/sustain\n",
      "Ttest_1sampResult(statistic=3.6110305466537524, pvalue=0.0006306585053386894)\n",
      "\n",
      "/variabl\n",
      "Ttest_1sampResult(statistic=2.8615670541132006, pvalue=0.006059449736698607)\n",
      "\n"
     ]
    }
   ],
   "source": [
    "import scipy\n",
    "from scipy import stats\n",
    "\n",
    "# for each experiment\n",
    "for exp in ['/sustain','/variabl']:\n",
    "    \n",
    "    # conduct a a ttest - compare gaze towards cued side with hypothetical zero drift\n",
    "\n",
    "    # select data from given experiment, Presentation trials only\n",
    "    behav_1 = behav[(behav['Experiment']==exp) \n",
    "                   &(behav['Trial Type']=='Presentation')]\n",
    "\n",
    "    # group the selected data by participant \n",
    "    behav_grp = behav_1.groupby(['UniqueID'], as_index=False).mean()\n",
    "\n",
    "    print(exp)\n",
    "    # conduct t-test relative to zero drift\n",
    "    print(scipy.stats.ttest_1samp(behav_grp['gaze_towards_cued_side'],0))\n",
    "\n",
    "    # calculate cohen's d?\n",
    "    #print(np.mean(behav_grp['gaze_towards_cued_side'])/np.std(behav_grp['gaze_towards_cued_side']))\n",
    "    print()"
   ]
  },
  {
   "cell_type": "markdown",
   "metadata": {},
   "source": [
    "# ~ Data Restricted to Gaze Between Images"
   ]
  },
  {
   "cell_type": "code",
   "execution_count": 162,
   "metadata": {},
   "outputs": [],
   "source": [
    "# make gaze df gaze_from_center column (av_x_coord - screen_center) \n",
    "gaze['gaze_from_center'] = gaze['av_x_coord'] - 59.8/2\n",
    "\n",
    "# select gazepoints where abs value of deviation is beyond the inner edge of composite images\n",
    "gaze_elims    = gaze[abs(gaze['gaze_from_center'])>=4.5] \n",
    "\n",
    "# group the subselected data by paticipant, run, and trial \n",
    "# this will be a list of subject, sun, and trials to exclude\n",
    "grouped_elims = gaze_elims.groupby(['UniqueID','Run','Trial'], as_index=False).mean()"
   ]
  },
  {
   "cell_type": "code",
   "execution_count": 163,
   "metadata": {},
   "outputs": [],
   "source": [
    "# use the participant, run, and trial info in grouped_elims to  \n",
    "# exclude trials from behav where gaze deviates too far left or right\n",
    "\n",
    "# make empty list to store indices of trials we will eliminate\n",
    "indices = []\n",
    "\n",
    "# for every subject in grouped_elims\n",
    "for s in grouped_elims['UniqueID'].unique():\n",
    "    \n",
    "    # for each run of that subejct in grouped_elims\n",
    "    for r in grouped_elims[grouped_elims['UniqueID']==s]['Run'].unique():\n",
    "        \n",
    "        # for each presentation trial in that run where subs deviate more than specified distance\n",
    "        for t in grouped_elims[(grouped_elims['UniqueID']==s) & (grouped_elims['Run']==r)]['Trial'].unique():\n",
    "            \n",
    "            # get the index of that PRESENTATION trial in the behavioral dataframe\n",
    "            # append to the indices list\n",
    "            indices.append(behav[(behav['UniqueID']==s) & (behav['Run']==r) & (behav['Trial']==t)\n",
    "                                   & (behav['Trial Type']=='Presentation')].index.item())\n",
    "            "
   ]
  },
  {
   "cell_type": "code",
   "execution_count": 164,
   "metadata": {},
   "outputs": [],
   "source": [
    "# make behav df without the trials in the exclusion index list\n",
    "behav_restricted = behav.loc[~behav.index.isin(indices)]"
   ]
  },
  {
   "cell_type": "markdown",
   "metadata": {},
   "source": [
    "^ now we have dataframe with the presentation trials ONLY for good-gaze trials, and ALL memory trials"
   ]
  },
  {
   "cell_type": "code",
   "execution_count": 165,
   "metadata": {},
   "outputs": [],
   "source": [
    "# make empty list\n",
    "rest_subs = []\n",
    "\n",
    "# now we can loop over each subject\n",
    "for u in behav_restricted['UniqueID'].unique():\n",
    "    \n",
    "    # select the data for that subject\n",
    "    f = behav_restricted[behav_restricted['UniqueID']==u]\n",
    "    \n",
    "    # select all of the (single) images that subject saw during \"good gaze\" trials, only\n",
    "    desired_images = list(f[f['Trial Type']=='Presentation']['Cued Face'])+list(f[f['Trial Type']=='Presentation']['Cued Place'])+list(f[f['Trial Type']=='Presentation']['Uncued Face'])+list(f[f['Trial Type']=='Presentation']['Uncued Place'])\n",
    "    \n",
    "    # select the memory trials ONLY for images previously presented in \"good gaze trials\"\n",
    "    sub = f[(f['Memory Image'].isin(desired_images)) | (f['Trial Type']=='Presentation')]\n",
    "    \n",
    "    # append this subject's \"good gaze\" df to the list\n",
    "    rest_subs.append(sub)\n",
    "    \n",
    "# concat the list into one big df of good-gaze trials for all participants\n",
    "behav_restricted_2 = pd.concat(rest_subs)  "
   ]
  },
  {
   "cell_type": "markdown",
   "metadata": {},
   "source": [
    "^ now we have a df with ONLY good-gaze presentation trials and ONLY good gaze memory trials"
   ]
  },
  {
   "cell_type": "markdown",
   "metadata": {},
   "source": [
    "# Plot gaze data\n",
    "###  Start by plotting the full gaze data"
   ]
  },
  {
   "cell_type": "code",
   "execution_count": 166,
   "metadata": {
    "scrolled": false
   },
   "outputs": [
    {
     "name": "stdout",
     "output_type": "stream",
     "text": [
      "0\n",
      "1\n",
      "2\n",
      "3\n",
      "4\n",
      "5\n",
      "6\n",
      "7\n",
      "8\n",
      "9\n",
      "10\n",
      "11\n",
      "12\n",
      "13\n",
      "14\n",
      "15\n",
      "16\n",
      "17\n",
      "18\n",
      "19\n",
      "20\n",
      "21\n",
      "22\n",
      "23\n",
      "24\n",
      "25\n",
      "26\n",
      "27\n",
      "28\n",
      "29\n",
      "30\n",
      "31\n",
      "32\n",
      "33\n",
      "34\n",
      "35\n",
      "36\n",
      "37\n",
      "38\n",
      "39\n",
      "40\n",
      "41\n",
      "42\n",
      "43\n",
      "44\n",
      "45\n",
      "46\n",
      "47\n",
      "48\n",
      "49\n",
      "50\n",
      "51\n",
      "52\n",
      "53\n",
      "54\n",
      "55\n",
      "56\n",
      "57\n",
      "58\n",
      "59\n",
      "60\n",
      "61\n",
      "62\n",
      "63\n",
      "64\n",
      "65\n",
      "66\n",
      "67\n",
      "68\n",
      "69\n",
      "70\n",
      "71\n",
      "72\n",
      "73\n",
      "74\n",
      "75\n",
      "76\n",
      "77\n",
      "78\n",
      "79\n",
      "80\n",
      "81\n",
      "82\n",
      "83\n",
      "84\n",
      "85\n",
      "86\n",
      "87\n",
      "88\n",
      "89\n",
      "90\n",
      "91\n",
      "92\n",
      "93\n",
      "94\n",
      "95\n",
      "96\n",
      "97\n",
      "98\n",
      "99\n",
      "100\n",
      "101\n",
      "102\n",
      "103\n",
      "104\n",
      "105\n",
      "106\n",
      "107\n",
      "108\n",
      "109\n",
      "110\n",
      "111\n",
      "112\n"
     ]
    }
   ],
   "source": [
    "# FIRST ADD GAZE COORDS RECORDED DURING PRES TRIALS TO THE CORRESPONDING MEMORY TRIALS\n",
    "\n",
    "# make empty gaze dictionary \n",
    "gaze_added_mem_dict = {}\n",
    "\n",
    "# for each experiment\n",
    "for exp in ['/sustain','/variabl']:\n",
    "    \n",
    "    # make empty gaze list\n",
    "    gaze_added_mem = []\n",
    "    \n",
    "    # select the data for that experiment\n",
    "    data = behav[behav['Experiment']==exp]\n",
    "\n",
    "    # for each unique participant\n",
    "    for s in data['UniqueID'].unique():\n",
    "        print(s)\n",
    "        \n",
    "        # for each run in that participant\n",
    "        for r in data['Run'].unique():\n",
    "            \n",
    "            # add gaze data from each presentation trial to the corresponding memory trial\n",
    "            gaze_added_mem.append(add_gaze(data[(data['UniqueID']==s) & (data['Run']==r)]))\n",
    "\n",
    "    # concatenate into a Dataframe\n",
    "    gaze_mem = pd.concat(gaze_added_mem)\n",
    "    \n",
    "    # add zero average x coord for novel images\n",
    "    gaze_mem.loc[gaze_mem['Attention Level']=='Novel','av_x_coord']=0\n",
    "\n",
    "    # set gaze_towards as distance from the center of the screen\n",
    "    gaze_mem['gaze_towards'] = gaze_mem['av_x_coord'] - (59.8/2)\n",
    "\n",
    "    # reverse the sign of gaze_towards for all images that were presented on the left of the screen ####\n",
    "    # Attention category and cue indicate which side an image was on \n",
    "        # e.g. if the trial is cue-left, a person can only have Fully attended an image presented on the left\n",
    "   \n",
    "    # reverse sign of gaze_towards for cue_left images that were:\n",
    "    # (Cue: LEFT)  AND  ( Attn Level : Full OR Attn Level: Side)\n",
    "    gaze_mem.loc[(gaze_mem['Cued Side']=='<') \n",
    "                 & (gaze_mem['Attention Level'].isin(['Full', 'Side'])), 'gaze_towards'] = -gaze_mem[(gaze_mem['Cued Side']=='<') \n",
    "                                                                                                          & (gaze_mem['Attention Level'].isin(['Full', 'Side']))]['gaze_towards']\n",
    "    # (Cue: RIGHT)  AND  ( Attn Level : None OR Attn Level: Category)\n",
    "    gaze_mem.loc[(gaze_mem['Cued Side']=='>') \n",
    "                 & (gaze_mem['Attention Level'].isin(['None', 'Category'])), 'gaze_towards'] = -gaze_mem[(gaze_mem['Cued Side']=='>') & (gaze_mem['Attention Level'].isin(['None', 'Category']))]['gaze_towards']\n",
    "\n",
    "    # group data by by participant, attention level, familiarity rating, experiment, trial type\n",
    "    gaze_mem_grp = gaze_mem.groupby(['UniqueID','Attention Level', 'Familiarity Rating','Experiment','Trial Type'], as_index=False).mean()\n",
    "\n",
    "    # add the grouped data to a dictionary key named for that experiment\n",
    "    gaze_added_mem_dict[exp] = gaze_mem"
   ]
  },
  {
   "cell_type": "code",
   "execution_count": 167,
   "metadata": {},
   "outputs": [
    {
     "data": {
      "image/png": "[encoded data removed]",
      "text/plain": [
       "<Figure size 432x288 with 1 Axes>"
      ]
     },
     "metadata": {},
     "output_type": "display_data"
    },
    {
     "data": {
      "image/png": "[encoded data removed]",
      "text/plain": [
       "<Figure size 432x288 with 1 Axes>"
      ]
     },
     "metadata": {},
     "output_type": "display_data"
    }
   ],
   "source": [
    "# THEN PLOT\n",
    "\n",
    "palette = sb.color_palette(\"RdBu\", 20)\n",
    "%matplotlib inline\n",
    "gaze_mem_grp = 0\n",
    "\n",
    "# for each experiment\n",
    "for exp in ['/sustain','/variabl']:\n",
    "\n",
    "    \n",
    "    # group the data for that experiment by UniqueID, Attention Level, Familiarity Rating, Trial Type\n",
    "    gaze_mem_grp = gaze_added_mem_dict[exp].groupby(['UniqueID','Attention Level', 'Familiarity Rating','Trial Type'], as_index=False).mean()\n",
    "\n",
    "    # make scaled_gaze_towards by...\n",
    "\n",
    "    # dividing gaze_towards by half of the screen width   \n",
    "    # yielding the proportional distance gazepoint is towards nearest Right/Left edge of the screen\n",
    "    # (e.g. did they look \"all the way\" over to the Right/Left? ...\"half of the way over\"?)\n",
    "    gaze_mem_grp['scaled_gaze_towards'] = gaze_mem_grp['gaze_towards']/(59.8/2)\n",
    "\n",
    "    # make plots in the 'white' style\n",
    "    sb.set_style('white')\n",
    "\n",
    "    # plot scaled_gaze_towards (y axis) in terms of Attention Level (x-axis) and \n",
    "    # Familiarity Rating (grouping)\n",
    "    f = sb.violinplot(x='Familiarity Rating', y='scaled_gaze_towards', \n",
    "                  data=gaze_mem_grp[(gaze_mem_grp['Attention Level']!='Novel')&\n",
    "                                   (gaze_mem_grp['Trial Type']=='Memory')], hue='Attention Level',\n",
    "                     palette = {\"Full\": palette[0], \"Category\": palette[3], \n",
    "                            \"Side\": palette[19], \"None\": palette[16]})\n",
    "\n",
    "    plt.hlines(.15, xmin=-1, xmax=5) ; plt.hlines(.38, xmin=-1, xmax=5)\n",
    "    plt.hlines(-.15, xmin=-1, xmax=5); plt.hlines(-.38, xmin=-1, xmax=5)\n",
    "\n",
    "    # plot settings\n",
    "\n",
    "    plt.grid(False)\n",
    "    plt.rc('xtick', labelsize=20)\n",
    "    plt.rc('ytick', labelsize=20)\n",
    "    plt.xlabel('Familiarity Rating',    fontsize = 20)\n",
    "    plt.ylabel('Horizontal Gaze Drift', fontsize = 20)\n",
    "    f.set(ylim=(-1, 1))\n",
    "    f.set(xlim=(-.5, 4))\n",
    "    plt.tight_layout()\n",
    "    plt.legend('',frameon=False)\n",
    "    plt.show()\n",
    "\n",
    "    "
   ]
  },
  {
   "cell_type": "markdown",
   "metadata": {},
   "source": [
    "## Now try with restricted gaze data"
   ]
  },
  {
   "cell_type": "markdown",
   "metadata": {},
   "source": [
    "### first, make sure data properly restricted"
   ]
  },
  {
   "cell_type": "code",
   "execution_count": 186,
   "metadata": {},
   "outputs": [
    {
     "data": {
      "text/plain": [
       "(0, 59.8)"
      ]
     },
     "execution_count": 186,
     "metadata": {},
     "output_type": "execute_result"
    },
    {
     "data": {
      "image/png": "[encoded data removed]",
      "text/plain": [
       "<Figure size 432x288 with 1 Axes>"
      ]
     },
     "metadata": {},
     "output_type": "display_data"
    }
   ],
   "source": [
    "# RESTRICTED \n",
    "sb.boxplot(data = behav_restricted_2[behav_restricted_2['Trial Type']=='Presentation'], x = 'av_x_coord')\n",
    "plt.xlim(0,59.8)"
   ]
  },
  {
   "cell_type": "code",
   "execution_count": 187,
   "metadata": {
    "scrolled": true
   },
   "outputs": [
    {
     "data": {
      "text/plain": [
       "(0, 59.8)"
      ]
     },
     "execution_count": 187,
     "metadata": {},
     "output_type": "execute_result"
    },
    {
     "data": {
      "image/png": "[encoded data removed]",
      "text/plain": [
       "<Figure size 432x288 with 1 Axes>"
      ]
     },
     "metadata": {},
     "output_type": "display_data"
    }
   ],
   "source": [
    "# NON-RESTRICTED\n",
    "sb.boxplot(data = behav[behav['Trial Type']=='Presentation'], x = 'av_x_coord')\n",
    "plt.xlim(0,59.8)"
   ]
  },
  {
   "cell_type": "markdown",
   "metadata": {},
   "source": [
    "### Now, repeat plotting steps with restricted gaze data"
   ]
  },
  {
   "cell_type": "code",
   "execution_count": 170,
   "metadata": {
    "scrolled": false
   },
   "outputs": [
    {
     "name": "stdout",
     "output_type": "stream",
     "text": [
      "0\n",
      "2\n",
      "3\n",
      "5\n",
      "7\n",
      "8\n",
      "9\n",
      "10\n",
      "11\n",
      "12\n",
      "15\n",
      "16\n",
      "17\n",
      "18\n",
      "20\n",
      "21\n",
      "22\n",
      "23\n",
      "25\n",
      "26\n",
      "27\n",
      "28\n",
      "29\n",
      "30\n",
      "32\n",
      "33\n",
      "34\n",
      "35\n",
      "36\n",
      "37\n",
      "38\n",
      "39\n",
      "40\n",
      "41\n",
      "42\n",
      "43\n",
      "44\n",
      "45\n",
      "46\n",
      "47\n",
      "48\n",
      "49\n",
      "50\n",
      "51\n",
      "52\n",
      "53\n",
      "54\n",
      "55\n",
      "56\n",
      "57\n",
      "59\n",
      "60\n",
      "61\n",
      "62\n",
      "63\n",
      "64\n",
      "65\n",
      "66\n",
      "68\n",
      "69\n",
      "70\n",
      "71\n",
      "72\n",
      "74\n",
      "75\n",
      "76\n",
      "77\n",
      "78\n",
      "79\n",
      "80\n",
      "81\n",
      "82\n",
      "83\n",
      "84\n",
      "85\n",
      "86\n",
      "87\n",
      "88\n",
      "89\n",
      "90\n",
      "91\n",
      "92\n",
      "93\n",
      "94\n",
      "95\n",
      "96\n",
      "97\n",
      "98\n",
      "100\n",
      "101\n",
      "102\n",
      "103\n",
      "104\n",
      "105\n",
      "106\n",
      "107\n",
      "109\n",
      "110\n",
      "111\n",
      "112\n"
     ]
    }
   ],
   "source": [
    "# FIRST ADD GAZE COORDS RECORDED DURING PRES TRIALS TO THE CORRESPONDING MEMORY TRIALS\n",
    "\n",
    "# make empty gaze dictionary \n",
    "gaze_added_mem_dict = {}\n",
    "\n",
    "# for each experiment\n",
    "for exp in ['/sustain','/variabl']:\n",
    "    \n",
    "    # make empty gaze list\n",
    "    gaze_added_mem = []\n",
    "    \n",
    "    # select the data for that experiment\n",
    "    data = behav_restricted_2[behav_restricted_2['Experiment']==exp]\n",
    "\n",
    "    # for each unique participant\n",
    "    for s in data['UniqueID'].unique():\n",
    "        print(s)\n",
    "        \n",
    "        # for each run in that participant\n",
    "        for r in data['Run'].unique():\n",
    "            \n",
    "            # add gaze data from each presentation trial to the corresponding memory trial\n",
    "            gaze_added_mem.append(add_gaze(data[(data['UniqueID']==s) & (data['Run']==r)]))\n",
    "\n",
    "    # concatenate into a Dataframe\n",
    "    gaze_mem = pd.concat(gaze_added_mem)\n",
    "    \n",
    "    # add zero average x coord for novel images\n",
    "    gaze_mem.loc[gaze_mem['Attention Level']=='Novel','av_x_coord']=0\n",
    "\n",
    "    # set gaze_towards as distance from the center of the screen\n",
    "    gaze_mem['gaze_towards'] = gaze_mem['av_x_coord'] - (59.8/2)\n",
    "\n",
    "    # reverse the sign of gaze_towards for all images that were presented on the left of the screen ####\n",
    "    # Attention category and cue indicate which side an image was on \n",
    "        # e.g. if the trial is cue-left, a person can only have Fully attended an image presented on the left\n",
    "   \n",
    "    # reverse sign of gaze_towards for cue_left images that were:\n",
    "    # (Cue: LEFT)  AND  ( Attn Level : Full OR Attn Level: Side)\n",
    "    gaze_mem.loc[(gaze_mem['Cued Side']=='<') \n",
    "                 & (gaze_mem['Attention Level'].isin(['Full', 'Side'])), 'gaze_towards'] = -gaze_mem[(gaze_mem['Cued Side']=='<') \n",
    "                                                                                                          & (gaze_mem['Attention Level'].isin(['Full', 'Side']))]['gaze_towards']\n",
    "    # (Cue: RIGHT)  AND  ( Attn Level : None OR Attn Level: Category)\n",
    "    gaze_mem.loc[(gaze_mem['Cued Side']=='>') \n",
    "                 & (gaze_mem['Attention Level'].isin(['None', 'Category'])), 'gaze_towards'] = -gaze_mem[(gaze_mem['Cued Side']=='>') & (gaze_mem['Attention Level'].isin(['None', 'Category']))]['gaze_towards']\n",
    "\n",
    "    # group data by by participant, attention level, familiarity rating, experiment, trial type\n",
    "    gaze_mem_grp = gaze_mem.groupby(['UniqueID','Attention Level', 'Familiarity Rating','Experiment','Trial Type'], as_index=False).mean()\n",
    "\n",
    "    # add the grouped data to a dictionary key named for that experiment\n",
    "    gaze_added_mem_dict[exp] = gaze_mem\n"
   ]
  },
  {
   "cell_type": "code",
   "execution_count": 188,
   "metadata": {},
   "outputs": [
    {
     "data": {
      "image/png": "[encoded data removed]",
      "text/plain": [
       "<Figure size 432x288 with 1 Axes>"
      ]
     },
     "metadata": {},
     "output_type": "display_data"
    },
    {
     "data": {
      "image/png": "[encoded data removed]",
      "text/plain": [
       "<Figure size 432x288 with 1 Axes>"
      ]
     },
     "metadata": {},
     "output_type": "display_data"
    }
   ],
   "source": [
    "# THEN PLOT\n",
    "\n",
    "%matplotlib inline\n",
    "for exp in ['/sustain','/variabl']:\n",
    "    \n",
    "    c = gaze_added_mem_dict[exp]\n",
    "    gaze_mem_grp = c.groupby(['UniqueID','Attention Level', 'Familiarity Rating'], as_index=False).mean()\n",
    "\n",
    "    # scale by screen size\n",
    "    gaze_mem_grp['scaled_gaze_towards'] = gaze_mem_grp['gaze_towards']/(59.8/2)\n",
    "\n",
    "    # plot\n",
    "    sb.set_style('white')\n",
    "\n",
    "    f = sb.violinplot(x='Familiarity Rating', y='scaled_gaze_towards', \n",
    "                  data=gaze_mem_grp[gaze_mem_grp['Attention Level']!='Novel'], hue='Attention Level')\n",
    "\n",
    "    plt.hlines(.15, xmin=-1, xmax=5) ; plt.hlines(.38, xmin=-1, xmax=5)\n",
    "    plt.hlines(-.15, xmin=-1, xmax=5); plt.hlines(-.38, xmin=-1, xmax=5)\n",
    "    \n",
    "    plt.grid(False)\n",
    "    plt.rc('xtick', labelsize=20)\n",
    "    plt.rc('ytick', labelsize=20)\n",
    "    plt.xlabel('Familiarity Rating',    fontsize = 20)\n",
    "    plt.ylabel('Horizontal Gaze Drift', fontsize = 20)\n",
    "    f.set(ylim=(-1, 1))\n",
    "    plt.show()"
   ]
  },
  {
   "cell_type": "code",
   "execution_count": 172,
   "metadata": {},
   "outputs": [],
   "source": [
    "behav_restricted.to_csv('../parsed_data/behav_restricted.csv')"
   ]
  },
  {
   "cell_type": "markdown",
   "metadata": {},
   "source": [
    "# Show similar trends in gaze restricted data as in full dataset"
   ]
  },
  {
   "cell_type": "markdown",
   "metadata": {},
   "source": [
    "### Attended Category versus Unattended - Combined data"
   ]
  },
  {
   "cell_type": "code",
   "execution_count": 229,
   "metadata": {},
   "outputs": [
    {
     "name": "stdout",
     "output_type": "stream",
     "text": [
      "experiment : /sustain\n",
      "Ttest_relResult(statistic=4.726288575532109, pvalue=1.9641621187082418e-05)\n",
      "nan\n",
      "\n",
      "experiment : /variabl\n",
      "Ttest_relResult(statistic=0.6405001479171799, pvalue=0.5248935330432332)\n",
      "0.09150002113102597\n",
      "\n"
     ]
    }
   ],
   "source": [
    "for exp in ['/sustain','/variabl']:\n",
    "    \n",
    "    c = gaze_added_mem_dict[exp]\n",
    "    d = c.groupby(['UniqueID','Attention Level'], as_index=False).mean()\n",
    "\n",
    "        \n",
    "    # make empty lists Cats and Nones\n",
    "    Cats  = []\n",
    "    Nones = []\n",
    "    \n",
    "    # for each participant in the select experiment\n",
    "    for s in d['UniqueID'].unique():\n",
    "        \n",
    "        # obtain the average familiarity rating this participant gave to images attended at the Category level\n",
    "        # append to the list Cats\n",
    "        Cats.append(d[(d['UniqueID']==s) & (d['Attention Level'].isin(['Category']) )]['Familiarity Rating'].mean())\n",
    "        \n",
    "        # obtain the average familiarity rating this participant gave to images attended at the None level\n",
    "        # append to the list Nones\n",
    "        Nones.append(d[(d['UniqueID']==s) & (d['Attention Level']=='None')]['Familiarity Rating'].mean())\n",
    "\n",
    "\n",
    "    print('experiment : '+exp)\n",
    "    \n",
    "    # conduct a paired t-test\n",
    "    print(scipy.stats.ttest_rel(Cats, Nones, nan_policy='omit'))\n",
    "    print(cohen_d(Cats, Nones, repeated=True))\n",
    "\n",
    "    print()"
   ]
  },
  {
   "cell_type": "code",
   "execution_count": 228,
   "metadata": {},
   "outputs": [
    {
     "name": "stdout",
     "output_type": "stream",
     "text": [
      "[39]\n",
      "[39]\n",
      "0.6683981403206525\n"
     ]
    }
   ],
   "source": [
    "# cohen's d for sustained attn exp\n",
    "\n",
    "print(np.argwhere(np.isnan(Cats))[0])\n",
    "print(np.argwhere(np.isnan(Nones))[0])\n",
    "    \n",
    "Cats.pop(39)\n",
    "Nones.pop(39)\n",
    "    \n",
    "print(cohen_d(Cats, Nones, repeated=True))"
   ]
  },
  {
   "cell_type": "markdown",
   "metadata": {},
   "source": [
    "### Attended Side versus Unattended - Combined data"
   ]
  },
  {
   "cell_type": "code",
   "execution_count": 190,
   "metadata": {},
   "outputs": [
    {
     "name": "stdout",
     "output_type": "stream",
     "text": [
      "Ttest_relResult(statistic=0.6656152743295584, pvalue=0.5087783718593423)\n",
      "nan\n",
      "\n",
      "Ttest_relResult(statistic=-0.7911025436122608, pvalue=0.43277589967937746)\n",
      "0.11301464908746571\n",
      "\n"
     ]
    }
   ],
   "source": [
    "for exp in ['/sustain','/variabl']:\n",
    "    \n",
    "    c = gaze_added_mem_dict[exp]\n",
    "    d = c[c['Trial Type']=='Memory'].groupby(['UniqueID','Attention Level'], as_index=False).mean()\n",
    "\n",
    "    \n",
    "    # make empty lists Sides and Nones\n",
    "    Sides  = []\n",
    "    Nones = []\n",
    "    \n",
    "    # for each participant in the select experiment\n",
    "    for s in d['UniqueID'].unique():\n",
    "\n",
    "        # obtain the average familiarity rating this participant gave to images attended at the Side level\n",
    "        # append to the list Sides\n",
    "        Sides.append(d[(d['UniqueID']==s) & (d['Attention Level'].isin(['Side'])) ]['Familiarity Rating'].mean())\n",
    "        \n",
    "        # obtain the average familiarity rating this participant gave to images attended at the None level\n",
    "        # append to the list Nones\n",
    "        Nones.append(d[(d['UniqueID']==s) & (d['Attention Level']=='None') ]['Familiarity Rating'].mean())\n",
    "\n",
    "    # conduct a paired t-test\n",
    "    print(scipy.stats.ttest_rel(Sides, Nones, nan_policy='omit'))\n",
    "    print(cohen_d(Sides, Nones, repeated=True))\n",
    "    print()"
   ]
  },
  {
   "cell_type": "markdown",
   "metadata": {},
   "source": [
    "### Attended Category versus Unattended - Group 1 only"
   ]
  },
  {
   "cell_type": "code",
   "execution_count": 203,
   "metadata": {},
   "outputs": [
    {
     "name": "stdout",
     "output_type": "stream",
     "text": [
      "Ttest_relResult(statistic=4.0821490582718365, pvalue=0.0004936365271213559)\n",
      "0.851186918979191\n",
      "\n",
      "Ttest_relResult(statistic=1.116428146678932, pvalue=0.27407627291563946)\n",
      "0.21098508805608535\n",
      "\n"
     ]
    }
   ],
   "source": [
    "s = gaze_added_mem_dict['/sustain']\n",
    "s = s[s['Group']==1]\n",
    "\n",
    "v = gaze_added_mem_dict['/variabl']\n",
    "v = v[v['Group']==1]\n",
    "\n",
    "for exp in [s,v]:\n",
    "    \n",
    "    c = exp\n",
    "    d = c[c['Trial Type']=='Memory'].groupby(['UniqueID','Attention Level'], as_index=False).mean()\n",
    "\n",
    "    \n",
    "    #make empty lists Sides and Nones\n",
    "    Cats  = []\n",
    "    Nones = []\n",
    "    \n",
    "    # for each participant in the select experiment\n",
    "    for s in d['UniqueID'].unique():\n",
    "\n",
    "        # obtain the average familiarity rating this participant gave to images attended at the Side level\n",
    "        # append to the list Sides\n",
    "        Cats.append(d[(d['UniqueID']==s) & (d['Attention Level'].isin(['Category'])) ]['Familiarity Rating'].mean())\n",
    "        \n",
    "        # obtain the average familiarity rating this participant gave to images attended at the None level\n",
    "        # append to the list Nones\n",
    "        Nones.append(d[(d['UniqueID']==s) & (d['Attention Level']=='None') ]['Familiarity Rating'].mean())\n",
    "\n",
    "    # conduct a paired t-test\n",
    "    print(scipy.stats.ttest_rel(Cats, Nones, nan_policy='omit'))\n",
    "    print(cohen_d(Cats, Nones, repeated=True))\n",
    "    print()"
   ]
  },
  {
   "cell_type": "markdown",
   "metadata": {},
   "source": [
    "### Attended Category versus Unattended - Group 2 only"
   ]
  },
  {
   "cell_type": "code",
   "execution_count": 204,
   "metadata": {},
   "outputs": [
    {
     "name": "stdout",
     "output_type": "stream",
     "text": [
      "Ttest_relResult(statistic=2.656372663685519, pvalue=0.013316761264345438)\n",
      "nan\n",
      "\n",
      "Ttest_relResult(statistic=-0.7529474014378729, pvalue=0.46025330054557134)\n",
      "0.16430659340044537\n",
      "\n"
     ]
    }
   ],
   "source": [
    "s = gaze_added_mem_dict['/sustain']\n",
    "s = s[s['Group']==2]\n",
    "\n",
    "v = gaze_added_mem_dict['/variabl']\n",
    "v = v[v['Group']==2]\n",
    "\n",
    "for exp in [s,v]:\n",
    "    \n",
    "    c = exp\n",
    "    d = c[c['Trial Type']=='Memory'].groupby(['UniqueID','Attention Level'], as_index=False).mean()\n",
    "\n",
    "    \n",
    "    # make empty lists Sides and Nones\n",
    "    Cats  = []\n",
    "    Nones = []\n",
    "    \n",
    "    # for each participant in the select experiment\n",
    "    for s in d['UniqueID'].unique():\n",
    "\n",
    "        # obtain the average familiarity rating this participant gave to images attended at the Side level\n",
    "        # append to the list Sides\n",
    "        Cats.append(d[(d['UniqueID']==s) & (d['Attention Level'].isin(['Category'])) ]['Familiarity Rating'].mean())\n",
    "        \n",
    "        # obtain the average familiarity rating this participant gave to images attended at the None level\n",
    "        # append to the list Nones\n",
    "        Nones.append(d[(d['UniqueID']==s) & (d['Attention Level']=='None') ]['Familiarity Rating'].mean())\n",
    "\n",
    "    # conduct a paired t-test\n",
    "    print(scipy.stats.ttest_rel(Cats, Nones, nan_policy='omit'))\n",
    "    print(cohen_d(Cats, Nones, repeated=True))\n",
    "    print()"
   ]
  },
  {
   "cell_type": "markdown",
   "metadata": {},
   "source": [
    "### Attended Side versus Unattended - Group 1 only"
   ]
  },
  {
   "cell_type": "code",
   "execution_count": 205,
   "metadata": {},
   "outputs": [
    {
     "name": "stdout",
     "output_type": "stream",
     "text": [
      "Ttest_relResult(statistic=1.04250763203514, pvalue=0.30849765963328013)\n",
      "0.21737786804383571\n",
      "\n",
      "Ttest_relResult(statistic=-0.9013946987822197, pvalue=0.37534927760408254)\n",
      "0.17034758614926607\n",
      "\n"
     ]
    }
   ],
   "source": [
    "s = gaze_added_mem_dict['/sustain']\n",
    "s = s[s['Group']==1]\n",
    "\n",
    "v = gaze_added_mem_dict['/variabl']\n",
    "v = v[v['Group']==1]\n",
    "\n",
    "for exp in [s,v]:\n",
    "    \n",
    "    c = exp\n",
    "    d = c[c['Trial Type']=='Memory'].groupby(['UniqueID','Attention Level'], as_index=False).mean()\n",
    "\n",
    "    \n",
    "    # make empty lists Sides and Nones\n",
    "    Cats  = []\n",
    "    Nones = []\n",
    "    \n",
    "    # for each participant in the select experiment\n",
    "    for s in d['UniqueID'].unique():\n",
    "\n",
    "        # obtain the average familiarity rating this participant gave to images attended at the Side level\n",
    "        # append to the list Sides\n",
    "        Cats.append(d[(d['UniqueID']==s) & (d['Attention Level'].isin(['Side'])) ]['Familiarity Rating'].mean())\n",
    "        \n",
    "        # obtain the average familiarity rating this participant gave to images attended at the None level\n",
    "        # append to the list Nones\n",
    "        Nones.append(d[(d['UniqueID']==s) & (d['Attention Level']=='None') ]['Familiarity Rating'].mean())\n",
    "\n",
    "    # conduct a paired t-test\n",
    "    print(scipy.stats.ttest_rel(Cats, Nones, nan_policy='omit'))\n",
    "    print(cohen_d(Cats, Nones, repeated=True))\n",
    "    print()"
   ]
  },
  {
   "cell_type": "markdown",
   "metadata": {},
   "source": [
    "### Attended Side versus Unattended - Group 2 only"
   ]
  },
  {
   "cell_type": "code",
   "execution_count": 206,
   "metadata": {},
   "outputs": [
    {
     "name": "stdout",
     "output_type": "stream",
     "text": [
      "Ttest_relResult(statistic=-0.12670631013161401, pvalue=0.9001476637534819)\n",
      "nan\n",
      "\n",
      "Ttest_relResult(statistic=-0.006636155115672728, pvalue=0.9947709015621724)\n",
      "0.0014481277686207\n",
      "\n"
     ]
    }
   ],
   "source": [
    "s = gaze_added_mem_dict['/sustain']\n",
    "s = s[s['Group']==2]\n",
    "\n",
    "v = gaze_added_mem_dict['/variabl']\n",
    "v = v[v['Group']==2]\n",
    "\n",
    "for exp in [s,v]:\n",
    "    \n",
    "    c = exp\n",
    "    d = c[c['Trial Type']=='Memory'].groupby(['UniqueID','Attention Level'], as_index=False).mean()\n",
    "\n",
    "    \n",
    "    # make empty lists Sides and Nones\n",
    "    Cats  = []\n",
    "    Nones = []\n",
    "    \n",
    "    # for each participant in the select experiment\n",
    "    for s in d['UniqueID'].unique():\n",
    "\n",
    "        # obtain the average familiarity rating this participant gave to images attended at the Side level\n",
    "        # append to the list Sides\n",
    "        Cats.append(d[(d['UniqueID']==s) & (d['Attention Level'].isin(['Side'])) ]['Familiarity Rating'].mean())\n",
    "        \n",
    "        # obtain the average familiarity rating this participant gave to images attended at the None level\n",
    "        # append to the list Nones\n",
    "        Nones.append(d[(d['UniqueID']==s) & (d['Attention Level']=='None') ]['Familiarity Rating'].mean())\n",
    "\n",
    "    # conduct a paired t-test\n",
    "    print(scipy.stats.ttest_rel(Cats, Nones, nan_policy='omit'))\n",
    "    print(cohen_d(Cats, Nones, repeated=True))\n",
    "    print()"
   ]
  },
  {
   "cell_type": "code",
   "execution_count": null,
   "metadata": {},
   "outputs": [],
   "source": []
  }
 ],
 "metadata": {
  "kernelspec": {
   "display_name": "Python 3",
   "language": "python",
   "name": "python3"
  },
  "language_info": {
   "codemirror_mode": {
    "name": "ipython",
    "version": 3
   },
   "file_extension": ".py",
   "mimetype": "text/x-python",
   "name": "python",
   "nbconvert_exporter": "python",
   "pygments_lexer": "ipython3",
   "version": "3.7.4"
  }
 },
 "nbformat": 4,
 "nbformat_minor": 2
}
