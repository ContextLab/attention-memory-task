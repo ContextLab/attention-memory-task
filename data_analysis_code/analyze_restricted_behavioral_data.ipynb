{
 "cells": [
  {
   "cell_type": "markdown",
   "metadata": {},
   "source": [
    "# Data Analysis"
   ]
  },
  {
   "cell_type": "markdown",
   "metadata": {},
   "source": [
    "This notebook generates timecourse analyses and figures for experiments 1 and 2."
   ]
  },
  {
   "cell_type": "markdown",
   "metadata": {},
   "source": [
    "### Imports"
   ]
  },
  {
   "cell_type": "code",
   "execution_count": 1,
   "metadata": {},
   "outputs": [],
   "source": [
    "import pandas as pd; import seaborn as sb; import warnings; import scipy; import re; \n",
    "import os; from analysis_helpers import *; import itertools; from scipy import stats\n",
    "import random; import pandas as pd; import numpy as np; from sklearn import datasets, linear_model; \n",
    "from sklearn.linear_model import LinearRegression; import statsmodels.api as sm\n",
    "from scipy import stats; from itertools import groupby; from operator import itemgetter; import pingouin\n",
    "warnings.filterwarnings('ignore')\n",
    "%matplotlib inline"
   ]
  },
  {
   "cell_type": "markdown",
   "metadata": {},
   "source": [
    "### Load Behavioral Data"
   ]
  },
  {
   "cell_type": "code",
   "execution_count": 2,
   "metadata": {},
   "outputs": [],
   "source": [
    "# data = pd.read_csv('../parsed_data/full_behavioral.csv')\n",
    "\n",
    "# Load restricted behavioral data !\n",
    "data = pd.read_csv('../parsed_data/behav_restricted.csv')"
   ]
  },
  {
   "cell_type": "code",
   "execution_count": 3,
   "metadata": {},
   "outputs": [],
   "source": [
    "# data['UniqueID'].unique()"
   ]
  },
  {
   "cell_type": "code",
   "execution_count": 10,
   "metadata": {},
   "outputs": [],
   "source": [
    "# data.groupby(['Experiment','Group']).count()#['UniqueID'].unique())"
   ]
  },
  {
   "cell_type": "markdown",
   "metadata": {},
   "source": [
    "## Organize Behavioral"
   ]
  },
  {
   "cell_type": "markdown",
   "metadata": {},
   "source": [
    "\n",
    "### Add cued category from last presentation trial to memory blocks"
   ]
  },
  {
   "cell_type": "code",
   "execution_count": 13,
   "metadata": {},
   "outputs": [],
   "source": [
    "# for each memory trial, add which category was last cued before that memory trial began\n",
    "\n",
    "# KZ: to do this correctly, do it using the last cued from full behavioral df\n",
    "\n",
    "\n",
    "##########################################################\n",
    "\n",
    "\n",
    "# for s in data['UniqueID'].unique():\n",
    "# # for each participant\n",
    "\n",
    "#     for r in data['Run'].unique():\n",
    "#     # for each run in this participant\n",
    "    \n",
    "#         data.loc[(data['Run']==r) \n",
    "#                  & (data['UniqueID']==s) \n",
    "#                  & (data['Trial Type']=='Memory'), 'Last Cued'] = data[(data['Run']==r) & (data['UniqueID']==s) & (data['Trial Type']=='Presentation') & (data['Trial']==9)]['Cued Category'].item()\n",
    "        \n",
    "# # make a copy of the data where novel images labeled by whether they are in the last-cued image category\n",
    "\n",
    "# data_nov = data\n",
    "# data     = add_nov_label(data, column_name = 'Last Cued')"
   ]
  },
  {
   "cell_type": "markdown",
   "metadata": {},
   "source": [
    "# Statistics"
   ]
  },
  {
   "cell_type": "markdown",
   "metadata": {},
   "source": [
    "Below are all of the statistical tests done on the behavioral data, roughly in the order they appear in the paper"
   ]
  },
  {
   "cell_type": "markdown",
   "metadata": {},
   "source": [
    "### Reaction Time Stats (Cued vs. Uncued side)"
   ]
  },
  {
   "cell_type": "code",
   "execution_count": 14,
   "metadata": {},
   "outputs": [],
   "source": [
    "# make sure sides are corrected exp2 group1"
   ]
  },
  {
   "cell_type": "code",
   "execution_count": 15,
   "metadata": {},
   "outputs": [
    {
     "name": "stdout",
     "output_type": "stream",
     "text": [
      "exp : /sustain\n"
     ]
    },
    {
     "ename": "ValueError",
     "evalue": "unequal length arrays",
     "output_type": "error",
     "traceback": [
      "\u001b[0;31m-------------------------------------------------------------------------\u001b[0m",
      "\u001b[0;31mValueError\u001b[0m                              Traceback (most recent call last)",
      "\u001b[0;32m<ipython-input-15-f98b90ab6e49>\u001b[0m in \u001b[0;36m<module>\u001b[0;34m\u001b[0m\n\u001b[1;32m      9\u001b[0m     \u001b[0mprint\u001b[0m\u001b[0;34m(\u001b[0m\u001b[0;34m'exp : '\u001b[0m\u001b[0;34m+\u001b[0m \u001b[0mexperiment\u001b[0m\u001b[0;34m)\u001b[0m\u001b[0;34m\u001b[0m\u001b[0;34m\u001b[0m\u001b[0m\n\u001b[1;32m     10\u001b[0m     print(scipy.stats.ttest_rel(dat[dat['Cue Validity']==1]['Attention Reaction Time (s)'], \n\u001b[0;32m---> 11\u001b[0;31m                                 dat[dat['Cue Validity']==0]['Attention Reaction Time (s)']))\n\u001b[0m\u001b[1;32m     12\u001b[0m \u001b[0;34m\u001b[0m\u001b[0m\n\u001b[1;32m     13\u001b[0m     \u001b[0mprint\u001b[0m\u001b[0;34m(\u001b[0m\u001b[0;34m)\u001b[0m\u001b[0;34m\u001b[0m\u001b[0;34m\u001b[0m\u001b[0m\n",
      "\u001b[0;32m/usr/local/lib/python3.7/site-packages/scipy/stats/stats.py\u001b[0m in \u001b[0;36mttest_rel\u001b[0;34m(a, b, axis, nan_policy)\u001b[0m\n\u001b[1;32m   5348\u001b[0m \u001b[0;34m\u001b[0m\u001b[0m\n\u001b[1;32m   5349\u001b[0m     \u001b[0;32mif\u001b[0m \u001b[0ma\u001b[0m\u001b[0;34m.\u001b[0m\u001b[0mshape\u001b[0m\u001b[0;34m[\u001b[0m\u001b[0maxis\u001b[0m\u001b[0;34m]\u001b[0m \u001b[0;34m!=\u001b[0m \u001b[0mb\u001b[0m\u001b[0;34m.\u001b[0m\u001b[0mshape\u001b[0m\u001b[0;34m[\u001b[0m\u001b[0maxis\u001b[0m\u001b[0;34m]\u001b[0m\u001b[0;34m:\u001b[0m\u001b[0;34m\u001b[0m\u001b[0;34m\u001b[0m\u001b[0m\n\u001b[0;32m-> 5350\u001b[0;31m         \u001b[0;32mraise\u001b[0m \u001b[0mValueError\u001b[0m\u001b[0;34m(\u001b[0m\u001b[0;34m'unequal length arrays'\u001b[0m\u001b[0;34m)\u001b[0m\u001b[0;34m\u001b[0m\u001b[0;34m\u001b[0m\u001b[0m\n\u001b[0m\u001b[1;32m   5351\u001b[0m \u001b[0;34m\u001b[0m\u001b[0m\n\u001b[1;32m   5352\u001b[0m     \u001b[0;32mif\u001b[0m \u001b[0ma\u001b[0m\u001b[0;34m.\u001b[0m\u001b[0msize\u001b[0m \u001b[0;34m==\u001b[0m \u001b[0;36m0\u001b[0m \u001b[0;32mor\u001b[0m \u001b[0mb\u001b[0m\u001b[0;34m.\u001b[0m\u001b[0msize\u001b[0m \u001b[0;34m==\u001b[0m \u001b[0;36m0\u001b[0m\u001b[0;34m:\u001b[0m\u001b[0;34m\u001b[0m\u001b[0;34m\u001b[0m\u001b[0m\n",
      "\u001b[0;31mValueError\u001b[0m: unequal length arrays"
     ]
    }
   ],
   "source": [
    "# compare average attention probe reaction times (valid versus invalid)\n",
    "\n",
    "data_gr = data.groupby(['UniqueID','Cue Validity', 'Experiment'], as_index=False).mean()\n",
    "\n",
    "for experiment in ['/sustain', '/variabl']:\n",
    "\n",
    "    dat = data_gr[(data_gr['Experiment']== experiment)]\n",
    "\n",
    "    print('exp : '+ experiment)\n",
    "    print(scipy.stats.ttest_rel(dat[dat['Cue Validity']==1]['Attention Reaction Time (s)'], \n",
    "                                dat[dat['Cue Validity']==0]['Attention Reaction Time (s)']))\n",
    "\n",
    "    print()\n",
    "\n",
    "#         print(cohen_d(list(data_gr[(data_gr['Cue Validity']==1) & (data_gr['Experiment'] == experiment)]['Attention Reaction Time (s)']),\n",
    "#                       list(data_gr[(data_gr['Cue Validity']==0) & (data_gr['Experiment'] == experiment)]['Attention Reaction Time (s)'])))"
   ]
  },
  {
   "cell_type": "code",
   "execution_count": 16,
   "metadata": {},
   "outputs": [
    {
     "data": {
      "image/png": "[encoded data removed]",
      "text/plain": [
       "<Figure size 432x288 with 1 Axes>"
      ]
     },
     "metadata": {
      "needs_background": "light"
     },
     "output_type": "display_data"
    }
   ],
   "source": [
    "p = sb.barplot(data=data_gr, x='Experiment', y='Attention Reaction Time (s)', hue='Cue Validity')                               \n",
    "p.set_title('Attn Probe Reaction Time')\n",
    "plt.show()"
   ]
  },
  {
   "cell_type": "code",
   "execution_count": 17,
   "metadata": {},
   "outputs": [
    {
     "data": {
      "image/png": "[encoded data removed]",
      "text/plain": [
       "<Figure size 432x288 with 1 Axes>"
      ]
     },
     "metadata": {
      "needs_background": "light"
     },
     "output_type": "display_data"
    }
   ],
   "source": [
    "p = sb.barplot(data=data_gr[data_gr['Experiment']=='/sustain'], x='Group', y='Attention Reaction Time (s)', hue='Cue Validity')                               \n",
    "p.set_title('Sustained Attention Task')\n",
    "plt.show()"
   ]
  },
  {
   "cell_type": "code",
   "execution_count": 18,
   "metadata": {},
   "outputs": [
    {
     "data": {
      "image/png": "[encoded data removed]",
      "text/plain": [
       "<Figure size 432x288 with 1 Axes>"
      ]
     },
     "metadata": {
      "needs_background": "light"
     },
     "output_type": "display_data"
    }
   ],
   "source": [
    "p = sb.barplot(data=data_gr[data_gr['Experiment']=='/variabl'], x='Group', y='Attention Reaction Time (s)', hue='Cue Validity')             \n",
    "p.set_title('Variable Attention Task')\n",
    "plt.show()"
   ]
  },
  {
   "cell_type": "markdown",
   "metadata": {},
   "source": [
    "# Calculate Differences"
   ]
  },
  {
   "cell_type": "code",
   "execution_count": 19,
   "metadata": {},
   "outputs": [
    {
     "name": "stdout",
     "output_type": "stream",
     "text": [
      "RT Diff Comparison\n",
      "Ttest_indResult(statistic=nan, pvalue=nan)\n"
     ]
    }
   ],
   "source": [
    "diffs = {}\n",
    "\n",
    "for experiment in ['/sustain', '/variabl']:\n",
    "    \n",
    "    diffs[experiment] = []\n",
    "    d = data_gr[(data_gr['Experiment']== experiment)]\n",
    "\n",
    "    #diffs = {'Experiment_1':[], 'Experiment_2':[]}\n",
    "    #for d,label in zip([exp1, exp2],['Experiment_1', 'Experiment_2']):\n",
    "    \n",
    "    for s in d['Subject'].unique():\n",
    "        cued   = d[(d['Subject']==s)&(d['Cue Validity']==0)]['Attention Reaction Time (s)'].mean()\n",
    "        uncued = d[(d['Subject']==s)&(d['Cue Validity']==1)]['Attention Reaction Time (s)'].mean()\n",
    "\n",
    "        diffs[experiment].append(cued - uncued)\n",
    "\n",
    "print('RT Diff Comparison')\n",
    "print(scipy.stats.ttest_ind(diffs['/sustain'], diffs['/variabl']))\n",
    "#print(cohen_d(diffs['/sustain'], diffs['/variabl']))"
   ]
  },
  {
   "cell_type": "markdown",
   "metadata": {},
   "source": [
    "### Compare Fully Attended images to all other images"
   ]
  },
  {
   "cell_type": "code",
   "execution_count": 20,
   "metadata": {},
   "outputs": [
    {
     "name": "stdout",
     "output_type": "stream",
     "text": [
      "\n",
      "experiment : /sustain\n",
      "Ttest_relResult(statistic=13.421183052640375, pvalue=1.3945182924068942e-19)\n",
      "\n",
      "\n",
      "experiment : /variabl\n",
      "Ttest_relResult(statistic=12.405867076386683, pvalue=3.6567724184869514e-17)\n",
      "\n"
     ]
    }
   ],
   "source": [
    "# compare average ratings for fully attended images to all other image types \n",
    "\n",
    "for experiment in ['/sustain', '/variabl']:\n",
    "    \n",
    "    Fulls  = []\n",
    "    Others = []\n",
    "\n",
    "    for s in data[(data['Experiment']==experiment)]['UniqueID'].unique():\n",
    "\n",
    "        Fulls.append(data[(data['UniqueID']==s)&(data['Attention Level']=='Full') & (data['Experiment']==experiment)]['Familiarity Rating'].mean())\n",
    "        Others.append(data[(data['UniqueID']==s)&(data['Attention Level']!='Full') & (data['Experiment']==experiment)]['Familiarity Rating'].mean())\n",
    "\n",
    "    print()\n",
    "    print('experiment : '+experiment)\n",
    "    print(scipy.stats.ttest_rel(Fulls, Others))\n",
    "    print()\n",
    "        "
   ]
  },
  {
   "cell_type": "markdown",
   "metadata": {},
   "source": [
    "### Face versus Scene"
   ]
  },
  {
   "cell_type": "code",
   "execution_count": 21,
   "metadata": {},
   "outputs": [
    {
     "name": "stdout",
     "output_type": "stream",
     "text": [
      "\n",
      "experiment : /sustain\n",
      "Ttest_relResult(statistic=7.687873877550006, pvalue=1.8473338043613615e-10)\n",
      "\n",
      "\n",
      "experiment : /variabl\n",
      "Ttest_relResult(statistic=7.085593793199018, pvalue=3.6138893528986493e-09)\n",
      "\n"
     ]
    }
   ],
   "source": [
    "# compare ratings for fully attended scenes with ratings for fully attended faves\n",
    "\n",
    "f_p = data.groupby(['UniqueID', 'Experiment', 'Attention Level', 'Category'], as_index=False).mean()\n",
    "\n",
    "for experiment in ['/sustain', '/variabl']:\n",
    "        \n",
    "        print()\n",
    "\n",
    "        print('experiment : '+experiment)\n",
    "\n",
    "        print(scipy.stats.ttest_rel(f_p[(f_p['Category']=='Place') & (f_p['Attention Level']=='Full') \n",
    "                                        & (f_p['Experiment']==experiment)]['Familiarity Rating'], \n",
    "\n",
    "                                    f_p[(f_p['Category']=='Face') & (f_p['Attention Level']=='Full') \n",
    "                                        & (f_p['Experiment']==experiment)]['Familiarity Rating']))\n",
    "\n",
    "        print ()\n",
    "    \n",
    "            \n",
    "#             print(cohen_d(f_p[(f_p['Category']=='Place') & (f_p['Attention Level']=='Full')& (f_p['Experiment']==experiment) & (f_p['Group']==group)]['Familiarity Rating'], \n",
    "#                                 f_p[(f_p['Category']=='Face') & (f_p['Attention Level']=='Full')& (f_p['Experiment']==experiment) & (f_p['Group']==group)]['Familiarity Rating']))\n",
    "#             print()\n",
    "\n",
    "\n",
    "          "
   ]
  },
  {
   "cell_type": "markdown",
   "metadata": {},
   "source": [
    "### Attended Category versus Unattended"
   ]
  },
  {
   "cell_type": "code",
   "execution_count": 22,
   "metadata": {
    "scrolled": true
   },
   "outputs": [
    {
     "name": "stdout",
     "output_type": "stream",
     "text": [
      "experiment : /sustain\n",
      "Ttest_relResult(statistic=7.169020123474894, pvalue=1.399590794698868e-09)\n",
      "\n",
      "experiment : /variabl\n",
      "Ttest_relResult(statistic=0.4310799396268719, pvalue=0.6681920627291599)\n",
      "\n"
     ]
    }
   ],
   "source": [
    "d = data.groupby(['UniqueID', 'Experiment', 'Attention Level'], as_index=False).mean()\n",
    "\n",
    "for experiment in ['/sustain', '/variabl']:\n",
    "        \n",
    "    Cats  = []\n",
    "    Nones = []\n",
    "\n",
    "    for s in d[(d['Experiment']==experiment)]['UniqueID'].unique():\n",
    "\n",
    "        Cats.append(d[(d['UniqueID']==s) & (d['Attention Level'].isin(['Category']) & (d['Experiment']==experiment))]['Familiarity Rating'].mean())\n",
    "        Nones.append(d[(d['UniqueID']==s) & (d['Attention Level']=='None') & (d['Experiment']==experiment)]['Familiarity Rating'].mean())\n",
    "\n",
    "\n",
    "    print('experiment : '+experiment)\n",
    "    print(scipy.stats.ttest_rel(Cats, Nones))\n",
    "    #print(cohen_d(Cats, Nones))\n",
    "    print()"
   ]
  },
  {
   "cell_type": "markdown",
   "metadata": {},
   "source": [
    "### Attended Side vs Unattended"
   ]
  },
  {
   "cell_type": "code",
   "execution_count": 23,
   "metadata": {},
   "outputs": [
    {
     "name": "stdout",
     "output_type": "stream",
     "text": [
      "Ttest_relResult(statistic=4.320885072719229, pvalue=6.048927164309282e-05)\n",
      "\n",
      "Ttest_relResult(statistic=2.5918457744677217, pvalue=0.012363373090488588)\n",
      "\n"
     ]
    }
   ],
   "source": [
    "d = data.groupby(['UniqueID', 'Experiment', 'Attention Level'], as_index=False).mean()\n",
    "\n",
    "for experiment in ['/sustain', '/variabl']:\n",
    "        \n",
    "    Sides  = []\n",
    "    Nones = []\n",
    "\n",
    "    for s in d[(d['Experiment']==experiment)]['UniqueID'].unique():\n",
    "\n",
    "        Sides.append(d[(d['UniqueID']==s) & (d['Attention Level'].isin(['Side'])) & (d['Experiment']==experiment)]['Familiarity Rating'].mean())\n",
    "        Nones.append(d[(d['UniqueID']==s) & (d['Attention Level']=='None') & (d['Experiment']==experiment)]['Familiarity Rating'].mean())\n",
    "\n",
    "    print(scipy.stats.ttest_rel(Sides, Nones))\n",
    "    print()"
   ]
  },
  {
   "cell_type": "code",
   "execution_count": 24,
   "metadata": {},
   "outputs": [],
   "source": [
    "# sustained attention experiment\n",
    "\n",
    "# sb.barplot(data=data[data['Experiment']=='/sustain'], x='Attention Level', y='Familiarity Rating', hue='Group',\n",
    "#           order=['Full','Category','Nov_Cued','Side','None','Nov_Un'])"
   ]
  },
  {
   "cell_type": "code",
   "execution_count": 25,
   "metadata": {},
   "outputs": [],
   "source": [
    "# variable attention experiment\n",
    "\n",
    "# sb.barplot(data=data[data['Experiment']=='/variabl'], x='Attention Level', y='Familiarity Rating', hue='Group',\n",
    "#           order=['Full','Category','Nov_Cued','Side','None','Nov_Un'])"
   ]
  },
  {
   "cell_type": "markdown",
   "metadata": {},
   "source": [
    "### Cued versus Uncued Novel images"
   ]
  },
  {
   "cell_type": "code",
   "execution_count": 26,
   "metadata": {},
   "outputs": [
    {
     "name": "stdout",
     "output_type": "stream",
     "text": [
      "/sustain\n",
      "(nan, nan)\n",
      "\n",
      "/variabl\n",
      "(nan, nan)\n",
      "\n"
     ]
    }
   ],
   "source": [
    "d = data.groupby(['UniqueID', 'Experiment', 'Attention Level'], as_index=False).mean()\n",
    "\n",
    "for experiment in ['/sustain', '/variabl']:\n",
    "    \n",
    "    a = d[(d['Attention Level']=='Nov_Cued') & (d['Experiment']==experiment)]['Familiarity Rating']\n",
    "    b = d[(d['Attention Level']=='Nov_Un') & (d['Experiment']==experiment)]['Familiarity Rating']\n",
    "\n",
    "    #print('experiment : '+experiment+', Group : '+str(group))\n",
    "    print(experiment)\n",
    "    print(scipy.stats.ttest_rel(a, b))\n",
    "\n",
    "    #print(cohen_d(a, b))\n",
    "    print()\n",
    "    "
   ]
  },
  {
   "cell_type": "markdown",
   "metadata": {},
   "source": [
    "### Feature boost versus feature bias boost"
   ]
  },
  {
   "cell_type": "code",
   "execution_count": 27,
   "metadata": {
    "scrolled": true
   },
   "outputs": [
    {
     "name": "stdout",
     "output_type": "stream",
     "text": [
      "experiment : /sustain\n",
      "Ttest_relResult(statistic=nan, pvalue=nan)\n",
      "\n",
      "experiment : /variabl\n",
      "Ttest_relResult(statistic=nan, pvalue=nan)\n",
      "\n"
     ]
    }
   ],
   "source": [
    "d = data.groupby(['UniqueID', 'Experiment', 'Attention Level'], as_index=False).mean()\n",
    "\n",
    "for experiment in ['/sustain', '/variabl']:\n",
    "        \n",
    "    cat_no   = []\n",
    "    nov_diff = []\n",
    "\n",
    "    for s in d[(d['Experiment']==experiment)]['UniqueID'].unique():\n",
    "\n",
    "        cat = d[(d['UniqueID']==s)&(d['Attention Level'].isin(['Category', 'Full']))& (d['Experiment']==experiment)]['Familiarity Rating'].mean()\n",
    "        no = d[(d['UniqueID']==s) &(d['Attention Level']=='None')& (d['Experiment']==experiment)]['Familiarity Rating'].mean()\n",
    "        nov_c = d[(d['UniqueID']==s) &(d['Attention Level']=='Nov_Cued')& (d['Experiment']==experiment)]['Familiarity Rating'].mean()\n",
    "        nov_u = d[(d['UniqueID']==s) &(d['Attention Level']=='Nov_Un')& (d['Experiment']==experiment)]['Familiarity Rating'].mean()\n",
    "\n",
    "        cat_no.append(cat - no)\n",
    "        nov_diff.append(nov_c - nov_u)\n",
    "\n",
    "\n",
    "    print('experiment : '+experiment)\n",
    "    print(scipy.stats.ttest_rel(cat_no, nov_diff))\n",
    "    #print(cohen_d(cat_no, nov_diff))\n",
    "    print()\n"
   ]
  },
  {
   "cell_type": "markdown",
   "metadata": {},
   "source": [
    "### Feature boost versus Location boost"
   ]
  },
  {
   "cell_type": "code",
   "execution_count": 28,
   "metadata": {},
   "outputs": [],
   "source": [
    "# SHOWN BELOW:\n",
    "\n",
    "# mean(Cat & Full) - mean(None)\n",
    "# versus\n",
    "# mean(Side & Full) - mean(None)\n",
    "\n",
    "# -------------------------------\n",
    "# NOT YET REPLICATED IN NEW DATA:\n",
    "\n",
    "# Experiment 1: ( (mean(Cat & Full) - mean(None))  -    (mean(Side & Full) - mean(None)) )    \n",
    "# versus\n",
    "# Experiment 2: ( (mean(Cat & Full) - mean(None))   -    (mean(Side & Full) - mean(None)) )    "
   ]
  },
  {
   "cell_type": "code",
   "execution_count": 29,
   "metadata": {},
   "outputs": [
    {
     "name": "stdout",
     "output_type": "stream",
     "text": [
      "\n",
      "experiment : /sustain\n",
      "Ttest_relResult(statistic=3.2490949771808535, pvalue=0.0019134206193149516)\n",
      "\n",
      "\n",
      "experiment : /variabl\n",
      "Ttest_relResult(statistic=-1.699901820938161, pvalue=0.09512430967613025)\n",
      "\n",
      "\n",
      "Feature boost relative to Location boost, Exp1 vs Exp 2\n",
      "Ttest_indResult(statistic=3.4948830288803245, pvalue=0.0006825668408073697)\n",
      "\n",
      "Location boost relative to novel, Exp2 vs Exp1\n",
      "Ttest_indResult(statistic=2.29929613013857, pvalue=0.02335909948222869)\n"
     ]
    }
   ],
   "source": [
    "d = data.groupby(['UniqueID', 'Experiment', 'Attention Level'], as_index=False).mean()\n",
    "\n",
    "\n",
    "full = {}; diffs = {}; side_diffs = {}\n",
    "\n",
    "for experiment in ['/sustain', '/variabl']:\n",
    "        \n",
    "    label = experiment \n",
    "\n",
    "    cat_nov  = []\n",
    "    side_nov = []\n",
    "\n",
    "    for s in d[(d['Experiment']==experiment)]['UniqueID'].unique():\n",
    "\n",
    "        side = d[(d['UniqueID']==s)&(d['Attention Level'].isin(['Side','Full'])) & (d['Experiment']==experiment)]['Familiarity Rating'].mean()\n",
    "        cat  = d[(d['UniqueID']==s)&(d['Attention Level'].isin(['Category', 'Full'])) & (d['Experiment']==experiment)]['Familiarity Rating'].mean()\n",
    "        nov  = d[(d['UniqueID']==s)&(d['Attention Level']=='None') & (d['Experiment']==experiment)]['Familiarity Rating'].mean()\n",
    "\n",
    "        cat_nov.append(cat - nov)\n",
    "        side_nov.append(side - nov)\n",
    "\n",
    "    print()\n",
    "    print('experiment : '+experiment)\n",
    "    print(scipy.stats.ttest_rel(cat_nov, side_nov))\n",
    "    print()\n",
    "    \n",
    "    diff = [x-y for x,y in zip(cat_nov,side_nov)]\n",
    "    diffs[label] = diff\n",
    "    side_diffs[label] = side_nov\n",
    "    \n",
    "print()\n",
    "print('Feature boost relative to Location boost, Exp1 vs Exp 2')\n",
    "print(scipy.stats.ttest_ind(diffs['/sustain'], diffs['/variabl']))\n",
    "# print(cohen_d(diffs['/sustain'], diffs['/variabl']))\n",
    "print()\n",
    "print('Location boost relative to novel, Exp2 vs Exp1')\n",
    "print(scipy.stats.ttest_ind(side_diffs['/sustain'], side_diffs['/variabl']))\n",
    "# print(cohen_d(side_diffs['/sustain'], side_diffs['/variabl']))"
   ]
  },
  {
   "cell_type": "markdown",
   "metadata": {},
   "source": [
    "### Fully Attended versus Side Attended boost"
   ]
  },
  {
   "cell_type": "code",
   "execution_count": 30,
   "metadata": {},
   "outputs": [
    {
     "name": "stdout",
     "output_type": "stream",
     "text": [
      "experiment : /sustain\n",
      "Ttest_relResult(statistic=9.501823182090353, pvalue=1.682767549974878e-13)\n",
      "\n",
      "experiment : /variabl\n",
      "Ttest_relResult(statistic=9.721600586854604, pvalue=2.730856909179824e-13)\n",
      "\n"
     ]
    }
   ],
   "source": [
    "d = data.groupby(['UniqueID', 'Experiment', 'Attention Level'], as_index=False).mean()\n",
    "\n",
    "\n",
    "full = {}\n",
    "\n",
    "for experiment in ['/sustain', '/variabl']:\n",
    "        \n",
    "    label = experiment \n",
    "\n",
    "    cat_nov  = []\n",
    "    side_nov = []\n",
    "\n",
    "    for s in d[(d['Experiment']==experiment)]['UniqueID'].unique():\n",
    "\n",
    "        side = d[(d['UniqueID']==s)&(d['Attention Level'].isin(['Side']))&(d['Experiment']==experiment)]['Familiarity Rating'].mean()\n",
    "        cat  = d[(d['UniqueID']==s)&(d['Attention Level'].isin(['Full']))&(d['Experiment']==experiment)]['Familiarity Rating'].mean()\n",
    "        nov  = d[(d['UniqueID']==s)&(d['Attention Level']=='None')&(d['Experiment']==experiment)]['Familiarity Rating'].mean()\n",
    "\n",
    "        cat_nov.append(cat - nov)\n",
    "        side_nov.append(side - nov)\n",
    "\n",
    "\n",
    "    print('experiment : '+experiment)\n",
    "    print(scipy.stats.ttest_rel(cat_nov, side_nov))\n",
    "    # print(cohen_d(cat_nov, side_nov))\n",
    "    print()\n",
    "\n",
    "            "
   ]
  },
  {
   "cell_type": "markdown",
   "metadata": {},
   "source": [
    "# Plot Data"
   ]
  },
  {
   "cell_type": "code",
   "execution_count": 31,
   "metadata": {},
   "outputs": [],
   "source": [
    "#data_original.groupby(['Attention Level']).count()"
   ]
  },
  {
   "cell_type": "markdown",
   "metadata": {},
   "source": [
    "## Violin Plots "
   ]
  },
  {
   "cell_type": "code",
   "execution_count": 32,
   "metadata": {},
   "outputs": [],
   "source": [
    "data_original = data"
   ]
  },
  {
   "cell_type": "code",
   "execution_count": 40,
   "metadata": {
    "scrolled": true
   },
   "outputs": [
    {
     "name": "stdout",
     "output_type": "stream",
     "text": [
      "/sustain: Average Familiarity by Attention Level\n"
     ]
    },
    {
     "data": {
      "image/png": "[encoded data removed]",
      "text/plain": [
       "<Figure size 432x288 with 1 Axes>"
      ]
     },
     "metadata": {},
     "output_type": "display_data"
    },
    {
     "name": "stdout",
     "output_type": "stream",
     "text": [
      "/variabl: Average Familiarity by Attention Level\n"
     ]
    },
    {
     "data": {
      "image/png": "[encoded data removed]",
      "text/plain": [
       "<Figure size 432x288 with 1 Axes>"
      ]
     },
     "metadata": {},
     "output_type": "display_data"
    }
   ],
   "source": [
    "# PLOT PARAMS\n",
    "snoop = 0\n",
    "stat_dict_full = {'/sustain':{}, '/variabl':{}}\n",
    "\n",
    "# color list \n",
    "col = ['r','orange','tan','purple','blue','grey']\n",
    "\n",
    "# cat list\n",
    "cats = ['Full','Category','Side','None']\n",
    "\n",
    "# plot settings\n",
    "sb.set_style(\"white\")\n",
    "plt.grid(False)\n",
    "plt.rc('xtick', labelsize=15)\n",
    "plt.rc('ytick', labelsize=15)\n",
    "plt.xlabel('Attention Level',    fontsize = 20)\n",
    "plt.ylabel('Familiarity Rating', fontsize = 20)\n",
    "\n",
    "\n",
    "# for each experiment, for each test group, group and plot\n",
    "\n",
    "for experiment in ['/sustain', '/variabl']:\n",
    "    \n",
    "        \n",
    "    label = experiment \n",
    "\n",
    "    d = data_original[(data_original['Experiment']==experiment)]\n",
    "\n",
    "\n",
    "    # VIOLIN PLOT\n",
    "    data = d.groupby(['UniqueID','Attention Level', 'Category'], as_index = False).mean()\n",
    "    print(label + ': Average Familiarity by Attention Level')\n",
    "    sb_plot = sb.violinplot(x='Attention Level', y='Familiarity Rating', \n",
    "                 data = data, split=True, hue='Category', \n",
    "                 order=cats)\n",
    "    sb_plot.set(ylim=(.2, 9))\n",
    "    ax1 = sb_plot.axes\n",
    "\n",
    "\n",
    "    ### SIGNIFICANCE STARS FOR PLOTTING ###\n",
    "    t_draw = {}\n",
    "\n",
    "#     for c in data['Attention Level'].unique():\n",
    "# #             if c in(['Nov_Cued','Nov_Un']) and label=='Experiment_2':\n",
    "\n",
    "# #                 # if comparing novel images from exp2, eliminate participant 28 (all Place-cued as last cued category)\n",
    "# #                 first  = list(data[(data['Attention Level']==c) & (data['Category']=='Face') & (data['UniqueID']!=28)]['Familiarity Rating'])\n",
    "# #                 second = list(data[(data['Attention Level']==c) & (data['Category']=='Place') & (data['UniqueID']!=28)]['Familiarity Rating'])\n",
    "\n",
    "# #             else:\n",
    "#         first  = list(data[(data['Attention Level']==c) & (data['Category']=='Face')]['Familiarity Rating'])\n",
    "#         second = list(data[(data['Attention Level']==c) & (data['Category']=='Place')]['Familiarity Rating'])\n",
    "\n",
    "#         t = scipy.stats.ttest_rel(first, second)\n",
    "\n",
    "#         if t[1]<.001:\n",
    "#             t_draw[c] = '***'\n",
    "\n",
    "#         elif t[1]<.01:\n",
    "#             t_draw[c] = '**'\n",
    "\n",
    "#         elif t[1]<.05:\n",
    "#             t_draw[c] = '*'\n",
    "\n",
    "#         elif t[1]<.0551:\n",
    "#             t_draw[c] = '+'\n",
    "\n",
    "\n",
    "    ### SIGNIFICANCE BETWEEN VIOLINS FOR PLOTTING ###\n",
    "    stat_dict = {}\n",
    "    k = data.groupby(['UniqueID','Attention Level'],as_index=False).mean()\n",
    "\n",
    "    for pair in list(itertools.combinations(cats, r=2)):\n",
    "        t = stats.ttest_rel(k[k['Attention Level']==pair[0]]['Familiarity Rating'], \n",
    "                            k[k['Attention Level']==pair[1]]['Familiarity Rating'])\n",
    "        \n",
    "        stat_dict_full[label][pair] = {'t': t.statistic, 'p': t.pvalue}\n",
    "\n",
    "        # dictionary where every key is a pair categories with a difference that has p value less than .0551\n",
    "        if t[1]<=.0551:\n",
    "            stat_dict[pair] = {'t': t.statistic, 'p': t.pvalue}\n",
    "\n",
    "\n",
    "    ### CREATE AND ADD SIGNIFICANCE LINES TO PLOT ###\n",
    "    for relationship in  ['pos','neg']:\n",
    "\n",
    "        plotted_cats = []\n",
    "        to_be_plotted = []\n",
    "        line_height = 0\n",
    "\n",
    "        # FOR EACH CATEGORY\n",
    "        for idx,c in enumerate(cats):\n",
    "\n",
    "            x = sig_bars(c, cats, stat_dict, sign=relationship)\n",
    "            # get all significance lines from this category to every other category\n",
    "\n",
    "            for idx,line in enumerate(x):\n",
    "            # for each line from this category to another category (starting with the nearest category)\n",
    "\n",
    "                if (line['categories'] not in plotted_cats) and (line!=np.nan) and (type(line['categories'])!=float):\n",
    "                # if there is a difference in the correct direction (pos/neg) and it has not been plotted yet\n",
    "\n",
    "                    line['y'] = line['y'] + line_height\n",
    "                    # assign the next available height to this line \n",
    "                    # (give its height a boost based on how many lines have been plotted already)\n",
    "\n",
    "                    to_be_plotted.append(line)\n",
    "                    # append this line to the list of lines to be plotted\n",
    "\n",
    "                    plotted_cats.append(line['categories'])\n",
    "                    # add this category pair to the list of category pairs that has been plotted\n",
    "\n",
    "                    # CONTINUE THE CASCADE OF LINES\n",
    "                    # now, start from the category we have just drawn a line to\n",
    "                    # and loop through the rest of the categories from there\n",
    "\n",
    "                    # first, give the line a new name so we can loop over new lines, without losing our first one\n",
    "                    b = line\n",
    "\n",
    "                    # as long as there is difference in the correct direction (pos/neg) \n",
    "                    # between the most recent category and the next one\n",
    "                    while b['next']!= 0 :\n",
    "\n",
    "                        # grab the first category for the line between them\n",
    "                        first_cat = b['categories'][0]\n",
    "\n",
    "                        # then get the line STARTING from the category we have just drawn a line to, to the NEXT category it differs from\n",
    "                        b = sig_bars(b['next'], cats, stat_dict, sign=relationship)[0]\n",
    "\n",
    "                        # if there is a difference in the correct direction (pos/neg) that has not been plotted yet\n",
    "                        if (b['categories'] not in plotted_cats) and (b != np.nan) and (type(b['categories'])!=float):\n",
    "\n",
    "                            # adjust its height so it is the same height as the line that brought us here\n",
    "                            b['y'] = b['y'] + line_height\n",
    "\n",
    "                            # add this line to the lines we will plot\n",
    "                            to_be_plotted.append(b)\n",
    "\n",
    "                            # add this category pair to the list of pairs that's been plotted\n",
    "                            plotted_cats.append(b['categories'])\n",
    "\n",
    "                            # also add the pair of categories containing the original starting category and this ending category\n",
    "                            # (so that doesn't get plotted redundantly)\n",
    "                            plotted_cats.append((line['categories'][0], b['categories'][1]))\n",
    "\n",
    "                            # AND add the relationship from the original starting category to this starting category\n",
    "                            # (so that doesn't get plotted redundantly)\n",
    "                            plotted_cats.append((first_cat, b['categories'][1]))\n",
    "\n",
    "                    line_height = line_height - .4\n",
    "                    # adjust height next lines will be drawn at\n",
    "\n",
    "        # Plot the lines\n",
    "        for each in to_be_plotted:\n",
    "\n",
    "            if relationship == 'pos':\n",
    "                ax1.axhline(each['y'], ls='-', xmin = each['x_min'], xmax = each['x_max'], \n",
    "                    linewidth = each['width'], color = col[cats.index(each['categories'][0])])\n",
    "\n",
    "            if relationship == 'neg':\n",
    "                ax1.axhline(each['y']-2, ls='-', xmin = each['x_min'], xmax = each['x_max'], \n",
    "                    linewidth = each['width'], color = col[-cats.index(each['categories'][1])])\n",
    "\n",
    "    # Plot the stars\n",
    "    for stars in t_draw:\n",
    "        ax1.text((cats.index(stars)), 4.5, t_draw[stars], horizontalalignment='center', size='large', color='black')\n",
    "\n",
    "    # save figure\n",
    "    snoop +=1\n",
    "    stat_dict_full[label][pair] = {'t': t.statistic, 'p': t.pvalue}\n",
    "    if snoop ==2:\n",
    "        plt.savefig(\"violindoo.pdf\")\n",
    "\n",
    "    # show figure\n",
    "    plt.legend(bbox_to_anchor=(1.05, 1), loc=2, borderaxespad=0.)\n",
    "    plt.show()"
   ]
  },
  {
   "cell_type": "markdown",
   "metadata": {},
   "source": [
    "## Timecourse Plots"
   ]
  },
  {
   "cell_type": "code",
   "execution_count": 34,
   "metadata": {},
   "outputs": [],
   "source": [
    "def apply_window(combo, window_length):\n",
    "    '''\n",
    "    input:  dataframe of behavioral data from an entire experiment\n",
    "    output: dataframe of same shape where raw values have been replaced by rolling window mean\n",
    "    '''\n",
    "\n",
    "    # select data from memory runs\n",
    "    data = combo[combo['Trial Type']=='Memory'][['Attention Level','Familiarity Rating','Trial','UniqueID','Run']]\n",
    "\n",
    "    # re-structure the data - each row is a trial, each column is an attn level\n",
    "    df = data.pivot_table(index=['UniqueID', 'Trial'], columns='Attention Level', values='Familiarity Rating')\n",
    "\n",
    "    # apply rolling window, for each subject\n",
    "    window_data = df.groupby(['UniqueID']).apply(lambda x: x.rolling(window_length, min_periods=1, center=True).mean())\n",
    "\n",
    "    return(window_data)"
   ]
  },
  {
   "cell_type": "code",
   "execution_count": 35,
   "metadata": {},
   "outputs": [],
   "source": [
    "# combo = data_original[data_original['Group']==2]\n",
    "\n",
    "# # select data from memory runs\n",
    "# data = combo[combo['Trial Type']=='Memory'][['Attention Level','Familiarity Rating','Trial','UniqueID','Run']]\n",
    "\n",
    "# # re-structure the data - each row is a trial, each column is an attn level\n",
    "# df = data.pivot_table(index=['UniqueID', 'Trial'], columns='Attention Level', values='Familiarity Rating')\n",
    "\n",
    "# # apply rolling window, for each subject\n",
    "# window_data = df.groupby(['UniqueID']).apply(lambda x: x.rolling(window_length, min_periods=1, center=True).mean())\n"
   ]
  },
  {
   "cell_type": "code",
   "execution_count": 36,
   "metadata": {},
   "outputs": [
    {
     "name": "stdout",
     "output_type": "stream",
     "text": [
      "finish\n"
     ]
    },
    {
     "ename": "KeyError",
     "evalue": "\"The following 'value_vars' are not present in the DataFrame: ['Nov_Cued', 'Nov_Un']\"",
     "output_type": "error",
     "traceback": [
      "\u001b[0;31m-------------------------------------------------------------------------\u001b[0m",
      "\u001b[0;31mKeyError\u001b[0m                                Traceback (most recent call last)",
      "\u001b[0;32m<ipython-input-36-9599ca0ff2da>\u001b[0m in \u001b[0;36m<module>\u001b[0;34m\u001b[0m\n\u001b[1;32m     22\u001b[0m \u001b[0;34m\u001b[0m\u001b[0m\n\u001b[1;32m     23\u001b[0m     \u001b[0;31m# melt/restructure the data\u001b[0m\u001b[0;34m\u001b[0m\u001b[0;34m\u001b[0m\u001b[0;34m\u001b[0m\u001b[0m\n\u001b[0;32m---> 24\u001b[0;31m     \u001b[0mgroup_melt\u001b[0m \u001b[0;34m=\u001b[0m \u001b[0mpd\u001b[0m\u001b[0;34m.\u001b[0m\u001b[0mmelt\u001b[0m\u001b[0;34m(\u001b[0m\u001b[0mgroup\u001b[0m\u001b[0;34m.\u001b[0m\u001b[0mreset_index\u001b[0m\u001b[0;34m(\u001b[0m\u001b[0;34m)\u001b[0m\u001b[0;34m,\u001b[0m \u001b[0mid_vars\u001b[0m\u001b[0;34m=\u001b[0m\u001b[0;34m[\u001b[0m\u001b[0;34m'UniqueID'\u001b[0m\u001b[0;34m,\u001b[0m\u001b[0;34m'Trial'\u001b[0m\u001b[0;34m]\u001b[0m\u001b[0;34m,\u001b[0m \u001b[0mvalue_vars\u001b[0m\u001b[0;34m=\u001b[0m\u001b[0;34m[\u001b[0m\u001b[0;34m'Category'\u001b[0m\u001b[0;34m,\u001b[0m \u001b[0;34m'Full'\u001b[0m\u001b[0;34m,\u001b[0m\u001b[0;34m'None'\u001b[0m\u001b[0;34m,\u001b[0m\u001b[0;34m'Nov_Un'\u001b[0m\u001b[0;34m,\u001b[0m \u001b[0;34m'Nov_Cued'\u001b[0m\u001b[0;34m,\u001b[0m\u001b[0;34m'Side'\u001b[0m\u001b[0;34m]\u001b[0m\u001b[0;34m)\u001b[0m\u001b[0;34m\u001b[0m\u001b[0;34m\u001b[0m\u001b[0m\n\u001b[0m\u001b[1;32m     25\u001b[0m \u001b[0;34m\u001b[0m\u001b[0m\n\u001b[1;32m     26\u001b[0m     \u001b[0;31m# assign data to dictionary key\u001b[0m\u001b[0;34m\u001b[0m\u001b[0;34m\u001b[0m\u001b[0;34m\u001b[0m\u001b[0m\n",
      "\u001b[0;32m/usr/local/lib/python3.7/site-packages/pandas/core/reshape/melt.py\u001b[0m in \u001b[0;36mmelt\u001b[0;34m(frame, id_vars, value_vars, var_name, value_name, col_level)\u001b[0m\n\u001b[1;32m     72\u001b[0m                     \u001b[0;34m\"The following 'value_vars' are not present in\"\u001b[0m\u001b[0;34m\u001b[0m\u001b[0;34m\u001b[0m\u001b[0m\n\u001b[1;32m     73\u001b[0m                     \u001b[0;34m\" the DataFrame: {missing}\"\u001b[0m\u001b[0;34m\u001b[0m\u001b[0;34m\u001b[0m\u001b[0m\n\u001b[0;32m---> 74\u001b[0;31m                     \u001b[0;34m\"\"\u001b[0m\u001b[0;34m.\u001b[0m\u001b[0mformat\u001b[0m\u001b[0;34m(\u001b[0m\u001b[0mmissing\u001b[0m\u001b[0;34m=\u001b[0m\u001b[0mlist\u001b[0m\u001b[0;34m(\u001b[0m\u001b[0mmissing\u001b[0m\u001b[0;34m)\u001b[0m\u001b[0;34m)\u001b[0m\u001b[0;34m\u001b[0m\u001b[0;34m\u001b[0m\u001b[0m\n\u001b[0m\u001b[1;32m     75\u001b[0m                 )\n\u001b[1;32m     76\u001b[0m         \u001b[0mframe\u001b[0m \u001b[0;34m=\u001b[0m \u001b[0mframe\u001b[0m\u001b[0;34m.\u001b[0m\u001b[0mloc\u001b[0m\u001b[0;34m[\u001b[0m\u001b[0;34m:\u001b[0m\u001b[0;34m,\u001b[0m \u001b[0mid_vars\u001b[0m \u001b[0;34m+\u001b[0m \u001b[0mvalue_vars\u001b[0m\u001b[0;34m]\u001b[0m\u001b[0;34m\u001b[0m\u001b[0;34m\u001b[0m\u001b[0m\n",
      "\u001b[0;31mKeyError\u001b[0m: \"The following 'value_vars' are not present in the DataFrame: ['Nov_Cued', 'Nov_Un']\""
     ]
    }
   ],
   "source": [
    "plot_data = {}\n",
    "    \n",
    "# Apply sliding window\n",
    "\n",
    "window_length = 20\n",
    "\n",
    "exp1_mean_window = apply_window(data_original[(data_original['Experiment']=='/sustain')], window_length)\n",
    "exp2_mean_window = apply_window(data_original[(data_original['Experiment']=='/variabl')], window_length)\n",
    "print('finish')\n",
    "\n",
    "# end up with two dictionaries (one for each exp) each containing two keys ( for groups 1 & 2) \n",
    "\n",
    "    \n",
    "for data,label in zip([exp1_mean_window, exp2_mean_window], ['sust', 'var']):\n",
    "\n",
    "    plot_data[label] = {}\n",
    "\n",
    "    #for key in data.keys():\n",
    "\n",
    "    # average across all trials within each subject\n",
    "    group = data.reset_index().groupby(['UniqueID','Trial']).mean()\n",
    "\n",
    "    # melt/restructure the data\n",
    "    group_melt = pd.melt(group.reset_index(), id_vars=['UniqueID','Trial'], value_vars=['Category', 'Full','None','Nov_Un', 'Nov_Cued','Side'])\n",
    "\n",
    "    # assign data to dictionary key\n",
    "    plot_data[label] = group_melt\n",
    "\n",
    "    # plotting color key\n",
    "    palette = sb.color_palette(\"RdBu\", 20)\n",
    "\n",
    "    \n",
    "          \n",
    "# for data in [exp1_mean_window, exp2_mean_window]:\n",
    "\n",
    "#     plot_data = {}\n",
    "\n",
    "#     for key in data.keys():\n",
    "\n",
    "#         # average across all trials within each subject\n",
    "#         group = data.reset_index().groupby(['UniqueID','Trial']).mean()\n",
    "\n",
    "#         # melt/restructure the data\n",
    "#         group_melt = pd.melt(group.reset_index(), id_vars=['UniqueID','Trial'], value_vars=['Category', 'Full','None','Nov_Un', 'Nov_Cued','Side'])\n",
    "\n",
    "#         # assign data to dictionary key\n",
    "#         plot_data[key] = group_melt\n",
    "\n",
    "#     # plotting color key\n",
    "#     palette = sb.color_palette(\"RdBu\", 20)\n",
    "#     # Cued category    -->  warm colors \n",
    "#     # Uncued category  -->  cool colors"
   ]
  },
  {
   "cell_type": "code",
   "execution_count": 37,
   "metadata": {},
   "outputs": [],
   "source": [
    "palette = sb.color_palette(\"RdBu\", 20)"
   ]
  },
  {
   "cell_type": "code",
   "execution_count": 38,
   "metadata": {},
   "outputs": [
    {
     "data": {
      "text/plain": [
       "dict_keys(['sust'])"
      ]
     },
     "execution_count": 38,
     "metadata": {},
     "output_type": "execute_result"
    }
   ],
   "source": [
    "plot_data.keys()"
   ]
  },
  {
   "cell_type": "markdown",
   "metadata": {},
   "source": [
    "## Sliding Window - Familiarity Over Time"
   ]
  },
  {
   "cell_type": "markdown",
   "metadata": {},
   "source": [
    "### Sliding Window - Novel Images"
   ]
  },
  {
   "cell_type": "code",
   "execution_count": 39,
   "metadata": {},
   "outputs": [
    {
     "name": "stdout",
     "output_type": "stream",
     "text": [
      "sust Sliding Window - Novel Images Only\n"
     ]
    },
    {
     "ename": "KeyError",
     "evalue": "'Attention Level'",
     "output_type": "error",
     "traceback": [
      "\u001b[0;31m-------------------------------------------------------------------------\u001b[0m",
      "\u001b[0;31mKeyError\u001b[0m                                Traceback (most recent call last)",
      "\u001b[0;32m<ipython-input-39-01397428bba0>\u001b[0m in \u001b[0;36m<module>\u001b[0;34m\u001b[0m\n\u001b[1;32m     11\u001b[0m     \u001b[0;31m# plot data\u001b[0m\u001b[0;34m\u001b[0m\u001b[0;34m\u001b[0m\u001b[0;34m\u001b[0m\u001b[0m\n\u001b[1;32m     12\u001b[0m     ax = sb.lineplot(x='Trial',y='value', hue = 'Attention Level', \n\u001b[0;32m---> 13\u001b[0;31m                 \u001b[0mdata\u001b[0m \u001b[0;34m=\u001b[0m \u001b[0mdata\u001b[0m\u001b[0;34m[\u001b[0m\u001b[0mdata\u001b[0m\u001b[0;34m[\u001b[0m\u001b[0;34m'Attention Level'\u001b[0m\u001b[0;34m]\u001b[0m\u001b[0;34m.\u001b[0m\u001b[0misin\u001b[0m\u001b[0;34m(\u001b[0m\u001b[0;34m[\u001b[0m\u001b[0;34m'Nov_Un'\u001b[0m\u001b[0;34m,\u001b[0m\u001b[0;34m'Nov_Cued'\u001b[0m\u001b[0;34m]\u001b[0m\u001b[0;34m)\u001b[0m\u001b[0;34m]\u001b[0m\u001b[0;34m,\u001b[0m \u001b[0;31m# ci=None,\u001b[0m\u001b[0;34m\u001b[0m\u001b[0;34m\u001b[0m\u001b[0m\n\u001b[0m\u001b[1;32m     14\u001b[0m                 palette = {\"Full\": palette[0], \"Category\": palette[3], \"Nov_Cued\":palette[5], \n\u001b[1;32m     15\u001b[0m                             \"Side\": palette[19], \"None\": palette[16], \"Nov_Un\":palette[13]})\n",
      "\u001b[0;31mKeyError\u001b[0m: 'Attention Level'"
     ]
    }
   ],
   "source": [
    "import scipy\n",
    "\n",
    "sb.set_style(\"white\")\n",
    "\n",
    "for key in plot_data.keys():\n",
    "    \n",
    "    print(key + ' Sliding Window - Novel Images Only')\n",
    "\n",
    "    data = plot_data[key]\n",
    "\n",
    "    # plot data\n",
    "    ax = sb.lineplot(x='Trial',y='value', hue = 'Attention Level', \n",
    "                data = data[data['Attention Level'].isin(['Nov_Un','Nov_Cued'])], # ci=None,\n",
    "                palette = {\"Full\": palette[0], \"Category\": palette[3], \"Nov_Cued\":palette[5], \n",
    "                            \"Side\": palette[19], \"None\": palette[16], \"Nov_Un\":palette[13]})\n",
    "    ax.set(ylim=(1.3, 2.3))\n",
    "    ax.set(xlim=(0, 39))\n",
    "\n",
    "    plt.grid(False)\n",
    "    plt.rc('xtick', labelsize=15)\n",
    "    plt.rc('ytick', labelsize=15)\n",
    "    plt.xlabel('Attention Level',    fontsize = 20)\n",
    "    plt.ylabel('Familiarity Rating', fontsize = 20)\n",
    "\n",
    "    plt.xlabel('Memory Trial')\n",
    "    plt.ylabel('Familiarity')\n",
    "\n",
    "    # ttest at each timepoint ######################\n",
    "    ttest_data = timepoint_ttest(data, ['Nov_Cued','Nov_Un'])\n",
    "\n",
    "    # add lines where pvalue is significant\n",
    "    index = ttest_data[(ttest_data['Attention Level']=='Nov_Un') & (ttest_data['timepoint_t_truth']==True)]['Trial'].tolist()\n",
    "    index = set(index)\n",
    "\n",
    "    for x in ranges(index):\n",
    "\n",
    "        if x[0] == x[1]:\n",
    "            x_new_0 = x[0]-.1\n",
    "            x_new_1 = x[1]+.1\n",
    "\n",
    "            plt.axhline( y=1.41, xmin=x_new_0*(1/39), xmax=x_new_1*(1/39), color=palette[13])\n",
    "            plt.axhline( y=1.4, xmin=x_new_0*(1/39), xmax=x_new_1*(1/39), color=palette[5])\n",
    "\n",
    "        plt.axhline( y=1.41, xmin=x[0]*(1/39), xmax=x[1]*(1/39), color=palette[13])\n",
    "        plt.axhline( y=1.4, xmin=x[0]*(1/39), xmax=x[1]*(1/39), color=palette[5])\n",
    "        # plt.axvline(x, .1, .3, color='red')\n",
    "\n",
    "    plt.xticks([0, 9, 19, 29, 39])\n",
    "\n",
    "    plt.savefig(label+\"novel_time.pdf\")\n",
    "    plt.show()    \n",
    "\n",
    "\n"
   ]
  },
  {
   "cell_type": "markdown",
   "metadata": {},
   "source": [
    "### Novel Image Difference Scores"
   ]
  },
  {
   "cell_type": "code",
   "execution_count": null,
   "metadata": {
    "scrolled": true
   },
   "outputs": [],
   "source": [
    "sb.set_style(\"white\")\n",
    "\n",
    "for key in plot_data.keys():\n",
    "\n",
    "    print(key + ' Group : Sliding Window - Novel Images Only')\n",
    "\n",
    "    # exp = plot_data[key][label]\n",
    "\n",
    "    trial_avs = plot_data[key].groupby(['Trial','Attention Level','UniqueID'], as_index=False).mean()\n",
    "    trial_avs['Nov_Diffs'] = np.nan\n",
    "\n",
    "    for s in trial_avs['UniqueID'].unique():\n",
    "        for t in trial_avs['Trial'].unique():\n",
    "\n",
    "            first  = trial_avs[(trial_avs['Attention Level']=='Nov_Cued') \n",
    "                               & (trial_avs['Trial']==t)\n",
    "                              & (trial_avs['UniqueID']==s)]['value'].item()\n",
    "\n",
    "            second = trial_avs[(trial_avs['Attention Level']=='Nov_Un'  ) \n",
    "                               & (trial_avs['Trial']==t)\n",
    "                              & (trial_avs['UniqueID']==s)]['value'].item()\n",
    "\n",
    "            difference = first - second\n",
    "\n",
    "            trial_avs.loc[(trial_avs['Trial']==t) & (trial_avs['UniqueID']==s),'Nov_Diffs'] = first - second\n",
    "\n",
    "    ax = sb.lineplot(x='Trial', y='Nov_Diffs', data=trial_avs)\n",
    "    ax.set(ylim=(-.1, .4))\n",
    "    ax.set(xlim=(0, 39))\n",
    "\n",
    "    sb.regplot(x=\"Trial\", y=\"Nov_Diffs\", data=trial_avs, scatter=False)\n",
    "\n",
    "    trial_av_grp = trial_avs.groupby(['Trial'], as_index=False).mean()\n",
    "    slope, intercept, r_value, p_value, std_err = stats.linregress(trial_avs['Trial'], trial_avs['Nov_Diffs'])\n",
    "\n",
    "    print('slope = ' + str(slope))\n",
    "    print('intercept = ' + str(intercept))\n",
    "    print('p_value = ' + str(p_value))\n",
    "    print()\n",
    "\n",
    "    plt.grid(False)\n",
    "    plt.rc('xtick', labelsize=15)\n",
    "    plt.rc('ytick', labelsize=15)\n",
    "    plt.xlabel('Attention Level',    fontsize = 20)\n",
    "    plt.ylabel('Familiarity Rating', fontsize = 20)\n",
    "\n",
    "    plt.xlabel('Memory Trial')\n",
    "    plt.ylabel('Familiarity Difference')\n",
    "    # plt.savefig(exp+\"_novel_diff.pdf\")\n",
    "\n",
    "    #print(exp)\n",
    "    plt.show()\n"
   ]
  },
  {
   "cell_type": "markdown",
   "metadata": {},
   "source": [
    "### Uncued Category images\n"
   ]
  },
  {
   "cell_type": "code",
   "execution_count": null,
   "metadata": {},
   "outputs": [],
   "source": [
    "import scipy\n",
    "\n",
    "sb.set_style(\"white\")\n",
    "\n",
    "for key in plot_data.keys():\n",
    "    \n",
    "    print(key + ': Sliding Window - Novel Images Only')\n",
    "\n",
    "    data = plot_data[key]\n",
    "\n",
    "    # plot data\n",
    "    ax = sb.lineplot(x='Trial',y='value', hue = 'Attention Level', \n",
    "                data = data[data['Attention Level'].isin(['Side','None','Nov_Un'])], # ci=None,\n",
    "                    palette = {\"Full\": palette[0], \"Category\": palette[3], \"Nov_Cued\":palette[5], \n",
    "                            \"Side\": palette[19], \"None\": palette[16], \"Nov_Un\":palette[13], 'Novel':'black'}) \n",
    "    plt.legend(bbox_to_anchor=(1.05, 1), loc=2, borderaxespad=0.)\n",
    "    ax.set(ylim=(1.2, 2.8))\n",
    "    ax.set(xlim=(0, 39))\n",
    "\n",
    "\n",
    "    # stats test\n",
    "    data = data[data['Attention Level'].isin(['Side','None','Nov_Un'])]\n",
    "\n",
    "    #ttest at each timepoint #################\n",
    "    ttest_data = timepoint_ttest(data, ['Side','Nov_Un'])#, related=False)\n",
    "\n",
    "    # lines w/ sig pval #######################\n",
    "    index = ttest_data[(ttest_data['Attention Level']=='Nov_Un') & (ttest_data['timepoint_t_truth']==True)]['Trial'].tolist()\n",
    "    index = set(index)\n",
    "\n",
    "\n",
    "    for x in ranges(index):\n",
    "        if x[0] == x[1]:\n",
    "            x_new_0 = x[0]-.1\n",
    "            x_new_1 = x[1]+.1\n",
    "\n",
    "            plt.axhline( y=1.32, xmin=x_new_0*(1/39), xmax=x_new_1*(1/39), color=palette[19])\n",
    "            plt.axhline( y=1.3, xmin=x_new_0*(1/39), xmax=x_new_1*(1/39), color=palette[13])\n",
    "\n",
    "        else:\n",
    "            plt.axhline( y=1.32, xmin=x[0]*(1/39), xmax=x[1]*(1/39), color=palette[19])\n",
    "            plt.axhline( y=1.3, xmin=x[0]*(1/39), xmax=x[1]*(1/39), color=palette[13])\n",
    "\n",
    "\n",
    "        # ttest at each timepoint #################\n",
    "        ttest_data = timepoint_ttest(data, ['Side','None'])\n",
    "\n",
    "        # lines w/ sig pval #######################\n",
    "        index = ttest_data[(ttest_data['Attention Level']=='Side') & (ttest_data['timepoint_t_truth']==True)]['Trial'].tolist()\n",
    "        index = set(index)\n",
    "\n",
    "        for x in ranges(index):\n",
    "            if x[0] == x[1]:\n",
    "                x_new_0 = x[0]-.1\n",
    "                x_new_1 = x[1]+.1\n",
    "\n",
    "                plt.axhline( y=1.42, xmin=x_new_0*(1/39), xmax=x_new_1*(1/39), color=palette[19])\n",
    "                plt.axhline( y=1.4, xmin=x_new_0*(1/39), xmax=x_new_1*(1/39), color=palette[16])\n",
    "\n",
    "            else:\n",
    "                plt.axhline( y=1.42, xmin=x[0]*(1/39), xmax=x[1]*(1/39), color=palette[19])\n",
    "                plt.axhline( y=1.4, xmin=x[0]*(1/39), xmax=x[1]*(1/39), color=palette[16])\n",
    "\n",
    "        # ttest at each timepoint #################\n",
    "        ttest_data = timepoint_ttest(data, ['Nov_Un','None'])#, related=False)\n",
    "\n",
    "        # lines w/ sig pval #######################\n",
    "        index = ttest_data[(ttest_data['Attention Level']=='Nov_Un') & (ttest_data['timepoint_t_truth']==True)]['Trial'].tolist()\n",
    "        index = set(index)\n",
    "\n",
    "        for x in ranges(index):\n",
    "\n",
    "            if x[0] == x[1]:\n",
    "                x_new_0 = x[0]-.1\n",
    "                x_new_1 = x[1]+.1\n",
    "\n",
    "                plt.axhline( y=1.52, xmin=x_new_0*(1/39), xmax=x_new_1*(1/39), color=palette[16])\n",
    "                plt.axhline( y=1.5, xmin=x_new_0*(1/39), xmax=x_new_1*(1/39), color=palette[13])\n",
    "\n",
    "            else:\n",
    "                plt.axhline( y=1.52, xmin=x[0]*(1/39), xmax=x[1]*(1/39), color=palette[16])\n",
    "                plt.axhline( y=1.5, xmin=x[0]*(1/39), xmax=x[1]*(1/39), color=palette[13])\n",
    "\n",
    "\n",
    "        plt.xticks([0, 9, 19, 29, 39])\n",
    "\n",
    "        plt.savefig(label+\"_uncued_categories.pdf\")\n",
    "        plt.show()\n"
   ]
  },
  {
   "cell_type": "markdown",
   "metadata": {},
   "source": [
    "### Sliding Window - Images in Cued Category"
   ]
  },
  {
   "cell_type": "code",
   "execution_count": null,
   "metadata": {
    "scrolled": false
   },
   "outputs": [],
   "source": [
    "import scipy\n",
    "\n",
    "sb.set_style(\"white\")\n",
    "\n",
    "for key in plot_data.keys():\n",
    "    \n",
    "    print(key + ': Sliding Window - Novel Images Only')\n",
    "\n",
    "    data = plot_data[key]\n",
    "\n",
    "    # plot ####################################\n",
    "    ax = sb.lineplot(x='Trial',y='value', hue = 'Attention Level', \n",
    "                data = data[data['Attention Level'].isin(['Full', 'Nov_Cued', 'Category'])], # 'Category', # ci=None,\n",
    "                    palette = {\"Full\": palette[0], \"Category\": palette[3], \"Nov_Cued\":palette[5], \n",
    "                            \"Side\": palette[19], \"None\": palette[16], \"Nov_Un\":palette[13], \"Novel\":\"black\"})\n",
    "\n",
    "    plt.legend(bbox_to_anchor=(1.05, 1), loc=2, borderaxespad=0.)\n",
    "    ax.set(ylim=(1.25, 2.75))\n",
    "    ax.set(xlim=(0, 39))\n",
    "\n",
    "    #ttest at each timepoint #################\n",
    "    ttest_data = timepoint_ttest(data, ['Category','Nov_Cued'])#, related=False)    \n",
    "\n",
    "    # lines w/ sig pval #######################\n",
    "    index = ttest_data[(ttest_data['Attention Level']=='Nov_Cued') & (ttest_data['timepoint_t_truth']==True)]['Trial'].tolist()\n",
    "    index = set(index)\n",
    "\n",
    "    for x in ranges(index):\n",
    "\n",
    "        if x[0] == x[1]:\n",
    "            x_new_0 = x[0]-.1\n",
    "            x_new_1 = x[1]+.1\n",
    "\n",
    "            plt.axhline( y=1.32, xmin=x_new_0*(1/39), xmax=x_new_1*(1/39), color=palette[3])\n",
    "            plt.axhline( y=1.3, xmin=x_new_0*(1/39), xmax=x_new_1*(1/39), color=palette[5])\n",
    "\n",
    "        plt.axhline( y=1.32, xmin=x[0]*(1/39), xmax=x[1]*(1/39), color=palette[3])\n",
    "        plt.axhline( y=1.3, xmin=x[0]*(1/39), xmax=x[1]*(1/39), color=palette[5])\n",
    "\n",
    "\n",
    "    # ttest at each timepoint #################\n",
    "    ttest_data = timepoint_ttest(data, ['Category','Full'])\n",
    "\n",
    "    # lines w/ sig pval #######################\n",
    "    index = ttest_data[(ttest_data['Attention Level']=='Category') & (ttest_data['timepoint_t_truth']==True)]['Trial'].tolist()\n",
    "    index = set(index)\n",
    "\n",
    "    for x in ranges(index):\n",
    "\n",
    "        if x[0] == x[1]:\n",
    "            x_new_0 = x[0]-.1\n",
    "            x_new_1 = x[1]+.1\n",
    "\n",
    "            plt.axhline( y=1.52, xmin=x_new_0*(1/39), xmax=x_new_1*(1/39), color=palette[0])\n",
    "            plt.axhline( y=1.5, xmin=x_new_0*(1/39), xmax=x_new_1*(1/39), color=palette[3])\n",
    "\n",
    "\n",
    "        plt.axhline( y=1.52, xmin=x[0]*(1/39), xmax=x[1]*(1/39), color=palette[0])\n",
    "        plt.axhline( y=1.5, xmin=x[0]*(1/39), xmax=x[1]*(1/39), color=palette[3])\n",
    "\n",
    "\n",
    "    # ttest at each timepoint #################\n",
    "    ttest_data = timepoint_ttest(data, ['Nov_Cued','Full'])\n",
    "\n",
    "    # lines w/ sig pval #######################\n",
    "    index = ttest_data[(ttest_data['Attention Level']=='Full') & (ttest_data['timepoint_t_truth']==True)]['Trial'].tolist()\n",
    "    index = set(index)\n",
    "\n",
    "    for x in ranges(index):\n",
    "\n",
    "        if x[0] == x[1]:\n",
    "            x_new_0 = x[0]-.1\n",
    "            x_new_1 = x[1]+.1\n",
    "\n",
    "            plt.axhline( y=1.42, xmin=x_new_0*(1/39), xmax=x_new_1*(1/39), color=palette[0])\n",
    "            plt.axhline( y=1.4, xmin=x_new_0*(1/39), xmax=x_new_1*(1/39), color=palette[5])\n",
    "\n",
    "        plt.axhline( y=1.42, xmin=x[0]*(1/39), xmax=x[1]*(1/39), color=palette[0])\n",
    "        plt.axhline( y=1.4, xmin=x[0]*(1/39), xmax=x[1]*(1/39), color=palette[5])\n",
    "\n",
    "    # plot settings & save ####################\n",
    "    plt.grid(False)\n",
    "    plt.rc('xtick', labelsize=15)\n",
    "    plt.rc('ytick', labelsize=15)\n",
    "    plt.xlabel('Attention Level',    fontsize = 20)\n",
    "    plt.ylabel('Familiarity Rating', fontsize = 20)\n",
    "\n",
    "    plt.xticks([0, 9, 19, 29, 39])\n",
    "\n",
    "    plt.savefig(label+\"cued_categories.pdf\")\n",
    "\n",
    "    plt.show()\n",
    "    "
   ]
  },
  {
   "cell_type": "code",
   "execution_count": null,
   "metadata": {},
   "outputs": [],
   "source": [
    "data_nov"
   ]
  },
  {
   "cell_type": "code",
   "execution_count": null,
   "metadata": {},
   "outputs": [],
   "source": [
    "# Apply sliding window\n",
    "window_length = 20\n",
    "\n",
    "plot_data = {}\n",
    "    \n",
    "# Apply sliding window\n",
    "\n",
    "window_length = 20\n",
    "\n",
    "exp1_mean_window = apply_window(data_original[(data_original['Experiment']=='/sustain')], window_length)\n",
    "exp2_mean_window = apply_window(data_original[(data_original['Experiment']=='/variabl')], window_length)\n",
    "print('finish')\n",
    "\n",
    "# end up with two dictionaries (one for each exp) each containing two keys ( for groups 1 & 2) \n",
    "\n",
    "        \n",
    "for data,label in zip([exp1_mean_window, exp2_mean_window], ['sust', 'var']):\n",
    "\n",
    "    plot_data[label] = {}\n",
    "\n",
    "    #for key in data.keys():\n",
    "\n",
    "    # average across all trials within each subject\n",
    "    group = data.reset_index().groupby(['UniqueID','Trial']).mean()\n",
    "\n",
    "    # melt/restructure the data\n",
    "    group_melt = pd.melt(group.reset_index(), id_vars=['UniqueID','Trial'], value_vars=['Category', 'Full','None','Nov_Un', 'Nov_Cued','Side'])\n",
    "\n",
    "    # assign data to dictionary key\n",
    "    plot_data[label] = group_melt\n",
    "\n",
    "    # plotting color key\n",
    "    palette = sb.color_palette(\"RdBu\", 20)\n",
    "    # Cued category    -->  warm colors \n",
    "    # Uncued category  -->  cool colors\n",
    "    \n",
    "\n",
    "\n",
    "\n",
    "# # Apply sliding window\n",
    "# window_length = 20\n",
    "\n",
    "# exp1_nov_mean_window = apply_window(data_nov['/sustain'], window_length)\n",
    "# exp2_nov_mean_window = apply_window(data_nov['/variabl'], window_length)\n",
    "\n",
    "# # prepare data for plotting\n",
    "# plot_data_nov={}\n",
    "\n",
    "# for data,key in zip([exp1_nov_mean_window, exp2_nov_mean_window],['exp1','exp2']):\n",
    "    \n",
    "#     # average across all trials within each subject\n",
    "#     group = data.reset_index().groupby(['Subject','Trial']).mean()\n",
    "    \n",
    "#     # melt/restructure the data\n",
    "#     group_melt = pd.melt(group.reset_index(), id_vars=['Subject','Trial'], \n",
    "#                          value_vars=['Category', 'Full','None','Novel','Side'])\n",
    "    \n",
    "#     # assign data to dictionary key\n",
    "#     plot_data_nov[key] = group_melt\n",
    "    \n",
    "# # plotting color key\n",
    "# palette = sb.color_palette(\"RdBu\", 20)\n",
    "# # Cued category    -->  warm colors \n",
    "# # Uncued category  -->  cool colors"
   ]
  },
  {
   "cell_type": "code",
   "execution_count": null,
   "metadata": {},
   "outputs": [],
   "source": [
    "#plot_data_nov['exp1']['Attention Level'].unique()"
   ]
  },
  {
   "cell_type": "code",
   "execution_count": null,
   "metadata": {},
   "outputs": [],
   "source": [
    "# import scipy\n",
    "\n",
    "# sb.set_style(\"white\")\n",
    "\n",
    "# for key in plot_data.keys():\n",
    "    \n",
    "#     for label in ['1','2']:\n",
    "    \n",
    "#         print(key + ' Group '+ label + ': Sliding Window - Novel Images Only')\n",
    "\n",
    "#         data = plot_data[key][label]\n",
    "    \n",
    "#         # plot ####################################\n",
    "#         ax = sb.lineplot(x='Trial',y='value', hue = 'Attention Level', \n",
    "#                     data = data[data['Attention Level'].isin(['Full', 'Novel', 'Category'])], # 'Category', # ci=None,\n",
    "#                         palette = {\"Full\": palette[0], \"Category\": palette[3], \"Nov_Cued\":palette[5], \n",
    "#                                 \"Side\": palette[19], \"None\": palette[16], \"Nov_Un\":palette[13], \"Novel\":\"black\"})\n",
    "\n",
    "#         plt.legend(bbox_to_anchor=(1.05, 1), loc=2, borderaxespad=0.)\n",
    "#         ax.set(ylim=(1.25, 2.75))\n",
    "#         ax.set(xlim=(0, 39))\n",
    "\n",
    "#         #ttest at each timepoint #################\n",
    "#         ttest_data = timepoint_ttest(data, ['Category','Novel'])#, related=False)    \n",
    "\n",
    "#         # lines w/ sig pval #######################\n",
    "#         index = ttest_data[(ttest_data['Attention Level']=='Novel') & (ttest_data['timepoint_t_truth']==True)]['Trial'].tolist()\n",
    "#         index = set(index)\n",
    "\n",
    "#         for x in ranges(index):\n",
    "\n",
    "#             if x[0] == x[1]:\n",
    "#                 x_new_0 = x[0]-.1\n",
    "#                 x_new_1 = x[1]+.1\n",
    "\n",
    "#                 plt.axhline( y=1.32, xmin=x_new_0*(1/39), xmax=x_new_1*(1/39), color=palette[3])\n",
    "#                 plt.axhline( y=1.3, xmin=x_new_0*(1/39), xmax=x_new_1*(1/39), color=palette[5])\n",
    "\n",
    "#             plt.axhline( y=1.32, xmin=x[0]*(1/39), xmax=x[1]*(1/39), color=palette[3])\n",
    "#             plt.axhline( y=1.3, xmin=x[0]*(1/39), xmax=x[1]*(1/39), color=palette[5])\n",
    "\n",
    "\n",
    "#         # ttest at each timepoint #################\n",
    "#         ttest_data = timepoint_ttest(data, ['Category','Full'])\n",
    "\n",
    "#         # lines w/ sig pval #######################\n",
    "#         index = ttest_data[(ttest_data['Attention Level']=='Category') & (ttest_data['timepoint_t_truth']==True)]['Trial'].tolist()\n",
    "#         index = set(index)\n",
    "\n",
    "#         for x in ranges(index):\n",
    "\n",
    "#             if x[0] == x[1]:\n",
    "#                 x_new_0 = x[0]-.1\n",
    "#                 x_new_1 = x[1]+.1\n",
    "\n",
    "#                 plt.axhline( y=1.52, xmin=x_new_0*(1/39), xmax=x_new_1*(1/39), color=palette[0])\n",
    "#                 plt.axhline( y=1.5, xmin=x_new_0*(1/39), xmax=x_new_1*(1/39), color=palette[3])\n",
    "\n",
    "\n",
    "#             plt.axhline( y=1.52, xmin=x[0]*(1/39), xmax=x[1]*(1/39), color=palette[0])\n",
    "#             plt.axhline( y=1.5, xmin=x[0]*(1/39), xmax=x[1]*(1/39), color=palette[3])\n",
    "\n",
    "\n",
    "#         # ttest at each timepoint #################\n",
    "#         ttest_data = timepoint_ttest(data, ['Novel','Full'])\n",
    "\n",
    "#         # lines w/ sig pval #######################\n",
    "#         index = ttest_data[(ttest_data['Attention Level']=='Full') & (ttest_data['timepoint_t_truth']==True)]['Trial'].tolist()\n",
    "#         index = set(index)\n",
    "\n",
    "#         for x in ranges(index):\n",
    "\n",
    "#             if x[0] == x[1]:\n",
    "#                 x_new_0 = x[0]-.1\n",
    "#                 x_new_1 = x[1]+.1\n",
    "\n",
    "#                 plt.axhline( y=1.42, xmin=x_new_0*(1/39), xmax=x_new_1*(1/39), color=palette[0])\n",
    "#                 plt.axhline( y=1.4, xmin=x_new_0*(1/39), xmax=x_new_1*(1/39), color=palette[5])\n",
    "\n",
    "#             plt.axhline( y=1.42, xmin=x[0]*(1/39), xmax=x[1]*(1/39), color=palette[0])\n",
    "#             plt.axhline( y=1.4, xmin=x[0]*(1/39), xmax=x[1]*(1/39), color=palette[5])\n",
    "\n",
    "#         # plot settings & save ####################\n",
    "#         plt.grid(False)\n",
    "#         plt.rc('xtick', labelsize=15)\n",
    "#         plt.rc('ytick', labelsize=15)\n",
    "#         plt.xlabel('Attention Level',    fontsize = 20)\n",
    "#         plt.ylabel('Familiarity Rating', fontsize = 20)\n",
    "\n",
    "#         plt.xticks([0, 9, 19, 29, 39])\n",
    "\n",
    "#         plt.savefig(label+\"cued_categories.pdf\")\n",
    "\n",
    "#         plt.show()\n"
   ]
  },
  {
   "cell_type": "code",
   "execution_count": null,
   "metadata": {},
   "outputs": [],
   "source": [
    "# sb.set_style(\"white\")\n",
    "\n",
    "# for key,label in zip(plot_data_nov.keys(),['Experiment 1','Experiment 2']):\n",
    "    \n",
    "#     print(label + ': Sliding Window - Uncued Category Images')\n",
    "    \n",
    "#     data = plot_data_nov[key]\n",
    "    \n",
    "#     # plot data\n",
    "#     ax = sb.lineplot(x='Trial',y='value', hue = 'Attention Level', \n",
    "#                 data = data[data['Attention Level'].isin(['Side','None','Novel'])], # ci=None,\n",
    "#                     palette = {\"Full\": palette[0], \"Category\": palette[3], \"Nov_Cued\":palette[5], \n",
    "#                             \"Side\": palette[19], \"None\": palette[16], \"Nov_Un\":palette[13], 'Novel':'black'}) \n",
    "#     plt.legend(bbox_to_anchor=(1.05, 1), loc=2, borderaxespad=0.)\n",
    "#     ax.set(ylim=(1.2, 2.8))\n",
    "#     ax.set(xlim=(0, 39))\n",
    "\n",
    "    \n",
    "#     # stats test\n",
    "#     data = data[data['Attention Level'].isin(['Side','None','Novel'])]\n",
    "    \n",
    "#     #ttest at each timepoint #################\n",
    "#     ttest_data = timepoint_ttest(data, ['Side','Novel'])#, related=False)\n",
    "    \n",
    "#     # lines w/ sig pval #######################\n",
    "#     index = ttest_data[(ttest_data['Attention Level']=='Novel') & (ttest_data['timepoint_t_truth']==True)]['Trial'].tolist()\n",
    "#     index = set(index)\n",
    "    \n",
    "    \n",
    "#     for x in ranges(index):\n",
    "#         if x[0] == x[1]:\n",
    "#             x_new_0 = x[0]-.1\n",
    "#             x_new_1 = x[1]+.1\n",
    "\n",
    "#             plt.axhline( y=1.32, xmin=x_new_0*(1/39), xmax=x_new_1*(1/39), color=palette[19])\n",
    "#             plt.axhline( y=1.3, xmin=x_new_0*(1/39), xmax=x_new_1*(1/39), color=palette[13])\n",
    "                        \n",
    "#         else:\n",
    "#             plt.axhline( y=1.32, xmin=x[0]*(1/39), xmax=x[1]*(1/39), color=palette[19])\n",
    "#             plt.axhline( y=1.3, xmin=x[0]*(1/39), xmax=x[1]*(1/39), color=palette[13])\n",
    "        \n",
    "        \n",
    "#     # ttest at each timepoint #################\n",
    "#     ttest_data = timepoint_ttest(data, ['Side','None'])\n",
    "    \n",
    "#     # lines w/ sig pval #######################\n",
    "#     index = ttest_data[(ttest_data['Attention Level']=='Side') & (ttest_data['timepoint_t_truth']==True)]['Trial'].tolist()\n",
    "#     index = set(index)\n",
    "    \n",
    "#     for x in ranges(index):\n",
    "#         if x[0] == x[1]:\n",
    "#             x_new_0 = x[0]-.1\n",
    "#             x_new_1 = x[1]+.1\n",
    "\n",
    "#             plt.axhline( y=1.42, xmin=x_new_0*(1/39), xmax=x_new_1*(1/39), color=palette[19])\n",
    "#             plt.axhline( y=1.4, xmin=x_new_0*(1/39), xmax=x_new_1*(1/39), color=palette[16])\n",
    "            \n",
    "#         else:\n",
    "#             plt.axhline( y=1.42, xmin=x[0]*(1/39), xmax=x[1]*(1/39), color=palette[19])\n",
    "#             plt.axhline( y=1.4, xmin=x[0]*(1/39), xmax=x[1]*(1/39), color=palette[16])\n",
    "        \n",
    "#     # ttest at each timepoint #################\n",
    "#     ttest_data = timepoint_ttest(data, ['Novel','None'])#, related=False)\n",
    "    \n",
    "#     # lines w/ sig pval #######################\n",
    "#     index = ttest_data[(ttest_data['Attention Level']=='Novel') & (ttest_data['timepoint_t_truth']==True)]['Trial'].tolist()\n",
    "#     index = set(index)\n",
    "    \n",
    "#     for x in ranges(index):\n",
    "        \n",
    "#         if x[0] == x[1]:\n",
    "#             x_new_0 = x[0]-.1\n",
    "#             x_new_1 = x[1]+.1\n",
    "\n",
    "#             plt.axhline( y=1.52, xmin=x_new_0*(1/39), xmax=x_new_1*(1/39), color=palette[16])\n",
    "#             plt.axhline( y=1.5, xmin=x_new_0*(1/39), xmax=x_new_1*(1/39), color=palette[13])\n",
    "    \n",
    "#         else:\n",
    "#             plt.axhline( y=1.52, xmin=x[0]*(1/39), xmax=x[1]*(1/39), color=palette[16])\n",
    "#             plt.axhline( y=1.5, xmin=x[0]*(1/39), xmax=x[1]*(1/39), color=palette[13])\n",
    "\n",
    "        \n",
    "#     plt.xticks([0, 9, 19, 29, 39])\n",
    "    \n",
    "#     plt.savefig(label+\"_uncued_categories.pdf\")\n",
    "#     plt.show()"
   ]
  },
  {
   "cell_type": "markdown",
   "metadata": {},
   "source": [
    "### Images in Cued Location"
   ]
  },
  {
   "cell_type": "code",
   "execution_count": null,
   "metadata": {},
   "outputs": [],
   "source": [
    "import scipy\n",
    "\n",
    "sb.set_style(\"white\")\n",
    "\n",
    "for key in plot_data.keys():\n",
    "    \n",
    "    print(key + ': Sliding Window - Novel Images Only')\n",
    "\n",
    "    data = plot_data[key]\n",
    "\n",
    "\n",
    "    # plot ####################################\n",
    "    ax = sb.lineplot(x='Trial',y='value', hue = 'Attention Level', \n",
    "                data = data[data['Attention Level'].isin(['Full', 'Side'])], # 'Category', # ci=None,\n",
    "                    palette = {\"Full\": palette[0], \"Category\": palette[3], \"Nov_Cued\":palette[5], \n",
    "                            \"Side\": palette[19], \"None\": palette[16], \"Nov_Un\":palette[13], \"Novel\":\"black\"})\n",
    "\n",
    "    plt.legend(bbox_to_anchor=(1.05, 1), loc=2, borderaxespad=0.)\n",
    "    ax.set(ylim=(1.25, 2.75))\n",
    "    ax.set(xlim=(0, 39))\n",
    "\n",
    "    #ttest at each timepoint #################\n",
    "    ttest_data = timepoint_ttest(data, ['Full','Side'])#, related=False)\n",
    "\n",
    "    # lines w/ sig pval #######################\n",
    "    index = ttest_data[(ttest_data['Attention Level']=='Side') & (ttest_data['timepoint_t_truth']==True)]['Trial'].tolist()\n",
    "    index = set(index)\n",
    "\n",
    "\n",
    "    for x in ranges(index):\n",
    "\n",
    "        if x[0] == x[1]:\n",
    "            x_new_0 = x[0]-.1\n",
    "            x_new_1 = x[1]+.1\n",
    "\n",
    "            plt.axhline( y=1.32, xmin=x_new_0*(1/39), xmax=x_new_1*(1/39), color=palette[0])\n",
    "            plt.axhline( y=1.3, xmin=x_new_0*(1/39), xmax=x_new_1*(1/39), color=palette[19])\n",
    "\n",
    "        plt.axhline( y=1.32, xmin=x[0]*(1/39), xmax=x[1]*(1/39), color=palette[0])\n",
    "        plt.axhline( y=1.3, xmin=x[0]*(1/39), xmax=x[1]*(1/39), color=palette[19])\n",
    "\n",
    "\n",
    "    # plot settings & save ####################\n",
    "    plt.grid(False)\n",
    "    plt.rc('xtick', labelsize=15)\n",
    "    plt.rc('ytick', labelsize=15)\n",
    "    plt.xlabel('Attention Level',    fontsize = 20)\n",
    "    plt.ylabel('Familiarity Rating', fontsize = 20)\n",
    "\n",
    "    plt.xticks([0, 9, 19, 29, 39])\n",
    "\n",
    "    plt.savefig(label+\"_cued_location.pdf\")\n",
    "    plt.show()\n",
    "    "
   ]
  },
  {
   "cell_type": "markdown",
   "metadata": {},
   "source": [
    "### Images in Uncued Location"
   ]
  },
  {
   "cell_type": "code",
   "execution_count": null,
   "metadata": {
    "scrolled": true
   },
   "outputs": [],
   "source": [
    "import scipy\n",
    "\n",
    "sb.set_style(\"white\")\n",
    "\n",
    "for key in plot_data.keys():\n",
    "    \n",
    "    print(key + ': Sliding Window - Novel Images Only')\n",
    "\n",
    "    data = plot_data[key]\n",
    "\n",
    "    # plot ####################################\n",
    "    ax = sb.lineplot(x='Trial',y='value', hue = 'Attention Level', \n",
    "                data = data[data['Attention Level'].isin(['Category', 'None'])], # 'Category', # ci=None,\n",
    "                    palette = {\"Full\": palette[0], \"Category\": palette[3], \"Nov_Cued\":palette[5], \n",
    "                            \"Side\": palette[19], \"None\": palette[16], \"Nov_Un\":palette[13], \"Novel\":\"black\"})\n",
    "\n",
    "    plt.legend(bbox_to_anchor=(1.05, 1), loc=2, borderaxespad=0.)\n",
    "    ax.set(ylim=(1.25, 2.75))\n",
    "    ax.set(xlim=(0, 39))\n",
    "\n",
    "    #ttest at each timepoint #################\n",
    "    ttest_data = timepoint_ttest(data, ['Category','None'])#, related=False)    \n",
    "\n",
    "    # lines w/ sig pval #######################\n",
    "    index = ttest_data[(ttest_data['Attention Level']=='Category') & (ttest_data['timepoint_t_truth']==True)]['Trial'].tolist()\n",
    "    index = set(index)\n",
    "\n",
    "\n",
    "    for x in ranges(index):\n",
    "\n",
    "        if x[0] == x[1]:\n",
    "            x_new_0 = x[0]-.1\n",
    "            x_new_1 = x[1]+.1\n",
    "\n",
    "            plt.axhline( y=1.32, xmin=x_new_0*(1/39), xmax=x_new_1*(1/39), color=palette[3])\n",
    "            plt.axhline( y=1.3, xmin=x_new_0*(1/39), xmax=x_new_1*(1/39), color=palette[16])\n",
    "\n",
    "        plt.axhline( y=1.32, xmin=x[0]*(1/39), xmax=x[1]*(1/39), color=palette[3])\n",
    "        plt.axhline( y=1.3, xmin=x[0]*(1/39), xmax=x[1]*(1/39), color=palette[16])\n",
    "\n",
    "\n",
    "\n",
    "    # plot settings & save ####################\n",
    "    plt.grid(False)\n",
    "    plt.rc('xtick', labelsize=15)\n",
    "    plt.rc('ytick', labelsize=15)\n",
    "    plt.xlabel('Attention Level',    fontsize = 20)\n",
    "    plt.ylabel('Familiarity Rating', fontsize = 20)\n",
    "\n",
    "    plt.xticks([0, 9, 19, 29, 39])\n",
    "\n",
    "    plt.savefig(label+\"_uncued_location.pdf\")\n",
    "\n",
    "    plt.show()\n"
   ]
  },
  {
   "cell_type": "markdown",
   "metadata": {},
   "source": [
    "# Gaze Analysis"
   ]
  },
  {
   "cell_type": "code",
   "execution_count": null,
   "metadata": {},
   "outputs": [],
   "source": [
    "# gaze = pd.read_csv('../parsed_data/full_gaze.csv')"
   ]
  },
  {
   "cell_type": "code",
   "execution_count": null,
   "metadata": {},
   "outputs": [],
   "source": [
    "# gaze.groupby(['Experiment','Group']).mean()"
   ]
  },
  {
   "cell_type": "code",
   "execution_count": null,
   "metadata": {},
   "outputs": [],
   "source": []
  },
  {
   "cell_type": "code",
   "execution_count": null,
   "metadata": {},
   "outputs": [],
   "source": []
  },
  {
   "cell_type": "code",
   "execution_count": null,
   "metadata": {},
   "outputs": [],
   "source": []
  },
  {
   "cell_type": "code",
   "execution_count": null,
   "metadata": {},
   "outputs": [],
   "source": []
  },
  {
   "cell_type": "code",
   "execution_count": null,
   "metadata": {},
   "outputs": [],
   "source": []
  },
  {
   "cell_type": "code",
   "execution_count": null,
   "metadata": {},
   "outputs": [],
   "source": []
  },
  {
   "cell_type": "code",
   "execution_count": null,
   "metadata": {},
   "outputs": [],
   "source": []
  },
  {
   "cell_type": "code",
   "execution_count": null,
   "metadata": {},
   "outputs": [],
   "source": []
  },
  {
   "cell_type": "code",
   "execution_count": null,
   "metadata": {},
   "outputs": [],
   "source": [
    "\n"
   ]
  }
 ],
 "metadata": {
  "kernelspec": {
   "display_name": "Python 3",
   "language": "python",
   "name": "python3"
  },
  "language_info": {
   "codemirror_mode": {
    "name": "ipython",
    "version": 3
   },
   "file_extension": ".py",
   "mimetype": "text/x-python",
   "name": "python",
   "nbconvert_exporter": "python",
   "pygments_lexer": "ipython3",
   "version": "3.7.4"
  }
 },
 "nbformat": 4,
 "nbformat_minor": 2
}
