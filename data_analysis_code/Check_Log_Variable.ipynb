{
 "cells": [
  {
   "cell_type": "markdown",
   "metadata": {},
   "source": [
    "# Imports"
   ]
  },
  {
   "cell_type": "code",
   "execution_count": 1,
   "metadata": {},
   "outputs": [],
   "source": [
    "import pandas as pd; import seaborn as sb; import warnings; import scipy; import re; \n",
    "import os; from analysis_helpers import *; import itertools; from scipy import stats\n",
    "import random; import pandas as pd; import numpy as np; from sklearn import datasets, linear_model; \n",
    "from sklearn.linear_model import LinearRegression; import statsmodels.api as sm\n",
    "from scipy import stats; from itertools import groupby; from operator import itemgetter;\n",
    "import csv; import time\n",
    "warnings.filterwarnings('ignore')\n",
    "%matplotlib inline"
   ]
  },
  {
   "cell_type": "markdown",
   "metadata": {},
   "source": [
    "# Import behavioral data "
   ]
  },
  {
   "cell_type": "markdown",
   "metadata": {},
   "source": [
    "Here, we ran a single presentation and memory run and recorded and time stamped the filename of each presented stimulus, its location, millisecond timings on window flips, etc, to verify the precision and accuracy of the data in our behavioral data files"
   ]
  },
  {
   "cell_type": "code",
   "execution_count": 2,
   "metadata": {},
   "outputs": [],
   "source": [
    "with open('/Users/kirstenziman/Desktop/FIIIIINAL_2019_Sep_05/test_data/variable_attn_check_FINAL.log') as file:\n",
    "    lines = file.read().splitlines()\n",
    "    lines = [[lines[x]] for x in range(0, len(lines))]\n",
    "    lines.insert(0,[\"DATA\"])\n",
    "\n",
    "    with open('/Users/kirstenziman/Desktop/FINAL_EYE_2019_Sep_05/test_data/variable_attn_check_FINAL.csv', 'w+') as csvfile:\n",
    "        w = csv.writer(csvfile)\n",
    "        w.writerows(lines)"
   ]
  },
  {
   "cell_type": "markdown",
   "metadata": {},
   "source": [
    "# Log file data"
   ]
  },
  {
   "cell_type": "code",
   "execution_count": 3,
   "metadata": {
    "scrolled": false
   },
   "outputs": [],
   "source": [
    "log_file = pd.read_csv('/Users/kirstenziman/Desktop/FINAL_EYE_2019_Sep_05/test_data/variable_attn_check_FINAL.csv')\n",
    "log_file = log_file.reset_index()\n",
    "log_file['TIME'],log_file['WARNING'],log_file['MESSAGE'] = log_file['DATA'].str.split('\\t', 4).str\n",
    "log_file = log_file.fillna('NAN VALUE')"
   ]
  },
  {
   "cell_type": "code",
   "execution_count": 4,
   "metadata": {},
   "outputs": [
    {
     "data": {
      "text/html": [
       "<div>\n",
       "<style scoped>\n",
       "    .dataframe tbody tr th:only-of-type {\n",
       "        vertical-align: middle;\n",
       "    }\n",
       "\n",
       "    .dataframe tbody tr th {\n",
       "        vertical-align: top;\n",
       "    }\n",
       "\n",
       "    .dataframe thead th {\n",
       "        text-align: right;\n",
       "    }\n",
       "</style>\n",
       "<table border=\"1\" class=\"dataframe\">\n",
       "  <thead>\n",
       "    <tr style=\"text-align: right;\">\n",
       "      <th></th>\n",
       "      <th>index</th>\n",
       "      <th>DATA</th>\n",
       "      <th>TIME</th>\n",
       "      <th>WARNING</th>\n",
       "      <th>MESSAGE</th>\n",
       "    </tr>\n",
       "  </thead>\n",
       "  <tbody>\n",
       "    <tr>\n",
       "      <td>0</td>\n",
       "      <td>0</td>\n",
       "      <td>2.6971 \\tWARNING \\twarning</td>\n",
       "      <td>2.6971</td>\n",
       "      <td>WARNING</td>\n",
       "      <td>warning</td>\n",
       "    </tr>\n",
       "    <tr>\n",
       "      <td>1</td>\n",
       "      <td>1</td>\n",
       "      <td>2.6971 \\tEXP \\texperiment</td>\n",
       "      <td>2.6971</td>\n",
       "      <td>EXP</td>\n",
       "      <td>experiment</td>\n",
       "    </tr>\n",
       "    <tr>\n",
       "      <td>2</td>\n",
       "      <td>2</td>\n",
       "      <td>2.6971 \\tDATA \\tdata</td>\n",
       "      <td>2.6971</td>\n",
       "      <td>DATA</td>\n",
       "      <td>data</td>\n",
       "    </tr>\n",
       "    <tr>\n",
       "      <td>3</td>\n",
       "      <td>3</td>\n",
       "      <td>2.6972 \\tINFO \\tinfo</td>\n",
       "      <td>2.6972</td>\n",
       "      <td>INFO</td>\n",
       "      <td>info</td>\n",
       "    </tr>\n",
       "    <tr>\n",
       "      <td>4</td>\n",
       "      <td>4</td>\n",
       "      <td>2.6972 \\tINFO \\tcurrent time: 1567723717.78</td>\n",
       "      <td>2.6972</td>\n",
       "      <td>INFO</td>\n",
       "      <td>current time: 1567723717.78</td>\n",
       "    </tr>\n",
       "  </tbody>\n",
       "</table>\n",
       "</div>"
      ],
      "text/plain": [
       "   index                                         DATA     TIME   WARNING  \\\n",
       "0      0                   2.6971 \\tWARNING \\twarning  2.6971   WARNING    \n",
       "1      1                    2.6971 \\tEXP \\texperiment  2.6971       EXP    \n",
       "2      2                         2.6971 \\tDATA \\tdata  2.6971      DATA    \n",
       "3      3                         2.6972 \\tINFO \\tinfo  2.6972      INFO    \n",
       "4      4  2.6972 \\tINFO \\tcurrent time: 1567723717.78  2.6972      INFO    \n",
       "\n",
       "                       MESSAGE  \n",
       "0                      warning  \n",
       "1                   experiment  \n",
       "2                         data  \n",
       "3                         info  \n",
       "4  current time: 1567723717.78  "
      ]
     },
     "execution_count": 4,
     "metadata": {},
     "output_type": "execute_result"
    }
   ],
   "source": [
    "log_file.head()"
   ]
  },
  {
   "cell_type": "code",
   "execution_count": 5,
   "metadata": {},
   "outputs": [],
   "source": [
    "log_file['TIME'] = log_file['TIME'].str.replace(' ','')\n",
    "log_file['TIME'] = log_file['TIME'].astype(float, errors='ignore')"
   ]
  },
  {
   "cell_type": "code",
   "execution_count": 6,
   "metadata": {},
   "outputs": [],
   "source": [
    "p = log_file[(log_file['DATA'].str.contains('COMPOSITE'))\n",
    "    & ((log_file['DATA'].str.contains('ON')))].melt(id_vars=['MESSAGE'], value_vars=['TIME'])"
   ]
  },
  {
   "cell_type": "code",
   "execution_count": 7,
   "metadata": {},
   "outputs": [],
   "source": [
    "p['utc'] = [x[-13:] for x in list(p['MESSAGE'])]"
   ]
  },
  {
   "cell_type": "code",
   "execution_count": 8,
   "metadata": {},
   "outputs": [
    {
     "data": {
      "text/html": [
       "<div>\n",
       "<style scoped>\n",
       "    .dataframe tbody tr th:only-of-type {\n",
       "        vertical-align: middle;\n",
       "    }\n",
       "\n",
       "    .dataframe tbody tr th {\n",
       "        vertical-align: top;\n",
       "    }\n",
       "\n",
       "    .dataframe thead th {\n",
       "        text-align: right;\n",
       "    }\n",
       "</style>\n",
       "<table border=\"1\" class=\"dataframe\">\n",
       "  <thead>\n",
       "    <tr style=\"text-align: right;\">\n",
       "      <th></th>\n",
       "      <th>MESSAGE</th>\n",
       "      <th>variable</th>\n",
       "      <th>value</th>\n",
       "      <th>utc</th>\n",
       "    </tr>\n",
       "  </thead>\n",
       "  <tbody>\n",
       "    <tr>\n",
       "      <td>0</td>\n",
       "      <td>WIN FLIP : STIMULUS COMPOSITE 1: ../../stim/pr...</td>\n",
       "      <td>TIME</td>\n",
       "      <td>9.4308</td>\n",
       "      <td>1567723731.14</td>\n",
       "    </tr>\n",
       "    <tr>\n",
       "      <td>1</td>\n",
       "      <td>WIN FLIP : STIMULUS COMPOSITE 2: ../../stim/pr...</td>\n",
       "      <td>TIME</td>\n",
       "      <td>9.4475</td>\n",
       "      <td>1567723731.15</td>\n",
       "    </tr>\n",
       "    <tr>\n",
       "      <td>2</td>\n",
       "      <td>WIN FLIP : STIMULUS COMPOSITE 1: ../../stim/pr...</td>\n",
       "      <td>TIME</td>\n",
       "      <td>16.0661</td>\n",
       "      <td>1567723737.77</td>\n",
       "    </tr>\n",
       "    <tr>\n",
       "      <td>3</td>\n",
       "      <td>WIN FLIP : STIMULUS COMPOSITE 2: ../../stim/pr...</td>\n",
       "      <td>TIME</td>\n",
       "      <td>16.0830</td>\n",
       "      <td>1567723737.79</td>\n",
       "    </tr>\n",
       "    <tr>\n",
       "      <td>4</td>\n",
       "      <td>WIN FLIP : STIMULUS COMPOSITE 1: ../../stim/pr...</td>\n",
       "      <td>TIME</td>\n",
       "      <td>22.6846</td>\n",
       "      <td>1567723744.4</td>\n",
       "    </tr>\n",
       "  </tbody>\n",
       "</table>\n",
       "</div>"
      ],
      "text/plain": [
       "                                             MESSAGE variable    value  \\\n",
       "0  WIN FLIP : STIMULUS COMPOSITE 1: ../../stim/pr...     TIME   9.4308   \n",
       "1  WIN FLIP : STIMULUS COMPOSITE 2: ../../stim/pr...     TIME   9.4475   \n",
       "2  WIN FLIP : STIMULUS COMPOSITE 1: ../../stim/pr...     TIME  16.0661   \n",
       "3  WIN FLIP : STIMULUS COMPOSITE 2: ../../stim/pr...     TIME  16.0830   \n",
       "4  WIN FLIP : STIMULUS COMPOSITE 1: ../../stim/pr...     TIME  22.6846   \n",
       "\n",
       "             utc  \n",
       "0  1567723731.14  \n",
       "1  1567723731.15  \n",
       "2  1567723737.77  \n",
       "3  1567723737.79  \n",
       "4   1567723744.4  "
      ]
     },
     "execution_count": 8,
     "metadata": {},
     "output_type": "execute_result"
    }
   ],
   "source": [
    "p.head()"
   ]
  },
  {
   "cell_type": "code",
   "execution_count": 9,
   "metadata": {},
   "outputs": [],
   "source": [
    "uncued = p[ (p['MESSAGE'].str.contains('COMPOSITE 2')) & (p['MESSAGE'].str.contains('ON')) & (~p['MESSAGE'].str.contains('practice'))]\n",
    "cued   = p[ (p['MESSAGE'].str.contains('COMPOSITE 1')) & (p['MESSAGE'].str.contains('ON')) & (~p['MESSAGE'].str.contains('practice'))]\n",
    "cued = cued.rename(columns={\"MESSAGE\": \"cued_onset\"})\n",
    "uncued = uncued.rename(columns={\"MESSAGE\": \"uncued_onset\"})\n",
    "\n",
    "cued   = cued.reset_index(drop=True)\n",
    "uncued = uncued.reset_index(drop=True)"
   ]
  },
  {
   "cell_type": "code",
   "execution_count": 10,
   "metadata": {},
   "outputs": [
    {
     "data": {
      "text/html": [
       "<div>\n",
       "<style scoped>\n",
       "    .dataframe tbody tr th:only-of-type {\n",
       "        vertical-align: middle;\n",
       "    }\n",
       "\n",
       "    .dataframe tbody tr th {\n",
       "        vertical-align: top;\n",
       "    }\n",
       "\n",
       "    .dataframe thead th {\n",
       "        text-align: right;\n",
       "    }\n",
       "</style>\n",
       "<table border=\"1\" class=\"dataframe\">\n",
       "  <thead>\n",
       "    <tr style=\"text-align: right;\">\n",
       "      <th></th>\n",
       "      <th>cued_onset</th>\n",
       "      <th>variable</th>\n",
       "      <th>value</th>\n",
       "      <th>utc</th>\n",
       "    </tr>\n",
       "  </thead>\n",
       "  <tbody>\n",
       "    <tr>\n",
       "      <td>0</td>\n",
       "      <td>WIN FLIP : STIMULUS COMPOSITE 1: ../../stim/co...</td>\n",
       "      <td>TIME</td>\n",
       "      <td>66.9658</td>\n",
       "      <td>1567723788.66</td>\n",
       "    </tr>\n",
       "    <tr>\n",
       "      <td>1</td>\n",
       "      <td>WIN FLIP : STIMULUS COMPOSITE 1: ../../stim/co...</td>\n",
       "      <td>TIME</td>\n",
       "      <td>74.4192</td>\n",
       "      <td>1567723796.12</td>\n",
       "    </tr>\n",
       "    <tr>\n",
       "      <td>2</td>\n",
       "      <td>WIN FLIP : STIMULUS COMPOSITE 1: ../../stim/co...</td>\n",
       "      <td>TIME</td>\n",
       "      <td>82.3203</td>\n",
       "      <td>1567723804.03</td>\n",
       "    </tr>\n",
       "    <tr>\n",
       "      <td>3</td>\n",
       "      <td>WIN FLIP : STIMULUS COMPOSITE 1: ../../stim/co...</td>\n",
       "      <td>TIME</td>\n",
       "      <td>89.9239</td>\n",
       "      <td>1567723811.63</td>\n",
       "    </tr>\n",
       "    <tr>\n",
       "      <td>4</td>\n",
       "      <td>WIN FLIP : STIMULUS COMPOSITE 1: ../../stim/co...</td>\n",
       "      <td>TIME</td>\n",
       "      <td>97.2761</td>\n",
       "      <td>1567723818.98</td>\n",
       "    </tr>\n",
       "    <tr>\n",
       "      <td>5</td>\n",
       "      <td>WIN FLIP : STIMULUS COMPOSITE 1: ../../stim/co...</td>\n",
       "      <td>TIME</td>\n",
       "      <td>104.7948</td>\n",
       "      <td>1567723826.5</td>\n",
       "    </tr>\n",
       "    <tr>\n",
       "      <td>6</td>\n",
       "      <td>WIN FLIP : STIMULUS COMPOSITE 1: ../../stim/co...</td>\n",
       "      <td>TIME</td>\n",
       "      <td>112.5473</td>\n",
       "      <td>1567723834.25</td>\n",
       "    </tr>\n",
       "    <tr>\n",
       "      <td>7</td>\n",
       "      <td>WIN FLIP : STIMULUS COMPOSITE 1: ../../stim/co...</td>\n",
       "      <td>TIME</td>\n",
       "      <td>120.3997</td>\n",
       "      <td>1567723842.1</td>\n",
       "    </tr>\n",
       "    <tr>\n",
       "      <td>8</td>\n",
       "      <td>WIN FLIP : STIMULUS COMPOSITE 1: ../../stim/co...</td>\n",
       "      <td>TIME</td>\n",
       "      <td>128.0688</td>\n",
       "      <td>1567723849.78</td>\n",
       "    </tr>\n",
       "    <tr>\n",
       "      <td>9</td>\n",
       "      <td>WIN FLIP : STIMULUS COMPOSITE 1: ../../stim/co...</td>\n",
       "      <td>TIME</td>\n",
       "      <td>135.3052</td>\n",
       "      <td>1567723857.01</td>\n",
       "    </tr>\n",
       "  </tbody>\n",
       "</table>\n",
       "</div>"
      ],
      "text/plain": [
       "                                          cued_onset variable     value  \\\n",
       "0  WIN FLIP : STIMULUS COMPOSITE 1: ../../stim/co...     TIME   66.9658   \n",
       "1  WIN FLIP : STIMULUS COMPOSITE 1: ../../stim/co...     TIME   74.4192   \n",
       "2  WIN FLIP : STIMULUS COMPOSITE 1: ../../stim/co...     TIME   82.3203   \n",
       "3  WIN FLIP : STIMULUS COMPOSITE 1: ../../stim/co...     TIME   89.9239   \n",
       "4  WIN FLIP : STIMULUS COMPOSITE 1: ../../stim/co...     TIME   97.2761   \n",
       "5  WIN FLIP : STIMULUS COMPOSITE 1: ../../stim/co...     TIME  104.7948   \n",
       "6  WIN FLIP : STIMULUS COMPOSITE 1: ../../stim/co...     TIME  112.5473   \n",
       "7  WIN FLIP : STIMULUS COMPOSITE 1: ../../stim/co...     TIME  120.3997   \n",
       "8  WIN FLIP : STIMULUS COMPOSITE 1: ../../stim/co...     TIME  128.0688   \n",
       "9  WIN FLIP : STIMULUS COMPOSITE 1: ../../stim/co...     TIME  135.3052   \n",
       "\n",
       "             utc  \n",
       "0  1567723788.66  \n",
       "1  1567723796.12  \n",
       "2  1567723804.03  \n",
       "3  1567723811.63  \n",
       "4  1567723818.98  \n",
       "5   1567723826.5  \n",
       "6  1567723834.25  \n",
       "7   1567723842.1  \n",
       "8  1567723849.78  \n",
       "9  1567723857.01  "
      ]
     },
     "execution_count": 10,
     "metadata": {},
     "output_type": "execute_result"
    }
   ],
   "source": [
    "cued"
   ]
  },
  {
   "cell_type": "code",
   "execution_count": 11,
   "metadata": {},
   "outputs": [
    {
     "data": {
      "text/html": [
       "<div>\n",
       "<style scoped>\n",
       "    .dataframe tbody tr th:only-of-type {\n",
       "        vertical-align: middle;\n",
       "    }\n",
       "\n",
       "    .dataframe tbody tr th {\n",
       "        vertical-align: top;\n",
       "    }\n",
       "\n",
       "    .dataframe thead th {\n",
       "        text-align: right;\n",
       "    }\n",
       "</style>\n",
       "<table border=\"1\" class=\"dataframe\">\n",
       "  <thead>\n",
       "    <tr style=\"text-align: right;\">\n",
       "      <th></th>\n",
       "      <th>uncued_onset</th>\n",
       "      <th>variable</th>\n",
       "      <th>value</th>\n",
       "      <th>utc</th>\n",
       "    </tr>\n",
       "  </thead>\n",
       "  <tbody>\n",
       "    <tr>\n",
       "      <td>0</td>\n",
       "      <td>WIN FLIP : STIMULUS COMPOSITE 2: ../../stim/co...</td>\n",
       "      <td>TIME</td>\n",
       "      <td>66.9825</td>\n",
       "      <td>1567723788.69</td>\n",
       "    </tr>\n",
       "    <tr>\n",
       "      <td>1</td>\n",
       "      <td>WIN FLIP : STIMULUS COMPOSITE 2: ../../stim/co...</td>\n",
       "      <td>TIME</td>\n",
       "      <td>74.4360</td>\n",
       "      <td>1567723796.14</td>\n",
       "    </tr>\n",
       "    <tr>\n",
       "      <td>2</td>\n",
       "      <td>WIN FLIP : STIMULUS COMPOSITE 2: ../../stim/co...</td>\n",
       "      <td>TIME</td>\n",
       "      <td>82.3376</td>\n",
       "      <td>1567723804.04</td>\n",
       "    </tr>\n",
       "    <tr>\n",
       "      <td>3</td>\n",
       "      <td>WIN FLIP : STIMULUS COMPOSITE 2: ../../stim/co...</td>\n",
       "      <td>TIME</td>\n",
       "      <td>89.9400</td>\n",
       "      <td>1567723811.64</td>\n",
       "    </tr>\n",
       "    <tr>\n",
       "      <td>4</td>\n",
       "      <td>WIN FLIP : STIMULUS COMPOSITE 2: ../../stim/co...</td>\n",
       "      <td>TIME</td>\n",
       "      <td>97.2922</td>\n",
       "      <td>1567723819.0</td>\n",
       "    </tr>\n",
       "    <tr>\n",
       "      <td>5</td>\n",
       "      <td>WIN FLIP : STIMULUS COMPOSITE 2: ../../stim/co...</td>\n",
       "      <td>TIME</td>\n",
       "      <td>104.8118</td>\n",
       "      <td>1567723826.52</td>\n",
       "    </tr>\n",
       "    <tr>\n",
       "      <td>6</td>\n",
       "      <td>WIN FLIP : STIMULUS COMPOSITE 2: ../../stim/co...</td>\n",
       "      <td>TIME</td>\n",
       "      <td>112.5631</td>\n",
       "      <td>1567723834.27</td>\n",
       "    </tr>\n",
       "    <tr>\n",
       "      <td>7</td>\n",
       "      <td>WIN FLIP : STIMULUS COMPOSITE 2: ../../stim/co...</td>\n",
       "      <td>TIME</td>\n",
       "      <td>120.4166</td>\n",
       "      <td>1567723842.12</td>\n",
       "    </tr>\n",
       "    <tr>\n",
       "      <td>8</td>\n",
       "      <td>WIN FLIP : STIMULUS COMPOSITE 2: ../../stim/co...</td>\n",
       "      <td>TIME</td>\n",
       "      <td>128.0860</td>\n",
       "      <td>1567723849.79</td>\n",
       "    </tr>\n",
       "    <tr>\n",
       "      <td>9</td>\n",
       "      <td>WIN FLIP : STIMULUS COMPOSITE 2: ../../stim/co...</td>\n",
       "      <td>TIME</td>\n",
       "      <td>135.3213</td>\n",
       "      <td>1567723857.03</td>\n",
       "    </tr>\n",
       "  </tbody>\n",
       "</table>\n",
       "</div>"
      ],
      "text/plain": [
       "                                        uncued_onset variable     value  \\\n",
       "0  WIN FLIP : STIMULUS COMPOSITE 2: ../../stim/co...     TIME   66.9825   \n",
       "1  WIN FLIP : STIMULUS COMPOSITE 2: ../../stim/co...     TIME   74.4360   \n",
       "2  WIN FLIP : STIMULUS COMPOSITE 2: ../../stim/co...     TIME   82.3376   \n",
       "3  WIN FLIP : STIMULUS COMPOSITE 2: ../../stim/co...     TIME   89.9400   \n",
       "4  WIN FLIP : STIMULUS COMPOSITE 2: ../../stim/co...     TIME   97.2922   \n",
       "5  WIN FLIP : STIMULUS COMPOSITE 2: ../../stim/co...     TIME  104.8118   \n",
       "6  WIN FLIP : STIMULUS COMPOSITE 2: ../../stim/co...     TIME  112.5631   \n",
       "7  WIN FLIP : STIMULUS COMPOSITE 2: ../../stim/co...     TIME  120.4166   \n",
       "8  WIN FLIP : STIMULUS COMPOSITE 2: ../../stim/co...     TIME  128.0860   \n",
       "9  WIN FLIP : STIMULUS COMPOSITE 2: ../../stim/co...     TIME  135.3213   \n",
       "\n",
       "             utc  \n",
       "0  1567723788.69  \n",
       "1  1567723796.14  \n",
       "2  1567723804.04  \n",
       "3  1567723811.64  \n",
       "4   1567723819.0  \n",
       "5  1567723826.52  \n",
       "6  1567723834.27  \n",
       "7  1567723842.12  \n",
       "8  1567723849.79  \n",
       "9  1567723857.03  "
      ]
     },
     "execution_count": 11,
     "metadata": {},
     "output_type": "execute_result"
    }
   ],
   "source": [
    "uncued"
   ]
  },
  {
   "cell_type": "code",
   "execution_count": 12,
   "metadata": {},
   "outputs": [],
   "source": [
    "uncued['utc'] = uncued['utc'].astype(float)\n",
    "cued['utc']   = cued['utc'].astype(float)"
   ]
  },
  {
   "cell_type": "code",
   "execution_count": 13,
   "metadata": {},
   "outputs": [
    {
     "data": {
      "text/plain": [
       "'WIN FLIP : STIMULUS COMPOSITE 2: ../../stim/composite/00779941205fa_sunagdzlvkqtpnfxfcg.jpg ON 1567723788.69'"
      ]
     },
     "execution_count": 13,
     "metadata": {},
     "output_type": "execute_result"
    }
   ],
   "source": [
    "uncued['uncued_onset'][0]"
   ]
  },
  {
   "cell_type": "markdown",
   "metadata": {},
   "source": [
    "# average difference in onset times between Cued and Uncued Composite in a single test block (~1 frame)"
   ]
  },
  {
   "cell_type": "code",
   "execution_count": 14,
   "metadata": {},
   "outputs": [],
   "source": [
    "x = list(uncued['utc']-cued['utc'])"
   ]
  },
  {
   "cell_type": "code",
   "execution_count": 15,
   "metadata": {},
   "outputs": [
    {
     "name": "stdout",
     "output_type": "stream",
     "text": [
      "Average number of seconds cued composite shows before uncued composite in a test run 0.018000006675720215\n"
     ]
    }
   ],
   "source": [
    "print('Average number of seconds cued composite shows before uncued composite in a test run '+str(np.mean(x)))"
   ]
  },
  {
   "cell_type": "markdown",
   "metadata": {},
   "source": [
    "# Check A: order of stimuli, log versus csv files"
   ]
  },
  {
   "cell_type": "markdown",
   "metadata": {},
   "source": [
    "## verify stimulus orders same as in behavioral csv"
   ]
  },
  {
   "cell_type": "markdown",
   "metadata": {},
   "source": [
    "### load behavioral csv"
   ]
  },
  {
   "cell_type": "code",
   "execution_count": 16,
   "metadata": {
    "scrolled": true
   },
   "outputs": [
    {
     "name": "stdout",
     "output_type": "stream",
     "text": [
      "test_data\n"
     ]
    }
   ],
   "source": [
    "sub_list = []\n",
    "data_dir = '/Users/kirstenziman/Desktop/FIIIIINAL_2019_Sep_05'\n",
    "\n",
    "for sub_dir in os.listdir(data_dir):\n",
    "    sub_list.append(add_level(sum_pd(data_dir + '/' + sub_dir)))\n",
    "    print(sub_dir)\n",
    "    \n",
    "exp_raw = pd.concat(sub_list)\n",
    "#exp1_raw.to_csv('../parsed_data/behavioral_data_sustained.csv')"
   ]
  },
  {
   "cell_type": "markdown",
   "metadata": {},
   "source": [
    "### Cued composite images are in the same order in log file and csv"
   ]
  },
  {
   "cell_type": "code",
   "execution_count": 17,
   "metadata": {},
   "outputs": [
    {
     "data": {
      "text/plain": [
       "['/00952960627fa_sunathzzbcwjykldrem.jpg',\n",
       " '/00650941031fa_sunadikxpvqeabxrvvc.jpg',\n",
       " '/00498960627fa_sunabzjxlmkwnwzimua.jpg',\n",
       " '/00676941121fa_sunadpnqovzckyikrjo.jpg',\n",
       " '/00919960620fa_sunapmfmzadmosuogaz.jpg',\n",
       " '/00276940422fa_sunabmytpyhsgigllxu.jpg',\n",
       " '/00848940307fa_sunaivdylrawbmhryfp.jpg',\n",
       " '/00926960627Fa_sunapqwoeotxshkukbh.jpg',\n",
       " '/00163931230fb_sunaavodbcpygkggnfp.jpg',\n",
       " '/00794960620fa_sunagtqhhwxjeuxdebe.jpg']"
      ]
     },
     "execution_count": 17,
     "metadata": {},
     "output_type": "execute_result"
    }
   ],
   "source": [
    "# cued composite stimuli from log file\n",
    "[x[53:91] for x in list(cued['cued_onset'])]"
   ]
  },
  {
   "cell_type": "code",
   "execution_count": 18,
   "metadata": {},
   "outputs": [
    {
     "data": {
      "text/plain": [
       "0    00952960627fa_sunathzzbcwjykldrem.jpg\n",
       "1    00650941031fa_sunadikxpvqeabxrvvc.jpg\n",
       "2    00498960627fa_sunabzjxlmkwnwzimua.jpg\n",
       "3    00676941121fa_sunadpnqovzckyikrjo.jpg\n",
       "4    00919960620fa_sunapmfmzadmosuogaz.jpg\n",
       "5    00276940422fa_sunabmytpyhsgigllxu.jpg\n",
       "6    00848940307fa_sunaivdylrawbmhryfp.jpg\n",
       "7    00926960627Fa_sunapqwoeotxshkukbh.jpg\n",
       "8    00163931230fb_sunaavodbcpygkggnfp.jpg\n",
       "9    00794960620fa_sunagtqhhwxjeuxdebe.jpg\n",
       "Name: Cued Composite, dtype: object"
      ]
     },
     "execution_count": 18,
     "metadata": {},
     "output_type": "execute_result"
    }
   ],
   "source": [
    "# cued composite stimuli from csv\n",
    "exp_raw[exp_raw['Trial Type']=='Presentation']['Cued Composite']"
   ]
  },
  {
   "cell_type": "markdown",
   "metadata": {},
   "source": [
    "### Uncued composite images are in the same order in log file and csv"
   ]
  },
  {
   "cell_type": "code",
   "execution_count": 19,
   "metadata": {},
   "outputs": [
    {
     "data": {
      "text/plain": [
       "['/00779941205fa_sunagdzlvkqtpnfxfcg.jpg',\n",
       " '/00838940307fa_sunaiozxhxgtfrmoagh.jpg',\n",
       " '/00905960530fa_sunanmoqeyprjjjfxjt.jpg',\n",
       " '/00909960530_sunaobtizabegtwfwul.jpg O',\n",
       " '/00543940519fa_sunacepzfrmtkiqonpy.jpg',\n",
       " '/00142931230fb_sunaapxkpvrhpjplsok.jpg',\n",
       " '/00681941121fa_sunadqmjrhfjyuzyvdd.jpg',\n",
       " '/00836940307fa_sunainqelldeebvxtcz.jpg',\n",
       " '/00270940422fb_sunabllobxadqcyttej.jpg',\n",
       " '/00752960620fa_sunafbwnojpqeyzssoe.jpg']"
      ]
     },
     "execution_count": 19,
     "metadata": {},
     "output_type": "execute_result"
    }
   ],
   "source": [
    "# uncued composite from log\n",
    "[x[53:91] for x in list(uncued['uncued_onset'])]"
   ]
  },
  {
   "cell_type": "code",
   "execution_count": 20,
   "metadata": {},
   "outputs": [
    {
     "data": {
      "text/plain": [
       "0    00779941205fa_sunagdzlvkqtpnfxfcg.jpg\n",
       "1    00838940307fa_sunaiozxhxgtfrmoagh.jpg\n",
       "2    00905960530fa_sunanmoqeyprjjjfxjt.jpg\n",
       "3      00909960530_sunaobtizabegtwfwul.jpg\n",
       "4    00543940519fa_sunacepzfrmtkiqonpy.jpg\n",
       "5    00142931230fb_sunaapxkpvrhpjplsok.jpg\n",
       "6    00681941121fa_sunadqmjrhfjyuzyvdd.jpg\n",
       "7    00836940307fa_sunainqelldeebvxtcz.jpg\n",
       "8    00270940422fb_sunabllobxadqcyttej.jpg\n",
       "9    00752960620fa_sunafbwnojpqeyzssoe.jpg\n",
       "Name: Uncued Composite, dtype: object"
      ]
     },
     "execution_count": 20,
     "metadata": {},
     "output_type": "execute_result"
    }
   ],
   "source": [
    "# uncued composite from csv\n",
    "exp_raw[exp_raw['Trial Type']=='Presentation']['Uncued Composite']"
   ]
  },
  {
   "cell_type": "markdown",
   "metadata": {},
   "source": [
    "### Onset times differ by fractions of a second"
   ]
  },
  {
   "cell_type": "code",
   "execution_count": 21,
   "metadata": {},
   "outputs": [],
   "source": [
    "d = {}\n",
    "\n",
    "# aggregate onset times (two onsets in log file, one for cued composite and one for uncued; csv has only one onset time assigned to both)\n",
    "d['csv_cued_onset'] = list(exp_raw[exp_raw['Trial Type']=='Presentation']['Stimulus Onset'])\n",
    "d['log_cued_onset'] = list(cued['utc'])\n",
    "d['log_uncued_onset'] = list(uncued['utc'])\n",
    "\n",
    "# aggregate stim end times\n",
    "p = log_file[(log_file['DATA'].str.contains('OFF')) & ((log_file['DATA'].str.contains('COMPOSITE'))) & ((~log_file['DATA'].str.contains('practice')))]\n",
    "p['utc'] = [x[-13:] for x in list(p['DATA'])]\n",
    "d['log_composite_off'] = [float(x) for x in p['utc']]\n",
    "d['csv_composite_off'] = list(exp_raw[exp_raw['Trial Type']=='Presentation']['Stimulus End'])"
   ]
  },
  {
   "cell_type": "markdown",
   "metadata": {},
   "source": [
    "### check time diffs"
   ]
  },
  {
   "cell_type": "code",
   "execution_count": 22,
   "metadata": {},
   "outputs": [
    {
     "data": {
      "text/html": [
       "<div>\n",
       "<style scoped>\n",
       "    .dataframe tbody tr th:only-of-type {\n",
       "        vertical-align: middle;\n",
       "    }\n",
       "\n",
       "    .dataframe tbody tr th {\n",
       "        vertical-align: top;\n",
       "    }\n",
       "\n",
       "    .dataframe thead th {\n",
       "        text-align: right;\n",
       "    }\n",
       "</style>\n",
       "<table border=\"1\" class=\"dataframe\">\n",
       "  <thead>\n",
       "    <tr style=\"text-align: right;\">\n",
       "      <th></th>\n",
       "      <th>csv_cued_onset</th>\n",
       "      <th>log_cued_onset</th>\n",
       "      <th>log_uncued_onset</th>\n",
       "      <th>log_composite_off</th>\n",
       "      <th>csv_composite_off</th>\n",
       "    </tr>\n",
       "  </thead>\n",
       "  <tbody>\n",
       "    <tr>\n",
       "      <td>0</td>\n",
       "      <td>1.567724e+09</td>\n",
       "      <td>1.567724e+09</td>\n",
       "      <td>1.567724e+09</td>\n",
       "      <td>1.567724e+09</td>\n",
       "      <td>1.567724e+09</td>\n",
       "    </tr>\n",
       "    <tr>\n",
       "      <td>1</td>\n",
       "      <td>1.567724e+09</td>\n",
       "      <td>1.567724e+09</td>\n",
       "      <td>1.567724e+09</td>\n",
       "      <td>1.567724e+09</td>\n",
       "      <td>1.567724e+09</td>\n",
       "    </tr>\n",
       "    <tr>\n",
       "      <td>2</td>\n",
       "      <td>1.567724e+09</td>\n",
       "      <td>1.567724e+09</td>\n",
       "      <td>1.567724e+09</td>\n",
       "      <td>1.567724e+09</td>\n",
       "      <td>1.567724e+09</td>\n",
       "    </tr>\n",
       "    <tr>\n",
       "      <td>3</td>\n",
       "      <td>1.567724e+09</td>\n",
       "      <td>1.567724e+09</td>\n",
       "      <td>1.567724e+09</td>\n",
       "      <td>1.567724e+09</td>\n",
       "      <td>1.567724e+09</td>\n",
       "    </tr>\n",
       "    <tr>\n",
       "      <td>4</td>\n",
       "      <td>1.567724e+09</td>\n",
       "      <td>1.567724e+09</td>\n",
       "      <td>1.567724e+09</td>\n",
       "      <td>1.567724e+09</td>\n",
       "      <td>1.567724e+09</td>\n",
       "    </tr>\n",
       "    <tr>\n",
       "      <td>5</td>\n",
       "      <td>1.567724e+09</td>\n",
       "      <td>1.567724e+09</td>\n",
       "      <td>1.567724e+09</td>\n",
       "      <td>1.567724e+09</td>\n",
       "      <td>1.567724e+09</td>\n",
       "    </tr>\n",
       "    <tr>\n",
       "      <td>6</td>\n",
       "      <td>1.567724e+09</td>\n",
       "      <td>1.567724e+09</td>\n",
       "      <td>1.567724e+09</td>\n",
       "      <td>1.567724e+09</td>\n",
       "      <td>1.567724e+09</td>\n",
       "    </tr>\n",
       "    <tr>\n",
       "      <td>7</td>\n",
       "      <td>1.567724e+09</td>\n",
       "      <td>1.567724e+09</td>\n",
       "      <td>1.567724e+09</td>\n",
       "      <td>1.567724e+09</td>\n",
       "      <td>1.567724e+09</td>\n",
       "    </tr>\n",
       "    <tr>\n",
       "      <td>8</td>\n",
       "      <td>1.567724e+09</td>\n",
       "      <td>1.567724e+09</td>\n",
       "      <td>1.567724e+09</td>\n",
       "      <td>1.567724e+09</td>\n",
       "      <td>1.567724e+09</td>\n",
       "    </tr>\n",
       "    <tr>\n",
       "      <td>9</td>\n",
       "      <td>1.567724e+09</td>\n",
       "      <td>1.567724e+09</td>\n",
       "      <td>1.567724e+09</td>\n",
       "      <td>1.567724e+09</td>\n",
       "      <td>1.567724e+09</td>\n",
       "    </tr>\n",
       "  </tbody>\n",
       "</table>\n",
       "</div>"
      ],
      "text/plain": [
       "   csv_cued_onset  log_cued_onset  log_uncued_onset  log_composite_off  \\\n",
       "0    1.567724e+09    1.567724e+09      1.567724e+09       1.567724e+09   \n",
       "1    1.567724e+09    1.567724e+09      1.567724e+09       1.567724e+09   \n",
       "2    1.567724e+09    1.567724e+09      1.567724e+09       1.567724e+09   \n",
       "3    1.567724e+09    1.567724e+09      1.567724e+09       1.567724e+09   \n",
       "4    1.567724e+09    1.567724e+09      1.567724e+09       1.567724e+09   \n",
       "5    1.567724e+09    1.567724e+09      1.567724e+09       1.567724e+09   \n",
       "6    1.567724e+09    1.567724e+09      1.567724e+09       1.567724e+09   \n",
       "7    1.567724e+09    1.567724e+09      1.567724e+09       1.567724e+09   \n",
       "8    1.567724e+09    1.567724e+09      1.567724e+09       1.567724e+09   \n",
       "9    1.567724e+09    1.567724e+09      1.567724e+09       1.567724e+09   \n",
       "\n",
       "   csv_composite_off  \n",
       "0       1.567724e+09  \n",
       "1       1.567724e+09  \n",
       "2       1.567724e+09  \n",
       "3       1.567724e+09  \n",
       "4       1.567724e+09  \n",
       "5       1.567724e+09  \n",
       "6       1.567724e+09  \n",
       "7       1.567724e+09  \n",
       "8       1.567724e+09  \n",
       "9       1.567724e+09  "
      ]
     },
     "execution_count": 22,
     "metadata": {},
     "output_type": "execute_result"
    }
   ],
   "source": [
    "d = pd.DataFrame(d)\n",
    "d"
   ]
  },
  {
   "cell_type": "code",
   "execution_count": 23,
   "metadata": {},
   "outputs": [
    {
     "name": "stdout",
     "output_type": "stream",
     "text": [
      "mean onset difference between csv and log file, cued composites: 0.03289008140563965\n",
      "^^ this is approximately two frames\n",
      "\n",
      "mean onset difference between csv andn log file, uncued composites: 0.014890074729919434\n",
      "^^ this is approximately one frame\n"
     ]
    }
   ],
   "source": [
    "d['cue_on_diff'] = d['csv_cued_onset']-d['log_cued_onset']\n",
    "d['uncue_on_diff'] = d['csv_cued_onset']-d['log_uncued_onset']\n",
    "\n",
    "print('mean onset difference between csv and log file, cued composites: '+str(d['cue_on_diff'].mean()))\n",
    "print('^^ this is approximately two frames')\n",
    "print()\n",
    "\n",
    "print('mean onset difference between csv andn log file, uncued composites: '+str(d['uncue_on_diff'].mean()))\n",
    "print('^^ this is approximately one frame')"
   ]
  },
  {
   "cell_type": "code",
   "execution_count": 24,
   "metadata": {},
   "outputs": [
    {
     "name": "stdout",
     "output_type": "stream",
     "text": [
      "mean end time difference between csv and log file, for both composites: -0.01705060005187988\n",
      "^^ this is approximately one frame\n"
     ]
    }
   ],
   "source": [
    "d['composite_off_diff'] = d['csv_composite_off']-d['log_composite_off']\n",
    "\n",
    "print('mean end time difference between csv and log file, for both composites: '+str(d['composite_off_diff'].mean()))\n",
    "print('^^ this is approximately one frame')"
   ]
  },
  {
   "cell_type": "markdown",
   "metadata": {},
   "source": [
    "# Check Memory Images"
   ]
  },
  {
   "cell_type": "markdown",
   "metadata": {},
   "source": [
    "Pull ordered memory images from log file and csv"
   ]
  },
  {
   "cell_type": "code",
   "execution_count": 25,
   "metadata": {},
   "outputs": [],
   "source": [
    "image_dict = {}\n",
    "image_dict['mem_from_log'] = [x[-45:-20] for x in list(log_file[(log_file['DATA'].str.contains('MEMORY')) & (log_file['DATA'].str.contains('ON')) & (~log_file['DATA'].str.contains('practice'))]['DATA'])]\n",
    "image_dict['mem_from_csv'] = list(exp_raw[exp_raw['Trial Type']=='Memory']['Memory Image'])"
   ]
  },
  {
   "cell_type": "code",
   "execution_count": 26,
   "metadata": {},
   "outputs": [
    {
     "data": {
      "text/html": [
       "<div>\n",
       "<style scoped>\n",
       "    .dataframe tbody tr th:only-of-type {\n",
       "        vertical-align: middle;\n",
       "    }\n",
       "\n",
       "    .dataframe tbody tr th {\n",
       "        vertical-align: top;\n",
       "    }\n",
       "\n",
       "    .dataframe thead th {\n",
       "        text-align: right;\n",
       "    }\n",
       "</style>\n",
       "<table border=\"1\" class=\"dataframe\">\n",
       "  <thead>\n",
       "    <tr style=\"text-align: right;\">\n",
       "      <th></th>\n",
       "      <th>mem_from_log</th>\n",
       "      <th>mem_from_csv</th>\n",
       "    </tr>\n",
       "  </thead>\n",
       "  <tbody>\n",
       "    <tr>\n",
       "      <td>0</td>\n",
       "      <td>tim/single/00952960627fa.</td>\n",
       "      <td>00952960627fa.jpg</td>\n",
       "    </tr>\n",
       "    <tr>\n",
       "      <td>1</td>\n",
       "      <td>ngle/sunapqwoeotxshkukbh.</td>\n",
       "      <td>sunapqwoeotxshkukbh.jpg</td>\n",
       "    </tr>\n",
       "    <tr>\n",
       "      <td>2</td>\n",
       "      <td>ngle/sunafvwfsmqkjrutjta.</td>\n",
       "      <td>sunafvwfsmqkjrutjta.jpg</td>\n",
       "    </tr>\n",
       "    <tr>\n",
       "      <td>3</td>\n",
       "      <td>ngle/sunabllobxadqcyttej.</td>\n",
       "      <td>sunabllobxadqcyttej.jpg</td>\n",
       "    </tr>\n",
       "    <tr>\n",
       "      <td>4</td>\n",
       "      <td>ngle/sunacepzfrmtkiqonpy.</td>\n",
       "      <td>sunacepzfrmtkiqonpy.jpg</td>\n",
       "    </tr>\n",
       "    <tr>\n",
       "      <td>5</td>\n",
       "      <td>ngle/sunaiycurtqsfkvcaso.</td>\n",
       "      <td>sunaiycurtqsfkvcaso.jpg</td>\n",
       "    </tr>\n",
       "    <tr>\n",
       "      <td>6</td>\n",
       "      <td>tim/single/00543940519fa.</td>\n",
       "      <td>00543940519fa.jpg</td>\n",
       "    </tr>\n",
       "    <tr>\n",
       "      <td>7</td>\n",
       "      <td>tim/single/00775941205fa.</td>\n",
       "      <td>00775941205fa.jpg</td>\n",
       "    </tr>\n",
       "    <tr>\n",
       "      <td>8</td>\n",
       "      <td>tim/single/00779941205fa.</td>\n",
       "      <td>00779941205fa.jpg</td>\n",
       "    </tr>\n",
       "    <tr>\n",
       "      <td>9</td>\n",
       "      <td>stim/single/00926960627Fa</td>\n",
       "      <td>00926960627Fa.jpg</td>\n",
       "    </tr>\n",
       "    <tr>\n",
       "      <td>10</td>\n",
       "      <td>ngle/sunaapxkpvrhpjplsok.</td>\n",
       "      <td>sunaapxkpvrhpjplsok.jpg</td>\n",
       "    </tr>\n",
       "    <tr>\n",
       "      <td>11</td>\n",
       "      <td>ingle/sunaprnrbmgkomdbchr</td>\n",
       "      <td>sunaprnrbmgkomdbchr.jpg</td>\n",
       "    </tr>\n",
       "    <tr>\n",
       "      <td>12</td>\n",
       "      <td>tim/single/00747941201fa.</td>\n",
       "      <td>00747941201fa.jpg</td>\n",
       "    </tr>\n",
       "    <tr>\n",
       "      <td>13</td>\n",
       "      <td>ngle/sunaapfaivxqoynnwwp.</td>\n",
       "      <td>sunaapfaivxqoynnwwp.jpg</td>\n",
       "    </tr>\n",
       "    <tr>\n",
       "      <td>14</td>\n",
       "      <td>ngle/sunathzzbcwjykldrem.</td>\n",
       "      <td>sunathzzbcwjykldrem.jpg</td>\n",
       "    </tr>\n",
       "    <tr>\n",
       "      <td>15</td>\n",
       "      <td>tim/single/00270940422fb.</td>\n",
       "      <td>00270940422fb.jpg</td>\n",
       "    </tr>\n",
       "    <tr>\n",
       "      <td>16</td>\n",
       "      <td>tim/single/00719941201fa.</td>\n",
       "      <td>00719941201fa.jpg</td>\n",
       "    </tr>\n",
       "    <tr>\n",
       "      <td>17</td>\n",
       "      <td>ngle/sunadvithllcgmfxsrn.</td>\n",
       "      <td>sunadvithllcgmfxsrn.jpg</td>\n",
       "    </tr>\n",
       "    <tr>\n",
       "      <td>18</td>\n",
       "      <td>ngle/sunajawzbrlrwafowen.</td>\n",
       "      <td>sunajawzbrlrwafowen.jpg</td>\n",
       "    </tr>\n",
       "    <tr>\n",
       "      <td>19</td>\n",
       "      <td>ngle/sunaavodbcpygkggnfp.</td>\n",
       "      <td>sunaavodbcpygkggnfp.jpg</td>\n",
       "    </tr>\n",
       "    <tr>\n",
       "      <td>20</td>\n",
       "      <td>tim/single/00670941121fa.</td>\n",
       "      <td>00670941121fa.jpg</td>\n",
       "    </tr>\n",
       "    <tr>\n",
       "      <td>21</td>\n",
       "      <td>tim/single/00081941031fa.</td>\n",
       "      <td>00081941031fa.jpg</td>\n",
       "    </tr>\n",
       "    <tr>\n",
       "      <td>22</td>\n",
       "      <td>tim/single/00730960620fa.</td>\n",
       "      <td>00730960620fa.jpg</td>\n",
       "    </tr>\n",
       "    <tr>\n",
       "      <td>23</td>\n",
       "      <td>ngle/sunadochqcucscehsgk.</td>\n",
       "      <td>sunadochqcucscehsgk.jpg</td>\n",
       "    </tr>\n",
       "    <tr>\n",
       "      <td>24</td>\n",
       "      <td>tim/single/00848940307fa.</td>\n",
       "      <td>00848940307fa.jpg</td>\n",
       "    </tr>\n",
       "    <tr>\n",
       "      <td>25</td>\n",
       "      <td>tim/single/00864940307fa.</td>\n",
       "      <td>00864940307fa.jpg</td>\n",
       "    </tr>\n",
       "    <tr>\n",
       "      <td>26</td>\n",
       "      <td>tim/single/00163931230fb.</td>\n",
       "      <td>00163931230fb.jpg</td>\n",
       "    </tr>\n",
       "    <tr>\n",
       "      <td>27</td>\n",
       "      <td>ngle/sunagtqhhwxjeuxdebe.</td>\n",
       "      <td>sunagtqhhwxjeuxdebe.jpg</td>\n",
       "    </tr>\n",
       "    <tr>\n",
       "      <td>28</td>\n",
       "      <td>tim/single/00142931230fb.</td>\n",
       "      <td>00142931230fb.jpg</td>\n",
       "    </tr>\n",
       "    <tr>\n",
       "      <td>29</td>\n",
       "      <td>ngle/sunaeutbrtswvsozxyk.</td>\n",
       "      <td>sunaeutbrtswvsozxyk.jpg</td>\n",
       "    </tr>\n",
       "    <tr>\n",
       "      <td>30</td>\n",
       "      <td>tim/single/00929960627fa.</td>\n",
       "      <td>00929960627fa.jpg</td>\n",
       "    </tr>\n",
       "    <tr>\n",
       "      <td>31</td>\n",
       "      <td>tim/single/00138931230fa.</td>\n",
       "      <td>00138931230fa.jpg</td>\n",
       "    </tr>\n",
       "    <tr>\n",
       "      <td>32</td>\n",
       "      <td>ingle/sunaekgzpfilgjxpeyq</td>\n",
       "      <td>sunaekgzpfilgjxpeyq.jpg</td>\n",
       "    </tr>\n",
       "    <tr>\n",
       "      <td>33</td>\n",
       "      <td>ngle/sunaivdylrawbmhryfp.</td>\n",
       "      <td>sunaivdylrawbmhryfp.jpg</td>\n",
       "    </tr>\n",
       "    <tr>\n",
       "      <td>34</td>\n",
       "      <td>stim/single/00752960620fa</td>\n",
       "      <td>00752960620fa.jpg</td>\n",
       "    </tr>\n",
       "    <tr>\n",
       "      <td>35</td>\n",
       "      <td>tim/single/00794960620fa.</td>\n",
       "      <td>00794960620fa.jpg</td>\n",
       "    </tr>\n",
       "    <tr>\n",
       "      <td>36</td>\n",
       "      <td>ngle/sunagdzlvkqtpnfxfcg.</td>\n",
       "      <td>sunagdzlvkqtpnfxfcg.jpg</td>\n",
       "    </tr>\n",
       "    <tr>\n",
       "      <td>37</td>\n",
       "      <td>ngle/sunafbwnojpqeyzssoe.</td>\n",
       "      <td>sunafbwnojpqeyzssoe.jpg</td>\n",
       "    </tr>\n",
       "    <tr>\n",
       "      <td>38</td>\n",
       "      <td>ingle/sunaaftlyfudyzuhqzf</td>\n",
       "      <td>sunaaftlyfudyzuhqzf.jpg</td>\n",
       "    </tr>\n",
       "    <tr>\n",
       "      <td>39</td>\n",
       "      <td>tim/single/00859940307fa.</td>\n",
       "      <td>00859940307fa.jpg</td>\n",
       "    </tr>\n",
       "  </tbody>\n",
       "</table>\n",
       "</div>"
      ],
      "text/plain": [
       "                 mem_from_log             mem_from_csv\n",
       "0   tim/single/00952960627fa.        00952960627fa.jpg\n",
       "1   ngle/sunapqwoeotxshkukbh.  sunapqwoeotxshkukbh.jpg\n",
       "2   ngle/sunafvwfsmqkjrutjta.  sunafvwfsmqkjrutjta.jpg\n",
       "3   ngle/sunabllobxadqcyttej.  sunabllobxadqcyttej.jpg\n",
       "4   ngle/sunacepzfrmtkiqonpy.  sunacepzfrmtkiqonpy.jpg\n",
       "5   ngle/sunaiycurtqsfkvcaso.  sunaiycurtqsfkvcaso.jpg\n",
       "6   tim/single/00543940519fa.        00543940519fa.jpg\n",
       "7   tim/single/00775941205fa.        00775941205fa.jpg\n",
       "8   tim/single/00779941205fa.        00779941205fa.jpg\n",
       "9   stim/single/00926960627Fa        00926960627Fa.jpg\n",
       "10  ngle/sunaapxkpvrhpjplsok.  sunaapxkpvrhpjplsok.jpg\n",
       "11  ingle/sunaprnrbmgkomdbchr  sunaprnrbmgkomdbchr.jpg\n",
       "12  tim/single/00747941201fa.        00747941201fa.jpg\n",
       "13  ngle/sunaapfaivxqoynnwwp.  sunaapfaivxqoynnwwp.jpg\n",
       "14  ngle/sunathzzbcwjykldrem.  sunathzzbcwjykldrem.jpg\n",
       "15  tim/single/00270940422fb.        00270940422fb.jpg\n",
       "16  tim/single/00719941201fa.        00719941201fa.jpg\n",
       "17  ngle/sunadvithllcgmfxsrn.  sunadvithllcgmfxsrn.jpg\n",
       "18  ngle/sunajawzbrlrwafowen.  sunajawzbrlrwafowen.jpg\n",
       "19  ngle/sunaavodbcpygkggnfp.  sunaavodbcpygkggnfp.jpg\n",
       "20  tim/single/00670941121fa.        00670941121fa.jpg\n",
       "21  tim/single/00081941031fa.        00081941031fa.jpg\n",
       "22  tim/single/00730960620fa.        00730960620fa.jpg\n",
       "23  ngle/sunadochqcucscehsgk.  sunadochqcucscehsgk.jpg\n",
       "24  tim/single/00848940307fa.        00848940307fa.jpg\n",
       "25  tim/single/00864940307fa.        00864940307fa.jpg\n",
       "26  tim/single/00163931230fb.        00163931230fb.jpg\n",
       "27  ngle/sunagtqhhwxjeuxdebe.  sunagtqhhwxjeuxdebe.jpg\n",
       "28  tim/single/00142931230fb.        00142931230fb.jpg\n",
       "29  ngle/sunaeutbrtswvsozxyk.  sunaeutbrtswvsozxyk.jpg\n",
       "30  tim/single/00929960627fa.        00929960627fa.jpg\n",
       "31  tim/single/00138931230fa.        00138931230fa.jpg\n",
       "32  ingle/sunaekgzpfilgjxpeyq  sunaekgzpfilgjxpeyq.jpg\n",
       "33  ngle/sunaivdylrawbmhryfp.  sunaivdylrawbmhryfp.jpg\n",
       "34  stim/single/00752960620fa        00752960620fa.jpg\n",
       "35  tim/single/00794960620fa.        00794960620fa.jpg\n",
       "36  ngle/sunagdzlvkqtpnfxfcg.  sunagdzlvkqtpnfxfcg.jpg\n",
       "37  ngle/sunafbwnojpqeyzssoe.  sunafbwnojpqeyzssoe.jpg\n",
       "38  ingle/sunaaftlyfudyzuhqzf  sunaaftlyfudyzuhqzf.jpg\n",
       "39  tim/single/00859940307fa.        00859940307fa.jpg"
      ]
     },
     "execution_count": 26,
     "metadata": {},
     "output_type": "execute_result"
    }
   ],
   "source": [
    "pd.DataFrame(image_dict)"
   ]
  },
  {
   "cell_type": "markdown",
   "metadata": {},
   "source": [
    "Onset times from log"
   ]
  },
  {
   "cell_type": "code",
   "execution_count": 27,
   "metadata": {},
   "outputs": [],
   "source": [
    "d2={}"
   ]
  },
  {
   "cell_type": "code",
   "execution_count": 28,
   "metadata": {},
   "outputs": [],
   "source": [
    "onset_list = [x[-13:] for x in list(log_file[(log_file['DATA'].str.contains('MEMORY')) & (log_file['DATA'].str.contains('ON')) & (~log_file['DATA'].str.contains('practice'))]['DATA'])]\n",
    "d2['memory_onset_log'] = [float(x.replace(\"c\", \"\")) for x in onset_list]\n",
    "#onset_list"
   ]
  },
  {
   "cell_type": "markdown",
   "metadata": {},
   "source": [
    "Onset times from csv"
   ]
  },
  {
   "cell_type": "code",
   "execution_count": 29,
   "metadata": {},
   "outputs": [],
   "source": [
    "d2['memory_onset_csv'] = list(exp_raw[exp_raw['Trial Type']=='Memory']['Stimulus Onset'])"
   ]
  },
  {
   "cell_type": "markdown",
   "metadata": {},
   "source": [
    "Aggregate end times from log and csv"
   ]
  },
  {
   "cell_type": "code",
   "execution_count": 30,
   "metadata": {},
   "outputs": [],
   "source": [
    "d2['memory_off_log']=[x[-13:] for x in list(log_file[(log_file['DATA'].str.contains('MEMORY')) & (log_file['DATA'].str.contains('OFF')) & (~log_file['DATA'].str.contains('practice'))]['DATA'])]\n",
    "d2['memory_off_csv'] = list(exp_raw[exp_raw['Trial Type']=='Memory']['Stimulus End'])"
   ]
  },
  {
   "cell_type": "code",
   "execution_count": 31,
   "metadata": {},
   "outputs": [
    {
     "data": {
      "text/html": [
       "<div>\n",
       "<style scoped>\n",
       "    .dataframe tbody tr th:only-of-type {\n",
       "        vertical-align: middle;\n",
       "    }\n",
       "\n",
       "    .dataframe tbody tr th {\n",
       "        vertical-align: top;\n",
       "    }\n",
       "\n",
       "    .dataframe thead th {\n",
       "        text-align: right;\n",
       "    }\n",
       "</style>\n",
       "<table border=\"1\" class=\"dataframe\">\n",
       "  <thead>\n",
       "    <tr style=\"text-align: right;\">\n",
       "      <th></th>\n",
       "      <th>memory_onset_log</th>\n",
       "      <th>memory_onset_csv</th>\n",
       "      <th>memory_off_log</th>\n",
       "      <th>memory_off_csv</th>\n",
       "    </tr>\n",
       "  </thead>\n",
       "  <tbody>\n",
       "    <tr>\n",
       "      <td>0</td>\n",
       "      <td>1.567724e+09</td>\n",
       "      <td>1.567724e+09</td>\n",
       "      <td>1567723866.32</td>\n",
       "      <td>1.567724e+09</td>\n",
       "    </tr>\n",
       "    <tr>\n",
       "      <td>1</td>\n",
       "      <td>1.567724e+09</td>\n",
       "      <td>1.567724e+09</td>\n",
       "      <td>1567723869.57</td>\n",
       "      <td>1.567724e+09</td>\n",
       "    </tr>\n",
       "    <tr>\n",
       "      <td>2</td>\n",
       "      <td>1.567724e+09</td>\n",
       "      <td>1.567724e+09</td>\n",
       "      <td>1567723872.82</td>\n",
       "      <td>1.567724e+09</td>\n",
       "    </tr>\n",
       "    <tr>\n",
       "      <td>3</td>\n",
       "      <td>1.567724e+09</td>\n",
       "      <td>1.567724e+09</td>\n",
       "      <td>1567723876.08</td>\n",
       "      <td>1.567724e+09</td>\n",
       "    </tr>\n",
       "    <tr>\n",
       "      <td>4</td>\n",
       "      <td>1.567724e+09</td>\n",
       "      <td>1.567724e+09</td>\n",
       "      <td>1567723879.31</td>\n",
       "      <td>1.567724e+09</td>\n",
       "    </tr>\n",
       "  </tbody>\n",
       "</table>\n",
       "</div>"
      ],
      "text/plain": [
       "   memory_onset_log  memory_onset_csv memory_off_log  memory_off_csv\n",
       "0      1.567724e+09      1.567724e+09  1567723866.32    1.567724e+09\n",
       "1      1.567724e+09      1.567724e+09  1567723869.57    1.567724e+09\n",
       "2      1.567724e+09      1.567724e+09  1567723872.82    1.567724e+09\n",
       "3      1.567724e+09      1.567724e+09  1567723876.08    1.567724e+09\n",
       "4      1.567724e+09      1.567724e+09  1567723879.31    1.567724e+09"
      ]
     },
     "execution_count": 31,
     "metadata": {},
     "output_type": "execute_result"
    }
   ],
   "source": [
    "d2 = pd.DataFrame(d2)\n",
    "d2.head()"
   ]
  },
  {
   "cell_type": "code",
   "execution_count": 32,
   "metadata": {},
   "outputs": [],
   "source": [
    "d2['mem_onset_diff'] = d2['memory_onset_csv'] - d2['memory_onset_log']"
   ]
  },
  {
   "cell_type": "code",
   "execution_count": 33,
   "metadata": {},
   "outputs": [
    {
     "name": "stdout",
     "output_type": "stream",
     "text": [
      "Average difference in memory image onset time between csv and log: 0.031040257215499877\n"
     ]
    }
   ],
   "source": [
    "print('Average difference in memory image onset time between csv and log: '+str(d2['mem_onset_diff'].mean()))"
   ]
  },
  {
   "cell_type": "code",
   "execution_count": 34,
   "metadata": {},
   "outputs": [],
   "source": [
    "d2['memory_off_log'] = pd.to_numeric(d2['memory_off_log'])\n",
    "d2['mem_off_diff'] = d2['memory_off_csv'] - d2['memory_off_log']"
   ]
  },
  {
   "cell_type": "code",
   "execution_count": 35,
   "metadata": {},
   "outputs": [
    {
     "name": "stdout",
     "output_type": "stream",
     "text": [
      "Average difference in end time between csv and log: -0.12692257165908813\n"
     ]
    }
   ],
   "source": [
    "print('Average difference in end time between csv and log: '+str(d2['mem_off_diff'].mean()))"
   ]
  },
  {
   "cell_type": "markdown",
   "metadata": {},
   "source": [
    "this longer lag in end time is likely due to the amount of time taken to extract the rating from the rating scale. Can time this, to check, and also move the rating scale data pulling code to after the stimulus has been pulled from the screen"
   ]
  },
  {
   "cell_type": "markdown",
   "metadata": {},
   "source": [
    "# Check Responses and Reaction Times"
   ]
  },
  {
   "cell_type": "markdown",
   "metadata": {},
   "source": [
    "Here we see that the ratings and reaction times are the same across the log files and csv. Note that the log file does not record a spearate line for the rating scale history when no response is recorded. So, every Nan in the memory data from the csv corresponds with a skipped row in the list below."
   ]
  },
  {
   "cell_type": "code",
   "execution_count": 36,
   "metadata": {},
   "outputs": [
    {
     "name": "stdout",
     "output_type": "stream",
     "text": [
      "72\n",
      "\n"
     ]
    },
    {
     "data": {
      "text/plain": [
       "['142.9275 \\tDATA \\tRatingScale unnamed RatingScale: rating RT=0.520',\n",
       " '142.9275 \\tDATA \\tRatingScale unnamed RatingScale: history=[(None, 0.0), (1, 0.52)]',\n",
       " '149.9966 \\tDATA \\tRatingScale unnamed RatingScale: rating RT=1.020',\n",
       " '149.9966 \\tDATA \\tRatingScale unnamed RatingScale: history=[(None, 0.0), (4, 1.02)]',\n",
       " '152.9806 \\tDATA \\tRatingScale unnamed RatingScale: rating RT=0.753',\n",
       " '152.9807 \\tDATA \\tRatingScale unnamed RatingScale: history=[(None, 0.0), (2, 0.753)]',\n",
       " '155.9822 \\tDATA \\tRatingScale unnamed RatingScale: rating RT=0.520',\n",
       " '155.9822 \\tDATA \\tRatingScale unnamed RatingScale: history=[(None, 0.0), (2, 0.519)]',\n",
       " '159.5002 \\tDATA \\tRatingScale unnamed RatingScale: rating RT=0.787',\n",
       " '159.5002 \\tDATA \\tRatingScale unnamed RatingScale: history=[(None, 0.0), (1, 0.787)]',\n",
       " '162.3167 \\tDATA \\tRatingScale unnamed RatingScale: rating RT=0.353',\n",
       " '162.3167 \\tDATA \\tRatingScale unnamed RatingScale: history=[(None, 0.0), (3, 0.353)]',\n",
       " '165.4024 \\tDATA \\tRatingScale unnamed RatingScale: rating RT=0.204',\n",
       " '165.4024 \\tDATA \\tRatingScale unnamed RatingScale: history=[(None, 0.0), (3, 0.204)]',\n",
       " '171.9529 \\tDATA \\tRatingScale unnamed RatingScale: rating RT=0.252',\n",
       " '171.9530 \\tDATA \\tRatingScale unnamed RatingScale: history=[(None, 0.0), (2, 0.252)]',\n",
       " '175.3387 \\tDATA \\tRatingScale unnamed RatingScale: rating RT=0.387',\n",
       " '175.3387 \\tDATA \\tRatingScale unnamed RatingScale: history=[(None, 0.0), (1, 0.387)]',\n",
       " '178.8401 \\tDATA \\tRatingScale unnamed RatingScale: rating RT=0.638',\n",
       " '178.8401 \\tDATA \\tRatingScale unnamed RatingScale: history=[(None, 0.0), (4, 0.638)]',\n",
       " '185.0913 \\tDATA \\tRatingScale unnamed RatingScale: rating RT=0.303',\n",
       " '185.0913 \\tDATA \\tRatingScale unnamed RatingScale: history=[(None, 0.0), (3, 0.303)]',\n",
       " '188.5417 \\tDATA \\tRatingScale unnamed RatingScale: rating RT=0.503',\n",
       " '188.5417 \\tDATA \\tRatingScale unnamed RatingScale: history=[(None, 0.0), (2, 0.503)]',\n",
       " '191.7929 \\tDATA \\tRatingScale unnamed RatingScale: rating RT=0.519',\n",
       " '191.7929 \\tDATA \\tRatingScale unnamed RatingScale: history=[(None, 0.0), (3, 0.519)]',\n",
       " '195.3944 \\tDATA \\tRatingScale unnamed RatingScale: rating RT=0.769',\n",
       " '195.3944 \\tDATA \\tRatingScale unnamed RatingScale: history=[(None, 0.0), (3, 0.769)]',\n",
       " '198.1953 \\tDATA \\tRatingScale unnamed RatingScale: rating RT=0.320',\n",
       " '198.1954 \\tDATA \\tRatingScale unnamed RatingScale: history=[(None, 0.0), (2, 0.32)]',\n",
       " '201.4627 \\tDATA \\tRatingScale unnamed RatingScale: rating RT=0.336',\n",
       " '201.4627 \\tDATA \\tRatingScale unnamed RatingScale: history=[(None, 0.0), (1, 0.336)]',\n",
       " '207.8989 \\tDATA \\tRatingScale unnamed RatingScale: rating RT=0.287',\n",
       " '207.8989 \\tDATA \\tRatingScale unnamed RatingScale: history=[(None, 0.0), (1, 0.287)]',\n",
       " '211.3992 \\tDATA \\tRatingScale unnamed RatingScale: rating RT=0.419',\n",
       " '211.3992 \\tDATA \\tRatingScale unnamed RatingScale: history=[(None, 0.0), (4, 0.419)]',\n",
       " '214.4512 \\tDATA \\tRatingScale unnamed RatingScale: rating RT=0.237',\n",
       " '214.4512 \\tDATA \\tRatingScale unnamed RatingScale: history=[(None, 0.0), (3, 0.237)]',\n",
       " '217.9511 \\tDATA \\tRatingScale unnamed RatingScale: rating RT=0.403',\n",
       " '217.9511 \\tDATA \\tRatingScale unnamed RatingScale: history=[(None, 0.0), (4, 0.403)]',\n",
       " '221.3525 \\tDATA \\tRatingScale unnamed RatingScale: rating RT=0.536',\n",
       " '221.3525 \\tDATA \\tRatingScale unnamed RatingScale: history=[(None, 0.0), (4, 0.536)]',\n",
       " '224.3535 \\tDATA \\tRatingScale unnamed RatingScale: rating RT=0.303',\n",
       " '224.3535 \\tDATA \\tRatingScale unnamed RatingScale: history=[(None, 0.0), (2, 0.303)]',\n",
       " '227.6708 \\tDATA \\tRatingScale unnamed RatingScale: rating RT=0.369',\n",
       " '227.6708 \\tDATA \\tRatingScale unnamed RatingScale: history=[(None, 0.0), (1, 0.369)]',\n",
       " '230.9224 \\tDATA \\tRatingScale unnamed RatingScale: rating RT=0.370',\n",
       " '230.9224 \\tDATA \\tRatingScale unnamed RatingScale: history=[(None, 0.0), (2, 0.369)]',\n",
       " '235.0239 \\tDATA \\tRatingScale unnamed RatingScale: rating RT=1.203',\n",
       " '235.0239 \\tDATA \\tRatingScale unnamed RatingScale: history=[(None, 0.0), (2, 1.203)]',\n",
       " '237.4410 \\tDATA \\tRatingScale unnamed RatingScale: rating RT=0.353',\n",
       " '237.4410 \\tDATA \\tRatingScale unnamed RatingScale: history=[(None, 0.0), (3, 0.353)]',\n",
       " '240.6594 \\tDATA \\tRatingScale unnamed RatingScale: rating RT=0.253',\n",
       " '240.6595 \\tDATA \\tRatingScale unnamed RatingScale: history=[(None, 0.0), (1, 0.253)]',\n",
       " '244.2445 \\tDATA \\tRatingScale unnamed RatingScale: rating RT=0.487',\n",
       " '244.2445 \\tDATA \\tRatingScale unnamed RatingScale: history=[(None, 0.0), (4, 0.486)]',\n",
       " '247.3946 \\tDATA \\tRatingScale unnamed RatingScale: rating RT=0.403',\n",
       " '247.3946 \\tDATA \\tRatingScale unnamed RatingScale: history=[(None, 0.0), (3, 0.403)]',\n",
       " '250.6792 \\tDATA \\tRatingScale unnamed RatingScale: rating RT=0.420',\n",
       " '250.6792 \\tDATA \\tRatingScale unnamed RatingScale: history=[(None, 0.0), (2, 0.42)]',\n",
       " '254.1800 \\tDATA \\tRatingScale unnamed RatingScale: rating RT=0.687',\n",
       " '254.1800 \\tDATA \\tRatingScale unnamed RatingScale: history=[(None, 0.0), (3, 0.687)]',\n",
       " '257.0304 \\tDATA \\tRatingScale unnamed RatingScale: rating RT=0.269',\n",
       " '257.0304 \\tDATA \\tRatingScale unnamed RatingScale: history=[(None, 0.0), (2, 0.269)]',\n",
       " '260.3656 \\tDATA \\tRatingScale unnamed RatingScale: rating RT=0.370',\n",
       " '260.3656 \\tDATA \\tRatingScale unnamed RatingScale: history=[(None, 0.0), (1, 0.37)]',\n",
       " '263.5667 \\tDATA \\tRatingScale unnamed RatingScale: rating RT=0.320',\n",
       " '263.5667 \\tDATA \\tRatingScale unnamed RatingScale: history=[(None, 0.0), (1, 0.32)]',\n",
       " '266.8005 \\tDATA \\tRatingScale unnamed RatingScale: rating RT=0.303',\n",
       " '266.8005 \\tDATA \\tRatingScale unnamed RatingScale: history=[(None, 0.0), (3, 0.303)]',\n",
       " '269.9024 \\tDATA \\tRatingScale unnamed RatingScale: rating RT=0.170',\n",
       " '269.9024 \\tDATA \\tRatingScale unnamed RatingScale: history=[(None, 0.0), (2, 0.17)]']"
      ]
     },
     "execution_count": 36,
     "metadata": {},
     "output_type": "execute_result"
    }
   ],
   "source": [
    "# Note, we do not show the first four rating scales because these are from the practice/instruction round\n",
    "# that is, we ignore the first 8 list items (RT and response info (2) for each practice image (4) --> 2*4 = 8)\n",
    "\n",
    "print(len([x for x in list(log_file[((log_file['DATA'].str.contains('history')) | (log_file['DATA'].str.contains('RT')))]['DATA'])][8:]))\n",
    "print()\n",
    "\n",
    "[x for x in list(log_file[((log_file['DATA'].str.contains('history')) | (log_file['DATA'].str.contains('RT')))]['DATA'])][8:]"
   ]
  },
  {
   "cell_type": "code",
   "execution_count": 37,
   "metadata": {},
   "outputs": [],
   "source": [
    "### show ratings and reaction times from csv file\n",
    "\n",
    "# Note that above we see there are 4 ratings that do not appear \n",
    "# (participant did not rate the image) and we have four Nan values below"
   ]
  },
  {
   "cell_type": "code",
   "execution_count": 38,
   "metadata": {},
   "outputs": [
    {
     "data": {
      "text/html": [
       "<div>\n",
       "<style scoped>\n",
       "    .dataframe tbody tr th:only-of-type {\n",
       "        vertical-align: middle;\n",
       "    }\n",
       "\n",
       "    .dataframe tbody tr th {\n",
       "        vertical-align: top;\n",
       "    }\n",
       "\n",
       "    .dataframe thead th {\n",
       "        text-align: right;\n",
       "    }\n",
       "</style>\n",
       "<table border=\"1\" class=\"dataframe\">\n",
       "  <thead>\n",
       "    <tr style=\"text-align: right;\">\n",
       "      <th></th>\n",
       "      <th>Familiarity Rating</th>\n",
       "      <th>Familiarity Reaction Time (s)</th>\n",
       "      <th>Memory Image</th>\n",
       "    </tr>\n",
       "  </thead>\n",
       "  <tbody>\n",
       "    <tr>\n",
       "      <td>10</td>\n",
       "      <td>1.0</td>\n",
       "      <td>0.520</td>\n",
       "      <td>00952960627fa.jpg</td>\n",
       "    </tr>\n",
       "    <tr>\n",
       "      <td>11</td>\n",
       "      <td>NaN</td>\n",
       "      <td>0.000</td>\n",
       "      <td>sunapqwoeotxshkukbh.jpg</td>\n",
       "    </tr>\n",
       "    <tr>\n",
       "      <td>12</td>\n",
       "      <td>4.0</td>\n",
       "      <td>1.020</td>\n",
       "      <td>sunafvwfsmqkjrutjta.jpg</td>\n",
       "    </tr>\n",
       "    <tr>\n",
       "      <td>13</td>\n",
       "      <td>2.0</td>\n",
       "      <td>0.753</td>\n",
       "      <td>sunabllobxadqcyttej.jpg</td>\n",
       "    </tr>\n",
       "    <tr>\n",
       "      <td>14</td>\n",
       "      <td>2.0</td>\n",
       "      <td>0.519</td>\n",
       "      <td>sunacepzfrmtkiqonpy.jpg</td>\n",
       "    </tr>\n",
       "    <tr>\n",
       "      <td>15</td>\n",
       "      <td>1.0</td>\n",
       "      <td>0.787</td>\n",
       "      <td>sunaiycurtqsfkvcaso.jpg</td>\n",
       "    </tr>\n",
       "    <tr>\n",
       "      <td>16</td>\n",
       "      <td>3.0</td>\n",
       "      <td>0.353</td>\n",
       "      <td>00543940519fa.jpg</td>\n",
       "    </tr>\n",
       "    <tr>\n",
       "      <td>17</td>\n",
       "      <td>3.0</td>\n",
       "      <td>0.204</td>\n",
       "      <td>00775941205fa.jpg</td>\n",
       "    </tr>\n",
       "    <tr>\n",
       "      <td>18</td>\n",
       "      <td>NaN</td>\n",
       "      <td>0.000</td>\n",
       "      <td>00779941205fa.jpg</td>\n",
       "    </tr>\n",
       "    <tr>\n",
       "      <td>19</td>\n",
       "      <td>2.0</td>\n",
       "      <td>0.252</td>\n",
       "      <td>00926960627Fa.jpg</td>\n",
       "    </tr>\n",
       "    <tr>\n",
       "      <td>20</td>\n",
       "      <td>1.0</td>\n",
       "      <td>0.387</td>\n",
       "      <td>sunaapxkpvrhpjplsok.jpg</td>\n",
       "    </tr>\n",
       "    <tr>\n",
       "      <td>21</td>\n",
       "      <td>4.0</td>\n",
       "      <td>0.638</td>\n",
       "      <td>sunaprnrbmgkomdbchr.jpg</td>\n",
       "    </tr>\n",
       "    <tr>\n",
       "      <td>22</td>\n",
       "      <td>NaN</td>\n",
       "      <td>0.000</td>\n",
       "      <td>00747941201fa.jpg</td>\n",
       "    </tr>\n",
       "    <tr>\n",
       "      <td>23</td>\n",
       "      <td>3.0</td>\n",
       "      <td>0.303</td>\n",
       "      <td>sunaapfaivxqoynnwwp.jpg</td>\n",
       "    </tr>\n",
       "    <tr>\n",
       "      <td>24</td>\n",
       "      <td>2.0</td>\n",
       "      <td>0.503</td>\n",
       "      <td>sunathzzbcwjykldrem.jpg</td>\n",
       "    </tr>\n",
       "    <tr>\n",
       "      <td>25</td>\n",
       "      <td>3.0</td>\n",
       "      <td>0.519</td>\n",
       "      <td>00270940422fb.jpg</td>\n",
       "    </tr>\n",
       "    <tr>\n",
       "      <td>26</td>\n",
       "      <td>3.0</td>\n",
       "      <td>0.769</td>\n",
       "      <td>00719941201fa.jpg</td>\n",
       "    </tr>\n",
       "    <tr>\n",
       "      <td>27</td>\n",
       "      <td>2.0</td>\n",
       "      <td>0.320</td>\n",
       "      <td>sunadvithllcgmfxsrn.jpg</td>\n",
       "    </tr>\n",
       "    <tr>\n",
       "      <td>28</td>\n",
       "      <td>1.0</td>\n",
       "      <td>0.336</td>\n",
       "      <td>sunajawzbrlrwafowen.jpg</td>\n",
       "    </tr>\n",
       "    <tr>\n",
       "      <td>29</td>\n",
       "      <td>NaN</td>\n",
       "      <td>0.000</td>\n",
       "      <td>sunaavodbcpygkggnfp.jpg</td>\n",
       "    </tr>\n",
       "    <tr>\n",
       "      <td>30</td>\n",
       "      <td>1.0</td>\n",
       "      <td>0.287</td>\n",
       "      <td>00670941121fa.jpg</td>\n",
       "    </tr>\n",
       "    <tr>\n",
       "      <td>31</td>\n",
       "      <td>4.0</td>\n",
       "      <td>0.419</td>\n",
       "      <td>00081941031fa.jpg</td>\n",
       "    </tr>\n",
       "    <tr>\n",
       "      <td>32</td>\n",
       "      <td>3.0</td>\n",
       "      <td>0.237</td>\n",
       "      <td>00730960620fa.jpg</td>\n",
       "    </tr>\n",
       "    <tr>\n",
       "      <td>33</td>\n",
       "      <td>4.0</td>\n",
       "      <td>0.403</td>\n",
       "      <td>sunadochqcucscehsgk.jpg</td>\n",
       "    </tr>\n",
       "    <tr>\n",
       "      <td>34</td>\n",
       "      <td>4.0</td>\n",
       "      <td>0.536</td>\n",
       "      <td>00848940307fa.jpg</td>\n",
       "    </tr>\n",
       "    <tr>\n",
       "      <td>35</td>\n",
       "      <td>2.0</td>\n",
       "      <td>0.303</td>\n",
       "      <td>00864940307fa.jpg</td>\n",
       "    </tr>\n",
       "    <tr>\n",
       "      <td>36</td>\n",
       "      <td>1.0</td>\n",
       "      <td>0.369</td>\n",
       "      <td>00163931230fb.jpg</td>\n",
       "    </tr>\n",
       "    <tr>\n",
       "      <td>37</td>\n",
       "      <td>2.0</td>\n",
       "      <td>0.369</td>\n",
       "      <td>sunagtqhhwxjeuxdebe.jpg</td>\n",
       "    </tr>\n",
       "    <tr>\n",
       "      <td>38</td>\n",
       "      <td>2.0</td>\n",
       "      <td>1.203</td>\n",
       "      <td>00142931230fb.jpg</td>\n",
       "    </tr>\n",
       "    <tr>\n",
       "      <td>39</td>\n",
       "      <td>3.0</td>\n",
       "      <td>0.353</td>\n",
       "      <td>sunaeutbrtswvsozxyk.jpg</td>\n",
       "    </tr>\n",
       "    <tr>\n",
       "      <td>40</td>\n",
       "      <td>1.0</td>\n",
       "      <td>0.253</td>\n",
       "      <td>00929960627fa.jpg</td>\n",
       "    </tr>\n",
       "    <tr>\n",
       "      <td>41</td>\n",
       "      <td>4.0</td>\n",
       "      <td>0.486</td>\n",
       "      <td>00138931230fa.jpg</td>\n",
       "    </tr>\n",
       "    <tr>\n",
       "      <td>42</td>\n",
       "      <td>3.0</td>\n",
       "      <td>0.403</td>\n",
       "      <td>sunaekgzpfilgjxpeyq.jpg</td>\n",
       "    </tr>\n",
       "    <tr>\n",
       "      <td>43</td>\n",
       "      <td>2.0</td>\n",
       "      <td>0.420</td>\n",
       "      <td>sunaivdylrawbmhryfp.jpg</td>\n",
       "    </tr>\n",
       "    <tr>\n",
       "      <td>44</td>\n",
       "      <td>3.0</td>\n",
       "      <td>0.687</td>\n",
       "      <td>00752960620fa.jpg</td>\n",
       "    </tr>\n",
       "    <tr>\n",
       "      <td>45</td>\n",
       "      <td>2.0</td>\n",
       "      <td>0.269</td>\n",
       "      <td>00794960620fa.jpg</td>\n",
       "    </tr>\n",
       "    <tr>\n",
       "      <td>46</td>\n",
       "      <td>1.0</td>\n",
       "      <td>0.370</td>\n",
       "      <td>sunagdzlvkqtpnfxfcg.jpg</td>\n",
       "    </tr>\n",
       "    <tr>\n",
       "      <td>47</td>\n",
       "      <td>1.0</td>\n",
       "      <td>0.320</td>\n",
       "      <td>sunafbwnojpqeyzssoe.jpg</td>\n",
       "    </tr>\n",
       "    <tr>\n",
       "      <td>48</td>\n",
       "      <td>3.0</td>\n",
       "      <td>0.303</td>\n",
       "      <td>sunaaftlyfudyzuhqzf.jpg</td>\n",
       "    </tr>\n",
       "    <tr>\n",
       "      <td>49</td>\n",
       "      <td>2.0</td>\n",
       "      <td>0.170</td>\n",
       "      <td>00859940307fa.jpg</td>\n",
       "    </tr>\n",
       "  </tbody>\n",
       "</table>\n",
       "</div>"
      ],
      "text/plain": [
       "    Familiarity Rating  Familiarity Reaction Time (s)             Memory Image\n",
       "10                 1.0                          0.520        00952960627fa.jpg\n",
       "11                 NaN                          0.000  sunapqwoeotxshkukbh.jpg\n",
       "12                 4.0                          1.020  sunafvwfsmqkjrutjta.jpg\n",
       "13                 2.0                          0.753  sunabllobxadqcyttej.jpg\n",
       "14                 2.0                          0.519  sunacepzfrmtkiqonpy.jpg\n",
       "15                 1.0                          0.787  sunaiycurtqsfkvcaso.jpg\n",
       "16                 3.0                          0.353        00543940519fa.jpg\n",
       "17                 3.0                          0.204        00775941205fa.jpg\n",
       "18                 NaN                          0.000        00779941205fa.jpg\n",
       "19                 2.0                          0.252        00926960627Fa.jpg\n",
       "20                 1.0                          0.387  sunaapxkpvrhpjplsok.jpg\n",
       "21                 4.0                          0.638  sunaprnrbmgkomdbchr.jpg\n",
       "22                 NaN                          0.000        00747941201fa.jpg\n",
       "23                 3.0                          0.303  sunaapfaivxqoynnwwp.jpg\n",
       "24                 2.0                          0.503  sunathzzbcwjykldrem.jpg\n",
       "25                 3.0                          0.519        00270940422fb.jpg\n",
       "26                 3.0                          0.769        00719941201fa.jpg\n",
       "27                 2.0                          0.320  sunadvithllcgmfxsrn.jpg\n",
       "28                 1.0                          0.336  sunajawzbrlrwafowen.jpg\n",
       "29                 NaN                          0.000  sunaavodbcpygkggnfp.jpg\n",
       "30                 1.0                          0.287        00670941121fa.jpg\n",
       "31                 4.0                          0.419        00081941031fa.jpg\n",
       "32                 3.0                          0.237        00730960620fa.jpg\n",
       "33                 4.0                          0.403  sunadochqcucscehsgk.jpg\n",
       "34                 4.0                          0.536        00848940307fa.jpg\n",
       "35                 2.0                          0.303        00864940307fa.jpg\n",
       "36                 1.0                          0.369        00163931230fb.jpg\n",
       "37                 2.0                          0.369  sunagtqhhwxjeuxdebe.jpg\n",
       "38                 2.0                          1.203        00142931230fb.jpg\n",
       "39                 3.0                          0.353  sunaeutbrtswvsozxyk.jpg\n",
       "40                 1.0                          0.253        00929960627fa.jpg\n",
       "41                 4.0                          0.486        00138931230fa.jpg\n",
       "42                 3.0                          0.403  sunaekgzpfilgjxpeyq.jpg\n",
       "43                 2.0                          0.420  sunaivdylrawbmhryfp.jpg\n",
       "44                 3.0                          0.687        00752960620fa.jpg\n",
       "45                 2.0                          0.269        00794960620fa.jpg\n",
       "46                 1.0                          0.370  sunagdzlvkqtpnfxfcg.jpg\n",
       "47                 1.0                          0.320  sunafbwnojpqeyzssoe.jpg\n",
       "48                 3.0                          0.303  sunaaftlyfudyzuhqzf.jpg\n",
       "49                 2.0                          0.170        00859940307fa.jpg"
      ]
     },
     "execution_count": 38,
     "metadata": {},
     "output_type": "execute_result"
    }
   ],
   "source": [
    "exp_raw[exp_raw['Trial Type']=='Memory'][['Familiarity Rating','Familiarity Reaction Time (s)','Memory Image']]"
   ]
  },
  {
   "cell_type": "markdown",
   "metadata": {},
   "source": [
    "# Check attention probe RT's"
   ]
  },
  {
   "cell_type": "code",
   "execution_count": 39,
   "metadata": {},
   "outputs": [
    {
     "data": {
      "text/html": [
       "<div>\n",
       "<style scoped>\n",
       "    .dataframe tbody tr th:only-of-type {\n",
       "        vertical-align: middle;\n",
       "    }\n",
       "\n",
       "    .dataframe tbody tr th {\n",
       "        vertical-align: top;\n",
       "    }\n",
       "\n",
       "    .dataframe thead th {\n",
       "        text-align: right;\n",
       "    }\n",
       "</style>\n",
       "<table border=\"1\" class=\"dataframe\">\n",
       "  <thead>\n",
       "    <tr style=\"text-align: right;\">\n",
       "      <th></th>\n",
       "      <th>DATA</th>\n",
       "      <th>TIME</th>\n",
       "    </tr>\n",
       "  </thead>\n",
       "  <tbody>\n",
       "    <tr>\n",
       "      <td>199</td>\n",
       "      <td>29.5553 \\tDATA \\tKeypress: 3</td>\n",
       "      <td>29.5553</td>\n",
       "    </tr>\n",
       "    <tr>\n",
       "      <td>214</td>\n",
       "      <td>33.2049 \\tEXP \\tWIN FLIP : STIMULUS ATTN PROBE...</td>\n",
       "      <td>33.2049</td>\n",
       "    </tr>\n",
       "    <tr>\n",
       "      <td>215</td>\n",
       "      <td>34.0742 \\tDATA \\tKeypress: 1</td>\n",
       "      <td>34.0742</td>\n",
       "    </tr>\n",
       "    <tr>\n",
       "      <td>241</td>\n",
       "      <td>40.8414 \\tEXP \\tWIN FLIP : STIMULUS ATTN PROBE...</td>\n",
       "      <td>40.8414</td>\n",
       "    </tr>\n",
       "    <tr>\n",
       "      <td>242</td>\n",
       "      <td>41.7257 \\tDATA \\tKeypress: 3</td>\n",
       "      <td>41.7257</td>\n",
       "    </tr>\n",
       "    <tr>\n",
       "      <td>268</td>\n",
       "      <td>48.3765 \\tEXP \\tWIN FLIP : STIMULUS ATTN PROBE...</td>\n",
       "      <td>48.3765</td>\n",
       "    </tr>\n",
       "    <tr>\n",
       "      <td>269</td>\n",
       "      <td>48.9789 \\tDATA \\tKeypress: 3</td>\n",
       "      <td>48.9789</td>\n",
       "    </tr>\n",
       "    <tr>\n",
       "      <td>275</td>\n",
       "      <td>50.9143 \\tDATA \\tKeypress: space</td>\n",
       "      <td>50.9143</td>\n",
       "    </tr>\n",
       "    <tr>\n",
       "      <td>397</td>\n",
       "      <td>53.2302 \\tDATA \\tKeypress: 3</td>\n",
       "      <td>53.2302</td>\n",
       "    </tr>\n",
       "    <tr>\n",
       "      <td>584</td>\n",
       "      <td>55.7658 \\tDATA \\tKeypress: 2</td>\n",
       "      <td>55.7658</td>\n",
       "    </tr>\n",
       "    <tr>\n",
       "      <td>839</td>\n",
       "      <td>58.8675 \\tDATA \\tKeypress: 4</td>\n",
       "      <td>58.8675</td>\n",
       "    </tr>\n",
       "    <tr>\n",
       "      <td>1122</td>\n",
       "      <td>62.2006 \\tDATA \\tKeypress: 1</td>\n",
       "      <td>62.2006</td>\n",
       "    </tr>\n",
       "    <tr>\n",
       "      <td>1300</td>\n",
       "      <td>64.3383 \\tDATA \\tKeypress: space</td>\n",
       "      <td>64.3383</td>\n",
       "    </tr>\n",
       "    <tr>\n",
       "      <td>1330</td>\n",
       "      <td>70.0841 \\tEXP \\tWIN FLIP : STIMULUS ATTN PROBE...</td>\n",
       "      <td>70.0841</td>\n",
       "    </tr>\n",
       "    <tr>\n",
       "      <td>1331</td>\n",
       "      <td>70.6851 \\tDATA \\tKeypress: 1</td>\n",
       "      <td>70.6851</td>\n",
       "    </tr>\n",
       "    <tr>\n",
       "      <td>1361</td>\n",
       "      <td>77.4692 \\tEXP \\tWIN FLIP : STIMULUS ATTN PROBE...</td>\n",
       "      <td>77.4692</td>\n",
       "    </tr>\n",
       "    <tr>\n",
       "      <td>1362</td>\n",
       "      <td>78.1704 \\tDATA \\tKeypress: 4</td>\n",
       "      <td>78.1704</td>\n",
       "    </tr>\n",
       "    <tr>\n",
       "      <td>1363</td>\n",
       "      <td>78.6044 \\tDATA \\tKeypress: 3</td>\n",
       "      <td>78.6044</td>\n",
       "    </tr>\n",
       "    <tr>\n",
       "      <td>1393</td>\n",
       "      <td>85.3717 \\tEXP \\tWIN FLIP : STIMULUS ATTN PROBE...</td>\n",
       "      <td>85.3717</td>\n",
       "    </tr>\n",
       "    <tr>\n",
       "      <td>1394</td>\n",
       "      <td>86.2068 \\tDATA \\tKeypress: 1</td>\n",
       "      <td>86.2068</td>\n",
       "    </tr>\n",
       "  </tbody>\n",
       "</table>\n",
       "</div>"
      ],
      "text/plain": [
       "                                                   DATA     TIME\n",
       "199                        29.5553 \\tDATA \\tKeypress: 3  29.5553\n",
       "214   33.2049 \\tEXP \\tWIN FLIP : STIMULUS ATTN PROBE...  33.2049\n",
       "215                        34.0742 \\tDATA \\tKeypress: 1  34.0742\n",
       "241   40.8414 \\tEXP \\tWIN FLIP : STIMULUS ATTN PROBE...  40.8414\n",
       "242                        41.7257 \\tDATA \\tKeypress: 3  41.7257\n",
       "268   48.3765 \\tEXP \\tWIN FLIP : STIMULUS ATTN PROBE...  48.3765\n",
       "269                        48.9789 \\tDATA \\tKeypress: 3  48.9789\n",
       "275                    50.9143 \\tDATA \\tKeypress: space  50.9143\n",
       "397                        53.2302 \\tDATA \\tKeypress: 3  53.2302\n",
       "584                        55.7658 \\tDATA \\tKeypress: 2  55.7658\n",
       "839                        58.8675 \\tDATA \\tKeypress: 4  58.8675\n",
       "1122                       62.2006 \\tDATA \\tKeypress: 1  62.2006\n",
       "1300                   64.3383 \\tDATA \\tKeypress: space  64.3383\n",
       "1330  70.0841 \\tEXP \\tWIN FLIP : STIMULUS ATTN PROBE...  70.0841\n",
       "1331                       70.6851 \\tDATA \\tKeypress: 1  70.6851\n",
       "1361  77.4692 \\tEXP \\tWIN FLIP : STIMULUS ATTN PROBE...  77.4692\n",
       "1362                       78.1704 \\tDATA \\tKeypress: 4  78.1704\n",
       "1363                       78.6044 \\tDATA \\tKeypress: 3  78.6044\n",
       "1393  85.3717 \\tEXP \\tWIN FLIP : STIMULUS ATTN PROBE...  85.3717\n",
       "1394                       86.2068 \\tDATA \\tKeypress: 1  86.2068"
      ]
     },
     "execution_count": 39,
     "metadata": {},
     "output_type": "execute_result"
    }
   ],
   "source": [
    "log_file[((log_file['DATA'].str.contains('ATTN PROBE')) & (log_file['DATA'].str.contains('ON'))) | (log_file['DATA'].str.contains('Keypress'))].iloc[10:30][['DATA','TIME']]"
   ]
  },
  {
   "cell_type": "code",
   "execution_count": 40,
   "metadata": {},
   "outputs": [],
   "source": [
    "a = log_file[(log_file['DATA'].str.contains('ATTENTION PROBE ON'))]['DATA'].str.split('\\t', 4).str"
   ]
  },
  {
   "cell_type": "code",
   "execution_count": 41,
   "metadata": {},
   "outputs": [],
   "source": [
    "probe_indices = list(log_file[(log_file['DATA'].str.contains('ATTN PROBE ON'))].index)"
   ]
  },
  {
   "cell_type": "markdown",
   "metadata": {},
   "source": [
    "because these lines are long, they got split into two lines when converting the log file into csv format.\n",
    "if we want to look at the psychopy clock times, we have to retrieve them from the line before the attention probe line. so, we get the indices of the lines where the second half of the attention probe info displays, and subtract each by 1"
   ]
  },
  {
   "cell_type": "code",
   "execution_count": 42,
   "metadata": {},
   "outputs": [],
   "source": [
    "probe_time_indices = [x-1 for x in probe_indices]\n",
    "key_press_indices = [x+1 for x in probe_indices]"
   ]
  },
  {
   "cell_type": "code",
   "execution_count": 43,
   "metadata": {},
   "outputs": [],
   "source": [
    "for idx,x in enumerate(key_press_indices):\n",
    "    while 'Keypress: 1' not in log_file.loc[x]['DATA'] and 'Keypress: 3' not in log_file.loc[x]['DATA']:\n",
    "        x+=1\n",
    "    key_press_indices[idx]=x"
   ]
  },
  {
   "cell_type": "code",
   "execution_count": 44,
   "metadata": {},
   "outputs": [
    {
     "data": {
      "text/plain": [
       "[213, 240, 267, 1329, 1360, 1392, 1423, 1454, 1485, 1516, 1547, 1578, 1609]"
      ]
     },
     "execution_count": 44,
     "metadata": {},
     "output_type": "execute_result"
    }
   ],
   "source": [
    "probe_time_indices"
   ]
  },
  {
   "cell_type": "code",
   "execution_count": 45,
   "metadata": {},
   "outputs": [],
   "source": [
    "full_index = probe_time_indices+key_press_indices+probe_indices\n",
    "full_index.sort()"
   ]
  },
  {
   "cell_type": "code",
   "execution_count": 46,
   "metadata": {},
   "outputs": [
    {
     "data": {
      "text/html": [
       "<div>\n",
       "<style scoped>\n",
       "    .dataframe tbody tr th:only-of-type {\n",
       "        vertical-align: middle;\n",
       "    }\n",
       "\n",
       "    .dataframe tbody tr th {\n",
       "        vertical-align: top;\n",
       "    }\n",
       "\n",
       "    .dataframe thead th {\n",
       "        text-align: right;\n",
       "    }\n",
       "</style>\n",
       "<table border=\"1\" class=\"dataframe\">\n",
       "  <thead>\n",
       "    <tr style=\"text-align: right;\">\n",
       "      <th></th>\n",
       "      <th>probe_start</th>\n",
       "      <th>key press</th>\n",
       "    </tr>\n",
       "  </thead>\n",
       "  <tbody>\n",
       "    <tr>\n",
       "      <td>0</td>\n",
       "      <td>70.0841</td>\n",
       "      <td>70.6851</td>\n",
       "    </tr>\n",
       "    <tr>\n",
       "      <td>1</td>\n",
       "      <td>77.4692</td>\n",
       "      <td>78.6044</td>\n",
       "    </tr>\n",
       "    <tr>\n",
       "      <td>2</td>\n",
       "      <td>85.3717</td>\n",
       "      <td>86.2068</td>\n",
       "    </tr>\n",
       "    <tr>\n",
       "      <td>3</td>\n",
       "      <td>92.9741</td>\n",
       "      <td>93.5591</td>\n",
       "    </tr>\n",
       "    <tr>\n",
       "      <td>4</td>\n",
       "      <td>100.3274</td>\n",
       "      <td>101.0784</td>\n",
       "    </tr>\n",
       "    <tr>\n",
       "      <td>5</td>\n",
       "      <td>107.8458</td>\n",
       "      <td>108.8317</td>\n",
       "    </tr>\n",
       "    <tr>\n",
       "      <td>6</td>\n",
       "      <td>115.5991</td>\n",
       "      <td>116.6826</td>\n",
       "    </tr>\n",
       "    <tr>\n",
       "      <td>7</td>\n",
       "      <td>123.4508</td>\n",
       "      <td>124.3698</td>\n",
       "    </tr>\n",
       "    <tr>\n",
       "      <td>8</td>\n",
       "      <td>131.1203</td>\n",
       "      <td>131.5883</td>\n",
       "    </tr>\n",
       "    <tr>\n",
       "      <td>9</td>\n",
       "      <td>138.3554</td>\n",
       "      <td>138.9910</td>\n",
       "    </tr>\n",
       "  </tbody>\n",
       "</table>\n",
       "</div>"
      ],
      "text/plain": [
       "   probe_start  key press\n",
       "0      70.0841    70.6851\n",
       "1      77.4692    78.6044\n",
       "2      85.3717    86.2068\n",
       "3      92.9741    93.5591\n",
       "4     100.3274   101.0784\n",
       "5     107.8458   108.8317\n",
       "6     115.5991   116.6826\n",
       "7     123.4508   124.3698\n",
       "8     131.1203   131.5883\n",
       "9     138.3554   138.9910"
      ]
     },
     "execution_count": 46,
     "metadata": {},
     "output_type": "execute_result"
    }
   ],
   "source": [
    "attn_rt = {}\n",
    "attn_rt['probe_start'] = list(log_file.loc[probe_time_indices]['TIME'][3:])\n",
    "attn_rt['key press'] = list(log_file.loc[key_press_indices]['TIME'][3:])\n",
    "attn_df = pd.DataFrame(attn_rt)\n",
    "attn_df"
   ]
  },
  {
   "cell_type": "code",
   "execution_count": 47,
   "metadata": {},
   "outputs": [],
   "source": [
    "log_file_rt = attn_df['key press'].astype('float64')-attn_df['probe_start'].astype('float64')\n",
    "csv_rt = exp_raw[exp_raw['Trial Type']=='Presentation']['Attention Reaction Time (s)']\n",
    "thisdict = {'log rt':log_file_rt, 'csv rt':csv_rt}\n",
    "df = pd.DataFrame(thisdict)"
   ]
  },
  {
   "cell_type": "code",
   "execution_count": 48,
   "metadata": {},
   "outputs": [
    {
     "data": {
      "text/html": [
       "<div>\n",
       "<style scoped>\n",
       "    .dataframe tbody tr th:only-of-type {\n",
       "        vertical-align: middle;\n",
       "    }\n",
       "\n",
       "    .dataframe tbody tr th {\n",
       "        vertical-align: top;\n",
       "    }\n",
       "\n",
       "    .dataframe thead th {\n",
       "        text-align: right;\n",
       "    }\n",
       "</style>\n",
       "<table border=\"1\" class=\"dataframe\">\n",
       "  <thead>\n",
       "    <tr style=\"text-align: right;\">\n",
       "      <th></th>\n",
       "      <th>log rt</th>\n",
       "      <th>csv rt</th>\n",
       "    </tr>\n",
       "  </thead>\n",
       "  <tbody>\n",
       "    <tr>\n",
       "      <td>0</td>\n",
       "      <td>0.6010</td>\n",
       "      <td>0.600915</td>\n",
       "    </tr>\n",
       "    <tr>\n",
       "      <td>1</td>\n",
       "      <td>1.1352</td>\n",
       "      <td>1.135215</td>\n",
       "    </tr>\n",
       "    <tr>\n",
       "      <td>2</td>\n",
       "      <td>0.8351</td>\n",
       "      <td>0.835113</td>\n",
       "    </tr>\n",
       "    <tr>\n",
       "      <td>3</td>\n",
       "      <td>0.5850</td>\n",
       "      <td>0.585055</td>\n",
       "    </tr>\n",
       "    <tr>\n",
       "      <td>4</td>\n",
       "      <td>0.7510</td>\n",
       "      <td>0.750887</td>\n",
       "    </tr>\n",
       "    <tr>\n",
       "      <td>5</td>\n",
       "      <td>0.9859</td>\n",
       "      <td>0.985893</td>\n",
       "    </tr>\n",
       "    <tr>\n",
       "      <td>6</td>\n",
       "      <td>1.0835</td>\n",
       "      <td>1.083401</td>\n",
       "    </tr>\n",
       "    <tr>\n",
       "      <td>7</td>\n",
       "      <td>0.9190</td>\n",
       "      <td>0.919017</td>\n",
       "    </tr>\n",
       "    <tr>\n",
       "      <td>8</td>\n",
       "      <td>0.4680</td>\n",
       "      <td>0.467985</td>\n",
       "    </tr>\n",
       "    <tr>\n",
       "      <td>9</td>\n",
       "      <td>0.6356</td>\n",
       "      <td>0.635558</td>\n",
       "    </tr>\n",
       "  </tbody>\n",
       "</table>\n",
       "</div>"
      ],
      "text/plain": [
       "   log rt    csv rt\n",
       "0  0.6010  0.600915\n",
       "1  1.1352  1.135215\n",
       "2  0.8351  0.835113\n",
       "3  0.5850  0.585055\n",
       "4  0.7510  0.750887\n",
       "5  0.9859  0.985893\n",
       "6  1.0835  1.083401\n",
       "7  0.9190  0.919017\n",
       "8  0.4680  0.467985\n",
       "9  0.6356  0.635558"
      ]
     },
     "execution_count": 48,
     "metadata": {},
     "output_type": "execute_result"
    }
   ],
   "source": [
    "df"
   ]
  },
  {
   "cell_type": "code",
   "execution_count": 49,
   "metadata": {},
   "outputs": [],
   "source": [
    "df['diff'] = df['csv rt'] - df['log rt']"
   ]
  },
  {
   "cell_type": "code",
   "execution_count": 50,
   "metadata": {},
   "outputs": [
    {
     "name": "stdout",
     "output_type": "stream",
     "text": [
      "Mean difference in response times between csv and log file: -2.613037109426841e-05\n"
     ]
    }
   ],
   "source": [
    "print('Mean difference in response times between csv and log file: '+str(df['diff'].mean()))"
   ]
  },
  {
   "cell_type": "markdown",
   "metadata": {},
   "source": [
    "### Responses from log file"
   ]
  },
  {
   "cell_type": "code",
   "execution_count": 51,
   "metadata": {},
   "outputs": [
    {
     "data": {
      "text/plain": [
       "['70.6851 \\tDATA \\tKeypress: 1',\n",
       " '78.6044 \\tDATA \\tKeypress: 3',\n",
       " '86.2068 \\tDATA \\tKeypress: 1',\n",
       " '93.5591 \\tDATA \\tKeypress: 1',\n",
       " '101.0784 \\tDATA \\tKeypress: 1',\n",
       " '108.8317 \\tDATA \\tKeypress: 1',\n",
       " '116.6826 \\tDATA \\tKeypress: 1',\n",
       " '124.3698 \\tDATA \\tKeypress: 3',\n",
       " '131.5883 \\tDATA \\tKeypress: 1',\n",
       " '138.9910 \\tDATA \\tKeypress: 3']"
      ]
     },
     "execution_count": 51,
     "metadata": {},
     "output_type": "execute_result"
    }
   ],
   "source": [
    "list(log_file.loc[key_press_indices]['DATA'][3:])"
   ]
  },
  {
   "cell_type": "markdown",
   "metadata": {},
   "source": [
    "### Responses from csv"
   ]
  },
  {
   "cell_type": "code",
   "execution_count": 52,
   "metadata": {},
   "outputs": [
    {
     "data": {
      "text/html": [
       "<div>\n",
       "<style scoped>\n",
       "    .dataframe tbody tr th:only-of-type {\n",
       "        vertical-align: middle;\n",
       "    }\n",
       "\n",
       "    .dataframe tbody tr th {\n",
       "        vertical-align: top;\n",
       "    }\n",
       "\n",
       "    .dataframe thead th {\n",
       "        text-align: right;\n",
       "    }\n",
       "</style>\n",
       "<table border=\"1\" class=\"dataframe\">\n",
       "  <thead>\n",
       "    <tr style=\"text-align: right;\">\n",
       "      <th></th>\n",
       "      <th>Attention Button</th>\n",
       "    </tr>\n",
       "  </thead>\n",
       "  <tbody>\n",
       "    <tr>\n",
       "      <td>0</td>\n",
       "      <td>1.0</td>\n",
       "    </tr>\n",
       "    <tr>\n",
       "      <td>1</td>\n",
       "      <td>3.0</td>\n",
       "    </tr>\n",
       "    <tr>\n",
       "      <td>2</td>\n",
       "      <td>1.0</td>\n",
       "    </tr>\n",
       "    <tr>\n",
       "      <td>3</td>\n",
       "      <td>1.0</td>\n",
       "    </tr>\n",
       "    <tr>\n",
       "      <td>4</td>\n",
       "      <td>1.0</td>\n",
       "    </tr>\n",
       "    <tr>\n",
       "      <td>5</td>\n",
       "      <td>1.0</td>\n",
       "    </tr>\n",
       "    <tr>\n",
       "      <td>6</td>\n",
       "      <td>1.0</td>\n",
       "    </tr>\n",
       "    <tr>\n",
       "      <td>7</td>\n",
       "      <td>3.0</td>\n",
       "    </tr>\n",
       "    <tr>\n",
       "      <td>8</td>\n",
       "      <td>1.0</td>\n",
       "    </tr>\n",
       "    <tr>\n",
       "      <td>9</td>\n",
       "      <td>3.0</td>\n",
       "    </tr>\n",
       "  </tbody>\n",
       "</table>\n",
       "</div>"
      ],
      "text/plain": [
       "   Attention Button\n",
       "0               1.0\n",
       "1               3.0\n",
       "2               1.0\n",
       "3               1.0\n",
       "4               1.0\n",
       "5               1.0\n",
       "6               1.0\n",
       "7               3.0\n",
       "8               1.0\n",
       "9               3.0"
      ]
     },
     "execution_count": 52,
     "metadata": {},
     "output_type": "execute_result"
    }
   ],
   "source": [
    "exp_raw[['Attention Button']].iloc[0:10]"
   ]
  },
  {
   "cell_type": "code",
   "execution_count": null,
   "metadata": {},
   "outputs": [],
   "source": []
  },
  {
   "cell_type": "code",
   "execution_count": null,
   "metadata": {},
   "outputs": [],
   "source": []
  },
  {
   "cell_type": "code",
   "execution_count": null,
   "metadata": {},
   "outputs": [],
   "source": []
  },
  {
   "cell_type": "code",
   "execution_count": null,
   "metadata": {},
   "outputs": [],
   "source": []
  },
  {
   "cell_type": "code",
   "execution_count": null,
   "metadata": {},
   "outputs": [],
   "source": []
  },
  {
   "cell_type": "code",
   "execution_count": null,
   "metadata": {},
   "outputs": [],
   "source": []
  },
  {
   "cell_type": "code",
   "execution_count": null,
   "metadata": {},
   "outputs": [],
   "source": []
  }
 ],
 "metadata": {
  "kernelspec": {
   "display_name": "Python 3",
   "language": "python",
   "name": "python3"
  },
  "language_info": {
   "codemirror_mode": {
    "name": "ipython",
    "version": 3
   },
   "file_extension": ".py",
   "mimetype": "text/x-python",
   "name": "python",
   "nbconvert_exporter": "python",
   "pygments_lexer": "ipython3",
   "version": "3.7.4"
  }
 },
 "nbformat": 4,
 "nbformat_minor": 2
}
