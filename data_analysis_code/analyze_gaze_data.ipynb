{
 "cells": [
  {
   "cell_type": "markdown",
   "metadata": {},
   "source": [
    "# Imports"
   ]
  },
  {
   "cell_type": "code",
   "execution_count": 618,
   "metadata": {},
   "outputs": [],
   "source": [
    "import pandas as pd; import seaborn as sb; import statsmodels.formula.api as smf; import pingouin;\n",
    "from itertools import combinations; import os; from analysis_helpers import *; \n",
    "import scipy; from scipy import stats; import os; import math; import warnings\n",
    "warnings.filterwarnings('ignore')"
   ]
  },
  {
   "cell_type": "markdown",
   "metadata": {},
   "source": [
    "# Load and organize data"
   ]
  },
  {
   "cell_type": "code",
   "execution_count": 619,
   "metadata": {},
   "outputs": [],
   "source": [
    "gaze       = pd.read_csv('../parsed_data/full_gaze.csv')\n",
    "behavioral = pd.read_csv('../parsed_data/full_behavioral.csv')\n",
    "\n",
    "for s in behavioral['UniqueID'].unique():\n",
    "    for r in behavioral['Run'].unique():\n",
    "        behavioral.loc[(behavioral['Run']==r) \n",
    "                 & (behavioral['UniqueID']==s) \n",
    "                 & (behavioral['Trial Type']=='Memory'), 'Last Cued'] = behavioral[(behavioral['Run']==r) & (behavioral['UniqueID']==s) & (behavioral['Trial Type']=='Presentation') & (behavioral['Trial']==9)]['Cued Category'].item()\n"
   ]
  },
  {
   "cell_type": "code",
   "execution_count": 620,
   "metadata": {},
   "outputs": [],
   "source": [
    "behavioral.loc[behavioral['Trial Type']=='Presentation','Cued Face'] = behavioral[behavioral['Trial Type']=='Presentation']['Cued Composite'].str.split('_',n=1, expand=True)[0]\n",
    "behavioral.loc[behavioral['Trial Type']=='Presentation','Cued Place'] = behavioral[behavioral['Trial Type']=='Presentation']['Cued Composite'].str.split('_',n=1, expand=True)[1]\n",
    "behavioral.loc[behavioral['Trial Type']=='Presentation','Uncued Face'] = behavioral[behavioral['Trial Type']=='Presentation']['Uncued Composite'].str.split('_',n=1, expand=True)[0]\n",
    "behavioral.loc[behavioral['Trial Type']=='Presentation','Uncued Place'] = behavioral[behavioral['Trial Type']=='Presentation']['Uncued Composite'].str.split('_',n=1, expand=True)[1]"
   ]
  },
  {
   "cell_type": "code",
   "execution_count": 621,
   "metadata": {},
   "outputs": [],
   "source": [
    "behavioral.loc[behavioral['Trial Type']=='Presentation','Cued Face'] = behavioral[behavioral['Trial Type']=='Presentation']['Cued Face']+'.jpg'"
   ]
  },
  {
   "cell_type": "code",
   "execution_count": 622,
   "metadata": {},
   "outputs": [],
   "source": [
    "behavioral.loc[behavioral['Trial Type']=='Presentation','Uncued Face'] = behavioral[behavioral['Trial Type']=='Presentation']['Uncued Face']+'.jpg'"
   ]
  },
  {
   "cell_type": "code",
   "execution_count": 623,
   "metadata": {},
   "outputs": [
    {
     "data": {
      "text/html": [
       "<div>\n",
       "<style scoped>\n",
       "    .dataframe tbody tr th:only-of-type {\n",
       "        vertical-align: middle;\n",
       "    }\n",
       "\n",
       "    .dataframe tbody tr th {\n",
       "        vertical-align: top;\n",
       "    }\n",
       "\n",
       "    .dataframe thead th {\n",
       "        text-align: right;\n",
       "    }\n",
       "</style>\n",
       "<table border=\"1\" class=\"dataframe\">\n",
       "  <thead>\n",
       "    <tr style=\"text-align: right;\">\n",
       "      <th></th>\n",
       "      <th>Unnamed: 0</th>\n",
       "      <th>Unnamed: 0.1</th>\n",
       "      <th>avg</th>\n",
       "      <th>fix</th>\n",
       "      <th>lefteye</th>\n",
       "      <th>raw</th>\n",
       "      <th>righteye</th>\n",
       "      <th>state</th>\n",
       "      <th>time</th>\n",
       "      <th>timestamp</th>\n",
       "      <th>...</th>\n",
       "      <th>xRaw_lefteye</th>\n",
       "      <th>yRaw_lefteye</th>\n",
       "      <th>av_x_coord</th>\n",
       "      <th>av_y_coord</th>\n",
       "      <th>Subject</th>\n",
       "      <th>UniqueID</th>\n",
       "      <th>Group</th>\n",
       "      <th>Experiment</th>\n",
       "      <th>Trial</th>\n",
       "      <th>Run</th>\n",
       "    </tr>\n",
       "  </thead>\n",
       "  <tbody>\n",
       "    <tr>\n",
       "      <td>0</td>\n",
       "      <td>0</td>\n",
       "      <td>43696</td>\n",
       "      <td>{'x': 1041.042, 'y': 501.128}</td>\n",
       "      <td>True</td>\n",
       "      <td>{'avg': {'x': 989.74, 'y': 494.5082}, 'pcenter...</td>\n",
       "      <td>{'x': 1029.6586, 'y': 493.4627}</td>\n",
       "      <td>{'avg': {'x': 1092.8706, 'y': 545.1093}, 'pcen...</td>\n",
       "      <td>7</td>\n",
       "      <td>994163077</td>\n",
       "      <td>1.538592e+09</td>\n",
       "      <td>...</td>\n",
       "      <td>989.0439</td>\n",
       "      <td>458.6258</td>\n",
       "      <td>1029.65855</td>\n",
       "      <td>493.4627</td>\n",
       "      <td>10</td>\n",
       "      <td>0</td>\n",
       "      <td>1</td>\n",
       "      <td>/sustain</td>\n",
       "      <td>0.0</td>\n",
       "      <td>3</td>\n",
       "    </tr>\n",
       "    <tr>\n",
       "      <td>1</td>\n",
       "      <td>1</td>\n",
       "      <td>43697</td>\n",
       "      <td>{'x': 1039.5768, 'y': 503.2538}</td>\n",
       "      <td>True</td>\n",
       "      <td>{'avg': {'x': 989.9557, 'y': 494.9846}, 'pcent...</td>\n",
       "      <td>{'x': 1040.4014, 'y': 537.1355}</td>\n",
       "      <td>{'avg': {'x': 1092.2872, 'y': 546.3817}, 'pcen...</td>\n",
       "      <td>7</td>\n",
       "      <td>994163112</td>\n",
       "      <td>1.538592e+09</td>\n",
       "      <td>...</td>\n",
       "      <td>993.0250</td>\n",
       "      <td>508.4023</td>\n",
       "      <td>1040.40140</td>\n",
       "      <td>537.1355</td>\n",
       "      <td>10</td>\n",
       "      <td>0</td>\n",
       "      <td>1</td>\n",
       "      <td>/sustain</td>\n",
       "      <td>0.0</td>\n",
       "      <td>3</td>\n",
       "    </tr>\n",
       "  </tbody>\n",
       "</table>\n",
       "<p>2 rows × 22 columns</p>\n",
       "</div>"
      ],
      "text/plain": [
       "   Unnamed: 0  Unnamed: 0.1                              avg   fix  \\\n",
       "0           0         43696    {'x': 1041.042, 'y': 501.128}  True   \n",
       "1           1         43697  {'x': 1039.5768, 'y': 503.2538}  True   \n",
       "\n",
       "                                             lefteye  \\\n",
       "0  {'avg': {'x': 989.74, 'y': 494.5082}, 'pcenter...   \n",
       "1  {'avg': {'x': 989.9557, 'y': 494.9846}, 'pcent...   \n",
       "\n",
       "                               raw  \\\n",
       "0  {'x': 1029.6586, 'y': 493.4627}   \n",
       "1  {'x': 1040.4014, 'y': 537.1355}   \n",
       "\n",
       "                                            righteye  state       time  \\\n",
       "0  {'avg': {'x': 1092.8706, 'y': 545.1093}, 'pcen...      7  994163077   \n",
       "1  {'avg': {'x': 1092.2872, 'y': 546.3817}, 'pcen...      7  994163112   \n",
       "\n",
       "      timestamp  ...  xRaw_lefteye  yRaw_lefteye  av_x_coord  av_y_coord  \\\n",
       "0  1.538592e+09  ...      989.0439      458.6258  1029.65855    493.4627   \n",
       "1  1.538592e+09  ...      993.0250      508.4023  1040.40140    537.1355   \n",
       "\n",
       "   Subject  UniqueID  Group  Experiment  Trial Run  \n",
       "0       10         0      1    /sustain    0.0   3  \n",
       "1       10         0      1    /sustain    0.0   3  \n",
       "\n",
       "[2 rows x 22 columns]"
      ]
     },
     "execution_count": 623,
     "metadata": {},
     "output_type": "execute_result"
    }
   ],
   "source": [
    "gaze.head(n=2)"
   ]
  },
  {
   "cell_type": "code",
   "execution_count": 624,
   "metadata": {},
   "outputs": [
    {
     "data": {
      "text/html": [
       "<div>\n",
       "<style scoped>\n",
       "    .dataframe tbody tr th:only-of-type {\n",
       "        vertical-align: middle;\n",
       "    }\n",
       "\n",
       "    .dataframe tbody tr th {\n",
       "        vertical-align: top;\n",
       "    }\n",
       "\n",
       "    .dataframe thead th {\n",
       "        text-align: right;\n",
       "    }\n",
       "</style>\n",
       "<table border=\"1\" class=\"dataframe\">\n",
       "  <thead>\n",
       "    <tr style=\"text-align: right;\">\n",
       "      <th></th>\n",
       "      <th>Unnamed: 0</th>\n",
       "      <th>Unnamed: 0.1</th>\n",
       "      <th>Unnamed: 0.1.1</th>\n",
       "      <th>Subject</th>\n",
       "      <th>Trial Type</th>\n",
       "      <th>Run</th>\n",
       "      <th>Cued Composite</th>\n",
       "      <th>Uncued Composite</th>\n",
       "      <th>Cued Face</th>\n",
       "      <th>Cued Place</th>\n",
       "      <th>...</th>\n",
       "      <th>Attention Button</th>\n",
       "      <th>Rating History</th>\n",
       "      <th>Stimulus Onset</th>\n",
       "      <th>Stimulus End</th>\n",
       "      <th>Attention Probe</th>\n",
       "      <th>Trial</th>\n",
       "      <th>UniqueID</th>\n",
       "      <th>Group</th>\n",
       "      <th>Experiment</th>\n",
       "      <th>Last Cued</th>\n",
       "    </tr>\n",
       "  </thead>\n",
       "  <tbody>\n",
       "    <tr>\n",
       "      <td>0</td>\n",
       "      <td>0</td>\n",
       "      <td>0</td>\n",
       "      <td>150</td>\n",
       "      <td>10</td>\n",
       "      <td>Presentation</td>\n",
       "      <td>3</td>\n",
       "      <td>00926960627Fa_sunapqwoeotxshkukbh.jpg</td>\n",
       "      <td>00076931230fa_sunaafewhewbxmjiurz.jpg</td>\n",
       "      <td>00926960627Fa.jpg</td>\n",
       "      <td>sunapqwoeotxshkukbh.jpg</td>\n",
       "      <td>...</td>\n",
       "      <td>1.0</td>\n",
       "      <td>NaN</td>\n",
       "      <td>1.538592e+09</td>\n",
       "      <td>1.538592e+09</td>\n",
       "      <td>x</td>\n",
       "      <td>0.0</td>\n",
       "      <td>0</td>\n",
       "      <td>1</td>\n",
       "      <td>/sustain</td>\n",
       "      <td>NaN</td>\n",
       "    </tr>\n",
       "    <tr>\n",
       "      <td>1</td>\n",
       "      <td>1</td>\n",
       "      <td>1</td>\n",
       "      <td>151</td>\n",
       "      <td>10</td>\n",
       "      <td>Presentation</td>\n",
       "      <td>3</td>\n",
       "      <td>00725941201fa_sunaefgzwiramypjvtd.jpg</td>\n",
       "      <td>00828940307fa_sunahuynahneraqftyz.jpg</td>\n",
       "      <td>00725941201fa.jpg</td>\n",
       "      <td>sunaefgzwiramypjvtd.jpg</td>\n",
       "      <td>...</td>\n",
       "      <td>3.0</td>\n",
       "      <td>NaN</td>\n",
       "      <td>1.538592e+09</td>\n",
       "      <td>1.538592e+09</td>\n",
       "      <td>o</td>\n",
       "      <td>1.0</td>\n",
       "      <td>0</td>\n",
       "      <td>1</td>\n",
       "      <td>/sustain</td>\n",
       "      <td>NaN</td>\n",
       "    </tr>\n",
       "  </tbody>\n",
       "</table>\n",
       "<p>2 rows × 33 columns</p>\n",
       "</div>"
      ],
      "text/plain": [
       "   Unnamed: 0  Unnamed: 0.1  Unnamed: 0.1.1  Subject    Trial Type  Run  \\\n",
       "0           0             0             150       10  Presentation    3   \n",
       "1           1             1             151       10  Presentation    3   \n",
       "\n",
       "                          Cued Composite  \\\n",
       "0  00926960627Fa_sunapqwoeotxshkukbh.jpg   \n",
       "1  00725941201fa_sunaefgzwiramypjvtd.jpg   \n",
       "\n",
       "                        Uncued Composite          Cued Face  \\\n",
       "0  00076931230fa_sunaafewhewbxmjiurz.jpg  00926960627Fa.jpg   \n",
       "1  00828940307fa_sunahuynahneraqftyz.jpg  00725941201fa.jpg   \n",
       "\n",
       "                Cued Place  ... Attention Button Rating History  \\\n",
       "0  sunapqwoeotxshkukbh.jpg  ...              1.0            NaN   \n",
       "1  sunaefgzwiramypjvtd.jpg  ...              3.0            NaN   \n",
       "\n",
       "  Stimulus Onset  Stimulus End Attention Probe Trial  UniqueID  Group  \\\n",
       "0   1.538592e+09  1.538592e+09               x   0.0         0      1   \n",
       "1   1.538592e+09  1.538592e+09               o   1.0         0      1   \n",
       "\n",
       "   Experiment Last Cued  \n",
       "0    /sustain       NaN  \n",
       "1    /sustain       NaN  \n",
       "\n",
       "[2 rows x 33 columns]"
      ]
     },
     "execution_count": 624,
     "metadata": {},
     "output_type": "execute_result"
    }
   ],
   "source": [
    "behavioral.head(n=2)"
   ]
  },
  {
   "cell_type": "code",
   "execution_count": null,
   "metadata": {},
   "outputs": [],
   "source": []
  },
  {
   "cell_type": "code",
   "execution_count": 625,
   "metadata": {},
   "outputs": [],
   "source": [
    "def add_gaze(df):\n",
    "\n",
    "    '''\n",
    "    input: df containing pres and mem from single run\n",
    "    output: df with string in 'Attention Level' column in each Memory trial row\n",
    "    '''\n",
    "\n",
    "    for index,row in df.iterrows():\n",
    "        if row['Trial Type']=='Memory':\n",
    "            mem_image = row['Memory Image']\n",
    "            for cue in ['Cued ', 'Uncued ']:\n",
    "                for cat in ['Face', 'Place']:\n",
    "                    if df.loc[df[cue+cat] == mem_image].shape[0]!=0:\n",
    "                        df['av_x_coord'][index]=df.loc[df[cue+cat] == mem_image]['av_x_coord']\n",
    "                        df['Cued Side'][index] = df.loc[df[cue+cat] == mem_image]['Cued Side'].item()\n",
    "\n",
    "    mem_mask = df['Trial Type']=='Memory'\n",
    "    df.loc[mem_mask,'av_x_coord'] = df.loc[mem_mask,'av_x_coord'].fillna(np.nan)\n",
    "\n",
    "    return(df)"
   ]
  },
  {
   "cell_type": "markdown",
   "metadata": {},
   "source": [
    "# Gaze Plots"
   ]
  },
  {
   "cell_type": "code",
   "execution_count": 626,
   "metadata": {
    "scrolled": true
   },
   "outputs": [],
   "source": [
    "# behavioral[(behavioral['av_x_coord'].isnull()) \n",
    "#           &(behavioral['Trial Type'] == 'Presentation') \n",
    "#           & (behavioral['Group'] != 2)]"
   ]
  },
  {
   "cell_type": "code",
   "execution_count": 627,
   "metadata": {},
   "outputs": [],
   "source": [
    "# convert to cm\n",
    "\n",
    "gaze['av_x_coord'] = (59.8/2048)*(gaze[['xRaw_righteye', 'xRaw_lefteye']].mean(axis=1))\n",
    "gaze['av_y_coord'] = (33.6/1152)*(gaze[['yRaw_righteye', 'yRaw_lefteye']].mean(axis=1))"
   ]
  },
  {
   "cell_type": "code",
   "execution_count": 628,
   "metadata": {},
   "outputs": [],
   "source": [
    "# filter anything outside of gaze area\n",
    "\n",
    "gaze = gaze[(gaze['av_x_coord']   < 59.8) \n",
    "                                  & (gaze['av_y_coord'] < 33.6)\n",
    "                                  & (gaze['av_x_coord'] > 0)\n",
    "                                  & (gaze['av_y_coord'] > 0)]"
   ]
  },
  {
   "cell_type": "code",
   "execution_count": 629,
   "metadata": {},
   "outputs": [
    {
     "name": "stdout",
     "output_type": "stream",
     "text": [
      "subject: 0\n",
      "subject: 1\n",
      "subject: 2\n",
      "subject: 3\n",
      "subject: 4\n",
      "subject: 5\n",
      "subject: 6\n",
      "subject: 7\n",
      "subject: 8\n",
      "subject: 9\n",
      "subject: 10\n",
      "subject: 11\n",
      "subject: 12\n",
      "subject: 13\n",
      "subject: 14\n",
      "subject: 15\n",
      "subject: 16\n",
      "subject: 17\n",
      "subject: 18\n",
      "subject: 19\n",
      "subject: 20\n",
      "subject: 21\n",
      "subject: 22\n",
      "subject: 23\n",
      "subject: 24\n",
      "subject: 25\n",
      "subject: 26\n",
      "subject: 27\n",
      "subject: 28\n",
      "subject: 29\n",
      "subject: 30\n",
      "subject: 31\n",
      "subject: 32\n",
      "subject: 33\n",
      "subject: 34\n",
      "subject: 35\n",
      "subject: 36\n",
      "subject: 37\n",
      "subject: 38\n",
      "subject: 39\n",
      "subject: 40\n",
      "subject: 41\n",
      "subject: 42\n",
      "subject: 43\n",
      "subject: 44\n",
      "subject: 45\n",
      "subject: 46\n",
      "subject: 47\n",
      "subject: 48\n",
      "subject: 49\n",
      "subject: 50\n",
      "subject: 51\n",
      "subject: 52\n",
      "subject: 53\n",
      "subject: 54\n",
      "subject: 55\n",
      "subject: 56\n",
      "subject: 57\n",
      "subject: 58\n",
      "subject: 59\n",
      "subject: 60\n",
      "subject: 61\n",
      "subject: 62\n",
      "subject: 63\n",
      "subject: 64\n",
      "subject: 65\n",
      "subject: 66\n",
      "subject: 67\n",
      "subject: 68\n",
      "subject: 69\n",
      "subject: 70\n",
      "subject: 71\n",
      "subject: 72\n",
      "subject: 73\n",
      "subject: 74\n",
      "subject: 75\n",
      "subject: 76\n",
      "subject: 77\n",
      "subject: 78\n",
      "subject: 79\n",
      "subject: 80\n",
      "subject: 81\n",
      "subject: 82\n",
      "subject: 83\n",
      "subject: 84\n",
      "subject: 85\n",
      "subject: 86\n",
      "subject: 87\n",
      "subject: 88\n",
      "subject: 89\n",
      "subject: 90\n",
      "subject: 91\n",
      "subject: 92\n",
      "subject: 93\n",
      "subject: 94\n",
      "subject: 95\n",
      "subject: 96\n",
      "subject: 97\n",
      "subject: 98\n",
      "subject: 99\n",
      "subject: 100\n",
      "subject: 101\n",
      "subject: 102\n",
      "subject: 103\n",
      "subject: 104\n",
      "subject: 105\n",
      "subject: 106\n",
      "subject: 107\n",
      "subject: 108\n",
      "subject: 109\n",
      "subject: 110\n"
     ]
    }
   ],
   "source": [
    "# make restricted data\n",
    "\n",
    "restricted_gaze_list = []\n",
    "restricted_behavioral_list = []\n",
    "\n",
    "for sub in gaze['UniqueID'].unique():\n",
    "    # for each unique subject\n",
    "    \n",
    "    print('subject: ' +str(sub))\n",
    "    \n",
    "    for run in gaze['Run'].unique():\n",
    "    # for each unique run\n",
    "        \n",
    "        for trial in gaze['Trial'].unique():\n",
    "        # for each trial\n",
    "        \n",
    "            # if there are no rows in df with that subject number, that run number, and that trial number\n",
    "            # where ax_x_coords are above or below 1cm away from center\n",
    "            # and av_y_coords are above or below 1cm away from center\n",
    "            \n",
    "            d = gaze[(gaze['UniqueID'] == sub) \n",
    "                   &(gaze['Run'] == run)\n",
    "                   &(gaze['Trial']==trial)]\n",
    "            \n",
    "            if d[(d['av_x_coord']>=(59.8/2)+1)].shape[0]==0 and d[d['av_x_coord']<=(59.8/2)-1].shape[0]==0 and d[d['av_y_coord']>=(33.6/2)+1].shape[0]==0 and d[d['av_y_coord']<=(33.6/2)-1].shape[0]==0:\n",
    "                \n",
    "                #if type(d['av_x_coord'].max())  and type(d['av_y_coord'].max()) == float:\n",
    "#                 print(d['av_x_coord'].max())\n",
    "#                 print(d['av_y_coord'].max())\n",
    "#                 print()\n",
    "            \n",
    "                restricted_gaze_list.append(gaze[(gaze['UniqueID'] == sub) \n",
    "                               &(gaze['Run'] == run)\n",
    "                               &(gaze['Trial']==trial)])\n",
    "\n",
    "                restricted_behavioral_list.append(behavioral[(behavioral['UniqueID']==sub)\n",
    "                                                            &(behavioral['Run']==run)\n",
    "                                                            &(behavioral['Trial']==trial)\n",
    "                                                            &(behavioral['Trial Type']=='Presentation')])\n",
    "\n",
    "                restricted_behavioral_list.append(behavioral[(behavioral['UniqueID']==sub)\n",
    "                                            &(behavioral['Run']==run)\n",
    "                                            &(behavioral['Trial Type']=='Memory')])"
   ]
  },
  {
   "cell_type": "code",
   "execution_count": 632,
   "metadata": {},
   "outputs": [],
   "source": [
    "# restricted_gaze = pd.concat(restricted_gaze_list)\n",
    "# restricted_behavioral = pd.concat(restricted_behavioral_list)\n",
    "\n",
    "\n",
    "# # group gaze data by participant, run #, and trial #\n",
    "# # add average x coordinate from gaze data\n",
    "# gaze_grp2 = gaze_restricted.groupby(['UniqueID', 'Run', 'Trial'], as_index=False).mean()\n",
    "\n",
    "# # sort both dataframes\n",
    "# # gaze_grp2   = gaze_grp2.sort_values(by=['UniqueID','Run','Trial'])\n",
    "# # behavioral2 = restricted_behavioral.sort_values(by=['UniqueID','Run','Trial'])\n",
    "\n",
    "# for idx,x in gaze_grp2.iterrows():\n",
    "#     restricted_behavioral.loc[(restricted_behavioral['UniqueID']==x['UniqueID']) \n",
    "#                    & (restricted_behavioral['Run']==x['Run']) \n",
    "#                    & (restricted_behavioral['Trial']==x['Trial'])\n",
    "#                    & (restricted_behavioral['Trial Type']=='Presentation'), 'av_x_coord'] = x['av_x_coord']\n",
    "    \n",
    "# behavioral_added2['gaze_towards_mem_image'] = behavioral_added2['gaze_towards_cued_side'] #- 59.8/2\n",
    "# behavioral_added2.loc[behavioral_added2['Attention Level']=='None','gaze_towards_mem_image'] = -behavioral_added2[behavioral_added2['Attention Level']=='None']['gaze_towards_mem_image'] \n",
    "# behavioral_added2.loc[behavioral_added2['Attention Level']=='Category','gaze_towards_mem_image'] = -behavioral_added2[behavioral_added2['Attention Level']=='Category']['gaze_towards_mem_image'] \n",
    "# behavioral_added2['gaze_towards_mem_image'] = behavioral_added2['gaze_towards_mem_image']/(59.8/2)\n",
    "    "
   ]
  },
  {
   "cell_type": "code",
   "execution_count": 633,
   "metadata": {},
   "outputs": [],
   "source": [
    "# group gaze data by participant, run #, and trial #\n",
    "# add average x coordinate from gaze data\n",
    "gaze_grp = gaze.groupby(['UniqueID', 'Run', 'Trial'], as_index=False).mean()\n",
    "gaze_grp2 = gaze_restricted.groupby(['UniqueID', 'Run', 'Trial'], as_index=False).mean()\n",
    "\n",
    "# sort both dataframes\n",
    "gaze_grp   = gaze_grp.sort_values(by=['UniqueID','Run','Trial'])\n",
    "gaze_grp2 = gaze_grp2.groupby(['UniqueID', 'Run', 'Trial'], as_index=False).mean()\n",
    "\n",
    "behavioral = behavioral.sort_values(by=['UniqueID','Run','Trial'])\n",
    "restricted_behavioral = restricted_behavioral.sort_values(by=['UniqueID','Run','Trial'])\n",
    "\n",
    "for idx,x in gaze_grp.iterrows():\n",
    "    behavioral.loc[(behavioral['UniqueID']==x['UniqueID']) \n",
    "                   & (behavioral['Run']==x['Run']) \n",
    "                   & (behavioral['Trial']==x['Trial'])\n",
    "                   & (behavioral['Trial Type']=='Presentation'), 'av_x_coord'] = x['av_x_coord']\n",
    "    \n",
    "for idx,x in gaze_grp2.iterrows():\n",
    "    restricted_behavioral.loc[(restricted_behavioral['UniqueID']==x['UniqueID']) \n",
    "                   & (restricted_behavioral['Run']==x['Run']) \n",
    "                   & (restricted_behavioral['Trial']==x['Trial'])\n",
    "                   & (restricted_behavioral['Trial Type']=='Presentation'), 'av_x_coord'] = x['av_x_coord']"
   ]
  },
  {
   "cell_type": "code",
   "execution_count": null,
   "metadata": {},
   "outputs": [],
   "source": [
    "# compute av x gaze's difference from screen center\n",
    "behavioral['gaze_from_center'] = behavioral['av_x_coord'] - 59.8/2\n",
    "restricted_behavioral['gaze_from_center'] = restricted_behavioral['av_x_coord'] - 59.8/2\n",
    "\n",
    "# make the difference value negative for opposite facing arrow\n",
    "behavioral['gaze_towards_cued_side'] = behavioral['gaze_from_center']\n",
    "behavioral.loc[(behavioral['Cued Side']=='<'),'gaze_towards_cued_side'] = -behavioral.loc[(behavioral['Cued Side']=='<')]['gaze_towards_cued_side']\n",
    "\n",
    "# make the difference value negative for opposite facing arrow\n",
    "restricted_behavioral['gaze_towards_cued_side'] = restricted_behavioral['gaze_from_center']\n",
    "restricted_behavioral.loc[(restricted_behavioral['Cued Side']=='<'),'gaze_towards_cued_side'] = -restricted_behavioral.loc[(restricted_behavioral['Cued Side']=='<')]['gaze_towards_cued_side']"
   ]
  },
  {
   "cell_type": "code",
   "execution_count": null,
   "metadata": {},
   "outputs": [],
   "source": [
    "def add_gaze(df):\n",
    "\n",
    "    '''\n",
    "    input: df containing pres and mem from single run\n",
    "    output: df with string in 'Attention Level' column in each Memory trial row\n",
    "    '''\n",
    "\n",
    "    for index,row in df.iterrows():\n",
    "        if row['Trial Type']=='Memory':\n",
    "            mem_image = row['Memory Image']\n",
    "            for cue in ['Cued ', 'Uncued ']:\n",
    "                for cat in ['Face', 'Place']:\n",
    "                    if df.loc[df[cue+cat] == mem_image].shape[0]!=0:\n",
    "                        df['gaze_towards_cued_side'][index]=df.loc[df[cue+cat] == mem_image]['gaze_towards_cued_side']\n",
    "                        df['Cued Side'][index] = df.loc[df[cue+cat] == mem_image]['Cued Side'].item()\n",
    "\n",
    "    mem_mask = df['Trial Type']=='Memory'\n",
    "    df.loc[mem_mask,'gaze_towards_cued_side'] = df.loc[mem_mask,'gaze_towards_cued_side'].fillna(np.nan)\n",
    "\n",
    "    return(df)"
   ]
  },
  {
   "cell_type": "code",
   "execution_count": null,
   "metadata": {},
   "outputs": [],
   "source": [
    "behavioral_added = behavioral\n",
    "for subject in behavioral['UniqueID'].unique():\n",
    "    print(subject)\n",
    "    behavioral_added[behavioral_added['UniqueID']==subject] = add_gaze(behavioral[behavioral['UniqueID']==subject])\n",
    "\n",
    "behavioral_added2 = restricted_behavioral\n",
    "for subject in restricted_behavioral['UniqueID'].unique():\n",
    "    print(subject)\n",
    "    behavioral_added2[behavioral_added2['UniqueID']==subject] = add_gaze(restricted_behavioral[restricted_behavioral['UniqueID']==subject])\n",
    "        "
   ]
  },
  {
   "cell_type": "code",
   "execution_count": null,
   "metadata": {},
   "outputs": [],
   "source": [
    "behavioral_added['gaze_towards_mem_image'] = behavioral_added['gaze_towards_cued_side']\n",
    "behavioral_added.loc[behavioral_added['Attention Level']=='None','gaze_towards_mem_image'] = -behavioral_added[behavioral_added['Attention Level']=='None']['gaze_towards_mem_image'] \n",
    "behavioral_added.loc[behavioral_added['Attention Level']=='Category','gaze_towards_mem_image'] = -behavioral_added[behavioral_added['Attention Level']=='Category']['gaze_towards_mem_image'] \n",
    "behavioral_added['gaze_towards_mem_image'] = behavioral_added['gaze_towards_mem_image']/(59.8/2)\n",
    "\n",
    "behavioral_added2['gaze_towards_mem_image'] = behavioral_added2['gaze_towards_cued_side']\n",
    "behavioral_added2.loc[behavioral_added2['Attention Level']=='None','gaze_towards_mem_image'] = -behavioral_added2[behavioral_added2['Attention Level']=='None']['gaze_towards_mem_image'] \n",
    "behavioral_added2.loc[behavioral_added2['Attention Level']=='Category','gaze_towards_mem_image'] = -behavioral_added2[behavioral_added2['Attention Level']=='Category']['gaze_towards_mem_image'] \n",
    "behavioral_added2['gaze_towards_mem_image'] = behavioral_added2['gaze_towards_mem_image']/(59.8/2)"
   ]
  },
  {
   "cell_type": "code",
   "execution_count": null,
   "metadata": {},
   "outputs": [],
   "source": [
    "%matplotlib inline\n",
    "\n",
    "for exp in ['/variabl','/sustain']:\n",
    "\n",
    "    for group in [1,2]:\n",
    "        \n",
    "        print(exp)\n",
    "        print(group)\n",
    "        \n",
    "        data = behavioral_added[(behavioral_added['Experiment']==exp) \n",
    "                                & (behavioral_added['Group']==group)].groupby(['UniqueID','Attention Level','Familiarity Rating','Trial Type'],as_index=False).mean()\n",
    "        \n",
    "        sb.violinplot(x='Familiarity Rating', y='gaze_towards_mem_image', hue='Attention Level', \n",
    "                      data=data[(data['Attention Level'] != 'Novel') & (data['Trial Type'] == 'Memory') ])\n",
    "        \n",
    "        plt.ylim(-1, 1)\n",
    "        plt.show()\n",
    "        \n",
    "        print()"
   ]
  },
  {
   "cell_type": "code",
   "execution_count": null,
   "metadata": {},
   "outputs": [],
   "source": [
    "behavioral_added[behavioral_added['Trial Type']=='Memory'][['gaze_towards_mem_image','Attention Level']]"
   ]
  },
  {
   "cell_type": "markdown",
   "metadata": {},
   "source": [
    "# Tendency to gaze towards cued side"
   ]
  },
  {
   "cell_type": "code",
   "execution_count": null,
   "metadata": {},
   "outputs": [],
   "source": [
    "behavioral_added[behavioral_added['Trial Type']=='Presentation']['gaze_towards_cued_side']"
   ]
  },
  {
   "cell_type": "code",
   "execution_count": null,
   "metadata": {},
   "outputs": [],
   "source": [
    "behav_grp = behavioral_added.groupby(['UniqueID','Experiment','Group', 'Trial Type'], as_index=False).mean()\n",
    "for exp in ['/sustain','/variabl']:\n",
    "    for grp in [1,2]:\n",
    "        print(exp)\n",
    "        print(grp)\n",
    "        dat = behav_grp[(behav_grp['Experiment']==exp) & (behav_grp['Group']==grp) & (behav_grp['Trial Type']=='Presentation')]\n",
    "        print(scipy.stats.ttest_1samp(dat['gaze_towards_cued_side'],0))\n",
    "        print(np.mean(dat['gaze_towards_cued_side'])/np.std(dat['gaze_towards_cued_side']))\n",
    "        print()"
   ]
  },
  {
   "cell_type": "markdown",
   "metadata": {},
   "source": [
    "# Restrict Gaze (+/- 1cm)"
   ]
  },
  {
   "cell_type": "code",
   "execution_count": null,
   "metadata": {},
   "outputs": [],
   "source": [
    "gaze[(gaze['av_y_coord']>=(33.6/2)+1) | (gaze['av_y_coord']<=(33.6/2)-1)].shape"
   ]
  },
  {
   "cell_type": "code",
   "execution_count": null,
   "metadata": {},
   "outputs": [],
   "source": [
    "59.8/2"
   ]
  },
  {
   "cell_type": "code",
   "execution_count": null,
   "metadata": {},
   "outputs": [],
   "source": [
    "33.6/2"
   ]
  },
  {
   "cell_type": "code",
   "execution_count": null,
   "metadata": {},
   "outputs": [],
   "source": [
    "restricted_gaze = pd.concat(restricted_gaze_list)\n",
    "restricted_behavioral = pd.concat(restricted_behavioral_list)\n",
    "\n",
    "\n",
    "# group gaze data by participant, run #, and trial #\n",
    "# add average x coordinate from gaze data\n",
    "gaze_grp2 = gaze_restricted.groupby(['UniqueID', 'Run', 'Trial'], as_index=False).mean()\n",
    "\n",
    "# sort both dataframes\n",
    "# gaze_grp2   = gaze_grp2.sort_values(by=['UniqueID','Run','Trial'])\n",
    "# behavioral2 = restricted_behavioral.sort_values(by=['UniqueID','Run','Trial'])\n",
    "\n",
    "for idx,x in gaze_grp2.iterrows():\n",
    "    restricted_behavioral.loc[(restricted_behavioral['UniqueID']==x['UniqueID']) \n",
    "                   & (restricted_behavioral['Run']==x['Run']) \n",
    "                   & (restricted_behavioral['Trial']==x['Trial'])\n",
    "                   & (restricted_behavioral['Trial Type']=='Presentation'), 'av_x_coord'] = x['av_x_coord']\n",
    "    \n",
    "behavioral_added2['gaze_towards_mem_image'] = behavioral_added2['gaze_towards_cued_side'] #- 59.8/2\n",
    "behavioral_added2.loc[behavioral_added2['Attention Level']=='None','gaze_towards_mem_image'] = -behavioral_added2[behavioral_added2['Attention Level']=='None']['gaze_towards_mem_image'] \n",
    "behavioral_added2.loc[behavioral_added2['Attention Level']=='Category','gaze_towards_mem_image'] = -behavioral_added2[behavioral_added2['Attention Level']=='Category']['gaze_towards_mem_image'] \n",
    "behavioral_added2['gaze_towards_mem_image'] = behavioral_added2['gaze_towards_mem_image']/(59.8/2)\n",
    "    "
   ]
  },
  {
   "cell_type": "code",
   "execution_count": null,
   "metadata": {},
   "outputs": [],
   "source": [
    "lengths = []\n",
    "trials = []\n",
    "\n",
    "for sub in gaze_restricted['UniqueID'].unique():\n",
    "    lengths.append(len(gaze_restricted[gaze_restricted['UniqueID']==sub][\"Run\"].unique()))\n",
    "    trials.append(gaze_restricted[gaze_restricted['UniqueID']==sub].shape[0])"
   ]
  },
  {
   "cell_type": "code",
   "execution_count": null,
   "metadata": {},
   "outputs": [],
   "source": [
    "print(np.mean(lengths))\n",
    "print(np.mean(trials))\n"
   ]
  },
  {
   "cell_type": "markdown",
   "metadata": {},
   "source": [
    "### Plot again"
   ]
  },
  {
   "cell_type": "code",
   "execution_count": null,
   "metadata": {},
   "outputs": [],
   "source": [
    "# behavioral dataframe that matches cases where participants did not look more than 1 cm away\n",
    "gaze_restricted.groupby(['Experiment','Group','UniqueID','Run','Trial']).mean()"
   ]
  },
  {
   "cell_type": "code",
   "execution_count": null,
   "metadata": {},
   "outputs": [],
   "source": [
    "behavioral"
   ]
  },
  {
   "cell_type": "code",
   "execution_count": null,
   "metadata": {},
   "outputs": [],
   "source": [
    "restricted_behavioral"
   ]
  },
  {
   "cell_type": "code",
   "execution_count": null,
   "metadata": {},
   "outputs": [],
   "source": [
    "# group gaze data by participant, run #, and trial #\n",
    "# add average x coordinate from gaze data\n",
    "gaze_grp2 = gaze_restricted.groupby(['UniqueID', 'Run', 'Trial'], as_index=False).mean()\n",
    "\n",
    "# sort both dataframes\n",
    "# gaze_grp2   = gaze_grp2.sort_values(by=['UniqueID','Run','Trial'])\n",
    "# behavioral2 = restricted_behavioral.sort_values(by=['UniqueID','Run','Trial'])\n",
    "\n",
    "for idx,x in gaze_grp2.iterrows():\n",
    "    restricted_behavioral.loc[(restricted_behavioral['UniqueID']==x['UniqueID']) \n",
    "                   & (restricted_behavioral['Run']==x['Run']) \n",
    "                   & (restricted_behavioral['Trial']==x['Trial'])\n",
    "                   & (restricted_behavioral['Trial Type']=='Presentation'), 'av_x_coord'] = x['av_x_coord']\n",
    "    \n",
    "behavioral_added2 = restricted_behavioral\n",
    "\n",
    "for subject in restricted_behavioral['UniqueID'].unique():\n",
    "    print(subject)\n",
    "    behavioral_added2[behavioral_added2['UniqueID']==subject] = add_gaze(restricted_behavioral[restricted_behavioral['UniqueID']==subject])\n",
    "      \n",
    "    "
   ]
  },
  {
   "cell_type": "code",
   "execution_count": null,
   "metadata": {},
   "outputs": [],
   "source": [
    "behavioral2"
   ]
  },
  {
   "cell_type": "code",
   "execution_count": null,
   "metadata": {},
   "outputs": [],
   "source": [
    "behavioral_added2 = restricted_behavioral\n",
    "\n",
    "for subject in restricted_behavioral['UniqueID'].unique():\n",
    "    print(subject)\n",
    "    behavioral_added2[behavioral_added2['UniqueID']==subject] = add_gaze(restricted_behavioral[restricted_behavioral['UniqueID']==subject])\n",
    "      \n",
    "    "
   ]
  },
  {
   "cell_type": "code",
   "execution_count": null,
   "metadata": {},
   "outputs": [],
   "source": [
    "#behavioral_added2"
   ]
  },
  {
   "cell_type": "code",
   "execution_count": null,
   "metadata": {},
   "outputs": [],
   "source": [
    "#behavioral_added2"
   ]
  },
  {
   "cell_type": "code",
   "execution_count": null,
   "metadata": {},
   "outputs": [],
   "source": [
    "behavioral_added2['gaze_towards_mem_image'] = behavioral_added2['gaze_towards_cued_side'] #- 59.8/2\n",
    "behavioral_added2.loc[behavioral_added2['Attention Level']=='None','gaze_towards_mem_image'] = -behavioral_added2[behavioral_added2['Attention Level']=='None']['gaze_towards_mem_image'] \n",
    "behavioral_added2.loc[behavioral_added2['Attention Level']=='Category','gaze_towards_mem_image'] = -behavioral_added2[behavioral_added2['Attention Level']=='Category']['gaze_towards_mem_image'] \n",
    "#behavioral_added2['gaze_towards_mem_image'] = behavioral_added2['gaze_towards_mem_image']/(59.8/2)"
   ]
  },
  {
   "cell_type": "code",
   "execution_count": null,
   "metadata": {},
   "outputs": [],
   "source": [
    "behavioral_added2[['Familiarity Rating','gaze_towards_mem_image','Familiarity Rating','Memory Image']]"
   ]
  },
  {
   "cell_type": "code",
   "execution_count": null,
   "metadata": {},
   "outputs": [],
   "source": [
    "behavioral_added2['gaze_towards_mem_image'].mean()"
   ]
  },
  {
   "cell_type": "code",
   "execution_count": null,
   "metadata": {},
   "outputs": [],
   "source": [
    "sb.boxplot(x='Familiarity Rating', y='gaze_towards_mem_image', hue='Attention Level', \n",
    "                      data=behavioral_added2)"
   ]
  },
  {
   "cell_type": "code",
   "execution_count": null,
   "metadata": {},
   "outputs": [],
   "source": [
    "%matplotlib inline\n",
    "\n",
    "for exp in ['/variabl','/sustain']:\n",
    "\n",
    "    for group in [1,2]:\n",
    "        \n",
    "        print(exp)\n",
    "        print(group)\n",
    "        \n",
    "        data = behavioral_added2[(behavioral_added2['Experiment']==exp) \n",
    "                                & (behavioral_added2['Group']==group)].groupby(['UniqueID','Attention Level','Familiarity Rating','Trial Type'],as_index=False).mean()\n",
    "        \n",
    "        sb.violinplot(x='Familiarity Rating', y='gaze_towards_mem_image', hue='Attention Level', \n",
    "                      data=data[(data['Attention Level'] != 'Novel') & (data['Trial Type'] == 'Memory') ])\n",
    "        \n",
    "        plt.ylim(-1, 1)\n",
    "        plt.show()\n",
    "        \n",
    "        print()"
   ]
  },
  {
   "cell_type": "code",
   "execution_count": null,
   "metadata": {},
   "outputs": [],
   "source": [
    "%matplotlib inline\n",
    "\n",
    "for exp in ['/variabl','/sustain']:\n",
    "\n",
    "    #for group in [1,2]:\n",
    "        \n",
    "    print(exp)\n",
    "    print(group)\n",
    "\n",
    "    data = behavioral_added2[(behavioral_added2['Experiment']==exp)].groupby(['UniqueID','Attention Level','Familiarity Rating','Trial Type'],as_index=False).mean()\n",
    "\n",
    "    sb.violinplot(x='Familiarity Rating', y='gaze_towards_mem_image', hue='Attention Level', \n",
    "                  data=data[(data['Attention Level'] != 'Novel') & (data['Trial Type'] == 'Memory') ])\n",
    "\n",
    "    plt.ylim(-1, 1)\n",
    "    plt.show()\n",
    "\n",
    "    print()"
   ]
  },
  {
   "cell_type": "markdown",
   "metadata": {},
   "source": [
    "# Plot Again"
   ]
  },
  {
   "cell_type": "code",
   "execution_count": null,
   "metadata": {},
   "outputs": [],
   "source": [
    "import itertools\n",
    "\n",
    "stat_dict_full = {'/sustain':{},  '/variabl':{}}\n",
    "\n",
    "# color list \n",
    "col = ['r','orange','tan','purple','blue','grey']\n",
    "\n",
    "# cat list\n",
    "cats = ['Full','Category','Nov_Cued','Side','None','Nov_Un']\n",
    "\n",
    "# plot settings\n",
    "sb.set_style(\"white\")\n",
    "plt.grid(False)\n",
    "plt.rc('xtick', labelsize=15)\n",
    "plt.rc('ytick', labelsize=15)\n",
    "plt.xlabel('Attention Level',    fontsize = 20)\n",
    "plt.ylabel('Familiarity Rating', fontsize = 20)\n",
    "\n",
    "\n",
    "# for each experiment, for each test group, group and plot\n",
    "\n",
    "for experiment in ['/sustain', '/variabl']:\n",
    "\n",
    "    label = experiment \n",
    "\n",
    "    d = behavioral_added2[(behavioral_added2['Experiment']==experiment)]\n",
    "\n",
    "\n",
    "    # VIOLIN PLOT\n",
    "    data = d.groupby(['UniqueID','Attention Level', 'Category'], as_index = False).mean()\n",
    "    print(label + ': Average Familiarity by Attention Level')\n",
    "    sb_plot = sb.violinplot(x='Attention Level', y='Familiarity Rating', \n",
    "                 data = data, hue='Category', split=True,\n",
    "                 order=['Full','Category','Side','None','Novel'])\n",
    "    sb_plot.set(ylim=(.2, 9))\n",
    "    ax1 = sb_plot.axes\n",
    "\n",
    "\n",
    "    ### SIGNIFICANCE STARS FOR PLOTTING ###\n",
    "    t_draw = {}\n",
    "\n",
    "#         for c in data['Attention Level'].unique():\n",
    "# #             if c in(['Nov_Cued','Nov_Un']) and label=='Experiment_2':\n",
    "\n",
    "# #                 # if comparing novel images from exp2, eliminate participant 28 (all Place-cued as last cued category)\n",
    "# #                 first  = list(data[(data['Attention Level']==c) & (data['Category']=='Face') & (data['UniqueID']!=28)]['Familiarity Rating'])\n",
    "# #                 second = list(data[(data['Attention Level']==c) & (data['Category']=='Place') & (data['UniqueID']!=28)]['Familiarity Rating'])\n",
    "\n",
    "# #             else:\n",
    "#             first  = list(data[(data['Attention Level']==c) & (data['Category']=='Face')]['Familiarity Rating'])\n",
    "#             second = list(data[(data['Attention Level']==c) & (data['Category']=='Place')]['Familiarity Rating'])\n",
    "\n",
    "#             t = scipy.stats.ttest_rel(first, second)\n",
    "\n",
    "#             if t[1]<.001:\n",
    "#                 t_draw[c] = '***'\n",
    "\n",
    "#             elif t[1]<.01:\n",
    "#                 t_draw[c] = '**'\n",
    "\n",
    "#             elif t[1]<.05:\n",
    "#                 t_draw[c] = '*'\n",
    "\n",
    "#             elif t[1]<.0551:\n",
    "#                 t_draw[c] = '+'\n",
    "\n",
    "\n",
    "#     ### SIGNIFICANCE BETWEEN VIOLINS FOR PLOTTING ###\n",
    "#     stat_dict = {}\n",
    "#     k = data.groupby(['UniqueID','Attention Level'],as_index=False).mean()\n",
    "\n",
    "#     for pair in list(itertools.combinations(cats, r=2)):\n",
    "#         t = stats.ttest_rel(k[k['Attention Level']==pair[0]]['Familiarity Rating'], \n",
    "#                             k[k['Attention Level']==pair[1]]['Familiarity Rating'])\n",
    "#         stat_dict_full[label][pair] = {'t': t.statistic, 'p': t.pvalue}\n",
    "\n",
    "#         # dictionary where every key is a pair categories with a difference that has p value less than .0551\n",
    "#         if t[1]<=.0551:\n",
    "#             stat_dict[pair] = {'t': t.statistic, 'p': t.pvalue}\n",
    "\n",
    "\n",
    "#     ### CREATE AND ADD SIGNIFICANCE LINES TO PLOT ###\n",
    "#     for relationship in  ['pos','neg']:\n",
    "\n",
    "#         plotted_cats = []\n",
    "#         to_be_plotted = []\n",
    "#         line_height = 0\n",
    "\n",
    "#         # FOR EACH CATEGORY\n",
    "#         for idx,c in enumerate(cats):\n",
    "\n",
    "#             x = sig_bars(c, cats, stat_dict, sign=relationship)\n",
    "#             # get all significance lines from this category to every other category\n",
    "\n",
    "#             for idx,line in enumerate(x):\n",
    "#             # for each line from this category to another category (starting with the nearest category)\n",
    "\n",
    "#                 if (line['categories'] not in plotted_cats) and (line!=np.nan) and (type(line['categories'])!=float):\n",
    "#                 # if there is a difference in the correct direction (pos/neg) and it has not been plotted yet\n",
    "\n",
    "#                     line['y'] = line['y'] + line_height\n",
    "#                     # assign the next available height to this line \n",
    "#                     # (give its height a boost based on how many lines have been plotted already)\n",
    "\n",
    "#                     to_be_plotted.append(line)\n",
    "#                     # append this line to the list of lines to be plotted\n",
    "\n",
    "#                     plotted_cats.append(line['categories'])\n",
    "#                     # add this category pair to the list of category pairs that has been plotted\n",
    "\n",
    "#                     # CONTINUE THE CASCADE OF LINES\n",
    "#                     # now, start from the category we have just drawn a line to\n",
    "#                     # and loop through the rest of the categories from there\n",
    "\n",
    "#                     # first, give the line a new name so we can loop over new lines, without losing our first one\n",
    "#                     b = line\n",
    "\n",
    "#                     # as long as there is difference in the correct direction (pos/neg) \n",
    "#                     # between the most recent category and the next one\n",
    "#                     while b['next']!= 0 :\n",
    "\n",
    "#                         # grab the first category for the line between them\n",
    "#                         first_cat = b['categories'][0]\n",
    "\n",
    "#                         # then get the line STARTING from the category we have just drawn a line to, to the NEXT category it differs from\n",
    "#                         b = sig_bars(b['next'], cats, stat_dict, sign=relationship)[0]\n",
    "\n",
    "#                         # if there is a difference in the correct direction (pos/neg) that has not been plotted yet\n",
    "#                         if (b['categories'] not in plotted_cats) and (b != np.nan) and (type(b['categories'])!=float):\n",
    "\n",
    "#                             # adjust its height so it is the same height as the line that brought us here\n",
    "#                             b['y'] = b['y'] + line_height\n",
    "\n",
    "#                             # add this line to the lines we will plot\n",
    "#                             to_be_plotted.append(b)\n",
    "\n",
    "#                             # add this category pair to the list of pairs that's been plotted\n",
    "#                             plotted_cats.append(b['categories'])\n",
    "\n",
    "#                             # also add the pair of categories containing the original starting category and this ending category\n",
    "#                             # (so that doesn't get plotted redundantly)\n",
    "#                             plotted_cats.append((line['categories'][0], b['categories'][1]))\n",
    "\n",
    "#                             # AND add the relationship from the original starting category to this starting category\n",
    "#                             # (so that doesn't get plotted redundantly)\n",
    "#                             plotted_cats.append((first_cat, b['categories'][1]))\n",
    "\n",
    "#                     line_height = line_height - .4\n",
    "#                     # adjust height next lines will be drawn at\n",
    "\n",
    "#         # Plot the lines\n",
    "#         for each in to_be_plotted:\n",
    "\n",
    "#             if relationship == 'pos':\n",
    "#                 ax1.axhline(each['y'], ls='-', xmin = each['x_min'], xmax = each['x_max'], \n",
    "#                     linewidth = each['width'], color = col[cats.index(each['categories'][0])])\n",
    "\n",
    "#             if relationship == 'neg':\n",
    "#                 ax1.axhline(each['y']-2, ls='-', xmin = each['x_min'], xmax = each['x_max'], \n",
    "#                     linewidth = each['width'], color = col[-cats.index(each['categories'][1])])\n",
    "\n",
    "#     # Plot the stars\n",
    "#     for stars in t_draw:\n",
    "#         ax1.text((cats.index(stars)), 4.5, t_draw[stars], horizontalalignment='center', size='large', color='black')\n",
    "\n",
    "    # save figure\n",
    "    # plt.savefig(label+\"_violin.pdf\")\n",
    "\n",
    "    # show figure\n",
    "    plt.legend(bbox_to_anchor=(1.05, 1), loc=2, borderaxespad=0.)\n",
    "    plt.show()"
   ]
  },
  {
   "cell_type": "code",
   "execution_count": null,
   "metadata": {},
   "outputs": [],
   "source": [
    "behavioral_added2.columns"
   ]
  },
  {
   "cell_type": "markdown",
   "metadata": {},
   "source": [
    "### Do Behavioral Again"
   ]
  },
  {
   "cell_type": "code",
   "execution_count": null,
   "metadata": {},
   "outputs": [],
   "source": [
    "# for s in behavioral_added2['UniqueID'].unique():\n",
    "#     for r in behavioral_added2['Run'].unique():\n",
    "#         behavioral_added2.loc[(behavioral_added2['Run']==r) \n",
    "#                  & (behavioral_added2['UniqueID']==s) \n",
    "#                  & (behavioral_added2['Trial Type']=='Memory'), 'Last Cued'] = behavioral_added2[(behavioral_added2['Run']==r) & (behavioral_added2['UniqueID']==s) & (behavioral_added2['Trial Type']=='Presentation') & (behavioral_added2['Trial']==9)]['Cued Category'].item()"
   ]
  },
  {
   "cell_type": "code",
   "execution_count": null,
   "metadata": {},
   "outputs": [],
   "source": []
  },
  {
   "cell_type": "markdown",
   "metadata": {},
   "source": [
    "# --------"
   ]
  },
  {
   "cell_type": "code",
   "execution_count": null,
   "metadata": {},
   "outputs": [],
   "source": [
    "# make the difference value negative for opposite facing arrow\n",
    "behavioral['gaze_towards_cued_side'] = behavioral['gaze_from_center']\n",
    "behavioral.loc[(behavioral['Cued Side']=='<'),'gaze_towards_cued_side'] = -behavioral.loc[(behavioral['Cued Side']=='<')]['gaze_towards_cued_side']"
   ]
  },
  {
   "cell_type": "code",
   "execution_count": null,
   "metadata": {},
   "outputs": [],
   "source": [
    "# ttest relative to zero drift! \n",
    "behav_grp = behavioral.groupby(['Experiment','Group', 'UniqueID'], as_index=False).mean()\n",
    "\n",
    "for exp in ['/sustain','/variabl']:\n",
    "    for group in [1,2]:\n",
    "        \n",
    "        print(exp)\n",
    "        print(group)\n",
    "        print(scipy.stats.ttest_1samp(behav_grp[(behav_grp['Experiment']==exp)\n",
    "                                               &(behav_grp['Group']==group)]['gaze_towards_cued_side'],0))\n",
    "        \n",
    "        print(np.mean(behav_grp[(behav_grp['Experiment']==exp)&(behav_grp['Group']==group)]['gaze_towards_cued_side'])/np.std(behav_grp[(behav_grp['Experiment']==exp)\n",
    "                                               &(behav_grp['Group']==group)]['gaze_towards_cued_side']))\n",
    "        print()"
   ]
  },
  {
   "cell_type": "markdown",
   "metadata": {},
   "source": [
    "# Data restricted to gaze between images"
   ]
  },
  {
   "cell_type": "code",
   "execution_count": null,
   "metadata": {},
   "outputs": [],
   "source": [
    "gaze.columns"
   ]
  },
  {
   "cell_type": "code",
   "execution_count": null,
   "metadata": {},
   "outputs": [],
   "source": [
    "gaze_restricted = behavioral[abs(behavioral['gaze_from_center'])<4.2752]\n",
    "gaze_restricted = gaze_restricted.groupby(['UniqueID','Run','Trial'], as_index=False).mean()\n",
    "    \n",
    "#     restricted_behavioral = []\n",
    "\n",
    "#     for s in gaze_restricted['Subject'].unique():\n",
    "#         for r in gaze_restricted[gaze_restricted['Subject']==s]['Run'].unique():\n",
    "#             for t in gaze_restricted[(gaze_restricted['Subject']==s) & (gaze_restricted['Run']==r)]['Trial'].unique():\n",
    "#                 restricted_behavioral.append(exp1[(exp1['Subject']==s) & (exp1['Run']==int(r)) & (exp1['Trial']==float(t))])\n",
    "    \n",
    "#     restricted_concat[label] = pd.concat(restricted_behavioral)"
   ]
  },
  {
   "cell_type": "code",
   "execution_count": null,
   "metadata": {},
   "outputs": [],
   "source": [
    "gaze_restricted"
   ]
  },
  {
   "cell_type": "markdown",
   "metadata": {},
   "source": [
    "# Attended Category vs Unattended Images"
   ]
  },
  {
   "cell_type": "code",
   "execution_count": null,
   "metadata": {},
   "outputs": [],
   "source": [
    "for l in restricted_concat:\n",
    "    d = restricted_concat[l]\n",
    "\n",
    "    Cats = []\n",
    "    Novs = []\n",
    "    for s in d['UniqueID'].unique():\n",
    "\n",
    "        Cats.append(d[(d['Subject']==s) & (d['Attention Level'].isin(['Category','Full']))]['Familiarity Rating'].mean())\n",
    "        Novs.append(d[(d['Subject']==s) & (d['Attention Level']=='None')]['Familiarity Rating'].mean())\n",
    "\n",
    "    print(l)\n",
    "    print(scipy.stats.ttest_rel(Cats, Novs))\n",
    "    print(cohen_d(Cats, Novs))\n",
    "    print()"
   ]
  },
  {
   "cell_type": "markdown",
   "metadata": {},
   "source": [
    "# Attended Side vs Unattended Images"
   ]
  },
  {
   "cell_type": "code",
   "execution_count": null,
   "metadata": {},
   "outputs": [],
   "source": [
    "for l in restricted_concat.keys():\n",
    "    d = restricted_concat[l]\n",
    "\n",
    "    Sides = []\n",
    "    Novs = []\n",
    "    \n",
    "    for s in d['Subject'].unique():\n",
    "\n",
    "        Sides.append(d[(d['Subject']==s) & (d['Attention Level'].isin(['Full','Side']))]['Familiarity Rating'].mean())\n",
    "        Novs.append(d[(d['Subject']==s) & (d['Attention Level']=='None')]['Familiarity Rating'].mean())\n",
    "\n",
    "\n",
    "    print(scipy.stats.ttest_rel(Sides, Novs))\n",
    "    print(cohen_d(Sides, Novs))\n",
    "    print()"
   ]
  },
  {
   "cell_type": "markdown",
   "metadata": {},
   "source": [
    "# Plot"
   ]
  },
  {
   "cell_type": "code",
   "execution_count": null,
   "metadata": {},
   "outputs": [],
   "source": [
    "gaze_added_mem_dict = {}\n",
    "gaze_added_mem = []\n",
    "\n",
    "for data,label in zip([exp1, exp2],['exp1','exp2']):\n",
    "    print(label)\n",
    "\n",
    "    for s in data['Subject'].unique():\n",
    "        print(s)\n",
    "        for r in data['Run'].unique():\n",
    "            gaze_added_mem.append(add_gaze(data[(data['Subject']==s) & (data['Run']==r)]))\n",
    "\n",
    "    gaze_mem = pd.concat(gaze_added_mem)\n",
    "    gaze_mem.loc[gaze_mem['Attention Level']=='Novel','av_x_coord']=0\n",
    "\n",
    "    gaze_mem['gaze_towards'] = gaze_mem['av_x_coord'] - (59.8/2)\n",
    "\n",
    "    gaze_mem.loc[(gaze_mem['Cued Side']=='<') \n",
    "                 & (gaze_mem['Attention Level'].isin(['Full', 'Side'])), 'gaze_towards'] = -gaze_mem[(gaze_mem['Cued Side']=='<') \n",
    "                                                                                                          & (gaze_mem['Attention Level'].isin(['Full', 'Side']))]['gaze_towards']\n",
    "\n",
    "    gaze_mem.loc[(gaze_mem['Cued Side']=='>') \n",
    "                 & (gaze_mem['Attention Level'].isin(['None', 'Category'])), 'gaze_towards'] = -gaze_mem[(gaze_mem['Cued Side']=='>') & (gaze_mem['Attention Level'].isin(['None', 'Category']))]['gaze_towards']\n",
    "\n",
    "    gaze_mem_grp = gaze_mem.groupby(['Subject','Attention Level', 'Familiarity Rating','Trial Type'], as_index=False).mean()\n",
    "\n",
    "    gaze_added_mem_dict[label] = gaze_mem"
   ]
  },
  {
   "cell_type": "code",
   "execution_count": null,
   "metadata": {},
   "outputs": [],
   "source": [
    "%matplotlib inline\n",
    "for label in ['exp1','exp2']:\n",
    "    \n",
    "    gaze_mem_grp = gaze_added_mem_dict[label].groupby(['Subject','Attention Level', 'Familiarity Rating','Trial Type'], as_index=False).mean()\n",
    "\n",
    "    # scale by screen size\n",
    "    gaze_mem_grp['scaled_gaze_towards'] = gaze_mem_grp['gaze_towards']/(59.8/2)\n",
    "\n",
    "    # plot\n",
    "    sb.set_style('white')\n",
    "\n",
    "    f = sb.violinplot(x='Familiarity Rating', y='scaled_gaze_towards', \n",
    "                  data=gaze_mem_grp[gaze_mem_grp['Attention Level']!='Novel'], hue='Attention Level')\n",
    "\n",
    "    plt.grid(False)\n",
    "    plt.rc('xtick', labelsize=20)\n",
    "    plt.rc('ytick', labelsize=20)\n",
    "    plt.xlabel('Familiarity Rating',    fontsize = 20)\n",
    "    plt.ylabel('Horizontal Gaze Drift', fontsize = 20)\n",
    "    f.set(ylim=(-1, 1))\n",
    "    plt.show()\n"
   ]
  },
  {
   "cell_type": "code",
   "execution_count": null,
   "metadata": {},
   "outputs": [],
   "source": [
    "restricted_behavioral[restricted_behavioral['Group']==2].groupby(['UniqueID','Experiment']).count()\n",
    "\n",
    "restricted_behavioral['Attention Reaction Time (s)'].unique()"
   ]
  },
  {
   "cell_type": "code",
   "execution_count": null,
   "metadata": {
    "scrolled": false
   },
   "outputs": [],
   "source": [
    "subbies = []\n",
    "\n",
    "for subject in data_gr['UniqueID'].unique():\n",
    "    if data_gr[(data_gr['UniqueID']==subject) & (data_gr['Cue Validity']==1)].shape[0]>0:\n",
    "        if data_gr[(data_gr['UniqueID']==subject) & (data_gr['Cue Validity']==0)].shape[0]>0:\n",
    "            subbies.append(subject)"
   ]
  },
  {
   "cell_type": "code",
   "execution_count": null,
   "metadata": {},
   "outputs": [],
   "source": [
    "subbies"
   ]
  },
  {
   "cell_type": "code",
   "execution_count": null,
   "metadata": {},
   "outputs": [],
   "source": [
    "subbies\n",
    "# data[data['UniqueID'].isin([0, 3, 4, 5, 6, 7, 8, 9])]"
   ]
  },
  {
   "cell_type": "code",
   "execution_count": null,
   "metadata": {},
   "outputs": [],
   "source": [
    "data[data['Attention Reaction Time (s)']>2]"
   ]
  },
  {
   "cell_type": "code",
   "execution_count": null,
   "metadata": {},
   "outputs": [],
   "source": [
    "data = restricted_behavioral\n",
    "\n",
    "# compare average attention probe reaction times (valid versus invalid)\n",
    "\n",
    "data_gr = data[data['UniqueID'].isin(subbies)].groupby(['UniqueID','Cue Validity', 'Experiment', 'Group'], as_index=False).mean()\n",
    "\n",
    "for experiment in ['/sustain', '/variabl']:\n",
    "    \n",
    "    for group in [1,2]:\n",
    "        \n",
    "        dat = data_gr[(data_gr['Experiment']== experiment) & (data_gr['Group']== group)]\n",
    "    \n",
    "        print('exp : '+ experiment + ', group : '+str(group))\n",
    "        print(scipy.stats.ttest_rel(dat[(dat['Cue Validity']==1)]['Attention Reaction Time (s)'], \n",
    "\n",
    "                                    dat[(dat['Cue Validity']==0) ]['Attention Reaction Time (s)']))\n",
    "        print()\n",
    "        print(scipy.stats.mannwhitneyu(dat[(dat['Cue Validity']==1)]['Attention Reaction Time (s)'], \n",
    "\n",
    "                                    dat[(dat['Cue Validity']==0) ]['Attention Reaction Time (s)']))\n",
    "        \n",
    "        sb.barplot(data=dat, x='Cue Validity', y='Attention Reaction Time (s)')\n",
    "        plt.show()\n",
    "\n",
    "        print()\n",
    "        \n",
    "#         print(cohen_d(list(data_gr[(data_gr['Cue Validity']==1) & (data_gr['Experiment'] == experiment)]['Attention Reaction Time (s)']),\n",
    "#                       list(data_gr[(data_gr['Cue Validity']==0) & (data_gr['Experiment'] == experiment)]['Attention Reaction Time (s)'])))\n",
    "\n",
    "        print()"
   ]
  },
  {
   "cell_type": "code",
   "execution_count": null,
   "metadata": {},
   "outputs": [],
   "source": []
  }
 ],
 "metadata": {
  "kernelspec": {
   "display_name": "Python 3",
   "language": "python",
   "name": "python3"
  },
  "language_info": {
   "codemirror_mode": {
    "name": "ipython",
    "version": 3
   },
   "file_extension": ".py",
   "mimetype": "text/x-python",
   "name": "python",
   "nbconvert_exporter": "python",
   "pygments_lexer": "ipython3",
   "version": "3.7.4"
  }
 },
 "nbformat": 4,
 "nbformat_minor": 2
}
