{
 "cells": [
  {
   "cell_type": "markdown",
   "metadata": {},
   "source": [
    "# Imports"
   ]
  },
  {
   "cell_type": "code",
   "execution_count": 65,
   "metadata": {},
   "outputs": [],
   "source": [
    "import pandas as pd; import seaborn as sb; import statsmodels.formula.api as smf; import pingouin;\n",
    "from statannot import add_stat_annotation; from itertools import combinations; import os;\n",
    "from analysis_helpers import *; import scipy; from scipy import stats; import os; import math;\n",
    "import warnings\n",
    "warnings.filterwarnings('ignore')"
   ]
  },
  {
   "cell_type": "markdown",
   "metadata": {},
   "source": [
    "# Load and organize data"
   ]
  },
  {
   "cell_type": "code",
   "execution_count": 118,
   "metadata": {},
   "outputs": [],
   "source": [
    "whole_exp1_gaze = pd.DataFrame.from_csv('../parsed_data/gaze_data_exp1.csv')\n",
    "whole_exp2_gaze = pd.DataFrame.from_csv('../parsed_data/gaze_data_exp2.csv')"
   ]
  },
  {
   "cell_type": "code",
   "execution_count": 136,
   "metadata": {},
   "outputs": [],
   "source": [
    "# remove underscores from Subject labels in exp2, convert all Sub #'s to int\n",
    "whole_exp2_gaze['Subject'] = whole_exp2_gaze['Subject'].astype(str)\n",
    "whole_exp2_gaze['Subject'] = whole_exp2_gaze['Subject'].map(lambda x: x.rstrip('_'))\n",
    "whole_exp2_gaze['Subject'] = whole_exp2_gaze['Subject'].astype(int)"
   ]
  },
  {
   "cell_type": "markdown",
   "metadata": {},
   "source": [
    "# Tendency to gaze towards cued side"
   ]
  },
  {
   "cell_type": "code",
   "execution_count": 137,
   "metadata": {},
   "outputs": [],
   "source": [
    "# load behavioral data\n",
    "exp1 = pd.DataFrame.from_csv('/Users/kirstenziman/Documents/NEW_DIRECTORY/new_place/attention-memory-task/parsed_data/behavioral_data_exp1.csv')\n",
    "exp2 = pd.DataFrame.from_csv('/Users/kirstenziman/Documents/NEW_DIRECTORY/new_place/attention-memory-task/parsed_data/behavioral_data_exp2.csv')"
   ]
  },
  {
   "cell_type": "code",
   "execution_count": 125,
   "metadata": {},
   "outputs": [
    {
     "name": "stdout",
     "output_type": "stream",
     "text": [
      "Ttest_1sampResult(statistic=1.0842222230054432, pvalue=0.28719822398107797)\n",
      "Ttest_1sampResult(statistic=2.241202377673304, pvalue=0.03283486220324865)\n"
     ]
    }
   ],
   "source": [
    "gaze_grp_list = []\n",
    "\n",
    "for data,behav,label in zip([whole_exp1_gaze, whole_exp2_gaze],[exp1, exp2],['1','2']):\n",
    "    \n",
    "    # Make sure behavioral trials are numbered\n",
    "    behav.loc[behav['Trial Type']=='Memory','Trial'] = list(range(0,40))*30*8\n",
    "    behav.loc[behav['Trial Type']=='Presentation','Trial'] = list(range(0,10))*30*8\n",
    "    \n",
    "    # group gaze data\n",
    "    gaze_grp = data.groupby(['Subject','Run','Trial'], as_index=False).mean()\n",
    "    gaze_grp['Run'] = pd.to_numeric(gaze_grp['Run'])\n",
    "    \n",
    "    gaze_grp_list.append(gaze_grp)\n",
    "    \n",
    "    # add av x coord to each presentation trial in behavioral df\n",
    "    for s in gaze_grp['Subject'].unique():\n",
    "\n",
    "        # special case for subject 327 (three digit subject #, as opposed to 2 digit)\n",
    "        if label=='2' and s == 32:\n",
    "            for r in gaze_grp[gaze_grp['Subject']==s]['Run'].unique():\n",
    "                for t in gaze_grp[(gaze_grp['Subject']==s) & (gaze_grp['Run']==r)]['Trial'].unique():\n",
    "\n",
    "                    if gaze_grp[(gaze_grp['Subject']==s) & (gaze_grp['Run']==r) & (gaze_grp['Trial']==t)].shape[0]>0:\n",
    "\n",
    "                        behav.loc[(behav['Subject']==327) \n",
    "                                     & (behav['Run']==r) \n",
    "                                     & (behav['Trial']==t), 'av_x_coord'] =  gaze_grp[(gaze_grp['Subject']==s) \n",
    "                                                                                     & (gaze_grp['Run']==r) \n",
    "                                                                                     & (gaze_grp['Trial']==t)]['av_x_coord'].item()\n",
    "\n",
    "        # all others have two digit subject number\n",
    "        else:\n",
    "            for r in gaze_grp[gaze_grp['Subject']==s]['Run'].unique():\n",
    "                for t in gaze_grp[(gaze_grp['Subject']==s) & (gaze_grp['Run']==r)]['Trial'].unique():\n",
    "\n",
    "                    if gaze_grp[(gaze_grp['Subject']==s) & (gaze_grp['Run']==r) & (gaze_grp['Trial']==t)].shape[0]>0:\n",
    "\n",
    "                        behav.loc[(behav['Subject']==s) \n",
    "                                     & (behav['Run']==r) \n",
    "                                     & (behav['Trial']==t), 'av_x_coord'] =  gaze_grp[(gaze_grp['Subject']==s) \n",
    "                                                                                     & (gaze_grp['Run']==r) \n",
    "                                                                                     & (gaze_grp['Trial']==t)]['av_x_coord'].item()\n",
    "\n",
    "    # compute av x gaze's difference from screen center\n",
    "    behav['gaze_from_center'] = behav['av_x_coord'] - 59.8/2\n",
    "    \n",
    "    # make the difference value negative for opposite facing arrow\n",
    "    behav['gaze_towards_cued_side'] = behav['gaze_from_center']\n",
    "    behav.loc[(behav['Cued Side']=='<'),'gaze_towards_cued_side'] = -behav.loc[(behav['Cued Side']=='<')]['gaze_towards_cued_side']\n",
    "    \n",
    "    # ttest relative to zero drift! \n",
    "    behav_grp = behav.groupby(['Subject'], as_index=False).mean()\n",
    "    print(scipy.stats.ttest_1samp(behav_grp['gaze_towards_cued_side'],0))\n",
    "    "
   ]
  },
  {
   "cell_type": "markdown",
   "metadata": {},
   "source": [
    "# Data restricted to gaze between images"
   ]
  },
  {
   "cell_type": "code",
   "execution_count": 129,
   "metadata": {},
   "outputs": [],
   "source": [
    "def cent_to_deg(centimeters, distance):\n",
    "    '''\n",
    "    input:  stim size in centimeters, participant distance from screen (cm)\n",
    "    output: stim size in visual angle\n",
    "    '''\n",
    "    answer = math.degrees(math.atan(centimeters/distance))\n",
    "    return(answer)"
   ]
  },
  {
   "cell_type": "code",
   "execution_count": 132,
   "metadata": {},
   "outputs": [
    {
     "data": {
      "text/plain": [
       "3.3384705437643523"
      ]
     },
     "execution_count": 132,
     "metadata": {},
     "output_type": "execute_result"
    }
   ],
   "source": [
    "# note: this value is calculated only for use in the paper\n",
    "# in gaze calculations, 3.5cm is used since gaze data is in cm, not deg visual angle\n",
    "cent_to_deg(3.5, 60)"
   ]
  },
  {
   "cell_type": "code",
   "execution_count": 133,
   "metadata": {},
   "outputs": [],
   "source": [
    "restricted_concat = {}\n",
    "for gaze,label in zip([whole_exp1_gaze, whole_exp2_gaze],['exp1','exp2']):\n",
    "\n",
    "    gaze['gaze_from_center'] = gaze['av_x_coord'] - (59.8/2)\n",
    "    \n",
    "    gaze_restricted = gaze[abs(gaze['gaze_from_center'])<3.5]\n",
    "    gaze_restricted = gaze_restricted.groupby(['Subject','Run','Trial'], as_index=False).mean()\n",
    "    \n",
    "    restricted_behavioral = []\n",
    "\n",
    "    for s in gaze_restricted['Subject'].unique():\n",
    "        for r in gaze_restricted[gaze_restricted['Subject']==s]['Run'].unique():\n",
    "            for t in gaze_restricted[(gaze_restricted['Subject']==s) & (gaze_restricted['Run']==r)]['Trial'].unique():\n",
    "                restricted_behavioral.append(exp1[(exp1['Subject']==s) & (exp1['Run']==int(r)) & (exp1['Trial']==float(t))])\n",
    "    \n",
    "    restricted_concat[label] = pd.concat(restricted_behavioral)"
   ]
  },
  {
   "cell_type": "markdown",
   "metadata": {},
   "source": [
    "# Attended Category vs Unattended Images"
   ]
  },
  {
   "cell_type": "code",
   "execution_count": 134,
   "metadata": {},
   "outputs": [
    {
     "name": "stdout",
     "output_type": "stream",
     "text": [
      "exp1\n",
      "Ttest_relResult(statistic=5.726358851335908, pvalue=3.3826876454571282e-06)\n",
      "\n",
      "exp2\n",
      "Ttest_relResult(statistic=4.276206395354509, pvalue=0.0002828683173392469)\n",
      "\n"
     ]
    }
   ],
   "source": [
    "for l in restricted_concat:\n",
    "    d = restricted_concat[l]\n",
    "\n",
    "    Cats = []\n",
    "    Novs = []\n",
    "    for s in d['Subject'].unique():\n",
    "\n",
    "        Cats.append(d[(d['Subject']==s) & (d['Attention Level'].isin(['Category','Full']))]['Familiarity Rating'].mean())\n",
    "        Novs.append(d[(d['Subject']==s) & (d['Attention Level']=='None')]['Familiarity Rating'].mean())\n",
    "\n",
    "    print(l)\n",
    "    print(scipy.stats.ttest_rel(Cats, Novs))\n",
    "    print()"
   ]
  },
  {
   "cell_type": "markdown",
   "metadata": {},
   "source": [
    "# Attended Side vs Unattended Images"
   ]
  },
  {
   "cell_type": "code",
   "execution_count": 135,
   "metadata": {},
   "outputs": [
    {
     "name": "stdout",
     "output_type": "stream",
     "text": [
      "Ttest_relResult(statistic=6.078699164218548, pvalue=1.2837661754453501e-06)\n",
      "\n",
      "Ttest_relResult(statistic=4.57812229530863, pvalue=0.0001332146936024731)\n",
      "\n"
     ]
    }
   ],
   "source": [
    "for l in restricted_concat.keys():\n",
    "    d = restricted_concat[l]\n",
    "\n",
    "    Sides = []\n",
    "    Novs = []\n",
    "    \n",
    "    for s in d['Subject'].unique():\n",
    "\n",
    "        Sides.append(d[(d['Subject']==s) & (d['Attention Level'].isin(['Full','Side']))]['Familiarity Rating'].mean())\n",
    "        Novs.append(d[(d['Subject']==s) & (d['Attention Level']=='None')]['Familiarity Rating'].mean())\n",
    "\n",
    "\n",
    "    print(scipy.stats.ttest_rel(Sides, Novs))\n",
    "    print()"
   ]
  },
  {
   "cell_type": "markdown",
   "metadata": {},
   "source": [
    "# Plot"
   ]
  },
  {
   "cell_type": "code",
   "execution_count": 79,
   "metadata": {},
   "outputs": [],
   "source": [
    "def add_gaze(df):\n",
    "\n",
    "    '''\n",
    "    input: df containing pres and mem from single run\n",
    "    output: df with string in 'Attention Level' column in each Memory trial row\n",
    "    '''\n",
    "\n",
    "    for index,row in df.iterrows():\n",
    "        if row['Trial Type']=='Memory':\n",
    "            mem_image = row['Memory Image']\n",
    "            for cue in ['Cued ', 'Uncued ']:\n",
    "                for cat in ['Face', 'Place']:\n",
    "                    if df.loc[df[cue+cat] == mem_image].shape[0]!=0:\n",
    "                        df['av_x_coord'][index]=df.loc[df[cue+cat] == mem_image]['av_x_coord']\n",
    "                        df['Cued Side'][index] = df.loc[df[cue+cat] == mem_image]['Cued Side'].item()\n",
    "\n",
    "    mem_mask = df['Trial Type']=='Memory'\n",
    "    df.loc[mem_mask,'av_x_coord'] = df.loc[mem_mask,'av_x_coord'].fillna(np.nan)\n",
    "\n",
    "    return(df)\n"
   ]
  },
  {
   "cell_type": "code",
   "execution_count": 138,
   "metadata": {},
   "outputs": [],
   "source": [
    "# pd.concat(gaze_added_mem).to_csv('gaze_added_mem_exp1.csv')\n",
    "# gaze_added_mem = pd.DataFrame.from_csv('gaze_added_mem_exp1.csv')"
   ]
  },
  {
   "cell_type": "code",
   "execution_count": 92,
   "metadata": {},
   "outputs": [
    {
     "name": "stdout",
     "output_type": "stream",
     "text": [
      "exp1\n",
      "10\n",
      "13\n",
      "2\n",
      "31\n",
      "9\n",
      "24\n",
      "20\n",
      "16\n",
      "36\n",
      "15\n",
      "23\n",
      "27\n",
      "32\n",
      "0\n",
      "17\n",
      "34\n",
      "25\n",
      "8\n",
      "21\n",
      "30\n",
      "6\n",
      "11\n",
      "12\n",
      "7\n",
      "18\n",
      "33\n",
      "22\n",
      "26\n",
      "19\n",
      "14\n",
      "exp2\n",
      "8\n",
      "15\n",
      "1\n",
      "25\n",
      "12\n",
      "4\n",
      "28\n",
      "19\n",
      "21\n",
      "33\n",
      "7\n",
      "26\n",
      "14\n",
      "2\n",
      "16\n",
      "27\n",
      "23\n",
      "18\n",
      "29\n",
      "13\n",
      "5\n",
      "24\n",
      "0\n",
      "34\n",
      "22\n",
      "327\n",
      "17\n",
      "3\n",
      "10\n",
      "20\n"
     ]
    }
   ],
   "source": [
    "gaze_added_mem_dict = {}\n",
    "gaze_added_mem = []\n",
    "\n",
    "for data,label in zip([exp1, exp2],['exp1','exp2']):\n",
    "    print(label)\n",
    "\n",
    "    for s in data['Subject'].unique():\n",
    "        print(s)\n",
    "        for r in data['Run'].unique():\n",
    "            gaze_added_mem.append(add_gaze(data[(data['Subject']==s) & (data['Run']==r)]))\n",
    "\n",
    "    gaze_mem = pd.concat(gaze_added_mem)\n",
    "    gaze_mem.loc[gaze_mem['Attention Level']=='Novel','av_x_coord']=0\n",
    "\n",
    "    gaze_mem['gaze_towards'] = gaze_mem['av_x_coord'] - (59.8/2)\n",
    "\n",
    "    gaze_mem.loc[(gaze_mem['Cued Side']=='<') \n",
    "                 & (gaze_mem['Attention Level'].isin(['Full', 'Side'])), 'gaze_towards'] = -gaze_mem[(gaze_mem['Cued Side']=='<') \n",
    "                                                                                                          & (gaze_mem['Attention Level'].isin(['Full', 'Side']))]['gaze_towards']\n",
    "\n",
    "    gaze_mem.loc[(gaze_mem['Cued Side']=='>') \n",
    "                 & (gaze_mem['Attention Level'].isin(['None', 'Category'])), 'gaze_towards'] = -gaze_mem[(gaze_mem['Cued Side']=='>') & (gaze_mem['Attention Level'].isin(['None', 'Category']))]['gaze_towards']\n",
    "\n",
    "    gaze_mem_grp = gaze_mem.groupby(['Subject','Attention Level', 'Familiarity Rating','Trial Type'], as_index=False).mean()\n",
    "\n",
    "    gaze_added_mem_dict[label] = gaze_mem\n"
   ]
  },
  {
   "cell_type": "code",
   "execution_count": 93,
   "metadata": {},
   "outputs": [],
   "source": [
    "pickle.dump(gaze_added_mem_dict, open(\"gaze_added_mem_dict.p\", \"wb\" ))"
   ]
  },
  {
   "cell_type": "markdown",
   "metadata": {},
   "source": [
    "# Plot"
   ]
  },
  {
   "cell_type": "code",
   "execution_count": 95,
   "metadata": {},
   "outputs": [
    {
     "data": {
      "image/png": "[encoded data removed]",
      "text/plain": [
       "<Figure size 432x288 with 1 Axes>"
      ]
     },
     "metadata": {},
     "output_type": "display_data"
    },
    {
     "data": {
      "image/png": "[encoded data removed]",
      "text/plain": [
       "<Figure size 432x288 with 1 Axes>"
      ]
     },
     "metadata": {},
     "output_type": "display_data"
    },
    {
     "data": {
      "text/plain": [
       "<Figure size 432x288 with 0 Axes>"
      ]
     },
     "metadata": {},
     "output_type": "display_data"
    }
   ],
   "source": [
    "for label in ['exp1','exp2']:\n",
    "    \n",
    "    gaze_mem_grp = gaze_added_mem_dict[label].groupby(['Subject','Attention Level', 'Familiarity Rating','Trial Type'], as_index=False).mean()\n",
    "\n",
    "    # scale by screen size\n",
    "    gaze_mem_grp['scaled_gaze_towards'] = gaze_mem_grp['gaze_towards']/(59.8/2)\n",
    "\n",
    "    # plot\n",
    "    sb.set_style('white')\n",
    "\n",
    "    f = sb.violinplot(x='Familiarity Rating', y='scaled_gaze_towards', \n",
    "                  data=gaze_mem_grp[gaze_mem_grp['Attention Level']!='Novel'], hue='Attention Level')\n",
    "\n",
    "    plt.grid(False)\n",
    "    plt.rc('xtick', labelsize=20)\n",
    "    plt.rc('ytick', labelsize=20)\n",
    "    plt.xlabel('Familiarity Rating',    fontsize = 20)\n",
    "    plt.ylabel('Horizontal Gaze Drift', fontsize = 20)\n",
    "    f.set(ylim=(-1, 1))\n",
    "    plt.show()\n",
    "    plt.savefig(label+'_scaled_horiz_gaze.pdf')\n"
   ]
  },
  {
   "cell_type": "code",
   "execution_count": null,
   "metadata": {},
   "outputs": [],
   "source": []
  }
 ],
 "metadata": {
  "kernelspec": {
   "display_name": "Python 3",
   "language": "python",
   "name": "python3"
  },
  "language_info": {
   "codemirror_mode": {
    "name": "ipython",
    "version": 3
   },
   "file_extension": ".py",
   "mimetype": "text/x-python",
   "name": "python",
   "nbconvert_exporter": "python",
   "pygments_lexer": "ipython3",
   "version": "3.6.4"
  }
 },
 "nbformat": 4,
 "nbformat_minor": 2
}
