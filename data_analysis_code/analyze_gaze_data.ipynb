{
 "cells": [
  {
   "cell_type": "markdown",
   "metadata": {},
   "source": [
    "# Imports"
   ]
  },
  {
   "cell_type": "code",
   "execution_count": 78,
   "metadata": {},
   "outputs": [],
   "source": [
    "import pandas as pd; import seaborn as sb; import statsmodels.formula.api as smf; import pingouin;\n",
    "from itertools import combinations; import os; from analysis_helpers import *; \n",
    "import scipy; from scipy import stats; import os; import math; import warnings\n",
    "warnings.filterwarnings('ignore')"
   ]
  },
  {
   "cell_type": "markdown",
   "metadata": {},
   "source": [
    "# Load and organize data"
   ]
  },
  {
   "cell_type": "code",
   "execution_count": 79,
   "metadata": {},
   "outputs": [],
   "source": [
    "gaze       = pd.read_csv('../parsed_data/full_gaze.csv')\n",
    "behavioral = pd.read_csv('../parsed_data/full_behavioral.csv')"
   ]
  },
  {
   "cell_type": "code",
   "execution_count": 80,
   "metadata": {},
   "outputs": [],
   "source": [
    "behavioral.loc[behavioral['Trial Type']=='Presentation','Cued Face'] = behavioral[behavioral['Trial Type']=='Presentation']['Cued Composite'].str.split('_',n=1, expand=True)[0]\n",
    "behavioral.loc[behavioral['Trial Type']=='Presentation','Cued Place'] = behavioral[behavioral['Trial Type']=='Presentation']['Cued Composite'].str.split('_',n=1, expand=True)[1]\n",
    "behavioral.loc[behavioral['Trial Type']=='Presentation','Uncued Face'] = behavioral[behavioral['Trial Type']=='Presentation']['Uncued Composite'].str.split('_',n=1, expand=True)[0]\n",
    "behavioral.loc[behavioral['Trial Type']=='Presentation','Uncued Place'] = behavioral[behavioral['Trial Type']=='Presentation']['Uncued Composite'].str.split('_',n=1, expand=True)[1]"
   ]
  },
  {
   "cell_type": "code",
   "execution_count": 81,
   "metadata": {},
   "outputs": [],
   "source": [
    "behavioral.loc[behavioral['Trial Type']=='Presentation','Cued Face'] = behavioral[behavioral['Trial Type']=='Presentation']['Cued Face']+'.jpg'"
   ]
  },
  {
   "cell_type": "code",
   "execution_count": 82,
   "metadata": {},
   "outputs": [],
   "source": [
    "behavioral.loc[behavioral['Trial Type']=='Presentation','Uncued Face'] = behavioral[behavioral['Trial Type']=='Presentation']['Uncued Face']+'.jpg'"
   ]
  },
  {
   "cell_type": "code",
   "execution_count": 83,
   "metadata": {},
   "outputs": [
    {
     "data": {
      "text/html": [
       "<div>\n",
       "<style scoped>\n",
       "    .dataframe tbody tr th:only-of-type {\n",
       "        vertical-align: middle;\n",
       "    }\n",
       "\n",
       "    .dataframe tbody tr th {\n",
       "        vertical-align: top;\n",
       "    }\n",
       "\n",
       "    .dataframe thead th {\n",
       "        text-align: right;\n",
       "    }\n",
       "</style>\n",
       "<table border=\"1\" class=\"dataframe\">\n",
       "  <thead>\n",
       "    <tr style=\"text-align: right;\">\n",
       "      <th></th>\n",
       "      <th>Unnamed: 0</th>\n",
       "      <th>Unnamed: 0.1</th>\n",
       "      <th>avg</th>\n",
       "      <th>fix</th>\n",
       "      <th>lefteye</th>\n",
       "      <th>raw</th>\n",
       "      <th>righteye</th>\n",
       "      <th>state</th>\n",
       "      <th>time</th>\n",
       "      <th>timestamp</th>\n",
       "      <th>...</th>\n",
       "      <th>xRaw_lefteye</th>\n",
       "      <th>yRaw_lefteye</th>\n",
       "      <th>av_x_coord</th>\n",
       "      <th>av_y_coord</th>\n",
       "      <th>Subject</th>\n",
       "      <th>UniqueID</th>\n",
       "      <th>Group</th>\n",
       "      <th>Experiment</th>\n",
       "      <th>Trial</th>\n",
       "      <th>Run</th>\n",
       "    </tr>\n",
       "  </thead>\n",
       "  <tbody>\n",
       "    <tr>\n",
       "      <td>0</td>\n",
       "      <td>0</td>\n",
       "      <td>43696</td>\n",
       "      <td>{'x': 1041.042, 'y': 501.128}</td>\n",
       "      <td>True</td>\n",
       "      <td>{'avg': {'x': 989.74, 'y': 494.5082}, 'pcenter...</td>\n",
       "      <td>{'x': 1029.6586, 'y': 493.4627}</td>\n",
       "      <td>{'avg': {'x': 1092.8706, 'y': 545.1093}, 'pcen...</td>\n",
       "      <td>7</td>\n",
       "      <td>994163077</td>\n",
       "      <td>1.538592e+09</td>\n",
       "      <td>...</td>\n",
       "      <td>989.0439</td>\n",
       "      <td>458.6258</td>\n",
       "      <td>1029.65855</td>\n",
       "      <td>493.4627</td>\n",
       "      <td>10</td>\n",
       "      <td>0</td>\n",
       "      <td>1</td>\n",
       "      <td>/sustain</td>\n",
       "      <td>0.0</td>\n",
       "      <td>3</td>\n",
       "    </tr>\n",
       "    <tr>\n",
       "      <td>1</td>\n",
       "      <td>1</td>\n",
       "      <td>43697</td>\n",
       "      <td>{'x': 1039.5768, 'y': 503.2538}</td>\n",
       "      <td>True</td>\n",
       "      <td>{'avg': {'x': 989.9557, 'y': 494.9846}, 'pcent...</td>\n",
       "      <td>{'x': 1040.4014, 'y': 537.1355}</td>\n",
       "      <td>{'avg': {'x': 1092.2872, 'y': 546.3817}, 'pcen...</td>\n",
       "      <td>7</td>\n",
       "      <td>994163112</td>\n",
       "      <td>1.538592e+09</td>\n",
       "      <td>...</td>\n",
       "      <td>993.0250</td>\n",
       "      <td>508.4023</td>\n",
       "      <td>1040.40140</td>\n",
       "      <td>537.1355</td>\n",
       "      <td>10</td>\n",
       "      <td>0</td>\n",
       "      <td>1</td>\n",
       "      <td>/sustain</td>\n",
       "      <td>0.0</td>\n",
       "      <td>3</td>\n",
       "    </tr>\n",
       "  </tbody>\n",
       "</table>\n",
       "<p>2 rows × 22 columns</p>\n",
       "</div>"
      ],
      "text/plain": [
       "   Unnamed: 0  Unnamed: 0.1                              avg   fix  \\\n",
       "0           0         43696    {'x': 1041.042, 'y': 501.128}  True   \n",
       "1           1         43697  {'x': 1039.5768, 'y': 503.2538}  True   \n",
       "\n",
       "                                             lefteye  \\\n",
       "0  {'avg': {'x': 989.74, 'y': 494.5082}, 'pcenter...   \n",
       "1  {'avg': {'x': 989.9557, 'y': 494.9846}, 'pcent...   \n",
       "\n",
       "                               raw  \\\n",
       "0  {'x': 1029.6586, 'y': 493.4627}   \n",
       "1  {'x': 1040.4014, 'y': 537.1355}   \n",
       "\n",
       "                                            righteye  state       time  \\\n",
       "0  {'avg': {'x': 1092.8706, 'y': 545.1093}, 'pcen...      7  994163077   \n",
       "1  {'avg': {'x': 1092.2872, 'y': 546.3817}, 'pcen...      7  994163112   \n",
       "\n",
       "      timestamp  ...  xRaw_lefteye  yRaw_lefteye  av_x_coord  av_y_coord  \\\n",
       "0  1.538592e+09  ...      989.0439      458.6258  1029.65855    493.4627   \n",
       "1  1.538592e+09  ...      993.0250      508.4023  1040.40140    537.1355   \n",
       "\n",
       "   Subject  UniqueID  Group  Experiment  Trial Run  \n",
       "0       10         0      1    /sustain    0.0   3  \n",
       "1       10         0      1    /sustain    0.0   3  \n",
       "\n",
       "[2 rows x 22 columns]"
      ]
     },
     "execution_count": 83,
     "metadata": {},
     "output_type": "execute_result"
    }
   ],
   "source": [
    "gaze.head(n=2)"
   ]
  },
  {
   "cell_type": "code",
   "execution_count": 84,
   "metadata": {},
   "outputs": [
    {
     "data": {
      "text/html": [
       "<div>\n",
       "<style scoped>\n",
       "    .dataframe tbody tr th:only-of-type {\n",
       "        vertical-align: middle;\n",
       "    }\n",
       "\n",
       "    .dataframe tbody tr th {\n",
       "        vertical-align: top;\n",
       "    }\n",
       "\n",
       "    .dataframe thead th {\n",
       "        text-align: right;\n",
       "    }\n",
       "</style>\n",
       "<table border=\"1\" class=\"dataframe\">\n",
       "  <thead>\n",
       "    <tr style=\"text-align: right;\">\n",
       "      <th></th>\n",
       "      <th>Unnamed: 0</th>\n",
       "      <th>Unnamed: 0.1</th>\n",
       "      <th>Unnamed: 0.1.1</th>\n",
       "      <th>Subject</th>\n",
       "      <th>Trial Type</th>\n",
       "      <th>Run</th>\n",
       "      <th>Cued Composite</th>\n",
       "      <th>Uncued Composite</th>\n",
       "      <th>Cued Face</th>\n",
       "      <th>Cued Place</th>\n",
       "      <th>...</th>\n",
       "      <th>Pre Invalid Cue</th>\n",
       "      <th>Attention Button</th>\n",
       "      <th>Rating History</th>\n",
       "      <th>Stimulus Onset</th>\n",
       "      <th>Stimulus End</th>\n",
       "      <th>Attention Probe</th>\n",
       "      <th>Trial</th>\n",
       "      <th>UniqueID</th>\n",
       "      <th>Group</th>\n",
       "      <th>Experiment</th>\n",
       "    </tr>\n",
       "  </thead>\n",
       "  <tbody>\n",
       "    <tr>\n",
       "      <td>0</td>\n",
       "      <td>0</td>\n",
       "      <td>0</td>\n",
       "      <td>150</td>\n",
       "      <td>10</td>\n",
       "      <td>Presentation</td>\n",
       "      <td>3</td>\n",
       "      <td>00926960627Fa_sunapqwoeotxshkukbh.jpg</td>\n",
       "      <td>00076931230fa_sunaafewhewbxmjiurz.jpg</td>\n",
       "      <td>00926960627Fa.jpg</td>\n",
       "      <td>sunapqwoeotxshkukbh.jpg</td>\n",
       "      <td>...</td>\n",
       "      <td>NaN</td>\n",
       "      <td>1.0</td>\n",
       "      <td>NaN</td>\n",
       "      <td>1.538592e+09</td>\n",
       "      <td>1.538592e+09</td>\n",
       "      <td>x</td>\n",
       "      <td>0.0</td>\n",
       "      <td>0</td>\n",
       "      <td>1</td>\n",
       "      <td>/sustain</td>\n",
       "    </tr>\n",
       "    <tr>\n",
       "      <td>1</td>\n",
       "      <td>1</td>\n",
       "      <td>1</td>\n",
       "      <td>151</td>\n",
       "      <td>10</td>\n",
       "      <td>Presentation</td>\n",
       "      <td>3</td>\n",
       "      <td>00725941201fa_sunaefgzwiramypjvtd.jpg</td>\n",
       "      <td>00828940307fa_sunahuynahneraqftyz.jpg</td>\n",
       "      <td>00725941201fa.jpg</td>\n",
       "      <td>sunaefgzwiramypjvtd.jpg</td>\n",
       "      <td>...</td>\n",
       "      <td>NaN</td>\n",
       "      <td>3.0</td>\n",
       "      <td>NaN</td>\n",
       "      <td>1.538592e+09</td>\n",
       "      <td>1.538592e+09</td>\n",
       "      <td>o</td>\n",
       "      <td>1.0</td>\n",
       "      <td>0</td>\n",
       "      <td>1</td>\n",
       "      <td>/sustain</td>\n",
       "    </tr>\n",
       "  </tbody>\n",
       "</table>\n",
       "<p>2 rows × 32 columns</p>\n",
       "</div>"
      ],
      "text/plain": [
       "   Unnamed: 0  Unnamed: 0.1  Unnamed: 0.1.1  Subject    Trial Type  Run  \\\n",
       "0           0             0             150       10  Presentation    3   \n",
       "1           1             1             151       10  Presentation    3   \n",
       "\n",
       "                          Cued Composite  \\\n",
       "0  00926960627Fa_sunapqwoeotxshkukbh.jpg   \n",
       "1  00725941201fa_sunaefgzwiramypjvtd.jpg   \n",
       "\n",
       "                        Uncued Composite          Cued Face  \\\n",
       "0  00076931230fa_sunaafewhewbxmjiurz.jpg  00926960627Fa.jpg   \n",
       "1  00828940307fa_sunahuynahneraqftyz.jpg  00725941201fa.jpg   \n",
       "\n",
       "                Cued Place  ... Pre Invalid Cue Attention Button  \\\n",
       "0  sunapqwoeotxshkukbh.jpg  ...             NaN              1.0   \n",
       "1  sunaefgzwiramypjvtd.jpg  ...             NaN              3.0   \n",
       "\n",
       "  Rating History Stimulus Onset  Stimulus End Attention Probe  Trial  \\\n",
       "0            NaN   1.538592e+09  1.538592e+09               x    0.0   \n",
       "1            NaN   1.538592e+09  1.538592e+09               o    1.0   \n",
       "\n",
       "   UniqueID  Group Experiment  \n",
       "0         0      1   /sustain  \n",
       "1         0      1   /sustain  \n",
       "\n",
       "[2 rows x 32 columns]"
      ]
     },
     "execution_count": 84,
     "metadata": {},
     "output_type": "execute_result"
    }
   ],
   "source": [
    "behavioral.head(n=2)"
   ]
  },
  {
   "cell_type": "markdown",
   "metadata": {},
   "source": [
    "# Tendency to gaze towards cued side"
   ]
  },
  {
   "cell_type": "code",
   "execution_count": 85,
   "metadata": {
    "scrolled": true
   },
   "outputs": [],
   "source": [
    "# behavioral[(behavioral['av_x_coord'].isnull()) \n",
    "#           &(behavioral['Trial Type'] == 'Presentation') \n",
    "#           & (behavioral['Group'] != 2)]"
   ]
  },
  {
   "cell_type": "code",
   "execution_count": 86,
   "metadata": {},
   "outputs": [],
   "source": [
    "gaze['av_x_coord'] = (59.8/2048)*(gaze[['xRaw_righteye', 'xRaw_lefteye']].mean(axis=1))\n",
    "gaze['av_y_coord'] = (33.6/1152)*(gaze[['yRaw_righteye', 'yRaw_lefteye']].mean(axis=1))"
   ]
  },
  {
   "cell_type": "code",
   "execution_count": 87,
   "metadata": {},
   "outputs": [],
   "source": [
    "gaze = gaze[(gaze['av_x_coord']   < 59.8) \n",
    "                                  & (gaze['av_y_coord'] < 33.6)\n",
    "                                  & (gaze['av_x_coord'] > 0)\n",
    "                                  & (gaze['av_y_coord'] > 0)]"
   ]
  },
  {
   "cell_type": "code",
   "execution_count": 88,
   "metadata": {},
   "outputs": [],
   "source": [
    "# group gaze data by participant, run #, and trial #\n",
    "# add average x coordinate from gaze data\n",
    "gaze_grp = gaze.groupby(['UniqueID', 'Run', 'Trial'], as_index=False).mean()\n",
    "\n",
    "# sort both dataframes\n",
    "gaze_grp   = gaze_grp.sort_values(by=['UniqueID','Run','Trial'])\n",
    "behavioral = behavioral.sort_values(by=['UniqueID','Run','Trial'])\n",
    "\n",
    "for idx,x in gaze_grp.iterrows():\n",
    "    behavioral.loc[(behavioral['UniqueID']==x['UniqueID']) \n",
    "                   & (behavioral['Run']==x['Run']) \n",
    "                   & (behavioral['Trial']==x['Trial'])\n",
    "                   & (behavioral['Trial Type']=='Presentation'), 'av_x_coord'] = x['av_x_coord']"
   ]
  },
  {
   "cell_type": "code",
   "execution_count": 89,
   "metadata": {},
   "outputs": [],
   "source": [
    "# compute av x gaze's difference from screen center\n",
    "behavioral['gaze_from_center'] = behavioral['av_x_coord'] - 59.8/2\n",
    "\n",
    "# make the difference value negative for opposite facing arrow\n",
    "behavioral['gaze_towards_cued_side'] = behavioral['gaze_from_center']\n",
    "behavioral.loc[(behavioral['Cued Side']=='<'),'gaze_towards_cued_side'] = -behavioral.loc[(behavioral['Cued Side']=='<')]['gaze_towards_cued_side']"
   ]
  },
  {
   "cell_type": "code",
   "execution_count": 90,
   "metadata": {},
   "outputs": [],
   "source": [
    "def add_gaze(df):\n",
    "\n",
    "    '''\n",
    "    input: df containing pres and mem from single run\n",
    "    output: df with string in 'Attention Level' column in each Memory trial row\n",
    "    '''\n",
    "\n",
    "    for index,row in df.iterrows():\n",
    "        if row['Trial Type']=='Memory':\n",
    "            mem_image = row['Memory Image']\n",
    "            for cue in ['Cued ', 'Uncued ']:\n",
    "                for cat in ['Face', 'Place']:\n",
    "                    if df.loc[df[cue+cat] == mem_image].shape[0]!=0:\n",
    "                        df['gaze_towards_cued_side'][index]=df.loc[df[cue+cat] == mem_image]['gaze_towards_cued_side']\n",
    "                        df['Cued Side'][index] = df.loc[df[cue+cat] == mem_image]['Cued Side'].item()\n",
    "\n",
    "    mem_mask = df['Trial Type']=='Memory'\n",
    "    df.loc[mem_mask,'gaze_towards_cued_side'] = df.loc[mem_mask,'gaze_towards_cued_side'].fillna(np.nan)\n",
    "\n",
    "    return(df)"
   ]
  },
  {
   "cell_type": "code",
   "execution_count": 91,
   "metadata": {},
   "outputs": [],
   "source": [
    "behavioral_added = behavioral\n",
    "for subject in behavioral['UniqueID'].unique():\n",
    "    behavioral_added[behavioral_added ['UniqueID']==subject] = add_gaze(behavioral_added [behavioral_added ['UniqueID']==subject])\n",
    "        "
   ]
  },
  {
   "cell_type": "code",
   "execution_count": 92,
   "metadata": {
    "scrolled": true
   },
   "outputs": [
    {
     "data": {
      "text/html": [
       "<div>\n",
       "<style scoped>\n",
       "    .dataframe tbody tr th:only-of-type {\n",
       "        vertical-align: middle;\n",
       "    }\n",
       "\n",
       "    .dataframe tbody tr th {\n",
       "        vertical-align: top;\n",
       "    }\n",
       "\n",
       "    .dataframe thead th {\n",
       "        text-align: right;\n",
       "    }\n",
       "</style>\n",
       "<table border=\"1\" class=\"dataframe\">\n",
       "  <thead>\n",
       "    <tr style=\"text-align: right;\">\n",
       "      <th></th>\n",
       "      <th>Attention Level</th>\n",
       "      <th>gaze_towards_cued_side</th>\n",
       "    </tr>\n",
       "  </thead>\n",
       "  <tbody>\n",
       "    <tr>\n",
       "      <td>80</td>\n",
       "      <td>Novel</td>\n",
       "      <td>NaN</td>\n",
       "    </tr>\n",
       "    <tr>\n",
       "      <td>81</td>\n",
       "      <td>Category</td>\n",
       "      <td>-1.828081</td>\n",
       "    </tr>\n",
       "    <tr>\n",
       "      <td>82</td>\n",
       "      <td>Novel</td>\n",
       "      <td>NaN</td>\n",
       "    </tr>\n",
       "    <tr>\n",
       "      <td>83</td>\n",
       "      <td>Full</td>\n",
       "      <td>-3.060598</td>\n",
       "    </tr>\n",
       "    <tr>\n",
       "      <td>84</td>\n",
       "      <td>Side</td>\n",
       "      <td>-2.398763</td>\n",
       "    </tr>\n",
       "    <tr>\n",
       "      <td>...</td>\n",
       "      <td>...</td>\n",
       "      <td>...</td>\n",
       "    </tr>\n",
       "    <tr>\n",
       "      <td>44395</td>\n",
       "      <td>Full</td>\n",
       "      <td>-0.231648</td>\n",
       "    </tr>\n",
       "    <tr>\n",
       "      <td>44396</td>\n",
       "      <td>Novel</td>\n",
       "      <td>NaN</td>\n",
       "    </tr>\n",
       "    <tr>\n",
       "      <td>44397</td>\n",
       "      <td>Side</td>\n",
       "      <td>0.826920</td>\n",
       "    </tr>\n",
       "    <tr>\n",
       "      <td>44398</td>\n",
       "      <td>Novel</td>\n",
       "      <td>NaN</td>\n",
       "    </tr>\n",
       "    <tr>\n",
       "      <td>44399</td>\n",
       "      <td>Novel</td>\n",
       "      <td>NaN</td>\n",
       "    </tr>\n",
       "  </tbody>\n",
       "</table>\n",
       "<p>35520 rows × 2 columns</p>\n",
       "</div>"
      ],
      "text/plain": [
       "      Attention Level  gaze_towards_cued_side\n",
       "80              Novel                     NaN\n",
       "81           Category               -1.828081\n",
       "82              Novel                     NaN\n",
       "83               Full               -3.060598\n",
       "84               Side               -2.398763\n",
       "...               ...                     ...\n",
       "44395            Full               -0.231648\n",
       "44396           Novel                     NaN\n",
       "44397            Side                0.826920\n",
       "44398           Novel                     NaN\n",
       "44399           Novel                     NaN\n",
       "\n",
       "[35520 rows x 2 columns]"
      ]
     },
     "execution_count": 92,
     "metadata": {},
     "output_type": "execute_result"
    }
   ],
   "source": [
    "behavioral_added[behavioral_added['Trial Type']=='Memory'][['Attention Level','gaze_towards_cued_side']]"
   ]
  },
  {
   "cell_type": "code",
   "execution_count": 93,
   "metadata": {},
   "outputs": [],
   "source": [
    "behavioral_added['gaze_towards_mem_image'] = behavioral_added['gaze_towards_cued_side']\n",
    "behavioral_added.loc[behavioral_added['Attention Level']=='None','gaze_towards_mem_image'] = -behavioral_added[behavioral_added['Attention Level']=='None']['gaze_towards_mem_image'] \n",
    "behavioral_added.loc[behavioral_added['Attention Level']=='Category','gaze_towards_mem_image'] = -behavioral_added[behavioral_added['Attention Level']=='Category']['gaze_towards_mem_image'] "
   ]
  },
  {
   "cell_type": "code",
   "execution_count": 94,
   "metadata": {},
   "outputs": [],
   "source": [
    "behavioral_added['gaze_towards_mem_image'] = behavioral_added['gaze_towards_mem_image']/(59.8/2)"
   ]
  },
  {
   "cell_type": "code",
   "execution_count": 95,
   "metadata": {},
   "outputs": [
    {
     "name": "stdout",
     "output_type": "stream",
     "text": [
      "/variabl\n",
      "1\n"
     ]
    },
    {
     "data": {
      "image/png": "[encoded data removed]",
      "text/plain": [
       "<Figure size 432x288 with 1 Axes>"
      ]
     },
     "metadata": {
      "needs_background": "light"
     },
     "output_type": "display_data"
    },
    {
     "name": "stdout",
     "output_type": "stream",
     "text": [
      "\n",
      "/variabl\n",
      "2\n"
     ]
    },
    {
     "data": {
      "image/png": "[encoded data removed]",
      "text/plain": [
       "<Figure size 432x288 with 1 Axes>"
      ]
     },
     "metadata": {
      "needs_background": "light"
     },
     "output_type": "display_data"
    },
    {
     "name": "stdout",
     "output_type": "stream",
     "text": [
      "\n",
      "/sustain\n",
      "1\n"
     ]
    },
    {
     "data": {
      "image/png": "[encoded data removed]",
      "text/plain": [
       "<Figure size 432x288 with 1 Axes>"
      ]
     },
     "metadata": {
      "needs_background": "light"
     },
     "output_type": "display_data"
    },
    {
     "name": "stdout",
     "output_type": "stream",
     "text": [
      "\n",
      "/sustain\n",
      "2\n"
     ]
    },
    {
     "data": {
      "image/png": "[encoded data removed]",
      "text/plain": [
       "<Figure size 432x288 with 1 Axes>"
      ]
     },
     "metadata": {
      "needs_background": "light"
     },
     "output_type": "display_data"
    },
    {
     "name": "stdout",
     "output_type": "stream",
     "text": [
      "\n"
     ]
    }
   ],
   "source": [
    "for exp in ['/variabl','/sustain']:\n",
    "\n",
    "    for group in [1,2]:\n",
    "        \n",
    "        print(exp)\n",
    "        print(group)\n",
    "        \n",
    "        data = behavioral_added[(behavioral_added['Experiment']==exp) \n",
    "                                & (behavioral_added['Group']==group)].groupby(['UniqueID','Attention Level','Familiarity Rating'],as_index=False).mean()\n",
    "        \n",
    "        sb.violinplot(x='Familiarity Rating', y='gaze_towards_mem_image', hue='Attention Level', \n",
    "                      data=data[data['Attention Level'] != 'Novel'])\n",
    "        \n",
    "        plt.ylim(-1, 1)\n",
    "        plt.show()\n",
    "        \n",
    "        print()"
   ]
  },
  {
   "cell_type": "code",
   "execution_count": null,
   "metadata": {},
   "outputs": [],
   "source": []
  },
  {
   "cell_type": "code",
   "execution_count": null,
   "metadata": {},
   "outputs": [],
   "source": []
  },
  {
   "cell_type": "code",
   "execution_count": null,
   "metadata": {},
   "outputs": [],
   "source": []
  },
  {
   "cell_type": "code",
   "execution_count": null,
   "metadata": {},
   "outputs": [],
   "source": []
  },
  {
   "cell_type": "markdown",
   "metadata": {},
   "source": [
    "# --------"
   ]
  },
  {
   "cell_type": "code",
   "execution_count": null,
   "metadata": {},
   "outputs": [],
   "source": [
    "# make the difference value negative for opposite facing arrow\n",
    "behavioral['gaze_towards_cued_side'] = behavioral['gaze_from_center']\n",
    "behavioral.loc[(behavioral['Cued Side']=='<'),'gaze_towards_cued_side'] = -behavioral.loc[(behavioral['Cued Side']=='<')]['gaze_towards_cued_side']"
   ]
  },
  {
   "cell_type": "code",
   "execution_count": 85,
   "metadata": {},
   "outputs": [
    {
     "name": "stdout",
     "output_type": "stream",
     "text": [
      "/sustain\n",
      "1\n",
      "Ttest_1sampResult(statistic=-0.9614645100948709, pvalue=0.3442673788020433)\n",
      "-0.17853947734730055\n",
      "\n",
      "/sustain\n",
      "2\n",
      "Ttest_1sampResult(statistic=2.810057260358112, pvalue=0.008781162844675176)\n",
      "0.5218145332590796\n",
      "\n",
      "/variabl\n",
      "1\n",
      "Ttest_1sampResult(statistic=1.9383858536441954, pvalue=0.06236520390190898)\n",
      "0.35994921661007223\n",
      "\n",
      "/variabl\n",
      "2\n",
      "Ttest_1sampResult(statistic=2.094529830443702, pvalue=0.04915216915601463)\n",
      "0.4683511081773227\n",
      "\n"
     ]
    }
   ],
   "source": [
    "# ttest relative to zero drift! \n",
    "behav_grp = behavioral.groupby(['Experiment','Group', 'UniqueID'], as_index=False).mean()\n",
    "\n",
    "for exp in ['/sustain','/variabl']:\n",
    "    for group in [1,2]:\n",
    "        \n",
    "        print(exp)\n",
    "        print(group)\n",
    "        print(scipy.stats.ttest_1samp(behav_grp[(behav_grp['Experiment']==exp)\n",
    "                                               &(behav_grp['Group']==group)]['gaze_towards_cued_side'],0))\n",
    "        \n",
    "        print(np.mean(behav_grp[(behav_grp['Experiment']==exp)&(behav_grp['Group']==group)]['gaze_towards_cued_side'])/np.std(behav_grp[(behav_grp['Experiment']==exp)\n",
    "                                               &(behav_grp['Group']==group)]['gaze_towards_cued_side']))\n",
    "        print()"
   ]
  },
  {
   "cell_type": "markdown",
   "metadata": {},
   "source": [
    "# Data restricted to gaze between images"
   ]
  },
  {
   "cell_type": "code",
   "execution_count": 86,
   "metadata": {},
   "outputs": [
    {
     "data": {
      "text/plain": [
       "Index(['Unnamed: 0', 'Unnamed: 0.1', 'avg', 'fix', 'lefteye', 'raw',\n",
       "       'righteye', 'state', 'time', 'timestamp', 'xRaw_righteye',\n",
       "       'yRaw_righteye', 'xRaw_lefteye', 'yRaw_lefteye', 'av_x_coord',\n",
       "       'av_y_coord', 'Subject', 'UniqueID', 'Group', 'Experiment', 'Trial',\n",
       "       'Run'],\n",
       "      dtype='object')"
      ]
     },
     "execution_count": 86,
     "metadata": {},
     "output_type": "execute_result"
    }
   ],
   "source": [
    "gaze.columns"
   ]
  },
  {
   "cell_type": "code",
   "execution_count": 89,
   "metadata": {},
   "outputs": [],
   "source": [
    "gaze_restricted = behavioral[abs(behavioral['gaze_from_center'])<4.2752]\n",
    "gaze_restricted = gaze_restricted.groupby(['UniqueID','Run','Trial'], as_index=False).mean()\n",
    "    \n",
    "#     restricted_behavioral = []\n",
    "\n",
    "#     for s in gaze_restricted['Subject'].unique():\n",
    "#         for r in gaze_restricted[gaze_restricted['Subject']==s]['Run'].unique():\n",
    "#             for t in gaze_restricted[(gaze_restricted['Subject']==s) & (gaze_restricted['Run']==r)]['Trial'].unique():\n",
    "#                 restricted_behavioral.append(exp1[(exp1['Subject']==s) & (exp1['Run']==int(r)) & (exp1['Trial']==float(t))])\n",
    "    \n",
    "#     restricted_concat[label] = pd.concat(restricted_behavioral)"
   ]
  },
  {
   "cell_type": "code",
   "execution_count": 90,
   "metadata": {},
   "outputs": [
    {
     "data": {
      "text/html": [
       "<div>\n",
       "<style scoped>\n",
       "    .dataframe tbody tr th:only-of-type {\n",
       "        vertical-align: middle;\n",
       "    }\n",
       "\n",
       "    .dataframe tbody tr th {\n",
       "        vertical-align: top;\n",
       "    }\n",
       "\n",
       "    .dataframe thead th {\n",
       "        text-align: right;\n",
       "    }\n",
       "</style>\n",
       "<table border=\"1\" class=\"dataframe\">\n",
       "  <thead>\n",
       "    <tr style=\"text-align: right;\">\n",
       "      <th></th>\n",
       "      <th>UniqueID</th>\n",
       "      <th>Run</th>\n",
       "      <th>Trial</th>\n",
       "      <th>Unnamed: 0</th>\n",
       "      <th>Unnamed: 0.1</th>\n",
       "      <th>Unnamed: 0.1.1</th>\n",
       "      <th>Subject</th>\n",
       "      <th>Attention Reaction Time (s)</th>\n",
       "      <th>Familiarity Reaction Time (s)</th>\n",
       "      <th>Familiarity Rating</th>\n",
       "      <th>...</th>\n",
       "      <th>Post Invalid Cue</th>\n",
       "      <th>Pre Invalid Cue</th>\n",
       "      <th>Attention Button</th>\n",
       "      <th>Rating History</th>\n",
       "      <th>Stimulus Onset</th>\n",
       "      <th>Stimulus End</th>\n",
       "      <th>Group</th>\n",
       "      <th>av_x_coord</th>\n",
       "      <th>gaze_from_center</th>\n",
       "      <th>gaze_towards_cued_side</th>\n",
       "    </tr>\n",
       "  </thead>\n",
       "  <tbody>\n",
       "    <tr>\n",
       "      <td>0</td>\n",
       "      <td>0</td>\n",
       "      <td>0</td>\n",
       "      <td>0.0</td>\n",
       "      <td>20</td>\n",
       "      <td>20</td>\n",
       "      <td>0</td>\n",
       "      <td>10</td>\n",
       "      <td>1.950463</td>\n",
       "      <td>NaN</td>\n",
       "      <td>NaN</td>\n",
       "      <td>...</td>\n",
       "      <td>NaN</td>\n",
       "      <td>NaN</td>\n",
       "      <td>1.0</td>\n",
       "      <td>NaN</td>\n",
       "      <td>1.538591e+09</td>\n",
       "      <td>1.538591e+09</td>\n",
       "      <td>1</td>\n",
       "      <td>27.536649</td>\n",
       "      <td>-2.363351</td>\n",
       "      <td>-2.363351</td>\n",
       "    </tr>\n",
       "    <tr>\n",
       "      <td>1</td>\n",
       "      <td>0</td>\n",
       "      <td>0</td>\n",
       "      <td>2.0</td>\n",
       "      <td>22</td>\n",
       "      <td>22</td>\n",
       "      <td>2</td>\n",
       "      <td>10</td>\n",
       "      <td>0.585211</td>\n",
       "      <td>NaN</td>\n",
       "      <td>NaN</td>\n",
       "      <td>...</td>\n",
       "      <td>NaN</td>\n",
       "      <td>NaN</td>\n",
       "      <td>3.0</td>\n",
       "      <td>NaN</td>\n",
       "      <td>1.538591e+09</td>\n",
       "      <td>1.538591e+09</td>\n",
       "      <td>1</td>\n",
       "      <td>25.702394</td>\n",
       "      <td>-4.197606</td>\n",
       "      <td>-4.197606</td>\n",
       "    </tr>\n",
       "    <tr>\n",
       "      <td>2</td>\n",
       "      <td>0</td>\n",
       "      <td>0</td>\n",
       "      <td>4.0</td>\n",
       "      <td>24</td>\n",
       "      <td>24</td>\n",
       "      <td>4</td>\n",
       "      <td>10</td>\n",
       "      <td>0.601280</td>\n",
       "      <td>NaN</td>\n",
       "      <td>NaN</td>\n",
       "      <td>...</td>\n",
       "      <td>NaN</td>\n",
       "      <td>NaN</td>\n",
       "      <td>3.0</td>\n",
       "      <td>NaN</td>\n",
       "      <td>1.538591e+09</td>\n",
       "      <td>1.538591e+09</td>\n",
       "      <td>1</td>\n",
       "      <td>26.609203</td>\n",
       "      <td>-3.290797</td>\n",
       "      <td>-3.290797</td>\n",
       "    </tr>\n",
       "    <tr>\n",
       "      <td>3</td>\n",
       "      <td>0</td>\n",
       "      <td>0</td>\n",
       "      <td>5.0</td>\n",
       "      <td>25</td>\n",
       "      <td>25</td>\n",
       "      <td>5</td>\n",
       "      <td>10</td>\n",
       "      <td>0.666027</td>\n",
       "      <td>NaN</td>\n",
       "      <td>NaN</td>\n",
       "      <td>...</td>\n",
       "      <td>NaN</td>\n",
       "      <td>NaN</td>\n",
       "      <td>3.0</td>\n",
       "      <td>NaN</td>\n",
       "      <td>1.538591e+09</td>\n",
       "      <td>1.538591e+09</td>\n",
       "      <td>1</td>\n",
       "      <td>25.737959</td>\n",
       "      <td>-4.162041</td>\n",
       "      <td>-4.162041</td>\n",
       "    </tr>\n",
       "    <tr>\n",
       "      <td>4</td>\n",
       "      <td>0</td>\n",
       "      <td>0</td>\n",
       "      <td>6.0</td>\n",
       "      <td>26</td>\n",
       "      <td>26</td>\n",
       "      <td>6</td>\n",
       "      <td>10</td>\n",
       "      <td>0.601722</td>\n",
       "      <td>NaN</td>\n",
       "      <td>NaN</td>\n",
       "      <td>...</td>\n",
       "      <td>NaN</td>\n",
       "      <td>NaN</td>\n",
       "      <td>1.0</td>\n",
       "      <td>NaN</td>\n",
       "      <td>1.538591e+09</td>\n",
       "      <td>1.538591e+09</td>\n",
       "      <td>1</td>\n",
       "      <td>27.708195</td>\n",
       "      <td>-2.191805</td>\n",
       "      <td>-2.191805</td>\n",
       "    </tr>\n",
       "    <tr>\n",
       "      <td>...</td>\n",
       "      <td>...</td>\n",
       "      <td>...</td>\n",
       "      <td>...</td>\n",
       "      <td>...</td>\n",
       "      <td>...</td>\n",
       "      <td>...</td>\n",
       "      <td>...</td>\n",
       "      <td>...</td>\n",
       "      <td>...</td>\n",
       "      <td>...</td>\n",
       "      <td>...</td>\n",
       "      <td>...</td>\n",
       "      <td>...</td>\n",
       "      <td>...</td>\n",
       "      <td>...</td>\n",
       "      <td>...</td>\n",
       "      <td>...</td>\n",
       "      <td>...</td>\n",
       "      <td>...</td>\n",
       "      <td>...</td>\n",
       "      <td>...</td>\n",
       "    </tr>\n",
       "    <tr>\n",
       "      <td>6335</td>\n",
       "      <td>110</td>\n",
       "      <td>7</td>\n",
       "      <td>4.0</td>\n",
       "      <td>8354</td>\n",
       "      <td>74</td>\n",
       "      <td>354</td>\n",
       "      <td>10</td>\n",
       "      <td>0.031200</td>\n",
       "      <td>NaN</td>\n",
       "      <td>NaN</td>\n",
       "      <td>...</td>\n",
       "      <td>NaN</td>\n",
       "      <td>NaN</td>\n",
       "      <td>3.0</td>\n",
       "      <td>NaN</td>\n",
       "      <td>1.573939e+09</td>\n",
       "      <td>1.573939e+09</td>\n",
       "      <td>2</td>\n",
       "      <td>28.451820</td>\n",
       "      <td>-1.448180</td>\n",
       "      <td>-1.448180</td>\n",
       "    </tr>\n",
       "    <tr>\n",
       "      <td>6336</td>\n",
       "      <td>110</td>\n",
       "      <td>7</td>\n",
       "      <td>6.0</td>\n",
       "      <td>8356</td>\n",
       "      <td>76</td>\n",
       "      <td>356</td>\n",
       "      <td>10</td>\n",
       "      <td>0.722500</td>\n",
       "      <td>NaN</td>\n",
       "      <td>NaN</td>\n",
       "      <td>...</td>\n",
       "      <td>NaN</td>\n",
       "      <td>NaN</td>\n",
       "      <td>1.0</td>\n",
       "      <td>NaN</td>\n",
       "      <td>1.573939e+09</td>\n",
       "      <td>1.573939e+09</td>\n",
       "      <td>2</td>\n",
       "      <td>30.726920</td>\n",
       "      <td>0.826920</td>\n",
       "      <td>0.826920</td>\n",
       "    </tr>\n",
       "    <tr>\n",
       "      <td>6337</td>\n",
       "      <td>110</td>\n",
       "      <td>7</td>\n",
       "      <td>7.0</td>\n",
       "      <td>8357</td>\n",
       "      <td>77</td>\n",
       "      <td>357</td>\n",
       "      <td>10</td>\n",
       "      <td>0.048300</td>\n",
       "      <td>NaN</td>\n",
       "      <td>NaN</td>\n",
       "      <td>...</td>\n",
       "      <td>NaN</td>\n",
       "      <td>NaN</td>\n",
       "      <td>3.0</td>\n",
       "      <td>NaN</td>\n",
       "      <td>1.573939e+09</td>\n",
       "      <td>1.573939e+09</td>\n",
       "      <td>2</td>\n",
       "      <td>30.303830</td>\n",
       "      <td>0.403830</td>\n",
       "      <td>0.403830</td>\n",
       "    </tr>\n",
       "    <tr>\n",
       "      <td>6338</td>\n",
       "      <td>110</td>\n",
       "      <td>7</td>\n",
       "      <td>8.0</td>\n",
       "      <td>8358</td>\n",
       "      <td>78</td>\n",
       "      <td>358</td>\n",
       "      <td>10</td>\n",
       "      <td>0.032900</td>\n",
       "      <td>NaN</td>\n",
       "      <td>NaN</td>\n",
       "      <td>...</td>\n",
       "      <td>NaN</td>\n",
       "      <td>NaN</td>\n",
       "      <td>3.0</td>\n",
       "      <td>NaN</td>\n",
       "      <td>1.573939e+09</td>\n",
       "      <td>1.573939e+09</td>\n",
       "      <td>2</td>\n",
       "      <td>30.232489</td>\n",
       "      <td>0.332489</td>\n",
       "      <td>-0.332489</td>\n",
       "    </tr>\n",
       "    <tr>\n",
       "      <td>6339</td>\n",
       "      <td>110</td>\n",
       "      <td>7</td>\n",
       "      <td>9.0</td>\n",
       "      <td>8359</td>\n",
       "      <td>79</td>\n",
       "      <td>359</td>\n",
       "      <td>10</td>\n",
       "      <td>0.027300</td>\n",
       "      <td>NaN</td>\n",
       "      <td>NaN</td>\n",
       "      <td>...</td>\n",
       "      <td>NaN</td>\n",
       "      <td>NaN</td>\n",
       "      <td>3.0</td>\n",
       "      <td>NaN</td>\n",
       "      <td>1.573939e+09</td>\n",
       "      <td>1.573939e+09</td>\n",
       "      <td>2</td>\n",
       "      <td>27.566687</td>\n",
       "      <td>-2.333313</td>\n",
       "      <td>2.333313</td>\n",
       "    </tr>\n",
       "  </tbody>\n",
       "</table>\n",
       "<p>6340 rows × 21 columns</p>\n",
       "</div>"
      ],
      "text/plain": [
       "      UniqueID  Run  Trial  Unnamed: 0  Unnamed: 0.1  Unnamed: 0.1.1  Subject  \\\n",
       "0            0    0    0.0          20            20               0       10   \n",
       "1            0    0    2.0          22            22               2       10   \n",
       "2            0    0    4.0          24            24               4       10   \n",
       "3            0    0    5.0          25            25               5       10   \n",
       "4            0    0    6.0          26            26               6       10   \n",
       "...        ...  ...    ...         ...           ...             ...      ...   \n",
       "6335       110    7    4.0        8354            74             354       10   \n",
       "6336       110    7    6.0        8356            76             356       10   \n",
       "6337       110    7    7.0        8357            77             357       10   \n",
       "6338       110    7    8.0        8358            78             358       10   \n",
       "6339       110    7    9.0        8359            79             359       10   \n",
       "\n",
       "      Attention Reaction Time (s)  Familiarity Reaction Time (s)  \\\n",
       "0                        1.950463                            NaN   \n",
       "1                        0.585211                            NaN   \n",
       "2                        0.601280                            NaN   \n",
       "3                        0.666027                            NaN   \n",
       "4                        0.601722                            NaN   \n",
       "...                           ...                            ...   \n",
       "6335                     0.031200                            NaN   \n",
       "6336                     0.722500                            NaN   \n",
       "6337                     0.048300                            NaN   \n",
       "6338                     0.032900                            NaN   \n",
       "6339                     0.027300                            NaN   \n",
       "\n",
       "      Familiarity Rating  ...  Post Invalid Cue  Pre Invalid Cue  \\\n",
       "0                    NaN  ...               NaN              NaN   \n",
       "1                    NaN  ...               NaN              NaN   \n",
       "2                    NaN  ...               NaN              NaN   \n",
       "3                    NaN  ...               NaN              NaN   \n",
       "4                    NaN  ...               NaN              NaN   \n",
       "...                  ...  ...               ...              ...   \n",
       "6335                 NaN  ...               NaN              NaN   \n",
       "6336                 NaN  ...               NaN              NaN   \n",
       "6337                 NaN  ...               NaN              NaN   \n",
       "6338                 NaN  ...               NaN              NaN   \n",
       "6339                 NaN  ...               NaN              NaN   \n",
       "\n",
       "      Attention Button  Rating History  Stimulus Onset  Stimulus End  Group  \\\n",
       "0                  1.0             NaN    1.538591e+09  1.538591e+09      1   \n",
       "1                  3.0             NaN    1.538591e+09  1.538591e+09      1   \n",
       "2                  3.0             NaN    1.538591e+09  1.538591e+09      1   \n",
       "3                  3.0             NaN    1.538591e+09  1.538591e+09      1   \n",
       "4                  1.0             NaN    1.538591e+09  1.538591e+09      1   \n",
       "...                ...             ...             ...           ...    ...   \n",
       "6335               3.0             NaN    1.573939e+09  1.573939e+09      2   \n",
       "6336               1.0             NaN    1.573939e+09  1.573939e+09      2   \n",
       "6337               3.0             NaN    1.573939e+09  1.573939e+09      2   \n",
       "6338               3.0             NaN    1.573939e+09  1.573939e+09      2   \n",
       "6339               3.0             NaN    1.573939e+09  1.573939e+09      2   \n",
       "\n",
       "      av_x_coord  gaze_from_center  gaze_towards_cued_side  \n",
       "0      27.536649         -2.363351               -2.363351  \n",
       "1      25.702394         -4.197606               -4.197606  \n",
       "2      26.609203         -3.290797               -3.290797  \n",
       "3      25.737959         -4.162041               -4.162041  \n",
       "4      27.708195         -2.191805               -2.191805  \n",
       "...          ...               ...                     ...  \n",
       "6335   28.451820         -1.448180               -1.448180  \n",
       "6336   30.726920          0.826920                0.826920  \n",
       "6337   30.303830          0.403830                0.403830  \n",
       "6338   30.232489          0.332489               -0.332489  \n",
       "6339   27.566687         -2.333313                2.333313  \n",
       "\n",
       "[6340 rows x 21 columns]"
      ]
     },
     "execution_count": 90,
     "metadata": {},
     "output_type": "execute_result"
    }
   ],
   "source": [
    "gaze_restricted"
   ]
  },
  {
   "cell_type": "markdown",
   "metadata": {},
   "source": [
    "# Attended Category vs Unattended Images"
   ]
  },
  {
   "cell_type": "code",
   "execution_count": 59,
   "metadata": {},
   "outputs": [
    {
     "ename": "NameError",
     "evalue": "name 'restricted_concat' is not defined",
     "output_type": "error",
     "traceback": [
      "\u001b[0;31m---------------------------------------------------------------------------\u001b[0m",
      "\u001b[0;31mNameError\u001b[0m                                 Traceback (most recent call last)",
      "\u001b[0;32m<ipython-input-59-c1c9e349d7db>\u001b[0m in \u001b[0;36m<module>\u001b[0;34m\u001b[0m\n\u001b[0;32m----> 1\u001b[0;31m \u001b[0;32mfor\u001b[0m \u001b[0ml\u001b[0m \u001b[0;32min\u001b[0m \u001b[0mrestricted_concat\u001b[0m\u001b[0;34m:\u001b[0m\u001b[0;34m\u001b[0m\u001b[0;34m\u001b[0m\u001b[0m\n\u001b[0m\u001b[1;32m      2\u001b[0m     \u001b[0md\u001b[0m \u001b[0;34m=\u001b[0m \u001b[0mrestricted_concat\u001b[0m\u001b[0;34m[\u001b[0m\u001b[0ml\u001b[0m\u001b[0;34m]\u001b[0m\u001b[0;34m\u001b[0m\u001b[0;34m\u001b[0m\u001b[0m\n\u001b[1;32m      3\u001b[0m \u001b[0;34m\u001b[0m\u001b[0m\n\u001b[1;32m      4\u001b[0m     \u001b[0mCats\u001b[0m \u001b[0;34m=\u001b[0m \u001b[0;34m[\u001b[0m\u001b[0;34m]\u001b[0m\u001b[0;34m\u001b[0m\u001b[0;34m\u001b[0m\u001b[0m\n\u001b[1;32m      5\u001b[0m     \u001b[0mNovs\u001b[0m \u001b[0;34m=\u001b[0m \u001b[0;34m[\u001b[0m\u001b[0;34m]\u001b[0m\u001b[0;34m\u001b[0m\u001b[0;34m\u001b[0m\u001b[0m\n",
      "\u001b[0;31mNameError\u001b[0m: name 'restricted_concat' is not defined"
     ]
    }
   ],
   "source": [
    "for l in restricted_concat:\n",
    "    d = restricted_concat[l]\n",
    "\n",
    "    Cats = []\n",
    "    Novs = []\n",
    "    for s in d['UniqueID'].unique():\n",
    "\n",
    "        Cats.append(d[(d['Subject']==s) & (d['Attention Level'].isin(['Category','Full']))]['Familiarity Rating'].mean())\n",
    "        Novs.append(d[(d['Subject']==s) & (d['Attention Level']=='None')]['Familiarity Rating'].mean())\n",
    "\n",
    "    print(l)\n",
    "    print(scipy.stats.ttest_rel(Cats, Novs))\n",
    "    print(cohen_d(Cats, Novs))\n",
    "    print()"
   ]
  },
  {
   "cell_type": "markdown",
   "metadata": {},
   "source": [
    "# Attended Side vs Unattended Images"
   ]
  },
  {
   "cell_type": "code",
   "execution_count": 9,
   "metadata": {},
   "outputs": [
    {
     "name": "stdout",
     "output_type": "stream",
     "text": [
      "Ttest_relResult(statistic=6.13137163428224, pvalue=1.1114845537932693e-06)\n",
      "0.9831556301208577\n",
      "\n",
      "Ttest_relResult(statistic=4.821523174282776, pvalue=7.265510814446719e-05)\n",
      "0.8366837141495032\n",
      "\n"
     ]
    }
   ],
   "source": [
    "for l in restricted_concat.keys():\n",
    "    d = restricted_concat[l]\n",
    "\n",
    "    Sides = []\n",
    "    Novs = []\n",
    "    \n",
    "    for s in d['Subject'].unique():\n",
    "\n",
    "        Sides.append(d[(d['Subject']==s) & (d['Attention Level'].isin(['Full','Side']))]['Familiarity Rating'].mean())\n",
    "        Novs.append(d[(d['Subject']==s) & (d['Attention Level']=='None')]['Familiarity Rating'].mean())\n",
    "\n",
    "\n",
    "    print(scipy.stats.ttest_rel(Sides, Novs))\n",
    "    print(cohen_d(Sides, Novs))\n",
    "    print()"
   ]
  },
  {
   "cell_type": "markdown",
   "metadata": {},
   "source": [
    "# Plot"
   ]
  },
  {
   "cell_type": "code",
   "execution_count": 109,
   "metadata": {},
   "outputs": [
    {
     "ename": "NameError",
     "evalue": "name 'exp1' is not defined",
     "output_type": "error",
     "traceback": [
      "\u001b[0;31m---------------------------------------------------------------------------\u001b[0m",
      "\u001b[0;31mNameError\u001b[0m                                 Traceback (most recent call last)",
      "\u001b[0;32m<ipython-input-109-9a3bf7739cbd>\u001b[0m in \u001b[0;36m<module>\u001b[0;34m\u001b[0m\n\u001b[1;32m      2\u001b[0m \u001b[0mgaze_added_mem\u001b[0m \u001b[0;34m=\u001b[0m \u001b[0;34m[\u001b[0m\u001b[0;34m]\u001b[0m\u001b[0;34m\u001b[0m\u001b[0;34m\u001b[0m\u001b[0m\n\u001b[1;32m      3\u001b[0m \u001b[0;34m\u001b[0m\u001b[0m\n\u001b[0;32m----> 4\u001b[0;31m \u001b[0;32mfor\u001b[0m \u001b[0mdata\u001b[0m\u001b[0;34m,\u001b[0m\u001b[0mlabel\u001b[0m \u001b[0;32min\u001b[0m \u001b[0mzip\u001b[0m\u001b[0;34m(\u001b[0m\u001b[0;34m[\u001b[0m\u001b[0mexp1\u001b[0m\u001b[0;34m,\u001b[0m \u001b[0mexp2\u001b[0m\u001b[0;34m]\u001b[0m\u001b[0;34m,\u001b[0m\u001b[0;34m[\u001b[0m\u001b[0;34m'exp1'\u001b[0m\u001b[0;34m,\u001b[0m\u001b[0;34m'exp2'\u001b[0m\u001b[0;34m]\u001b[0m\u001b[0;34m)\u001b[0m\u001b[0;34m:\u001b[0m\u001b[0;34m\u001b[0m\u001b[0;34m\u001b[0m\u001b[0m\n\u001b[0m\u001b[1;32m      5\u001b[0m     \u001b[0mprint\u001b[0m\u001b[0;34m(\u001b[0m\u001b[0mlabel\u001b[0m\u001b[0;34m)\u001b[0m\u001b[0;34m\u001b[0m\u001b[0;34m\u001b[0m\u001b[0m\n\u001b[1;32m      6\u001b[0m \u001b[0;34m\u001b[0m\u001b[0m\n",
      "\u001b[0;31mNameError\u001b[0m: name 'exp1' is not defined"
     ]
    }
   ],
   "source": [
    "gaze_added_mem_dict = {}\n",
    "gaze_added_mem = []\n",
    "\n",
    "for data,label in zip([exp1, exp2],['exp1','exp2']):\n",
    "    print(label)\n",
    "\n",
    "    for s in data['Subject'].unique():\n",
    "        print(s)\n",
    "        for r in data['Run'].unique():\n",
    "            gaze_added_mem.append(add_gaze(data[(data['Subject']==s) & (data['Run']==r)]))\n",
    "\n",
    "    gaze_mem = pd.concat(gaze_added_mem)\n",
    "    gaze_mem.loc[gaze_mem['Attention Level']=='Novel','av_x_coord']=0\n",
    "\n",
    "    gaze_mem['gaze_towards'] = gaze_mem['av_x_coord'] - (59.8/2)\n",
    "\n",
    "    gaze_mem.loc[(gaze_mem['Cued Side']=='<') \n",
    "                 & (gaze_mem['Attention Level'].isin(['Full', 'Side'])), 'gaze_towards'] = -gaze_mem[(gaze_mem['Cued Side']=='<') \n",
    "                                                                                                          & (gaze_mem['Attention Level'].isin(['Full', 'Side']))]['gaze_towards']\n",
    "\n",
    "    gaze_mem.loc[(gaze_mem['Cued Side']=='>') \n",
    "                 & (gaze_mem['Attention Level'].isin(['None', 'Category'])), 'gaze_towards'] = -gaze_mem[(gaze_mem['Cued Side']=='>') & (gaze_mem['Attention Level'].isin(['None', 'Category']))]['gaze_towards']\n",
    "\n",
    "    gaze_mem_grp = gaze_mem.groupby(['Subject','Attention Level', 'Familiarity Rating','Trial Type'], as_index=False).mean()\n",
    "\n",
    "    gaze_added_mem_dict[label] = gaze_mem"
   ]
  },
  {
   "cell_type": "code",
   "execution_count": 110,
   "metadata": {},
   "outputs": [
    {
     "ename": "KeyError",
     "evalue": "'exp1'",
     "output_type": "error",
     "traceback": [
      "\u001b[0;31m---------------------------------------------------------------------------\u001b[0m",
      "\u001b[0;31mKeyError\u001b[0m                                  Traceback (most recent call last)",
      "\u001b[0;32m<ipython-input-110-407ac7eaafae>\u001b[0m in \u001b[0;36m<module>\u001b[0;34m\u001b[0m\n\u001b[1;32m      2\u001b[0m \u001b[0;32mfor\u001b[0m \u001b[0mlabel\u001b[0m \u001b[0;32min\u001b[0m \u001b[0;34m[\u001b[0m\u001b[0;34m'exp1'\u001b[0m\u001b[0;34m,\u001b[0m\u001b[0;34m'exp2'\u001b[0m\u001b[0;34m]\u001b[0m\u001b[0;34m:\u001b[0m\u001b[0;34m\u001b[0m\u001b[0;34m\u001b[0m\u001b[0m\n\u001b[1;32m      3\u001b[0m \u001b[0;34m\u001b[0m\u001b[0m\n\u001b[0;32m----> 4\u001b[0;31m     \u001b[0mgaze_mem_grp\u001b[0m \u001b[0;34m=\u001b[0m \u001b[0mgaze_added_mem_dict\u001b[0m\u001b[0;34m[\u001b[0m\u001b[0mlabel\u001b[0m\u001b[0;34m]\u001b[0m\u001b[0;34m.\u001b[0m\u001b[0mgroupby\u001b[0m\u001b[0;34m(\u001b[0m\u001b[0;34m[\u001b[0m\u001b[0;34m'Subject'\u001b[0m\u001b[0;34m,\u001b[0m\u001b[0;34m'Attention Level'\u001b[0m\u001b[0;34m,\u001b[0m \u001b[0;34m'Familiarity Rating'\u001b[0m\u001b[0;34m,\u001b[0m\u001b[0;34m'Trial Type'\u001b[0m\u001b[0;34m]\u001b[0m\u001b[0;34m,\u001b[0m \u001b[0mas_index\u001b[0m\u001b[0;34m=\u001b[0m\u001b[0;32mFalse\u001b[0m\u001b[0;34m)\u001b[0m\u001b[0;34m.\u001b[0m\u001b[0mmean\u001b[0m\u001b[0;34m(\u001b[0m\u001b[0;34m)\u001b[0m\u001b[0;34m\u001b[0m\u001b[0;34m\u001b[0m\u001b[0m\n\u001b[0m\u001b[1;32m      5\u001b[0m \u001b[0;34m\u001b[0m\u001b[0m\n\u001b[1;32m      6\u001b[0m     \u001b[0;31m# scale by screen size\u001b[0m\u001b[0;34m\u001b[0m\u001b[0;34m\u001b[0m\u001b[0;34m\u001b[0m\u001b[0m\n",
      "\u001b[0;31mKeyError\u001b[0m: 'exp1'"
     ]
    }
   ],
   "source": [
    "%matplotlib inline\n",
    "for label in ['exp1','exp2']:\n",
    "    \n",
    "    gaze_mem_grp = gaze_added_mem_dict[label].groupby(['Subject','Attention Level', 'Familiarity Rating','Trial Type'], as_index=False).mean()\n",
    "\n",
    "    # scale by screen size\n",
    "    gaze_mem_grp['scaled_gaze_towards'] = gaze_mem_grp['gaze_towards']/(59.8/2)\n",
    "\n",
    "    # plot\n",
    "    sb.set_style('white')\n",
    "\n",
    "    f = sb.violinplot(x='Familiarity Rating', y='scaled_gaze_towards', \n",
    "                  data=gaze_mem_grp[gaze_mem_grp['Attention Level']!='Novel'], hue='Attention Level')\n",
    "\n",
    "    plt.grid(False)\n",
    "    plt.rc('xtick', labelsize=20)\n",
    "    plt.rc('ytick', labelsize=20)\n",
    "    plt.xlabel('Familiarity Rating',    fontsize = 20)\n",
    "    plt.ylabel('Horizontal Gaze Drift', fontsize = 20)\n",
    "    f.set(ylim=(-1, 1))\n",
    "    plt.show()\n"
   ]
  },
  {
   "cell_type": "code",
   "execution_count": null,
   "metadata": {},
   "outputs": [],
   "source": []
  }
 ],
 "metadata": {
  "kernelspec": {
   "display_name": "Python 3",
   "language": "python",
   "name": "python3"
  },
  "language_info": {
   "codemirror_mode": {
    "name": "ipython",
    "version": 3
   },
   "file_extension": ".py",
   "mimetype": "text/x-python",
   "name": "python",
   "nbconvert_exporter": "python",
   "pygments_lexer": "ipython3",
   "version": "3.7.4"
  }
 },
 "nbformat": 4,
 "nbformat_minor": 2
}
