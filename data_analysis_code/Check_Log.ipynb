{
 "cells": [
  {
   "cell_type": "markdown",
   "metadata": {},
   "source": [
    "# Imports"
   ]
  },
  {
   "cell_type": "code",
   "execution_count": 1,
   "metadata": {},
   "outputs": [],
   "source": [
    "import pandas as pd; import seaborn as sb; import warnings; import scipy; import re; \n",
    "import os; from analysis_helpers import *; import itertools; from scipy import stats\n",
    "import random; import pandas as pd; import numpy as np; from sklearn import datasets, linear_model; \n",
    "from sklearn.linear_model import LinearRegression; import statsmodels.api as sm\n",
    "from scipy import stats; from itertools import groupby; from operator import itemgetter;\n",
    "import csv; import time\n",
    "warnings.filterwarnings('ignore')\n",
    "%matplotlib inline"
   ]
  },
  {
   "cell_type": "markdown",
   "metadata": {},
   "source": [
    "# Import behavioral data "
   ]
  },
  {
   "cell_type": "markdown",
   "metadata": {},
   "source": [
    "Here, we ran a single presentation and memory run and recorded and time stamped the filename of each presented stimulus, its location, millisecond timings on window flips, etc, to verify the precision and accuracy of the data in our behavioral data files"
   ]
  },
  {
   "cell_type": "code",
   "execution_count": 18,
   "metadata": {},
   "outputs": [],
   "source": [
    "with open('/Users/kirstenziman/Desktop/FINAL_EYE_2019_Sep_05/test_data/sustained_with_times_and_images_2.log') as file:\n",
    "    lines = file.read().splitlines()\n",
    "    lines = [[lines[x]] for x in range(0, len(lines))]\n",
    "    lines.insert(0,[\"DATA\"])\n",
    "\n",
    "    with open('/Users/kirstenziman/Desktop/FINAL_EYE_2019_Sep_05/test_data/sustained_with_times_and_images_2.csv', 'w+') as csvfile:\n",
    "        w = csv.writer(csvfile)\n",
    "        w.writerows(lines)"
   ]
  },
  {
   "cell_type": "markdown",
   "metadata": {},
   "source": [
    "# Log file data"
   ]
  },
  {
   "cell_type": "code",
   "execution_count": 77,
   "metadata": {
    "scrolled": false
   },
   "outputs": [],
   "source": [
    "log_file = pd.read_csv('/Users/kirstenziman/Desktop/FINAL_EYE_2019_Sep_05/test_data/sustained_with_times_and_images_2.csv')\n",
    "log_file = log_file.reset_index()\n",
    "log_file['TIME'],log_file['WARNING'],log_file['MESSAGE'] = log_file['DATA'].str.split('\\t', 4).str\n",
    "log_file = log_file.fillna('NAN VALUE')"
   ]
  },
  {
   "cell_type": "code",
   "execution_count": 78,
   "metadata": {},
   "outputs": [
    {
     "data": {
      "text/html": [
       "<div>\n",
       "<style scoped>\n",
       "    .dataframe tbody tr th:only-of-type {\n",
       "        vertical-align: middle;\n",
       "    }\n",
       "\n",
       "    .dataframe tbody tr th {\n",
       "        vertical-align: top;\n",
       "    }\n",
       "\n",
       "    .dataframe thead th {\n",
       "        text-align: right;\n",
       "    }\n",
       "</style>\n",
       "<table border=\"1\" class=\"dataframe\">\n",
       "  <thead>\n",
       "    <tr style=\"text-align: right;\">\n",
       "      <th></th>\n",
       "      <th>index</th>\n",
       "      <th>DATA</th>\n",
       "      <th>TIME</th>\n",
       "      <th>WARNING</th>\n",
       "      <th>MESSAGE</th>\n",
       "    </tr>\n",
       "  </thead>\n",
       "  <tbody>\n",
       "    <tr>\n",
       "      <td>0</td>\n",
       "      <td>0</td>\n",
       "      <td>4.7915 \\tWARNING \\twarning</td>\n",
       "      <td>4.7915</td>\n",
       "      <td>WARNING</td>\n",
       "      <td>warning</td>\n",
       "    </tr>\n",
       "    <tr>\n",
       "      <td>1</td>\n",
       "      <td>1</td>\n",
       "      <td>4.7916 \\tEXP \\texperiment</td>\n",
       "      <td>4.7916</td>\n",
       "      <td>EXP</td>\n",
       "      <td>experiment</td>\n",
       "    </tr>\n",
       "    <tr>\n",
       "      <td>2</td>\n",
       "      <td>2</td>\n",
       "      <td>4.7916 \\tDATA \\tdata</td>\n",
       "      <td>4.7916</td>\n",
       "      <td>DATA</td>\n",
       "      <td>data</td>\n",
       "    </tr>\n",
       "    <tr>\n",
       "      <td>3</td>\n",
       "      <td>3</td>\n",
       "      <td>4.7916 \\tINFO \\tinfo</td>\n",
       "      <td>4.7916</td>\n",
       "      <td>INFO</td>\n",
       "      <td>info</td>\n",
       "    </tr>\n",
       "    <tr>\n",
       "      <td>4</td>\n",
       "      <td>4</td>\n",
       "      <td>4.7916 \\tINFO \\tcurrent time: 1567699848.41</td>\n",
       "      <td>4.7916</td>\n",
       "      <td>INFO</td>\n",
       "      <td>current time: 1567699848.41</td>\n",
       "    </tr>\n",
       "  </tbody>\n",
       "</table>\n",
       "</div>"
      ],
      "text/plain": [
       "   index                                         DATA     TIME   WARNING  \\\n",
       "0      0                   4.7915 \\tWARNING \\twarning  4.7915   WARNING    \n",
       "1      1                    4.7916 \\tEXP \\texperiment  4.7916       EXP    \n",
       "2      2                         4.7916 \\tDATA \\tdata  4.7916      DATA    \n",
       "3      3                         4.7916 \\tINFO \\tinfo  4.7916      INFO    \n",
       "4      4  4.7916 \\tINFO \\tcurrent time: 1567699848.41  4.7916      INFO    \n",
       "\n",
       "                       MESSAGE  \n",
       "0                      warning  \n",
       "1                   experiment  \n",
       "2                         data  \n",
       "3                         info  \n",
       "4  current time: 1567699848.41  "
      ]
     },
     "execution_count": 78,
     "metadata": {},
     "output_type": "execute_result"
    }
   ],
   "source": [
    "log_file.head()"
   ]
  },
  {
   "cell_type": "code",
   "execution_count": 79,
   "metadata": {},
   "outputs": [],
   "source": [
    "log_file['TIME'] = log_file['TIME'].str.replace(' ','')\n",
    "log_file['TIME'] = log_file['TIME'].astype(float, errors='ignore')"
   ]
  },
  {
   "cell_type": "code",
   "execution_count": 80,
   "metadata": {},
   "outputs": [],
   "source": [
    "p = log_file[(log_file['DATA'].str.contains('COMPOSITE'))\n",
    "    & ((log_file['DATA'].str.contains('ON')))].melt(id_vars=['MESSAGE'], value_vars=['TIME'])"
   ]
  },
  {
   "cell_type": "code",
   "execution_count": 81,
   "metadata": {},
   "outputs": [],
   "source": [
    "p['utc'] = [x[-13:] for x in list(p['value'])]"
   ]
  },
  {
   "cell_type": "code",
   "execution_count": 282,
   "metadata": {},
   "outputs": [
    {
     "data": {
      "text/html": [
       "<div>\n",
       "<style scoped>\n",
       "    .dataframe tbody tr th:only-of-type {\n",
       "        vertical-align: middle;\n",
       "    }\n",
       "\n",
       "    .dataframe tbody tr th {\n",
       "        vertical-align: top;\n",
       "    }\n",
       "\n",
       "    .dataframe thead th {\n",
       "        text-align: right;\n",
       "    }\n",
       "</style>\n",
       "<table border=\"1\" class=\"dataframe\">\n",
       "  <thead>\n",
       "    <tr style=\"text-align: right;\">\n",
       "      <th></th>\n",
       "      <th>index</th>\n",
       "      <th>DATA</th>\n",
       "      <th>TIME</th>\n",
       "      <th>WARNING</th>\n",
       "      <th>MESSAGE</th>\n",
       "      <th>utc</th>\n",
       "    </tr>\n",
       "  </thead>\n",
       "  <tbody>\n",
       "    <tr>\n",
       "      <td>1308</td>\n",
       "      <td>1308</td>\n",
       "      <td>64.4902 \\tEXP \\tWIN FLIP : STIMULI OFF ['CUED ...</td>\n",
       "      <td>64.4902</td>\n",
       "      <td>EXP</td>\n",
       "      <td>WIN FLIP : STIMULI OFF ['CUED COMPOSITE ../../...</td>\n",
       "      <td>1567699912.88</td>\n",
       "    </tr>\n",
       "    <tr>\n",
       "      <td>1329</td>\n",
       "      <td>1329</td>\n",
       "      <td>69.1254 \\tEXP \\tWIN FLIP : STIMULI OFF ['CUED ...</td>\n",
       "      <td>69.1254</td>\n",
       "      <td>EXP</td>\n",
       "      <td>WIN FLIP : STIMULI OFF ['CUED COMPOSITE ../../...</td>\n",
       "      <td>1567699917.52</td>\n",
       "    </tr>\n",
       "    <tr>\n",
       "      <td>1350</td>\n",
       "      <td>1350</td>\n",
       "      <td>74.1429 \\tEXP \\tWIN FLIP : STIMULI OFF ['CUED ...</td>\n",
       "      <td>74.1429</td>\n",
       "      <td>EXP</td>\n",
       "      <td>WIN FLIP : STIMULI OFF ['CUED COMPOSITE ../../...</td>\n",
       "      <td>1567699922.54</td>\n",
       "    </tr>\n",
       "    <tr>\n",
       "      <td>1371</td>\n",
       "      <td>1371</td>\n",
       "      <td>78.9600 \\tEXP \\tWIN FLIP : STIMULI OFF ['CUED ...</td>\n",
       "      <td>78.9600</td>\n",
       "      <td>EXP</td>\n",
       "      <td>WIN FLIP : STIMULI OFF ['CUED COMPOSITE ../../...</td>\n",
       "      <td>1567699927.35</td>\n",
       "    </tr>\n",
       "    <tr>\n",
       "      <td>1392</td>\n",
       "      <td>1392</td>\n",
       "      <td>83.6462 \\tEXP \\tWIN FLIP : STIMULI OFF ['CUED ...</td>\n",
       "      <td>83.6462</td>\n",
       "      <td>EXP</td>\n",
       "      <td>WIN FLIP : STIMULI OFF ['CUED COMPOSITE ../../...</td>\n",
       "      <td>1567699932.04</td>\n",
       "    </tr>\n",
       "  </tbody>\n",
       "</table>\n",
       "</div>"
      ],
      "text/plain": [
       "      index                                               DATA     TIME  \\\n",
       "1308   1308  64.4902 \\tEXP \\tWIN FLIP : STIMULI OFF ['CUED ...  64.4902   \n",
       "1329   1329  69.1254 \\tEXP \\tWIN FLIP : STIMULI OFF ['CUED ...  69.1254   \n",
       "1350   1350  74.1429 \\tEXP \\tWIN FLIP : STIMULI OFF ['CUED ...  74.1429   \n",
       "1371   1371  78.9600 \\tEXP \\tWIN FLIP : STIMULI OFF ['CUED ...  78.9600   \n",
       "1392   1392  83.6462 \\tEXP \\tWIN FLIP : STIMULI OFF ['CUED ...  83.6462   \n",
       "\n",
       "     WARNING                                            MESSAGE            utc  \n",
       "1308    EXP   WIN FLIP : STIMULI OFF ['CUED COMPOSITE ../../...  1567699912.88  \n",
       "1329    EXP   WIN FLIP : STIMULI OFF ['CUED COMPOSITE ../../...  1567699917.52  \n",
       "1350    EXP   WIN FLIP : STIMULI OFF ['CUED COMPOSITE ../../...  1567699922.54  \n",
       "1371    EXP   WIN FLIP : STIMULI OFF ['CUED COMPOSITE ../../...  1567699927.35  \n",
       "1392    EXP   WIN FLIP : STIMULI OFF ['CUED COMPOSITE ../../...  1567699932.04  "
      ]
     },
     "execution_count": 282,
     "metadata": {},
     "output_type": "execute_result"
    }
   ],
   "source": [
    "p.head()"
   ]
  },
  {
   "cell_type": "code",
   "execution_count": 120,
   "metadata": {},
   "outputs": [],
   "source": [
    "uncued = p[ (p['value'].str.contains('UNCUED')) & (p['value'].str.contains('ON')) & (~p['value'].str.contains('practice'))]\n",
    "cued   = p[(~p['value'].str.contains('UNCUED')) & (p['value'].str.contains('ON')) & (~p['value'].str.contains('practice'))]\n",
    "cued = cued.rename(columns={\"value\": \"cued_onset\"})\n",
    "uncued = uncued.rename(columns={\"value\": \"uncued_onset\"})\n",
    "\n",
    "cued   = cued.reset_index(drop=True)\n",
    "uncued = uncued.reset_index(drop=True)"
   ]
  },
  {
   "cell_type": "code",
   "execution_count": 121,
   "metadata": {},
   "outputs": [],
   "source": [
    "uncued['utc'][0] = uncued['utc'][0][1:]\n",
    "uncued['utc'][1] = uncued['utc'][1][1:]"
   ]
  },
  {
   "cell_type": "code",
   "execution_count": 122,
   "metadata": {},
   "outputs": [
    {
     "data": {
      "text/html": [
       "<div>\n",
       "<style scoped>\n",
       "    .dataframe tbody tr th:only-of-type {\n",
       "        vertical-align: middle;\n",
       "    }\n",
       "\n",
       "    .dataframe tbody tr th {\n",
       "        vertical-align: top;\n",
       "    }\n",
       "\n",
       "    .dataframe thead th {\n",
       "        text-align: right;\n",
       "    }\n",
       "</style>\n",
       "<table border=\"1\" class=\"dataframe\">\n",
       "  <thead>\n",
       "    <tr style=\"text-align: right;\">\n",
       "      <th></th>\n",
       "      <th>MESSAGE</th>\n",
       "      <th>variable</th>\n",
       "      <th>uncued_onset</th>\n",
       "      <th>utc</th>\n",
       "    </tr>\n",
       "  </thead>\n",
       "  <tbody>\n",
       "    <tr>\n",
       "      <td>0</td>\n",
       "      <td>NAN VALUE</td>\n",
       "      <td>TIME</td>\n",
       "      <td>ameUNCUEDCOMPOSITE../../stim/composite/0093396...</td>\n",
       "      <td>1567699909.8</td>\n",
       "    </tr>\n",
       "    <tr>\n",
       "      <td>1</td>\n",
       "      <td>NAN VALUE</td>\n",
       "      <td>TIME</td>\n",
       "      <td>ameUNCUEDCOMPOSITE../../stim/composite/0055994...</td>\n",
       "      <td>1567699914.5</td>\n",
       "    </tr>\n",
       "    <tr>\n",
       "      <td>2</td>\n",
       "      <td>NAN VALUE</td>\n",
       "      <td>TIME</td>\n",
       "      <td>ameUNCUEDCOMPOSITE../../stim/composite/0077494...</td>\n",
       "      <td>1567699919.52</td>\n",
       "    </tr>\n",
       "    <tr>\n",
       "      <td>3</td>\n",
       "      <td>NAN VALUE</td>\n",
       "      <td>TIME</td>\n",
       "      <td>ameUNCUEDCOMPOSITE../../stim/composite/0088496...</td>\n",
       "      <td>1567699924.34</td>\n",
       "    </tr>\n",
       "    <tr>\n",
       "      <td>4</td>\n",
       "      <td>NAN VALUE</td>\n",
       "      <td>TIME</td>\n",
       "      <td>ameUNCUEDCOMPOSITE../../stim/composite/0083594...</td>\n",
       "      <td>1567699929.02</td>\n",
       "    </tr>\n",
       "    <tr>\n",
       "      <td>5</td>\n",
       "      <td>NAN VALUE</td>\n",
       "      <td>TIME</td>\n",
       "      <td>ameUNCUEDCOMPOSITE../../stim/composite/0015493...</td>\n",
       "      <td>1567699933.64</td>\n",
       "    </tr>\n",
       "    <tr>\n",
       "      <td>6</td>\n",
       "      <td>NAN VALUE</td>\n",
       "      <td>TIME</td>\n",
       "      <td>ameUNCUEDCOMPOSITE../../stim/composite/0031394...</td>\n",
       "      <td>1567699938.39</td>\n",
       "    </tr>\n",
       "    <tr>\n",
       "      <td>7</td>\n",
       "      <td>NAN VALUE</td>\n",
       "      <td>TIME</td>\n",
       "      <td>ameUNCUEDCOMPOSITE../../stim/composite/0056894...</td>\n",
       "      <td>1567699943.24</td>\n",
       "    </tr>\n",
       "    <tr>\n",
       "      <td>8</td>\n",
       "      <td>NAN VALUE</td>\n",
       "      <td>TIME</td>\n",
       "      <td>ameUNCUEDCOMPOSITE../../stim/composite/0009093...</td>\n",
       "      <td>1567699947.94</td>\n",
       "    </tr>\n",
       "    <tr>\n",
       "      <td>9</td>\n",
       "      <td>NAN VALUE</td>\n",
       "      <td>TIME</td>\n",
       "      <td>ameUNCUEDCOMPOSITE../../stim/composite/0070596...</td>\n",
       "      <td>1567699952.55</td>\n",
       "    </tr>\n",
       "  </tbody>\n",
       "</table>\n",
       "</div>"
      ],
      "text/plain": [
       "     MESSAGE variable                                       uncued_onset  \\\n",
       "0  NAN VALUE     TIME  ameUNCUEDCOMPOSITE../../stim/composite/0093396...   \n",
       "1  NAN VALUE     TIME  ameUNCUEDCOMPOSITE../../stim/composite/0055994...   \n",
       "2  NAN VALUE     TIME  ameUNCUEDCOMPOSITE../../stim/composite/0077494...   \n",
       "3  NAN VALUE     TIME  ameUNCUEDCOMPOSITE../../stim/composite/0088496...   \n",
       "4  NAN VALUE     TIME  ameUNCUEDCOMPOSITE../../stim/composite/0083594...   \n",
       "5  NAN VALUE     TIME  ameUNCUEDCOMPOSITE../../stim/composite/0015493...   \n",
       "6  NAN VALUE     TIME  ameUNCUEDCOMPOSITE../../stim/composite/0031394...   \n",
       "7  NAN VALUE     TIME  ameUNCUEDCOMPOSITE../../stim/composite/0056894...   \n",
       "8  NAN VALUE     TIME  ameUNCUEDCOMPOSITE../../stim/composite/0009093...   \n",
       "9  NAN VALUE     TIME  ameUNCUEDCOMPOSITE../../stim/composite/0070596...   \n",
       "\n",
       "             utc  \n",
       "0   1567699909.8  \n",
       "1   1567699914.5  \n",
       "2  1567699919.52  \n",
       "3  1567699924.34  \n",
       "4  1567699929.02  \n",
       "5  1567699933.64  \n",
       "6  1567699938.39  \n",
       "7  1567699943.24  \n",
       "8  1567699947.94  \n",
       "9  1567699952.55  "
      ]
     },
     "execution_count": 122,
     "metadata": {},
     "output_type": "execute_result"
    }
   ],
   "source": [
    "uncued"
   ]
  },
  {
   "cell_type": "code",
   "execution_count": 124,
   "metadata": {},
   "outputs": [],
   "source": [
    "cued['utc'][2] = cued['utc'][2][1:]"
   ]
  },
  {
   "cell_type": "code",
   "execution_count": 125,
   "metadata": {},
   "outputs": [
    {
     "data": {
      "text/html": [
       "<div>\n",
       "<style scoped>\n",
       "    .dataframe tbody tr th:only-of-type {\n",
       "        vertical-align: middle;\n",
       "    }\n",
       "\n",
       "    .dataframe tbody tr th {\n",
       "        vertical-align: top;\n",
       "    }\n",
       "\n",
       "    .dataframe thead th {\n",
       "        text-align: right;\n",
       "    }\n",
       "</style>\n",
       "<table border=\"1\" class=\"dataframe\">\n",
       "  <thead>\n",
       "    <tr style=\"text-align: right;\">\n",
       "      <th></th>\n",
       "      <th>MESSAGE</th>\n",
       "      <th>variable</th>\n",
       "      <th>cued_onset</th>\n",
       "      <th>utc</th>\n",
       "    </tr>\n",
       "  </thead>\n",
       "  <tbody>\n",
       "    <tr>\n",
       "      <td>0</td>\n",
       "      <td>NAN VALUE</td>\n",
       "      <td>TIME</td>\n",
       "      <td>ameCUEDCOMPOSITE../../stim/composite/001469606...</td>\n",
       "      <td>1567699909.78</td>\n",
       "    </tr>\n",
       "    <tr>\n",
       "      <td>1</td>\n",
       "      <td>NAN VALUE</td>\n",
       "      <td>TIME</td>\n",
       "      <td>ameCUEDCOMPOSITE../../stim/composite/009799606...</td>\n",
       "      <td>1567699914.48</td>\n",
       "    </tr>\n",
       "    <tr>\n",
       "      <td>2</td>\n",
       "      <td>NAN VALUE</td>\n",
       "      <td>TIME</td>\n",
       "      <td>ameCUEDCOMPOSITE../../stim/composite/008829605...</td>\n",
       "      <td>1567699919.5</td>\n",
       "    </tr>\n",
       "    <tr>\n",
       "      <td>3</td>\n",
       "      <td>NAN VALUE</td>\n",
       "      <td>TIME</td>\n",
       "      <td>ameCUEDCOMPOSITE../../stim/composite/010099606...</td>\n",
       "      <td>1567699924.31</td>\n",
       "    </tr>\n",
       "    <tr>\n",
       "      <td>4</td>\n",
       "      <td>NAN VALUE</td>\n",
       "      <td>TIME</td>\n",
       "      <td>ameCUEDCOMPOSITE../../stim/composite/007729412...</td>\n",
       "      <td>1567699929.01</td>\n",
       "    </tr>\n",
       "    <tr>\n",
       "      <td>5</td>\n",
       "      <td>NAN VALUE</td>\n",
       "      <td>TIME</td>\n",
       "      <td>ameCUEDCOMPOSITE../../stim/composite/009479606...</td>\n",
       "      <td>1567699933.62</td>\n",
       "    </tr>\n",
       "    <tr>\n",
       "      <td>6</td>\n",
       "      <td>NAN VALUE</td>\n",
       "      <td>TIME</td>\n",
       "      <td>ameCUEDCOMPOSITE../../stim/composite/007709412...</td>\n",
       "      <td>1567699938.38</td>\n",
       "    </tr>\n",
       "    <tr>\n",
       "      <td>7</td>\n",
       "      <td>NAN VALUE</td>\n",
       "      <td>TIME</td>\n",
       "      <td>ameCUEDCOMPOSITE../../stim/composite/009429606...</td>\n",
       "      <td>1567699943.23</td>\n",
       "    </tr>\n",
       "    <tr>\n",
       "      <td>8</td>\n",
       "      <td>NAN VALUE</td>\n",
       "      <td>TIME</td>\n",
       "      <td>ameCUEDCOMPOSITE../../stim/composite/009789606...</td>\n",
       "      <td>1567699947.92</td>\n",
       "    </tr>\n",
       "    <tr>\n",
       "      <td>9</td>\n",
       "      <td>NAN VALUE</td>\n",
       "      <td>TIME</td>\n",
       "      <td>ameCUEDCOMPOSITE../../stim/composite/007779412...</td>\n",
       "      <td>1567699952.54</td>\n",
       "    </tr>\n",
       "  </tbody>\n",
       "</table>\n",
       "</div>"
      ],
      "text/plain": [
       "     MESSAGE variable                                         cued_onset  \\\n",
       "0  NAN VALUE     TIME  ameCUEDCOMPOSITE../../stim/composite/001469606...   \n",
       "1  NAN VALUE     TIME  ameCUEDCOMPOSITE../../stim/composite/009799606...   \n",
       "2  NAN VALUE     TIME  ameCUEDCOMPOSITE../../stim/composite/008829605...   \n",
       "3  NAN VALUE     TIME  ameCUEDCOMPOSITE../../stim/composite/010099606...   \n",
       "4  NAN VALUE     TIME  ameCUEDCOMPOSITE../../stim/composite/007729412...   \n",
       "5  NAN VALUE     TIME  ameCUEDCOMPOSITE../../stim/composite/009479606...   \n",
       "6  NAN VALUE     TIME  ameCUEDCOMPOSITE../../stim/composite/007709412...   \n",
       "7  NAN VALUE     TIME  ameCUEDCOMPOSITE../../stim/composite/009429606...   \n",
       "8  NAN VALUE     TIME  ameCUEDCOMPOSITE../../stim/composite/009789606...   \n",
       "9  NAN VALUE     TIME  ameCUEDCOMPOSITE../../stim/composite/007779412...   \n",
       "\n",
       "             utc  \n",
       "0  1567699909.78  \n",
       "1  1567699914.48  \n",
       "2   1567699919.5  \n",
       "3  1567699924.31  \n",
       "4  1567699929.01  \n",
       "5  1567699933.62  \n",
       "6  1567699938.38  \n",
       "7  1567699943.23  \n",
       "8  1567699947.92  \n",
       "9  1567699952.54  "
      ]
     },
     "execution_count": 125,
     "metadata": {},
     "output_type": "execute_result"
    }
   ],
   "source": [
    "cued"
   ]
  },
  {
   "cell_type": "code",
   "execution_count": 126,
   "metadata": {},
   "outputs": [],
   "source": [
    "uncued['utc'] = uncued['utc'].astype(float)\n",
    "cued['utc']   = cued['utc'].astype(float)"
   ]
  },
  {
   "cell_type": "code",
   "execution_count": 127,
   "metadata": {},
   "outputs": [
    {
     "data": {
      "text/plain": [
       "'ameUNCUEDCOMPOSITE../../stim/composite/00933960627fa_sunapwjkcxdaeqehfql.jpgON\\\\utc1567699909.8'"
      ]
     },
     "execution_count": 127,
     "metadata": {},
     "output_type": "execute_result"
    }
   ],
   "source": [
    "uncued['uncued_onset'][0]"
   ]
  },
  {
   "cell_type": "markdown",
   "metadata": {},
   "source": [
    "# average difference in onset times between Cued and Uncued Composite in a single test block (~1 frame)"
   ]
  },
  {
   "cell_type": "code",
   "execution_count": 128,
   "metadata": {},
   "outputs": [],
   "source": [
    "x = list(uncued['utc']-cued['utc'])"
   ]
  },
  {
   "cell_type": "code",
   "execution_count": 129,
   "metadata": {},
   "outputs": [
    {
     "name": "stdout",
     "output_type": "stream",
     "text": [
      "Average number of seconds cued composite shows before uncued composite in a test run 0.01700000762939453\n"
     ]
    }
   ],
   "source": [
    "print('Average number of seconds cued composite shows before uncued composite in a test run '+str(np.mean(x)))"
   ]
  },
  {
   "cell_type": "markdown",
   "metadata": {},
   "source": [
    "# Check timing and order of stimuli, log versus csv files"
   ]
  },
  {
   "cell_type": "markdown",
   "metadata": {},
   "source": [
    "## verify stimulus orders same as in behavioral csv"
   ]
  },
  {
   "cell_type": "markdown",
   "metadata": {},
   "source": [
    "### load behavioral csv"
   ]
  },
  {
   "cell_type": "code",
   "execution_count": 135,
   "metadata": {},
   "outputs": [
    {
     "name": "stdout",
     "output_type": "stream",
     "text": [
      "test_data\n"
     ]
    }
   ],
   "source": [
    "sub_list = []\n",
    "data_dir = '/Users/kirstenziman/Desktop/FINAL_EYE_2019_Sep_05'\n",
    "\n",
    "for sub_dir in os.listdir(data_dir):\n",
    "    sub_list.append(add_level(sum_pd(data_dir + '/' + sub_dir)))\n",
    "    print(sub_dir)\n",
    "    \n",
    "exp_raw = pd.concat(sub_list)\n",
    "#exp1_raw.to_csv('../parsed_data/behavioral_data_sustained.csv')"
   ]
  },
  {
   "cell_type": "markdown",
   "metadata": {},
   "source": [
    "# Cued composite images are in the same order in log file and csv"
   ]
  },
  {
   "cell_type": "code",
   "execution_count": 136,
   "metadata": {},
   "outputs": [
    {
     "data": {
      "text/plain": [
       "['/00146960620fb_sunaatpeezlljqaxlhj.',\n",
       " '/00979960627fa_sunbdycacjfaujxitbw.',\n",
       " '/00882960530fa_sunaknlirqjqiwbbeeg.',\n",
       " '/01009960627fa_sunbxzweleltykebgan.',\n",
       " '/00772941201fa_sunafpfpiiujzoesnqg.',\n",
       " '/00947960627fa_sunasmmcxdddtmtazwx.',\n",
       " '/00770941201fa_sunaflojskatpeqyzqp.',\n",
       " '/00942960627fa_sunarfdklgdnjgeqfjg.',\n",
       " '/00978960627fa_sunbddbivbptlrlauhy.',\n",
       " '/00777941205fa_sunagcinxkccdtrjmlv.']"
      ]
     },
     "execution_count": 136,
     "metadata": {},
     "output_type": "execute_result"
    }
   ],
   "source": [
    "# uncued composite stimuli from log file\n",
    "[x[36:71] for x in list(cued['cued_onset'])]"
   ]
  },
  {
   "cell_type": "code",
   "execution_count": 137,
   "metadata": {},
   "outputs": [
    {
     "data": {
      "text/plain": [
       "0    00146960620fb_sunaatpeezlljqaxlhj.jpg\n",
       "1    00979960627fa_sunbdycacjfaujxitbw.jpg\n",
       "2    00882960530fa_sunaknlirqjqiwbbeeg.jpg\n",
       "3    01009960627fa_sunbxzweleltykebgan.jpg\n",
       "4    00772941201fa_sunafpfpiiujzoesnqg.jpg\n",
       "5    00947960627fa_sunasmmcxdddtmtazwx.jpg\n",
       "6    00770941201fa_sunaflojskatpeqyzqp.jpg\n",
       "7    00942960627fa_sunarfdklgdnjgeqfjg.jpg\n",
       "8    00978960627fa_sunbddbivbptlrlauhy.jpg\n",
       "9    00777941205fa_sunagcinxkccdtrjmlv.jpg\n",
       "Name: Cued Composite, dtype: object"
      ]
     },
     "execution_count": 137,
     "metadata": {},
     "output_type": "execute_result"
    }
   ],
   "source": [
    "exp_raw[exp_raw['Trial Type']=='Presentation']['Cued Composite']"
   ]
  },
  {
   "cell_type": "markdown",
   "metadata": {},
   "source": [
    "# Uncued composite images are in the same order in log file and csv"
   ]
  },
  {
   "cell_type": "code",
   "execution_count": 138,
   "metadata": {},
   "outputs": [
    {
     "data": {
      "text/plain": [
       "['te/00933960627fa_sunapwjkcxdaeqehfq',\n",
       " 'te/00559940519fa_sunacjkmnpawfzbyva',\n",
       " 'te/00774941201fa_sunafvtpfczkzopbgu',\n",
       " 'te/00884960530fa_sunakodkcslgqhqlgw',\n",
       " 'te/00835940307fa_sunaijsqpvodplbwxk',\n",
       " 'te/00154931230fa_sunaauueuhhvklldji',\n",
       " 'te/00313940422fa_sunabwjvmoaddlyxfj',\n",
       " 'te/00568940928fa_sunacsdhbbsybcyxne',\n",
       " 'te/00090931230fa_sunaahedjlmtqekgyv',\n",
       " 'te/00705960530fa_sunaduslxfzlbxllln']"
      ]
     },
     "execution_count": 138,
     "metadata": {},
     "output_type": "execute_result"
    }
   ],
   "source": [
    "[x[36:71] for x in list(uncued['uncued_onset'])]"
   ]
  },
  {
   "cell_type": "code",
   "execution_count": 139,
   "metadata": {},
   "outputs": [
    {
     "data": {
      "text/plain": [
       "0    00933960627fa_sunapwjkcxdaeqehfql.jpg\n",
       "1    00559940519fa_sunacjkmnpawfzbyvae.jpg\n",
       "2    00774941201fa_sunafvtpfczkzopbgue.jpg\n",
       "3    00884960530fa_sunakodkcslgqhqlgwl.jpg\n",
       "4    00835940307fa_sunaijsqpvodplbwxkf.jpg\n",
       "5    00154931230fa_sunaauueuhhvklldjik.jpg\n",
       "6    00313940422fa_sunabwjvmoaddlyxfjr.jpg\n",
       "7    00568940928fa_sunacsdhbbsybcyxnel.jpg\n",
       "8    00090931230fa_sunaahedjlmtqekgyvj.jpg\n",
       "9    00705960530fa_sunaduslxfzlbxlllnz.jpg\n",
       "Name: Uncued Composite, dtype: object"
      ]
     },
     "execution_count": 139,
     "metadata": {},
     "output_type": "execute_result"
    }
   ],
   "source": [
    "exp_raw[exp_raw['Trial Type']=='Presentation']['Uncued Composite']"
   ]
  },
  {
   "cell_type": "markdown",
   "metadata": {},
   "source": [
    "# Onset times differ by fractions of a second"
   ]
  },
  {
   "cell_type": "markdown",
   "metadata": {},
   "source": [
    "### csv onset times (same for cued and uncued composite)"
   ]
  },
  {
   "cell_type": "code",
   "execution_count": 235,
   "metadata": {},
   "outputs": [],
   "source": [
    "d = {}"
   ]
  },
  {
   "cell_type": "code",
   "execution_count": 284,
   "metadata": {},
   "outputs": [],
   "source": [
    "# aggregate onset times (two onsets in log file, one for cued composite and one for uncued; csv has only one onset time assigned to both)\n",
    "d['csv_cued_onset'] = list(exp_raw[exp_raw['Trial Type']=='Presentation']['Stimulus Onset'])\n",
    "d['log_cued_onset'] = list(cued['utc'])\n",
    "d['log_uncued_onset'] = list(uncued['utc'])\n",
    "\n",
    "# aggregate stim end times\n",
    "p = log_file[(log_file['DATA'].str.contains('OFF')) & ((log_file['DATA'].str.contains('COMPOSITE'))) & ((~log_file['DATA'].str.contains('practice')))]\n",
    "p['utc'] = [x[-13:] for x in list(p['DATA'])]\n",
    "d['log_composite_off'] = [float(x) for x in p['utc']]\n",
    "d['csv_composite_off'] = list(exp_raw[exp_raw['Trial Type']=='Presentation']['Stimulus End'])"
   ]
  },
  {
   "cell_type": "markdown",
   "metadata": {},
   "source": [
    "### check time diffs"
   ]
  },
  {
   "cell_type": "code",
   "execution_count": 285,
   "metadata": {},
   "outputs": [
    {
     "data": {
      "text/html": [
       "<div>\n",
       "<style scoped>\n",
       "    .dataframe tbody tr th:only-of-type {\n",
       "        vertical-align: middle;\n",
       "    }\n",
       "\n",
       "    .dataframe tbody tr th {\n",
       "        vertical-align: top;\n",
       "    }\n",
       "\n",
       "    .dataframe thead th {\n",
       "        text-align: right;\n",
       "    }\n",
       "</style>\n",
       "<table border=\"1\" class=\"dataframe\">\n",
       "  <thead>\n",
       "    <tr style=\"text-align: right;\">\n",
       "      <th></th>\n",
       "      <th>csv_cued_onset</th>\n",
       "      <th>log_cued_onset</th>\n",
       "      <th>log_uncued_onset</th>\n",
       "      <th>log_composite_off</th>\n",
       "      <th>csv_composite_off</th>\n",
       "      <th>cue_on_diff</th>\n",
       "      <th>uncue_on_diff</th>\n",
       "      <th>composite_off_diff</th>\n",
       "    </tr>\n",
       "  </thead>\n",
       "  <tbody>\n",
       "    <tr>\n",
       "      <td>0</td>\n",
       "      <td>1.567700e+09</td>\n",
       "      <td>1.567700e+09</td>\n",
       "      <td>1.567700e+09</td>\n",
       "      <td>1.567700e+09</td>\n",
       "      <td>1.567700e+09</td>\n",
       "      <td>0.034996</td>\n",
       "      <td>0.014996</td>\n",
       "      <td>-0.013137</td>\n",
       "    </tr>\n",
       "    <tr>\n",
       "      <td>1</td>\n",
       "      <td>1.567700e+09</td>\n",
       "      <td>1.567700e+09</td>\n",
       "      <td>1.567700e+09</td>\n",
       "      <td>1.567700e+09</td>\n",
       "      <td>1.567700e+09</td>\n",
       "      <td>0.036890</td>\n",
       "      <td>0.016890</td>\n",
       "      <td>-0.017955</td>\n",
       "    </tr>\n",
       "    <tr>\n",
       "      <td>2</td>\n",
       "      <td>1.567700e+09</td>\n",
       "      <td>1.567700e+09</td>\n",
       "      <td>1.567700e+09</td>\n",
       "      <td>1.567700e+09</td>\n",
       "      <td>1.567700e+09</td>\n",
       "      <td>0.034418</td>\n",
       "      <td>0.014418</td>\n",
       "      <td>-0.019700</td>\n",
       "    </tr>\n",
       "    <tr>\n",
       "      <td>3</td>\n",
       "      <td>1.567700e+09</td>\n",
       "      <td>1.567700e+09</td>\n",
       "      <td>1.567700e+09</td>\n",
       "      <td>1.567700e+09</td>\n",
       "      <td>1.567700e+09</td>\n",
       "      <td>0.043570</td>\n",
       "      <td>0.013570</td>\n",
       "      <td>-0.013334</td>\n",
       "    </tr>\n",
       "    <tr>\n",
       "      <td>4</td>\n",
       "      <td>1.567700e+09</td>\n",
       "      <td>1.567700e+09</td>\n",
       "      <td>1.567700e+09</td>\n",
       "      <td>1.567700e+09</td>\n",
       "      <td>1.567700e+09</td>\n",
       "      <td>0.028816</td>\n",
       "      <td>0.018816</td>\n",
       "      <td>-0.018223</td>\n",
       "    </tr>\n",
       "    <tr>\n",
       "      <td>5</td>\n",
       "      <td>1.567700e+09</td>\n",
       "      <td>1.567700e+09</td>\n",
       "      <td>1.567700e+09</td>\n",
       "      <td>1.567700e+09</td>\n",
       "      <td>1.567700e+09</td>\n",
       "      <td>0.036195</td>\n",
       "      <td>0.016195</td>\n",
       "      <td>-0.020062</td>\n",
       "    </tr>\n",
       "    <tr>\n",
       "      <td>6</td>\n",
       "      <td>1.567700e+09</td>\n",
       "      <td>1.567700e+09</td>\n",
       "      <td>1.567700e+09</td>\n",
       "      <td>1.567700e+09</td>\n",
       "      <td>1.567700e+09</td>\n",
       "      <td>0.027392</td>\n",
       "      <td>0.017392</td>\n",
       "      <td>-0.018645</td>\n",
       "    </tr>\n",
       "    <tr>\n",
       "      <td>7</td>\n",
       "      <td>1.567700e+09</td>\n",
       "      <td>1.567700e+09</td>\n",
       "      <td>1.567700e+09</td>\n",
       "      <td>1.567700e+09</td>\n",
       "      <td>1.567700e+09</td>\n",
       "      <td>0.029677</td>\n",
       "      <td>0.019677</td>\n",
       "      <td>-0.016488</td>\n",
       "    </tr>\n",
       "    <tr>\n",
       "      <td>8</td>\n",
       "      <td>1.567700e+09</td>\n",
       "      <td>1.567700e+09</td>\n",
       "      <td>1.567700e+09</td>\n",
       "      <td>1.567700e+09</td>\n",
       "      <td>1.567700e+09</td>\n",
       "      <td>0.040956</td>\n",
       "      <td>0.020956</td>\n",
       "      <td>-0.014900</td>\n",
       "    </tr>\n",
       "    <tr>\n",
       "      <td>9</td>\n",
       "      <td>1.567700e+09</td>\n",
       "      <td>1.567700e+09</td>\n",
       "      <td>1.567700e+09</td>\n",
       "      <td>1.567700e+09</td>\n",
       "      <td>1.567700e+09</td>\n",
       "      <td>0.022165</td>\n",
       "      <td>0.012165</td>\n",
       "      <td>-0.012976</td>\n",
       "    </tr>\n",
       "  </tbody>\n",
       "</table>\n",
       "</div>"
      ],
      "text/plain": [
       "   csv_cued_onset  log_cued_onset  log_uncued_onset  log_composite_off  \\\n",
       "0    1.567700e+09    1.567700e+09      1.567700e+09       1.567700e+09   \n",
       "1    1.567700e+09    1.567700e+09      1.567700e+09       1.567700e+09   \n",
       "2    1.567700e+09    1.567700e+09      1.567700e+09       1.567700e+09   \n",
       "3    1.567700e+09    1.567700e+09      1.567700e+09       1.567700e+09   \n",
       "4    1.567700e+09    1.567700e+09      1.567700e+09       1.567700e+09   \n",
       "5    1.567700e+09    1.567700e+09      1.567700e+09       1.567700e+09   \n",
       "6    1.567700e+09    1.567700e+09      1.567700e+09       1.567700e+09   \n",
       "7    1.567700e+09    1.567700e+09      1.567700e+09       1.567700e+09   \n",
       "8    1.567700e+09    1.567700e+09      1.567700e+09       1.567700e+09   \n",
       "9    1.567700e+09    1.567700e+09      1.567700e+09       1.567700e+09   \n",
       "\n",
       "   csv_composite_off  cue_on_diff  uncue_on_diff  composite_off_diff  \n",
       "0       1.567700e+09     0.034996       0.014996           -0.013137  \n",
       "1       1.567700e+09     0.036890       0.016890           -0.017955  \n",
       "2       1.567700e+09     0.034418       0.014418           -0.019700  \n",
       "3       1.567700e+09     0.043570       0.013570           -0.013334  \n",
       "4       1.567700e+09     0.028816       0.018816           -0.018223  \n",
       "5       1.567700e+09     0.036195       0.016195           -0.020062  \n",
       "6       1.567700e+09     0.027392       0.017392           -0.018645  \n",
       "7       1.567700e+09     0.029677       0.019677           -0.016488  \n",
       "8       1.567700e+09     0.040956       0.020956           -0.014900  \n",
       "9       1.567700e+09     0.022165       0.012165           -0.012976  "
      ]
     },
     "execution_count": 285,
     "metadata": {},
     "output_type": "execute_result"
    }
   ],
   "source": [
    "d = pd.DataFrame(d)\n",
    "d"
   ]
  },
  {
   "cell_type": "code",
   "execution_count": 286,
   "metadata": {},
   "outputs": [
    {
     "name": "stdout",
     "output_type": "stream",
     "text": [
      "mean onset difference between csv and log file, cued composites: 0.033507490158081056\n",
      "^^ this is approximately two frames\n",
      "\n",
      "mean onset difference between csv andn log file, uncued composites: 0.016507482528686522\n",
      "^^ this is approximately one frame\n"
     ]
    }
   ],
   "source": [
    "d['cue_on_diff'] = d['csv_cued_onset']-d['log_cued_onset']\n",
    "d['uncue_on_diff'] = d['csv_cued_onset']-d['log_uncued_onset']\n",
    "\n",
    "print('mean onset difference between csv and log file, cued composites: '+str(d['cue_on_diff'].mean()))\n",
    "print('^^ this is approximately two frames')\n",
    "print()\n",
    "\n",
    "print('mean onset difference between csv andn log file, uncued composites: '+str(d['uncue_on_diff'].mean()))\n",
    "print('^^ this is approximately one frame')"
   ]
  },
  {
   "cell_type": "code",
   "execution_count": 287,
   "metadata": {},
   "outputs": [
    {
     "name": "stdout",
     "output_type": "stream",
     "text": [
      "mean end time difference between csv and log file, for both composites: -0.01654200553894043\n",
      "^^ this is approximately one frame\n"
     ]
    }
   ],
   "source": [
    "d['composite_off_diff'] = d['csv_composite_off']-d['log_composite_off']\n",
    "\n",
    "print('mean end time difference between csv and log file, for both composites: '+str(d['composite_off_diff'].mean()))\n",
    "print('^^ this is approximately one frame')"
   ]
  },
  {
   "cell_type": "markdown",
   "metadata": {},
   "source": [
    "# Check Memory Images"
   ]
  },
  {
   "cell_type": "markdown",
   "metadata": {},
   "source": [
    "Memory images from log"
   ]
  },
  {
   "cell_type": "code",
   "execution_count": 288,
   "metadata": {},
   "outputs": [
    {
     "data": {
      "text/plain": [
       "['single/00762941201fa.jpg ',\n",
       " '/single/00194940128fb.jpg',\n",
       " 'single/00313940422fa.jpg ',\n",
       " 'single/01009960627fa.jpg ',\n",
       " '/sunaauueuhhvklldjik.jpg ',\n",
       " 'single/00882960530fa.jpg ',\n",
       " 'single/00705960530fa.jpg ',\n",
       " 'single/00144931230fb.jpg ',\n",
       " '/sunafgzgbisbopcyslr.jpg ',\n",
       " 'e/sunawotxrevnqvamsfp.jpg',\n",
       " 'single/00154931230fa.jpg ',\n",
       " '/sunagcinxkccdtrjmlv.jpg ',\n",
       " 'single/00743941201fa.jpg ',\n",
       " '/sunaknlirqjqiwbbeeg.jpg ',\n",
       " '/sunaazezcsunmhttzxz.jpg ',\n",
       " 'single/00505960627fa.jpg ',\n",
       " 'single/00777941205fa.jpg ',\n",
       " '/sunbdycacjfaujxitbw.jpg ',\n",
       " 'single/00961960627fa.jpg ',\n",
       " 'single/00884960530fa.jpg ',\n",
       " '/sunaathajvxrgptwhoj.jpg ',\n",
       " '/single/00770941201fa.jpg',\n",
       " 'single/00557940519fa.jpg ',\n",
       " '/sunaflojskatpeqyzqp.jpg ',\n",
       " '/sunacacflqoyxhsqzhe.jpg ',\n",
       " 'single/00507940519fa.jpg ',\n",
       " 'single/00198940128fb.jpg ',\n",
       " '/single/00827940307fa.jpg',\n",
       " '/sunabzuqsrgcsonqlkz.jpg ',\n",
       " 'single/00559940519fa.jpg ',\n",
       " '/sunahtfxgsrmkiulnwk.jpg ',\n",
       " '/sunakodkcslgqhqlgwl.jpg ',\n",
       " '/sunachtuarilwyqnvjx.jpg ',\n",
       " '/sunabwjvmoaddlyxfjr.jpg ',\n",
       " 'single/00979960627fa.jpg ',\n",
       " 'e/sunbxzweleltykebgan.jpg',\n",
       " '/sunaeoghzrjarigmwua.jpg ',\n",
       " '/sunaayehfdqcyxggsej.jpg ',\n",
       " '/sunaduslxfzlbxlllnz.jpg ',\n",
       " '/sunacjkmnpawfzbyvae.jpg ']"
      ]
     },
     "execution_count": 288,
     "metadata": {},
     "output_type": "execute_result"
    }
   ],
   "source": [
    "[x[-45:-20] for x in list(log_file[(log_file['DATA'].str.contains('MEMORY')) & (log_file['DATA'].str.contains('ON')) & (~log_file['DATA'].str.contains('practice'))]['DATA'])]"
   ]
  },
  {
   "cell_type": "markdown",
   "metadata": {},
   "source": [
    "Memory images from csv"
   ]
  },
  {
   "cell_type": "code",
   "execution_count": 289,
   "metadata": {},
   "outputs": [
    {
     "data": {
      "text/plain": [
       "['00762941201fa.jpg',\n",
       " '00194940128fb.jpg',\n",
       " '00313940422fa.jpg',\n",
       " '01009960627fa.jpg',\n",
       " 'sunaauueuhhvklldjik.jpg',\n",
       " '00882960530fa.jpg',\n",
       " '00705960530fa.jpg',\n",
       " '00144931230fb.jpg',\n",
       " 'sunafgzgbisbopcyslr.jpg',\n",
       " 'sunawotxrevnqvamsfp.jpg',\n",
       " '00154931230fa.jpg',\n",
       " 'sunagcinxkccdtrjmlv.jpg',\n",
       " '00743941201fa.jpg',\n",
       " 'sunaknlirqjqiwbbeeg.jpg',\n",
       " 'sunaazezcsunmhttzxz.jpg',\n",
       " '00505960627fa.jpg',\n",
       " '00777941205fa.jpg',\n",
       " 'sunbdycacjfaujxitbw.jpg',\n",
       " '00961960627fa.jpg',\n",
       " '00884960530fa.jpg',\n",
       " 'sunaathajvxrgptwhoj.jpg',\n",
       " '00770941201fa.jpg',\n",
       " '00557940519fa.jpg',\n",
       " 'sunaflojskatpeqyzqp.jpg',\n",
       " 'sunacacflqoyxhsqzhe.jpg',\n",
       " '00507940519fa.jpg',\n",
       " '00198940128fb.jpg',\n",
       " '00827940307fa.jpg',\n",
       " 'sunabzuqsrgcsonqlkz.jpg',\n",
       " '00559940519fa.jpg',\n",
       " 'sunahtfxgsrmkiulnwk.jpg',\n",
       " 'sunakodkcslgqhqlgwl.jpg',\n",
       " 'sunachtuarilwyqnvjx.jpg',\n",
       " 'sunabwjvmoaddlyxfjr.jpg',\n",
       " '00979960627fa.jpg',\n",
       " 'sunbxzweleltykebgan.jpg',\n",
       " 'sunaeoghzrjarigmwua.jpg',\n",
       " 'sunaayehfdqcyxggsej.jpg',\n",
       " 'sunaduslxfzlbxlllnz.jpg',\n",
       " 'sunacjkmnpawfzbyvae.jpg']"
      ]
     },
     "execution_count": 289,
     "metadata": {},
     "output_type": "execute_result"
    }
   ],
   "source": [
    "list(exp_raw[exp_raw['Trial Type']=='Memory']['Memory Image'])"
   ]
  },
  {
   "cell_type": "markdown",
   "metadata": {},
   "source": [
    "Onset times from log"
   ]
  },
  {
   "cell_type": "code",
   "execution_count": 298,
   "metadata": {},
   "outputs": [],
   "source": [
    "d2={}"
   ]
  },
  {
   "cell_type": "code",
   "execution_count": 299,
   "metadata": {},
   "outputs": [],
   "source": [
    "onset_list = [x[-13:] for x in list(log_file[(log_file['DATA'].str.contains('MEMORY')) & (log_file['DATA'].str.contains('ON')) & (~log_file['DATA'].str.contains('practice'))]['DATA'])]\n",
    "d2['memory_onset_log'] = [float(x.replace(\"c\", \"\")) for x in onset_list]\n",
    "#onset_list"
   ]
  },
  {
   "cell_type": "markdown",
   "metadata": {},
   "source": [
    "Onset times from csv"
   ]
  },
  {
   "cell_type": "code",
   "execution_count": 300,
   "metadata": {},
   "outputs": [],
   "source": [
    "d2['memory_onset_csv'] = list(exp_raw[exp_raw['Trial Type']=='Memory']['Stimulus Onset'])"
   ]
  },
  {
   "cell_type": "markdown",
   "metadata": {},
   "source": [
    "Aggregate end times from log and csv"
   ]
  },
  {
   "cell_type": "code",
   "execution_count": 309,
   "metadata": {},
   "outputs": [],
   "source": [
    "d2['memory_off_log']=[x[-13:] for x in list(log_file[(log_file['DATA'].str.contains('MEMORY')) & (log_file['DATA'].str.contains('OFF')) & (~log_file['DATA'].str.contains('practice'))]['DATA'])]\n",
    "d2['memory_off_csv'] = list(exp_raw[exp_raw['Trial Type']=='Memory']['Stimulus End'])"
   ]
  },
  {
   "cell_type": "code",
   "execution_count": 310,
   "metadata": {},
   "outputs": [
    {
     "data": {
      "text/html": [
       "<div>\n",
       "<style scoped>\n",
       "    .dataframe tbody tr th:only-of-type {\n",
       "        vertical-align: middle;\n",
       "    }\n",
       "\n",
       "    .dataframe tbody tr th {\n",
       "        vertical-align: top;\n",
       "    }\n",
       "\n",
       "    .dataframe thead th {\n",
       "        text-align: right;\n",
       "    }\n",
       "</style>\n",
       "<table border=\"1\" class=\"dataframe\">\n",
       "  <thead>\n",
       "    <tr style=\"text-align: right;\">\n",
       "      <th></th>\n",
       "      <th>memory_onset_log</th>\n",
       "      <th>memory_onset_csv</th>\n",
       "      <th>memory_off_log</th>\n",
       "      <th>memory_off_csv</th>\n",
       "      <th>mem_onset_diff</th>\n",
       "      <th>mem_off_diff</th>\n",
       "    </tr>\n",
       "  </thead>\n",
       "  <tbody>\n",
       "    <tr>\n",
       "      <td>0</td>\n",
       "      <td>1.567700e+09</td>\n",
       "      <td>1.567700e+09</td>\n",
       "      <td>1567699961.68</td>\n",
       "      <td>1.567700e+09</td>\n",
       "      <td>0.041525</td>\n",
       "      <td>-0.248735</td>\n",
       "    </tr>\n",
       "    <tr>\n",
       "      <td>1</td>\n",
       "      <td>1.567700e+09</td>\n",
       "      <td>1.567700e+09</td>\n",
       "      <td>1567699965.06</td>\n",
       "      <td>1.567700e+09</td>\n",
       "      <td>0.033353</td>\n",
       "      <td>-0.244155</td>\n",
       "    </tr>\n",
       "    <tr>\n",
       "      <td>2</td>\n",
       "      <td>1.567700e+09</td>\n",
       "      <td>1.567700e+09</td>\n",
       "      <td>1567699968.44</td>\n",
       "      <td>1.567700e+09</td>\n",
       "      <td>0.036564</td>\n",
       "      <td>-0.239359</td>\n",
       "    </tr>\n",
       "    <tr>\n",
       "      <td>3</td>\n",
       "      <td>1.567700e+09</td>\n",
       "      <td>1.567700e+09</td>\n",
       "      <td>1567699971.82</td>\n",
       "      <td>1.567700e+09</td>\n",
       "      <td>0.034017</td>\n",
       "      <td>-0.251225</td>\n",
       "    </tr>\n",
       "    <tr>\n",
       "      <td>4</td>\n",
       "      <td>1.567700e+09</td>\n",
       "      <td>1.567700e+09</td>\n",
       "      <td>1567699975.22</td>\n",
       "      <td>1.567700e+09</td>\n",
       "      <td>0.029936</td>\n",
       "      <td>-0.266925</td>\n",
       "    </tr>\n",
       "  </tbody>\n",
       "</table>\n",
       "</div>"
      ],
      "text/plain": [
       "   memory_onset_log  memory_onset_csv memory_off_log  memory_off_csv  \\\n",
       "0      1.567700e+09      1.567700e+09  1567699961.68    1.567700e+09   \n",
       "1      1.567700e+09      1.567700e+09  1567699965.06    1.567700e+09   \n",
       "2      1.567700e+09      1.567700e+09  1567699968.44    1.567700e+09   \n",
       "3      1.567700e+09      1.567700e+09  1567699971.82    1.567700e+09   \n",
       "4      1.567700e+09      1.567700e+09  1567699975.22    1.567700e+09   \n",
       "\n",
       "   mem_onset_diff  mem_off_diff  \n",
       "0        0.041525     -0.248735  \n",
       "1        0.033353     -0.244155  \n",
       "2        0.036564     -0.239359  \n",
       "3        0.034017     -0.251225  \n",
       "4        0.029936     -0.266925  "
      ]
     },
     "execution_count": 310,
     "metadata": {},
     "output_type": "execute_result"
    }
   ],
   "source": [
    "d2 = pd.DataFrame(d2)\n",
    "d2.head()"
   ]
  },
  {
   "cell_type": "code",
   "execution_count": 311,
   "metadata": {},
   "outputs": [],
   "source": [
    "d2['mem_onset_diff'] = d2['memory_onset_csv'] - d2['memory_onset_log']"
   ]
  },
  {
   "cell_type": "code",
   "execution_count": 318,
   "metadata": {},
   "outputs": [
    {
     "name": "stdout",
     "output_type": "stream",
     "text": [
      "Average difference in memory image onset time between csv and log: 0.029798215627670287\n"
     ]
    }
   ],
   "source": [
    "print('Average difference in memory image onset time between csv and log: '+str(d2['mem_onset_diff'].mean()))"
   ]
  },
  {
   "cell_type": "code",
   "execution_count": 313,
   "metadata": {},
   "outputs": [],
   "source": [
    "d2['memory_off_log'] = pd.to_numeric(d2['memory_off_log'])\n",
    "d2['mem_off_diff'] = d2['memory_off_csv'] - d2['memory_off_log']"
   ]
  },
  {
   "cell_type": "code",
   "execution_count": 320,
   "metadata": {},
   "outputs": [
    {
     "name": "stdout",
     "output_type": "stream",
     "text": [
      "Average difference in end time between csv and log: -0.2511367857456207\n"
     ]
    }
   ],
   "source": [
    "print('Average difference in end time between csv and log: '+str(d2['mem_off_diff'].mean()))"
   ]
  },
  {
   "cell_type": "markdown",
   "metadata": {},
   "source": [
    "this longer lag in end time is likely due to the amount of time taken to extract the rating from the rating scale. Can time this, to check, and also move the rating scale data pulling code to after the stimulus has been pulled from the screen"
   ]
  },
  {
   "cell_type": "code",
   "execution_count": null,
   "metadata": {},
   "outputs": [],
   "source": []
  }
 ],
 "metadata": {
  "kernelspec": {
   "display_name": "Python 3",
   "language": "python",
   "name": "python3"
  },
  "language_info": {
   "codemirror_mode": {
    "name": "ipython",
    "version": 3
   },
   "file_extension": ".py",
   "mimetype": "text/x-python",
   "name": "python",
   "nbconvert_exporter": "python",
   "pygments_lexer": "ipython3",
   "version": "3.7.4"
  }
 },
 "nbformat": 4,
 "nbformat_minor": 2
}
