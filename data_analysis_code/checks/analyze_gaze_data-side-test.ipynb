{
 "cells": [
  {
   "cell_type": "markdown",
   "metadata": {},
   "source": [
    "# Imports"
   ]
  },
  {
   "cell_type": "code",
   "execution_count": 31,
   "metadata": {},
   "outputs": [],
   "source": [
    "import pandas as pd; import seaborn as sb; import statsmodels.formula.api as smf; import pingouin\n",
    "#from statannot import add_stat_annotation; \n",
    "from itertools import combinations; import os;\n",
    "from analysis_helpers import *; import scipy; from scipy import stats; import os; import math;\n",
    "import warnings\n",
    "warnings.filterwarnings('ignore')"
   ]
  },
  {
   "cell_type": "markdown",
   "metadata": {},
   "source": [
    "# Load sample behavioral data"
   ]
  },
  {
   "cell_type": "code",
   "execution_count": 41,
   "metadata": {},
   "outputs": [
    {
     "name": "stdout",
     "output_type": "stream",
     "text": [
      "test_data\n"
     ]
    }
   ],
   "source": [
    "sub_list = []\n",
    "data_dir = '/Users/kirstenziman/Desktop/FINAL_EYE_2019_Sep_05'\n",
    "\n",
    "for sub_dir in os.listdir(data_dir):\n",
    "    sub_list.append(add_level(sum_pd(data_dir + '/' + sub_dir)))\n",
    "    print(sub_dir)\n",
    "    \n",
    "exp_raw = pd.concat(sub_list)\n",
    "#exp1_raw.to_csv('../parsed_data/behavioral_data_sustained.csv')"
   ]
  },
  {
   "cell_type": "markdown",
   "metadata": {},
   "source": [
    "# Load sample gaze data"
   ]
  },
  {
   "cell_type": "code",
   "execution_count": 42,
   "metadata": {},
   "outputs": [],
   "source": [
    "# load gaze data\n",
    "gaze = pd.read_csv('test_gaze.csv')"
   ]
  },
  {
   "cell_type": "markdown",
   "metadata": {},
   "source": [
    "# Tendency to gaze towards cued side"
   ]
  },
  {
   "cell_type": "code",
   "execution_count": 47,
   "metadata": {},
   "outputs": [
    {
     "name": "stdout",
     "output_type": "stream",
     "text": [
      "Ttest_1sampResult(statistic=nan, pvalue=nan)\n",
      "inf\n"
     ]
    }
   ],
   "source": [
    "gaze_grp_list = []\n",
    "\n",
    "for data,behav,label in zip([gaze],[exp_raw[exp_raw['Trial Type']=='Presentation']],['test']):\n",
    "    \n",
    "    # Make sure behavioral data trials are numbered\n",
    "    #behav.loc[behav['Trial Type']=='Memory','Trial'] = list(range(0,40))*1\n",
    "    behav.loc[behav['Trial Type']=='Presentation','Trial'] = list(range(0,10))*1\n",
    "    \n",
    "    # group gaze data\n",
    "    gaze_grp = data.groupby(['Subject','Run','Trial'], as_index=False).mean()\n",
    "    gaze_grp['Run'] = pd.to_numeric(gaze_grp['Run'])\n",
    "    gaze_grp_list.append(gaze_grp)\n",
    "    \n",
    "    # add av x coord to each presentation trial in behavioral df\n",
    "    for s in gaze_grp['Subject'].unique():\n",
    "\n",
    "        # special case for subject 327 (three digit subject #, as opposed to 2 digit)\n",
    "        if label=='2' and s == 32:\n",
    "            for r in gaze_grp[gaze_grp['Subject']==s]['Run'].unique():\n",
    "                for t in gaze_grp[(gaze_grp['Subject']==s) & (gaze_grp['Run']==r)]['Trial'].unique():\n",
    "\n",
    "                    if gaze_grp[(gaze_grp['Subject']==s) & (gaze_grp['Run']==r) & (gaze_grp['Trial']==t)].shape[0]>0:\n",
    "\n",
    "                        behav.loc[(behav['Subject']==327) \n",
    "                                     & (behav['Run']==r) \n",
    "                                     & (behav['Trial']==t), 'av_x_coord'] =  gaze_grp[(gaze_grp['Subject']==s) \n",
    "                                                                                     & (gaze_grp['Run']==r) \n",
    "                                                                                     & (gaze_grp['Trial']==t)]['av_x_coord'].item()\n",
    "\n",
    "        # all others have two digit subject number\n",
    "        else:\n",
    "            for r in gaze_grp[gaze_grp['Subject']==s]['Run'].unique():\n",
    "                for t in gaze_grp[(gaze_grp['Subject']==s) & (gaze_grp['Run']==r)]['Trial'].unique():\n",
    "\n",
    "                    if gaze_grp[(gaze_grp['Subject']==s) & (gaze_grp['Run']==r) & (gaze_grp['Trial']==t)].shape[0]>0:\n",
    "\n",
    "                        behav.loc[(behav['Subject']==s) \n",
    "                                     & (behav['Run']==r) \n",
    "                                     & (behav['Trial']==t), 'av_x_coord'] =  gaze_grp[(gaze_grp['Subject']==s) \n",
    "                                                                                     & (gaze_grp['Run']==r) \n",
    "                                                                                     & (gaze_grp['Trial']==t)]['av_x_coord'].item()\n",
    "\n",
    "    # compute av x gaze's difference from screen center\n",
    "    behav['gaze_from_center'] = behav['av_x_coord'] - 59.8/2\n",
    "    \n",
    "    # make the difference value negative for opposite facing arrow\n",
    "    behav['gaze_towards_cued_side'] = behav['gaze_from_center']\n",
    "    behav.loc[(behav['Cued Side']=='<'),'gaze_towards_cued_side'] = -behav.loc[(behav['Cued Side']=='<')]['gaze_towards_cued_side']\n",
    "    \n",
    "    # ttest relative to zero drift! \n",
    "    behav_grp = behav.groupby(['Subject'], as_index=False).mean()\n",
    "    print(scipy.stats.ttest_1samp(behav_grp['gaze_towards_cued_side'],0))\n",
    "    print(np.mean(behav_grp['gaze_towards_cued_side'])/np.std(behav_grp['gaze_towards_cued_side']))"
   ]
  },
  {
   "cell_type": "code",
   "execution_count": 52,
   "metadata": {},
   "outputs": [
    {
     "data": {
      "text/plain": [
       "Ttest_1sampResult(statistic=26.132699016681265, pvalue=8.490809688271069e-10)"
      ]
     },
     "execution_count": 52,
     "metadata": {},
     "output_type": "execute_result"
    }
   ],
   "source": [
    "scipy.stats.ttest_1samp(behav['gaze_towards_cued_side'],0)"
   ]
  },
  {
   "cell_type": "code",
   "execution_count": 53,
   "metadata": {},
   "outputs": [],
   "source": [
    "#scipy.stats.ttest_1samp(behav_grp['gaze_towards_cued_side'],0)"
   ]
  },
  {
   "cell_type": "markdown",
   "metadata": {},
   "source": [
    "# Data restricted to gaze between images"
   ]
  },
  {
   "cell_type": "code",
   "execution_count": 58,
   "metadata": {},
   "outputs": [],
   "source": [
    "restricted_concat = {}\n",
    "for gaze,label in zip([gaze],['test']):\n",
    "\n",
    "    gaze['gaze_from_center'] = gaze['av_x_coord'] - (59.8/2)\n",
    "    \n",
    "    gaze_restricted = gaze[abs(gaze['gaze_from_center'])<4.2752]\n",
    "    gaze_restricted = gaze_restricted.groupby(['Subject','Run','Trial'], as_index=False).mean()\n",
    "    \n",
    "    restricted_behavioral = []\n",
    "\n",
    "    for s in gaze_restricted['Subject'].unique():\n",
    "        for r in gaze_restricted[gaze_restricted['Subject']==s]['Run'].unique():\n",
    "            for t in gaze_restricted[(gaze_restricted['Subject']==s) & (gaze_restricted['Run']==r)]['Trial'].unique():\n",
    "                restricted_behavioral.append(exp1[(exp1['Subject']==s) & (exp1['Run']==int(r)) & (exp1['Trial']==float(t))])\n",
    "    \n",
    "    restricted_concat[label] = pd.concat(restricted_behavioral)"
   ]
  },
  {
   "cell_type": "code",
   "execution_count": 59,
   "metadata": {},
   "outputs": [
    {
     "data": {
      "text/plain": [
       "{'test': Empty DataFrame\n",
       " Columns: [Unnamed: 0, Unnamed: 0.1, Subject, Trial Type, Run, Cued Composite, Uncued Composite, Cued Face, Cued Place, Uncued Face, Uncued Place, Memory Image, Category, Cued Side, Cued Category, Attention Reaction Time (s), Familiarity Reaction Time (s), Familiarity Rating, Attention Level, Cue Validity, Post Invalid Cue, Pre Invalid Cue, Attention Button, Rating History, Stimulus Onset, Stimulus End, Attention Probe, Trial]\n",
       " Index: []\n",
       " \n",
       " [0 rows x 28 columns]}"
      ]
     },
     "execution_count": 59,
     "metadata": {},
     "output_type": "execute_result"
    }
   ],
   "source": [
    "restricted_concat"
   ]
  },
  {
   "cell_type": "markdown",
   "metadata": {},
   "source": [
    "# Attended Category vs Unattended Images"
   ]
  },
  {
   "cell_type": "code",
   "execution_count": 61,
   "metadata": {},
   "outputs": [],
   "source": [
    "for l in restricted_concat:\n",
    "    d = restricted_concat[l]\n",
    "\n",
    "    Cats = []\n",
    "    Novs = []\n",
    "    for s in d['Subject'].unique():\n",
    "\n",
    "        Cats.append(d[(d['Subject']==s) & (d['Attention Level'].isin(['Category','Full']))]['Familiarity Rating'].mean())\n",
    "        Novs.append(d[(d['Subject']==s) & (d['Attention Level']=='None')]['Familiarity Rating'].mean())\n",
    "\n",
    "#     print(l)\n",
    "#     print(scipy.stats.ttest_rel(Cats, Novs))\n",
    "#     print(cohen_d(Cats, Novs))\n",
    "#     print()"
   ]
  },
  {
   "cell_type": "markdown",
   "metadata": {},
   "source": [
    "# Attended Side vs Unattended Images"
   ]
  },
  {
   "cell_type": "code",
   "execution_count": null,
   "metadata": {},
   "outputs": [],
   "source": [
    "for l in restricted_concat.keys():\n",
    "    d = restricted_concat[l]\n",
    "\n",
    "    Sides = []\n",
    "    Novs = []\n",
    "    \n",
    "    for s in d['Subject'].unique():\n",
    "\n",
    "        Sides.append(d[(d['Subject']==s) & (d['Attention Level'].isin(['Full','Side']))]['Familiarity Rating'].mean())\n",
    "        Novs.append(d[(d['Subject']==s) & (d['Attention Level']=='None')]['Familiarity Rating'].mean())\n",
    "\n",
    "\n",
    "    print(scipy.stats.ttest_rel(Sides, Novs))\n",
    "    print(cohen_d(Sides, Novs))\n",
    "    print()"
   ]
  },
  {
   "cell_type": "markdown",
   "metadata": {},
   "source": [
    "# Plot"
   ]
  },
  {
   "cell_type": "code",
   "execution_count": 62,
   "metadata": {},
   "outputs": [
    {
     "name": "stdout",
     "output_type": "stream",
     "text": [
      "test\n",
      "FINAL_EYE\n"
     ]
    }
   ],
   "source": [
    "gaze_added_mem_dict = {}\n",
    "gaze_added_mem = []\n",
    "\n",
    "for data,label in zip([exp_raw],['test']):\n",
    "    print(label)\n",
    "\n",
    "    for s in data['Subject'].unique():\n",
    "        print(s)\n",
    "        for r in data['Run'].unique():\n",
    "            gaze_added_mem.append(add_gaze(data[(data['Subject']==s) & (data['Run']==r)]))\n",
    "\n",
    "    gaze_mem = pd.concat(gaze_added_mem)\n",
    "    gaze_mem.loc[gaze_mem['Attention Level']=='Novel','av_x_coord']=0\n",
    "\n",
    "    gaze_mem['gaze_towards'] = gaze_mem['av_x_coord'] - (59.8/2)\n",
    "\n",
    "    gaze_mem.loc[(gaze_mem['Cued Side']=='<') \n",
    "                 & (gaze_mem['Attention Level'].isin(['Full', 'Side'])), 'gaze_towards'] = -gaze_mem[(gaze_mem['Cued Side']=='<') \n",
    "                                                                                                          & (gaze_mem['Attention Level'].isin(['Full', 'Side']))]['gaze_towards']\n",
    "\n",
    "    gaze_mem.loc[(gaze_mem['Cued Side']=='>') \n",
    "                 & (gaze_mem['Attention Level'].isin(['None', 'Category'])), 'gaze_towards'] = -gaze_mem[(gaze_mem['Cued Side']=='>') & (gaze_mem['Attention Level'].isin(['None', 'Category']))]['gaze_towards']\n",
    "\n",
    "    gaze_mem_grp = gaze_mem.groupby(['Subject','Attention Level', 'Familiarity Rating','Trial Type'], as_index=False).mean()\n",
    "\n",
    "    gaze_added_mem_dict[label] = gaze_mem"
   ]
  },
  {
   "cell_type": "code",
   "execution_count": 64,
   "metadata": {},
   "outputs": [
    {
     "data": {
      "image/png": "[encoded data removed]",
      "text/plain": [
       "<Figure size 432x288 with 1 Axes>"
      ]
     },
     "metadata": {},
     "output_type": "display_data"
    }
   ],
   "source": [
    "%matplotlib inline\n",
    "for label in ['test']:\n",
    "    \n",
    "    gaze_mem_grp = gaze_added_mem_dict[label].groupby(['Subject','Attention Level', 'Familiarity Rating','Trial Type'], as_index=False).mean()\n",
    "\n",
    "    # scale by screen size\n",
    "    gaze_mem_grp['scaled_gaze_towards'] = gaze_mem_grp['gaze_towards']/(59.8/2)\n",
    "\n",
    "    # plot\n",
    "    sb.set_style('white')\n",
    "\n",
    "    f = sb.violinplot(x='Familiarity Rating', y='scaled_gaze_towards', \n",
    "                  data=gaze_mem_grp[gaze_mem_grp['Attention Level']!='Novel'], hue='Attention Level')\n",
    "\n",
    "    plt.grid(False)\n",
    "    plt.rc('xtick', labelsize=20)\n",
    "    plt.rc('ytick', labelsize=20)\n",
    "    plt.xlabel('Familiarity Rating',    fontsize = 20)\n",
    "    plt.ylabel('Horizontal Gaze Drift', fontsize = 20)\n",
    "    f.set(ylim=(-1, 1))\n",
    "    plt.show()\n"
   ]
  },
  {
   "cell_type": "code",
   "execution_count": 65,
   "metadata": {},
   "outputs": [
    {
     "data": {
      "image/png": "[encoded data removed]",
      "text/plain": [
       "<Figure size 432x288 with 1 Axes>"
      ]
     },
     "metadata": {},
     "output_type": "display_data"
    }
   ],
   "source": [
    "%matplotlib inline\n",
    "for label in ['test']:\n",
    "    \n",
    "    gaze_mem_grp = gaze_added_mem_dict[label]#.groupby(['Subject','Attention Level', 'Familiarity Rating','Trial Type'], as_index=False).mean()\n",
    "\n",
    "    # scale by screen size\n",
    "    gaze_mem_grp['scaled_gaze_towards'] = gaze_mem_grp['gaze_towards']/(59.8/2)\n",
    "\n",
    "    # plot\n",
    "    sb.set_style('white')\n",
    "\n",
    "    f = sb.violinplot(x='Familiarity Rating', y='scaled_gaze_towards', \n",
    "                  data=gaze_mem_grp[gaze_mem_grp['Attention Level']!='Novel'], hue='Attention Level')\n",
    "\n",
    "    plt.grid(False)\n",
    "    plt.rc('xtick', labelsize=20)\n",
    "    plt.rc('ytick', labelsize=20)\n",
    "    plt.xlabel('Familiarity Rating',    fontsize = 20)\n",
    "    plt.ylabel('Horizontal Gaze Drift', fontsize = 20)\n",
    "    f.set(ylim=(-1, 1))\n",
    "    plt.show()"
   ]
  },
  {
   "cell_type": "code",
   "execution_count": 66,
   "metadata": {},
   "outputs": [
    {
     "data": {
      "image/png": "[encoded data removed]",
      "text/plain": [
       "<Figure size 432x288 with 1 Axes>"
      ]
     },
     "metadata": {},
     "output_type": "display_data"
    }
   ],
   "source": [
    "%matplotlib inline\n",
    "for label in ['test']:\n",
    "    \n",
    "    gaze_mem_grp = gaze_added_mem_dict[label]#.groupby(['Subject','Attention Level', 'Familiarity Rating','Trial Type'], as_index=False).mean()\n",
    "\n",
    "    # scale by screen size\n",
    "    gaze_mem_grp['scaled_gaze_towards'] = gaze_mem_grp['gaze_towards']/(59.8/2)\n",
    "\n",
    "    # plot\n",
    "    sb.set_style('white')\n",
    "\n",
    "    f = sb.barplot(x='Familiarity Rating', y='scaled_gaze_towards', \n",
    "                  data=gaze_mem_grp[gaze_mem_grp['Attention Level']!='Novel'], hue='Attention Level')\n",
    "\n",
    "    plt.grid(False)\n",
    "    plt.rc('xtick', labelsize=20)\n",
    "    plt.rc('ytick', labelsize=20)\n",
    "    plt.xlabel('Familiarity Rating',    fontsize = 20)\n",
    "    plt.ylabel('Horizontal Gaze Drift', fontsize = 20)\n",
    "    f.set(ylim=(-1, 1))\n",
    "    plt.show()"
   ]
  },
  {
   "cell_type": "code",
   "execution_count": null,
   "metadata": {},
   "outputs": [],
   "source": []
  }
 ],
 "metadata": {
  "kernelspec": {
   "display_name": "Python 3",
   "language": "python",
   "name": "python3"
  },
  "language_info": {
   "codemirror_mode": {
    "name": "ipython",
    "version": 3
   },
   "file_extension": ".py",
   "mimetype": "text/x-python",
   "name": "python",
   "nbconvert_exporter": "python",
   "pygments_lexer": "ipython3",
   "version": "3.7.4"
  }
 },
 "nbformat": 4,
 "nbformat_minor": 2
}
