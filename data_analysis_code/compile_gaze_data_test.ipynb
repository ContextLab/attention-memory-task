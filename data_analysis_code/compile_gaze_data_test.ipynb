{
 "cells": [
  {
   "cell_type": "markdown",
   "metadata": {},
   "source": [
    "# Imports"
   ]
  },
  {
   "cell_type": "code",
   "execution_count": 18,
   "metadata": {},
   "outputs": [],
   "source": [
    "import pandas as pd; import seaborn as sb; import statsmodels.formula.api as smf; import pingouin;\n",
    "from itertools import combinations; import os\n",
    "from analysis_helpers import *; import scipy; from scipy import stats; import os; import math; import scipy\n",
    "\n",
    "import warnings\n",
    "warnings.filterwarnings('ignore')"
   ]
  },
  {
   "cell_type": "markdown",
   "metadata": {},
   "source": [
    "# Compile from raw data\n",
    "Organize gaze data from each participant into one dataframe for the whole experiment."
   ]
  },
  {
   "cell_type": "code",
   "execution_count": 19,
   "metadata": {},
   "outputs": [
    {
     "name": "stdout",
     "output_type": "stream",
     "text": [
      "test_data\n"
     ]
    }
   ],
   "source": [
    "data_str = '/Users/kirstenziman/Desktop/FINAL_EYE_2019_Sep_05'\n",
    "exp1_gaze = []\n",
    "\n",
    "# load each participant's data as a dataframe, and append to a list\n",
    "for subject in os.listdir(data_str):\n",
    "    print(subject)\n",
    "    exp1_gaze.append(eye_intial(data_str + '/' + subject +'/eye_data/'))"
   ]
  },
  {
   "cell_type": "code",
   "execution_count": 20,
   "metadata": {},
   "outputs": [],
   "source": [
    "# add subject number to each dataframe based on data files\n",
    "exp1_numbered = []\n",
    "for sub_num,subject in zip(os.listdir(data_str), exp1_gaze):\n",
    "    subject['Subject'] = sub_num[0:2]\n",
    "    exp1_numbered.append(subject)\n",
    "exp1_sub_gaze = pd.concat(exp1_numbered)"
   ]
  },
  {
   "cell_type": "code",
   "execution_count": 28,
   "metadata": {},
   "outputs": [],
   "source": [
    "# select only the gazepoints from times when presentation images were on screen\n",
    "exp1_pres_trials = []\n",
    "for sub_file in os.listdir(data_str):\n",
    "    exp1_pres_trials.append(pres_gaze_image(data_str + '/' + sub_file +'/', \n",
    "                                            exp1_sub_gaze[exp1_sub_gaze['Subject']==str(sub_file[0:2])], \n",
    "                                            'FINAL_EYE'))"
   ]
  },
  {
   "cell_type": "code",
   "execution_count": 29,
   "metadata": {},
   "outputs": [],
   "source": [
    "# reorganize trial-wise presentation-image-only gaze data\n",
    "full_pres1 =[]\n",
    "for idx,sub in enumerate(exp1_pres_trials):\n",
    "    for run in exp1_pres_trials[idx].keys():\n",
    "        for trial in exp1_pres_trials[idx][run]:\n",
    "            full_pres1.append(trial)"
   ]
  },
  {
   "cell_type": "code",
   "execution_count": 30,
   "metadata": {},
   "outputs": [],
   "source": [
    "# concatenate into a dataframe\n",
    "whole_exp1_gaze = pd.concat(full_pres1)"
   ]
  },
  {
   "cell_type": "code",
   "execution_count": 31,
   "metadata": {},
   "outputs": [
    {
     "data": {
      "text/plain": [
       "524.28815"
      ]
     },
     "execution_count": 31,
     "metadata": {},
     "output_type": "execute_result"
    }
   ],
   "source": [
    "#whole_exp1_gaze.to_csv('presentation_with_gaze_outside_screen.csv')\n",
    "whole_exp1_gaze['av_y_coord'].min()"
   ]
  },
  {
   "cell_type": "code",
   "execution_count": 32,
   "metadata": {},
   "outputs": [],
   "source": [
    "# convert to centimeters\n",
    "whole_exp1_gaze['av_x_coord'] = (59.8/2048)*(whole_exp1_gaze[['xRaw_righteye', 'xRaw_lefteye']].mean(axis=1))\n",
    "whole_exp1_gaze['av_y_coord'] = (33.6/1152)*(whole_exp1_gaze[['yRaw_righteye', 'yRaw_lefteye']].mean(axis=1))"
   ]
  },
  {
   "cell_type": "code",
   "execution_count": 33,
   "metadata": {},
   "outputs": [],
   "source": [
    "# eliminate gazepoints with values outside the area of the screen\n",
    "# (eyetribe sometimes gives zeros, extremely high, or extremely low/negative values when issue collecting data)\n",
    "whole_exp1_gaze = whole_exp1_gaze[(whole_exp1_gaze['av_x_coord']   < 59.8) \n",
    "                                  & (whole_exp1_gaze['av_y_coord'] < 33.6)\n",
    "                                  & (whole_exp1_gaze['av_x_coord'] > 0)\n",
    "                                  & (whole_exp1_gaze['av_y_coord'] > 0)]"
   ]
  },
  {
   "cell_type": "code",
   "execution_count": 34,
   "metadata": {},
   "outputs": [],
   "source": [
    "whole_exp1_gaze.to_csv('test_gaze.csv')"
   ]
  },
  {
   "cell_type": "code",
   "execution_count": null,
   "metadata": {},
   "outputs": [],
   "source": []
  }
 ],
 "metadata": {
  "kernelspec": {
   "display_name": "Python 3",
   "language": "python",
   "name": "python3"
  },
  "language_info": {
   "codemirror_mode": {
    "name": "ipython",
    "version": 3
   },
   "file_extension": ".py",
   "mimetype": "text/x-python",
   "name": "python",
   "nbconvert_exporter": "python",
   "pygments_lexer": "ipython3",
   "version": "3.7.4"
  }
 },
 "nbformat": 4,
 "nbformat_minor": 2
}
