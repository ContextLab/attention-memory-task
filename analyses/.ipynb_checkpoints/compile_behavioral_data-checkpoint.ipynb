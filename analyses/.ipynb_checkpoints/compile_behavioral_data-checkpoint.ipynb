{
 "cells": [
  {
   "cell_type": "markdown",
   "metadata": {},
   "source": [
    "# Compile Dataframe from raw subject files"
   ]
  },
  {
   "cell_type": "code",
   "execution_count": 1,
   "metadata": {},
   "outputs": [],
   "source": [
    "import pandas as pd; import os; from analysis_helpers import *; import warnings\n",
    "warnings.filterwarnings('ignore')"
   ]
  },
  {
   "cell_type": "code",
   "execution_count": 3,
   "metadata": {},
   "outputs": [],
   "source": [
    "sub_list = []\n",
    "\n",
    "data_dir = '/Users/kirstenziman/Documents/NEW_DIRECTORY/new_place/attention-memory-task/experiment1_blockCue/data'\n",
    "\n",
    "for sub_dir in os.listdir(data_dir):\n",
    "    sub_list.append(add_level(sum_pd(data_dir + '/' + sub_dir)))"
   ]
  },
  {
   "cell_type": "code",
   "execution_count": 4,
   "metadata": {},
   "outputs": [],
   "source": [
    "exp1_raw = pd.concat(sub_list)\n",
    "exp1_raw.to_csv('../parsed_data/behavioral_data_exp1.csv')"
   ]
  },
  {
   "cell_type": "code",
   "execution_count": 7,
   "metadata": {},
   "outputs": [],
   "source": [
    "sub_list = []\n",
    "\n",
    "data_dir = '/Users/kirstenziman/Documents/NEW_DIRECTORY/new_place/attention-memory-task/experiment2_trialCue/data'\n",
    "\n",
    "for sub_dir in os.listdir(data_dir):\n",
    "    sub_list.append(add_level(sum_pd(data_dir + '/' + sub_dir)))"
   ]
  },
  {
   "cell_type": "code",
   "execution_count": 8,
   "metadata": {},
   "outputs": [],
   "source": [
    "exp2_raw = pd.concat(sub_list)\n",
    "exp2_raw.to_csv('../parsed_data/behavioral_data_exp2.csv')"
   ]
  }
 ],
 "metadata": {
  "kernelspec": {
   "display_name": "Python 3",
   "language": "python",
   "name": "python3"
  },
  "language_info": {
   "codemirror_mode": {
    "name": "ipython",
    "version": 3
   },
   "file_extension": ".py",
   "mimetype": "text/x-python",
   "name": "python",
   "nbconvert_exporter": "python",
   "pygments_lexer": "ipython3",
   "version": "3.6.4"
  }
 },
 "nbformat": 4,
 "nbformat_minor": 2
}
