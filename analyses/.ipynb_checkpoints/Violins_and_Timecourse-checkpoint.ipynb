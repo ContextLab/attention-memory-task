{
 "cells": [
  {
   "cell_type": "markdown",
   "metadata": {},
   "source": [
    "# Behavioral Data Analysis"
   ]
  },
  {
   "cell_type": "markdown",
   "metadata": {},
   "source": [
    "This notebook generates timecourse analyses and figures for experiments 1 and 2."
   ]
  },
  {
   "cell_type": "markdown",
   "metadata": {},
   "source": [
    "### Imports"
   ]
  },
  {
   "cell_type": "code",
   "execution_count": 9,
   "metadata": {},
   "outputs": [],
   "source": [
    "import pandas as pd; import seaborn as sb; import warnings; import scipy; import re; import os\n",
    "from analysis_helpers import *; import itertools; from scipy import stats\n",
    "import random; import pandas as pd\n",
    "warnings.filterwarnings('ignore')\n",
    "%matplotlib inline"
   ]
  },
  {
   "cell_type": "markdown",
   "metadata": {},
   "source": [
    "### Load Data"
   ]
  },
  {
   "cell_type": "code",
   "execution_count": 10,
   "metadata": {},
   "outputs": [],
   "source": [
    "exp1 = pd.DataFrame.from_csv('/Users/kirstenziman/Desktop/new_place/attention-memory-task/parsed_data/behavioral_data_exp1.csv')\n",
    "exp2 = pd.DataFrame.from_csv('/Users/kirstenziman/Desktop/new_place/attention-memory-task/parsed_data/behavioral.csv')"
   ]
  },
  {
   "cell_type": "markdown",
   "metadata": {},
   "source": [
    "# Data Organize"
   ]
  },
  {
   "cell_type": "code",
   "execution_count": 11,
   "metadata": {},
   "outputs": [],
   "source": [
    "# Make sure all images labeled by their inherent category (use image filename)\n",
    "exp2.ix[ exp2['Memory Image'].str.contains(\"sun\", na=False),'Category']='Place'\n",
    "exp2.ix[~exp2['Memory Image'].str.contains(\"sun\", na=False),'Category']='Face'\n",
    "exp2.loc[exp2['Trial Type']=='Presentation','Category']=np.nan\n",
    "\n",
    "# Make sure all memory trials are numbered\n",
    "exp1.loc[exp1['Trial Type']=='Memory','Trial'] = list(range(0,40))*30*8\n",
    "exp2.loc[exp2['Trial Type']=='Memory','Trial'] = list(range(0,40))*30*8"
   ]
  },
  {
   "cell_type": "markdown",
   "metadata": {},
   "source": [
    "### Exp2: add column for the last-cued category before each memory block"
   ]
  },
  {
   "cell_type": "code",
   "execution_count": 12,
   "metadata": {},
   "outputs": [],
   "source": [
    "exp2['Last Cued'] = np.nan\n",
    "\n",
    "for sub in exp2['Subject'].unique():\n",
    "    for run in exp2['Run'].unique():\n",
    "        \n",
    "        # obtain cued category from the last presentation trial\n",
    "        last_cat = exp2[(exp2['Trial Type']=='Presentation')\n",
    "                       & (exp2['Subject']==sub)\n",
    "                       & (exp2['Run']==run)\n",
    "                       & (exp2['Trial']==9)]['Cued Category'].item()\n",
    "        # print(last_cat)\n",
    "        \n",
    "        # assign to this memory run\n",
    "        exp2.loc[(exp2['Trial Type']=='Memory')\n",
    "                       & (exp2['Subject']==sub)\n",
    "                       & (exp2['Run']==run),'Last Cued'] = last_cat"
   ]
  },
  {
   "cell_type": "markdown",
   "metadata": {},
   "source": [
    "### Re-Label Novel Images by Cued or Uncued category"
   ]
  },
  {
   "cell_type": "code",
   "execution_count": 13,
   "metadata": {},
   "outputs": [],
   "source": [
    "exp1 = add_nov_label(exp1)\n",
    "exp2 = add_nov_label(exp2, column_name ='Last Cued')"
   ]
  },
  {
   "cell_type": "markdown",
   "metadata": {},
   "source": [
    "### Working version of the data with all Novel images together (not splti by cued or uncued)"
   ]
  },
  {
   "cell_type": "code",
   "execution_count": 14,
   "metadata": {},
   "outputs": [],
   "source": [
    "exp2_Novel = exp2.replace(to_replace=['Nov_Cued','Nov_Un'], value='Novel')\n",
    "exp1_Novel = exp1.replace(to_replace=['Nov_Cued','Nov_Un'], value='Novel')"
   ]
  },
  {
   "cell_type": "code",
   "execution_count": 15,
   "metadata": {},
   "outputs": [
    {
     "data": {
      "text/plain": [
       "9     Place\n",
       "19    Place\n",
       "29    Place\n",
       "39    Place\n",
       "49    Place\n",
       "59    Place\n",
       "69    Place\n",
       "79    Place\n",
       "Name: Cued Category, dtype: object"
      ]
     },
     "execution_count": 15,
     "metadata": {},
     "output_type": "execute_result"
    }
   ],
   "source": [
    "# Note : subject 28 has all trials ending in 'Place' cue !\n",
    "exp2[(exp2['Subject']==28) & (exp2['Trial Type']=='Presentation') & (exp2['Trial']==9)]['Cued Category']"
   ]
  },
  {
   "cell_type": "markdown",
   "metadata": {},
   "source": [
    "# Stats"
   ]
  },
  {
   "cell_type": "markdown",
   "metadata": {},
   "source": [
    "Below are all of the statistical tests done on the behavioral data, in the order they appear in the paper"
   ]
  },
  {
   "cell_type": "markdown",
   "metadata": {},
   "source": [
    "### Reaction Time Stats (Cued vs. Uncued side)"
   ]
  },
  {
   "cell_type": "code",
   "execution_count": 16,
   "metadata": {},
   "outputs": [
    {
     "data": {
      "text/plain": [
       "Ttest_relResult(statistic=2.726564495656624, pvalue=0.010744006694709042)"
      ]
     },
     "execution_count": 16,
     "metadata": {},
     "output_type": "execute_result"
    }
   ],
   "source": [
    "# Experiment 1\n",
    "exp1_gr = exp1.groupby(['Subject','Cue Validity'], as_index=False).mean()\n",
    "\n",
    "scipy.stats.ttest_rel(exp1_gr[exp1_gr['Cue Validity']==0]['Attention Reaction Time (s)'], \n",
    "                            exp1_gr[exp1_gr['Cue Validity']==1]['Attention Reaction Time (s)'])"
   ]
  },
  {
   "cell_type": "code",
   "execution_count": 17,
   "metadata": {},
   "outputs": [
    {
     "data": {
      "text/plain": [
       "Ttest_relResult(statistic=-0.015703450175793242, pvalue=0.9875785155263901)"
      ]
     },
     "execution_count": 17,
     "metadata": {},
     "output_type": "execute_result"
    }
   ],
   "source": [
    "# Experiment 2\n",
    "exp2_gr = exp2.groupby(['Subject','Cue Validity'], as_index=False).mean()\n",
    "\n",
    "scipy.stats.ttest_rel(exp2_gr[exp2_gr['Cue Validity']==0]['Attention Reaction Time (s)'], \n",
    "                            exp2_gr[exp2_gr['Cue Validity']==1]['Attention Reaction Time (s)'])"
   ]
  },
  {
   "cell_type": "markdown",
   "metadata": {},
   "source": [
    "### Compare Fully Attended Images to all Other images"
   ]
  },
  {
   "cell_type": "code",
   "execution_count": 18,
   "metadata": {},
   "outputs": [
    {
     "name": "stdout",
     "output_type": "stream",
     "text": [
      "Experiment_1\n",
      "Ttest_relResult(statistic=9.396112809093742, pvalue=2.6596964490466333e-10)\n",
      "\n",
      "Experiment_2\n",
      "Ttest_relResult(statistic=5.567191437174967, pvalue=5.252532785886715e-06)\n",
      "\n"
     ]
    }
   ],
   "source": [
    "for d,label in zip([exp1, exp2],['Experiment_1', 'Experiment_2']):\n",
    "    Fulls  = []\n",
    "    Others = []\n",
    "    \n",
    "    for s in d['Subject'].unique():\n",
    "        \n",
    "        Fulls.append(d[(d['Subject']==s)&(d['Attention Level']=='Full')]['Familiarity Rating'].mean())\n",
    "        Others.append(d[(d['Subject']==s) &(d['Attention Level']!='Full')]['Familiarity Rating'].mean())\n",
    "        \n",
    "    print(label)\n",
    "    print(scipy.stats.ttest_rel(Fulls, Others))\n",
    "    print()"
   ]
  },
  {
   "cell_type": "markdown",
   "metadata": {},
   "source": [
    "### Face versus Scene"
   ]
  },
  {
   "cell_type": "code",
   "execution_count": 19,
   "metadata": {},
   "outputs": [
    {
     "name": "stdout",
     "output_type": "stream",
     "text": [
      "exp 1\n",
      "Ttest_relResult(statistic=2.0422902656121815, pvalue=0.0503089403934693)\n",
      "\n",
      "exp 2\n",
      "Ttest_relResult(statistic=1.9760802060698364, pvalue=0.057727605976210926)\n",
      "\n"
     ]
    }
   ],
   "source": [
    "for exp,label in zip([exp1, exp2],['exp 1','exp 2']):\n",
    "    f_p = exp.groupby(['Category', 'Subject'], as_index=False).mean()\n",
    "    print(label)\n",
    "    print(scipy.stats.ttest_rel(f_p[f_p['Category']=='Place']['Familiarity Rating'], f_p[f_p['Category']=='Face']['Familiarity Rating']))\n",
    "    print()"
   ]
  },
  {
   "cell_type": "markdown",
   "metadata": {},
   "source": [
    "### Categories vs Novel"
   ]
  },
  {
   "cell_type": "code",
   "execution_count": 20,
   "metadata": {},
   "outputs": [
    {
     "name": "stdout",
     "output_type": "stream",
     "text": [
      "Experiment_1\n",
      "Ttest_relResult(statistic=5.248448043551901, pvalue=1.2716251947496808e-05)\n",
      "\n",
      "Experiment_2\n",
      "Ttest_relResult(statistic=1.9557281622268197, pvalue=0.060192697179814646)\n",
      "\n"
     ]
    }
   ],
   "source": [
    "for d,label in zip([exp1_Novel, exp2_Novel],['Experiment_1', 'Experiment_2']):\n",
    "    Cats  = []\n",
    "    Novs = []\n",
    "    \n",
    "    for s in d['Subject'].unique():\n",
    "        \n",
    "        Cats.append(d[(d['Subject']==s) & (d['Attention Level']=='Category')]['Familiarity Rating'].mean())\n",
    "        Novs.append(d[(d['Subject']==s) & (d['Attention Level']=='Novel')]['Familiarity Rating'].mean())\n",
    "\n",
    "    print(label)\n",
    "    print(scipy.stats.ttest_rel(Cats, Novs))\n",
    "    print()"
   ]
  },
  {
   "cell_type": "markdown",
   "metadata": {},
   "source": [
    "### Side vs Novel"
   ]
  },
  {
   "cell_type": "code",
   "execution_count": 21,
   "metadata": {},
   "outputs": [
    {
     "name": "stdout",
     "output_type": "stream",
     "text": [
      "Experiment_1\n",
      "Ttest_relResult(statistic=0.5564111088638143, pvalue=0.5821983386952392)\n",
      "\n",
      "Experiment_2\n",
      "Ttest_relResult(statistic=6.85034017352441, pvalue=1.5929721367210212e-07)\n",
      "\n"
     ]
    }
   ],
   "source": [
    "for d,label in zip([exp1_Novel, exp2_Novel],['Experiment_1', 'Experiment_2']):\n",
    "    Cats  = []\n",
    "    Novs = []\n",
    "    \n",
    "    for s in d['Subject'].unique():\n",
    "        \n",
    "        Cats.append(d[(d['Subject']==s) & (d['Attention Level']=='Side')]['Familiarity Rating'].mean())\n",
    "        Novs.append(d[(d['Subject']==s) & (d['Attention Level']=='Novel')]['Familiarity Rating'].mean())\n",
    "\n",
    "    print(label)\n",
    "    print(scipy.stats.ttest_rel(Cats, Novs))\n",
    "    print()"
   ]
  },
  {
   "cell_type": "markdown",
   "metadata": {},
   "source": [
    "# Category versus Novel Diffs"
   ]
  },
  {
   "cell_type": "code",
   "execution_count": 22,
   "metadata": {},
   "outputs": [],
   "source": [
    "# Exp 1: mean(Side & Full) - mean(Novel)\n",
    "# versus\n",
    "# Exp 2: mean(Side & Full) - mean(Novel)\n",
    "\n",
    "# Exp 1: mean(Cat & Full) - mean(Novel)\n",
    "# versus\n",
    "# Exp 2: mean(Cat & Full) - mean(Novel)\n",
    "\n",
    "\n",
    "# Experiment 1: ( (mean(Cat & Full) - mean(Novel))  -    (mean(Side & Full) - mean(Novel)) )    \n",
    "# versus\n",
    "# Experiment 2: ( (mean(Cat & Full) - mean(Novel))   -    (mean(Side & Full) - mean(Novel)) ) "
   ]
  },
  {
   "cell_type": "code",
   "execution_count": 23,
   "metadata": {},
   "outputs": [
    {
     "name": "stdout",
     "output_type": "stream",
     "text": [
      "Experiment_1\n",
      "Ttest_relResult(statistic=2.0408065546020406, pvalue=0.0504655227194427)\n",
      "\n",
      "30\n",
      "Experiment_2\n",
      "Ttest_relResult(statistic=-3.659203543584972, pvalue=0.0010005362417606367)\n",
      "\n",
      "30\n"
     ]
    }
   ],
   "source": [
    "diffs = {'Experiment_1':[], 'Experiment_2':[]}\n",
    "\n",
    "for d,label in zip([exp1_Novel, exp2_Novel],['Experiment_1', 'Experiment_2']):\n",
    "    cat_nov = []\n",
    "    side_nov = []\n",
    "    \n",
    "    for s in d['Subject'].unique():\n",
    "        side = d[(d['Subject']==s)&(d['Attention Level'].isin(['Side','Full']))]['Familiarity Rating'].mean()\n",
    "        cat = d[(d['Subject']==s)&(d['Attention Level'].isin(['Category', 'Full']))]['Familiarity Rating'].mean()\n",
    "        nov = d[(d['Subject']==s) &(d['Attention Level']=='Novel')]['Familiarity Rating'].mean()\n",
    "        \n",
    "        cat_nov.append(cat - nov)\n",
    "        side_nov.append(side - nov)\n",
    "        \n",
    "        \n",
    "    print(label)\n",
    "    print(scipy.stats.ttest_rel(cat_nov, side_nov))\n",
    "    print()\n",
    "    \n",
    "    diff = [x-y for x,y in zip(cat_nov,side_nov)]\n",
    "    diffs[label].append(diff)\n",
    "    \n",
    "    print(len(diff))\n",
    "    "
   ]
  },
  {
   "cell_type": "markdown",
   "metadata": {},
   "source": [
    "### Cued versus Uncued Novel Images"
   ]
  },
  {
   "cell_type": "code",
   "execution_count": 24,
   "metadata": {},
   "outputs": [
    {
     "name": "stdout",
     "output_type": "stream",
     "text": [
      "exp1\n",
      "Ttest_relResult(statistic=5.644488500528174, pvalue=4.241252223029619e-06)\n",
      "\n",
      "exp2\n",
      "Ttest_relResult(statistic=0.22263341929217778, pvalue=0.8253814425522065)\n",
      "\n"
     ]
    }
   ],
   "source": [
    "for d,label in zip([exp1, exp2],['exp1','exp2']):\n",
    "    \n",
    "    d = d.groupby(['Subject','Attention Level'], as_index=False).mean()\n",
    "    \n",
    "    print(label)\n",
    "    print(scipy.stats.ttest_rel(d[d['Attention Level']=='Nov_Cued']['Familiarity Rating'], \n",
    "                                d[d['Attention Level']=='Nov_Un']['Familiarity Rating']))\n",
    "    print()\n",
    "    "
   ]
  },
  {
   "cell_type": "markdown",
   "metadata": {},
   "source": [
    "### Attended Category versus Unattended Category images"
   ]
  },
  {
   "cell_type": "code",
   "execution_count": 25,
   "metadata": {},
   "outputs": [
    {
     "name": "stdout",
     "output_type": "stream",
     "text": [
      "Experiment_1\n",
      "Ttest_relResult(statistic=6.489893651111426, pvalue=4.193385679483794e-07)\n",
      "\n",
      "Experiment_2\n",
      "Ttest_relResult(statistic=-0.41505612138901005, pvalue=0.681155572542971)\n",
      "\n"
     ]
    }
   ],
   "source": [
    "for d,label in zip([exp1, exp2],['Experiment_1', 'Experiment_2']):\n",
    "    \n",
    "    att   = []\n",
    "    unatt = []\n",
    "    \n",
    "    for s in d['Subject'].unique():\n",
    "        \n",
    "        att.append(d[(d['Subject']==s)&(d['Attention Level'].isin(['Full','Category']))]['Familiarity Rating'].mean())\n",
    "        unatt.append(d[(d['Subject']==s) &(d['Attention Level'].isin(['Side','None']))]['Familiarity Rating'].mean())\n",
    "        \n",
    "    print(label)\n",
    "    print(scipy.stats.ttest_rel(att, unatt))\n",
    "    print()"
   ]
  },
  {
   "cell_type": "markdown",
   "metadata": {},
   "source": [
    "# Category versus novel diffs"
   ]
  },
  {
   "cell_type": "code",
   "execution_count": 26,
   "metadata": {},
   "outputs": [],
   "source": [
    "# Exp 1: mean(Side & Full) - mean(Novel)\n",
    "# versus\n",
    "# Exp 2: mean(Side & Full) - mean(Novel)\n",
    "\n",
    "# Exp 1: mean(Cat & Full) - mean(Novel)\n",
    "# versus\n",
    "# Exp 2: mean(Cat & Full) - mean(Novel)\n",
    "\n",
    "\n",
    "# Experiment 1: ( (mean(Cat & Full) - mean(Novel))  -    (mean(Side & Full) - mean(Novel)) )    \n",
    "# versus\n",
    "# Experiment 2: ( (mean(Cat & Full) - mean(Novel))   -    (mean(Side & Full) - mean(Novel)) )    "
   ]
  },
  {
   "cell_type": "code",
   "execution_count": 27,
   "metadata": {},
   "outputs": [
    {
     "name": "stdout",
     "output_type": "stream",
     "text": [
      "Experiment_1\n",
      "Ttest_relResult(statistic=2.0408065546020406, pvalue=0.0504655227194427)\n",
      "\n",
      "Experiment_2\n",
      "Ttest_relResult(statistic=-3.659203543584972, pvalue=0.0010005362417606367)\n",
      "\n",
      "\n",
      "Feature boost relative to Location boost, Exp1 vs Exp 2\n",
      "Ttest_indResult(statistic=3.9456393034115114, pvalue=0.00021738230280496541)\n",
      "\n",
      "Location boost relative to novel, Exp2 vs Exp1\n",
      "Ttest_indResult(statistic=0.051829281712867485, pvalue=0.9588428178685637)\n"
     ]
    }
   ],
   "source": [
    "diffs = {'Experiment_1':[], 'Experiment_2':[]}\n",
    "side_diffs = {'Experiment_1':[], 'Experiment_2':[]}\n",
    "\n",
    "for d,label in zip([exp1_Novel, exp2_Novel],['Experiment_1', 'Experiment_2']):\n",
    "    cat_nov = []\n",
    "    side_nov = []\n",
    "    \n",
    "    for s in d['Subject'].unique():\n",
    "        side = d[(d['Subject']==s)&(d['Attention Level'].isin(['Side','Full']))]['Familiarity Rating'].mean()\n",
    "        cat = d[(d['Subject']==s)&(d['Attention Level'].isin(['Category', 'Full']))]['Familiarity Rating'].mean()\n",
    "        nov = d[(d['Subject']==s) &(d['Attention Level']=='Novel')]['Familiarity Rating'].mean()\n",
    "        \n",
    "        cat_nov.append(cat - nov)\n",
    "        side_nov.append(side - nov)\n",
    "        \n",
    "        \n",
    "    print(label)\n",
    "    print(scipy.stats.ttest_rel(cat_nov, side_nov))\n",
    "    print()\n",
    "    \n",
    "    side_diffs[label] = side_nov\n",
    "    diff = [x-y for x,y in zip(cat_nov,side_nov)]\n",
    "    diffs[label] = diff\n",
    "    \n",
    "print()\n",
    "print('Feature boost relative to Location boost, Exp1 vs Exp 2')\n",
    "print(scipy.stats.ttest_ind(diffs['Experiment_1'], diffs['Experiment_2']))\n",
    "print()\n",
    "print('Location boost relative to novel, Exp2 vs Exp1')\n",
    "print(scipy.stats.ttest_ind(side_diffs['Experiment_2'], side_diffs['Experiment_1']))"
   ]
  },
  {
   "cell_type": "markdown",
   "metadata": {},
   "source": [
    "### t-tests comparing familiarity for (attended category + attended location old images) versus (unattended category + attended location old images)"
   ]
  },
  {
   "cell_type": "code",
   "execution_count": 28,
   "metadata": {},
   "outputs": [
    {
     "name": "stdout",
     "output_type": "stream",
     "text": [
      "Experiment_1\n",
      "Ttest_relResult(statistic=8.97100971289351, pvalue=7.300903452759381e-10)\n",
      "\n",
      "Experiment_2\n",
      "Ttest_relResult(statistic=3.688022702047958, pvalue=0.000926607823310365)\n",
      "\n"
     ]
    }
   ],
   "source": [
    "for d,label in zip([exp1, exp2],['Experiment_1', 'Experiment_2']):\n",
    "    a_s = []\n",
    "    b_s = []\n",
    "\n",
    "    cat_nov = []\n",
    "    side_nov = []\n",
    "    \n",
    "    for s in d['Subject'].unique():\n",
    "        \n",
    "        a = d[(d['Subject']==s)&(d['Attention Level'].isin(['Side','Full','Cat']))]['Familiarity Rating'].mean()\n",
    "        b = d[(d['Subject']==s)&(d['Attention Level'].isin(['Side', 'Full','None']))]['Familiarity Rating'].mean()\n",
    "        #nov = d[(d['Subject']==s) &(d['Attention Level']=='Novel')]['Familiarity Rating'].mean()\n",
    "        \n",
    "        a_s.append(a)\n",
    "        b_s.append(b)\n",
    "        \n",
    "    print(label)\n",
    "    print(scipy.stats.ttest_rel(a_s, b_s))\n",
    "    print()"
   ]
  },
  {
   "cell_type": "markdown",
   "metadata": {},
   "source": [
    "# Plot Data"
   ]
  },
  {
   "cell_type": "markdown",
   "metadata": {},
   "source": [
    "# Violin Plots - Full Data"
   ]
  },
  {
   "cell_type": "code",
   "execution_count": 29,
   "metadata": {
    "scrolled": true
   },
   "outputs": [
    {
     "name": "stdout",
     "output_type": "stream",
     "text": [
      "Experiment_1: Average Familiarity by Attention Level\n"
     ]
    },
    {
     "data": {
      "image/png": "[encoded data removed]",
      "text/plain": [
       "<Figure size 432x288 with 1 Axes>"
      ]
     },
     "metadata": {},
     "output_type": "display_data"
    },
    {
     "name": "stdout",
     "output_type": "stream",
     "text": [
      "Experiment_2: Average Familiarity by Attention Level\n",
      "Nov_Cued: independent ttest\n",
      "Nov_Un: independent ttest\n"
     ]
    },
    {
     "data": {
      "image/png": "[encoded data removed]",
      "text/plain": [
       "<Figure size 432x288 with 1 Axes>"
      ]
     },
     "metadata": {},
     "output_type": "display_data"
    }
   ],
   "source": [
    "stat_dict_full = {'Experiment_1':{}, 'Experiment_2':{}}\n",
    "\n",
    "# color list \n",
    "col = ['r','orange','tan','purple','blue','grey']\n",
    "col_neg = ['grey','blue', 'purple', 'tan', 'orange', 'r']\n",
    "\n",
    "# cat list\n",
    "cats = ['Full','Category','Nov_Cued','Side','None','Nov_Un']\n",
    "\n",
    "# plot settings\n",
    "sb.set_style(\"white\")\n",
    "plt.grid(False)\n",
    "plt.rc('xtick', labelsize=15)\n",
    "plt.rc('ytick', labelsize=15)\n",
    "plt.xlabel('Attention Level',    fontsize = 20)\n",
    "plt.ylabel('Familiarity Rating', fontsize = 20)\n",
    "\n",
    "# for each experiment, group and plot\n",
    "for d,label in zip([exp1, exp2],['Experiment_1', 'Experiment_2']):\n",
    "    \n",
    "    d = d[d['Trial Type']=='Memory']\n",
    "    \n",
    "    data = d.groupby(['Subject','Attention Level', 'Category'], as_index = False).mean()\n",
    "    print(label + ': Average Familiarity by Attention Level')\n",
    "    sb_plot = sb.violinplot(x='Attention Level', y='Familiarity Rating', \n",
    "                 data = data, hue='Category', split=True,\n",
    "                 order=cats)\n",
    "    sb_plot.set(ylim=(.2, 9))\n",
    "    ax1 = sb_plot.axes\n",
    "    \n",
    "    \n",
    "    ### WITHIN VIOLIN SIGNIFICANCE FOR PLOTTING ###\n",
    "    t_draw = {}\n",
    "    \n",
    "    for c in data['Attention Level'].unique():\n",
    "        \n",
    "        first  = list(data[(data['Attention Level']==c) & (data['Category']=='Face')]['Familiarity Rating'])\n",
    "        second = list(data[(data['Attention Level']==c) & (data['Category']=='Place')]['Familiarity Rating'])\n",
    "        \n",
    "        if len(first)==len(second):\n",
    "            t = scipy.stats.ttest_rel(first, second)\n",
    "        else:\n",
    "            print(c+': independent ttest')\n",
    "            t = scipy.stats.ttest_ind(first, second)  \n",
    "        \n",
    "        if t[1]<.001:\n",
    "            t_draw[c] = '***'\n",
    "            \n",
    "        elif t[1]<.01:\n",
    "            t_draw[c] = '**'\n",
    "        \n",
    "        elif t[1]<.05:\n",
    "            t_draw[c] = '*'\n",
    "            \n",
    "        elif t[1]<.056:\n",
    "            t_draw[c] = '+'\n",
    "    \n",
    "    ### SIGNIFICANCE FOR PLOTTING ###\n",
    "    stat_dict = {}\n",
    "    #stat_dict_full = {'Experiment_1':{}, 'Experiment_2':{}}\n",
    "    k = data.groupby(['Subject','Attention Level'],as_index=False).mean()\n",
    "\n",
    "    for pair in list(itertools.combinations(cats, r=2)):\n",
    "        t = stats.ttest_rel(k[k['Attention Level']==pair[0]]['Familiarity Rating'], \n",
    "                            k[k['Attention Level']==pair[1]]['Familiarity Rating'])\n",
    "        stat_dict_full[label][pair] = {'t': t.statistic, 'p': t.pvalue}\n",
    "\n",
    "        # dictionary where every key is a pair of sig dif categories \n",
    "        if t[1]<.056:\n",
    "            stat_dict[pair] = {'t': t.statistic, 'p': t.pvalue}\n",
    "        \n",
    "    ### ADD SIG BARS FOR POSITIVE RELATIONSHIPS TO PLOT ###\n",
    "    plotted_cats = []\n",
    "    to_be_plotted = []\n",
    "    \n",
    "    line_counter = 0\n",
    "    \n",
    "    for idx,c in enumerate(cats):\n",
    "    # for each category\n",
    "    \n",
    "        x = sig_bars(c, cats, stat_dict)\n",
    "        # get first series of lines\n",
    "        \n",
    "        for idx,a in enumerate(x):\n",
    "            \n",
    "            if (a['categories'] not in plotted_cats) and (a!=np.nan) and (type(a['categories'])!=float):\n",
    "                a['y'] = a['y'] + line_counter\n",
    "                to_be_plotted.append(a)\n",
    "                plotted_cats.append(a['categories'])\n",
    "                \n",
    "                #print('first')\n",
    "                #print(plotted_cats)\n",
    "            \n",
    "            if a['next']!=0:\n",
    "            # if next category also has pos, significant relationship\n",
    "            \n",
    "                fake_first = a['categories'][0]\n",
    "                b = a\n",
    "                \n",
    "                while b['next']!= 0 :\n",
    "                    \n",
    "                    second_fake_first = b['categories'][0]\n",
    "                    \n",
    "                    b = sig_bars(b['next'], cats, stat_dict, adjust = (cats.index(c)-cats.index(b['next']))/len(cats))[0]\n",
    "                    # get params for that bar, adjust height --> same level as first line\n",
    "                    if (b['categories'] not in plotted_cats) and (b != np.nan) and (type(b['categories'])!=float):\n",
    "                        b['y'] = b['y'] + line_counter\n",
    "                        to_be_plotted.append(b)\n",
    "                            \n",
    "                        plotted_cats.append(b['categories'])\n",
    "                        plotted_cats.append((fake_first, b['categories'][1]))\n",
    "                        plotted_cats.append((second_fake_first, b['categories'][1]))\n",
    "                        \n",
    "                        if type(plotted_cats[-1]) != float:\n",
    "                            l = plotted_cats[-1][0]\n",
    "\n",
    "                        plotted_cats.append((l,plotted_cats[-1][1]))\n",
    "                        plotted_cats.append((fake_first,plotted_cats[-1][1]))\n",
    "           \n",
    "            line_counter += .3\n",
    "                        \n",
    "            if type(plotted_cats[-1]) == str:\n",
    "                fake_last = plotted_cats[-1][1]\n",
    "                plotted_cats.append((fake_first, fake_last))\n",
    "    \n",
    "    # get the unique y values\n",
    "    y_vals = [x['y'] for x in to_be_plotted]\n",
    "    unique = list(set(y_vals))\n",
    "    unique.sort(reverse=True)\n",
    "\n",
    "    # move each to desired location\n",
    "    new_to_be_plotted = []\n",
    "\n",
    "    for idx,u in enumerate(unique):\n",
    "        for line in to_be_plotted:\n",
    "            if line['y']==u:\n",
    "                line['y'] = (idx/3)+5.2\n",
    "                new_to_be_plotted.append(line)\n",
    "\n",
    "    for each in new_to_be_plotted:\n",
    "        ax1.axhline(each['y'], ls='-', xmin = each['x_min'], xmax = each['x_max'], \n",
    "            linewidth = each['width'], color = col[cats.index(each['categories'][0])])\n",
    "\n",
    "    ### ADD SIG BARS FOR NEGATIVE RELATIONSHIPS TO PLOT ###\n",
    "    plotted_cats = []\n",
    "    to_be_plotted = []\n",
    "    \n",
    "    line_counter = 0\n",
    "    \n",
    "    for idx,c in enumerate(cats):\n",
    "    # for each category \n",
    "    \n",
    "        x = sig_bars_neg(c, cats, stat_dict)\n",
    "        # get first series of lines\n",
    "        \n",
    "        for idx,a in enumerate(x):\n",
    "            \n",
    "            if (a['categories'] not in plotted_cats) and (a!=np.nan) and (type(a['categories'])!=float):\n",
    "                a['y'] = a['y'] + line_counter\n",
    "                to_be_plotted.append(a)\n",
    "                plotted_cats.append(a['categories'])\n",
    "            \n",
    "            if a['next']!=0:\n",
    "            # if next category also has pos, significant relationship\n",
    "                \n",
    "                fake_first = a['categories'][0]\n",
    "                b = a\n",
    "                \n",
    "                while b['next']!= 0 :\n",
    "                    \n",
    "                    second_fake_first = b['categories'][0]\n",
    "                    \n",
    "                    b = sig_bars_neg(b['next'], cats, stat_dict, adjust = (cats.index(c)-cats.index(b['next']))/len(cats))[0]\n",
    "                    # get params for that bar, adjust height --> same level as first line\n",
    "\n",
    "                    if (b['categories'] not in plotted_cats) and (b != np.nan) and (type(b['categories'])!=float):\n",
    "                        \n",
    "                        b['y'] = b['y'] + line_counter\n",
    "                        to_be_plotted.append(b)\n",
    "                        \n",
    "                        plotted_cats.append(b['categories'])\n",
    "                        \n",
    "                        plotted_cats.append((fake_first, b['categories'][1]))\n",
    "                        plotted_cats.append((second_fake_first, b['categories'][1]))\n",
    "\n",
    "                        if type(plotted_cats[-1]) != float:\n",
    "                            l = plotted_cats[-1][0]\n",
    "                                       \n",
    "            line_counter += .3\n",
    "            \n",
    "                                    \n",
    "            if len(plotted_cats)>0 and type(plotted_cats[-1]) == str:\n",
    "                fake_last = plotted_cats[-1][1]\n",
    "                plotted_cats.append((fake_first, fake_last))\n",
    "    \n",
    "    # get the unique y values\n",
    "    y_vals = [x['y'] for x in to_be_plotted]\n",
    "    unique = list(set(y_vals))\n",
    "    unique.sort(reverse=True)\n",
    "\n",
    "    # move each to desired location\n",
    "    new_to_be_plotted = []\n",
    "\n",
    "    for idx,u in enumerate(unique):\n",
    "        for line in to_be_plotted:\n",
    "            if line['y']==u:\n",
    "                line['y'] = (idx/3)+7.3\n",
    "                new_to_be_plotted.append(line)\n",
    "                \n",
    "\n",
    "    for each in new_to_be_plotted:\n",
    "        ax1.axhline(each['y'], ls='-', xmin = each['x_min'], xmax = each['x_max'], \n",
    "            linewidth = each['width'], color = col[-cats.index(each['categories'][1])])\n",
    "    for stars in t_draw:\n",
    "        ax1.text((cats.index(stars)+1), 4.5, t_draw[stars], horizontalalignment='center', size='large', color='black')\n",
    "        \n",
    "        \n",
    "\n",
    "    plt.savefig(label + \"vio.pdf\")    \n",
    "    \n",
    "    plt.legend(bbox_to_anchor=(1.05, 1), loc=2, borderaxespad=0.)\n",
    "    plt.show()"
   ]
  },
  {
   "cell_type": "code",
   "execution_count": 30,
   "metadata": {},
   "outputs": [
    {
     "name": "stdout",
     "output_type": "stream",
     "text": [
      "Experiment_1: Average Familiarity by Attention Level\n"
     ]
    },
    {
     "data": {
      "image/png": "[encoded data removed]",
      "text/plain": [
       "<Figure size 432x288 with 1 Axes>"
      ]
     },
     "metadata": {},
     "output_type": "display_data"
    },
    {
     "name": "stdout",
     "output_type": "stream",
     "text": [
      "Experiment_2: Average Familiarity by Attention Level\n",
      "Category: independent ttest\n",
      "None: independent ttest\n",
      "Nov_Cued: independent ttest\n",
      "Nov_Un: independent ttest\n",
      "Side: independent ttest\n"
     ]
    },
    {
     "data": {
      "image/png": "[encoded data removed]",
      "text/plain": [
       "<Figure size 432x288 with 1 Axes>"
      ]
     },
     "metadata": {},
     "output_type": "display_data"
    }
   ],
   "source": [
    "stat_dict_full = {'Experiment_1':{}, 'Experiment_2':{}}\n",
    "\n",
    "# color list \n",
    "col = ['r','orange','tan','purple','blue','grey']\n",
    "col_neg = ['grey','blue', 'purple', 'tan', 'orange', 'r']\n",
    "\n",
    "# cat list\n",
    "cats = ['Full','Category','Nov_Cued','Side','None','Nov_Un']\n",
    "\n",
    "# plot settings\n",
    "sb.set_style(\"white\")\n",
    "plt.grid(False)\n",
    "plt.rc('xtick', labelsize=15)\n",
    "plt.rc('ytick', labelsize=15)\n",
    "plt.xlabel('Attention Level',    fontsize = 20)\n",
    "plt.ylabel('Familiarity Rating', fontsize = 20)\n",
    "\n",
    "# for each experiment, group and plot\n",
    "for d,label in zip([exp1, exp2],['Experiment_1', 'Experiment_2']):\n",
    "    \n",
    "    d = d[(d['Trial Type']=='Memory') & (d['Trial']<10)]\n",
    "    \n",
    "    data = d.groupby(['Subject','Attention Level', 'Category'], as_index = False).mean()\n",
    "    print(label + ': Average Familiarity by Attention Level')\n",
    "    sb_plot = sb.violinplot(x='Attention Level', y='Familiarity Rating', \n",
    "                 data = data, hue='Category', split=True,\n",
    "                 order=cats)\n",
    "    sb_plot.set(ylim=(.2, 9))\n",
    "    ax1 = sb_plot.axes\n",
    "    \n",
    "    \n",
    "    ### WITHIN VIOLIN SIGNIFICANCE FOR PLOTTING ###\n",
    "    t_draw = {}\n",
    "    \n",
    "    for c in data['Attention Level'].unique():\n",
    "        \n",
    "        first  = list(data[(data['Attention Level']==c) & (data['Category']=='Face')]['Familiarity Rating'])\n",
    "        second = list(data[(data['Attention Level']==c) & (data['Category']=='Place')]['Familiarity Rating'])\n",
    "        \n",
    "        if len(first)==len(second):\n",
    "            t = scipy.stats.ttest_rel(first, second)\n",
    "        else:\n",
    "            print(c+': independent ttest')\n",
    "            t = scipy.stats.ttest_ind(first, second)  \n",
    "        \n",
    "        if t[1]<.001:\n",
    "            t_draw[c] = '***'\n",
    "            \n",
    "        elif t[1]<.01:\n",
    "            t_draw[c] = '**'\n",
    "        \n",
    "        elif t[1]<.05:\n",
    "            t_draw[c] = '*'\n",
    "            \n",
    "        elif t[1]<.056:\n",
    "            t_draw[c] = '+'\n",
    "    \n",
    "    ### SIGNIFICANCE FOR PLOTTING ###\n",
    "    stat_dict = {}\n",
    "    #stat_dict_full = {'Experiment_1':{}, 'Experiment_2':{}}\n",
    "    k = data.groupby(['Subject','Attention Level'],as_index=False).mean()\n",
    "\n",
    "    for pair in list(itertools.combinations(cats, r=2)):\n",
    "        t = stats.ttest_rel(k[k['Attention Level']==pair[0]]['Familiarity Rating'], \n",
    "                            k[k['Attention Level']==pair[1]]['Familiarity Rating'])\n",
    "        stat_dict_full[label][pair] = {'t': t.statistic, 'p': t.pvalue}\n",
    "\n",
    "        # dictionary where every key is a pair of sig dif categories \n",
    "        if t[1]<.056:\n",
    "            stat_dict[pair] = {'t': t.statistic, 'p': t.pvalue}\n",
    "        \n",
    "    ### ADD SIG BARS FOR POSITIVE RELATIONSHIPS TO PLOT ###\n",
    "    plotted_cats = []\n",
    "    to_be_plotted = []\n",
    "    \n",
    "    line_counter = 0\n",
    "    \n",
    "    for idx,c in enumerate(cats):\n",
    "    # for each category\n",
    "    \n",
    "        x = sig_bars(c, cats, stat_dict)\n",
    "        # get first series of lines\n",
    "        \n",
    "        for idx,a in enumerate(x):\n",
    "            \n",
    "            if (a['categories'] not in plotted_cats) and (a!=np.nan) and (type(a['categories'])!=float):\n",
    "                a['y'] = a['y'] + line_counter\n",
    "                to_be_plotted.append(a)\n",
    "                plotted_cats.append(a['categories'])\n",
    "                \n",
    "                #print('first')\n",
    "                #print(plotted_cats)\n",
    "            \n",
    "            if a['next']!=0:\n",
    "            # if next category also has pos, significant relationship\n",
    "            \n",
    "                fake_first = a['categories'][0]\n",
    "                b = a\n",
    "                \n",
    "                while b['next']!= 0 :\n",
    "                    \n",
    "                    second_fake_first = b['categories'][0]\n",
    "                    \n",
    "                    b = sig_bars(b['next'], cats, stat_dict, adjust = (cats.index(c)-cats.index(b['next']))/len(cats))[0]\n",
    "                    # get params for that bar, adjust height --> same level as first line\n",
    "                    if (b['categories'] not in plotted_cats) and (b != np.nan) and (type(b['categories'])!=float):\n",
    "                        b['y'] = b['y'] + line_counter\n",
    "                        to_be_plotted.append(b)\n",
    "                            \n",
    "                        plotted_cats.append(b['categories'])\n",
    "                        plotted_cats.append((fake_first, b['categories'][1]))\n",
    "                        plotted_cats.append((second_fake_first, b['categories'][1]))\n",
    "                        \n",
    "                        if type(plotted_cats[-1]) != float:\n",
    "                            l = plotted_cats[-1][0]\n",
    "\n",
    "                        plotted_cats.append((l,plotted_cats[-1][1]))\n",
    "                        plotted_cats.append((fake_first,plotted_cats[-1][1]))\n",
    "           \n",
    "            line_counter += .3\n",
    "                        \n",
    "            if type(plotted_cats[-1]) == str:\n",
    "                fake_last = plotted_cats[-1][1]\n",
    "                plotted_cats.append((fake_first, fake_last))\n",
    "    \n",
    "    # get the unique y values\n",
    "    y_vals = [x['y'] for x in to_be_plotted]\n",
    "    unique = list(set(y_vals))\n",
    "    unique.sort(reverse=True)\n",
    "\n",
    "    # move each to desired location\n",
    "    new_to_be_plotted = []\n",
    "\n",
    "    for idx,u in enumerate(unique):\n",
    "        for line in to_be_plotted:\n",
    "            if line['y']==u:\n",
    "                line['y'] = (idx/3)+5.2\n",
    "                new_to_be_plotted.append(line)\n",
    "\n",
    "    for each in new_to_be_plotted:\n",
    "        ax1.axhline(each['y'], ls='-', xmin = each['x_min'], xmax = each['x_max'], \n",
    "            linewidth = each['width'], color = col[cats.index(each['categories'][0])])\n",
    "\n",
    "    ### ADD SIG BARS FOR NEGATIVE RELATIONSHIPS TO PLOT ###\n",
    "    plotted_cats = []\n",
    "    to_be_plotted = []\n",
    "    \n",
    "    line_counter = 0\n",
    "    \n",
    "    for idx,c in enumerate(cats):\n",
    "    # for each category \n",
    "    \n",
    "        x = sig_bars_neg(c, cats, stat_dict)\n",
    "        # get first series of lines\n",
    "        \n",
    "        for idx,a in enumerate(x):\n",
    "            \n",
    "            if (a['categories'] not in plotted_cats) and (a!=np.nan) and (type(a['categories'])!=float):\n",
    "                a['y'] = a['y'] + line_counter\n",
    "                to_be_plotted.append(a)\n",
    "                plotted_cats.append(a['categories'])\n",
    "            \n",
    "            if a['next']!=0:\n",
    "            # if next category also has pos, significant relationship\n",
    "                \n",
    "                fake_first = a['categories'][0]\n",
    "                b = a\n",
    "                \n",
    "                while b['next']!= 0 :\n",
    "                    \n",
    "                    second_fake_first = b['categories'][0]\n",
    "                    \n",
    "                    b = sig_bars_neg(b['next'], cats, stat_dict, adjust = (cats.index(c)-cats.index(b['next']))/len(cats))[0]\n",
    "                    # get params for that bar, adjust height --> same level as first line\n",
    "\n",
    "                    if (b['categories'] not in plotted_cats) and (b != np.nan) and (type(b['categories'])!=float):\n",
    "                        \n",
    "                        b['y'] = b['y'] + line_counter\n",
    "                        to_be_plotted.append(b)\n",
    "                        \n",
    "                        plotted_cats.append(b['categories'])\n",
    "                        \n",
    "                        plotted_cats.append((fake_first, b['categories'][1]))\n",
    "                        plotted_cats.append((second_fake_first, b['categories'][1]))\n",
    "\n",
    "                        if type(plotted_cats[-1]) != float:\n",
    "                            l = plotted_cats[-1][0]\n",
    "                                       \n",
    "            line_counter += .3\n",
    "            \n",
    "                                    \n",
    "            if len(plotted_cats)>0 and type(plotted_cats[-1]) == str:\n",
    "                fake_last = plotted_cats[-1][1]\n",
    "                plotted_cats.append((fake_first, fake_last))\n",
    "    \n",
    "    # get the unique y values\n",
    "    y_vals = [x['y'] for x in to_be_plotted]\n",
    "    unique = list(set(y_vals))\n",
    "    unique.sort(reverse=True)\n",
    "\n",
    "    # move each to desired location\n",
    "    new_to_be_plotted = []\n",
    "\n",
    "    for idx,u in enumerate(unique):\n",
    "        for line in to_be_plotted:\n",
    "            if line['y']==u:\n",
    "                line['y'] = (idx/3)+7.3\n",
    "                new_to_be_plotted.append(line)\n",
    "                \n",
    "\n",
    "    for each in new_to_be_plotted:\n",
    "        ax1.axhline(each['y'], ls='-', xmin = each['x_min'], xmax = each['x_max'], \n",
    "            linewidth = each['width'], color = col[-cats.index(each['categories'][1])])\n",
    "    for stars in t_draw:\n",
    "        ax1.text((cats.index(stars)+1), 4.5, t_draw[stars], horizontalalignment='center', size='large', color='black')\n",
    "        \n",
    "        \n",
    "\n",
    "    plt.savefig(label + \"vio.pdf\")    \n",
    "    \n",
    "    plt.legend(bbox_to_anchor=(1.05, 1), loc=2, borderaxespad=0.)\n",
    "    plt.show()"
   ]
  },
  {
   "cell_type": "code",
   "execution_count": null,
   "metadata": {},
   "outputs": [],
   "source": [
    "stat_dict_full = {'Experiment_1':{}, 'Experiment_2':{}}\n",
    "\n",
    "# color list \n",
    "col = ['r','orange','tan','purple','blue','grey']\n",
    "col_neg = ['grey','blue', 'purple', 'tan', 'orange', 'r']\n",
    "\n",
    "# cat list\n",
    "cats = ['Full','Category','Nov_Cued','Side','None','Nov_Un']\n",
    "\n",
    "# plot settings\n",
    "sb.set_style(\"white\")\n",
    "plt.grid(False)\n",
    "plt.rc('xtick', labelsize=15)\n",
    "plt.rc('ytick', labelsize=15)\n",
    "plt.xlabel('Attention Level',    fontsize = 20)\n",
    "plt.ylabel('Familiarity Rating', fontsize = 20)\n",
    "\n",
    "# for each experiment, group and plot\n",
    "for d,label in zip([exp1, exp2],['Experiment_1', 'Experiment_2']):\n",
    "    \n",
    "    d = d[(d['Trial Type']=='Memory') & (d['Trial']>29)]\n",
    "    \n",
    "    data = d.groupby(['Subject','Attention Level', 'Category'], as_index = False).mean()\n",
    "    print(label + ': Average Familiarity by Attention Level')\n",
    "    sb_plot = sb.violinplot(x='Attention Level', y='Familiarity Rating', \n",
    "                 data = data, hue='Category', split=True,\n",
    "                 order=cats)\n",
    "    sb_plot.set(ylim=(.2, 9))\n",
    "    ax1 = sb_plot.axes\n",
    "    \n",
    "    \n",
    "    ### WITHIN VIOLIN SIGNIFICANCE FOR PLOTTING ###\n",
    "    t_draw = {}\n",
    "    \n",
    "    for c in data['Attention Level'].unique():\n",
    "        \n",
    "        first  = list(data[(data['Attention Level']==c) & (data['Category']=='Face')]['Familiarity Rating'])\n",
    "        second = list(data[(data['Attention Level']==c) & (data['Category']=='Place')]['Familiarity Rating'])\n",
    "        \n",
    "        if len(first)==len(second):\n",
    "            t = scipy.stats.ttest_rel(first, second)\n",
    "        else:\n",
    "            print(c+': independent ttest')\n",
    "            t = scipy.stats.ttest_ind(first, second)  \n",
    "        \n",
    "        if t[1]<.001:\n",
    "            t_draw[c] = '***'\n",
    "            \n",
    "        elif t[1]<.01:\n",
    "            t_draw[c] = '**'\n",
    "        \n",
    "        elif t[1]<.05:\n",
    "            t_draw[c] = '*'\n",
    "            \n",
    "        elif t[1]<.056:\n",
    "            t_draw[c] = '+'\n",
    "    \n",
    "    ### SIGNIFICANCE FOR PLOTTING ###\n",
    "    stat_dict = {}\n",
    "    #stat_dict_full = {'Experiment_1':{}, 'Experiment_2':{}}\n",
    "    k = data.groupby(['Subject','Attention Level'],as_index=False).mean()\n",
    "\n",
    "    for pair in list(itertools.combinations(cats, r=2)):\n",
    "        t = stats.ttest_rel(k[k['Attention Level']==pair[0]]['Familiarity Rating'], \n",
    "                            k[k['Attention Level']==pair[1]]['Familiarity Rating'])\n",
    "        stat_dict_full[label][pair] = {'t': t.statistic, 'p': t.pvalue}\n",
    "\n",
    "        # dictionary where every key is a pair of sig dif categories \n",
    "        if t[1]<.056:\n",
    "            stat_dict[pair] = {'t': t.statistic, 'p': t.pvalue}\n",
    "        \n",
    "    ### ADD SIG BARS FOR POSITIVE RELATIONSHIPS TO PLOT ###\n",
    "    plotted_cats = []\n",
    "    to_be_plotted = []\n",
    "    \n",
    "    line_counter = 0\n",
    "    \n",
    "    for idx,c in enumerate(cats):\n",
    "    # for each category\n",
    "    \n",
    "        x = sig_bars(c, cats, stat_dict)\n",
    "        # get first series of lines\n",
    "        \n",
    "        for idx,a in enumerate(x):\n",
    "            \n",
    "            if (a['categories'] not in plotted_cats) and (a!=np.nan) and (type(a['categories'])!=float):\n",
    "                a['y'] = a['y'] + line_counter\n",
    "                to_be_plotted.append(a)\n",
    "                plotted_cats.append(a['categories'])\n",
    "                \n",
    "                #print('first')\n",
    "                #print(plotted_cats)\n",
    "            \n",
    "            if a['next']!=0:\n",
    "            # if next category also has pos, significant relationship\n",
    "            \n",
    "                fake_first = a['categories'][0]\n",
    "                b = a\n",
    "                \n",
    "                while b['next']!= 0 :\n",
    "                    \n",
    "                    second_fake_first = b['categories'][0]\n",
    "                    \n",
    "                    b = sig_bars(b['next'], cats, stat_dict, adjust = (cats.index(c)-cats.index(b['next']))/len(cats))[0]\n",
    "                    # get params for that bar, adjust height --> same level as first line\n",
    "                    if (b['categories'] not in plotted_cats) and (b != np.nan) and (type(b['categories'])!=float):\n",
    "                        b['y'] = b['y'] + line_counter\n",
    "                        to_be_plotted.append(b)\n",
    "                            \n",
    "                        plotted_cats.append(b['categories'])\n",
    "                        plotted_cats.append((fake_first, b['categories'][1]))\n",
    "                        plotted_cats.append((second_fake_first, b['categories'][1]))\n",
    "                        \n",
    "                        if type(plotted_cats[-1]) != float:\n",
    "                            l = plotted_cats[-1][0]\n",
    "\n",
    "                        plotted_cats.append((l,plotted_cats[-1][1]))\n",
    "                        plotted_cats.append((fake_first,plotted_cats[-1][1]))\n",
    "           \n",
    "            line_counter += .3\n",
    "                        \n",
    "            if type(plotted_cats[-1]) == str:\n",
    "                fake_last = plotted_cats[-1][1]\n",
    "                plotted_cats.append((fake_first, fake_last))\n",
    "    \n",
    "    # get the unique y values\n",
    "    y_vals = [x['y'] for x in to_be_plotted]\n",
    "    unique = list(set(y_vals))\n",
    "    unique.sort(reverse=True)\n",
    "\n",
    "    # move each to desired location\n",
    "    new_to_be_plotted = []\n",
    "\n",
    "    for idx,u in enumerate(unique):\n",
    "        for line in to_be_plotted:\n",
    "            if line['y']==u:\n",
    "                line['y'] = (idx/3)+5.2\n",
    "                new_to_be_plotted.append(line)\n",
    "\n",
    "    for each in new_to_be_plotted:\n",
    "        ax1.axhline(each['y'], ls='-', xmin = each['x_min'], xmax = each['x_max'], \n",
    "            linewidth = each['width'], color = col[cats.index(each['categories'][0])])\n",
    "\n",
    "    ### ADD SIG BARS FOR NEGATIVE RELATIONSHIPS TO PLOT ###\n",
    "    plotted_cats = []\n",
    "    to_be_plotted = []\n",
    "    \n",
    "    line_counter = 0\n",
    "    \n",
    "    for idx,c in enumerate(cats):\n",
    "    # for each category \n",
    "    \n",
    "        x = sig_bars_neg(c, cats, stat_dict)\n",
    "        # get first series of lines\n",
    "        \n",
    "        for idx,a in enumerate(x):\n",
    "            \n",
    "            if (a['categories'] not in plotted_cats) and (a!=np.nan) and (type(a['categories'])!=float):\n",
    "                a['y'] = a['y'] + line_counter\n",
    "                to_be_plotted.append(a)\n",
    "                plotted_cats.append(a['categories'])\n",
    "            \n",
    "            if a['next']!=0:\n",
    "            # if next category also has pos, significant relationship\n",
    "                \n",
    "                fake_first = a['categories'][0]\n",
    "                b = a\n",
    "                \n",
    "                while b['next']!= 0 :\n",
    "                    \n",
    "                    second_fake_first = b['categories'][0]\n",
    "                    \n",
    "                    b = sig_bars_neg(b['next'], cats, stat_dict, adjust = (cats.index(c)-cats.index(b['next']))/len(cats))[0]\n",
    "                    # get params for that bar, adjust height --> same level as first line\n",
    "\n",
    "                    if (b['categories'] not in plotted_cats) and (b != np.nan) and (type(b['categories'])!=float):\n",
    "                        \n",
    "                        b['y'] = b['y'] + line_counter\n",
    "                        to_be_plotted.append(b)\n",
    "                        \n",
    "                        plotted_cats.append(b['categories'])\n",
    "                        \n",
    "                        plotted_cats.append((fake_first, b['categories'][1]))\n",
    "                        plotted_cats.append((second_fake_first, b['categories'][1]))\n",
    "\n",
    "                        if type(plotted_cats[-1]) != float:\n",
    "                            l = plotted_cats[-1][0]\n",
    "                                       \n",
    "            line_counter += .3\n",
    "            \n",
    "                                    \n",
    "            if len(plotted_cats)>0 and type(plotted_cats[-1]) == str:\n",
    "                fake_last = plotted_cats[-1][1]\n",
    "                plotted_cats.append((fake_first, fake_last))\n",
    "    \n",
    "    # get the unique y values\n",
    "    y_vals = [x['y'] for x in to_be_plotted]\n",
    "    unique = list(set(y_vals))\n",
    "    unique.sort(reverse=True)\n",
    "\n",
    "    # move each to desired location\n",
    "    new_to_be_plotted = []\n",
    "\n",
    "    for idx,u in enumerate(unique):\n",
    "        for line in to_be_plotted:\n",
    "            if line['y']==u:\n",
    "                line['y'] = (idx/3)+7.3\n",
    "                new_to_be_plotted.append(line)\n",
    "                \n",
    "\n",
    "    for each in new_to_be_plotted:\n",
    "        ax1.axhline(each['y'], ls='-', xmin = each['x_min'], xmax = each['x_max'], \n",
    "            linewidth = each['width'], color = col[-cats.index(each['categories'][1])])\n",
    "    for stars in t_draw:\n",
    "        ax1.text((cats.index(stars)+1), 4.5, t_draw[stars], horizontalalignment='center', size='large', color='black')\n",
    "        \n",
    "        \n",
    "\n",
    "    plt.savefig(label + \"vio.pdf\")    \n",
    "    \n",
    "    plt.legend(bbox_to_anchor=(1.05, 1), loc=2, borderaxespad=0.)\n",
    "    plt.show()"
   ]
  },
  {
   "cell_type": "markdown",
   "metadata": {},
   "source": [
    "# Timecourse Plots"
   ]
  },
  {
   "cell_type": "code",
   "execution_count": 33,
   "metadata": {},
   "outputs": [],
   "source": [
    "# Apply sliding window\n",
    "window_length = 20\n",
    "\n",
    "exp1_mean_window = apply_window(exp1, window_length)\n",
    "exp2_mean_window = apply_window(exp2, window_length)\n",
    "\n",
    "# prepare data for plotting\n",
    "plot_data={}\n",
    "\n",
    "for data,key in zip([exp1_mean_window, exp2_mean_window],['exp1','exp2']):\n",
    "    \n",
    "    # average across all trials within each subject\n",
    "    group = data.reset_index().groupby(['Subject','Trial']).mean()\n",
    "    \n",
    "    # melt/restructure the data\n",
    "    group_melt = pd.melt(group.reset_index(), id_vars=['Subject','Trial'], \n",
    "                         value_vars=['Category', 'Full','None','Nov_Un', 'Nov_Cued','Side'])\n",
    "    \n",
    "    # assign data to dictionary key\n",
    "    plot_data[key] = group_melt"
   ]
  },
  {
   "cell_type": "code",
   "execution_count": 34,
   "metadata": {},
   "outputs": [],
   "source": [
    "# Prepare data for plotting\n",
    "plot_data={}\n",
    "\n",
    "for data,key in zip([exp1_mean_window, exp2_mean_window],['exp1','exp2']):\n",
    "    \n",
    "    # average across all trials within each subject\n",
    "    group = data.reset_index().groupby(['Subject','Trial']).mean()\n",
    "    \n",
    "    # melt/restructure the data\n",
    "    group_melt = pd.melt(group.reset_index(), id_vars=['Subject','Trial'], \n",
    "                         value_vars=['Category', 'Full','None','Nov_Un', 'Nov_Cued','Side'])\n",
    "                           #value_vars=['Category', 'Full','None','Nov_Cued','Nov_Un','Side'])\n",
    "    \n",
    "    # assign data to dictionary key\n",
    "    plot_data[key] = group_melt\n",
    "    \n",
    "# plotting color key\n",
    "palette = sb.color_palette(\"RdBu\", 20)\n",
    "# Cued category    -->  warm colors \n",
    "# Uncued category  -->  cool colors"
   ]
  },
  {
   "cell_type": "markdown",
   "metadata": {},
   "source": [
    "### Sliding Window - Familiarity Over Time"
   ]
  },
  {
   "cell_type": "markdown",
   "metadata": {},
   "source": [
    "### Sliding Window - Novel Images\n",
    "\n",
    "Exp 2: Novel Images that are not in the last-cued category have significantly higher familiarity ratings at the beginning of the memory block (first window) than they do at the end of the memory block (last window)."
   ]
  },
  {
   "cell_type": "code",
   "execution_count": 35,
   "metadata": {},
   "outputs": [],
   "source": [
    "def ranges(nums):\n",
    "    nums = sorted(set(nums))\n",
    "    gaps = [[s, e] for s, e in zip(nums, nums[1:]) if s+1 < e]\n",
    "    edges = iter(nums[:1] + sum(gaps, []) + nums[-1:])\n",
    "    return list(zip(edges, edges))\n"
   ]
  },
  {
   "cell_type": "code",
   "execution_count": 36,
   "metadata": {},
   "outputs": [
    {
     "name": "stdout",
     "output_type": "stream",
     "text": [
      "exp1: Sliding Window - Novel Images Only\n",
      "[True]\n"
     ]
    },
    {
     "data": {
      "image/png": "[encoded data removed]",
      "text/plain": [
       "<Figure size 432x288 with 1 Axes>"
      ]
     },
     "metadata": {},
     "output_type": "display_data"
    },
    {
     "name": "stdout",
     "output_type": "stream",
     "text": [
      "exp2: Sliding Window - Novel Images Only\n",
      "[False]\n"
     ]
    },
    {
     "data": {
      "image/png": "[encoded data removed]",
      "text/plain": [
       "<Figure size 432x288 with 1 Axes>"
      ]
     },
     "metadata": {},
     "output_type": "display_data"
    }
   ],
   "source": [
    "import scipy\n",
    "\n",
    "sb.set_style(\"white\")\n",
    "\n",
    "for key,label in zip(plot_data.keys(),['Experiment_1','Experiment_2']):\n",
    "    \n",
    "    print(key + ': Sliding Window - Novel Images Only')\n",
    "    \n",
    "    data = plot_data[key]\n",
    "    \n",
    "    # plot data\n",
    "    ax = sb.lineplot(x='Trial',y='value', hue = 'Attention Level', \n",
    "                data = data[data['Attention Level'].isin(['Nov_Un','Nov_Cued'])], # ci=None,\n",
    "                palette = {\"Full\": palette[0], \"Category\": palette[3], \"Nov_Cued\":palette[5], \n",
    "                            \"Side\": palette[19], \"None\": palette[16], \"Nov_Un\":palette[13]})\n",
    "    ax.set(ylim=(1.3, 2.3))\n",
    "    ax.set(xlim=(0, 39))\n",
    "    \n",
    "    plt.grid(False)\n",
    "    plt.rc('xtick', labelsize=15)\n",
    "    plt.rc('ytick', labelsize=15)\n",
    "    plt.xlabel('Attention Level',    fontsize = 20)\n",
    "    plt.ylabel('Familiarity Rating', fontsize = 20)\n",
    "    \n",
    "    plt.xlabel('Memory Trial')\n",
    "    plt.ylabel('Familiarity')\n",
    "    \n",
    "    # ttest at each timepoint ######################\n",
    "    ttest_data = timepoint_ttest(data, ['Nov_Cued','Nov_Un'])\n",
    "    print(ttest_data[ttest_data['Attention Level'].isin(['Nov_Un'])]['timepoint_t_truth'].unique())\n",
    "    \n",
    "    # add gret lines where pvalue is significant\n",
    "    index = ttest_data[(ttest_data['Attention Level']=='Nov_Un') & (ttest_data['timepoint_t_truth']==True)]['Trial'].tolist()\n",
    "    index = set(index)\n",
    "    \n",
    "    for x in ranges(index):\n",
    "        #print(x)\n",
    "        \n",
    "        if x[0] == x[1]:\n",
    "            x_new_0 = x[0]-.1\n",
    "            x_new_1 = x[1]+.1\n",
    "\n",
    "            plt.axhline( y=1.41, xmin=x_new_0*(1/39), xmax=x_new_1*(1/39), color=palette[13])\n",
    "            plt.axhline( y=1.4, xmin=x_new_0*(1/39), xmax=x_new_1*(1/39), color=palette[5])\n",
    "        \n",
    "        plt.axhline( y=1.41, xmin=x[0]*(1/39), xmax=x[1]*(1/39), color=palette[13])\n",
    "        plt.axhline( y=1.4, xmin=x[0]*(1/39), xmax=x[1]*(1/39), color=palette[5])\n",
    "        # plt.axvline(x, .1, .3, color='red')\n",
    "    \n",
    "    plt.xticks([0, 9, 19, 29, 39])\n",
    "    plt.savefig('Novel_tcourse_'+label+'.pdf')\n",
    "    plt.show()    \n",
    "    "
   ]
  },
  {
   "cell_type": "markdown",
   "metadata": {},
   "source": [
    "### Novel Image Difference Scores"
   ]
  },
  {
   "cell_type": "code",
   "execution_count": 37,
   "metadata": {
    "scrolled": true
   },
   "outputs": [
    {
     "name": "stdout",
     "output_type": "stream",
     "text": [
      "exp1\n"
     ]
    },
    {
     "data": {
      "image/png": "[encoded data removed]",
      "text/plain": [
       "<Figure size 432x288 with 1 Axes>"
      ]
     },
     "metadata": {},
     "output_type": "display_data"
    },
    {
     "name": "stdout",
     "output_type": "stream",
     "text": [
      "exp2\n"
     ]
    },
    {
     "data": {
      "image/png": "[encoded data removed]",
      "text/plain": [
       "<Figure size 432x288 with 1 Axes>"
      ]
     },
     "metadata": {},
     "output_type": "display_data"
    }
   ],
   "source": [
    "for exp in plot_data.keys():\n",
    "    \n",
    "    trial_avs = plot_data[exp].groupby(['Trial','Attention Level','Subject'], as_index=False).mean()\n",
    "    trial_avs['Nov_Diffs'] = np.nan\n",
    "    \n",
    "    for s in trial_avs['Subject'].unique():\n",
    "        for t in trial_avs['Trial'].unique():\n",
    "\n",
    "            first  = trial_avs[(trial_avs['Attention Level']=='Nov_Cued') \n",
    "                               & (trial_avs['Trial']==t)\n",
    "                              & (trial_avs['Subject']==s)]['value'].item()\n",
    "            second = trial_avs[(trial_avs['Attention Level']=='Nov_Un'  ) \n",
    "                               & (trial_avs['Trial']==t)\n",
    "                              & (trial_avs['Subject']==s)]['value'].item()\n",
    "            difference = first - second\n",
    "            #print(difference)\n",
    "            trial_avs.loc[(trial_avs['Trial']==t) & (trial_avs['Subject']==s),'Nov_Diffs'] = first - second\n",
    "\n",
    "    ax = sb.lineplot(x='Trial', y='Nov_Diffs', data=trial_avs)\n",
    "    ax.set(ylim=(-.1, .4))\n",
    "    ax.set(xlim=(0, 39))\n",
    "        \n",
    "    plt.grid(False)\n",
    "    plt.rc('xtick', labelsize=15)\n",
    "    plt.rc('ytick', labelsize=15)\n",
    "    plt.xlabel('Attention Level',    fontsize = 20)\n",
    "    plt.ylabel('Familiarity Rating', fontsize = 20)\n",
    "    \n",
    "    plt.xlabel('Memory Trial')\n",
    "    plt.ylabel('Familiarity Difference')\n",
    "    plt.savefig('Novel_Diff_'+ exp +'.pdf')\n",
    "    print(exp)\n",
    "    plt.show()\n"
   ]
  },
  {
   "cell_type": "markdown",
   "metadata": {},
   "source": [
    "### Sliding Window - Images in Uncued Category\n",
    "\n",
    "In experiment 1, the images in the uncued category start with significiantly different familiarity ratings (first window), but byt hte end of the run, have familiarity ratings that are not significantly different (last window).\n",
    "\n",
    "Experiment 2 is the opposite:  the images in the uncued category start not significiantly different from each other (first window), but by the end of the run, they have familiarity ratings that are significantly different (last window).\n",
    "\n",
    "In experiment 1: \"Side\" images are significantly more familiar at the start of a run than at the end of a run.\n",
    "\n",
    "In experiment 2: Novel imgaes from the last-uncued category are rated significantly more familiar in the first window than in the last window."
   ]
  },
  {
   "cell_type": "code",
   "execution_count": 38,
   "metadata": {},
   "outputs": [],
   "source": [
    "def ranges(nums):\n",
    "    nums = sorted(set(nums))\n",
    "    gaps = [[s, e] for s, e in zip(nums, nums[1:]) if s+1 < e]\n",
    "    edges = iter(nums[:1] + sum(gaps, []) + nums[-1:])\n",
    "    return list(zip(edges, edges))\n"
   ]
  },
  {
   "cell_type": "code",
   "execution_count": 39,
   "metadata": {},
   "outputs": [],
   "source": [
    "#data[data['Attention Level']=='Side']"
   ]
  },
  {
   "cell_type": "markdown",
   "metadata": {},
   "source": [
    "# Same w/ timepoint ttest"
   ]
  },
  {
   "cell_type": "code",
   "execution_count": null,
   "metadata": {},
   "outputs": [
    {
     "name": "stdout",
     "output_type": "stream",
     "text": [
      "Experiment 1: Sliding Window - Uncued Category Images\n",
      "[True False]\n",
      "(0.0, 35.0)\n"
     ]
    }
   ],
   "source": [
    "from itertools import groupby\n",
    "from operator import itemgetter\n",
    "\n",
    "\n",
    "sb.set_style(\"white\")\n",
    "\n",
    "for key,label in zip(plot_data.keys(),['Experiment 1','Experiment 2']):\n",
    "    \n",
    "    print(label + ': Sliding Window - Uncued Category Images')\n",
    "    \n",
    "    data = plot_data[key]\n",
    "    \n",
    "    # plot data\n",
    "    ax = sb.lineplot(x='Trial',y='value', hue = 'Attention Level', \n",
    "                data = data[data['Attention Level'].isin(['Side','None','Nov_Un'])], # ci=None,\n",
    "                    palette = {\"Full\": palette[0], \"Category\": palette[3], \"Nov_Cued\":palette[5], \n",
    "                            \"Side\": palette[19], \"None\": palette[16], \"Nov_Un\":palette[13], 'Novel':'black'}) \n",
    "    plt.legend(bbox_to_anchor=(1.05, 1), loc=2, borderaxespad=0.)\n",
    "    ax.set(ylim=(1.2, 2.8))\n",
    "    ax.set(xlim=(0, 39))\n",
    "\n",
    "    \n",
    "    # stats test\n",
    "    data = data[data['Attention Level'].isin(['Side','None','Nov_Un'])]\n",
    "    \n",
    "    #ttest at each timepoint #################\n",
    "    ttest_data = timepoint_ttest(data, ['Side','Nov_Un'])#, related=False)\n",
    "    print(ttest_data[ttest_data['Attention Level']=='Side']['timepoint_t_truth'].unique())\n",
    "    \n",
    "    \n",
    "    # lines w/ sig pval #######################\n",
    "    index = ttest_data[(ttest_data['Attention Level']=='Nov_Un') & (ttest_data['timepoint_t_truth']==True)]['Trial'].tolist()\n",
    "    index = set(index)\n",
    "    \n",
    "    \n",
    "    for x in ranges(index):\n",
    "        print(x)\n",
    "        if x[0] == x[1]:\n",
    "            x_new_0 = x[0]-.1\n",
    "            x_new_1 = x[1]+.1\n",
    "\n",
    "            plt.axhline( y=1.32, xmin=x_new_0*(1/39), xmax=x_new_1*(1/39), color=palette[19])\n",
    "            plt.axhline( y=1.3, xmin=x_new_0*(1/39), xmax=x_new_1*(1/39), color=palette[13])\n",
    "                        \n",
    "        else:\n",
    "            plt.axhline( y=1.32, xmin=x[0]*(1/39), xmax=x[1]*(1/39), color=palette[19])\n",
    "            plt.axhline( y=1.3, xmin=x[0]*(1/39), xmax=x[1]*(1/39), color=palette[13])\n",
    "        \n",
    "        \n",
    "    # ttest at each timepoint #################\n",
    "    ttest_data = timepoint_ttest(data, ['Side','None'])\n",
    "    print(ttest_data[ttest_data['Attention Level']=='None']['timepoint_t_truth'].unique())\n",
    "    \n",
    "    \n",
    "    # lines w/ sig pval #######################\n",
    "    index = ttest_data[(ttest_data['Attention Level']=='Side') & (ttest_data['timepoint_t_truth']==True)]['Trial'].tolist()\n",
    "    index = set(index)\n",
    "    \n",
    "    for x in ranges(index):\n",
    "        print(x)\n",
    "        if x[0] == x[1]:\n",
    "            x_new_0 = x[0]-.1\n",
    "            x_new_1 = x[1]+.1\n",
    "\n",
    "            plt.axhline( y=1.42, xmin=x_new_0*(1/39), xmax=x_new_1*(1/39), color=palette[19])\n",
    "            plt.axhline( y=1.4, xmin=x_new_0*(1/39), xmax=x_new_1*(1/39), color=palette[16])\n",
    "            \n",
    "        else:\n",
    "            plt.axhline( y=1.42, xmin=x[0]*(1/39), xmax=x[1]*(1/39), color=palette[19])\n",
    "            plt.axhline( y=1.4, xmin=x[0]*(1/39), xmax=x[1]*(1/39), color=palette[16])\n",
    "        \n",
    "    # ttest at each timepoint #################\n",
    "    ttest_data = timepoint_ttest(data, ['Nov_Un','None'])#, related=False)\n",
    "    #print(ttest_data[ttest_data['Attention Level']=='Category']['timepoint_t_truth'].unique())\n",
    "    \n",
    "    \n",
    "    # lines w/ sig pval #######################\n",
    "    index = ttest_data[(ttest_data['Attention Level']=='Nov_Un') & (ttest_data['timepoint_t_truth']==True)]['Trial'].tolist()\n",
    "    index = set(index)\n",
    "    \n",
    "    for x in ranges(index):\n",
    "        print(x)\n",
    "        if x[0] == x[1]:\n",
    "            x_new_0 = x[0]-.1\n",
    "            x_new_1 = x[1]+.1\n",
    "\n",
    "            plt.axhline( y=1.52, xmin=x_new_0*(1/39), xmax=x_new_1*(1/39), color=palette[16])\n",
    "            plt.axhline( y=1.5, xmin=x_new_0*(1/39), xmax=x_new_1*(1/39), color=palette[13])\n",
    "    \n",
    "        else:\n",
    "            plt.axhline( y=1.52, xmin=x[0]*(1/39), xmax=x[1]*(1/39), color=palette[16])\n",
    "            plt.axhline( y=1.5, xmin=x[0]*(1/39), xmax=x[1]*(1/39), color=palette[13])\n",
    "\n",
    "        \n",
    "    plt.xticks([0, 9, 19, 29, 39])\n",
    "    plt.savefig(label+'_UncuedCategory.pdf')\n",
    "    plt.show()\n",
    "    \n",
    "    "
   ]
  },
  {
   "cell_type": "code",
   "execution_count": null,
   "metadata": {},
   "outputs": [],
   "source": [
    "# data[data['Attention Level']=='Side'].count()"
   ]
  },
  {
   "cell_type": "markdown",
   "metadata": {},
   "source": [
    "### Sliding Window - Images in Cued Category\n",
    "\n",
    "In Experiment 2, Fully attended and Category attended images have higher familiarity ratings at the beginning of the block (first window) than they do at the end (last window)"
   ]
  },
  {
   "cell_type": "code",
   "execution_count": null,
   "metadata": {
    "scrolled": false
   },
   "outputs": [],
   "source": [
    "for key,label in zip(plot_data.keys(),['Experiment_1','Experiment_2']):\n",
    "    \n",
    "    print(label + ': Sliding Window - Same Category Images - Faces')\n",
    "    \n",
    "    data = plot_data[key]\n",
    "    \n",
    "    \n",
    "    # plot ####################################\n",
    "    ax = sb.lineplot(x='Trial',y='value', hue = 'Attention Level', \n",
    "                data = data[data['Attention Level'].isin(['Full', 'Nov_Cued', 'Category'])], # 'Category', # ci=None,\n",
    "                    palette = {\"Full\": palette[0], \"Category\": palette[3], \"Nov_Cued\":palette[5], \n",
    "                            \"Side\": palette[19], \"None\": palette[16], \"Nov_Un\":palette[13], \"Novel\":\"black\"})\n",
    "    \n",
    "    plt.legend(bbox_to_anchor=(1.05, 1), loc=2, borderaxespad=0.)\n",
    "    ax.set(ylim=(1.25, 2.75))\n",
    "    ax.set(xlim=(0, 39))\n",
    "    \n",
    "    \n",
    "    #ttest at each timepoint #################\n",
    "    ttest_data = timepoint_ttest(data, ['Category','Nov_Cued'])#, related=False)\n",
    "    #print(ttest_data[ttest_data['Attention Level']=='Nov_']['timepoint_t_truth'].unique())\n",
    "    \n",
    "    \n",
    "    # lines w/ sig pval #######################\n",
    "    index = ttest_data[(ttest_data['Attention Level']=='Nov_Cued') & (ttest_data['timepoint_t_truth']==True)]['Trial'].tolist()\n",
    "    index = set(index)\n",
    "    \n",
    "    \n",
    "    for x in ranges(index):\n",
    "        print(x)\n",
    "        \n",
    "        if x[0] == x[1]:\n",
    "            x_new_0 = x[0]-.1\n",
    "            x_new_1 = x[1]+.1\n",
    "\n",
    "            plt.axhline( y=1.32, xmin=x_new_0*(1/39), xmax=x_new_1*(1/39), color=palette[3])\n",
    "            plt.axhline( y=1.3, xmin=x_new_0*(1/39), xmax=x_new_1*(1/39), color=palette[5])\n",
    "            \n",
    "        plt.axhline( y=1.32, xmin=x[0]*(1/39), xmax=x[1]*(1/39), color=palette[3])\n",
    "        plt.axhline( y=1.3, xmin=x[0]*(1/39), xmax=x[1]*(1/39), color=palette[5])\n",
    "        \n",
    "        \n",
    "    # ttest at each timepoint #################\n",
    "    ttest_data = timepoint_ttest(data, ['Category','Full'])\n",
    "    #print(ttest_data[ttest_data['Attention Level']=='Category']['timepoint_t_truth'].unique())\n",
    "    \n",
    "    \n",
    "    # lines w/ sig pval #######################\n",
    "    index = ttest_data[(ttest_data['Attention Level']=='Category') & (ttest_data['timepoint_t_truth']==True)]['Trial'].tolist()\n",
    "    index = set(index)\n",
    "    \n",
    "    for x in ranges(index):\n",
    "        #print(x)\n",
    "        \n",
    "        if x[0] == x[1]:\n",
    "            x_new_0 = x[0]-.1\n",
    "            x_new_1 = x[1]+.1\n",
    "\n",
    "            plt.axhline( y=1.52, xmin=x_new_0*(1/39), xmax=x_new_1*(1/39), color=palette[0])\n",
    "            plt.axhline( y=1.5, xmin=x_new_0*(1/39), xmax=x_new_1*(1/39), color=palette[3])\n",
    "        \n",
    "        \n",
    "        plt.axhline( y=1.52, xmin=x[0]*(1/39), xmax=x[1]*(1/39), color=palette[0])\n",
    "        plt.axhline( y=1.5, xmin=x[0]*(1/39), xmax=x[1]*(1/39), color=palette[3])\n",
    "        \n",
    "        \n",
    "    # ttest at each timepoint #################\n",
    "    ttest_data = timepoint_ttest(data, ['Nov_Cued','Full'])\n",
    "    #print(ttest_data[ttest_data['Attention Level']=='Category']['timepoint_t_truth'].unique())\n",
    "    \n",
    "    \n",
    "    # lines w/ sig pval #######################\n",
    "    index = ttest_data[(ttest_data['Attention Level']=='Full') & (ttest_data['timepoint_t_truth']==True)]['Trial'].tolist()\n",
    "    index = set(index)\n",
    "    \n",
    "    for x in ranges(index):\n",
    "        #print(x)\n",
    "        \n",
    "        if x[0] == x[1]:\n",
    "            x_new_0 = x[0]-.1\n",
    "            x_new_1 = x[1]+.1\n",
    "\n",
    "            plt.axhline( y=1.42, xmin=x_new_0*(1/39), xmax=x_new_1*(1/39), color=palette[0])\n",
    "            plt.axhline( y=1.4, xmin=x_new_0*(1/39), xmax=x_new_1*(1/39), color=palette[5])\n",
    "        \n",
    "        plt.axhline( y=1.42, xmin=x[0]*(1/39), xmax=x[1]*(1/39), color=palette[0])\n",
    "        plt.axhline( y=1.4, xmin=x[0]*(1/39), xmax=x[1]*(1/39), color=palette[5])\n",
    "        \n",
    "    # plot settings & save ####################\n",
    "    plt.grid(False)\n",
    "    plt.rc('xtick', labelsize=15)\n",
    "    plt.rc('ytick', labelsize=15)\n",
    "    plt.xlabel('Attention Level',    fontsize = 20)\n",
    "    plt.ylabel('Familiarity Rating', fontsize = 20)\n",
    "    \n",
    "    plt.xticks([0, 9, 19, 29, 39])\n",
    "        \n",
    "    plt.savefig(label+'_Full_Cat_NovCued.pdf')\n",
    "    \n",
    "    plt.show()\n",
    "    "
   ]
  },
  {
   "cell_type": "markdown",
   "metadata": {},
   "source": [
    "# Timecourse same location"
   ]
  },
  {
   "cell_type": "code",
   "execution_count": null,
   "metadata": {},
   "outputs": [],
   "source": [
    "for key,label in zip(plot_data.keys(),['Experiment_1','Experiment_2']):\n",
    "    \n",
    "    print(label + ': Sliding Window - Same Category Images - Faces')\n",
    "    \n",
    "    data = plot_data[key]\n",
    "    \n",
    "    \n",
    "    # plot ####################################\n",
    "    ax = sb.lineplot(x='Trial',y='value', hue = 'Attention Level', \n",
    "                data = data[data['Attention Level'].isin(['Full', 'Side'])], # 'Category', # ci=None,\n",
    "                    palette = {\"Full\": palette[0], \"Category\": palette[3], \"Nov_Cued\":palette[5], \n",
    "                            \"Side\": palette[19], \"None\": palette[16], \"Nov_Un\":palette[13], \"Novel\":\"black\"})\n",
    "    \n",
    "    plt.legend(bbox_to_anchor=(1.05, 1), loc=2, borderaxespad=0.)\n",
    "    ax.set(ylim=(1.25, 2.75))\n",
    "    ax.set(xlim=(0, 39))\n",
    "    \n",
    "    #ttest at each timepoint #################\n",
    "    ttest_data = timepoint_ttest(data, ['Full','Side'])#, related=False)\n",
    "    print(ttest_data[ttest_data['Attention Level']=='Side']['timepoint_t_truth'].unique())\n",
    "    \n",
    "    \n",
    "    # lines w/ sig pval #######################\n",
    "    index = ttest_data[(ttest_data['Attention Level']=='Side') & (ttest_data['timepoint_t_truth']==True)]['Trial'].tolist()\n",
    "    index = set(index)\n",
    "    \n",
    "    \n",
    "    for x in ranges(index):\n",
    "        print(x)\n",
    "        \n",
    "        if x[0] == x[1]:\n",
    "            x_new_0 = x[0]-.1\n",
    "            x_new_1 = x[1]+.1\n",
    "\n",
    "            plt.axhline( y=1.32, xmin=x_new_0*(1/39), xmax=x_new_1*(1/39), color=palette[0])\n",
    "            plt.axhline( y=1.3, xmin=x_new_0*(1/39), xmax=x_new_1*(1/39), color=palette[19])\n",
    "            \n",
    "        plt.axhline( y=1.32, xmin=x[0]*(1/39), xmax=x[1]*(1/39), color=palette[0])\n",
    "        plt.axhline( y=1.3, xmin=x[0]*(1/39), xmax=x[1]*(1/39), color=palette[19])\n",
    "    \n",
    "    \n",
    "        \n",
    "    # plot settings & save ####################\n",
    "    plt.grid(False)\n",
    "    plt.rc('xtick', labelsize=15)\n",
    "    plt.rc('ytick', labelsize=15)\n",
    "    plt.xlabel('Attention Level',    fontsize = 20)\n",
    "    plt.ylabel('Familiarity Rating', fontsize = 20)\n",
    "    \n",
    "    plt.xticks([0, 9, 19, 29, 39])\n",
    "        \n",
    "    plt.savefig(label+'_Full_Cat_NovCued.pdf')\n",
    "    \n",
    "    plt.show()\n",
    "    "
   ]
  },
  {
   "cell_type": "code",
   "execution_count": null,
   "metadata": {},
   "outputs": [],
   "source": [
    "for key,label in zip(plot_data.keys(),['Experiment_1','Experiment_2']):\n",
    "    \n",
    "    print(label + ': Sliding Window - Same Category Images - Faces')\n",
    "    \n",
    "    data = plot_data[key]\n",
    "    \n",
    "    \n",
    "    # plot ####################################\n",
    "    ax = sb.lineplot(x='Trial',y='value', hue = 'Attention Level', \n",
    "                data = data[data['Attention Level'].isin(['Category', 'None'])], # 'Category', # ci=None,\n",
    "                    palette = {\"Full\": palette[0], \"Category\": palette[3], \"Nov_Cued\":palette[5], \n",
    "                            \"Side\": palette[19], \"None\": palette[16], \"Nov_Un\":palette[13], \"Novel\":\"black\"})\n",
    "    \n",
    "    plt.legend(bbox_to_anchor=(1.05, 1), loc=2, borderaxespad=0.)\n",
    "    ax.set(ylim=(1.25, 2.75))\n",
    "    ax.set(xlim=(0, 39))\n",
    "    \n",
    "    #ttest at each timepoint #################\n",
    "    ttest_data = timepoint_ttest(data, ['Category','None'])#, related=False)\n",
    "    print(ttest_data[ttest_data['Attention Level']=='Category']['timepoint_t_truth'].unique())\n",
    "    \n",
    "    \n",
    "    # lines w/ sig pval #######################\n",
    "    index = ttest_data[(ttest_data['Attention Level']=='Category') & (ttest_data['timepoint_t_truth']==True)]['Trial'].tolist()\n",
    "    index = set(index)\n",
    "    \n",
    "    \n",
    "    for x in ranges(index):\n",
    "        print(x)\n",
    "        \n",
    "        if x[0] == x[1]:\n",
    "            x_new_0 = x[0]-.1\n",
    "            x_new_1 = x[1]+.1\n",
    "\n",
    "            plt.axhline( y=1.32, xmin=x_new_0*(1/39), xmax=x_new_1*(1/39), color=palette[3])\n",
    "            plt.axhline( y=1.3, xmin=x_new_0*(1/39), xmax=x_new_1*(1/39), color=palette[16])\n",
    "            \n",
    "        plt.axhline( y=1.32, xmin=x[0]*(1/39), xmax=x[1]*(1/39), color=palette[3])\n",
    "        plt.axhline( y=1.3, xmin=x[0]*(1/39), xmax=x[1]*(1/39), color=palette[16])\n",
    "    \n",
    "    \n",
    "        \n",
    "    # plot settings & save ####################\n",
    "    plt.grid(False)\n",
    "    plt.rc('xtick', labelsize=15)\n",
    "    plt.rc('ytick', labelsize=15)\n",
    "    plt.xlabel('Attention Level',    fontsize = 20)\n",
    "    plt.ylabel('Familiarity Rating', fontsize = 20)\n",
    "    \n",
    "    plt.xticks([0, 9, 19, 29, 39])\n",
    "        \n",
    "    plt.savefig(label+'_Full_Cat_NovCued.pdf')\n",
    "    \n",
    "    plt.show()\n",
    "    "
   ]
  },
  {
   "cell_type": "code",
   "execution_count": null,
   "metadata": {},
   "outputs": [],
   "source": []
  },
  {
   "cell_type": "code",
   "execution_count": null,
   "metadata": {},
   "outputs": [],
   "source": []
  }
 ],
 "metadata": {
  "kernelspec": {
   "display_name": "Python 3",
   "language": "python",
   "name": "python3"
  },
  "language_info": {
   "codemirror_mode": {
    "name": "ipython",
    "version": 3
   },
   "file_extension": ".py",
   "mimetype": "text/x-python",
   "name": "python",
   "nbconvert_exporter": "python",
   "pygments_lexer": "ipython3",
   "version": "3.6.4"
  }
 },
 "nbformat": 4,
 "nbformat_minor": 2
}
