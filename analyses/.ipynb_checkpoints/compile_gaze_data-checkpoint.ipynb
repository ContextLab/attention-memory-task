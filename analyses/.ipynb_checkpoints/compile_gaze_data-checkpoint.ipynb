{
 "cells": [
  {
   "cell_type": "markdown",
   "metadata": {},
   "source": [
    "# Imports"
   ]
  },
  {
   "cell_type": "code",
   "execution_count": 1,
   "metadata": {},
   "outputs": [],
   "source": [
    "import pandas as pd; import seaborn as sb; import statsmodels.formula.api as smf; import pingouin;\n",
    "from statannot import add_stat_annotation; from itertools import combinations; import os\n",
    "from analysis_helpers import *; import scipy; from scipy import stats; import os; import math\n",
    "\n",
    "import warnings\n",
    "warnings.filterwarnings('ignore')"
   ]
  },
  {
   "cell_type": "markdown",
   "metadata": {},
   "source": [
    "# Compile raw data"
   ]
  },
  {
   "cell_type": "code",
   "execution_count": 2,
   "metadata": {},
   "outputs": [],
   "source": [
    "data_str1 = '/Users/kirstenziman/Documents/NEW_DIRECTORY/new_place/attention-memory-task/Experiment1_BlockCue/data'\n",
    "data_str2 = '/Users/kirstenziman/Documents/NEW_DIRECTORY/new_place/attention-memory-task/Experiment2_TrialCue/data'"
   ]
  },
  {
   "cell_type": "markdown",
   "metadata": {},
   "source": [
    "Note: this cell runs for a long time!"
   ]
  },
  {
   "cell_type": "code",
   "execution_count": null,
   "metadata": {},
   "outputs": [],
   "source": [
    "%%time\n",
    "for data_str,label in zip([data_str1, data_str2],['exp1, exp2']):\n",
    "    \n",
    "    # load and compile all participants' gaze data into a dataframe\n",
    "    exp_gaze = []\n",
    "    for subject in os.listdir(data_str):\n",
    "        directory = data_str + '/' + subject +'/eye_data/'\n",
    "        df = eye_initial(directory)\n",
    "        df['Subject'] = directory[0:2]\n",
    "        exp_gaze.append(df)\n",
    "    exp_gaze = pd.concat(exp_gaze)\n",
    "\n",
    "    # select gazepoints from only the times when presentation images were on the screen\n",
    "    exp_pres_trials = []\n",
    "    for sub_file in os.listdir(data_str):\n",
    "        exp_pres_trials.append(pres_gaze_image(dat_str + '/' + sub_file +'/', \n",
    "                                                exp_gaze[exp_gaze['Subject']==sub_file[0:2]], \n",
    "                                                sub_file[0:2]))\n",
    "\n",
    "    # reorganize presentation-timepoints gaze data\n",
    "    full_pres = []\n",
    "    for idx,sub in enumerate(exp_pres_trials):\n",
    "        for run in exp_pres_trials[idx].keys():\n",
    "            for trial in exp_pres_trials[idx][run]:\n",
    "                full_pres.append(trial)\n",
    "    whole_exp_gaze = pd.concat(full_pres)\n",
    "    \n",
    "    # convert gaze coordinates into centimeters \n",
    "    whole_exp_gaze['av_x_coord'] = (59.8/2048)*(whole_exp_gaze[['xRaw_righteye', 'xRaw_lefteye']].mean(axis=1))\n",
    "    whole_exp_gaze['av_y_coord'] = (33.6/1152)*(whole_exp_gaze[['yRaw_righteye', 'yRaw_lefteye']].mean(axis=1))\n",
    "\n",
    "    # eliminate gazepoints with extreme values outside the area of the screen\n",
    "    # (eyetribe gives zeros or extremely high values when there is a prbolem with data collection)\n",
    "    whole_exp_gaze = whole_exp_gaze[(whole_exp_gaze['av_x_coord']<59.8) & (whole_exp_gaze['av_y_coord']<33.6)]\n",
    "    \n",
    "    # save data\n",
    "    whole_exp_gaze.to_csv(label+'_gaze.csv')"
   ]
  },
  {
   "cell_type": "code",
   "execution_count": null,
   "metadata": {},
   "outputs": [],
   "source": [
    "#exp2_sub_gaze = pd.concat(exp2_numbered)"
   ]
  },
  {
   "cell_type": "code",
   "execution_count": null,
   "metadata": {
    "scrolled": true
   },
   "outputs": [],
   "source": [
    "# exp2_pres_trials = []\n",
    "# dat_str = '/Users/kirstenziman/Desktop/new_place/attention-memory-task/Experiment2_TrialCue/data'\n",
    "# for sub_file in os.listdir(dat_str):\n",
    "\n",
    "#     exp2_pres_trials.append(pres_gaze_image(dat_str + '/' + sub_file +'/', \n",
    "#                                             exp2_sub_gaze[exp2_sub_gaze['Subject']==sub_file[0:2]], \n",
    "#                                             sub_file[0:2]))\n",
    "#     print(sub_file)\n"
   ]
  },
  {
   "cell_type": "code",
   "execution_count": null,
   "metadata": {},
   "outputs": [],
   "source": [
    "# full_pres2 =[]\n",
    "\n",
    "# for idx,sub in enumerate(exp2_pres_trials):\n",
    "#     for run in exp2_pres_trials[idx].keys():\n",
    "#         for trial in exp2_pres_trials[idx][run]:\n",
    "#             full_pres2.append(trial)\n",
    "# #     print(trial['Subject'].unique())\n",
    "        "
   ]
  },
  {
   "cell_type": "code",
   "execution_count": null,
   "metadata": {},
   "outputs": [],
   "source": [
    "#whole_exp2_gaze = pd.concat(full_pres2)"
   ]
  },
  {
   "cell_type": "code",
   "execution_count": null,
   "metadata": {},
   "outputs": [],
   "source": [
    "# whole_exp2_gaze['av_x_coord'] = (59.8/2048)*(whole_exp2_gaze[['xRaw_righteye', 'xRaw_lefteye']].mean(axis=1))\n",
    "# whole_exp2_gaze['av_y_coord'] = (33.6/1152)*(whole_exp2_gaze[['yRaw_righteye', 'yRaw_lefteye']].mean(axis=1))"
   ]
  },
  {
   "cell_type": "code",
   "execution_count": null,
   "metadata": {},
   "outputs": [],
   "source": [
    "# eliminate gazepoints with extreme values outside the area of the screen\n",
    "# (eyetribe gives zeros or extremely high values when issue collecting data)"
   ]
  },
  {
   "cell_type": "code",
   "execution_count": null,
   "metadata": {},
   "outputs": [],
   "source": [
    "# whole_exp2_gaze = whole_exp2_gaze[(whole_exp2_gaze['av_x_coord']<59.8) & (whole_exp2_gaze['av_y_coord']<33.6)]"
   ]
  },
  {
   "cell_type": "code",
   "execution_count": null,
   "metadata": {},
   "outputs": [],
   "source": [
    "# whole_exp2_gaze.to_csv('whole_exp2_gaze_best.csv')"
   ]
  }
 ],
 "metadata": {
  "kernelspec": {
   "display_name": "Python 3",
   "language": "python",
   "name": "python3"
  },
  "language_info": {
   "codemirror_mode": {
    "name": "ipython",
    "version": 3
   },
   "file_extension": ".py",
   "mimetype": "text/x-python",
   "name": "python",
   "nbconvert_exporter": "python",
   "pygments_lexer": "ipython3",
   "version": "3.6.4"
  }
 },
 "nbformat": 4,
 "nbformat_minor": 2
}
