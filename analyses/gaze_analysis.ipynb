{
 "cells": [
  {
   "cell_type": "markdown",
   "metadata": {},
   "source": [
    "# Imports"
   ]
  },
  {
   "cell_type": "code",
   "execution_count": 1,
   "metadata": {},
   "outputs": [],
   "source": [
    "import pandas as pd; import seaborn as sb; import statsmodels.formula.api as smf; import pingouin;\n",
    "from statannot import add_stat_annotation; from itertools import combinations; import os\n",
    "from analysis_helpers import *; import scipy; from scipy import stats; import os; import math\n",
    "\n",
    "import warnings\n",
    "warnings.filterwarnings('ignore')"
   ]
  },
  {
   "cell_type": "markdown",
   "metadata": {},
   "source": [
    "## Compile from raw data"
   ]
  },
  {
   "cell_type": "code",
   "execution_count": 2,
   "metadata": {},
   "outputs": [],
   "source": [
    "# data_str = '/Users/kirstenziman/Desktop/new_place/attention-memory-task/Experiment1_BlockCue/data'\n",
    "\n",
    "# exp1_gaze = []\n",
    "\n",
    "# for subject in os.listdir(data_str):\n",
    "#     print(subject)\n",
    "#     exp1_gaze.append(eye_intial(data_str + '/' + subject +'/eye_data/'))"
   ]
  },
  {
   "cell_type": "code",
   "execution_count": 3,
   "metadata": {},
   "outputs": [],
   "source": [
    "# exp1_concat = pd.concat(exp1_gaze)\n",
    "# exp1_concat.to_csv('exp1_gaze_intermediary1.csv')"
   ]
  },
  {
   "cell_type": "code",
   "execution_count": 4,
   "metadata": {},
   "outputs": [],
   "source": [
    "# exp1_concat = pd.DataFrame.from_csv('/Users/kirstenziman/Desktop/exp1_gaze_intermediary1.csv')"
   ]
  },
  {
   "cell_type": "code",
   "execution_count": 5,
   "metadata": {},
   "outputs": [],
   "source": [
    "# exp1_numbered = []\n",
    "# for sub_num,subject in zip(os.listdir(data_str), exp1_gaze):\n",
    "#     subject['Subject'] = sub_num[0:2]\n",
    "#     exp1_numbered.append(subject)"
   ]
  },
  {
   "cell_type": "code",
   "execution_count": 6,
   "metadata": {},
   "outputs": [],
   "source": [
    "# exp1_sub_gaze = pd.concat(exp1_numbered)"
   ]
  },
  {
   "cell_type": "code",
   "execution_count": 7,
   "metadata": {},
   "outputs": [],
   "source": [
    "#exp1_sub_gaze.to_csv('exp1_sub_gaze_intermediary.csv')"
   ]
  },
  {
   "cell_type": "code",
   "execution_count": 8,
   "metadata": {},
   "outputs": [],
   "source": [
    "# exp1_pres_trials = []\n",
    "# dat_str = '/Users/kirstenziman/Desktop/new_place/attention-memory-task/Experiment1_BlockCue/data'\n",
    "# for sub_file in os.listdir(dat_str):\n",
    "#     print(sub_file)\n",
    "#     exp1_pres_trials.append(pres_gaze_image(dat_str + '/' + sub_file +'/', \n",
    "#                                             exp1_sub_gaze[exp1_sub_gaze['Subject']==int(sub_file[0:2])], \n",
    "#                                             int(sub_file[0:2])))"
   ]
  },
  {
   "cell_type": "code",
   "execution_count": 9,
   "metadata": {},
   "outputs": [],
   "source": [
    "# full_pres1 =[]\n",
    "\n",
    "# for idx,sub in enumerate(exp1_pres_trials):\n",
    "#     for run in exp1_pres_trials[idx].keys():\n",
    "#         for trial in exp1_pres_trials[idx][run]:\n",
    "#             full_pres1.append(trial)\n",
    "        "
   ]
  },
  {
   "cell_type": "code",
   "execution_count": 10,
   "metadata": {},
   "outputs": [],
   "source": [
    "# whole_exp1_gaze = pd.concat(full_pres1)"
   ]
  },
  {
   "cell_type": "code",
   "execution_count": 11,
   "metadata": {},
   "outputs": [],
   "source": [
    "# whole_exp1_gaze.to_csv('whole_exp1_gaze_intermediary.csv')"
   ]
  },
  {
   "cell_type": "code",
   "execution_count": 12,
   "metadata": {},
   "outputs": [],
   "source": [
    "# convert to centimeters"
   ]
  },
  {
   "cell_type": "code",
   "execution_count": 13,
   "metadata": {},
   "outputs": [],
   "source": [
    "# whole_exp1_gaze['av_x_coord'] = (59.8/2048)*(whole_exp1_gaze[['xRaw_righteye', 'xRaw_lefteye']].mean(axis=1))\n",
    "# whole_exp1_gaze['av_y_coord'] = (33.6/1152)*(whole_exp1_gaze[['yRaw_righteye', 'yRaw_lefteye']].mean(axis=1))"
   ]
  },
  {
   "cell_type": "code",
   "execution_count": 14,
   "metadata": {},
   "outputs": [],
   "source": [
    "# eliminate gazepoints with extreme values outside the area of the screen\n",
    "# (eyetribe gives zeros or extremely high values when issue collecting data)"
   ]
  },
  {
   "cell_type": "code",
   "execution_count": 15,
   "metadata": {},
   "outputs": [],
   "source": [
    "# whole_exp1_gaze = whole_exp1_gaze[(whole_exp1_gaze['av_x_coord']<59.8) & (whole_exp1_gaze['av_y_coord']<33.6)]"
   ]
  },
  {
   "cell_type": "code",
   "execution_count": 16,
   "metadata": {},
   "outputs": [],
   "source": [
    "# whole_exp1_gaze.to_csv('Experiment1_Full_Pres_Gaze_Trial_Labeled.csv')"
   ]
  },
  {
   "cell_type": "markdown",
   "metadata": {},
   "source": [
    "# Analyses"
   ]
  },
  {
   "cell_type": "code",
   "execution_count": 45,
   "metadata": {},
   "outputs": [],
   "source": [
    "whole_exp1_gaze = pd.DataFrame.from_csv('Experiment1_Full_Pres_Gaze_Trial_Labeled.csv')\n",
    "whole_exp2_gaze = pd.DataFrame.from_csv('/Users/kirstenziman/Documents/attention-memory-task/code/analysis/whole_exp2_gaze_best.csv')"
   ]
  },
  {
   "cell_type": "code",
   "execution_count": 49,
   "metadata": {},
   "outputs": [
    {
     "data": {
      "text/plain": [
       "array(['8_', '15', '1_', '25', '12', '4_', '28', '19', '21', '33', '7_',\n",
       "       '26', '14', '2_', '16', '27', 23, 18, 29, '13', '5_', '24', '0_',\n",
       "       '34', '22', '32', '17', '3_', '10', '20'], dtype=object)"
      ]
     },
     "execution_count": 49,
     "metadata": {},
     "output_type": "execute_result"
    }
   ],
   "source": [
    "whole_exp2_gaze = whole_exp2_gaze[whole_exp2_gaze['Subject']!=13]\n",
    "whole_exp2_gaze = whole_exp2_gaze[whole_exp2_gaze['Subject']!=27]\n",
    "whole_exp2_gaze['Subject'].unique()"
   ]
  },
  {
   "cell_type": "code",
   "execution_count": 68,
   "metadata": {},
   "outputs": [],
   "source": [
    "whole_exp2_gaze['Subject'] = whole_exp2_gaze['Subject'].astype(str)\n",
    "whole_exp2_gaze['Subject'] = whole_exp2_gaze['Subject'].map(lambda x: x.rstrip('_'))\n",
    "whole_exp2_gaze['Subject'] = whole_exp2_gaze['Subject'].astype(float)"
   ]
  },
  {
   "cell_type": "markdown",
   "metadata": {},
   "source": [
    "## tendency to gaze towards cued side"
   ]
  },
  {
   "cell_type": "code",
   "execution_count": 69,
   "metadata": {},
   "outputs": [],
   "source": [
    "# load behavioral data\n",
    "exp1 = pd.DataFrame.from_csv('/Users/kirstenziman/Desktop/new_place/attention-memory-task/parsed_data/behavioral_data_exp1.csv')\n",
    "exp2 = pd.DataFrame.from_csv('/Users/kirstenziman/Desktop/new_place/attention-memory-task/parsed_data/behavioral.csv')"
   ]
  },
  {
   "cell_type": "code",
   "execution_count": 86,
   "metadata": {},
   "outputs": [],
   "source": [
    "# exp2['Subject'] = exp2['Subject'].map({327: 32})"
   ]
  },
  {
   "cell_type": "code",
   "execution_count": 87,
   "metadata": {},
   "outputs": [
    {
     "name": "stdout",
     "output_type": "stream",
     "text": [
      "Ttest_1sampResult(statistic=3.10115317032973, pvalue=0.004265738366959131)\n",
      "Ttest_1sampResult(statistic=nan, pvalue=nan)\n"
     ]
    }
   ],
   "source": [
    "for data,behav,label in zip([whole_exp1_gaze, whole_exp2_gaze],[exp1, exp2],['1','2']):\n",
    "    \n",
    "    # Make sure behavioral trials are numbered\n",
    "    behav.loc[behav['Trial Type']=='Memory','Trial'] = list(range(0,40))*30*8\n",
    "    behav.loc[behav['Trial Type']=='Presentation','Trial'] = list(range(0,10))*30*8\n",
    "    \n",
    "    # group gaze data\n",
    "    gaze_grp = data.groupby(['Subject','Run','Trial'], as_index=False).mean()\n",
    "    gaze_grp['Run'] = pd.to_numeric(gaze_grp['Run'])\n",
    "    \n",
    "    # add av x coord to each presentation trial in behavioral df\n",
    "    for s in gaze_grp['Subject'].unique():\n",
    "\n",
    "        if label=='2' and s == 32:\n",
    "            for r in gaze_grp[gaze_grp['Subject']==s]['Run'].unique():\n",
    "                for t in gaze_grp[(gaze_grp['Subject']==s) & (gaze_grp['Run']==r)]['Trial'].unique():\n",
    "\n",
    "                    if gaze_grp[(gaze_grp['Subject']==s) & (gaze_grp['Run']==r) & (gaze_grp['Trial']==t)].shape[0]>0:\n",
    "\n",
    "                        behav.loc[(behav['Subject']==327) \n",
    "                                     & (behav['Run']==r) \n",
    "                                     & (behav['Trial']==t), 'av_x_coord'] =  gaze_grp[(gaze_grp['Subject']==s) \n",
    "                                                                                     & (gaze_grp['Run']==r) \n",
    "                                                                                     & (gaze_grp['Trial']==t)]['av_x_coord'].item()\n",
    "\n",
    "\n",
    "        else:\n",
    "            for r in gaze_grp[gaze_grp['Subject']==s]['Run'].unique():\n",
    "                for t in gaze_grp[(gaze_grp['Subject']==s) & (gaze_grp['Run']==r)]['Trial'].unique():\n",
    "\n",
    "                    if gaze_grp[(gaze_grp['Subject']==s) & (gaze_grp['Run']==r) & (gaze_grp['Trial']==t)].shape[0]>0:\n",
    "\n",
    "                        behav.loc[(behav['Subject']==s) \n",
    "                                     & (behav['Run']==r) \n",
    "                                     & (behav['Trial']==t), 'av_x_coord'] =  gaze_grp[(gaze_grp['Subject']==s) \n",
    "                                                                                     & (gaze_grp['Run']==r) \n",
    "                                                                                     & (gaze_grp['Trial']==t)]['av_x_coord'].item()\n",
    "\n",
    "    # difference from screen center\n",
    "    behav['gaze_from_center'] = behav['av_x_coord'] - 59.8/2\n",
    "    \n",
    "    # negative for opposite facing arrow\n",
    "    behav['gaze_towards_cued_side'] = behav['gaze_from_center']\n",
    "    behav.loc[(behav['Cued Side']=='<'),'gaze_towards_cued_side'] = -behav.loc[(behav['Cued Side']=='<')]['gaze_towards_cued_side']\n",
    "    \n",
    "    # ttest relative to zero drift! \n",
    "    behav_grp = behav.groupby(['Subject'], as_index=False).mean()\n",
    "    print(scipy.stats.ttest_1samp(behav_grp['gaze_towards_cued_side'],0))"
   ]
  },
  {
   "cell_type": "markdown",
   "metadata": {},
   "source": [
    "# Data restricted to gaze between images"
   ]
  },
  {
   "cell_type": "code",
   "execution_count": 88,
   "metadata": {},
   "outputs": [],
   "source": [
    "def cent_to_deg(centimeters, distance):\n",
    "    answer = math.degrees(math.atan(centimeters/distance))\n",
    "    return(answer)"
   ]
  },
  {
   "cell_type": "code",
   "execution_count": 89,
   "metadata": {},
   "outputs": [
    {
     "data": {
      "text/plain": [
       "3.3384705437643523"
      ]
     },
     "execution_count": 89,
     "metadata": {},
     "output_type": "execute_result"
    }
   ],
   "source": [
    "cent_to_deg(3.5, 60)"
   ]
  },
  {
   "cell_type": "code",
   "execution_count": 97,
   "metadata": {},
   "outputs": [],
   "source": [
    "restricted_concat = {}\n",
    "for gaze,label in zip([whole_exp1_gaze, whole_exp2_gaze],['exp1','exp2']):\n",
    "\n",
    "    gaze['gaze_from_center'] = gaze['av_x_coord'] - (59.8/2)\n",
    "    \n",
    "    gaze_restricted = gaze[abs(gaze['gaze_from_center'])<3.5]\n",
    "    gaze_restricted = gaze_restricted.groupby(['Subject','Run','Trial'], as_index=False).mean()\n",
    "    \n",
    "    restricted_behavioral = []\n",
    "\n",
    "    for s in gaze_restricted['Subject'].unique():\n",
    "        for r in gaze_restricted[gaze_restricted['Subject']==s]['Run'].unique():\n",
    "            for t in gaze_restricted[(gaze_restricted['Subject']==s) & (gaze_restricted['Run']==r)]['Trial'].unique():\n",
    "                restricted_behavioral.append(exp1[(exp1['Subject']==s) & (exp1['Run']==int(r)) & (exp1['Trial']==float(t))])\n",
    "    \n",
    "    restricted_concat[label] = pd.concat(restricted_behavioral)"
   ]
  },
  {
   "cell_type": "markdown",
   "metadata": {},
   "source": [
    "# Attended Category vs Novel Images"
   ]
  },
  {
   "cell_type": "code",
   "execution_count": 98,
   "metadata": {},
   "outputs": [
    {
     "name": "stdout",
     "output_type": "stream",
     "text": [
      "exp1\n",
      "Ttest_relResult(statistic=6.491055021102458, pvalue=4.180242867114751e-07)\n",
      "\n",
      "exp2\n",
      "Ttest_relResult(statistic=6.083733568520903, pvalue=3.3205710684462687e-06)\n",
      "\n"
     ]
    }
   ],
   "source": [
    "for l in restricted_concat:\n",
    "    d = restricted_concat[l]\n",
    "\n",
    "    Cats = []\n",
    "    Novs = []\n",
    "    for s in d['Subject'].unique():\n",
    "\n",
    "        Cats.append(d[(d['Subject']==s) & (d['Attention Level'].isin(['Category','Full']))]['Familiarity Rating'].mean())\n",
    "        Novs.append(d[(d['Subject']==s) & (d['Attention Level']=='Novel')]['Familiarity Rating'].mean())\n",
    "\n",
    "    print(l)\n",
    "    print(scipy.stats.ttest_rel(Cats, Novs))\n",
    "    print()"
   ]
  },
  {
   "cell_type": "markdown",
   "metadata": {},
   "source": [
    "# Attended Side vs Novel Images"
   ]
  },
  {
   "cell_type": "code",
   "execution_count": 99,
   "metadata": {},
   "outputs": [
    {
     "name": "stdout",
     "output_type": "stream",
     "text": [
      "Ttest_relResult(statistic=6.115459562037655, pvalue=1.1609127302311947e-06)\n",
      "\n",
      "Ttest_relResult(statistic=5.1154274647010665, pvalue=3.504930556524579e-05)\n",
      "\n"
     ]
    }
   ],
   "source": [
    "for l in restricted_concat.keys():\n",
    "    d = restricted_concat[l]\n",
    "\n",
    "    Cats = []\n",
    "    Novs = []\n",
    "    for s in d['Subject'].unique():\n",
    "\n",
    "        Cats.append(d[(d['Subject']==s) & (d['Attention Level'].isin(['Side','Full']))]['Familiarity Rating'].mean())\n",
    "        Novs.append(d[(d['Subject']==s) & (d['Attention Level']=='Novel')]['Familiarity Rating'].mean())\n",
    "\n",
    "\n",
    "    print(scipy.stats.ttest_rel(Cats, Novs))\n",
    "    print()"
   ]
  },
  {
   "cell_type": "markdown",
   "metadata": {},
   "source": [
    "# Regression and Plot"
   ]
  },
  {
   "cell_type": "code",
   "execution_count": 100,
   "metadata": {},
   "outputs": [],
   "source": [
    "def add_gaze(df):\n",
    "\n",
    "    '''\n",
    "    input: df containing pres and mem from single run\n",
    "    output: df with string in 'Attention Level' column in each Memory trial row\n",
    "    '''\n",
    "\n",
    "    for index,row in df.iterrows():\n",
    "        if row['Trial Type']=='Memory':\n",
    "            mem_image = row['Memory Image']\n",
    "            for cue in ['Cued ', 'Uncued ']:\n",
    "                for cat in ['Face', 'Place']:\n",
    "                    if df.loc[df[cue+cat] == mem_image].shape[0]!=0:\n",
    "                        df['av_x_coord'][index]=df.loc[df[cue+cat] == mem_image]['av_x_coord']\n",
    "                        df['Cued Side'][index] = df.loc[df[cue+cat] == mem_image]['Cued Side'].item()\n",
    "\n",
    "    mem_mask = df['Trial Type']=='Memory'\n",
    "    df.loc[mem_mask,'av_x_coord'] = df.loc[mem_mask,'av_x_coord'].fillna(np.nan)\n",
    "\n",
    "    return(df)\n"
   ]
  },
  {
   "cell_type": "code",
   "execution_count": 101,
   "metadata": {},
   "outputs": [],
   "source": [
    "#pd.concat(gaze_added_mem).to_csv('gaze_added_mem_exp1.csv')\n",
    "#gaze_added_mem = pd.DataFrame.from_csv('gaze_added_mem_exp1.csv')"
   ]
  },
  {
   "cell_type": "code",
   "execution_count": 102,
   "metadata": {},
   "outputs": [],
   "source": [
    "#gaze_mem = pd.concat(gaze_added_mem)"
   ]
  },
  {
   "cell_type": "code",
   "execution_count": null,
   "metadata": {},
   "outputs": [],
   "source": [
    "gaze_added_mem = []\n",
    "gaze_added_mem_dict = {}\n",
    "\n",
    "for data,label in zip([exp1, exp2],['exp1','exp2']):\n",
    "\n",
    "    for s in data['Subject'].unique():\n",
    "        for r in data['Run'].unique():\n",
    "            gaze_added_mem.append(add_gaze(data[(data['Subject']==s) & (data['Run']==r)]))\n",
    "\n",
    "    gaze_mem.loc[gaze_mem['Attention Level']=='Novel','av_x_coord']=0\n",
    "\n",
    "    gaze_mem['gaze_towards'] = gaze_mem['av_x_coord'] - (59.8/2)\n",
    "\n",
    "    gaze_mem.loc[(gaze_mem['Cued Side']=='<') \n",
    "                 & (gaze_mem['Attention Level'].isin(['Full', 'Side'])), 'gaze_towards'] = -gaze_mem[(gaze_mem['Cued Side']=='<') \n",
    "                                                                                                          & (gaze_mem['Attention Level'].isin(['Full', 'Side']))]['gaze_towards']\n",
    "\n",
    "    gaze_mem.loc[(gaze_mem['Cued Side']=='>') \n",
    "                 & (gaze_mem['Attention Level'].isin(['None', 'Category'])), 'gaze_towards'] = -gaze_mem[(gaze_mem['Cued Side']=='>') & (gaze_mem['Attention Level'].isin(['None', 'Category'])), 'gaze_towards']\n",
    "\n",
    "    gaze_mem_grp = gaze_mem.groupby(['Subject','Attention Level', 'Familiarity Rating','Trial Type'], as_index=False).mean()\n",
    "\n",
    "    gaze_added_mem[label] = gaze_mem\n"
   ]
  },
  {
   "cell_type": "markdown",
   "metadata": {},
   "source": [
    "# Plot"
   ]
  },
  {
   "cell_type": "code",
   "execution_count": 104,
   "metadata": {},
   "outputs": [
    {
     "ename": "NameError",
     "evalue": "name 'gaze_mem_grp' is not defined",
     "output_type": "error",
     "traceback": [
      "\u001b[0;31m---------------------------------------------------------------------------\u001b[0m",
      "\u001b[0;31mNameError\u001b[0m                                 Traceback (most recent call last)",
      "\u001b[0;32m<ipython-input-104-761aa52c8f63>\u001b[0m in \u001b[0;36m<module>\u001b[0;34m()\u001b[0m\n\u001b[1;32m      1\u001b[0m \u001b[0;31m# # scale by screen size\u001b[0m\u001b[0;34m\u001b[0m\u001b[0;34m\u001b[0m\u001b[0m\n\u001b[0;32m----> 2\u001b[0;31m \u001b[0mgaze_mem_grp\u001b[0m\u001b[0;34m[\u001b[0m\u001b[0;34m'scaled_gaze_towards'\u001b[0m\u001b[0;34m]\u001b[0m \u001b[0;34m=\u001b[0m \u001b[0mgaze_mem_grp\u001b[0m\u001b[0;34m[\u001b[0m\u001b[0;34m'gaze_towards'\u001b[0m\u001b[0;34m]\u001b[0m\u001b[0;34m/\u001b[0m\u001b[0;34m(\u001b[0m\u001b[0;36m59.8\u001b[0m\u001b[0;34m/\u001b[0m\u001b[0;36m2\u001b[0m\u001b[0;34m)\u001b[0m\u001b[0;34m\u001b[0m\u001b[0m\n\u001b[0m\u001b[1;32m      3\u001b[0m \u001b[0;34m\u001b[0m\u001b[0m\n\u001b[1;32m      4\u001b[0m \u001b[0;31m# plot\u001b[0m\u001b[0;34m\u001b[0m\u001b[0;34m\u001b[0m\u001b[0m\n\u001b[1;32m      5\u001b[0m \u001b[0msb\u001b[0m\u001b[0;34m.\u001b[0m\u001b[0mset_style\u001b[0m\u001b[0;34m(\u001b[0m\u001b[0;34m'white'\u001b[0m\u001b[0;34m)\u001b[0m\u001b[0;34m\u001b[0m\u001b[0m\n",
      "\u001b[0;31mNameError\u001b[0m: name 'gaze_mem_grp' is not defined"
     ]
    }
   ],
   "source": [
    "for label in ['exp1','exp2']:\n",
    "    \n",
    "    gaze_mem_grp = gaze_added_mem[label].groupby(['Subject','Attention Level', 'Familiarity Rating','Trial Type'], as_index=False).mean()\n",
    "\n",
    "    # scale by screen size\n",
    "    gaze_mem_grp['scaled_gaze_towards'] = gaze_mem_grp['gaze_towards']/(59.8/2)\n",
    "\n",
    "    # plot\n",
    "    sb.set_style('white')\n",
    "\n",
    "    f = sb.violinplot(x='Familiarity Rating', y='scaled_gaze_towards', \n",
    "                  data=gaze_mem_grp[gaze_mem_grp['Attention Level']!='Novel'], hue='Attention Level')\n",
    "\n",
    "    plt.grid(False)\n",
    "    plt.rc('xtick', labelsize=20)\n",
    "    plt.rc('ytick', labelsize=20)\n",
    "    plt.xlabel('Familiarity Rating',    fontsize = 20)\n",
    "    plt.ylabel('Horizontal Gaze Drift', fontsize = 20)\n",
    "    f.set(ylim=(-1, 1))\n",
    "    plt.savefig('Exp1_scaled_horiz_gaze.pdf')\n"
   ]
  },
  {
   "cell_type": "markdown",
   "metadata": {},
   "source": [
    "# Regression"
   ]
  },
  {
   "cell_type": "code",
   "execution_count": 517,
   "metadata": {},
   "outputs": [],
   "source": [
    "gaze_mem_grp.loc[(gaze_mem_grp['Attention Level']=='Novel'),'gaze_towards']=0\n",
    "gaze_mem_grp['FamiliarityRating'] = gaze_mem_grp['Familiarity Rating']\n",
    "gaze_mem_grp = gaze_mem_grp[gaze_mem_grp['Trial Type']=='Memory']\n",
    "d = []\n",
    "\n",
    "for subject in gaze_mem_grp['Subject'].unique(): \n",
    "\n",
    "    data = gaze_mem_grp[(gaze_mem_grp['Subject']==subject)]\n",
    "    reg  = smf.ols(formula = \"FamiliarityRating ~ gaze_towards\", data = data).fit()\n",
    "    data = data.reset_index()\n",
    "    d.append(pd.concat([data, pd.DataFrame({'gaze_resid':reg.resid})], axis=1))\n",
    "    #print(data)\n",
    "gaze_reg = pd.concat(d)"
   ]
  },
  {
   "cell_type": "code",
   "execution_count": 519,
   "metadata": {},
   "outputs": [],
   "source": []
  }
 ],
 "metadata": {
  "kernelspec": {
   "display_name": "Python 3",
   "language": "python",
   "name": "python3"
  },
  "language_info": {
   "codemirror_mode": {
    "name": "ipython",
    "version": 3
   },
   "file_extension": ".py",
   "mimetype": "text/x-python",
   "name": "python",
   "nbconvert_exporter": "python",
   "pygments_lexer": "ipython3",
   "version": "3.6.4"
  }
 },
 "nbformat": 4,
 "nbformat_minor": 2
}
